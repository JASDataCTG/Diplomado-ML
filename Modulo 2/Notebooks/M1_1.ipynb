{
 "cells": [
  {
   "cell_type": "markdown",
   "id": "desirable-puppy",
   "metadata": {},
   "source": [
    "|  Atributo  |        Descripción         |\n",
    "|------------|----------------------------|\n",
    "|precio|Valor de la propiedad en miles de US$|\n",
    "|tasa_crimen|Proporción de crimenes en el vecindario|\n",
    "|area_resid|Proporcion del área residencial en la localidad|\n",
    "|cal_aire|Calidad del aire en el vecindario|\n",
    "|num_hab|Promedio de habitaciones en las propiedades de la localidad|\n",
    "|edad|Antiguedad de la casa en años|\n",
    "|dist1|Distancia al centro de empleo 1|\n",
    "|dist2|Distancia al centro de empleo 2|\n",
    "|dist3|Distancia al centro de empleo 3|\n",
    "|dist4|Distancia al centro de empleo 4|\n",
    "|prof_mil|Cantidad de profesores por cada 1.000 habitantes de la localidad|\n",
    "|p_pobreza|Proporción de pobreza en la localidad|\n",
    "|aeropuerto|Existencia de aropuerto en la localidad (SI/NO)|\n",
    "|n_cam_hos|Número de camas en los hospitales de la localidad por cada 1.000 habitantes|\n",
    "|n_hab_hotel|Número de habitaciones de hotel en la localidad por cada 1.000 habitantes|\n",
    "|cuerpo_agua|Cuerpo natural de agua más cercano|\n",
    "|lluvia_ano|Promedio anual de centimetros de agua lluvia en la localidad|\n",
    "|ter_bus|Existencia de terminal de buses en la localidad (SI/NO)|\n",
    "|parque|Proporción de tierra asignada en la localidad para parques|"
   ]
  }
 ],
 "metadata": {
  "kernelspec": {
   "display_name": "Python 3",
   "language": "python",
   "name": "python3"
  },
  "language_info": {
   "codemirror_mode": {
    "name": "ipython",
    "version": 3
   },
   "file_extension": ".py",
   "mimetype": "text/x-python",
   "name": "python",
   "nbconvert_exporter": "python",
   "pygments_lexer": "ipython3",
   "version": "3.9.5"
  }
 },
 "nbformat": 4,
 "nbformat_minor": 5
}
