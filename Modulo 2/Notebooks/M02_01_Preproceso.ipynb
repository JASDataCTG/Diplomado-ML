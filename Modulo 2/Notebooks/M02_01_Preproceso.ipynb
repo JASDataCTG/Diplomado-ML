{
 "cells": [
  {
   "cell_type": "markdown",
   "id": "wired-release",
   "metadata": {},
   "source": [
    "# Importación de datos y preparación"
   ]
  },
  {
   "cell_type": "markdown",
   "id": "d20f509d-7a34-4ae1-acbe-6c17e9e394a7",
   "metadata": {},
   "source": [
    "## Diccionario de datos\n",
    "\n",
    "|  Atributo  |        Descripción         |\n",
    "|------------|----------------------------|\n",
    "|precio|Valor de la propiedad en miles de US$|\n",
    "|tasa_crimen|Proporción de crimenes en el vecindario|\n",
    "|area_resid|Proporcion del área residencial en la localidad|\n",
    "|cal_aire|Calidad del aire en el vecindario|\n",
    "|num_hab|Promedio de habitaciones en las propiedades de la localidad|\n",
    "|edad|Antiguedad de la casa en años|\n",
    "|dist1|Distancia al centro de empleo 1|\n",
    "|dist2|Distancia al centro de empleo 2|\n",
    "|dist3|Distancia al centro de empleo 3|\n",
    "|dist4|Distancia al centro de empleo 4|\n",
    "|prof_mil|Cantidad de profesores por cada 1.000 habitantes de la localidad|\n",
    "|p_pobreza|Proporción de pobreza en la localidad|\n",
    "|aeropuerto|Existencia de aropuerto en la localidad (SI/NO)|\n",
    "|n_cam_hos|Número de camas en los hospitales de la localidad por cada 1.000 habitantes|\n",
    "|n_hab_hotel|Número de habitaciones de hotel en la localidad por cada 1.000 habitantes|\n",
    "|cuerpo_agua|Cuerpo natural de agua más cercano|\n",
    "|lluvia_ano|Promedio anual de centimetros de agua lluvia en la localidad|\n",
    "|ter_bus|Existencia de terminal de buses en la localidad (SI/NO)|\n",
    "|parque|Proporción de tierra asignada en la localidad para parques|"
   ]
  },
  {
   "cell_type": "code",
   "execution_count": 1,
   "id": "correct-processing",
   "metadata": {},
   "outputs": [],
   "source": [
    "import os # Modulo que permite que Python pueda tener acceso a las operaciones del sistema operativo"
   ]
  },
  {
   "cell_type": "code",
   "execution_count": 2,
   "id": "generic-hypothetical",
   "metadata": {},
   "outputs": [
    {
     "data": {
      "text/plain": [
       "'C:\\\\Users\\\\jacos\\\\Documents\\\\Modulo 2'"
      ]
     },
     "execution_count": 2,
     "metadata": {},
     "output_type": "execute_result"
    }
   ],
   "source": [
    "os.getcwd() # Muestra el directorio de trabajo actual"
   ]
  },
  {
   "cell_type": "code",
   "execution_count": 3,
   "id": "parallel-riverside",
   "metadata": {},
   "outputs": [],
   "source": [
    "os.chdir('C:/Users/jacos/Documents/Modulo 2') # Cambia la ubicación del directorio de trabajo"
   ]
  },
  {
   "cell_type": "code",
   "execution_count": 4,
   "id": "swiss-nicaragua",
   "metadata": {},
   "outputs": [
    {
     "data": {
      "text/plain": [
       "'C:\\\\Users\\\\jacos\\\\Documents\\\\Modulo 2'"
      ]
     },
     "execution_count": 4,
     "metadata": {},
     "output_type": "execute_result"
    }
   ],
   "source": [
    "os.getcwd()"
   ]
  },
  {
   "cell_type": "code",
   "execution_count": 5,
   "id": "involved-travel",
   "metadata": {},
   "outputs": [],
   "source": [
    "import numpy as np # https://numpy.org/\n",
    "import pandas as pd # https://pandas.pydata.org/\n",
    "import seaborn as sns # https://seaborn.pydata.org/"
   ]
  },
  {
   "cell_type": "code",
   "execution_count": 6,
   "id": "precious-pharmacy",
   "metadata": {},
   "outputs": [],
   "source": [
    "df = pd.read_csv('https://raw.githubusercontent.com/JASDataCTG/Diplomado-ML/main/Modulo%202/Datasets/precio_casa_reg.csv', header = 0)"
   ]
  },
  {
   "cell_type": "code",
   "execution_count": 7,
   "id": "unusual-basic",
   "metadata": {},
   "outputs": [
    {
     "data": {
      "text/html": [
       "<div>\n",
       "<style scoped>\n",
       "    .dataframe tbody tr th:only-of-type {\n",
       "        vertical-align: middle;\n",
       "    }\n",
       "\n",
       "    .dataframe tbody tr th {\n",
       "        vertical-align: top;\n",
       "    }\n",
       "\n",
       "    .dataframe thead th {\n",
       "        text-align: right;\n",
       "    }\n",
       "</style>\n",
       "<table border=\"1\" class=\"dataframe\">\n",
       "  <thead>\n",
       "    <tr style=\"text-align: right;\">\n",
       "      <th></th>\n",
       "      <th>precio</th>\n",
       "      <th>tasa_crimen</th>\n",
       "      <th>area_resid</th>\n",
       "      <th>cal_aire</th>\n",
       "      <th>num_hab</th>\n",
       "      <th>edad</th>\n",
       "      <th>dist1</th>\n",
       "      <th>dist2</th>\n",
       "      <th>dist3</th>\n",
       "      <th>dist4</th>\n",
       "      <th>prof_mil</th>\n",
       "      <th>p_pobreza</th>\n",
       "      <th>aeropuerto</th>\n",
       "      <th>n_cam_hos</th>\n",
       "      <th>n_hab_hotel</th>\n",
       "      <th>cuerpo_agua</th>\n",
       "      <th>lluvia_ano</th>\n",
       "      <th>ter_bus</th>\n",
       "      <th>parque</th>\n",
       "    </tr>\n",
       "  </thead>\n",
       "  <tbody>\n",
       "    <tr>\n",
       "      <th>0</th>\n",
       "      <td>24.0</td>\n",
       "      <td>0.00632</td>\n",
       "      <td>32.31</td>\n",
       "      <td>0.538</td>\n",
       "      <td>6.575</td>\n",
       "      <td>65.2</td>\n",
       "      <td>4.35</td>\n",
       "      <td>3.81</td>\n",
       "      <td>4.18</td>\n",
       "      <td>4.01</td>\n",
       "      <td>24.7</td>\n",
       "      <td>4.98</td>\n",
       "      <td>SI</td>\n",
       "      <td>5.480</td>\n",
       "      <td>11.1920</td>\n",
       "      <td>Rio</td>\n",
       "      <td>23</td>\n",
       "      <td>SI</td>\n",
       "      <td>0.049347</td>\n",
       "    </tr>\n",
       "    <tr>\n",
       "      <th>1</th>\n",
       "      <td>21.6</td>\n",
       "      <td>0.02731</td>\n",
       "      <td>37.07</td>\n",
       "      <td>0.469</td>\n",
       "      <td>6.421</td>\n",
       "      <td>78.9</td>\n",
       "      <td>4.99</td>\n",
       "      <td>4.70</td>\n",
       "      <td>5.12</td>\n",
       "      <td>5.06</td>\n",
       "      <td>22.2</td>\n",
       "      <td>9.14</td>\n",
       "      <td>NO</td>\n",
       "      <td>7.332</td>\n",
       "      <td>12.1728</td>\n",
       "      <td>Lago</td>\n",
       "      <td>42</td>\n",
       "      <td>SI</td>\n",
       "      <td>0.046146</td>\n",
       "    </tr>\n",
       "    <tr>\n",
       "      <th>2</th>\n",
       "      <td>34.7</td>\n",
       "      <td>0.02729</td>\n",
       "      <td>37.07</td>\n",
       "      <td>0.469</td>\n",
       "      <td>7.185</td>\n",
       "      <td>61.1</td>\n",
       "      <td>5.03</td>\n",
       "      <td>4.86</td>\n",
       "      <td>5.01</td>\n",
       "      <td>4.97</td>\n",
       "      <td>22.2</td>\n",
       "      <td>4.03</td>\n",
       "      <td>NO</td>\n",
       "      <td>7.394</td>\n",
       "      <td>101.1200</td>\n",
       "      <td>Ninguno</td>\n",
       "      <td>38</td>\n",
       "      <td>SI</td>\n",
       "      <td>0.045764</td>\n",
       "    </tr>\n",
       "    <tr>\n",
       "      <th>3</th>\n",
       "      <td>33.4</td>\n",
       "      <td>0.03237</td>\n",
       "      <td>32.18</td>\n",
       "      <td>0.458</td>\n",
       "      <td>6.998</td>\n",
       "      <td>45.8</td>\n",
       "      <td>6.21</td>\n",
       "      <td>5.93</td>\n",
       "      <td>6.16</td>\n",
       "      <td>5.96</td>\n",
       "      <td>21.3</td>\n",
       "      <td>2.94</td>\n",
       "      <td>SI</td>\n",
       "      <td>9.268</td>\n",
       "      <td>11.2672</td>\n",
       "      <td>Lago</td>\n",
       "      <td>45</td>\n",
       "      <td>SI</td>\n",
       "      <td>0.047151</td>\n",
       "    </tr>\n",
       "    <tr>\n",
       "      <th>4</th>\n",
       "      <td>36.2</td>\n",
       "      <td>0.06905</td>\n",
       "      <td>32.18</td>\n",
       "      <td>0.458</td>\n",
       "      <td>7.147</td>\n",
       "      <td>54.2</td>\n",
       "      <td>6.16</td>\n",
       "      <td>5.86</td>\n",
       "      <td>6.37</td>\n",
       "      <td>5.86</td>\n",
       "      <td>21.3</td>\n",
       "      <td>5.33</td>\n",
       "      <td>NO</td>\n",
       "      <td>8.824</td>\n",
       "      <td>11.2896</td>\n",
       "      <td>Lago</td>\n",
       "      <td>55</td>\n",
       "      <td>SI</td>\n",
       "      <td>0.039474</td>\n",
       "    </tr>\n",
       "  </tbody>\n",
       "</table>\n",
       "</div>"
      ],
      "text/plain": [
       "   precio  tasa_crimen  area_resid  cal_aire  num_hab  edad  dist1  dist2  \\\n",
       "0    24.0      0.00632       32.31     0.538    6.575  65.2   4.35   3.81   \n",
       "1    21.6      0.02731       37.07     0.469    6.421  78.9   4.99   4.70   \n",
       "2    34.7      0.02729       37.07     0.469    7.185  61.1   5.03   4.86   \n",
       "3    33.4      0.03237       32.18     0.458    6.998  45.8   6.21   5.93   \n",
       "4    36.2      0.06905       32.18     0.458    7.147  54.2   6.16   5.86   \n",
       "\n",
       "   dist3  dist4  prof_mil  p_pobreza aeropuerto  n_cam_hos  n_hab_hotel  \\\n",
       "0   4.18   4.01      24.7       4.98         SI      5.480      11.1920   \n",
       "1   5.12   5.06      22.2       9.14         NO      7.332      12.1728   \n",
       "2   5.01   4.97      22.2       4.03         NO      7.394     101.1200   \n",
       "3   6.16   5.96      21.3       2.94         SI      9.268      11.2672   \n",
       "4   6.37   5.86      21.3       5.33         NO      8.824      11.2896   \n",
       "\n",
       "  cuerpo_agua  lluvia_ano ter_bus    parque  \n",
       "0         Rio          23      SI  0.049347  \n",
       "1        Lago          42      SI  0.046146  \n",
       "2     Ninguno          38      SI  0.045764  \n",
       "3        Lago          45      SI  0.047151  \n",
       "4        Lago          55      SI  0.039474  "
      ]
     },
     "execution_count": 7,
     "metadata": {},
     "output_type": "execute_result"
    }
   ],
   "source": [
    "df.head() # Muestra las primeras cinco filas del dataframe por defecto"
   ]
  },
  {
   "cell_type": "code",
   "execution_count": 8,
   "id": "hydraulic-white",
   "metadata": {},
   "outputs": [
    {
     "data": {
      "text/plain": [
       "(506, 19)"
      ]
     },
     "execution_count": 8,
     "metadata": {},
     "output_type": "execute_result"
    }
   ],
   "source": [
    "df.shape # Muestra las filas y columnas del dataframe"
   ]
  },
  {
   "cell_type": "code",
   "execution_count": 9,
   "id": "bright-supply",
   "metadata": {},
   "outputs": [
    {
     "name": "stdout",
     "output_type": "stream",
     "text": [
      "<class 'pandas.core.frame.DataFrame'>\n",
      "RangeIndex: 506 entries, 0 to 505\n",
      "Data columns (total 19 columns):\n",
      " #   Column       Non-Null Count  Dtype  \n",
      "---  ------       --------------  -----  \n",
      " 0   precio       506 non-null    float64\n",
      " 1   tasa_crimen  506 non-null    float64\n",
      " 2   area_resid   506 non-null    float64\n",
      " 3   cal_aire     506 non-null    float64\n",
      " 4   num_hab      506 non-null    float64\n",
      " 5   edad         506 non-null    float64\n",
      " 6   dist1        506 non-null    float64\n",
      " 7   dist2        506 non-null    float64\n",
      " 8   dist3        506 non-null    float64\n",
      " 9   dist4        506 non-null    float64\n",
      " 10  prof_mil     506 non-null    float64\n",
      " 11  p_pobreza    506 non-null    float64\n",
      " 12  aeropuerto   506 non-null    object \n",
      " 13  n_cam_hos    498 non-null    float64\n",
      " 14  n_hab_hotel  506 non-null    float64\n",
      " 15  cuerpo_agua  506 non-null    object \n",
      " 16  lluvia_ano   506 non-null    int64  \n",
      " 17  ter_bus      506 non-null    object \n",
      " 18  parque       506 non-null    float64\n",
      "dtypes: float64(15), int64(1), object(3)\n",
      "memory usage: 75.2+ KB\n"
     ]
    }
   ],
   "source": [
    "df.info() # Presenta información sobre las variables y sus tipos de datos"
   ]
  },
  {
   "cell_type": "markdown",
   "id": "considerable-disclosure",
   "metadata": {},
   "source": [
    "# Descripción de las variables\n",
    "![Asimetría](asimetria.jpg)\n",
    "![Curtosis](curtosis.jpg)"
   ]
  },
  {
   "cell_type": "code",
   "execution_count": 10,
   "id": "romantic-period",
   "metadata": {},
   "outputs": [
    {
     "data": {
      "text/html": [
       "<div>\n",
       "<style scoped>\n",
       "    .dataframe tbody tr th:only-of-type {\n",
       "        vertical-align: middle;\n",
       "    }\n",
       "\n",
       "    .dataframe tbody tr th {\n",
       "        vertical-align: top;\n",
       "    }\n",
       "\n",
       "    .dataframe thead th {\n",
       "        text-align: right;\n",
       "    }\n",
       "</style>\n",
       "<table border=\"1\" class=\"dataframe\">\n",
       "  <thead>\n",
       "    <tr style=\"text-align: right;\">\n",
       "      <th></th>\n",
       "      <th>precio</th>\n",
       "      <th>tasa_crimen</th>\n",
       "      <th>area_resid</th>\n",
       "      <th>cal_aire</th>\n",
       "      <th>num_hab</th>\n",
       "      <th>edad</th>\n",
       "      <th>dist1</th>\n",
       "      <th>dist2</th>\n",
       "      <th>dist3</th>\n",
       "      <th>dist4</th>\n",
       "      <th>prof_mil</th>\n",
       "      <th>p_pobreza</th>\n",
       "      <th>n_cam_hos</th>\n",
       "      <th>n_hab_hotel</th>\n",
       "      <th>lluvia_ano</th>\n",
       "      <th>parque</th>\n",
       "    </tr>\n",
       "  </thead>\n",
       "  <tbody>\n",
       "    <tr>\n",
       "      <th>count</th>\n",
       "      <td>506.000000</td>\n",
       "      <td>506.000000</td>\n",
       "      <td>506.000000</td>\n",
       "      <td>506.000000</td>\n",
       "      <td>506.000000</td>\n",
       "      <td>506.000000</td>\n",
       "      <td>506.000000</td>\n",
       "      <td>506.000000</td>\n",
       "      <td>506.000000</td>\n",
       "      <td>506.000000</td>\n",
       "      <td>506.000000</td>\n",
       "      <td>506.000000</td>\n",
       "      <td>498.000000</td>\n",
       "      <td>506.000000</td>\n",
       "      <td>506.000000</td>\n",
       "      <td>506.000000</td>\n",
       "    </tr>\n",
       "    <tr>\n",
       "      <th>mean</th>\n",
       "      <td>22.528854</td>\n",
       "      <td>3.613524</td>\n",
       "      <td>41.136779</td>\n",
       "      <td>0.554695</td>\n",
       "      <td>6.284634</td>\n",
       "      <td>68.574901</td>\n",
       "      <td>3.971996</td>\n",
       "      <td>3.628775</td>\n",
       "      <td>3.960672</td>\n",
       "      <td>3.618972</td>\n",
       "      <td>21.544466</td>\n",
       "      <td>12.653063</td>\n",
       "      <td>7.899767</td>\n",
       "      <td>13.041605</td>\n",
       "      <td>39.181818</td>\n",
       "      <td>0.054454</td>\n",
       "    </tr>\n",
       "    <tr>\n",
       "      <th>std</th>\n",
       "      <td>9.182176</td>\n",
       "      <td>8.601545</td>\n",
       "      <td>6.860353</td>\n",
       "      <td>0.115878</td>\n",
       "      <td>0.702617</td>\n",
       "      <td>28.148861</td>\n",
       "      <td>2.108532</td>\n",
       "      <td>2.108580</td>\n",
       "      <td>2.119797</td>\n",
       "      <td>2.099203</td>\n",
       "      <td>2.164946</td>\n",
       "      <td>7.141062</td>\n",
       "      <td>1.476683</td>\n",
       "      <td>5.238957</td>\n",
       "      <td>12.513697</td>\n",
       "      <td>0.010632</td>\n",
       "    </tr>\n",
       "    <tr>\n",
       "      <th>min</th>\n",
       "      <td>5.000000</td>\n",
       "      <td>0.006320</td>\n",
       "      <td>30.460000</td>\n",
       "      <td>0.385000</td>\n",
       "      <td>3.561000</td>\n",
       "      <td>2.900000</td>\n",
       "      <td>1.130000</td>\n",
       "      <td>0.920000</td>\n",
       "      <td>1.150000</td>\n",
       "      <td>0.730000</td>\n",
       "      <td>18.000000</td>\n",
       "      <td>1.730000</td>\n",
       "      <td>5.268000</td>\n",
       "      <td>10.057600</td>\n",
       "      <td>3.000000</td>\n",
       "      <td>0.033292</td>\n",
       "    </tr>\n",
       "    <tr>\n",
       "      <th>25%</th>\n",
       "      <td>17.025000</td>\n",
       "      <td>0.082045</td>\n",
       "      <td>35.190000</td>\n",
       "      <td>0.449000</td>\n",
       "      <td>5.885500</td>\n",
       "      <td>45.025000</td>\n",
       "      <td>2.270000</td>\n",
       "      <td>1.940000</td>\n",
       "      <td>2.232500</td>\n",
       "      <td>1.940000</td>\n",
       "      <td>19.800000</td>\n",
       "      <td>6.950000</td>\n",
       "      <td>6.634500</td>\n",
       "      <td>11.189800</td>\n",
       "      <td>28.000000</td>\n",
       "      <td>0.046464</td>\n",
       "    </tr>\n",
       "    <tr>\n",
       "      <th>50%</th>\n",
       "      <td>21.200000</td>\n",
       "      <td>0.256510</td>\n",
       "      <td>39.690000</td>\n",
       "      <td>0.538000</td>\n",
       "      <td>6.208500</td>\n",
       "      <td>77.500000</td>\n",
       "      <td>3.385000</td>\n",
       "      <td>3.010000</td>\n",
       "      <td>3.375000</td>\n",
       "      <td>3.070000</td>\n",
       "      <td>20.950000</td>\n",
       "      <td>11.360000</td>\n",
       "      <td>7.999000</td>\n",
       "      <td>12.720000</td>\n",
       "      <td>39.000000</td>\n",
       "      <td>0.053507</td>\n",
       "    </tr>\n",
       "    <tr>\n",
       "      <th>75%</th>\n",
       "      <td>25.000000</td>\n",
       "      <td>3.677083</td>\n",
       "      <td>48.100000</td>\n",
       "      <td>0.624000</td>\n",
       "      <td>6.623500</td>\n",
       "      <td>94.075000</td>\n",
       "      <td>5.367500</td>\n",
       "      <td>4.992500</td>\n",
       "      <td>5.407500</td>\n",
       "      <td>4.985000</td>\n",
       "      <td>22.600000</td>\n",
       "      <td>16.955000</td>\n",
       "      <td>9.088000</td>\n",
       "      <td>14.170800</td>\n",
       "      <td>50.000000</td>\n",
       "      <td>0.061397</td>\n",
       "    </tr>\n",
       "    <tr>\n",
       "      <th>max</th>\n",
       "      <td>50.000000</td>\n",
       "      <td>88.976200</td>\n",
       "      <td>57.740000</td>\n",
       "      <td>0.871000</td>\n",
       "      <td>8.780000</td>\n",
       "      <td>100.000000</td>\n",
       "      <td>12.320000</td>\n",
       "      <td>11.930000</td>\n",
       "      <td>12.320000</td>\n",
       "      <td>11.940000</td>\n",
       "      <td>27.400000</td>\n",
       "      <td>37.970000</td>\n",
       "      <td>10.876000</td>\n",
       "      <td>101.120000</td>\n",
       "      <td>60.000000</td>\n",
       "      <td>0.086711</td>\n",
       "    </tr>\n",
       "  </tbody>\n",
       "</table>\n",
       "</div>"
      ],
      "text/plain": [
       "           precio  tasa_crimen  area_resid    cal_aire     num_hab  \\\n",
       "count  506.000000   506.000000  506.000000  506.000000  506.000000   \n",
       "mean    22.528854     3.613524   41.136779    0.554695    6.284634   \n",
       "std      9.182176     8.601545    6.860353    0.115878    0.702617   \n",
       "min      5.000000     0.006320   30.460000    0.385000    3.561000   \n",
       "25%     17.025000     0.082045   35.190000    0.449000    5.885500   \n",
       "50%     21.200000     0.256510   39.690000    0.538000    6.208500   \n",
       "75%     25.000000     3.677083   48.100000    0.624000    6.623500   \n",
       "max     50.000000    88.976200   57.740000    0.871000    8.780000   \n",
       "\n",
       "             edad       dist1       dist2       dist3       dist4    prof_mil  \\\n",
       "count  506.000000  506.000000  506.000000  506.000000  506.000000  506.000000   \n",
       "mean    68.574901    3.971996    3.628775    3.960672    3.618972   21.544466   \n",
       "std     28.148861    2.108532    2.108580    2.119797    2.099203    2.164946   \n",
       "min      2.900000    1.130000    0.920000    1.150000    0.730000   18.000000   \n",
       "25%     45.025000    2.270000    1.940000    2.232500    1.940000   19.800000   \n",
       "50%     77.500000    3.385000    3.010000    3.375000    3.070000   20.950000   \n",
       "75%     94.075000    5.367500    4.992500    5.407500    4.985000   22.600000   \n",
       "max    100.000000   12.320000   11.930000   12.320000   11.940000   27.400000   \n",
       "\n",
       "        p_pobreza   n_cam_hos  n_hab_hotel  lluvia_ano      parque  \n",
       "count  506.000000  498.000000   506.000000  506.000000  506.000000  \n",
       "mean    12.653063    7.899767    13.041605   39.181818    0.054454  \n",
       "std      7.141062    1.476683     5.238957   12.513697    0.010632  \n",
       "min      1.730000    5.268000    10.057600    3.000000    0.033292  \n",
       "25%      6.950000    6.634500    11.189800   28.000000    0.046464  \n",
       "50%     11.360000    7.999000    12.720000   39.000000    0.053507  \n",
       "75%     16.955000    9.088000    14.170800   50.000000    0.061397  \n",
       "max     37.970000   10.876000   101.120000   60.000000    0.086711  "
      ]
     },
     "execution_count": 10,
     "metadata": {},
     "output_type": "execute_result"
    }
   ],
   "source": [
    "df.describe() # Ver los estadísticos descriptivos de los atributos numéricos"
   ]
  },
  {
   "cell_type": "code",
   "execution_count": 11,
   "id": "laughing-cooler",
   "metadata": {},
   "outputs": [
    {
     "data": {
      "text/plain": [
       "<seaborn.axisgrid.JointGrid at 0x27bd2133610>"
      ]
     },
     "execution_count": 11,
     "metadata": {},
     "output_type": "execute_result"
    },
    {
     "data": {
      "image/png": "[encoded data removed]",
      "text/plain": [
       "<Figure size 432x432 with 3 Axes>"
      ]
     },
     "metadata": {
      "needs_background": "light"
     },
     "output_type": "display_data"
    }
   ],
   "source": [
    "sns.jointplot(x = df['n_hab_hotel'], y = df['precio']) # Visualizar la distribución de las variables y ver la nube de puntos (x,y)"
   ]
  },
  {
   "cell_type": "code",
   "execution_count": 12,
   "id": "stylish-steel",
   "metadata": {},
   "outputs": [
    {
     "data": {
      "text/plain": [
       "<seaborn.axisgrid.JointGrid at 0x27bd424dbe0>"
      ]
     },
     "execution_count": 12,
     "metadata": {},
     "output_type": "execute_result"
    },
    {
     "data": {
      "image/png": "[encoded data removed]",
      "text/plain": [
       "<Figure size 432x432 with 3 Axes>"
      ]
     },
     "metadata": {
      "needs_background": "light"
     },
     "output_type": "display_data"
    }
   ],
   "source": [
    "sns.jointplot(x = df['lluvia_ano'], y = df['precio'])"
   ]
  },
  {
   "cell_type": "code",
   "execution_count": 13,
   "id": "broke-clear",
   "metadata": {},
   "outputs": [
    {
     "data": {
      "text/plain": [
       "<AxesSubplot:xlabel='aeropuerto', ylabel='count'>"
      ]
     },
     "execution_count": 13,
     "metadata": {},
     "output_type": "execute_result"
    },
    {
     "data": {
      "image/png": "[encoded data removed]",
      "text/plain": [
       "<Figure size 432x288 with 1 Axes>"
      ]
     },
     "metadata": {
      "needs_background": "light"
     },
     "output_type": "display_data"
    }
   ],
   "source": [
    "sns.countplot(x = df['aeropuerto']) # Visualizamos un diagrama de barras de las variables categóricas con countplot"
   ]
  },
  {
   "cell_type": "code",
   "execution_count": 14,
   "id": "virtual-graphics",
   "metadata": {},
   "outputs": [
    {
     "data": {
      "text/plain": [
       "<AxesSubplot:xlabel='cuerpo_agua', ylabel='count'>"
      ]
     },
     "execution_count": 14,
     "metadata": {},
     "output_type": "execute_result"
    },
    {
     "data": {
      "image/png": "[encoded data removed]",
      "text/plain": [
       "<Figure size 432x288 with 1 Axes>"
      ]
     },
     "metadata": {
      "needs_background": "light"
     },
     "output_type": "display_data"
    }
   ],
   "source": [
    "sns.countplot(x = df['cuerpo_agua'], palette = 'dark')"
   ]
  },
  {
   "cell_type": "code",
   "execution_count": 15,
   "id": "ranging-registrar",
   "metadata": {},
   "outputs": [
    {
     "data": {
      "text/plain": [
       "<AxesSubplot:xlabel='ter_bus', ylabel='count'>"
      ]
     },
     "execution_count": 15,
     "metadata": {},
     "output_type": "execute_result"
    },
    {
     "data": {
      "image/png": "[encoded data removed]",
      "text/plain": [
       "<Figure size 432x288 with 1 Axes>"
      ]
     },
     "metadata": {
      "needs_background": "light"
     },
     "output_type": "display_data"
    }
   ],
   "source": [
    "sns.countplot(x = df['ter_bus'], palette = 'dark')"
   ]
  },
  {
   "cell_type": "code",
   "execution_count": 16,
   "id": "smart-tragedy",
   "metadata": {},
   "outputs": [],
   "source": [
    "#g = sns.PairGrid(df)\n",
    "#g.map(sns.scatterplot)\n",
    "#g2 = g.add_legend()\n",
    "#g2.savefig('nube_puntos.png')"
   ]
  },
  {
   "cell_type": "markdown",
   "id": "large-glory",
   "metadata": {},
   "source": [
    "### Hallazgos en el análisis de los datos\n",
    "\n",
    "* El atributo n_cam_hos (números de cama en los hospitales) tiene valores nulos\n",
    "* Outlier evidentes en los estadísticos descriptivos del atributo tasa_crimen\n",
    "* Se pueden visualizar outliers en los atributos lluvia_ano y n_hab_hotel\n",
    "* La variable term_bus tiene un solo valor"
   ]
  },
  {
   "cell_type": "markdown",
   "id": "missing-nature",
   "metadata": {},
   "source": [
    "# Tratamiendo de los outliers"
   ]
  },
  {
   "cell_type": "code",
   "execution_count": 17,
   "id": "noted-drawing",
   "metadata": {},
   "outputs": [
    {
     "data": {
      "text/plain": [
       "array([15.39952])"
      ]
     },
     "execution_count": 17,
     "metadata": {},
     "output_type": "execute_result"
    }
   ],
   "source": [
    "np.percentile(df.n_hab_hotel,[99]) #Teniendo los datos ordenados ahora ubicamos el valor que se ubica en el percentil 99"
   ]
  },
  {
   "cell_type": "code",
   "execution_count": 18,
   "id": "several-beverage",
   "metadata": {},
   "outputs": [
    {
     "data": {
      "text/plain": [
       "15.39952"
      ]
     },
     "execution_count": 18,
     "metadata": {},
     "output_type": "execute_result"
    }
   ],
   "source": [
    "np.percentile(df.n_hab_hotel,[99])[0] # Para ver el valor sin la notación de array (vector o arreglo),\n",
    "# y al ser un array de un solo elemento accedemos al valor ubicado en la posición 0 (Python indexa desde 0)"
   ]
  },
  {
   "cell_type": "code",
   "execution_count": 19,
   "id": "forbidden-stanford",
   "metadata": {},
   "outputs": [],
   "source": [
    "lim_sup = np.percentile(df.n_hab_hotel,[99])[0] # Ver el valor de referencia para establecer el piso superior del\n",
    "# método piso y techo"
   ]
  },
  {
   "cell_type": "code",
   "execution_count": 20,
   "id": "abandoned-stanford",
   "metadata": {},
   "outputs": [
    {
     "data": {
      "text/html": [
       "<div>\n",
       "<style scoped>\n",
       "    .dataframe tbody tr th:only-of-type {\n",
       "        vertical-align: middle;\n",
       "    }\n",
       "\n",
       "    .dataframe tbody tr th {\n",
       "        vertical-align: top;\n",
       "    }\n",
       "\n",
       "    .dataframe thead th {\n",
       "        text-align: right;\n",
       "    }\n",
       "</style>\n",
       "<table border=\"1\" class=\"dataframe\">\n",
       "  <thead>\n",
       "    <tr style=\"text-align: right;\">\n",
       "      <th></th>\n",
       "      <th>precio</th>\n",
       "      <th>tasa_crimen</th>\n",
       "      <th>area_resid</th>\n",
       "      <th>cal_aire</th>\n",
       "      <th>num_hab</th>\n",
       "      <th>edad</th>\n",
       "      <th>dist1</th>\n",
       "      <th>dist2</th>\n",
       "      <th>dist3</th>\n",
       "      <th>dist4</th>\n",
       "      <th>prof_mil</th>\n",
       "      <th>p_pobreza</th>\n",
       "      <th>aeropuerto</th>\n",
       "      <th>n_cam_hos</th>\n",
       "      <th>n_hab_hotel</th>\n",
       "      <th>cuerpo_agua</th>\n",
       "      <th>lluvia_ano</th>\n",
       "      <th>ter_bus</th>\n",
       "      <th>parque</th>\n",
       "    </tr>\n",
       "  </thead>\n",
       "  <tbody>\n",
       "    <tr>\n",
       "      <th>2</th>\n",
       "      <td>34.7</td>\n",
       "      <td>0.02729</td>\n",
       "      <td>37.07</td>\n",
       "      <td>0.4690</td>\n",
       "      <td>7.185</td>\n",
       "      <td>61.1</td>\n",
       "      <td>5.03</td>\n",
       "      <td>4.86</td>\n",
       "      <td>5.01</td>\n",
       "      <td>4.97</td>\n",
       "      <td>22.2</td>\n",
       "      <td>4.03</td>\n",
       "      <td>NO</td>\n",
       "      <td>7.394</td>\n",
       "      <td>101.12</td>\n",
       "      <td>Ninguno</td>\n",
       "      <td>38</td>\n",
       "      <td>SI</td>\n",
       "      <td>0.045764</td>\n",
       "    </tr>\n",
       "    <tr>\n",
       "      <th>166</th>\n",
       "      <td>50.0</td>\n",
       "      <td>2.01019</td>\n",
       "      <td>49.58</td>\n",
       "      <td>0.6050</td>\n",
       "      <td>7.929</td>\n",
       "      <td>96.2</td>\n",
       "      <td>2.11</td>\n",
       "      <td>1.91</td>\n",
       "      <td>2.31</td>\n",
       "      <td>1.86</td>\n",
       "      <td>25.3</td>\n",
       "      <td>3.70</td>\n",
       "      <td>SI</td>\n",
       "      <td>8.300</td>\n",
       "      <td>15.40</td>\n",
       "      <td>Rio</td>\n",
       "      <td>37</td>\n",
       "      <td>SI</td>\n",
       "      <td>0.052105</td>\n",
       "    </tr>\n",
       "    <tr>\n",
       "      <th>204</th>\n",
       "      <td>50.0</td>\n",
       "      <td>0.02009</td>\n",
       "      <td>32.68</td>\n",
       "      <td>0.4161</td>\n",
       "      <td>8.034</td>\n",
       "      <td>31.9</td>\n",
       "      <td>5.41</td>\n",
       "      <td>4.80</td>\n",
       "      <td>5.28</td>\n",
       "      <td>4.99</td>\n",
       "      <td>25.3</td>\n",
       "      <td>2.88</td>\n",
       "      <td>SI</td>\n",
       "      <td>8.900</td>\n",
       "      <td>15.40</td>\n",
       "      <td>Rio</td>\n",
       "      <td>51</td>\n",
       "      <td>SI</td>\n",
       "      <td>0.044178</td>\n",
       "    </tr>\n",
       "    <tr>\n",
       "      <th>267</th>\n",
       "      <td>50.0</td>\n",
       "      <td>0.57834</td>\n",
       "      <td>33.97</td>\n",
       "      <td>0.5750</td>\n",
       "      <td>8.297</td>\n",
       "      <td>67.0</td>\n",
       "      <td>2.60</td>\n",
       "      <td>2.13</td>\n",
       "      <td>2.43</td>\n",
       "      <td>2.52</td>\n",
       "      <td>27.0</td>\n",
       "      <td>7.44</td>\n",
       "      <td>SI</td>\n",
       "      <td>8.000</td>\n",
       "      <td>15.40</td>\n",
       "      <td>Ninguno</td>\n",
       "      <td>42</td>\n",
       "      <td>SI</td>\n",
       "      <td>0.063235</td>\n",
       "    </tr>\n",
       "    <tr>\n",
       "      <th>369</th>\n",
       "      <td>50.0</td>\n",
       "      <td>5.66998</td>\n",
       "      <td>48.10</td>\n",
       "      <td>0.6310</td>\n",
       "      <td>6.683</td>\n",
       "      <td>96.8</td>\n",
       "      <td>1.55</td>\n",
       "      <td>1.28</td>\n",
       "      <td>1.65</td>\n",
       "      <td>0.94</td>\n",
       "      <td>19.8</td>\n",
       "      <td>3.73</td>\n",
       "      <td>SI</td>\n",
       "      <td>6.700</td>\n",
       "      <td>15.40</td>\n",
       "      <td>Rio</td>\n",
       "      <td>58</td>\n",
       "      <td>SI</td>\n",
       "      <td>0.067477</td>\n",
       "    </tr>\n",
       "    <tr>\n",
       "      <th>423</th>\n",
       "      <td>13.4</td>\n",
       "      <td>7.05042</td>\n",
       "      <td>48.10</td>\n",
       "      <td>0.6140</td>\n",
       "      <td>6.103</td>\n",
       "      <td>85.1</td>\n",
       "      <td>2.08</td>\n",
       "      <td>1.80</td>\n",
       "      <td>2.34</td>\n",
       "      <td>1.87</td>\n",
       "      <td>19.8</td>\n",
       "      <td>23.29</td>\n",
       "      <td>NO</td>\n",
       "      <td>8.268</td>\n",
       "      <td>81.12</td>\n",
       "      <td>Lago</td>\n",
       "      <td>29</td>\n",
       "      <td>SI</td>\n",
       "      <td>0.063344</td>\n",
       "    </tr>\n",
       "  </tbody>\n",
       "</table>\n",
       "</div>"
      ],
      "text/plain": [
       "     precio  tasa_crimen  area_resid  cal_aire  num_hab  edad  dist1  dist2  \\\n",
       "2      34.7      0.02729       37.07    0.4690    7.185  61.1   5.03   4.86   \n",
       "166    50.0      2.01019       49.58    0.6050    7.929  96.2   2.11   1.91   \n",
       "204    50.0      0.02009       32.68    0.4161    8.034  31.9   5.41   4.80   \n",
       "267    50.0      0.57834       33.97    0.5750    8.297  67.0   2.60   2.13   \n",
       "369    50.0      5.66998       48.10    0.6310    6.683  96.8   1.55   1.28   \n",
       "423    13.4      7.05042       48.10    0.6140    6.103  85.1   2.08   1.80   \n",
       "\n",
       "     dist3  dist4  prof_mil  p_pobreza aeropuerto  n_cam_hos  n_hab_hotel  \\\n",
       "2     5.01   4.97      22.2       4.03         NO      7.394       101.12   \n",
       "166   2.31   1.86      25.3       3.70         SI      8.300        15.40   \n",
       "204   5.28   4.99      25.3       2.88         SI      8.900        15.40   \n",
       "267   2.43   2.52      27.0       7.44         SI      8.000        15.40   \n",
       "369   1.65   0.94      19.8       3.73         SI      6.700        15.40   \n",
       "423   2.34   1.87      19.8      23.29         NO      8.268        81.12   \n",
       "\n",
       "    cuerpo_agua  lluvia_ano ter_bus    parque  \n",
       "2       Ninguno          38      SI  0.045764  \n",
       "166         Rio          37      SI  0.052105  \n",
       "204         Rio          51      SI  0.044178  \n",
       "267     Ninguno          42      SI  0.063235  \n",
       "369         Rio          58      SI  0.067477  \n",
       "423        Lago          29      SI  0.063344  "
      ]
     },
     "execution_count": 20,
     "metadata": {},
     "output_type": "execute_result"
    }
   ],
   "source": [
    "df[df.n_hab_hotel > lim_sup] # Revisamos los datos en nuestro dataset que son outliers por encima del límite superior"
   ]
  },
  {
   "cell_type": "code",
   "execution_count": 21,
   "id": "impressive-highlight",
   "metadata": {},
   "outputs": [
    {
     "name": "stderr",
     "output_type": "stream",
     "text": [
      "<ipython-input-21-dea329e9daba>:1: SettingWithCopyWarning: \n",
      "A value is trying to be set on a copy of a slice from a DataFrame\n",
      "\n",
      "See the caveats in the documentation: https://pandas.pydata.org/pandas-docs/stable/user_guide/indexing.html#returning-a-view-versus-a-copy\n",
      "  df.n_hab_hotel[df.n_hab_hotel > 3 * lim_sup] = 3 * lim_sup\n"
     ]
    }
   ],
   "source": [
    "df.n_hab_hotel[df.n_hab_hotel > 3 * lim_sup] = 3 * lim_sup"
   ]
  },
  {
   "cell_type": "code",
   "execution_count": 22,
   "id": "enhanced-wisconsin",
   "metadata": {},
   "outputs": [
    {
     "data": {
      "text/plain": [
       "20.0"
      ]
     },
     "execution_count": 22,
     "metadata": {},
     "output_type": "execute_result"
    }
   ],
   "source": [
    "np.percentile(df.lluvia_ano,[1])[0]"
   ]
  },
  {
   "cell_type": "code",
   "execution_count": 23,
   "id": "split-settlement",
   "metadata": {},
   "outputs": [],
   "source": [
    "lim_inf = np.percentile(df.lluvia_ano,[1])[0]"
   ]
  },
  {
   "cell_type": "code",
   "execution_count": 24,
   "id": "meaningful-martial",
   "metadata": {},
   "outputs": [
    {
     "data": {
      "text/html": [
       "<div>\n",
       "<style scoped>\n",
       "    .dataframe tbody tr th:only-of-type {\n",
       "        vertical-align: middle;\n",
       "    }\n",
       "\n",
       "    .dataframe tbody tr th {\n",
       "        vertical-align: top;\n",
       "    }\n",
       "\n",
       "    .dataframe thead th {\n",
       "        text-align: right;\n",
       "    }\n",
       "</style>\n",
       "<table border=\"1\" class=\"dataframe\">\n",
       "  <thead>\n",
       "    <tr style=\"text-align: right;\">\n",
       "      <th></th>\n",
       "      <th>precio</th>\n",
       "      <th>tasa_crimen</th>\n",
       "      <th>area_resid</th>\n",
       "      <th>cal_aire</th>\n",
       "      <th>num_hab</th>\n",
       "      <th>edad</th>\n",
       "      <th>dist1</th>\n",
       "      <th>dist2</th>\n",
       "      <th>dist3</th>\n",
       "      <th>dist4</th>\n",
       "      <th>prof_mil</th>\n",
       "      <th>p_pobreza</th>\n",
       "      <th>aeropuerto</th>\n",
       "      <th>n_cam_hos</th>\n",
       "      <th>n_hab_hotel</th>\n",
       "      <th>cuerpo_agua</th>\n",
       "      <th>lluvia_ano</th>\n",
       "      <th>ter_bus</th>\n",
       "      <th>parque</th>\n",
       "    </tr>\n",
       "  </thead>\n",
       "  <tbody>\n",
       "    <tr>\n",
       "      <th>213</th>\n",
       "      <td>28.1</td>\n",
       "      <td>0.14052</td>\n",
       "      <td>40.59</td>\n",
       "      <td>0.489</td>\n",
       "      <td>6.375</td>\n",
       "      <td>32.3</td>\n",
       "      <td>4.11</td>\n",
       "      <td>3.92</td>\n",
       "      <td>4.18</td>\n",
       "      <td>3.57</td>\n",
       "      <td>21.4</td>\n",
       "      <td>9.38</td>\n",
       "      <td>SI</td>\n",
       "      <td>7.562</td>\n",
       "      <td>10.2248</td>\n",
       "      <td>Ninguno</td>\n",
       "      <td>3</td>\n",
       "      <td>SI</td>\n",
       "      <td>0.044019</td>\n",
       "    </tr>\n",
       "  </tbody>\n",
       "</table>\n",
       "</div>"
      ],
      "text/plain": [
       "     precio  tasa_crimen  area_resid  cal_aire  num_hab  edad  dist1  dist2  \\\n",
       "213    28.1      0.14052       40.59     0.489    6.375  32.3   4.11   3.92   \n",
       "\n",
       "     dist3  dist4  prof_mil  p_pobreza aeropuerto  n_cam_hos  n_hab_hotel  \\\n",
       "213   4.18   3.57      21.4       9.38         SI      7.562      10.2248   \n",
       "\n",
       "    cuerpo_agua  lluvia_ano ter_bus    parque  \n",
       "213     Ninguno           3      SI  0.044019  "
      ]
     },
     "execution_count": 24,
     "metadata": {},
     "output_type": "execute_result"
    }
   ],
   "source": [
    "df[df.lluvia_ano < lim_inf]"
   ]
  },
  {
   "cell_type": "code",
   "execution_count": 25,
   "id": "fifty-swift",
   "metadata": {
    "scrolled": true
   },
   "outputs": [
    {
     "name": "stderr",
     "output_type": "stream",
     "text": [
      "<ipython-input-25-bfc4b8993ce2>:1: SettingWithCopyWarning: \n",
      "A value is trying to be set on a copy of a slice from a DataFrame\n",
      "\n",
      "See the caveats in the documentation: https://pandas.pydata.org/pandas-docs/stable/user_guide/indexing.html#returning-a-view-versus-a-copy\n",
      "  df.lluvia_ano[df.lluvia_ano < 0.3 * lim_inf] = 0.3 * lim_inf\n"
     ]
    }
   ],
   "source": [
    "df.lluvia_ano[df.lluvia_ano < 0.3 * lim_inf] = 0.3 * lim_inf"
   ]
  },
  {
   "cell_type": "code",
   "execution_count": 26,
   "id": "severe-pacific",
   "metadata": {},
   "outputs": [
    {
     "data": {
      "text/plain": [
       "<seaborn.axisgrid.JointGrid at 0x27bd46e1400>"
      ]
     },
     "execution_count": 26,
     "metadata": {},
     "output_type": "execute_result"
    },
    {
     "data": {
      "image/png": "[encoded data removed]",
      "text/plain": [
       "<Figure size 432x432 with 3 Axes>"
      ]
     },
     "metadata": {
      "needs_background": "light"
     },
     "output_type": "display_data"
    }
   ],
   "source": [
    "sns.jointplot(x = 'tasa_crimen', y = 'precio', data = df) # Si se desea trabajar sin el formato atributo['nombre>atr']\n",
    "# debe informar a la función de Seaborn el nombre del dataframe que se esta utilizando"
   ]
  },
  {
   "cell_type": "code",
   "execution_count": 27,
   "id": "printable-texas",
   "metadata": {},
   "outputs": [
    {
     "data": {
      "text/html": [
       "<div>\n",
       "<style scoped>\n",
       "    .dataframe tbody tr th:only-of-type {\n",
       "        vertical-align: middle;\n",
       "    }\n",
       "\n",
       "    .dataframe tbody tr th {\n",
       "        vertical-align: top;\n",
       "    }\n",
       "\n",
       "    .dataframe thead th {\n",
       "        text-align: right;\n",
       "    }\n",
       "</style>\n",
       "<table border=\"1\" class=\"dataframe\">\n",
       "  <thead>\n",
       "    <tr style=\"text-align: right;\">\n",
       "      <th></th>\n",
       "      <th>precio</th>\n",
       "      <th>tasa_crimen</th>\n",
       "      <th>area_resid</th>\n",
       "      <th>cal_aire</th>\n",
       "      <th>num_hab</th>\n",
       "      <th>edad</th>\n",
       "      <th>dist1</th>\n",
       "      <th>dist2</th>\n",
       "      <th>dist3</th>\n",
       "      <th>dist4</th>\n",
       "      <th>prof_mil</th>\n",
       "      <th>p_pobreza</th>\n",
       "      <th>n_cam_hos</th>\n",
       "      <th>n_hab_hotel</th>\n",
       "      <th>lluvia_ano</th>\n",
       "      <th>parque</th>\n",
       "    </tr>\n",
       "  </thead>\n",
       "  <tbody>\n",
       "    <tr>\n",
       "      <th>count</th>\n",
       "      <td>506.000000</td>\n",
       "      <td>506.000000</td>\n",
       "      <td>506.000000</td>\n",
       "      <td>506.000000</td>\n",
       "      <td>506.000000</td>\n",
       "      <td>506.000000</td>\n",
       "      <td>506.000000</td>\n",
       "      <td>506.000000</td>\n",
       "      <td>506.000000</td>\n",
       "      <td>506.000000</td>\n",
       "      <td>506.000000</td>\n",
       "      <td>506.000000</td>\n",
       "      <td>498.000000</td>\n",
       "      <td>506.000000</td>\n",
       "      <td>506.000000</td>\n",
       "      <td>506.000000</td>\n",
       "    </tr>\n",
       "    <tr>\n",
       "      <th>mean</th>\n",
       "      <td>22.528854</td>\n",
       "      <td>3.613524</td>\n",
       "      <td>41.136779</td>\n",
       "      <td>0.554695</td>\n",
       "      <td>6.284634</td>\n",
       "      <td>68.574901</td>\n",
       "      <td>3.971996</td>\n",
       "      <td>3.628775</td>\n",
       "      <td>3.960672</td>\n",
       "      <td>3.618972</td>\n",
       "      <td>21.544466</td>\n",
       "      <td>12.653063</td>\n",
       "      <td>7.899767</td>\n",
       "      <td>12.864050</td>\n",
       "      <td>39.187747</td>\n",
       "      <td>0.054454</td>\n",
       "    </tr>\n",
       "    <tr>\n",
       "      <th>std</th>\n",
       "      <td>9.182176</td>\n",
       "      <td>8.601545</td>\n",
       "      <td>6.860353</td>\n",
       "      <td>0.115878</td>\n",
       "      <td>0.702617</td>\n",
       "      <td>28.148861</td>\n",
       "      <td>2.108532</td>\n",
       "      <td>2.108580</td>\n",
       "      <td>2.119797</td>\n",
       "      <td>2.099203</td>\n",
       "      <td>2.164946</td>\n",
       "      <td>7.141062</td>\n",
       "      <td>1.476683</td>\n",
       "      <td>2.688778</td>\n",
       "      <td>12.497221</td>\n",
       "      <td>0.010632</td>\n",
       "    </tr>\n",
       "    <tr>\n",
       "      <th>min</th>\n",
       "      <td>5.000000</td>\n",
       "      <td>0.006320</td>\n",
       "      <td>30.460000</td>\n",
       "      <td>0.385000</td>\n",
       "      <td>3.561000</td>\n",
       "      <td>2.900000</td>\n",
       "      <td>1.130000</td>\n",
       "      <td>0.920000</td>\n",
       "      <td>1.150000</td>\n",
       "      <td>0.730000</td>\n",
       "      <td>18.000000</td>\n",
       "      <td>1.730000</td>\n",
       "      <td>5.268000</td>\n",
       "      <td>10.057600</td>\n",
       "      <td>6.000000</td>\n",
       "      <td>0.033292</td>\n",
       "    </tr>\n",
       "    <tr>\n",
       "      <th>25%</th>\n",
       "      <td>17.025000</td>\n",
       "      <td>0.082045</td>\n",
       "      <td>35.190000</td>\n",
       "      <td>0.449000</td>\n",
       "      <td>5.885500</td>\n",
       "      <td>45.025000</td>\n",
       "      <td>2.270000</td>\n",
       "      <td>1.940000</td>\n",
       "      <td>2.232500</td>\n",
       "      <td>1.940000</td>\n",
       "      <td>19.800000</td>\n",
       "      <td>6.950000</td>\n",
       "      <td>6.634500</td>\n",
       "      <td>11.189800</td>\n",
       "      <td>28.000000</td>\n",
       "      <td>0.046464</td>\n",
       "    </tr>\n",
       "    <tr>\n",
       "      <th>50%</th>\n",
       "      <td>21.200000</td>\n",
       "      <td>0.256510</td>\n",
       "      <td>39.690000</td>\n",
       "      <td>0.538000</td>\n",
       "      <td>6.208500</td>\n",
       "      <td>77.500000</td>\n",
       "      <td>3.385000</td>\n",
       "      <td>3.010000</td>\n",
       "      <td>3.375000</td>\n",
       "      <td>3.070000</td>\n",
       "      <td>20.950000</td>\n",
       "      <td>11.360000</td>\n",
       "      <td>7.999000</td>\n",
       "      <td>12.720000</td>\n",
       "      <td>39.000000</td>\n",
       "      <td>0.053507</td>\n",
       "    </tr>\n",
       "    <tr>\n",
       "      <th>75%</th>\n",
       "      <td>25.000000</td>\n",
       "      <td>3.677083</td>\n",
       "      <td>48.100000</td>\n",
       "      <td>0.624000</td>\n",
       "      <td>6.623500</td>\n",
       "      <td>94.075000</td>\n",
       "      <td>5.367500</td>\n",
       "      <td>4.992500</td>\n",
       "      <td>5.407500</td>\n",
       "      <td>4.985000</td>\n",
       "      <td>22.600000</td>\n",
       "      <td>16.955000</td>\n",
       "      <td>9.088000</td>\n",
       "      <td>14.170800</td>\n",
       "      <td>50.000000</td>\n",
       "      <td>0.061397</td>\n",
       "    </tr>\n",
       "    <tr>\n",
       "      <th>max</th>\n",
       "      <td>50.000000</td>\n",
       "      <td>88.976200</td>\n",
       "      <td>57.740000</td>\n",
       "      <td>0.871000</td>\n",
       "      <td>8.780000</td>\n",
       "      <td>100.000000</td>\n",
       "      <td>12.320000</td>\n",
       "      <td>11.930000</td>\n",
       "      <td>12.320000</td>\n",
       "      <td>11.940000</td>\n",
       "      <td>27.400000</td>\n",
       "      <td>37.970000</td>\n",
       "      <td>10.876000</td>\n",
       "      <td>46.198560</td>\n",
       "      <td>60.000000</td>\n",
       "      <td>0.086711</td>\n",
       "    </tr>\n",
       "  </tbody>\n",
       "</table>\n",
       "</div>"
      ],
      "text/plain": [
       "           precio  tasa_crimen  area_resid    cal_aire     num_hab  \\\n",
       "count  506.000000   506.000000  506.000000  506.000000  506.000000   \n",
       "mean    22.528854     3.613524   41.136779    0.554695    6.284634   \n",
       "std      9.182176     8.601545    6.860353    0.115878    0.702617   \n",
       "min      5.000000     0.006320   30.460000    0.385000    3.561000   \n",
       "25%     17.025000     0.082045   35.190000    0.449000    5.885500   \n",
       "50%     21.200000     0.256510   39.690000    0.538000    6.208500   \n",
       "75%     25.000000     3.677083   48.100000    0.624000    6.623500   \n",
       "max     50.000000    88.976200   57.740000    0.871000    8.780000   \n",
       "\n",
       "             edad       dist1       dist2       dist3       dist4    prof_mil  \\\n",
       "count  506.000000  506.000000  506.000000  506.000000  506.000000  506.000000   \n",
       "mean    68.574901    3.971996    3.628775    3.960672    3.618972   21.544466   \n",
       "std     28.148861    2.108532    2.108580    2.119797    2.099203    2.164946   \n",
       "min      2.900000    1.130000    0.920000    1.150000    0.730000   18.000000   \n",
       "25%     45.025000    2.270000    1.940000    2.232500    1.940000   19.800000   \n",
       "50%     77.500000    3.385000    3.010000    3.375000    3.070000   20.950000   \n",
       "75%     94.075000    5.367500    4.992500    5.407500    4.985000   22.600000   \n",
       "max    100.000000   12.320000   11.930000   12.320000   11.940000   27.400000   \n",
       "\n",
       "        p_pobreza   n_cam_hos  n_hab_hotel  lluvia_ano      parque  \n",
       "count  506.000000  498.000000   506.000000  506.000000  506.000000  \n",
       "mean    12.653063    7.899767    12.864050   39.187747    0.054454  \n",
       "std      7.141062    1.476683     2.688778   12.497221    0.010632  \n",
       "min      1.730000    5.268000    10.057600    6.000000    0.033292  \n",
       "25%      6.950000    6.634500    11.189800   28.000000    0.046464  \n",
       "50%     11.360000    7.999000    12.720000   39.000000    0.053507  \n",
       "75%     16.955000    9.088000    14.170800   50.000000    0.061397  \n",
       "max     37.970000   10.876000    46.198560   60.000000    0.086711  "
      ]
     },
     "execution_count": 27,
     "metadata": {},
     "output_type": "execute_result"
    }
   ],
   "source": [
    "df.describe() # Una vez que hacemos el tratamiento de los outliers la media y la mediana de los atributos\n",
    "# se encuentran más cercanas"
   ]
  },
  {
   "cell_type": "code",
   "execution_count": 28,
   "id": "affecting-boring",
   "metadata": {
    "scrolled": true
   },
   "outputs": [
    {
     "data": {
      "text/plain": [
       "<seaborn.axisgrid.JointGrid at 0x27bd46d7e80>"
      ]
     },
     "execution_count": 28,
     "metadata": {},
     "output_type": "execute_result"
    },
    {
     "data": {
      "image/png": "[encoded data removed]",
      "text/plain": [
       "<Figure size 432x432 with 3 Axes>"
      ]
     },
     "metadata": {
      "needs_background": "light"
     },
     "output_type": "display_data"
    }
   ],
   "source": [
    "# Ahora podemos ver el efecto del tratamiento que se le ha dado a los outliers en las gráficas\n",
    "sns.jointplot(x = df['n_hab_hotel'], y = df['precio'])"
   ]
  },
  {
   "cell_type": "code",
   "execution_count": 29,
   "id": "uniform-virgin",
   "metadata": {},
   "outputs": [
    {
     "data": {
      "text/plain": [
       "<seaborn.axisgrid.JointGrid at 0x27bd4988d00>"
      ]
     },
     "execution_count": 29,
     "metadata": {},
     "output_type": "execute_result"
    },
    {
     "data": {
      "image/png": "[encoded data removed]",
      "text/plain": [
       "<Figure size 432x432 with 3 Axes>"
      ]
     },
     "metadata": {
      "needs_background": "light"
     },
     "output_type": "display_data"
    }
   ],
   "source": [
    "sns.jointplot(x = df['lluvia_ano'], y = df['precio'])"
   ]
  },
  {
   "cell_type": "markdown",
   "id": "sixth-government",
   "metadata": {},
   "source": [
    "# Imputación de valores faltantes en el atributo n_cam_hos"
   ]
  },
  {
   "cell_type": "code",
   "execution_count": 30,
   "id": "natural-albany",
   "metadata": {},
   "outputs": [
    {
     "data": {
      "text/plain": [
       "50    NaN\n",
       "112   NaN\n",
       "215   NaN\n",
       "260   NaN\n",
       "359   NaN\n",
       "403   NaN\n",
       "416   NaN\n",
       "496   NaN\n",
       "Name: n_cam_hos, dtype: float64"
      ]
     },
     "execution_count": 30,
     "metadata": {},
     "output_type": "execute_result"
    }
   ],
   "source": [
    "df.n_cam_hos[df.n_cam_hos.isna()] # Ver los valores NaN en el atributo"
   ]
  },
  {
   "cell_type": "code",
   "execution_count": 31,
   "id": "filled-spine",
   "metadata": {},
   "outputs": [],
   "source": [
    "df.n_cam_hos = df.n_cam_hos.fillna(df.n_cam_hos.mean())\n",
    "# Se puede verificar la existencia de NaN en un datafarme con la siguiente instrucción: df.isna().values.any()"
   ]
  },
  {
   "cell_type": "code",
   "execution_count": 32,
   "id": "significant-colombia",
   "metadata": {},
   "outputs": [
    {
     "name": "stdout",
     "output_type": "stream",
     "text": [
      "<class 'pandas.core.frame.DataFrame'>\n",
      "RangeIndex: 506 entries, 0 to 505\n",
      "Data columns (total 19 columns):\n",
      " #   Column       Non-Null Count  Dtype  \n",
      "---  ------       --------------  -----  \n",
      " 0   precio       506 non-null    float64\n",
      " 1   tasa_crimen  506 non-null    float64\n",
      " 2   area_resid   506 non-null    float64\n",
      " 3   cal_aire     506 non-null    float64\n",
      " 4   num_hab      506 non-null    float64\n",
      " 5   edad         506 non-null    float64\n",
      " 6   dist1        506 non-null    float64\n",
      " 7   dist2        506 non-null    float64\n",
      " 8   dist3        506 non-null    float64\n",
      " 9   dist4        506 non-null    float64\n",
      " 10  prof_mil     506 non-null    float64\n",
      " 11  p_pobreza    506 non-null    float64\n",
      " 12  aeropuerto   506 non-null    object \n",
      " 13  n_cam_hos    506 non-null    float64\n",
      " 14  n_hab_hotel  506 non-null    float64\n",
      " 15  cuerpo_agua  506 non-null    object \n",
      " 16  lluvia_ano   506 non-null    int64  \n",
      " 17  ter_bus      506 non-null    object \n",
      " 18  parque       506 non-null    float64\n",
      "dtypes: float64(15), int64(1), object(3)\n",
      "memory usage: 75.2+ KB\n"
     ]
    }
   ],
   "source": [
    "df.info()"
   ]
  },
  {
   "cell_type": "code",
   "execution_count": 33,
   "id": "earned-cooling",
   "metadata": {},
   "outputs": [
    {
     "data": {
      "text/plain": [
       "False"
      ]
     },
     "execution_count": 33,
     "metadata": {},
     "output_type": "execute_result"
    }
   ],
   "source": [
    "df.isna().values.any() # Confirmar si queda en el dataframe algún atributo con valores perdidos"
   ]
  },
  {
   "cell_type": "markdown",
   "id": "cardiovascular-offense",
   "metadata": {},
   "source": [
    "# Transformación de variables"
   ]
  },
  {
   "cell_type": "code",
   "execution_count": 34,
   "id": "narrative-projection",
   "metadata": {},
   "outputs": [
    {
     "data": {
      "text/plain": [
       "<seaborn.axisgrid.JointGrid at 0x27bd20fb850>"
      ]
     },
     "execution_count": 34,
     "metadata": {},
     "output_type": "execute_result"
    },
    {
     "data": {
      "image/png": "[encoded data removed]",
      "text/plain": [
       "<Figure size 432x432 with 3 Axes>"
      ]
     },
     "metadata": {
      "needs_background": "light"
     },
     "output_type": "display_data"
    }
   ],
   "source": [
    "sns.jointplot(x = df['tasa_crimen'], y = df['precio']) # Evaluar la función de tendencia para la nube de puntos"
   ]
  },
  {
   "cell_type": "code",
   "execution_count": 35,
   "id": "meaningful-arkansas",
   "metadata": {},
   "outputs": [],
   "source": [
    "df.tasa_crimen = np.log(1 + df.tasa_crimen) # Transformar el atributo tasa crimen"
   ]
  },
  {
   "cell_type": "code",
   "execution_count": 36,
   "id": "complete-powder",
   "metadata": {},
   "outputs": [
    {
     "data": {
      "text/plain": [
       "<seaborn.axisgrid.JointGrid at 0x27bd4b6bd90>"
      ]
     },
     "execution_count": 36,
     "metadata": {},
     "output_type": "execute_result"
    },
    {
     "data": {
      "image/png": "[encoded data removed]",
      "text/plain": [
       "<Figure size 432x432 with 3 Axes>"
      ]
     },
     "metadata": {
      "needs_background": "light"
     },
     "output_type": "display_data"
    }
   ],
   "source": [
    "sns.jointplot(x = df['tasa_crimen'], y = df['precio']) # Verificar el efecto de la transformación"
   ]
  },
  {
   "cell_type": "code",
   "execution_count": 37,
   "id": "completed-patrol",
   "metadata": {},
   "outputs": [],
   "source": [
    "df['dist_prom'] = (df.dist1 + df.dist2 + df.dist3 + df.dist4) / 4 # Promediar las distancias para crear un solo atributo\n",
    "# distancia promedio (dist_prom)"
   ]
  },
  {
   "cell_type": "code",
   "execution_count": 38,
   "id": "continuing-click",
   "metadata": {},
   "outputs": [
    {
     "data": {
      "text/html": [
       "<div>\n",
       "<style scoped>\n",
       "    .dataframe tbody tr th:only-of-type {\n",
       "        vertical-align: middle;\n",
       "    }\n",
       "\n",
       "    .dataframe tbody tr th {\n",
       "        vertical-align: top;\n",
       "    }\n",
       "\n",
       "    .dataframe thead th {\n",
       "        text-align: right;\n",
       "    }\n",
       "</style>\n",
       "<table border=\"1\" class=\"dataframe\">\n",
       "  <thead>\n",
       "    <tr style=\"text-align: right;\">\n",
       "      <th></th>\n",
       "      <th>precio</th>\n",
       "      <th>tasa_crimen</th>\n",
       "      <th>area_resid</th>\n",
       "      <th>cal_aire</th>\n",
       "      <th>num_hab</th>\n",
       "      <th>edad</th>\n",
       "      <th>dist1</th>\n",
       "      <th>dist2</th>\n",
       "      <th>dist3</th>\n",
       "      <th>dist4</th>\n",
       "      <th>prof_mil</th>\n",
       "      <th>p_pobreza</th>\n",
       "      <th>n_cam_hos</th>\n",
       "      <th>n_hab_hotel</th>\n",
       "      <th>lluvia_ano</th>\n",
       "      <th>parque</th>\n",
       "      <th>dist_prom</th>\n",
       "    </tr>\n",
       "  </thead>\n",
       "  <tbody>\n",
       "    <tr>\n",
       "      <th>count</th>\n",
       "      <td>506.000000</td>\n",
       "      <td>506.000000</td>\n",
       "      <td>506.000000</td>\n",
       "      <td>506.000000</td>\n",
       "      <td>506.000000</td>\n",
       "      <td>506.000000</td>\n",
       "      <td>506.000000</td>\n",
       "      <td>506.000000</td>\n",
       "      <td>506.000000</td>\n",
       "      <td>506.000000</td>\n",
       "      <td>506.000000</td>\n",
       "      <td>506.000000</td>\n",
       "      <td>506.000000</td>\n",
       "      <td>506.000000</td>\n",
       "      <td>506.000000</td>\n",
       "      <td>506.000000</td>\n",
       "      <td>506.000000</td>\n",
       "    </tr>\n",
       "    <tr>\n",
       "      <th>mean</th>\n",
       "      <td>22.528854</td>\n",
       "      <td>0.813418</td>\n",
       "      <td>41.136779</td>\n",
       "      <td>0.554695</td>\n",
       "      <td>6.284634</td>\n",
       "      <td>68.574901</td>\n",
       "      <td>3.971996</td>\n",
       "      <td>3.628775</td>\n",
       "      <td>3.960672</td>\n",
       "      <td>3.618972</td>\n",
       "      <td>21.544466</td>\n",
       "      <td>12.653063</td>\n",
       "      <td>7.899767</td>\n",
       "      <td>12.864050</td>\n",
       "      <td>39.187747</td>\n",
       "      <td>0.054454</td>\n",
       "      <td>3.795104</td>\n",
       "    </tr>\n",
       "    <tr>\n",
       "      <th>std</th>\n",
       "      <td>9.182176</td>\n",
       "      <td>1.022731</td>\n",
       "      <td>6.860353</td>\n",
       "      <td>0.115878</td>\n",
       "      <td>0.702617</td>\n",
       "      <td>28.148861</td>\n",
       "      <td>2.108532</td>\n",
       "      <td>2.108580</td>\n",
       "      <td>2.119797</td>\n",
       "      <td>2.099203</td>\n",
       "      <td>2.164946</td>\n",
       "      <td>7.141062</td>\n",
       "      <td>1.464939</td>\n",
       "      <td>2.688778</td>\n",
       "      <td>12.497221</td>\n",
       "      <td>0.010632</td>\n",
       "      <td>2.105859</td>\n",
       "    </tr>\n",
       "    <tr>\n",
       "      <th>min</th>\n",
       "      <td>5.000000</td>\n",
       "      <td>0.006300</td>\n",
       "      <td>30.460000</td>\n",
       "      <td>0.385000</td>\n",
       "      <td>3.561000</td>\n",
       "      <td>2.900000</td>\n",
       "      <td>1.130000</td>\n",
       "      <td>0.920000</td>\n",
       "      <td>1.150000</td>\n",
       "      <td>0.730000</td>\n",
       "      <td>18.000000</td>\n",
       "      <td>1.730000</td>\n",
       "      <td>5.268000</td>\n",
       "      <td>10.057600</td>\n",
       "      <td>6.000000</td>\n",
       "      <td>0.033292</td>\n",
       "      <td>1.127500</td>\n",
       "    </tr>\n",
       "    <tr>\n",
       "      <th>25%</th>\n",
       "      <td>17.025000</td>\n",
       "      <td>0.078853</td>\n",
       "      <td>35.190000</td>\n",
       "      <td>0.449000</td>\n",
       "      <td>5.885500</td>\n",
       "      <td>45.025000</td>\n",
       "      <td>2.270000</td>\n",
       "      <td>1.940000</td>\n",
       "      <td>2.232500</td>\n",
       "      <td>1.940000</td>\n",
       "      <td>19.800000</td>\n",
       "      <td>6.950000</td>\n",
       "      <td>6.659000</td>\n",
       "      <td>11.189800</td>\n",
       "      <td>28.000000</td>\n",
       "      <td>0.046464</td>\n",
       "      <td>2.100625</td>\n",
       "    </tr>\n",
       "    <tr>\n",
       "      <th>50%</th>\n",
       "      <td>21.200000</td>\n",
       "      <td>0.228336</td>\n",
       "      <td>39.690000</td>\n",
       "      <td>0.538000</td>\n",
       "      <td>6.208500</td>\n",
       "      <td>77.500000</td>\n",
       "      <td>3.385000</td>\n",
       "      <td>3.010000</td>\n",
       "      <td>3.375000</td>\n",
       "      <td>3.070000</td>\n",
       "      <td>20.950000</td>\n",
       "      <td>11.360000</td>\n",
       "      <td>7.963000</td>\n",
       "      <td>12.720000</td>\n",
       "      <td>39.000000</td>\n",
       "      <td>0.053507</td>\n",
       "      <td>3.207500</td>\n",
       "    </tr>\n",
       "    <tr>\n",
       "      <th>75%</th>\n",
       "      <td>25.000000</td>\n",
       "      <td>1.542674</td>\n",
       "      <td>48.100000</td>\n",
       "      <td>0.624000</td>\n",
       "      <td>6.623500</td>\n",
       "      <td>94.075000</td>\n",
       "      <td>5.367500</td>\n",
       "      <td>4.992500</td>\n",
       "      <td>5.407500</td>\n",
       "      <td>4.985000</td>\n",
       "      <td>22.600000</td>\n",
       "      <td>16.955000</td>\n",
       "      <td>9.076000</td>\n",
       "      <td>14.170800</td>\n",
       "      <td>50.000000</td>\n",
       "      <td>0.061397</td>\n",
       "      <td>5.187500</td>\n",
       "    </tr>\n",
       "    <tr>\n",
       "      <th>max</th>\n",
       "      <td>50.000000</td>\n",
       "      <td>4.499545</td>\n",
       "      <td>57.740000</td>\n",
       "      <td>0.871000</td>\n",
       "      <td>8.780000</td>\n",
       "      <td>100.000000</td>\n",
       "      <td>12.320000</td>\n",
       "      <td>11.930000</td>\n",
       "      <td>12.320000</td>\n",
       "      <td>11.940000</td>\n",
       "      <td>27.400000</td>\n",
       "      <td>37.970000</td>\n",
       "      <td>10.876000</td>\n",
       "      <td>46.198560</td>\n",
       "      <td>60.000000</td>\n",
       "      <td>0.086711</td>\n",
       "      <td>12.127500</td>\n",
       "    </tr>\n",
       "  </tbody>\n",
       "</table>\n",
       "</div>"
      ],
      "text/plain": [
       "           precio  tasa_crimen  area_resid    cal_aire     num_hab  \\\n",
       "count  506.000000   506.000000  506.000000  506.000000  506.000000   \n",
       "mean    22.528854     0.813418   41.136779    0.554695    6.284634   \n",
       "std      9.182176     1.022731    6.860353    0.115878    0.702617   \n",
       "min      5.000000     0.006300   30.460000    0.385000    3.561000   \n",
       "25%     17.025000     0.078853   35.190000    0.449000    5.885500   \n",
       "50%     21.200000     0.228336   39.690000    0.538000    6.208500   \n",
       "75%     25.000000     1.542674   48.100000    0.624000    6.623500   \n",
       "max     50.000000     4.499545   57.740000    0.871000    8.780000   \n",
       "\n",
       "             edad       dist1       dist2       dist3       dist4    prof_mil  \\\n",
       "count  506.000000  506.000000  506.000000  506.000000  506.000000  506.000000   \n",
       "mean    68.574901    3.971996    3.628775    3.960672    3.618972   21.544466   \n",
       "std     28.148861    2.108532    2.108580    2.119797    2.099203    2.164946   \n",
       "min      2.900000    1.130000    0.920000    1.150000    0.730000   18.000000   \n",
       "25%     45.025000    2.270000    1.940000    2.232500    1.940000   19.800000   \n",
       "50%     77.500000    3.385000    3.010000    3.375000    3.070000   20.950000   \n",
       "75%     94.075000    5.367500    4.992500    5.407500    4.985000   22.600000   \n",
       "max    100.000000   12.320000   11.930000   12.320000   11.940000   27.400000   \n",
       "\n",
       "        p_pobreza   n_cam_hos  n_hab_hotel  lluvia_ano      parque   dist_prom  \n",
       "count  506.000000  506.000000   506.000000  506.000000  506.000000  506.000000  \n",
       "mean    12.653063    7.899767    12.864050   39.187747    0.054454    3.795104  \n",
       "std      7.141062    1.464939     2.688778   12.497221    0.010632    2.105859  \n",
       "min      1.730000    5.268000    10.057600    6.000000    0.033292    1.127500  \n",
       "25%      6.950000    6.659000    11.189800   28.000000    0.046464    2.100625  \n",
       "50%     11.360000    7.963000    12.720000   39.000000    0.053507    3.207500  \n",
       "75%     16.955000    9.076000    14.170800   50.000000    0.061397    5.187500  \n",
       "max     37.970000   10.876000    46.198560   60.000000    0.086711   12.127500  "
      ]
     },
     "execution_count": 38,
     "metadata": {},
     "output_type": "execute_result"
    }
   ],
   "source": [
    "df.describe() # Ver los estadísticos descriptivos de la nueva variable"
   ]
  },
  {
   "cell_type": "code",
   "execution_count": 39,
   "id": "multiple-minnesota",
   "metadata": {},
   "outputs": [],
   "source": [
    "del df['dist1'] # Eliminar los atributos de distancia"
   ]
  },
  {
   "cell_type": "code",
   "execution_count": 40,
   "id": "spare-signature",
   "metadata": {},
   "outputs": [],
   "source": [
    "del df['dist2']"
   ]
  },
  {
   "cell_type": "code",
   "execution_count": 41,
   "id": "dedicated-public",
   "metadata": {},
   "outputs": [],
   "source": [
    "del df['dist3']"
   ]
  },
  {
   "cell_type": "code",
   "execution_count": 42,
   "id": "million-patrol",
   "metadata": {},
   "outputs": [],
   "source": [
    "del df['dist4']"
   ]
  },
  {
   "cell_type": "code",
   "execution_count": 43,
   "id": "hundred-donna",
   "metadata": {},
   "outputs": [
    {
     "data": {
      "text/html": [
       "<div>\n",
       "<style scoped>\n",
       "    .dataframe tbody tr th:only-of-type {\n",
       "        vertical-align: middle;\n",
       "    }\n",
       "\n",
       "    .dataframe tbody tr th {\n",
       "        vertical-align: top;\n",
       "    }\n",
       "\n",
       "    .dataframe thead th {\n",
       "        text-align: right;\n",
       "    }\n",
       "</style>\n",
       "<table border=\"1\" class=\"dataframe\">\n",
       "  <thead>\n",
       "    <tr style=\"text-align: right;\">\n",
       "      <th></th>\n",
       "      <th>precio</th>\n",
       "      <th>tasa_crimen</th>\n",
       "      <th>area_resid</th>\n",
       "      <th>cal_aire</th>\n",
       "      <th>num_hab</th>\n",
       "      <th>edad</th>\n",
       "      <th>prof_mil</th>\n",
       "      <th>p_pobreza</th>\n",
       "      <th>n_cam_hos</th>\n",
       "      <th>n_hab_hotel</th>\n",
       "      <th>lluvia_ano</th>\n",
       "      <th>parque</th>\n",
       "      <th>dist_prom</th>\n",
       "    </tr>\n",
       "  </thead>\n",
       "  <tbody>\n",
       "    <tr>\n",
       "      <th>count</th>\n",
       "      <td>506.000000</td>\n",
       "      <td>506.000000</td>\n",
       "      <td>506.000000</td>\n",
       "      <td>506.000000</td>\n",
       "      <td>506.000000</td>\n",
       "      <td>506.000000</td>\n",
       "      <td>506.000000</td>\n",
       "      <td>506.000000</td>\n",
       "      <td>506.000000</td>\n",
       "      <td>506.000000</td>\n",
       "      <td>506.000000</td>\n",
       "      <td>506.000000</td>\n",
       "      <td>506.000000</td>\n",
       "    </tr>\n",
       "    <tr>\n",
       "      <th>mean</th>\n",
       "      <td>22.528854</td>\n",
       "      <td>0.813418</td>\n",
       "      <td>41.136779</td>\n",
       "      <td>0.554695</td>\n",
       "      <td>6.284634</td>\n",
       "      <td>68.574901</td>\n",
       "      <td>21.544466</td>\n",
       "      <td>12.653063</td>\n",
       "      <td>7.899767</td>\n",
       "      <td>12.864050</td>\n",
       "      <td>39.187747</td>\n",
       "      <td>0.054454</td>\n",
       "      <td>3.795104</td>\n",
       "    </tr>\n",
       "    <tr>\n",
       "      <th>std</th>\n",
       "      <td>9.182176</td>\n",
       "      <td>1.022731</td>\n",
       "      <td>6.860353</td>\n",
       "      <td>0.115878</td>\n",
       "      <td>0.702617</td>\n",
       "      <td>28.148861</td>\n",
       "      <td>2.164946</td>\n",
       "      <td>7.141062</td>\n",
       "      <td>1.464939</td>\n",
       "      <td>2.688778</td>\n",
       "      <td>12.497221</td>\n",
       "      <td>0.010632</td>\n",
       "      <td>2.105859</td>\n",
       "    </tr>\n",
       "    <tr>\n",
       "      <th>min</th>\n",
       "      <td>5.000000</td>\n",
       "      <td>0.006300</td>\n",
       "      <td>30.460000</td>\n",
       "      <td>0.385000</td>\n",
       "      <td>3.561000</td>\n",
       "      <td>2.900000</td>\n",
       "      <td>18.000000</td>\n",
       "      <td>1.730000</td>\n",
       "      <td>5.268000</td>\n",
       "      <td>10.057600</td>\n",
       "      <td>6.000000</td>\n",
       "      <td>0.033292</td>\n",
       "      <td>1.127500</td>\n",
       "    </tr>\n",
       "    <tr>\n",
       "      <th>25%</th>\n",
       "      <td>17.025000</td>\n",
       "      <td>0.078853</td>\n",
       "      <td>35.190000</td>\n",
       "      <td>0.449000</td>\n",
       "      <td>5.885500</td>\n",
       "      <td>45.025000</td>\n",
       "      <td>19.800000</td>\n",
       "      <td>6.950000</td>\n",
       "      <td>6.659000</td>\n",
       "      <td>11.189800</td>\n",
       "      <td>28.000000</td>\n",
       "      <td>0.046464</td>\n",
       "      <td>2.100625</td>\n",
       "    </tr>\n",
       "    <tr>\n",
       "      <th>50%</th>\n",
       "      <td>21.200000</td>\n",
       "      <td>0.228336</td>\n",
       "      <td>39.690000</td>\n",
       "      <td>0.538000</td>\n",
       "      <td>6.208500</td>\n",
       "      <td>77.500000</td>\n",
       "      <td>20.950000</td>\n",
       "      <td>11.360000</td>\n",
       "      <td>7.963000</td>\n",
       "      <td>12.720000</td>\n",
       "      <td>39.000000</td>\n",
       "      <td>0.053507</td>\n",
       "      <td>3.207500</td>\n",
       "    </tr>\n",
       "    <tr>\n",
       "      <th>75%</th>\n",
       "      <td>25.000000</td>\n",
       "      <td>1.542674</td>\n",
       "      <td>48.100000</td>\n",
       "      <td>0.624000</td>\n",
       "      <td>6.623500</td>\n",
       "      <td>94.075000</td>\n",
       "      <td>22.600000</td>\n",
       "      <td>16.955000</td>\n",
       "      <td>9.076000</td>\n",
       "      <td>14.170800</td>\n",
       "      <td>50.000000</td>\n",
       "      <td>0.061397</td>\n",
       "      <td>5.187500</td>\n",
       "    </tr>\n",
       "    <tr>\n",
       "      <th>max</th>\n",
       "      <td>50.000000</td>\n",
       "      <td>4.499545</td>\n",
       "      <td>57.740000</td>\n",
       "      <td>0.871000</td>\n",
       "      <td>8.780000</td>\n",
       "      <td>100.000000</td>\n",
       "      <td>27.400000</td>\n",
       "      <td>37.970000</td>\n",
       "      <td>10.876000</td>\n",
       "      <td>46.198560</td>\n",
       "      <td>60.000000</td>\n",
       "      <td>0.086711</td>\n",
       "      <td>12.127500</td>\n",
       "    </tr>\n",
       "  </tbody>\n",
       "</table>\n",
       "</div>"
      ],
      "text/plain": [
       "           precio  tasa_crimen  area_resid    cal_aire     num_hab  \\\n",
       "count  506.000000   506.000000  506.000000  506.000000  506.000000   \n",
       "mean    22.528854     0.813418   41.136779    0.554695    6.284634   \n",
       "std      9.182176     1.022731    6.860353    0.115878    0.702617   \n",
       "min      5.000000     0.006300   30.460000    0.385000    3.561000   \n",
       "25%     17.025000     0.078853   35.190000    0.449000    5.885500   \n",
       "50%     21.200000     0.228336   39.690000    0.538000    6.208500   \n",
       "75%     25.000000     1.542674   48.100000    0.624000    6.623500   \n",
       "max     50.000000     4.499545   57.740000    0.871000    8.780000   \n",
       "\n",
       "             edad    prof_mil   p_pobreza   n_cam_hos  n_hab_hotel  \\\n",
       "count  506.000000  506.000000  506.000000  506.000000   506.000000   \n",
       "mean    68.574901   21.544466   12.653063    7.899767    12.864050   \n",
       "std     28.148861    2.164946    7.141062    1.464939     2.688778   \n",
       "min      2.900000   18.000000    1.730000    5.268000    10.057600   \n",
       "25%     45.025000   19.800000    6.950000    6.659000    11.189800   \n",
       "50%     77.500000   20.950000   11.360000    7.963000    12.720000   \n",
       "75%     94.075000   22.600000   16.955000    9.076000    14.170800   \n",
       "max    100.000000   27.400000   37.970000   10.876000    46.198560   \n",
       "\n",
       "       lluvia_ano      parque   dist_prom  \n",
       "count  506.000000  506.000000  506.000000  \n",
       "mean    39.187747    0.054454    3.795104  \n",
       "std     12.497221    0.010632    2.105859  \n",
       "min      6.000000    0.033292    1.127500  \n",
       "25%     28.000000    0.046464    2.100625  \n",
       "50%     39.000000    0.053507    3.207500  \n",
       "75%     50.000000    0.061397    5.187500  \n",
       "max     60.000000    0.086711   12.127500  "
      ]
     },
     "execution_count": 43,
     "metadata": {},
     "output_type": "execute_result"
    }
   ],
   "source": [
    "df.describe()"
   ]
  },
  {
   "cell_type": "code",
   "execution_count": 44,
   "id": "young-smoke",
   "metadata": {},
   "outputs": [],
   "source": [
    "del df['ter_bus'] # Eliminar atributo ter_bus dado que un solo valor no aporta información al modelo"
   ]
  },
  {
   "cell_type": "code",
   "execution_count": 45,
   "id": "powerful-virgin",
   "metadata": {},
   "outputs": [
    {
     "data": {
      "text/html": [
       "<div>\n",
       "<style scoped>\n",
       "    .dataframe tbody tr th:only-of-type {\n",
       "        vertical-align: middle;\n",
       "    }\n",
       "\n",
       "    .dataframe tbody tr th {\n",
       "        vertical-align: top;\n",
       "    }\n",
       "\n",
       "    .dataframe thead th {\n",
       "        text-align: right;\n",
       "    }\n",
       "</style>\n",
       "<table border=\"1\" class=\"dataframe\">\n",
       "  <thead>\n",
       "    <tr style=\"text-align: right;\">\n",
       "      <th></th>\n",
       "      <th>precio</th>\n",
       "      <th>tasa_crimen</th>\n",
       "      <th>area_resid</th>\n",
       "      <th>cal_aire</th>\n",
       "      <th>num_hab</th>\n",
       "      <th>edad</th>\n",
       "      <th>prof_mil</th>\n",
       "      <th>p_pobreza</th>\n",
       "      <th>aeropuerto</th>\n",
       "      <th>n_cam_hos</th>\n",
       "      <th>n_hab_hotel</th>\n",
       "      <th>cuerpo_agua</th>\n",
       "      <th>lluvia_ano</th>\n",
       "      <th>parque</th>\n",
       "      <th>dist_prom</th>\n",
       "    </tr>\n",
       "  </thead>\n",
       "  <tbody>\n",
       "    <tr>\n",
       "      <th>0</th>\n",
       "      <td>24.0</td>\n",
       "      <td>0.006300</td>\n",
       "      <td>32.31</td>\n",
       "      <td>0.538</td>\n",
       "      <td>6.575</td>\n",
       "      <td>65.2</td>\n",
       "      <td>24.7</td>\n",
       "      <td>4.98</td>\n",
       "      <td>SI</td>\n",
       "      <td>5.480</td>\n",
       "      <td>11.19200</td>\n",
       "      <td>Rio</td>\n",
       "      <td>23</td>\n",
       "      <td>0.049347</td>\n",
       "      <td>4.0875</td>\n",
       "    </tr>\n",
       "    <tr>\n",
       "      <th>1</th>\n",
       "      <td>21.6</td>\n",
       "      <td>0.026944</td>\n",
       "      <td>37.07</td>\n",
       "      <td>0.469</td>\n",
       "      <td>6.421</td>\n",
       "      <td>78.9</td>\n",
       "      <td>22.2</td>\n",
       "      <td>9.14</td>\n",
       "      <td>NO</td>\n",
       "      <td>7.332</td>\n",
       "      <td>12.17280</td>\n",
       "      <td>Lago</td>\n",
       "      <td>42</td>\n",
       "      <td>0.046146</td>\n",
       "      <td>4.9675</td>\n",
       "    </tr>\n",
       "    <tr>\n",
       "      <th>2</th>\n",
       "      <td>34.7</td>\n",
       "      <td>0.026924</td>\n",
       "      <td>37.07</td>\n",
       "      <td>0.469</td>\n",
       "      <td>7.185</td>\n",
       "      <td>61.1</td>\n",
       "      <td>22.2</td>\n",
       "      <td>4.03</td>\n",
       "      <td>NO</td>\n",
       "      <td>7.394</td>\n",
       "      <td>46.19856</td>\n",
       "      <td>Ninguno</td>\n",
       "      <td>38</td>\n",
       "      <td>0.045764</td>\n",
       "      <td>4.9675</td>\n",
       "    </tr>\n",
       "    <tr>\n",
       "      <th>3</th>\n",
       "      <td>33.4</td>\n",
       "      <td>0.031857</td>\n",
       "      <td>32.18</td>\n",
       "      <td>0.458</td>\n",
       "      <td>6.998</td>\n",
       "      <td>45.8</td>\n",
       "      <td>21.3</td>\n",
       "      <td>2.94</td>\n",
       "      <td>SI</td>\n",
       "      <td>9.268</td>\n",
       "      <td>11.26720</td>\n",
       "      <td>Lago</td>\n",
       "      <td>45</td>\n",
       "      <td>0.047151</td>\n",
       "      <td>6.0650</td>\n",
       "    </tr>\n",
       "    <tr>\n",
       "      <th>4</th>\n",
       "      <td>36.2</td>\n",
       "      <td>0.066770</td>\n",
       "      <td>32.18</td>\n",
       "      <td>0.458</td>\n",
       "      <td>7.147</td>\n",
       "      <td>54.2</td>\n",
       "      <td>21.3</td>\n",
       "      <td>5.33</td>\n",
       "      <td>NO</td>\n",
       "      <td>8.824</td>\n",
       "      <td>11.28960</td>\n",
       "      <td>Lago</td>\n",
       "      <td>55</td>\n",
       "      <td>0.039474</td>\n",
       "      <td>6.0625</td>\n",
       "    </tr>\n",
       "  </tbody>\n",
       "</table>\n",
       "</div>"
      ],
      "text/plain": [
       "   precio  tasa_crimen  area_resid  cal_aire  num_hab  edad  prof_mil  \\\n",
       "0    24.0     0.006300       32.31     0.538    6.575  65.2      24.7   \n",
       "1    21.6     0.026944       37.07     0.469    6.421  78.9      22.2   \n",
       "2    34.7     0.026924       37.07     0.469    7.185  61.1      22.2   \n",
       "3    33.4     0.031857       32.18     0.458    6.998  45.8      21.3   \n",
       "4    36.2     0.066770       32.18     0.458    7.147  54.2      21.3   \n",
       "\n",
       "   p_pobreza aeropuerto  n_cam_hos  n_hab_hotel cuerpo_agua  lluvia_ano  \\\n",
       "0       4.98         SI      5.480     11.19200         Rio          23   \n",
       "1       9.14         NO      7.332     12.17280        Lago          42   \n",
       "2       4.03         NO      7.394     46.19856     Ninguno          38   \n",
       "3       2.94         SI      9.268     11.26720        Lago          45   \n",
       "4       5.33         NO      8.824     11.28960        Lago          55   \n",
       "\n",
       "     parque  dist_prom  \n",
       "0  0.049347     4.0875  \n",
       "1  0.046146     4.9675  \n",
       "2  0.045764     4.9675  \n",
       "3  0.047151     6.0650  \n",
       "4  0.039474     6.0625  "
      ]
     },
     "execution_count": 45,
     "metadata": {},
     "output_type": "execute_result"
    }
   ],
   "source": [
    "df.head()"
   ]
  },
  {
   "cell_type": "markdown",
   "id": "worldwide-chancellor",
   "metadata": {},
   "source": [
    "# Crear variables dummy para los atributos categóricos\n",
    "Algunos algoritmos de aprendizaje automático no pueden desarrollar los entrenamientos con variables categóricas por lo que se hace necesario codificarlas a través de variables dummies"
   ]
  },
  {
   "cell_type": "code",
   "execution_count": 46,
   "id": "civilian-hotel",
   "metadata": {},
   "outputs": [],
   "source": [
    "df = pd.get_dummies(df) # Separa los valores únicos de los atributos categóricos en columnas\n",
    "# que indicaran la presencia(1) o la ausencia(0) de los valores"
   ]
  },
  {
   "cell_type": "code",
   "execution_count": 47,
   "id": "daily-angel",
   "metadata": {},
   "outputs": [
    {
     "data": {
      "text/html": [
       "<div>\n",
       "<style scoped>\n",
       "    .dataframe tbody tr th:only-of-type {\n",
       "        vertical-align: middle;\n",
       "    }\n",
       "\n",
       "    .dataframe tbody tr th {\n",
       "        vertical-align: top;\n",
       "    }\n",
       "\n",
       "    .dataframe thead th {\n",
       "        text-align: right;\n",
       "    }\n",
       "</style>\n",
       "<table border=\"1\" class=\"dataframe\">\n",
       "  <thead>\n",
       "    <tr style=\"text-align: right;\">\n",
       "      <th></th>\n",
       "      <th>precio</th>\n",
       "      <th>tasa_crimen</th>\n",
       "      <th>area_resid</th>\n",
       "      <th>cal_aire</th>\n",
       "      <th>num_hab</th>\n",
       "      <th>edad</th>\n",
       "      <th>prof_mil</th>\n",
       "      <th>p_pobreza</th>\n",
       "      <th>n_cam_hos</th>\n",
       "      <th>n_hab_hotel</th>\n",
       "      <th>lluvia_ano</th>\n",
       "      <th>parque</th>\n",
       "      <th>dist_prom</th>\n",
       "      <th>aeropuerto_NO</th>\n",
       "      <th>aeropuerto_SI</th>\n",
       "      <th>cuerpo_agua_Lago</th>\n",
       "      <th>cuerpo_agua_Lago y Rio</th>\n",
       "      <th>cuerpo_agua_Ninguno</th>\n",
       "      <th>cuerpo_agua_Rio</th>\n",
       "    </tr>\n",
       "  </thead>\n",
       "  <tbody>\n",
       "    <tr>\n",
       "      <th>0</th>\n",
       "      <td>24.0</td>\n",
       "      <td>0.006300</td>\n",
       "      <td>32.31</td>\n",
       "      <td>0.538</td>\n",
       "      <td>6.575</td>\n",
       "      <td>65.2</td>\n",
       "      <td>24.7</td>\n",
       "      <td>4.98</td>\n",
       "      <td>5.480</td>\n",
       "      <td>11.19200</td>\n",
       "      <td>23</td>\n",
       "      <td>0.049347</td>\n",
       "      <td>4.0875</td>\n",
       "      <td>0</td>\n",
       "      <td>1</td>\n",
       "      <td>0</td>\n",
       "      <td>0</td>\n",
       "      <td>0</td>\n",
       "      <td>1</td>\n",
       "    </tr>\n",
       "    <tr>\n",
       "      <th>1</th>\n",
       "      <td>21.6</td>\n",
       "      <td>0.026944</td>\n",
       "      <td>37.07</td>\n",
       "      <td>0.469</td>\n",
       "      <td>6.421</td>\n",
       "      <td>78.9</td>\n",
       "      <td>22.2</td>\n",
       "      <td>9.14</td>\n",
       "      <td>7.332</td>\n",
       "      <td>12.17280</td>\n",
       "      <td>42</td>\n",
       "      <td>0.046146</td>\n",
       "      <td>4.9675</td>\n",
       "      <td>1</td>\n",
       "      <td>0</td>\n",
       "      <td>1</td>\n",
       "      <td>0</td>\n",
       "      <td>0</td>\n",
       "      <td>0</td>\n",
       "    </tr>\n",
       "    <tr>\n",
       "      <th>2</th>\n",
       "      <td>34.7</td>\n",
       "      <td>0.026924</td>\n",
       "      <td>37.07</td>\n",
       "      <td>0.469</td>\n",
       "      <td>7.185</td>\n",
       "      <td>61.1</td>\n",
       "      <td>22.2</td>\n",
       "      <td>4.03</td>\n",
       "      <td>7.394</td>\n",
       "      <td>46.19856</td>\n",
       "      <td>38</td>\n",
       "      <td>0.045764</td>\n",
       "      <td>4.9675</td>\n",
       "      <td>1</td>\n",
       "      <td>0</td>\n",
       "      <td>0</td>\n",
       "      <td>0</td>\n",
       "      <td>1</td>\n",
       "      <td>0</td>\n",
       "    </tr>\n",
       "    <tr>\n",
       "      <th>3</th>\n",
       "      <td>33.4</td>\n",
       "      <td>0.031857</td>\n",
       "      <td>32.18</td>\n",
       "      <td>0.458</td>\n",
       "      <td>6.998</td>\n",
       "      <td>45.8</td>\n",
       "      <td>21.3</td>\n",
       "      <td>2.94</td>\n",
       "      <td>9.268</td>\n",
       "      <td>11.26720</td>\n",
       "      <td>45</td>\n",
       "      <td>0.047151</td>\n",
       "      <td>6.0650</td>\n",
       "      <td>0</td>\n",
       "      <td>1</td>\n",
       "      <td>1</td>\n",
       "      <td>0</td>\n",
       "      <td>0</td>\n",
       "      <td>0</td>\n",
       "    </tr>\n",
       "    <tr>\n",
       "      <th>4</th>\n",
       "      <td>36.2</td>\n",
       "      <td>0.066770</td>\n",
       "      <td>32.18</td>\n",
       "      <td>0.458</td>\n",
       "      <td>7.147</td>\n",
       "      <td>54.2</td>\n",
       "      <td>21.3</td>\n",
       "      <td>5.33</td>\n",
       "      <td>8.824</td>\n",
       "      <td>11.28960</td>\n",
       "      <td>55</td>\n",
       "      <td>0.039474</td>\n",
       "      <td>6.0625</td>\n",
       "      <td>1</td>\n",
       "      <td>0</td>\n",
       "      <td>1</td>\n",
       "      <td>0</td>\n",
       "      <td>0</td>\n",
       "      <td>0</td>\n",
       "    </tr>\n",
       "  </tbody>\n",
       "</table>\n",
       "</div>"
      ],
      "text/plain": [
       "   precio  tasa_crimen  area_resid  cal_aire  num_hab  edad  prof_mil  \\\n",
       "0    24.0     0.006300       32.31     0.538    6.575  65.2      24.7   \n",
       "1    21.6     0.026944       37.07     0.469    6.421  78.9      22.2   \n",
       "2    34.7     0.026924       37.07     0.469    7.185  61.1      22.2   \n",
       "3    33.4     0.031857       32.18     0.458    6.998  45.8      21.3   \n",
       "4    36.2     0.066770       32.18     0.458    7.147  54.2      21.3   \n",
       "\n",
       "   p_pobreza  n_cam_hos  n_hab_hotel  lluvia_ano    parque  dist_prom  \\\n",
       "0       4.98      5.480     11.19200          23  0.049347     4.0875   \n",
       "1       9.14      7.332     12.17280          42  0.046146     4.9675   \n",
       "2       4.03      7.394     46.19856          38  0.045764     4.9675   \n",
       "3       2.94      9.268     11.26720          45  0.047151     6.0650   \n",
       "4       5.33      8.824     11.28960          55  0.039474     6.0625   \n",
       "\n",
       "   aeropuerto_NO  aeropuerto_SI  cuerpo_agua_Lago  cuerpo_agua_Lago y Rio  \\\n",
       "0              0              1                 0                       0   \n",
       "1              1              0                 1                       0   \n",
       "2              1              0                 0                       0   \n",
       "3              0              1                 1                       0   \n",
       "4              1              0                 1                       0   \n",
       "\n",
       "   cuerpo_agua_Ninguno  cuerpo_agua_Rio  \n",
       "0                    0                1  \n",
       "1                    0                0  \n",
       "2                    1                0  \n",
       "3                    0                0  \n",
       "4                    0                0  "
      ]
     },
     "execution_count": 47,
     "metadata": {},
     "output_type": "execute_result"
    }
   ],
   "source": [
    "df.head()"
   ]
  },
  {
   "cell_type": "code",
   "execution_count": 48,
   "id": "declared-classics",
   "metadata": {},
   "outputs": [],
   "source": [
    "del df['aeropuerto_NO'] # Eliminar atributos redundantes"
   ]
  },
  {
   "cell_type": "code",
   "execution_count": 49,
   "id": "fifth-howard",
   "metadata": {},
   "outputs": [],
   "source": [
    "del df['cuerpo_agua_Ninguno']"
   ]
  },
  {
   "cell_type": "code",
   "execution_count": 50,
   "id": "floating-quarter",
   "metadata": {},
   "outputs": [
    {
     "data": {
      "text/html": [
       "<div>\n",
       "<style scoped>\n",
       "    .dataframe tbody tr th:only-of-type {\n",
       "        vertical-align: middle;\n",
       "    }\n",
       "\n",
       "    .dataframe tbody tr th {\n",
       "        vertical-align: top;\n",
       "    }\n",
       "\n",
       "    .dataframe thead th {\n",
       "        text-align: right;\n",
       "    }\n",
       "</style>\n",
       "<table border=\"1\" class=\"dataframe\">\n",
       "  <thead>\n",
       "    <tr style=\"text-align: right;\">\n",
       "      <th></th>\n",
       "      <th>precio</th>\n",
       "      <th>tasa_crimen</th>\n",
       "      <th>area_resid</th>\n",
       "      <th>cal_aire</th>\n",
       "      <th>num_hab</th>\n",
       "      <th>edad</th>\n",
       "      <th>prof_mil</th>\n",
       "      <th>p_pobreza</th>\n",
       "      <th>n_cam_hos</th>\n",
       "      <th>n_hab_hotel</th>\n",
       "      <th>lluvia_ano</th>\n",
       "      <th>parque</th>\n",
       "      <th>dist_prom</th>\n",
       "      <th>aeropuerto_SI</th>\n",
       "      <th>cuerpo_agua_Lago</th>\n",
       "      <th>cuerpo_agua_Lago y Rio</th>\n",
       "      <th>cuerpo_agua_Rio</th>\n",
       "    </tr>\n",
       "  </thead>\n",
       "  <tbody>\n",
       "    <tr>\n",
       "      <th>0</th>\n",
       "      <td>24.0</td>\n",
       "      <td>0.006300</td>\n",
       "      <td>32.31</td>\n",
       "      <td>0.538</td>\n",
       "      <td>6.575</td>\n",
       "      <td>65.2</td>\n",
       "      <td>24.7</td>\n",
       "      <td>4.98</td>\n",
       "      <td>5.480</td>\n",
       "      <td>11.19200</td>\n",
       "      <td>23</td>\n",
       "      <td>0.049347</td>\n",
       "      <td>4.0875</td>\n",
       "      <td>1</td>\n",
       "      <td>0</td>\n",
       "      <td>0</td>\n",
       "      <td>1</td>\n",
       "    </tr>\n",
       "    <tr>\n",
       "      <th>1</th>\n",
       "      <td>21.6</td>\n",
       "      <td>0.026944</td>\n",
       "      <td>37.07</td>\n",
       "      <td>0.469</td>\n",
       "      <td>6.421</td>\n",
       "      <td>78.9</td>\n",
       "      <td>22.2</td>\n",
       "      <td>9.14</td>\n",
       "      <td>7.332</td>\n",
       "      <td>12.17280</td>\n",
       "      <td>42</td>\n",
       "      <td>0.046146</td>\n",
       "      <td>4.9675</td>\n",
       "      <td>0</td>\n",
       "      <td>1</td>\n",
       "      <td>0</td>\n",
       "      <td>0</td>\n",
       "    </tr>\n",
       "    <tr>\n",
       "      <th>2</th>\n",
       "      <td>34.7</td>\n",
       "      <td>0.026924</td>\n",
       "      <td>37.07</td>\n",
       "      <td>0.469</td>\n",
       "      <td>7.185</td>\n",
       "      <td>61.1</td>\n",
       "      <td>22.2</td>\n",
       "      <td>4.03</td>\n",
       "      <td>7.394</td>\n",
       "      <td>46.19856</td>\n",
       "      <td>38</td>\n",
       "      <td>0.045764</td>\n",
       "      <td>4.9675</td>\n",
       "      <td>0</td>\n",
       "      <td>0</td>\n",
       "      <td>0</td>\n",
       "      <td>0</td>\n",
       "    </tr>\n",
       "    <tr>\n",
       "      <th>3</th>\n",
       "      <td>33.4</td>\n",
       "      <td>0.031857</td>\n",
       "      <td>32.18</td>\n",
       "      <td>0.458</td>\n",
       "      <td>6.998</td>\n",
       "      <td>45.8</td>\n",
       "      <td>21.3</td>\n",
       "      <td>2.94</td>\n",
       "      <td>9.268</td>\n",
       "      <td>11.26720</td>\n",
       "      <td>45</td>\n",
       "      <td>0.047151</td>\n",
       "      <td>6.0650</td>\n",
       "      <td>1</td>\n",
       "      <td>1</td>\n",
       "      <td>0</td>\n",
       "      <td>0</td>\n",
       "    </tr>\n",
       "    <tr>\n",
       "      <th>4</th>\n",
       "      <td>36.2</td>\n",
       "      <td>0.066770</td>\n",
       "      <td>32.18</td>\n",
       "      <td>0.458</td>\n",
       "      <td>7.147</td>\n",
       "      <td>54.2</td>\n",
       "      <td>21.3</td>\n",
       "      <td>5.33</td>\n",
       "      <td>8.824</td>\n",
       "      <td>11.28960</td>\n",
       "      <td>55</td>\n",
       "      <td>0.039474</td>\n",
       "      <td>6.0625</td>\n",
       "      <td>0</td>\n",
       "      <td>1</td>\n",
       "      <td>0</td>\n",
       "      <td>0</td>\n",
       "    </tr>\n",
       "  </tbody>\n",
       "</table>\n",
       "</div>"
      ],
      "text/plain": [
       "   precio  tasa_crimen  area_resid  cal_aire  num_hab  edad  prof_mil  \\\n",
       "0    24.0     0.006300       32.31     0.538    6.575  65.2      24.7   \n",
       "1    21.6     0.026944       37.07     0.469    6.421  78.9      22.2   \n",
       "2    34.7     0.026924       37.07     0.469    7.185  61.1      22.2   \n",
       "3    33.4     0.031857       32.18     0.458    6.998  45.8      21.3   \n",
       "4    36.2     0.066770       32.18     0.458    7.147  54.2      21.3   \n",
       "\n",
       "   p_pobreza  n_cam_hos  n_hab_hotel  lluvia_ano    parque  dist_prom  \\\n",
       "0       4.98      5.480     11.19200          23  0.049347     4.0875   \n",
       "1       9.14      7.332     12.17280          42  0.046146     4.9675   \n",
       "2       4.03      7.394     46.19856          38  0.045764     4.9675   \n",
       "3       2.94      9.268     11.26720          45  0.047151     6.0650   \n",
       "4       5.33      8.824     11.28960          55  0.039474     6.0625   \n",
       "\n",
       "   aeropuerto_SI  cuerpo_agua_Lago  cuerpo_agua_Lago y Rio  cuerpo_agua_Rio  \n",
       "0              1                 0                       0                1  \n",
       "1              0                 1                       0                0  \n",
       "2              0                 0                       0                0  \n",
       "3              1                 1                       0                0  \n",
       "4              0                 1                       0                0  "
      ]
     },
     "execution_count": 50,
     "metadata": {},
     "output_type": "execute_result"
    }
   ],
   "source": [
    "df.head()"
   ]
  },
  {
   "cell_type": "code",
   "execution_count": 51,
   "id": "a9c6f9b8-b53b-4240-9eb7-7ef5996b7456",
   "metadata": {},
   "outputs": [],
   "source": [
    "df.to_csv('precio_prep_reg.csv', header = True, index = False) # Guardar dataset con el preproceso finalizado\n",
    "# para su uso en los siguientes pasos."
   ]
  }
 ],
 "metadata": {
  "kernelspec": {
   "display_name": "Python 3",
   "language": "python",
   "name": "python3"
  },
  "language_info": {
   "codemirror_mode": {
    "name": "ipython",
    "version": 3
   },
   "file_extension": ".py",
   "mimetype": "text/x-python",
   "name": "python",
   "nbconvert_exporter": "python",
   "pygments_lexer": "ipython3",
   "version": "3.9.5"
  }
 },
 "nbformat": 4,
 "nbformat_minor": 5
}
