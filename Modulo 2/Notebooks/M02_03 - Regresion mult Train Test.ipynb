{
 "cells": [
  {
   "cell_type": "code",
   "execution_count": 1,
   "id": "fea10225-22fc-4b2e-94f5-a5b16be2aaa7",
   "metadata": {},
   "outputs": [],
   "source": [
    "import numpy as np # https://numpy.org/\n",
    "import pandas as pd # https://pandas.pydata.org/\n",
    "import seaborn as sns # https://seaborn.pydata.org/\n",
    "import matplotlib.pyplot as plt # https://matplotlib.org/stable/api/_as_gen/matplotlib.pyplot.html\n",
    "%matplotlib inline"
   ]
  },
  {
   "cell_type": "code",
   "execution_count": 2,
   "id": "cb32ed78-9165-44d9-a969-35a6e6a52f6a",
   "metadata": {},
   "outputs": [],
   "source": [
    "df = pd.read_csv('precio_prep_reg.csv', header = 0) # Leer el archivo generado en el notebook de preproceso"
   ]
  },
  {
   "cell_type": "code",
   "execution_count": 3,
   "id": "48687c0d-0c15-4281-98b8-a7facfeebeac",
   "metadata": {},
   "outputs": [],
   "source": [
    "X_multiple = df.drop('precio', axis = 1) # Crear un nuevo dataframe sin la columna precio (axis=1 -> borra columna)"
   ]
  },
  {
   "cell_type": "code",
   "execution_count": 4,
   "id": "c2540d97-db72-41ad-b9a9-b4248cfe69bc",
   "metadata": {},
   "outputs": [],
   "source": [
    "y_multiple = df['precio']"
   ]
  },
  {
   "cell_type": "code",
   "execution_count": 5,
   "id": "024d31dc-439f-4f8b-a4f8-175a411bada4",
   "metadata": {},
   "outputs": [],
   "source": [
    "from sklearn.linear_model import LinearRegression # Importar el modulo y la función necesaria para el modelo de regresión lineal\n"
   ]
  },
  {
   "cell_type": "markdown",
   "id": "d40cd2fe-30ad-4a70-b8fc-56d154f7032f",
   "metadata": {},
   "source": [
    "# División de los datos en set de entrenamiento y validación"
   ]
  },
  {
   "cell_type": "code",
   "execution_count": 6,
   "id": "7c61d709-e704-4744-a129-1fe9897ebdb0",
   "metadata": {},
   "outputs": [],
   "source": [
    "from sklearn.model_selection import train_test_split # Importar modulo y función necesaria para hacer una división\n",
    "# aleatoria de los datos"
   ]
  },
  {
   "cell_type": "code",
   "execution_count": 7,
   "id": "c99bb747-bded-49f6-9e59-daae1a455606",
   "metadata": {},
   "outputs": [],
   "source": [
    "X_train, X_test, y_train, y_test = train_test_split(X_multiple, y_multiple, test_size = 0.2, random_state = 123) # Obtener los cuatro\n",
    "# conjuntos de datos necesarios para el modelo"
   ]
  },
  {
   "cell_type": "code",
   "execution_count": 8,
   "id": "54c8bec6-88e8-498a-91b5-6e364ac35194",
   "metadata": {},
   "outputs": [
    {
     "data": {
      "text/plain": [
       "((404, 16), (102, 16), (102,), (404,))"
      ]
     },
     "execution_count": 8,
     "metadata": {},
     "output_type": "execute_result"
    }
   ],
   "source": [
    "X_train.shape, X_test.shape, y_test.shape, y_train.shape # Revisar las dimensiones de las matrices de los dataframes generados"
   ]
  },
  {
   "cell_type": "code",
   "execution_count": 9,
   "id": "2830a62b-a2ad-4710-a5cd-46c23920a756",
   "metadata": {},
   "outputs": [],
   "source": [
    "linear_model_s = LinearRegression()"
   ]
  },
  {
   "cell_type": "code",
   "execution_count": 10,
   "id": "b45b4f39-c431-4325-8f34-5c69e0a0804a",
   "metadata": {},
   "outputs": [
    {
     "data": {
      "text/plain": [
       "LinearRegression()"
      ]
     },
     "execution_count": 10,
     "metadata": {},
     "output_type": "execute_result"
    }
   ],
   "source": [
    "linear_model_s.fit(X_train, y_train)"
   ]
  },
  {
   "cell_type": "code",
   "execution_count": 11,
   "id": "68a731cf-1910-49fe-8963-0b4202b00985",
   "metadata": {},
   "outputs": [],
   "source": [
    "y_train_s = linear_model_s.predict(X_train) # Realizar la predicción en el conjunto de entrenamiento"
   ]
  },
  {
   "cell_type": "code",
   "execution_count": 12,
   "id": "a72c4ec2-c7fc-4454-acc0-2f065fd3490f",
   "metadata": {},
   "outputs": [],
   "source": [
    "y_test_s = linear_model_s.predict(X_test) # Realizar la predicción en el conjunto de validación"
   ]
  },
  {
   "cell_type": "code",
   "execution_count": 13,
   "id": "0d25d7a6-e0f9-475f-a3fa-78920dd6109c",
   "metadata": {},
   "outputs": [],
   "source": [
    "from sklearn.metrics import r2_score # Importar la función que realiza el calculo del coeficiente de determinación"
   ]
  },
  {
   "cell_type": "code",
   "execution_count": 14,
   "id": "4d549fef-5f52-4b76-9d17-b4c0e2d2df2b",
   "metadata": {},
   "outputs": [
    {
     "data": {
      "text/plain": [
       "\u001b[1;31mSignature:\u001b[0m\n",
       "\u001b[0mr2_score\u001b[0m\u001b[1;33m(\u001b[0m\u001b[1;33m\n",
       "\u001b[0m    \u001b[0my_true\u001b[0m\u001b[1;33m,\u001b[0m\u001b[1;33m\n",
       "\u001b[0m    \u001b[0my_pred\u001b[0m\u001b[1;33m,\u001b[0m\u001b[1;33m\n",
       "\u001b[0m    \u001b[1;33m*\u001b[0m\u001b[1;33m,\u001b[0m\u001b[1;33m\n",
       "\u001b[0m    \u001b[0msample_weight\u001b[0m\u001b[1;33m=\u001b[0m\u001b[1;32mNone\u001b[0m\u001b[1;33m,\u001b[0m\u001b[1;33m\n",
       "\u001b[0m    \u001b[0mmultioutput\u001b[0m\u001b[1;33m=\u001b[0m\u001b[1;34m'uniform_average'\u001b[0m\u001b[1;33m,\u001b[0m\u001b[1;33m\n",
       "\u001b[0m\u001b[1;33m)\u001b[0m\u001b[1;33m\u001b[0m\u001b[1;33m\u001b[0m\u001b[0m\n",
       "\u001b[1;31mDocstring:\u001b[0m\n",
       "R^2 (coefficient of determination) regression score function.\n",
       "\n",
       "Best possible score is 1.0 and it can be negative (because the\n",
       "model can be arbitrarily worse). A constant model that always\n",
       "predicts the expected value of y, disregarding the input features,\n",
       "would get a R^2 score of 0.0.\n",
       "\n",
       "Read more in the :ref:`User Guide <r2_score>`.\n",
       "\n",
       "Parameters\n",
       "----------\n",
       "y_true : array-like of shape (n_samples,) or (n_samples, n_outputs)\n",
       "    Ground truth (correct) target values.\n",
       "\n",
       "y_pred : array-like of shape (n_samples,) or (n_samples, n_outputs)\n",
       "    Estimated target values.\n",
       "\n",
       "sample_weight : array-like of shape (n_samples,), default=None\n",
       "    Sample weights.\n",
       "\n",
       "multioutput : {'raw_values', 'uniform_average', 'variance_weighted'},             array-like of shape (n_outputs,) or None, default='uniform_average'\n",
       "\n",
       "    Defines aggregating of multiple output scores.\n",
       "    Array-like value defines weights used to average scores.\n",
       "    Default is \"uniform_average\".\n",
       "\n",
       "    'raw_values' :\n",
       "        Returns a full set of scores in case of multioutput input.\n",
       "\n",
       "    'uniform_average' :\n",
       "        Scores of all outputs are averaged with uniform weight.\n",
       "\n",
       "    'variance_weighted' :\n",
       "        Scores of all outputs are averaged, weighted by the variances\n",
       "        of each individual output.\n",
       "\n",
       "    .. versionchanged:: 0.19\n",
       "        Default value of multioutput is 'uniform_average'.\n",
       "\n",
       "Returns\n",
       "-------\n",
       "z : float or ndarray of floats\n",
       "    The R^2 score or ndarray of scores if 'multioutput' is\n",
       "    'raw_values'.\n",
       "\n",
       "Notes\n",
       "-----\n",
       "This is not a symmetric function.\n",
       "\n",
       "Unlike most other scores, R^2 score may be negative (it need not actually\n",
       "be the square of a quantity R).\n",
       "\n",
       "This metric is not well-defined for single samples and will return a NaN\n",
       "value if n_samples is less than two.\n",
       "\n",
       "References\n",
       "----------\n",
       ".. [1] `Wikipedia entry on the Coefficient of determination\n",
       "        <https://en.wikipedia.org/wiki/Coefficient_of_determination>`_\n",
       "\n",
       "Examples\n",
       "--------\n",
       ">>> from sklearn.metrics import r2_score\n",
       ">>> y_true = [3, -0.5, 2, 7]\n",
       ">>> y_pred = [2.5, 0.0, 2, 8]\n",
       ">>> r2_score(y_true, y_pred)\n",
       "0.948...\n",
       ">>> y_true = [[0.5, 1], [-1, 1], [7, -6]]\n",
       ">>> y_pred = [[0, 2], [-1, 2], [8, -5]]\n",
       ">>> r2_score(y_true, y_pred,\n",
       "...          multioutput='variance_weighted')\n",
       "0.938...\n",
       ">>> y_true = [1, 2, 3]\n",
       ">>> y_pred = [1, 2, 3]\n",
       ">>> r2_score(y_true, y_pred)\n",
       "1.0\n",
       ">>> y_true = [1, 2, 3]\n",
       ">>> y_pred = [2, 2, 2]\n",
       ">>> r2_score(y_true, y_pred)\n",
       "0.0\n",
       ">>> y_true = [1, 2, 3]\n",
       ">>> y_pred = [3, 2, 1]\n",
       ">>> r2_score(y_true, y_pred)\n",
       "-3.0\n",
       "\u001b[1;31mFile:\u001b[0m      d:\\jasdata\\python39\\lib\\site-packages\\sklearn\\metrics\\_regression.py\n",
       "\u001b[1;31mType:\u001b[0m      function\n"
      ]
     },
     "metadata": {},
     "output_type": "display_data"
    }
   ],
   "source": [
    "r2_score?"
   ]
  },
  {
   "cell_type": "code",
   "execution_count": 15,
   "id": "6f847c23-c6b1-4aeb-854e-fe8b76eaba6b",
   "metadata": {},
   "outputs": [
    {
     "data": {
      "text/plain": [
       "0.747689691306311"
      ]
     },
     "execution_count": 15,
     "metadata": {},
     "output_type": "execute_result"
    }
   ],
   "source": [
    "r2_score(y_train, y_train_s) # Ver la bondad de ajuste en los datos de entrenamiento"
   ]
  },
  {
   "cell_type": "code",
   "execution_count": 16,
   "id": "b6920c25-2113-42d7-af36-e16465e7a25e",
   "metadata": {},
   "outputs": [
    {
     "data": {
      "text/plain": [
       "0.5957731490588167"
      ]
     },
     "execution_count": 16,
     "metadata": {},
     "output_type": "execute_result"
    }
   ],
   "source": [
    "r2_score(y_test, y_test_s) # Ver la bondad de ajuste en los datos de validación"
   ]
  },
  {
   "cell_type": "markdown",
   "id": "554dd837-c867-4baf-b5a2-06a04d7b53f4",
   "metadata": {},
   "source": [
    "## Validación cruzada (KFold)\n",
    "![Validación cruzada](5-Fold-Cross-Validation.jpg)"
   ]
  },
  {
   "cell_type": "code",
   "execution_count": 17,
   "id": "0d51b0dd-17a1-484e-a0f0-e267b5251ff3",
   "metadata": {},
   "outputs": [],
   "source": [
    "from sklearn.model_selection import KFold # Importar el modulo necesario para desarrollar la validación cruzada\n",
    "from sklearn.model_selection import cross_val_score"
   ]
  },
  {
   "cell_type": "code",
   "execution_count": 18,
   "id": "4dee25d5-45bb-4521-8b2b-2a8b7d06630d",
   "metadata": {},
   "outputs": [],
   "source": [
    "kf = KFold(n_splits = 10) # Escoger las porciones en que vamos a dividir el dataset de entrenamiento para hacer las particiones y las pruebas"
   ]
  },
  {
   "cell_type": "code",
   "execution_count": 19,
   "id": "3edeafcc-3cd2-4ad3-8d3c-e3bf720dea02",
   "metadata": {},
   "outputs": [],
   "source": [
    "score = linear_model_s.score(X_train, y_train) # Hallar el valor de r2 con la función score"
   ]
  },
  {
   "cell_type": "code",
   "execution_count": 20,
   "id": "a80d0595-1742-4cec-a575-cd09117924be",
   "metadata": {},
   "outputs": [
    {
     "data": {
      "text/plain": [
       "0.747689691306311"
      ]
     },
     "execution_count": 20,
     "metadata": {},
     "output_type": "execute_result"
    }
   ],
   "source": [
    "score # Observar que es congruente con la respuesta obtenida por el metodo de división en entrenamiento y validación"
   ]
  },
  {
   "cell_type": "code",
   "execution_count": 21,
   "id": "255cfdf6-cb17-4baa-bf15-405cc3875ecb",
   "metadata": {},
   "outputs": [],
   "source": [
    "score_cv_train = cross_val_score(linear_model_s, X_train, y_train, cv = kf) # Desarrollar la validación cruzada con el conjunto de datos de entrenamiento"
   ]
  },
  {
   "cell_type": "code",
   "execution_count": 22,
   "id": "405ef371-3812-4a95-bb26-bb036c43c815",
   "metadata": {},
   "outputs": [
    {
     "data": {
      "text/plain": [
       "array([0.56409073, 0.71317068, 0.82670501, 0.82307103, 0.64894639,\n",
       "       0.84640757, 0.57229203, 0.76101139, 0.4906286 , 0.70743903])"
      ]
     },
     "execution_count": 22,
     "metadata": {},
     "output_type": "execute_result"
    }
   ],
   "source": [
    "score_cv_train"
   ]
  },
  {
   "cell_type": "code",
   "execution_count": 23,
   "id": "f653b739-cc51-4d01-a2e1-9cfc46f4e1f9",
   "metadata": {},
   "outputs": [
    {
     "name": "stdout",
     "output_type": "stream",
     "text": [
      "Media de las validaciones set de entrenamiento:  0.6953762471062404\n"
     ]
    }
   ],
   "source": [
    "print(\"Media de las validaciones set de entrenamiento: \", score_cv_train.mean())"
   ]
  },
  {
   "cell_type": "code",
   "execution_count": 24,
   "id": "140bde20-72d1-4fdb-a545-779f5cf078c2",
   "metadata": {},
   "outputs": [],
   "source": [
    "score_cv_test = cross_val_score(linear_model_s, X_test, y_test, cv = kf) # Desarrollar la validación cruzada con el cojunto de datos de prueba"
   ]
  },
  {
   "cell_type": "code",
   "execution_count": 25,
   "id": "7912cfd2-5e21-4d06-9b98-996935c5f056",
   "metadata": {},
   "outputs": [
    {
     "data": {
      "text/plain": [
       "array([0.60839116, 0.20973254, 0.42353794, 0.71151333, 0.52872128,\n",
       "       0.4969434 , 0.21321164, 0.34301396, 0.5592502 , 0.09139983])"
      ]
     },
     "execution_count": 25,
     "metadata": {},
     "output_type": "execute_result"
    }
   ],
   "source": [
    "score_cv_test"
   ]
  },
  {
   "cell_type": "code",
   "execution_count": 26,
   "id": "49046454-a9e8-4908-a850-69599a96eb64",
   "metadata": {},
   "outputs": [
    {
     "name": "stdout",
     "output_type": "stream",
     "text": [
      "Media de las validaciones set de prueba:  0.4185715268182369\n"
     ]
    }
   ],
   "source": [
    "print(\"Media de las validaciones set de prueba: \", score_cv_test.mean())"
   ]
  },
  {
   "cell_type": "markdown",
   "id": "0ec7f765-71d8-4f9a-95f6-428c850f54bd",
   "metadata": {},
   "source": [
    "### ¿A qué conclusión puedes llegar al observar los resultados de ambos métodos de validación en cuanto a la validación?"
   ]
  }
 ],
 "metadata": {
  "kernelspec": {
   "display_name": "Python 3",
   "language": "python",
   "name": "python3"
  },
  "language_info": {
   "codemirror_mode": {
    "name": "ipython",
    "version": 3
   },
   "file_extension": ".py",
   "mimetype": "text/x-python",
   "name": "python",
   "nbconvert_exporter": "python",
   "pygments_lexer": "ipython3",
   "version": "3.9.5"
  }
 },
 "nbformat": 4,
 "nbformat_minor": 5
}
