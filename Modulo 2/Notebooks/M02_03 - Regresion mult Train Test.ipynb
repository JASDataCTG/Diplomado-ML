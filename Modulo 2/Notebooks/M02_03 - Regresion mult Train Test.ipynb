{
 "cells": [
  {
   "cell_type": "markdown",
   "id": "d40cd2fe-30ad-4a70-b8fc-56d154f7032f",
   "metadata": {},
   "source": [
    "# Regresión lineal multiple\n",
    "\n",
    "El modelo matricial general es el siguiente para el modelo general de regresión lineal, en el caso de la regresión lineal simple solo existiría una columna para la variable predictora $x$ y solo dos valores de los parámetros $\\theta$ ($\\theta_{0}$ y $\\theta_{1}$.\n",
    "\n",
    "$Y=\\large{\n",
    "\\left[\n",
    "\\begin{array}{40}\n",
    "y^{(1)}\\\\\n",
    "y^{(2)}\\\\\n",
    "y^{(3)}\\\\\n",
    "y^{(3)}\\\\\n",
    ":\\\\\n",
    "y^{(m)}\n",
    "\\end{array}\n",
    "\\right]\n",
    "}$, $\\large{\n",
    "X=\n",
    "\\left[\n",
    "\\begin{array}{44}\n",
    "1&x_{1}^1&x_{2}^1&x_{3}^1&...&x_{n}^1\\\\\n",
    "1&x_{1}^2&x_{2}^2&x_{3}^2&...&x_{n}^2\\\\\n",
    "1&x_{1}^3&x_{2}^3&x_{3}^3&...&x_{n}^3\\\\\n",
    "1&x_{1}^4&x_{2}^4&x_{3}^4&...&x_{n}^3\\\\\n",
    ":&:&:&:&:&:\\\\\n",
    "1&x_{1}^m&x_{2}^m&x_{3}^m&...&x_{n}^m\\\\\n",
    "\\end{array}\n",
    "\\right]\n",
    "}$ ,\n",
    "$\\large{\n",
    "\\theta=\n",
    "\\left[\n",
    "\\begin{array}{40}\n",
    "\\theta_{0}\\\\\n",
    "\\theta_{1}\\\\\n",
    "\\theta_{2}\\\\\n",
    "\\theta_{3}\\\\\n",
    ":\\\\\n",
    "\\theta_{n}\n",
    "\\end{array}\n",
    "\\right]\n",
    "}$\n",
    "### División de los datos en set de entrenamiento y validación"
   ]
  },
  {
   "cell_type": "code",
   "execution_count": null,
   "id": "fea10225-22fc-4b2e-94f5-a5b16be2aaa7",
   "metadata": {},
   "outputs": [],
   "source": [
    "import numpy as np # https://numpy.org/\n",
    "import pandas as pd # https://pandas.pydata.org/\n",
    "import seaborn as sns # https://seaborn.pydata.org/\n",
    "import matplotlib.pyplot as plt # https://matplotlib.org/stable/api/_as_gen/matplotlib.pyplot.html\n",
    "%matplotlib inline"
   ]
  },
  {
   "cell_type": "code",
   "execution_count": null,
   "id": "cb32ed78-9165-44d9-a969-35a6e6a52f6a",
   "metadata": {},
   "outputs": [],
   "source": [
    "# Leer el archivo generado en el notebook de preproceso\n",
    "url = 'https://raw.githubusercontent.com/JASDataCTG/Diplomado-ML/main/Modulo%202/Datasets/precio_prep_noparq.csv'\n",
    "df = pd.read_csv(url, header = 0)"
   ]
  },
  {
   "cell_type": "code",
   "execution_count": null,
   "id": "48687c0d-0c15-4281-98b8-a7facfeebeac",
   "metadata": {},
   "outputs": [],
   "source": [
    "# Crear un nuevo dataframe sin la columna precio (axis=1 -> borra columna)\n",
    "X_multiple = df.drop('precio', axis = 1)"
   ]
  },
  {
   "cell_type": "code",
   "execution_count": null,
   "id": "c2540d97-db72-41ad-b9a9-b4248cfe69bc",
   "metadata": {
    "tags": []
   },
   "outputs": [],
   "source": [
    "y_multiple = df['precio']"
   ]
  },
  {
   "cell_type": "code",
   "execution_count": null,
   "id": "024d31dc-439f-4f8b-a4f8-175a411bada4",
   "metadata": {},
   "outputs": [],
   "source": [
    "# Importar el modulo y la función necesaria para el modelo de regresión lineal\n",
    "from sklearn.linear_model import LinearRegression\n",
    "\n",
    "# Importar modulo y función necesaria para hacer una división aleatoria de los datos\n",
    "from sklearn.model_selection import train_test_split "
   ]
  },
  {
   "cell_type": "code",
   "execution_count": null,
   "id": "c99bb747-bded-49f6-9e59-daae1a455606",
   "metadata": {},
   "outputs": [],
   "source": [
    "# Obtener los cuatro conjuntos de datos necesarios para el modelo\n",
    "X_train, X_test, y_train, y_test = train_test_split(X_multiple, y_multiple, test_size = 0.2, random_state = 123)"
   ]
  },
  {
   "cell_type": "code",
   "execution_count": null,
   "id": "54c8bec6-88e8-498a-91b5-6e364ac35194",
   "metadata": {},
   "outputs": [],
   "source": [
    "X_train.shape, X_test.shape, y_test.shape, y_train.shape # Revisar las dimensiones de las matrices de los dataframes generados"
   ]
  },
  {
   "cell_type": "markdown",
   "id": "b7fcb869-f3c2-43fe-b29c-6423602439d1",
   "metadata": {},
   "source": [
    "Las 506 instancias del conjunto de datos se dividen en un set de entrenamiento de 404 instancias y otro de validación con 102 instancias, equivalente al 80 y 20% respectivamente. Se asigna una semilla para generar los datos con el fin de que este sea reproducible y no cambien los datos en cada ejecución de la celda del notebook."
   ]
  },
  {
   "cell_type": "code",
   "execution_count": null,
   "id": "2830a62b-a2ad-4710-a5cd-46c23920a756",
   "metadata": {},
   "outputs": [],
   "source": [
    "linear_model_s = LinearRegression()"
   ]
  },
  {
   "cell_type": "code",
   "execution_count": null,
   "id": "b45b4f39-c431-4325-8f34-5c69e0a0804a",
   "metadata": {},
   "outputs": [],
   "source": [
    "linear_model_s.fit(X_train, y_train)"
   ]
  },
  {
   "cell_type": "code",
   "execution_count": null,
   "id": "68a731cf-1910-49fe-8963-0b4202b00985",
   "metadata": {},
   "outputs": [],
   "source": [
    "# Realizar la predicción en el conjunto de entrenamiento\n",
    "y_train_s_pred = linear_model_s.predict(X_train)"
   ]
  },
  {
   "cell_type": "code",
   "execution_count": null,
   "id": "a72c4ec2-c7fc-4454-acc0-2f065fd3490f",
   "metadata": {},
   "outputs": [],
   "source": [
    "# Realizar la predicción en el conjunto de validación\n",
    "y_test_s_pred = linear_model_s.predict(X_test)"
   ]
  },
  {
   "cell_type": "code",
   "execution_count": null,
   "id": "a01ee317-31f3-4cbb-8da4-1bb16919557b",
   "metadata": {},
   "outputs": [],
   "source": [
    "# Ver las predicciones desarrolladas por el modelo para el conjunto de validación X_test\n",
    "y_test_s_pred"
   ]
  },
  {
   "cell_type": "code",
   "execution_count": null,
   "id": "94a86fb5-3760-4106-8994-f65eeedd7c07",
   "metadata": {},
   "outputs": [],
   "source": [
    "# Ver el conjunto de validación\n",
    "X_test"
   ]
  },
  {
   "cell_type": "code",
   "execution_count": null,
   "id": "bbf72c7d-66d0-45fc-b90e-605ab72102e7",
   "metadata": {},
   "outputs": [],
   "source": [
    "# Convertir el array vector de predicciones a dataframe\n",
    "y_test_s_df = pd.DataFrame(y_test_s_pred, columns = ['Prediccion'])"
   ]
  },
  {
   "cell_type": "code",
   "execution_count": null,
   "id": "e2fc61a8-5321-4e3a-9ae7-43e72c286f64",
   "metadata": {},
   "outputs": [],
   "source": [
    "y_test_s_df"
   ]
  },
  {
   "cell_type": "code",
   "execution_count": null,
   "id": "502881e1-e05c-444d-a0ac-6bb0dbb82035",
   "metadata": {},
   "outputs": [],
   "source": [
    "# Reindexar X_texst para poder hacer el join con y_test_s_df\n",
    "X_test_reindex = X_test.reset_index(drop = True, inplace = False)"
   ]
  },
  {
   "cell_type": "code",
   "execution_count": null,
   "id": "b934d612-3096-4c7b-b72d-8b9a9aa60a9e",
   "metadata": {},
   "outputs": [],
   "source": [
    "# Realizar la fusión de los dos datafram para poder ver el las variables predictoras\n",
    "# y la variable predica en un solo dataframe\n",
    "test_x_con_pred = X_test_reindex.join(y_test_s_df)"
   ]
  },
  {
   "cell_type": "code",
   "execution_count": null,
   "id": "05b62319-cb77-409e-b67e-f17cc9df2fe5",
   "metadata": {},
   "outputs": [],
   "source": [
    "test_x_con_pred"
   ]
  },
  {
   "cell_type": "code",
   "execution_count": null,
   "id": "0d25d7a6-e0f9-475f-a3fa-78920dd6109c",
   "metadata": {},
   "outputs": [],
   "source": [
    "# Importar la función que realiza el calculo del coeficiente de determinación\n",
    "# con el fin de analizar la bondad de ajuste del modelo\n",
    "from sklearn.metrics import r2_score"
   ]
  },
  {
   "cell_type": "code",
   "execution_count": null,
   "id": "4d549fef-5f52-4b76-9d17-b4c0e2d2df2b",
   "metadata": {},
   "outputs": [],
   "source": [
    "r2_score?"
   ]
  },
  {
   "cell_type": "code",
   "execution_count": null,
   "id": "6f847c23-c6b1-4aeb-854e-fe8b76eaba6b",
   "metadata": {},
   "outputs": [],
   "source": [
    "# Ver la bondad de ajuste en los datos de entrenamiento\n",
    "r2_score(y_train, y_train_s_pred)"
   ]
  },
  {
   "cell_type": "markdown",
   "id": "ac080000-2501-4e48-ae49-f95d99cc2658",
   "metadata": {},
   "source": [
    "El valor de $r^2$ del modelo nos informa que el modelo es capaz de explicar, aproximadamente, el 25% de la varianza de la variable predicha de los precios de las propiedades en el conjunto de entrenamiento."
   ]
  },
  {
   "cell_type": "code",
   "execution_count": null,
   "id": "b6920c25-2113-42d7-af36-e16465e7a25e",
   "metadata": {},
   "outputs": [],
   "source": [
    "r2_score(y_test, y_test_s_pred) # Ver la bondad de ajuste en los datos de validación"
   ]
  },
  {
   "cell_type": "markdown",
   "id": "8dd07499-e652-4cf9-a9cd-241eef90e9c0",
   "metadata": {},
   "source": [
    "El valor de $r^2$ del modelo nos informa que el modelo es capaz de explicar, aproximadamente, el 60.5% de la varianza de la variable predicha de los precios de las propiedades en el conjunto de validación."
   ]
  },
  {
   "cell_type": "markdown",
   "id": "554dd837-c867-4baf-b5a2-06a04d7b53f4",
   "metadata": {},
   "source": [
    "### Validación cruzada (KFold)\n",
    "![Validación cruzada](5-Fold-Cross-Validation.jpg)\n",
    "El método de validación que vimos en la sección anterior se conoce como el método de validación simple, muy utilizado para conjuntos de tamaño considerable (más de 2 millones de instancias), sin embargo, cuando tenemos datasets con pocas instancias (más de 200 y menos de 2 millones) se puede utilizar una técnica conocida como *Cross Validation* o validación cruzada. La validación cruzada consiste en dividir los datos de forma aleatoria en $k$ grupos de aproximadamente el mismo tamaño, $k-1$ grupos se emplean para desarrollar el entremiento del modelo y uno de los grupos se emplea para la validación."
   ]
  },
  {
   "cell_type": "code",
   "execution_count": null,
   "id": "0d51b0dd-17a1-484e-a0f0-e267b5251ff3",
   "metadata": {},
   "outputs": [],
   "source": [
    "# Importar el modulo necesario para desarrollar la validación cruzada\n",
    "from sklearn.model_selection import KFold\n",
    "\n",
    "# Importar las métricas de evaluación del modelo (score)\n",
    "from sklearn.model_selection import cross_val_score"
   ]
  },
  {
   "cell_type": "code",
   "execution_count": null,
   "id": "4dee25d5-45bb-4521-8b2b-2a8b7d06630d",
   "metadata": {},
   "outputs": [],
   "source": [
    "# Escoger las porciones en que vamos a dividir el dataset de entrenamiento para hacer las particiones y las pruebas\n",
    "kf = KFold(n_splits = 10)"
   ]
  },
  {
   "cell_type": "code",
   "execution_count": null,
   "id": "3edeafcc-3cd2-4ad3-8d3c-e3bf720dea02",
   "metadata": {},
   "outputs": [],
   "source": [
    "# Hallar el valor de r2 con la función score\n",
    "score = linear_model_s.score(X_train, y_train)"
   ]
  },
  {
   "cell_type": "code",
   "execution_count": null,
   "id": "a80d0595-1742-4cec-a575-cd09117924be",
   "metadata": {},
   "outputs": [],
   "source": [
    "score"
   ]
  },
  {
   "cell_type": "code",
   "execution_count": null,
   "id": "255cfdf6-cb17-4baa-bf15-405cc3875ecb",
   "metadata": {},
   "outputs": [],
   "source": [
    "# Desarrollar la validación cruzada con el conjunto de datos de entrenamiento\n",
    "score_cv_train = cross_val_score(linear_model_s, X_train, y_train, cv = kf)"
   ]
  },
  {
   "cell_type": "code",
   "execution_count": null,
   "id": "405ef371-3812-4a95-bb26-bb036c43c815",
   "metadata": {},
   "outputs": [],
   "source": [
    "score_cv_train"
   ]
  },
  {
   "cell_type": "code",
   "execution_count": null,
   "id": "f653b739-cc51-4d01-a2e1-9cfc46f4e1f9",
   "metadata": {},
   "outputs": [],
   "source": [
    "# Calcular la media de los score (r cuadrado) de las diez validaciones desarrolladas\n",
    "print(\"Media de las validaciones set de entrenamiento: \", score_cv_train.mean())"
   ]
  },
  {
   "cell_type": "markdown",
   "id": "8c348dbf-0c4e-482d-b3a7-96cfa43f9571",
   "metadata": {},
   "source": [
    "Observar que con la validación cruzada se obtiene un valor de $r^2$ menor al obtenido por la validación simple o particionada."
   ]
  }
 ],
 "metadata": {
  "kernelspec": {
   "display_name": "Python 3",
   "language": "python",
   "name": "python3"
  },
  "language_info": {
   "codemirror_mode": {
    "name": "ipython",
    "version": 3
   },
   "file_extension": ".py",
   "mimetype": "text/x-python",
   "name": "python",
   "nbconvert_exporter": "python",
   "pygments_lexer": "ipython3",
   "version": "3.9.5"
  }
 },
 "nbformat": 4,
 "nbformat_minor": 5
}
