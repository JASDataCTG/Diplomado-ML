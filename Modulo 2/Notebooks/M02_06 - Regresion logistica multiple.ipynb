{
 "cells": [
  {
   "cell_type": "markdown",
   "id": "aca77b95-6c2e-4c78-b377-283cdd82a064",
   "metadata": {},
   "source": [
    "# Regresión logística multiple\n",
    "Dado que la función lineal no se puede ajustar a variables catagóricas binarias (0, 1), se hace necesario utilizar la función sigmoide $\\sigma(y)$:\n",
    "\n",
    "$\\large{\\sigma(y)=\\frac{1}{1+e^{-y}}}$\n",
    "\n",
    "Cuando $y$ toma valores positivos muy grandes, $e^{-y}$ toma volores muy cercanos a cero, lo que ocasiona que la función $\\sigma(y)$ tome valores muy cercanos a $1$. Por el contrario, cuando $y$ toma valores negativos muy grandes, $e^{-y}$ toma volores muy cercanos a $+\\infty$, lo que ocasiona que la función $\\sigma(y)$ tome valores muy cercanos a $0$\n",
    "\n",
    "Probabilidad de $y$ dado $X$:\n",
    "\n",
    "$\\large{P(y=1|X=x)=\\frac{e^{\\theta_{0}+\\theta_{1}x_{1}+\\theta_{2}x_{2}+\\theta_{3}x_{3}+...+\\theta_{p}x_{p}}}{1+e^{-(\\theta_{0}+\\theta_{1}x_{1}+\\theta_{2}x_{2}+\\theta_{3}x_{3}+...+\\theta_{p}x_{p})}}}$\n",
    "\n",
    "La regresión logística calcula los logaritmos de las probabilidades de cada variable para transformarlas en 0 o 1, usando un umbral de decisión.\n",
    "\n",
    "Se conoce como probabilidad de *odds* a la razón entre la probabilidad de aciertos y desaciertos:\n",
    "\n",
    "$\\large{odds = \\frac{P(y=1|X;\\theta)}{P(y=0|X;\\theta)}}$\n",
    "\n",
    "entonces,\n",
    "\n",
    "$\\large{\\ln{\\frac{P(y=1|X;\\theta)}{P(y=0|X;\\theta)}}=\\theta_{0}+\\theta_{1}x_{1}+\\theta_{2}x_{2}+\\theta_{3}x_{3}+...+\\theta_{p}x_{p}}$"
   ]
  },
  {
   "cell_type": "code",
   "execution_count": 24,
   "id": "ad410cbf-f867-43e2-ad29-80e653986f22",
   "metadata": {},
   "outputs": [],
   "source": [
    "import pandas as pd\n",
    "import numpy as np\n",
    "import seaborn as sns\n",
    "import matplotlib.pyplot as plt"
   ]
  },
  {
   "cell_type": "code",
   "execution_count": 25,
   "id": "79fc1084-e9f5-4bc7-8c64-7294129a78ed",
   "metadata": {},
   "outputs": [],
   "source": [
    "# Leer el dataset final generado por el notebook M02_05\n",
    "df = pd.read_csv('DataReg.csv', header = 0)"
   ]
  },
  {
   "cell_type": "code",
   "execution_count": 26,
   "id": "df6afa23-a2c3-45b6-bff6-92cc1952f6a2",
   "metadata": {},
   "outputs": [
    {
     "data": {
      "text/html": [
       "<div>\n",
       "<style scoped>\n",
       "    .dataframe tbody tr th:only-of-type {\n",
       "        vertical-align: middle;\n",
       "    }\n",
       "\n",
       "    .dataframe tbody tr th {\n",
       "        vertical-align: top;\n",
       "    }\n",
       "\n",
       "    .dataframe thead th {\n",
       "        text-align: right;\n",
       "    }\n",
       "</style>\n",
       "<table border=\"1\" class=\"dataframe\">\n",
       "  <thead>\n",
       "    <tr style=\"text-align: right;\">\n",
       "      <th></th>\n",
       "      <th>precio</th>\n",
       "      <th>area_resid</th>\n",
       "      <th>cal_aire</th>\n",
       "      <th>num_hab</th>\n",
       "      <th>edad</th>\n",
       "      <th>prof_mil</th>\n",
       "      <th>p-pobreza</th>\n",
       "      <th>n_cam_hos</th>\n",
       "      <th>n_hab_hotel</th>\n",
       "      <th>lluvia_ano</th>\n",
       "      <th>parque</th>\n",
       "      <th>Vendida</th>\n",
       "      <th>prom_dist</th>\n",
       "      <th>aeropuerto_SI</th>\n",
       "      <th>cuerpo_agua_Lago</th>\n",
       "      <th>cuerpo_agua_Lago y rio</th>\n",
       "      <th>cuerpo_agua_Rio</th>\n",
       "    </tr>\n",
       "  </thead>\n",
       "  <tbody>\n",
       "    <tr>\n",
       "      <th>0</th>\n",
       "      <td>24.0</td>\n",
       "      <td>32.31</td>\n",
       "      <td>0.538</td>\n",
       "      <td>6.575</td>\n",
       "      <td>65.2</td>\n",
       "      <td>24.7</td>\n",
       "      <td>4.98</td>\n",
       "      <td>5.480</td>\n",
       "      <td>11.19200</td>\n",
       "      <td>23</td>\n",
       "      <td>0.049347</td>\n",
       "      <td>0</td>\n",
       "      <td>4.0875</td>\n",
       "      <td>1</td>\n",
       "      <td>0</td>\n",
       "      <td>0</td>\n",
       "      <td>1</td>\n",
       "    </tr>\n",
       "    <tr>\n",
       "      <th>1</th>\n",
       "      <td>21.6</td>\n",
       "      <td>37.07</td>\n",
       "      <td>0.469</td>\n",
       "      <td>6.421</td>\n",
       "      <td>78.9</td>\n",
       "      <td>22.2</td>\n",
       "      <td>9.14</td>\n",
       "      <td>7.332</td>\n",
       "      <td>12.17280</td>\n",
       "      <td>42</td>\n",
       "      <td>0.046146</td>\n",
       "      <td>1</td>\n",
       "      <td>4.9675</td>\n",
       "      <td>0</td>\n",
       "      <td>1</td>\n",
       "      <td>0</td>\n",
       "      <td>0</td>\n",
       "    </tr>\n",
       "    <tr>\n",
       "      <th>2</th>\n",
       "      <td>34.7</td>\n",
       "      <td>37.07</td>\n",
       "      <td>0.469</td>\n",
       "      <td>7.185</td>\n",
       "      <td>61.1</td>\n",
       "      <td>22.2</td>\n",
       "      <td>4.03</td>\n",
       "      <td>7.394</td>\n",
       "      <td>46.19856</td>\n",
       "      <td>38</td>\n",
       "      <td>0.045764</td>\n",
       "      <td>0</td>\n",
       "      <td>4.9675</td>\n",
       "      <td>0</td>\n",
       "      <td>0</td>\n",
       "      <td>0</td>\n",
       "      <td>0</td>\n",
       "    </tr>\n",
       "    <tr>\n",
       "      <th>3</th>\n",
       "      <td>33.4</td>\n",
       "      <td>32.18</td>\n",
       "      <td>0.458</td>\n",
       "      <td>6.998</td>\n",
       "      <td>45.8</td>\n",
       "      <td>21.3</td>\n",
       "      <td>2.94</td>\n",
       "      <td>9.268</td>\n",
       "      <td>11.26720</td>\n",
       "      <td>45</td>\n",
       "      <td>0.047151</td>\n",
       "      <td>0</td>\n",
       "      <td>6.0650</td>\n",
       "      <td>1</td>\n",
       "      <td>1</td>\n",
       "      <td>0</td>\n",
       "      <td>0</td>\n",
       "    </tr>\n",
       "    <tr>\n",
       "      <th>4</th>\n",
       "      <td>36.2</td>\n",
       "      <td>32.18</td>\n",
       "      <td>0.458</td>\n",
       "      <td>7.147</td>\n",
       "      <td>54.2</td>\n",
       "      <td>21.3</td>\n",
       "      <td>5.33</td>\n",
       "      <td>8.824</td>\n",
       "      <td>11.28960</td>\n",
       "      <td>55</td>\n",
       "      <td>0.039474</td>\n",
       "      <td>0</td>\n",
       "      <td>6.0625</td>\n",
       "      <td>0</td>\n",
       "      <td>1</td>\n",
       "      <td>0</td>\n",
       "      <td>0</td>\n",
       "    </tr>\n",
       "  </tbody>\n",
       "</table>\n",
       "</div>"
      ],
      "text/plain": [
       "   precio  area_resid  cal_aire  num_hab  edad  prof_mil  p-pobreza  \\\n",
       "0    24.0       32.31     0.538    6.575  65.2      24.7       4.98   \n",
       "1    21.6       37.07     0.469    6.421  78.9      22.2       9.14   \n",
       "2    34.7       37.07     0.469    7.185  61.1      22.2       4.03   \n",
       "3    33.4       32.18     0.458    6.998  45.8      21.3       2.94   \n",
       "4    36.2       32.18     0.458    7.147  54.2      21.3       5.33   \n",
       "\n",
       "   n_cam_hos  n_hab_hotel  lluvia_ano    parque  Vendida  prom_dist  \\\n",
       "0      5.480     11.19200          23  0.049347        0     4.0875   \n",
       "1      7.332     12.17280          42  0.046146        1     4.9675   \n",
       "2      7.394     46.19856          38  0.045764        0     4.9675   \n",
       "3      9.268     11.26720          45  0.047151        0     6.0650   \n",
       "4      8.824     11.28960          55  0.039474        0     6.0625   \n",
       "\n",
       "   aeropuerto_SI  cuerpo_agua_Lago  cuerpo_agua_Lago y rio  cuerpo_agua_Rio  \n",
       "0              1                 0                       0                1  \n",
       "1              0                 1                       0                0  \n",
       "2              0                 0                       0                0  \n",
       "3              1                 1                       0                0  \n",
       "4              0                 1                       0                0  "
      ]
     },
     "execution_count": 26,
     "metadata": {},
     "output_type": "execute_result"
    }
   ],
   "source": [
    "df.head()"
   ]
  },
  {
   "cell_type": "markdown",
   "id": "d8b34c9d-be4d-426a-8fb2-7edb0903323d",
   "metadata": {},
   "source": [
    "## Creación de los set de entrenamiento y validación, modelado"
   ]
  },
  {
   "cell_type": "code",
   "execution_count": 27,
   "id": "2f04c039-30f5-4c36-8657-21511f6140e0",
   "metadata": {},
   "outputs": [],
   "source": [
    "from sklearn.model_selection import train_test_split\n",
    "from sklearn.linear_model import LogisticRegression"
   ]
  },
  {
   "cell_type": "code",
   "execution_count": 28,
   "id": "47e13ded-ba00-4055-85b7-c7bc22f838de",
   "metadata": {},
   "outputs": [],
   "source": [
    "X = df.loc[:, df.columns != 'Vendida']\n",
    "y = df['Vendida']"
   ]
  },
  {
   "cell_type": "code",
   "execution_count": 29,
   "id": "e0023a65-83e4-43e4-b6f8-e7a87298fd86",
   "metadata": {},
   "outputs": [],
   "source": [
    "# Obtener los cuatro conjuntos de datos necesarios para el modelo\n",
    "X_train, X_test, y_train, y_test = train_test_split(X, y, test_size = 0.2, random_state = 123)"
   ]
  },
  {
   "cell_type": "code",
   "execution_count": 32,
   "id": "5142ae36-a228-4686-b816-a4253e5bc852",
   "metadata": {},
   "outputs": [],
   "source": [
    "# Crear el modelo aumentando las iteraciones dado que no se llega\n",
    "# a ajustar el modelo con menos iteraciones\n",
    "reg_model = LogisticRegression(max_iter = 900)"
   ]
  },
  {
   "cell_type": "code",
   "execution_count": 33,
   "id": "117c6054-64ff-4e98-be08-7cfadb0cd599",
   "metadata": {
    "tags": []
   },
   "outputs": [
    {
     "data": {
      "text/plain": [
       "LogisticRegression(max_iter=900)"
      ]
     },
     "execution_count": 33,
     "metadata": {},
     "output_type": "execute_result"
    }
   ],
   "source": [
    "# Ajustar el modelo a los datos\n",
    "reg_model.fit(X_train, y_train)"
   ]
  },
  {
   "cell_type": "code",
   "execution_count": 34,
   "id": "cc177299-e38d-4f5a-b2eb-854680ef0251",
   "metadata": {},
   "outputs": [
    {
     "data": {
      "text/plain": [
       "array([-2.67910644])"
      ]
     },
     "execution_count": 34,
     "metadata": {},
     "output_type": "execute_result"
    }
   ],
   "source": [
    "# Intercepto theta(0)\n",
    "reg_model.intercept_"
   ]
  },
  {
   "cell_type": "code",
   "execution_count": 35,
   "id": "779b6b42-f4d8-487e-97fa-07af62231510",
   "metadata": {},
   "outputs": [
    {
     "data": {
      "text/plain": [
       "array([[-0.2656961 ,  0.01086472, -1.38371538,  0.98830839],\n",
       "       [-0.00402203,  0.30360361, -0.21857159,  0.19075335],\n",
       "       [-0.07170099, -0.0097345 , -0.05253779, -0.32562462],\n",
       "       [-0.21087867, -0.0351414 , -0.04254725,  0.39430661]])"
      ]
     },
     "execution_count": 35,
     "metadata": {},
     "output_type": "execute_result"
    }
   ],
   "source": [
    "# Coeficiente de las variables predictoras\n",
    "reg_model.coef_.reshape(-1,4)"
   ]
  },
  {
   "cell_type": "code",
   "execution_count": 36,
   "id": "c5dd416f-a90f-45ae-8679-75c14a5c1213",
   "metadata": {},
   "outputs": [],
   "source": [
    "y_pred = reg_model.predict(X_test)"
   ]
  },
  {
   "cell_type": "code",
   "execution_count": 37,
   "id": "0fdbc0ae-6a32-45a7-b4d0-2825204d9d78",
   "metadata": {},
   "outputs": [
    {
     "data": {
      "text/plain": [
       "(array([ True,  True, False, False, False,  True, False,  True, False,\n",
       "        False,  True,  True, False,  True, False,  True, False, False,\n",
       "        False,  True, False, False, False, False, False,  True,  True,\n",
       "        False,  True,  True, False,  True,  True, False,  True, False,\n",
       "         True,  True, False, False, False, False, False, False, False,\n",
       "         True,  True,  True, False,  True,  True, False, False, False,\n",
       "         True,  True, False, False, False, False,  True,  True,  True,\n",
       "        False, False,  True,  True,  True,  True,  True, False,  True,\n",
       "        False, False,  True, False,  True, False,  True, False,  True,\n",
       "         True,  True, False, False,  True,  True,  True, False,  True,\n",
       "         True,  True, False,  True, False,  True, False, False,  True,\n",
       "         True, False, False]),\n",
       " array([ True,  True, False,  True,  True,  True,  True, False, False,\n",
       "        False, False, False, False, False, False,  True,  True, False,\n",
       "        False, False,  True, False, False, False, False, False,  True,\n",
       "        False,  True,  True,  True, False,  True, False,  True,  True,\n",
       "         True,  True,  True,  True, False, False, False, False, False,\n",
       "         True, False, False,  True,  True,  True,  True, False, False,\n",
       "         True, False, False, False, False, False, False,  True,  True,\n",
       "        False,  True, False, False,  True, False,  True, False,  True,\n",
       "         True,  True,  True,  True, False, False, False, False, False,\n",
       "         True,  True, False, False,  True,  True, False, False,  True,\n",
       "        False, False, False,  True, False,  True, False, False,  True,\n",
       "         True,  True, False]))"
      ]
     },
     "execution_count": 37,
     "metadata": {},
     "output_type": "execute_result"
    }
   ],
   "source": [
    "y_pred.astype(bool), y_test.to_numpy().astype(bool)"
   ]
  },
  {
   "cell_type": "code",
   "execution_count": 38,
   "id": "e12561d9-3373-44bd-823a-6fa0e4772d90",
   "metadata": {},
   "outputs": [],
   "source": [
    "from sklearn.metrics import confusion_matrix"
   ]
  },
  {
   "cell_type": "code",
   "execution_count": 39,
   "id": "59cb0ea1-72ae-421d-a7d7-5d259f223773",
   "metadata": {},
   "outputs": [
    {
     "data": {
      "text/plain": [
       "array([[36, 20],\n",
       "       [16, 30]], dtype=int64)"
      ]
     },
     "execution_count": 39,
     "metadata": {},
     "output_type": "execute_result"
    }
   ],
   "source": [
    "confusion_matrix(y_test,y_pred)"
   ]
  },
  {
   "cell_type": "code",
   "execution_count": 40,
   "id": "d727711f-4137-4474-a0d2-7d2a378e28ec",
   "metadata": {},
   "outputs": [
    {
     "data": {
      "text/html": [
       "<div>\n",
       "<style scoped>\n",
       "    .dataframe tbody tr th:only-of-type {\n",
       "        vertical-align: middle;\n",
       "    }\n",
       "\n",
       "    .dataframe tbody tr th {\n",
       "        vertical-align: top;\n",
       "    }\n",
       "\n",
       "    .dataframe thead th {\n",
       "        text-align: right;\n",
       "    }\n",
       "</style>\n",
       "<table border=\"1\" class=\"dataframe\">\n",
       "  <thead>\n",
       "    <tr style=\"text-align: right;\">\n",
       "      <th></th>\n",
       "      <th>No vendidaP</th>\n",
       "      <th>VendidaP</th>\n",
       "    </tr>\n",
       "  </thead>\n",
       "  <tbody>\n",
       "    <tr>\n",
       "      <th>No vendidaR</th>\n",
       "      <td>36</td>\n",
       "      <td>20</td>\n",
       "    </tr>\n",
       "    <tr>\n",
       "      <th>VendidaR</th>\n",
       "      <td>16</td>\n",
       "      <td>30</td>\n",
       "    </tr>\n",
       "  </tbody>\n",
       "</table>\n",
       "</div>"
      ],
      "text/plain": [
       "             No vendidaP  VendidaP\n",
       "No vendidaR           36        20\n",
       "VendidaR              16        30"
      ]
     },
     "execution_count": 40,
     "metadata": {},
     "output_type": "execute_result"
    }
   ],
   "source": [
    "mc = pd.DataFrame(confusion_matrix(y_test,y_pred), index = ['No vendidaR','VendidaR'], columns = ['No vendidaP', 'VendidaP'])\n",
    "mc"
   ]
  },
  {
   "cell_type": "code",
   "execution_count": 41,
   "id": "280a6331-4951-44c3-b940-03ca82c96740",
   "metadata": {},
   "outputs": [
    {
     "data": {
      "image/png": "[encoded data removed]",
      "text/plain": [
       "<Figure size 432x432 with 1 Axes>"
      ]
     },
     "metadata": {
      "needs_background": "light"
     },
     "output_type": "display_data"
    }
   ],
   "source": [
    "from mlxtend.plotting import plot_confusion_matrix\n",
    "\n",
    "plot_confusion_matrix(conf_mat=confusion_matrix(y_test,y_pred), figsize=(6,6), show_normed=False)\n",
    "plt.tight_layout(pad = 10)"
   ]
  },
  {
   "cell_type": "markdown",
   "id": "b9f804d6-8d58-4f92-87eb-6e4e5279f81c",
   "metadata": {},
   "source": [
    "![Matriz de confusión](confmat.png)\n",
    "![Metricas](metricas.jpg)\n",
    "\n",
    "**Precision:** mide la calidad de los modelos de ML en el desarrollo de la clasificación, para el problema nos indica que porcentaje de propiedades serán vendidas o no.\n",
    "\n",
    "**Recall (Exhaustividad):** muestra la proporción de ejemplos que el modelo es capaz de identificar, indica que porcentaje de propiedades de las que serán vendidas o no podemos indentificar.\n",
    "\n",
    "**Accuracy (Exactitud):** mide el porcentaje de los casos en que el modelo ha acertado, no debe interpretarse sola porque es una de las métricas que nos puede llevar a tomar decisiones incorrectas porque nos puede indicar que un modelo deficiente parezca mejor de lo que en realidad es.\n",
    "\n",
    "**Sensibilidad:** detecta en la realidad los casos positivos, representa la probabilidad de los verdaderos positivos en la predicción.\n",
    "\n",
    "$Sensibilidad=\\frac{TP}{TP+FN}$\n",
    "\n",
    "**Especificidad:** detecta en la realidad los casos negativos, representa la probabilidad de los verdaderos negativos en la predicción."
   ]
  },
  {
   "cell_type": "code",
   "execution_count": null,
   "id": "52f40d1b-ee7a-4d57-9409-66d7136dda1c",
   "metadata": {},
   "outputs": [],
   "source": [
    "import statsmodels.api as sn\n",
    "import statsmodels.discrete.discrete_model as sm"
   ]
  },
  {
   "cell_type": "code",
   "execution_count": null,
   "id": "5d881484-1e39-4175-a628-ff6ada7cbc68",
   "metadata": {},
   "outputs": [],
   "source": [
    "# Crear la columna con la constante solicitada para el modelo Logit\n",
    "const_X = sn.add_constant(X_train)"
   ]
  },
  {
   "cell_type": "code",
   "execution_count": null,
   "id": "8855792e-551b-4eb4-b9cc-11f1fda63aa9",
   "metadata": {},
   "outputs": [],
   "source": [
    "const_X"
   ]
  },
  {
   "cell_type": "code",
   "execution_count": null,
   "id": "7da92eb1-d436-41f7-9e89-553256bcd9fe",
   "metadata": {},
   "outputs": [],
   "source": [
    "logit = sm.Logit(y_train, const_X).fit()"
   ]
  },
  {
   "cell_type": "code",
   "execution_count": null,
   "id": "3639e6b6-612f-467d-ab30-4b62c57ef808",
   "metadata": {},
   "outputs": [],
   "source": [
    "# Ver estadisticos y los valores de los parámetros de las variables predictoras\n",
    "logit.summary()"
   ]
  },
  {
   "cell_type": "code",
   "execution_count": null,
   "id": "49fec5bb-b7ef-411a-8653-4391489c33d1",
   "metadata": {},
   "outputs": [],
   "source": [
    "# Se eliminan los atributos con valores por encima de\n",
    "# la significancia de los parámetros\n",
    "columnas = ['edad', 'cuerpo_agua_Lago', 'cuerpo_agua_Lago y rio']\n",
    "\n",
    "const_X = const_X.drop(columns = columnas)\n",
    "\n",
    "logit1 = sm.Logit(y_train, const_X).fit()\n",
    "logit1.summary()"
   ]
  },
  {
   "cell_type": "code",
   "execution_count": null,
   "id": "dd09ddfd-6884-4281-8eb1-a3df018985c5",
   "metadata": {},
   "outputs": [],
   "source": [
    "columnas = ['lluvia_ano', 'area_resid', 'aeropuerto_SI']\n",
    "\n",
    "const_X = const_X.drop(columns = columnas)\n",
    "\n",
    "logit2 = sm.Logit(y_train, const_X).fit()\n",
    "logit2.summary()"
   ]
  },
  {
   "cell_type": "code",
   "execution_count": null,
   "id": "1a5e8a94-6431-4614-989d-b42e181dda55",
   "metadata": {},
   "outputs": [],
   "source": [
    "columnas = ['n_hab_hotel', 'parque']\n",
    "\n",
    "const_X = const_X.drop(columns = columnas)\n",
    "\n",
    "logit3 = sm.Logit(y_train, const_X).fit()\n",
    "logit3.summary()"
   ]
  },
  {
   "cell_type": "markdown",
   "id": "565765b6-deca-42f6-be14-9d4f758d970e",
   "metadata": {},
   "source": [
    "## Rendimiento del modelo"
   ]
  },
  {
   "cell_type": "code",
   "execution_count": null,
   "id": "58d1abf9-5573-410e-abe4-00c5eae185d6",
   "metadata": {},
   "outputs": [],
   "source": [
    "# Lista con los valores de los atributos finales del modelo\n",
    "col_final = ['precio', 'cal_aire', 'num_hab', 'prof_mil', 'p-pobreza', 'n_cam_hos', 'prom_dist', 'cuerpo_agua_Rio']"
   ]
  },
  {
   "cell_type": "code",
   "execution_count": null,
   "id": "959ddcb4-bcdf-4d9c-a880-954a14ffe3de",
   "metadata": {},
   "outputs": [],
   "source": [
    "# Agregar columna de la constante para poder aplicar el modelo Logit\n",
    "X_test = sn.add_constant(X_test[col_final])\n",
    "y_pred_train = logit3.predict(const_X)\n",
    "y_pred_train"
   ]
  },
  {
   "cell_type": "code",
   "execution_count": null,
   "id": "9f5598f0-5a0b-47b1-b1c7-a9a295dae32e",
   "metadata": {},
   "outputs": [],
   "source": [
    "# Como las predicciones están dadas en probabilidades se convierten\n",
    "# a uno las que esten por encima de 0.5, de lo contrario la clase es 0\n",
    "y_pred_train = y_pred_train.apply(lambda x: 1 if x > 0.5 else 0)\n",
    "y_pred_train"
   ]
  },
  {
   "cell_type": "code",
   "execution_count": null,
   "id": "dee37729-b465-427c-832c-7c67659ce6c9",
   "metadata": {},
   "outputs": [],
   "source": [
    "# Realizar las predicciones en el conjunto de validación\n",
    "y_pred_test = logit3.predict(X_test)"
   ]
  },
  {
   "cell_type": "code",
   "execution_count": null,
   "id": "1427788a-1395-46ca-b024-2c1ea9687a77",
   "metadata": {},
   "outputs": [],
   "source": [
    "y_pred_test = y_pred_test.apply(lambda x: 1 if x > 0.5 else 0)"
   ]
  },
  {
   "cell_type": "code",
   "execution_count": null,
   "id": "49bbddf2-7414-408b-ad20-3799e5bbe19f",
   "metadata": {},
   "outputs": [],
   "source": [
    "y_pred_test"
   ]
  },
  {
   "cell_type": "markdown",
   "id": "c5346c54-ff4f-4fac-9bba-74cf3abc01e5",
   "metadata": {},
   "source": [
    "### Exactitud *(Accuracy)*"
   ]
  },
  {
   "cell_type": "code",
   "execution_count": null,
   "id": "dcdb17a6-5495-4e54-bd50-2310812a9cd8",
   "metadata": {},
   "outputs": [],
   "source": [
    "# Modulo para realizar la métrica de la exactitud\n",
    "from sklearn.metrics import accuracy_score "
   ]
  },
  {
   "cell_type": "code",
   "execution_count": null,
   "id": "7ff1e11f-5221-49e0-9a3c-27c60853e4b0",
   "metadata": {},
   "outputs": [],
   "source": [
    "accuracy_ent = accuracy_score(y_train, y_pred_train)\n",
    "accuracy_test = accuracy_score(y_test, y_pred_test)\n",
    "\n",
    "print('Exactitud del modelo con datos de entrenamiento: ', accuracy_ent)\n",
    "print('Exactitud del modelo con datos de validación: ', accuracy_test)"
   ]
  },
  {
   "cell_type": "code",
   "execution_count": null,
   "id": "a06c24f9-e900-4227-82fe-42a8bb73f567",
   "metadata": {},
   "outputs": [],
   "source": [
    "reg_model.fit(X_train[col_final], y_train).score(X_test[col_final], y_test)"
   ]
  },
  {
   "cell_type": "markdown",
   "id": "82b7cbff-c74c-45cb-b92f-7fca71fde578",
   "metadata": {},
   "source": [
    "### Matriz de confusión"
   ]
  },
  {
   "cell_type": "code",
   "execution_count": null,
   "id": "0cd2270d-e306-486a-8b0e-3275be9fe6d8",
   "metadata": {},
   "outputs": [],
   "source": [
    "confusion_matrix(y_train, y_pred_train)"
   ]
  },
  {
   "cell_type": "code",
   "execution_count": null,
   "id": "268dd7ba-68f6-4526-a8c4-63235c7a311e",
   "metadata": {},
   "outputs": [],
   "source": [
    "confusion_matrix(y_test, y_pred_test)"
   ]
  },
  {
   "cell_type": "code",
   "execution_count": null,
   "id": "d7cd57d3-bd65-45b5-b422-f48e18e9cc77",
   "metadata": {},
   "outputs": [],
   "source": [
    "# Si se desea trabajar con las probabilidades de sklearn se usa la función predic_proba()\n",
    "# e igualmente se puede manipular el umbral de decisión de la clase\n",
    "y_pred_sk = (reg_model.predict_proba(X_train[col_final])[:, 1]>0.3)\n",
    "y_pred_sk, confusion_matrix(y_pred_train, y_pred_sk)"
   ]
  },
  {
   "cell_type": "code",
   "execution_count": null,
   "id": "19134b45-48a6-4783-a628-87d9ba1b5dd7",
   "metadata": {},
   "outputs": [],
   "source": [
    "confusion_matrix(y_train, y_pred_sk)"
   ]
  },
  {
   "cell_type": "markdown",
   "id": "2978d37b-d530-4945-9458-ee909a905257",
   "metadata": {},
   "source": [
    "### Otras métricas (Precisión, Recall, AUC)"
   ]
  },
  {
   "cell_type": "code",
   "execution_count": null,
   "id": "ca7f6421-cd2c-4746-a3a2-dfbb5c5513e7",
   "metadata": {},
   "outputs": [],
   "source": [
    "from sklearn.metrics import precision_score, recall_score, roc_auc_score, roc_curve"
   ]
  },
  {
   "cell_type": "code",
   "execution_count": null,
   "id": "7a2da2c0-dc4e-42a7-b2e6-7cb26412699e",
   "metadata": {},
   "outputs": [],
   "source": [
    "precision_score(y_train, y_pred_train)"
   ]
  },
  {
   "cell_type": "code",
   "execution_count": null,
   "id": "6cd5ec0e-3d4e-410d-8d34-3de59c3d70db",
   "metadata": {},
   "outputs": [],
   "source": [
    "recall_score(y_train, y_pred_train)"
   ]
  },
  {
   "cell_type": "code",
   "execution_count": null,
   "id": "0e752db4-da44-45ae-aa23-1cae740db7a0",
   "metadata": {},
   "outputs": [],
   "source": [
    "roc_auc_score(y_train, y_pred_train)"
   ]
  },
  {
   "cell_type": "code",
   "execution_count": null,
   "id": "ed811de3-d66e-4cce-ae97-143902616c62",
   "metadata": {},
   "outputs": [],
   "source": [
    "x_roc, y_roc, _ = roc_curve(y_test, reg_model.predict_proba(X_test[col_final])[:, 1]) # Devuelve tres valores\n",
    "# Tasas de falsos positivos, Tasas de verdaderos positivos, umbrales\n",
    "\n",
    "x_roc, y_roc, _"
   ]
  },
  {
   "cell_type": "code",
   "execution_count": null,
   "id": "bf2cfe04-56b5-4ff9-8817-2f1d1a30d968",
   "metadata": {},
   "outputs": [],
   "source": [
    "plt.plot(x_roc, y_roc, marker = '.', label = 'Curva ROC modelo de Regresión logística')\n",
    "plt.xlabel('Tasa de Falsos Positivos')\n",
    "plt.ylabel('Tasa de Verdaderos Positivos')"
   ]
  }
 ],
 "metadata": {
  "kernelspec": {
   "display_name": "Python 3",
   "language": "python",
   "name": "python3"
  },
  "language_info": {
   "codemirror_mode": {
    "name": "ipython",
    "version": 3
   },
   "file_extension": ".py",
   "mimetype": "text/x-python",
   "name": "python",
   "nbconvert_exporter": "python",
   "pygments_lexer": "ipython3",
   "version": "3.9.5"
  }
 },
 "nbformat": 4,
 "nbformat_minor": 5
}
