{
 "cells": [
  {
   "cell_type": "markdown",
   "id": "aca77b95-6c2e-4c78-b377-283cdd82a064",
   "metadata": {},
   "source": [
    "# Regresión logística multiple"
   ]
  },
  {
   "cell_type": "code",
   "execution_count": 1,
   "id": "ad410cbf-f867-43e2-ad29-80e653986f22",
   "metadata": {},
   "outputs": [],
   "source": [
    "import pandas as pd\n",
    "import numpy as np\n",
    "import seaborn as sns\n",
    "import matplotlib.pyplot as plt"
   ]
  },
  {
   "cell_type": "code",
   "execution_count": 2,
   "id": "79fc1084-e9f5-4bc7-8c64-7294129a78ed",
   "metadata": {},
   "outputs": [],
   "source": [
    "df = pd.read_csv('DataReg.csv', header = 0) # Leemos el dataset final generado por el notebook M02_05"
   ]
  },
  {
   "cell_type": "code",
   "execution_count": 3,
   "id": "df6afa23-a2c3-45b6-bff6-92cc1952f6a2",
   "metadata": {},
   "outputs": [
    {
     "data": {
      "text/html": [
       "<div>\n",
       "<style scoped>\n",
       "    .dataframe tbody tr th:only-of-type {\n",
       "        vertical-align: middle;\n",
       "    }\n",
       "\n",
       "    .dataframe tbody tr th {\n",
       "        vertical-align: top;\n",
       "    }\n",
       "\n",
       "    .dataframe thead th {\n",
       "        text-align: right;\n",
       "    }\n",
       "</style>\n",
       "<table border=\"1\" class=\"dataframe\">\n",
       "  <thead>\n",
       "    <tr style=\"text-align: right;\">\n",
       "      <th></th>\n",
       "      <th>precio</th>\n",
       "      <th>area_resid</th>\n",
       "      <th>cal_aire</th>\n",
       "      <th>num_hab</th>\n",
       "      <th>edad</th>\n",
       "      <th>prof_mil</th>\n",
       "      <th>p-pobreza</th>\n",
       "      <th>n_cam_hos</th>\n",
       "      <th>n_hab_hotel</th>\n",
       "      <th>lluvia_ano</th>\n",
       "      <th>parque</th>\n",
       "      <th>Vendida</th>\n",
       "      <th>prom_dist</th>\n",
       "      <th>aeropuerto_SI</th>\n",
       "      <th>cuerpo_agua_Lago</th>\n",
       "      <th>cuerpo_agua_Lago y rio</th>\n",
       "      <th>cuerpo_agua_Rio</th>\n",
       "    </tr>\n",
       "  </thead>\n",
       "  <tbody>\n",
       "    <tr>\n",
       "      <th>0</th>\n",
       "      <td>24.0</td>\n",
       "      <td>32.31</td>\n",
       "      <td>0.538</td>\n",
       "      <td>6.575</td>\n",
       "      <td>65.2</td>\n",
       "      <td>24.7</td>\n",
       "      <td>4.98</td>\n",
       "      <td>5.480</td>\n",
       "      <td>11.19200</td>\n",
       "      <td>23</td>\n",
       "      <td>0.049347</td>\n",
       "      <td>0</td>\n",
       "      <td>4.0875</td>\n",
       "      <td>1</td>\n",
       "      <td>0</td>\n",
       "      <td>0</td>\n",
       "      <td>1</td>\n",
       "    </tr>\n",
       "    <tr>\n",
       "      <th>1</th>\n",
       "      <td>21.6</td>\n",
       "      <td>37.07</td>\n",
       "      <td>0.469</td>\n",
       "      <td>6.421</td>\n",
       "      <td>78.9</td>\n",
       "      <td>22.2</td>\n",
       "      <td>9.14</td>\n",
       "      <td>7.332</td>\n",
       "      <td>12.17280</td>\n",
       "      <td>42</td>\n",
       "      <td>0.046146</td>\n",
       "      <td>1</td>\n",
       "      <td>4.9675</td>\n",
       "      <td>0</td>\n",
       "      <td>1</td>\n",
       "      <td>0</td>\n",
       "      <td>0</td>\n",
       "    </tr>\n",
       "    <tr>\n",
       "      <th>2</th>\n",
       "      <td>34.7</td>\n",
       "      <td>37.07</td>\n",
       "      <td>0.469</td>\n",
       "      <td>7.185</td>\n",
       "      <td>61.1</td>\n",
       "      <td>22.2</td>\n",
       "      <td>4.03</td>\n",
       "      <td>7.394</td>\n",
       "      <td>46.19856</td>\n",
       "      <td>38</td>\n",
       "      <td>0.045764</td>\n",
       "      <td>0</td>\n",
       "      <td>4.9675</td>\n",
       "      <td>0</td>\n",
       "      <td>0</td>\n",
       "      <td>0</td>\n",
       "      <td>0</td>\n",
       "    </tr>\n",
       "    <tr>\n",
       "      <th>3</th>\n",
       "      <td>33.4</td>\n",
       "      <td>32.18</td>\n",
       "      <td>0.458</td>\n",
       "      <td>6.998</td>\n",
       "      <td>45.8</td>\n",
       "      <td>21.3</td>\n",
       "      <td>2.94</td>\n",
       "      <td>9.268</td>\n",
       "      <td>11.26720</td>\n",
       "      <td>45</td>\n",
       "      <td>0.047151</td>\n",
       "      <td>0</td>\n",
       "      <td>6.0650</td>\n",
       "      <td>1</td>\n",
       "      <td>1</td>\n",
       "      <td>0</td>\n",
       "      <td>0</td>\n",
       "    </tr>\n",
       "    <tr>\n",
       "      <th>4</th>\n",
       "      <td>36.2</td>\n",
       "      <td>32.18</td>\n",
       "      <td>0.458</td>\n",
       "      <td>7.147</td>\n",
       "      <td>54.2</td>\n",
       "      <td>21.3</td>\n",
       "      <td>5.33</td>\n",
       "      <td>8.824</td>\n",
       "      <td>11.28960</td>\n",
       "      <td>55</td>\n",
       "      <td>0.039474</td>\n",
       "      <td>0</td>\n",
       "      <td>6.0625</td>\n",
       "      <td>0</td>\n",
       "      <td>1</td>\n",
       "      <td>0</td>\n",
       "      <td>0</td>\n",
       "    </tr>\n",
       "  </tbody>\n",
       "</table>\n",
       "</div>"
      ],
      "text/plain": [
       "   precio  area_resid  cal_aire  num_hab  edad  prof_mil  p-pobreza  \\\n",
       "0    24.0       32.31     0.538    6.575  65.2      24.7       4.98   \n",
       "1    21.6       37.07     0.469    6.421  78.9      22.2       9.14   \n",
       "2    34.7       37.07     0.469    7.185  61.1      22.2       4.03   \n",
       "3    33.4       32.18     0.458    6.998  45.8      21.3       2.94   \n",
       "4    36.2       32.18     0.458    7.147  54.2      21.3       5.33   \n",
       "\n",
       "   n_cam_hos  n_hab_hotel  lluvia_ano    parque  Vendida  prom_dist  \\\n",
       "0      5.480     11.19200          23  0.049347        0     4.0875   \n",
       "1      7.332     12.17280          42  0.046146        1     4.9675   \n",
       "2      7.394     46.19856          38  0.045764        0     4.9675   \n",
       "3      9.268     11.26720          45  0.047151        0     6.0650   \n",
       "4      8.824     11.28960          55  0.039474        0     6.0625   \n",
       "\n",
       "   aeropuerto_SI  cuerpo_agua_Lago  cuerpo_agua_Lago y rio  cuerpo_agua_Rio  \n",
       "0              1                 0                       0                1  \n",
       "1              0                 1                       0                0  \n",
       "2              0                 0                       0                0  \n",
       "3              1                 1                       0                0  \n",
       "4              0                 1                       0                0  "
      ]
     },
     "execution_count": 3,
     "metadata": {},
     "output_type": "execute_result"
    }
   ],
   "source": [
    "df.head()"
   ]
  },
  {
   "cell_type": "markdown",
   "id": "d8b34c9d-be4d-426a-8fb2-7edb0903323d",
   "metadata": {},
   "source": [
    "## Creación de los set de entrenamiento y validación, modelado"
   ]
  },
  {
   "cell_type": "code",
   "execution_count": 4,
   "id": "2f04c039-30f5-4c36-8657-21511f6140e0",
   "metadata": {},
   "outputs": [],
   "source": [
    "from sklearn.model_selection import train_test_split\n",
    "from sklearn.linear_model import LogisticRegression\n",
    "#from sklearn.metrics import accuracy_score, precision_score, confusion_matrix"
   ]
  },
  {
   "cell_type": "code",
   "execution_count": 5,
   "id": "47e13ded-ba00-4055-85b7-c7bc22f838de",
   "metadata": {},
   "outputs": [],
   "source": [
    "X = df.loc[:, df.columns != 'Vendida']\n",
    "y = df['Vendida']"
   ]
  },
  {
   "cell_type": "code",
   "execution_count": 6,
   "id": "e0023a65-83e4-43e4-b6f8-e7a87298fd86",
   "metadata": {},
   "outputs": [],
   "source": [
    "X_train, X_test, y_train, y_test = train_test_split(X, y, test_size = 0.2, random_state = 123) # Obtener los cuatro\n",
    "# conjuntos de datos necesarios para el modelo"
   ]
  },
  {
   "cell_type": "code",
   "execution_count": 7,
   "id": "5142ae36-a228-4686-b816-a4253e5bc852",
   "metadata": {},
   "outputs": [],
   "source": [
    "reg_model = LogisticRegression(max_iter = 900) # Crear el modelo aumentando las iteraciones dado que no se llega\n",
    "# a ajustar el modelo con menos iteraciones"
   ]
  },
  {
   "cell_type": "code",
   "execution_count": 8,
   "id": "117c6054-64ff-4e98-be08-7cfadb0cd599",
   "metadata": {},
   "outputs": [
    {
     "data": {
      "text/plain": [
       "LogisticRegression(max_iter=900)"
      ]
     },
     "execution_count": 8,
     "metadata": {},
     "output_type": "execute_result"
    }
   ],
   "source": [
    "reg_model.fit(X_train, y_train) # Ajustar el modelo a los datos"
   ]
  },
  {
   "cell_type": "code",
   "execution_count": 9,
   "id": "cc177299-e38d-4f5a-b2eb-854680ef0251",
   "metadata": {},
   "outputs": [
    {
     "data": {
      "text/plain": [
       "array([-2.67910644])"
      ]
     },
     "execution_count": 9,
     "metadata": {},
     "output_type": "execute_result"
    }
   ],
   "source": [
    "reg_model.intercept_ # Intercepto theta(0)"
   ]
  },
  {
   "cell_type": "code",
   "execution_count": 10,
   "id": "779b6b42-f4d8-487e-97fa-07af62231510",
   "metadata": {},
   "outputs": [
    {
     "data": {
      "text/plain": [
       "array([[-0.2656961 ,  0.01086472, -1.38371538,  0.98830839],\n",
       "       [-0.00402203,  0.30360361, -0.21857159,  0.19075335],\n",
       "       [-0.07170099, -0.0097345 , -0.05253779, -0.32562462],\n",
       "       [-0.21087867, -0.0351414 , -0.04254725,  0.39430661]])"
      ]
     },
     "execution_count": 10,
     "metadata": {},
     "output_type": "execute_result"
    }
   ],
   "source": [
    "reg_model.coef_.reshape(-1,4) # Coeficiente de las variables predictoras"
   ]
  },
  {
   "cell_type": "code",
   "execution_count": 11,
   "id": "52f40d1b-ee7a-4d57-9409-66d7136dda1c",
   "metadata": {},
   "outputs": [],
   "source": [
    "import statsmodels.api as sn\n",
    "import statsmodels.discrete.discrete_model as sm"
   ]
  },
  {
   "cell_type": "code",
   "execution_count": 12,
   "id": "5d881484-1e39-4175-a628-ff6ada7cbc68",
   "metadata": {},
   "outputs": [],
   "source": [
    "const_X = sn.add_constant(X_train) # Crear la columna con la constante solicitada para el modelo Logit"
   ]
  },
  {
   "cell_type": "code",
   "execution_count": 13,
   "id": "7da92eb1-d436-41f7-9e89-553256bcd9fe",
   "metadata": {},
   "outputs": [
    {
     "name": "stdout",
     "output_type": "stream",
     "text": [
      "Optimization terminated successfully.\n",
      "         Current function value: 0.541711\n",
      "         Iterations 6\n"
     ]
    }
   ],
   "source": [
    "logit = sm.Logit(y_train, const_X).fit()"
   ]
  },
  {
   "cell_type": "code",
   "execution_count": 14,
   "id": "3639e6b6-612f-467d-ab30-4b62c57ef808",
   "metadata": {},
   "outputs": [
    {
     "data": {
      "text/html": [
       "<table class=\"simpletable\">\n",
       "<caption>Logit Regression Results</caption>\n",
       "<tr>\n",
       "  <th>Dep. Variable:</th>        <td>Vendida</td>     <th>  No. Observations:  </th>  <td>   404</td>  \n",
       "</tr>\n",
       "<tr>\n",
       "  <th>Model:</th>                 <td>Logit</td>      <th>  Df Residuals:      </th>  <td>   387</td>  \n",
       "</tr>\n",
       "<tr>\n",
       "  <th>Method:</th>                 <td>MLE</td>       <th>  Df Model:          </th>  <td>    16</td>  \n",
       "</tr>\n",
       "<tr>\n",
       "  <th>Date:</th>            <td>Mon, 19 Jul 2021</td> <th>  Pseudo R-squ.:     </th>  <td>0.2140</td>  \n",
       "</tr>\n",
       "<tr>\n",
       "  <th>Time:</th>                <td>21:18:28</td>     <th>  Log-Likelihood:    </th> <td> -218.85</td> \n",
       "</tr>\n",
       "<tr>\n",
       "  <th>converged:</th>             <td>True</td>       <th>  LL-Null:           </th> <td> -278.43</td> \n",
       "</tr>\n",
       "<tr>\n",
       "  <th>Covariance Type:</th>     <td>nonrobust</td>    <th>  LLR p-value:       </th> <td>8.008e-18</td>\n",
       "</tr>\n",
       "</table>\n",
       "<table class=\"simpletable\">\n",
       "<tr>\n",
       "             <td></td>               <th>coef</th>     <th>std err</th>      <th>z</th>      <th>P>|z|</th>  <th>[0.025</th>    <th>0.975]</th>  \n",
       "</tr>\n",
       "<tr>\n",
       "  <th>const</th>                  <td>   -2.9938</td> <td>    3.026</td> <td>   -0.989</td> <td> 0.323</td> <td>   -8.926</td> <td>    2.938</td>\n",
       "</tr>\n",
       "<tr>\n",
       "  <th>precio</th>                 <td>   -0.2954</td> <td>    0.039</td> <td>   -7.586</td> <td> 0.000</td> <td>   -0.372</td> <td>   -0.219</td>\n",
       "</tr>\n",
       "<tr>\n",
       "  <th>area_resid</th>             <td>    0.0377</td> <td>    0.030</td> <td>    1.266</td> <td> 0.205</td> <td>   -0.021</td> <td>    0.096</td>\n",
       "</tr>\n",
       "<tr>\n",
       "  <th>cal_aire</th>               <td>  -10.0015</td> <td>    3.075</td> <td>   -3.253</td> <td> 0.001</td> <td>  -16.027</td> <td>   -3.975</td>\n",
       "</tr>\n",
       "<tr>\n",
       "  <th>num_hab</th>                <td>    1.1678</td> <td>    0.318</td> <td>    3.675</td> <td> 0.000</td> <td>    0.545</td> <td>    1.791</td>\n",
       "</tr>\n",
       "<tr>\n",
       "  <th>edad</th>                   <td>-9.471e-06</td> <td>    0.008</td> <td>   -0.001</td> <td> 0.999</td> <td>   -0.015</td> <td>    0.015</td>\n",
       "</tr>\n",
       "<tr>\n",
       "  <th>prof_mil</th>               <td>    0.3761</td> <td>    0.075</td> <td>    5.034</td> <td> 0.000</td> <td>    0.230</td> <td>    0.523</td>\n",
       "</tr>\n",
       "<tr>\n",
       "  <th>p-pobreza</th>              <td>   -0.2184</td> <td>    0.039</td> <td>   -5.560</td> <td> 0.000</td> <td>   -0.295</td> <td>   -0.141</td>\n",
       "</tr>\n",
       "<tr>\n",
       "  <th>n_cam_hos</th>              <td>    0.1842</td> <td>    0.082</td> <td>    2.241</td> <td> 0.025</td> <td>    0.023</td> <td>    0.345</td>\n",
       "</tr>\n",
       "<tr>\n",
       "  <th>n_hab_hotel</th>            <td>   -0.0693</td> <td>    0.054</td> <td>   -1.286</td> <td> 0.198</td> <td>   -0.175</td> <td>    0.036</td>\n",
       "</tr>\n",
       "<tr>\n",
       "  <th>lluvia_ano</th>             <td>   -0.0067</td> <td>    0.010</td> <td>   -0.684</td> <td> 0.494</td> <td>   -0.026</td> <td>    0.012</td>\n",
       "</tr>\n",
       "<tr>\n",
       "  <th>parque</th>                 <td>   37.6171</td> <td>   28.183</td> <td>    1.335</td> <td> 0.182</td> <td>  -17.620</td> <td>   92.854</td>\n",
       "</tr>\n",
       "<tr>\n",
       "  <th>prom_dist</th>              <td>   -0.4465</td> <td>    0.111</td> <td>   -4.023</td> <td> 0.000</td> <td>   -0.664</td> <td>   -0.229</td>\n",
       "</tr>\n",
       "<tr>\n",
       "  <th>aeropuerto_SI</th>          <td>   -0.2739</td> <td>    0.240</td> <td>   -1.139</td> <td> 0.255</td> <td>   -0.745</td> <td>    0.197</td>\n",
       "</tr>\n",
       "<tr>\n",
       "  <th>cuerpo_agua_Lago</th>       <td>   -0.0776</td> <td>    0.343</td> <td>   -0.226</td> <td> 0.821</td> <td>   -0.751</td> <td>    0.596</td>\n",
       "</tr>\n",
       "<tr>\n",
       "  <th>cuerpo_agua_Lago y rio</th> <td>   -0.0395</td> <td>    0.394</td> <td>   -0.100</td> <td> 0.920</td> <td>   -0.811</td> <td>    0.732</td>\n",
       "</tr>\n",
       "<tr>\n",
       "  <th>cuerpo_agua_Rio</th>        <td>    0.4638</td> <td>    0.293</td> <td>    1.582</td> <td> 0.114</td> <td>   -0.111</td> <td>    1.039</td>\n",
       "</tr>\n",
       "</table>"
      ],
      "text/plain": [
       "<class 'statsmodels.iolib.summary.Summary'>\n",
       "\"\"\"\n",
       "                           Logit Regression Results                           \n",
       "==============================================================================\n",
       "Dep. Variable:                Vendida   No. Observations:                  404\n",
       "Model:                          Logit   Df Residuals:                      387\n",
       "Method:                           MLE   Df Model:                           16\n",
       "Date:                Mon, 19 Jul 2021   Pseudo R-squ.:                  0.2140\n",
       "Time:                        21:18:28   Log-Likelihood:                -218.85\n",
       "converged:                       True   LL-Null:                       -278.43\n",
       "Covariance Type:            nonrobust   LLR p-value:                 8.008e-18\n",
       "==========================================================================================\n",
       "                             coef    std err          z      P>|z|      [0.025      0.975]\n",
       "------------------------------------------------------------------------------------------\n",
       "const                     -2.9938      3.026     -0.989      0.323      -8.926       2.938\n",
       "precio                    -0.2954      0.039     -7.586      0.000      -0.372      -0.219\n",
       "area_resid                 0.0377      0.030      1.266      0.205      -0.021       0.096\n",
       "cal_aire                 -10.0015      3.075     -3.253      0.001     -16.027      -3.975\n",
       "num_hab                    1.1678      0.318      3.675      0.000       0.545       1.791\n",
       "edad                   -9.471e-06      0.008     -0.001      0.999      -0.015       0.015\n",
       "prof_mil                   0.3761      0.075      5.034      0.000       0.230       0.523\n",
       "p-pobreza                 -0.2184      0.039     -5.560      0.000      -0.295      -0.141\n",
       "n_cam_hos                  0.1842      0.082      2.241      0.025       0.023       0.345\n",
       "n_hab_hotel               -0.0693      0.054     -1.286      0.198      -0.175       0.036\n",
       "lluvia_ano                -0.0067      0.010     -0.684      0.494      -0.026       0.012\n",
       "parque                    37.6171     28.183      1.335      0.182     -17.620      92.854\n",
       "prom_dist                 -0.4465      0.111     -4.023      0.000      -0.664      -0.229\n",
       "aeropuerto_SI             -0.2739      0.240     -1.139      0.255      -0.745       0.197\n",
       "cuerpo_agua_Lago          -0.0776      0.343     -0.226      0.821      -0.751       0.596\n",
       "cuerpo_agua_Lago y rio    -0.0395      0.394     -0.100      0.920      -0.811       0.732\n",
       "cuerpo_agua_Rio            0.4638      0.293      1.582      0.114      -0.111       1.039\n",
       "==========================================================================================\n",
       "\"\"\""
      ]
     },
     "execution_count": 14,
     "metadata": {},
     "output_type": "execute_result"
    }
   ],
   "source": [
    "logit.summary() # Ver estadisticos y los valores de los parámetros de las variables predictoras"
   ]
  },
  {
   "cell_type": "code",
   "execution_count": 15,
   "id": "49fec5bb-b7ef-411a-8653-4391489c33d1",
   "metadata": {},
   "outputs": [
    {
     "name": "stdout",
     "output_type": "stream",
     "text": [
      "Optimization terminated successfully.\n",
      "         Current function value: 0.541775\n",
      "         Iterations 6\n"
     ]
    },
    {
     "data": {
      "text/html": [
       "<table class=\"simpletable\">\n",
       "<caption>Logit Regression Results</caption>\n",
       "<tr>\n",
       "  <th>Dep. Variable:</th>        <td>Vendida</td>     <th>  No. Observations:  </th>  <td>   404</td>  \n",
       "</tr>\n",
       "<tr>\n",
       "  <th>Model:</th>                 <td>Logit</td>      <th>  Df Residuals:      </th>  <td>   390</td>  \n",
       "</tr>\n",
       "<tr>\n",
       "  <th>Method:</th>                 <td>MLE</td>       <th>  Df Model:          </th>  <td>    13</td>  \n",
       "</tr>\n",
       "<tr>\n",
       "  <th>Date:</th>            <td>Mon, 19 Jul 2021</td> <th>  Pseudo R-squ.:     </th>  <td>0.2139</td>  \n",
       "</tr>\n",
       "<tr>\n",
       "  <th>Time:</th>                <td>21:18:28</td>     <th>  Log-Likelihood:    </th> <td> -218.88</td> \n",
       "</tr>\n",
       "<tr>\n",
       "  <th>converged:</th>             <td>True</td>       <th>  LL-Null:           </th> <td> -278.43</td> \n",
       "</tr>\n",
       "<tr>\n",
       "  <th>Covariance Type:</th>     <td>nonrobust</td>    <th>  LLR p-value:       </th> <td>3.037e-19</td>\n",
       "</tr>\n",
       "</table>\n",
       "<table class=\"simpletable\">\n",
       "<tr>\n",
       "         <td></td>            <th>coef</th>     <th>std err</th>      <th>z</th>      <th>P>|z|</th>  <th>[0.025</th>    <th>0.975]</th>  \n",
       "</tr>\n",
       "<tr>\n",
       "  <th>const</th>           <td>   -2.9990</td> <td>    3.021</td> <td>   -0.993</td> <td> 0.321</td> <td>   -8.919</td> <td>    2.921</td>\n",
       "</tr>\n",
       "<tr>\n",
       "  <th>precio</th>          <td>   -0.2955</td> <td>    0.039</td> <td>   -7.601</td> <td> 0.000</td> <td>   -0.372</td> <td>   -0.219</td>\n",
       "</tr>\n",
       "<tr>\n",
       "  <th>area_resid</th>      <td>    0.0377</td> <td>    0.030</td> <td>    1.270</td> <td> 0.204</td> <td>   -0.020</td> <td>    0.096</td>\n",
       "</tr>\n",
       "<tr>\n",
       "  <th>cal_aire</th>        <td>   -9.9819</td> <td>    3.046</td> <td>   -3.277</td> <td> 0.001</td> <td>  -15.953</td> <td>   -4.011</td>\n",
       "</tr>\n",
       "<tr>\n",
       "  <th>num_hab</th>         <td>    1.1673</td> <td>    0.310</td> <td>    3.763</td> <td> 0.000</td> <td>    0.559</td> <td>    1.775</td>\n",
       "</tr>\n",
       "<tr>\n",
       "  <th>prof_mil</th>        <td>    0.3751</td> <td>    0.074</td> <td>    5.040</td> <td> 0.000</td> <td>    0.229</td> <td>    0.521</td>\n",
       "</tr>\n",
       "<tr>\n",
       "  <th>p-pobreza</th>       <td>   -0.2192</td> <td>    0.038</td> <td>   -5.836</td> <td> 0.000</td> <td>   -0.293</td> <td>   -0.146</td>\n",
       "</tr>\n",
       "<tr>\n",
       "  <th>n_cam_hos</th>       <td>    0.1829</td> <td>    0.082</td> <td>    2.243</td> <td> 0.025</td> <td>    0.023</td> <td>    0.343</td>\n",
       "</tr>\n",
       "<tr>\n",
       "  <th>n_hab_hotel</th>     <td>   -0.0695</td> <td>    0.054</td> <td>   -1.294</td> <td> 0.196</td> <td>   -0.175</td> <td>    0.036</td>\n",
       "</tr>\n",
       "<tr>\n",
       "  <th>lluvia_ano</th>      <td>   -0.0068</td> <td>    0.010</td> <td>   -0.699</td> <td> 0.484</td> <td>   -0.026</td> <td>    0.012</td>\n",
       "</tr>\n",
       "<tr>\n",
       "  <th>parque</th>          <td>   37.8543</td> <td>   28.155</td> <td>    1.345</td> <td> 0.179</td> <td>  -17.328</td> <td>   93.036</td>\n",
       "</tr>\n",
       "<tr>\n",
       "  <th>prom_dist</th>       <td>   -0.4467</td> <td>    0.103</td> <td>   -4.339</td> <td> 0.000</td> <td>   -0.648</td> <td>   -0.245</td>\n",
       "</tr>\n",
       "<tr>\n",
       "  <th>aeropuerto_SI</th>   <td>   -0.2759</td> <td>    0.239</td> <td>   -1.152</td> <td> 0.249</td> <td>   -0.745</td> <td>    0.193</td>\n",
       "</tr>\n",
       "<tr>\n",
       "  <th>cuerpo_agua_Rio</th> <td>    0.4971</td> <td>    0.246</td> <td>    2.024</td> <td> 0.043</td> <td>    0.016</td> <td>    0.979</td>\n",
       "</tr>\n",
       "</table>"
      ],
      "text/plain": [
       "<class 'statsmodels.iolib.summary.Summary'>\n",
       "\"\"\"\n",
       "                           Logit Regression Results                           \n",
       "==============================================================================\n",
       "Dep. Variable:                Vendida   No. Observations:                  404\n",
       "Model:                          Logit   Df Residuals:                      390\n",
       "Method:                           MLE   Df Model:                           13\n",
       "Date:                Mon, 19 Jul 2021   Pseudo R-squ.:                  0.2139\n",
       "Time:                        21:18:28   Log-Likelihood:                -218.88\n",
       "converged:                       True   LL-Null:                       -278.43\n",
       "Covariance Type:            nonrobust   LLR p-value:                 3.037e-19\n",
       "===================================================================================\n",
       "                      coef    std err          z      P>|z|      [0.025      0.975]\n",
       "-----------------------------------------------------------------------------------\n",
       "const              -2.9990      3.021     -0.993      0.321      -8.919       2.921\n",
       "precio             -0.2955      0.039     -7.601      0.000      -0.372      -0.219\n",
       "area_resid          0.0377      0.030      1.270      0.204      -0.020       0.096\n",
       "cal_aire           -9.9819      3.046     -3.277      0.001     -15.953      -4.011\n",
       "num_hab             1.1673      0.310      3.763      0.000       0.559       1.775\n",
       "prof_mil            0.3751      0.074      5.040      0.000       0.229       0.521\n",
       "p-pobreza          -0.2192      0.038     -5.836      0.000      -0.293      -0.146\n",
       "n_cam_hos           0.1829      0.082      2.243      0.025       0.023       0.343\n",
       "n_hab_hotel        -0.0695      0.054     -1.294      0.196      -0.175       0.036\n",
       "lluvia_ano         -0.0068      0.010     -0.699      0.484      -0.026       0.012\n",
       "parque             37.8543     28.155      1.345      0.179     -17.328      93.036\n",
       "prom_dist          -0.4467      0.103     -4.339      0.000      -0.648      -0.245\n",
       "aeropuerto_SI      -0.2759      0.239     -1.152      0.249      -0.745       0.193\n",
       "cuerpo_agua_Rio     0.4971      0.246      2.024      0.043       0.016       0.979\n",
       "===================================================================================\n",
       "\"\"\""
      ]
     },
     "execution_count": 15,
     "metadata": {},
     "output_type": "execute_result"
    }
   ],
   "source": [
    "columnas = ['edad', 'cuerpo_agua_Lago', 'cuerpo_agua_Lago y rio'] # Se eliminan los atributos con valores por encima de\n",
    "# la significancia de los parámetros\n",
    "\n",
    "const_X = const_X.drop(columns = columnas)\n",
    "\n",
    "logit1 = sm.Logit(y_train, const_X).fit()\n",
    "logit1.summary()"
   ]
  },
  {
   "cell_type": "code",
   "execution_count": 16,
   "id": "dd09ddfd-6884-4281-8eb1-a3df018985c5",
   "metadata": {},
   "outputs": [
    {
     "name": "stdout",
     "output_type": "stream",
     "text": [
      "Optimization terminated successfully.\n",
      "         Current function value: 0.546263\n",
      "         Iterations 6\n"
     ]
    },
    {
     "data": {
      "text/html": [
       "<table class=\"simpletable\">\n",
       "<caption>Logit Regression Results</caption>\n",
       "<tr>\n",
       "  <th>Dep. Variable:</th>        <td>Vendida</td>     <th>  No. Observations:  </th>  <td>   404</td>  \n",
       "</tr>\n",
       "<tr>\n",
       "  <th>Model:</th>                 <td>Logit</td>      <th>  Df Residuals:      </th>  <td>   393</td>  \n",
       "</tr>\n",
       "<tr>\n",
       "  <th>Method:</th>                 <td>MLE</td>       <th>  Df Model:          </th>  <td>    10</td>  \n",
       "</tr>\n",
       "<tr>\n",
       "  <th>Date:</th>            <td>Mon, 19 Jul 2021</td> <th>  Pseudo R-squ.:     </th>  <td>0.2074</td>  \n",
       "</tr>\n",
       "<tr>\n",
       "  <th>Time:</th>                <td>21:18:28</td>     <th>  Log-Likelihood:    </th> <td> -220.69</td> \n",
       "</tr>\n",
       "<tr>\n",
       "  <th>converged:</th>             <td>True</td>       <th>  LL-Null:           </th> <td> -278.43</td> \n",
       "</tr>\n",
       "<tr>\n",
       "  <th>Covariance Type:</th>     <td>nonrobust</td>    <th>  LLR p-value:       </th> <td>4.189e-20</td>\n",
       "</tr>\n",
       "</table>\n",
       "<table class=\"simpletable\">\n",
       "<tr>\n",
       "         <td></td>            <th>coef</th>     <th>std err</th>      <th>z</th>      <th>P>|z|</th>  <th>[0.025</th>    <th>0.975]</th>  \n",
       "</tr>\n",
       "<tr>\n",
       "  <th>const</th>           <td>   -1.4747</td> <td>    2.656</td> <td>   -0.555</td> <td> 0.579</td> <td>   -6.680</td> <td>    3.730</td>\n",
       "</tr>\n",
       "<tr>\n",
       "  <th>precio</th>          <td>   -0.3014</td> <td>    0.039</td> <td>   -7.747</td> <td> 0.000</td> <td>   -0.378</td> <td>   -0.225</td>\n",
       "</tr>\n",
       "<tr>\n",
       "  <th>cal_aire</th>        <td>   -9.2258</td> <td>    2.962</td> <td>   -3.115</td> <td> 0.002</td> <td>  -15.030</td> <td>   -3.421</td>\n",
       "</tr>\n",
       "<tr>\n",
       "  <th>num_hab</th>         <td>    1.1390</td> <td>    0.307</td> <td>    3.706</td> <td> 0.000</td> <td>    0.537</td> <td>    1.741</td>\n",
       "</tr>\n",
       "<tr>\n",
       "  <th>prof_mil</th>        <td>    0.3570</td> <td>    0.072</td> <td>    4.982</td> <td> 0.000</td> <td>    0.217</td> <td>    0.497</td>\n",
       "</tr>\n",
       "<tr>\n",
       "  <th>p-pobreza</th>       <td>   -0.2163</td> <td>    0.037</td> <td>   -5.854</td> <td> 0.000</td> <td>   -0.289</td> <td>   -0.144</td>\n",
       "</tr>\n",
       "<tr>\n",
       "  <th>n_cam_hos</th>       <td>    0.1809</td> <td>    0.081</td> <td>    2.237</td> <td> 0.025</td> <td>    0.022</td> <td>    0.339</td>\n",
       "</tr>\n",
       "<tr>\n",
       "  <th>n_hab_hotel</th>     <td>   -0.0743</td> <td>    0.057</td> <td>   -1.313</td> <td> 0.189</td> <td>   -0.185</td> <td>    0.037</td>\n",
       "</tr>\n",
       "<tr>\n",
       "  <th>parque</th>          <td>   38.8342</td> <td>   27.889</td> <td>    1.392</td> <td> 0.164</td> <td>  -15.826</td> <td>   93.495</td>\n",
       "</tr>\n",
       "<tr>\n",
       "  <th>prom_dist</th>       <td>   -0.4795</td> <td>    0.099</td> <td>   -4.822</td> <td> 0.000</td> <td>   -0.674</td> <td>   -0.285</td>\n",
       "</tr>\n",
       "<tr>\n",
       "  <th>cuerpo_agua_Rio</th> <td>    0.4775</td> <td>    0.244</td> <td>    1.960</td> <td> 0.050</td> <td> 2.13e-05</td> <td>    0.955</td>\n",
       "</tr>\n",
       "</table>"
      ],
      "text/plain": [
       "<class 'statsmodels.iolib.summary.Summary'>\n",
       "\"\"\"\n",
       "                           Logit Regression Results                           \n",
       "==============================================================================\n",
       "Dep. Variable:                Vendida   No. Observations:                  404\n",
       "Model:                          Logit   Df Residuals:                      393\n",
       "Method:                           MLE   Df Model:                           10\n",
       "Date:                Mon, 19 Jul 2021   Pseudo R-squ.:                  0.2074\n",
       "Time:                        21:18:28   Log-Likelihood:                -220.69\n",
       "converged:                       True   LL-Null:                       -278.43\n",
       "Covariance Type:            nonrobust   LLR p-value:                 4.189e-20\n",
       "===================================================================================\n",
       "                      coef    std err          z      P>|z|      [0.025      0.975]\n",
       "-----------------------------------------------------------------------------------\n",
       "const              -1.4747      2.656     -0.555      0.579      -6.680       3.730\n",
       "precio             -0.3014      0.039     -7.747      0.000      -0.378      -0.225\n",
       "cal_aire           -9.2258      2.962     -3.115      0.002     -15.030      -3.421\n",
       "num_hab             1.1390      0.307      3.706      0.000       0.537       1.741\n",
       "prof_mil            0.3570      0.072      4.982      0.000       0.217       0.497\n",
       "p-pobreza          -0.2163      0.037     -5.854      0.000      -0.289      -0.144\n",
       "n_cam_hos           0.1809      0.081      2.237      0.025       0.022       0.339\n",
       "n_hab_hotel        -0.0743      0.057     -1.313      0.189      -0.185       0.037\n",
       "parque             38.8342     27.889      1.392      0.164     -15.826      93.495\n",
       "prom_dist          -0.4795      0.099     -4.822      0.000      -0.674      -0.285\n",
       "cuerpo_agua_Rio     0.4775      0.244      1.960      0.050    2.13e-05       0.955\n",
       "===================================================================================\n",
       "\"\"\""
      ]
     },
     "execution_count": 16,
     "metadata": {},
     "output_type": "execute_result"
    }
   ],
   "source": [
    "columnas = ['lluvia_ano', 'area_resid', 'aeropuerto_SI']\n",
    "\n",
    "const_X = const_X.drop(columns = columnas)\n",
    "\n",
    "logit2 = sm.Logit(y_train, const_X).fit()\n",
    "logit2.summary()"
   ]
  },
  {
   "cell_type": "code",
   "execution_count": 17,
   "id": "1a5e8a94-6431-4614-989d-b42e181dda55",
   "metadata": {},
   "outputs": [
    {
     "name": "stdout",
     "output_type": "stream",
     "text": [
      "Optimization terminated successfully.\n",
      "         Current function value: 0.551369\n",
      "         Iterations 6\n"
     ]
    },
    {
     "data": {
      "text/html": [
       "<table class=\"simpletable\">\n",
       "<caption>Logit Regression Results</caption>\n",
       "<tr>\n",
       "  <th>Dep. Variable:</th>        <td>Vendida</td>     <th>  No. Observations:  </th>  <td>   404</td>  \n",
       "</tr>\n",
       "<tr>\n",
       "  <th>Model:</th>                 <td>Logit</td>      <th>  Df Residuals:      </th>  <td>   395</td>  \n",
       "</tr>\n",
       "<tr>\n",
       "  <th>Method:</th>                 <td>MLE</td>       <th>  Df Model:          </th>  <td>     8</td>  \n",
       "</tr>\n",
       "<tr>\n",
       "  <th>Date:</th>            <td>Mon, 19 Jul 2021</td> <th>  Pseudo R-squ.:     </th>  <td>0.2000</td>  \n",
       "</tr>\n",
       "<tr>\n",
       "  <th>Time:</th>                <td>21:18:28</td>     <th>  Log-Likelihood:    </th> <td> -222.75</td> \n",
       "</tr>\n",
       "<tr>\n",
       "  <th>converged:</th>             <td>True</td>       <th>  LL-Null:           </th> <td> -278.43</td> \n",
       "</tr>\n",
       "<tr>\n",
       "  <th>Covariance Type:</th>     <td>nonrobust</td>    <th>  LLR p-value:       </th> <td>2.015e-20</td>\n",
       "</tr>\n",
       "</table>\n",
       "<table class=\"simpletable\">\n",
       "<tr>\n",
       "         <td></td>            <th>coef</th>     <th>std err</th>      <th>z</th>      <th>P>|z|</th>  <th>[0.025</th>    <th>0.975]</th>  \n",
       "</tr>\n",
       "<tr>\n",
       "  <th>const</th>           <td>   -1.9879</td> <td>    2.507</td> <td>   -0.793</td> <td> 0.428</td> <td>   -6.902</td> <td>    2.926</td>\n",
       "</tr>\n",
       "<tr>\n",
       "  <th>precio</th>          <td>   -0.3023</td> <td>    0.039</td> <td>   -7.779</td> <td> 0.000</td> <td>   -0.378</td> <td>   -0.226</td>\n",
       "</tr>\n",
       "<tr>\n",
       "  <th>cal_aire</th>        <td>   -6.0062</td> <td>    1.824</td> <td>   -3.293</td> <td> 0.001</td> <td>   -9.581</td> <td>   -2.432</td>\n",
       "</tr>\n",
       "<tr>\n",
       "  <th>num_hab</th>         <td>    1.1296</td> <td>    0.305</td> <td>    3.703</td> <td> 0.000</td> <td>    0.532</td> <td>    1.727</td>\n",
       "</tr>\n",
       "<tr>\n",
       "  <th>prof_mil</th>        <td>    0.3584</td> <td>    0.072</td> <td>    5.001</td> <td> 0.000</td> <td>    0.218</td> <td>    0.499</td>\n",
       "</tr>\n",
       "<tr>\n",
       "  <th>p-pobreza</th>       <td>   -0.2171</td> <td>    0.037</td> <td>   -5.875</td> <td> 0.000</td> <td>   -0.290</td> <td>   -0.145</td>\n",
       "</tr>\n",
       "<tr>\n",
       "  <th>n_cam_hos</th>       <td>    0.1761</td> <td>    0.081</td> <td>    2.187</td> <td> 0.029</td> <td>    0.018</td> <td>    0.334</td>\n",
       "</tr>\n",
       "<tr>\n",
       "  <th>prom_dist</th>       <td>   -0.4856</td> <td>    0.100</td> <td>   -4.880</td> <td> 0.000</td> <td>   -0.681</td> <td>   -0.291</td>\n",
       "</tr>\n",
       "<tr>\n",
       "  <th>cuerpo_agua_Rio</th> <td>    0.4876</td> <td>    0.242</td> <td>    2.016</td> <td> 0.044</td> <td>    0.014</td> <td>    0.962</td>\n",
       "</tr>\n",
       "</table>"
      ],
      "text/plain": [
       "<class 'statsmodels.iolib.summary.Summary'>\n",
       "\"\"\"\n",
       "                           Logit Regression Results                           \n",
       "==============================================================================\n",
       "Dep. Variable:                Vendida   No. Observations:                  404\n",
       "Model:                          Logit   Df Residuals:                      395\n",
       "Method:                           MLE   Df Model:                            8\n",
       "Date:                Mon, 19 Jul 2021   Pseudo R-squ.:                  0.2000\n",
       "Time:                        21:18:28   Log-Likelihood:                -222.75\n",
       "converged:                       True   LL-Null:                       -278.43\n",
       "Covariance Type:            nonrobust   LLR p-value:                 2.015e-20\n",
       "===================================================================================\n",
       "                      coef    std err          z      P>|z|      [0.025      0.975]\n",
       "-----------------------------------------------------------------------------------\n",
       "const              -1.9879      2.507     -0.793      0.428      -6.902       2.926\n",
       "precio             -0.3023      0.039     -7.779      0.000      -0.378      -0.226\n",
       "cal_aire           -6.0062      1.824     -3.293      0.001      -9.581      -2.432\n",
       "num_hab             1.1296      0.305      3.703      0.000       0.532       1.727\n",
       "prof_mil            0.3584      0.072      5.001      0.000       0.218       0.499\n",
       "p-pobreza          -0.2171      0.037     -5.875      0.000      -0.290      -0.145\n",
       "n_cam_hos           0.1761      0.081      2.187      0.029       0.018       0.334\n",
       "prom_dist          -0.4856      0.100     -4.880      0.000      -0.681      -0.291\n",
       "cuerpo_agua_Rio     0.4876      0.242      2.016      0.044       0.014       0.962\n",
       "===================================================================================\n",
       "\"\"\""
      ]
     },
     "execution_count": 17,
     "metadata": {},
     "output_type": "execute_result"
    }
   ],
   "source": [
    "columnas = ['n_hab_hotel', 'parque']\n",
    "\n",
    "const_X = const_X.drop(columns = columnas)\n",
    "\n",
    "logit3 = sm.Logit(y_train, const_X).fit()\n",
    "logit3.summary()"
   ]
  },
  {
   "cell_type": "markdown",
   "id": "565765b6-deca-42f6-be14-9d4f758d970e",
   "metadata": {},
   "source": [
    "## Rendimiento del modelo"
   ]
  },
  {
   "cell_type": "code",
   "execution_count": 18,
   "id": "58d1abf9-5573-410e-abe4-00c5eae185d6",
   "metadata": {},
   "outputs": [],
   "source": [
    "# Lista con los valores de los atributos finales del modelo\n",
    "col_final = ['precio', 'cal_aire', 'num_hab', 'prof_mil', 'p-pobreza', 'n_cam_hos', 'prom_dist', 'cuerpo_agua_Rio']"
   ]
  },
  {
   "cell_type": "code",
   "execution_count": 19,
   "id": "959ddcb4-bcdf-4d9c-a880-954a14ffe3de",
   "metadata": {},
   "outputs": [
    {
     "data": {
      "text/plain": [
       "203    0.048505\n",
       "441    0.292603\n",
       "172    0.582527\n",
       "95     0.773022\n",
       "54     0.121675\n",
       "         ...   \n",
       "98     0.149341\n",
       "476    0.522887\n",
       "322    0.651095\n",
       "382    0.447391\n",
       "365    0.019508\n",
       "Length: 404, dtype: float64"
      ]
     },
     "execution_count": 19,
     "metadata": {},
     "output_type": "execute_result"
    }
   ],
   "source": [
    "X_test = sn.add_constant(X_test[col_final]) # Agregar columna de la constante para poder aplicar el modelo Logit\n",
    "y_pred_train = logit3.predict(const_X)\n",
    "y_pred_train"
   ]
  },
  {
   "cell_type": "code",
   "execution_count": 20,
   "id": "9f5598f0-5a0b-47b1-b1c7-a9a295dae32e",
   "metadata": {},
   "outputs": [
    {
     "data": {
      "text/plain": [
       "203    0\n",
       "441    0\n",
       "172    1\n",
       "95     1\n",
       "54     0\n",
       "      ..\n",
       "98     0\n",
       "476    1\n",
       "322    1\n",
       "382    0\n",
       "365    0\n",
       "Length: 404, dtype: int64"
      ]
     },
     "execution_count": 20,
     "metadata": {},
     "output_type": "execute_result"
    }
   ],
   "source": [
    "y_pred_train = y_pred_train.apply(lambda x: 1 if x > 0.5 else 0) # Como las predicciones están dadas en probabilidades\n",
    "# se convierten a uno las que esten por encima de 0.5, de lo contrario la clase es 0\n",
    "y_pred_train"
   ]
  },
  {
   "cell_type": "code",
   "execution_count": 21,
   "id": "dee37729-b465-427c-832c-7c67659ce6c9",
   "metadata": {},
   "outputs": [],
   "source": [
    "y_pred_test = logit3.predict(X_test) # realizar las predicciones en el conjunto de validación"
   ]
  },
  {
   "cell_type": "code",
   "execution_count": 22,
   "id": "1427788a-1395-46ca-b024-2c1ea9687a77",
   "metadata": {},
   "outputs": [],
   "source": [
    "y_pred_test = y_pred_test.apply(lambda x: 1 if x > 0.5 else 0)"
   ]
  },
  {
   "cell_type": "code",
   "execution_count": 23,
   "id": "49bbddf2-7414-408b-ad20-3799e5bbe19f",
   "metadata": {},
   "outputs": [
    {
     "data": {
      "text/plain": [
       "410    1\n",
       "85     1\n",
       "280    0\n",
       "422    0\n",
       "199    0\n",
       "      ..\n",
       "229    0\n",
       "159    1\n",
       "196    1\n",
       "345    0\n",
       "467    0\n",
       "Length: 102, dtype: int64"
      ]
     },
     "execution_count": 23,
     "metadata": {},
     "output_type": "execute_result"
    }
   ],
   "source": [
    "y_pred_test"
   ]
  },
  {
   "cell_type": "markdown",
   "id": "c5346c54-ff4f-4fac-9bba-74cf3abc01e5",
   "metadata": {},
   "source": [
    "### Exactitud *(Accuracy)*"
   ]
  },
  {
   "cell_type": "code",
   "execution_count": 24,
   "id": "dcdb17a6-5495-4e54-bd50-2310812a9cd8",
   "metadata": {},
   "outputs": [],
   "source": [
    "from sklearn.metrics import accuracy_score # Modulo para realizar la métrica de la exactitud"
   ]
  },
  {
   "cell_type": "code",
   "execution_count": 25,
   "id": "7ff1e11f-5221-49e0-9a3c-27c60853e4b0",
   "metadata": {},
   "outputs": [
    {
     "name": "stdout",
     "output_type": "stream",
     "text": [
      "Exactitud del modelo con datos de entrenamiento:  0.6856435643564357\n",
      "Exactitud del modelo con datos de validación:  0.6372549019607843\n"
     ]
    }
   ],
   "source": [
    "accuracy_ent = accuracy_score(y_train, y_pred_train)\n",
    "accuracy_test = accuracy_score(y_test, y_pred_test)\n",
    "\n",
    "print('Exactitud del modelo con datos de entrenamiento: ', accuracy_ent)\n",
    "print('Exactitud del modelo con datos de validación: ', accuracy_test)"
   ]
  },
  {
   "cell_type": "code",
   "execution_count": 26,
   "id": "a06c24f9-e900-4227-82fe-42a8bb73f567",
   "metadata": {},
   "outputs": [
    {
     "data": {
      "text/plain": [
       "0.6764705882352942"
      ]
     },
     "execution_count": 26,
     "metadata": {},
     "output_type": "execute_result"
    }
   ],
   "source": [
    "reg_model.fit(X_train[col_final], y_train).score(X_test[col_final], y_test)"
   ]
  },
  {
   "cell_type": "markdown",
   "id": "82b7cbff-c74c-45cb-b92f-7fca71fde578",
   "metadata": {},
   "source": [
    "### Matriz de confusión"
   ]
  },
  {
   "cell_type": "code",
   "execution_count": 27,
   "id": "0cd2270d-e306-486a-8b0e-3275be9fe6d8",
   "metadata": {},
   "outputs": [
    {
     "data": {
      "text/plain": [
       "array([[155,  65],\n",
       "       [ 62, 122]], dtype=int64)"
      ]
     },
     "execution_count": 27,
     "metadata": {},
     "output_type": "execute_result"
    }
   ],
   "source": [
    "from sklearn.metrics import confusion_matrix\n",
    "confusion_matrix(y_train, y_pred_train)"
   ]
  },
  {
   "cell_type": "code",
   "execution_count": 28,
   "id": "268dd7ba-68f6-4526-a8c4-63235c7a311e",
   "metadata": {},
   "outputs": [
    {
     "data": {
      "text/plain": [
       "array([[36, 20],\n",
       "       [17, 29]], dtype=int64)"
      ]
     },
     "execution_count": 28,
     "metadata": {},
     "output_type": "execute_result"
    }
   ],
   "source": [
    "confusion_matrix(y_test, y_pred_test)"
   ]
  },
  {
   "cell_type": "code",
   "execution_count": 31,
   "id": "d7cd57d3-bd65-45b5-b422-f48e18e9cc77",
   "metadata": {},
   "outputs": [
    {
     "data": {
      "text/plain": [
       "array([[115, 102],\n",
       "       [  0, 187]], dtype=int64)"
      ]
     },
     "execution_count": 31,
     "metadata": {},
     "output_type": "execute_result"
    }
   ],
   "source": [
    "# Si se desea trabajar con las probabilidades de sklearn se usa la función predic_proba()\n",
    "# e igualmente se puede manipular el umbral de decisión de la clase\n",
    "y_pred_sk = (reg_model.predict_proba(X_train[col_final])[:, 1]>0.3)\n",
    "confusion_matrix(y_pred_train, y_pred_sk)"
   ]
  },
  {
   "cell_type": "code",
   "execution_count": 32,
   "id": "19134b45-48a6-4783-a628-87d9ba1b5dd7",
   "metadata": {},
   "outputs": [
    {
     "data": {
      "text/plain": [
       "array([[100, 120],\n",
       "       [ 15, 169]], dtype=int64)"
      ]
     },
     "execution_count": 32,
     "metadata": {},
     "output_type": "execute_result"
    }
   ],
   "source": [
    "confusion_matrix(y_train, y_pred_sk)"
   ]
  },
  {
   "cell_type": "markdown",
   "id": "2978d37b-d530-4945-9458-ee909a905257",
   "metadata": {},
   "source": [
    "### Otras métricas (Precisión, Recall, AUC)"
   ]
  },
  {
   "cell_type": "code",
   "execution_count": 33,
   "id": "ca7f6421-cd2c-4746-a3a2-dfbb5c5513e7",
   "metadata": {},
   "outputs": [],
   "source": [
    "from sklearn.metrics import precision_score, recall_score, roc_auc_score, roc_curve"
   ]
  },
  {
   "cell_type": "code",
   "execution_count": 34,
   "id": "7a2da2c0-dc4e-42a7-b2e6-7cb26412699e",
   "metadata": {},
   "outputs": [
    {
     "data": {
      "text/plain": [
       "0.6524064171122995"
      ]
     },
     "execution_count": 34,
     "metadata": {},
     "output_type": "execute_result"
    }
   ],
   "source": [
    "precision_score(y_train, y_pred_train)"
   ]
  },
  {
   "cell_type": "code",
   "execution_count": 35,
   "id": "6cd5ec0e-3d4e-410d-8d34-3de59c3d70db",
   "metadata": {},
   "outputs": [
    {
     "data": {
      "text/plain": [
       "0.6630434782608695"
      ]
     },
     "execution_count": 35,
     "metadata": {},
     "output_type": "execute_result"
    }
   ],
   "source": [
    "recall_score(y_train, y_pred_train)"
   ]
  },
  {
   "cell_type": "code",
   "execution_count": 36,
   "id": "0e752db4-da44-45ae-aa23-1cae740db7a0",
   "metadata": {},
   "outputs": [
    {
     "data": {
      "text/plain": [
       "0.6837944664031621"
      ]
     },
     "execution_count": 36,
     "metadata": {},
     "output_type": "execute_result"
    }
   ],
   "source": [
    "roc_auc_score(y_train, y_pred_train)"
   ]
  },
  {
   "cell_type": "code",
   "execution_count": 40,
   "id": "ed811de3-d66e-4cce-ae97-143902616c62",
   "metadata": {},
   "outputs": [],
   "source": [
    "x_roc, y_roc, _ = roc_curve(y_test, reg_model.predict_proba(X_test[col_final])[:, 1]) # Devuelve tres valores\n",
    "# Tasas de falsos positivos, Tasas de verdaderos positivos, umbrales"
   ]
  },
  {
   "cell_type": "code",
   "execution_count": 38,
   "id": "bf2cfe04-56b5-4ff9-8817-2f1d1a30d968",
   "metadata": {},
   "outputs": [
    {
     "data": {
      "text/plain": [
       "Text(0, 0.5, 'Tasa de Verdaderos Positivos')"
      ]
     },
     "execution_count": 38,
     "metadata": {},
     "output_type": "execute_result"
    },
    {
     "data": {
      "image/png": "[encoded data removed]",
      "text/plain": [
       "<Figure size 432x288 with 1 Axes>"
      ]
     },
     "metadata": {
      "needs_background": "light"
     },
     "output_type": "display_data"
    }
   ],
   "source": [
    "plt.plot(x_roc, y_roc, marker = '.', label = 'Curva ROC modelo de Regresión logística')\n",
    "plt.xlabel('Tasa de Falsos Positivos')\n",
    "plt.ylabel('Tasa de Verdaderos Positivos')"
   ]
  }
 ],
 "metadata": {
  "kernelspec": {
   "display_name": "Python 3",
   "language": "python",
   "name": "python3"
  },
  "language_info": {
   "codemirror_mode": {
    "name": "ipython",
    "version": 3
   },
   "file_extension": ".py",
   "mimetype": "text/x-python",
   "name": "python",
   "nbconvert_exporter": "python",
   "pygments_lexer": "ipython3",
   "version": "3.9.5"
  }
 },
 "nbformat": 4,
 "nbformat_minor": 5
}
