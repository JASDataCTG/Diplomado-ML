{
 "cells": [
  {
   "cell_type": "markdown",
   "id": "wired-release",
   "metadata": {},
   "source": [
    "# Importación de datos y preparación"
   ]
  },
  {
   "cell_type": "code",
   "execution_count": null,
   "id": "correct-processing",
   "metadata": {},
   "outputs": [],
   "source": [
    "import os # Modulo que permite que Python pueda tener acceso a las operaciones del sistema operativo"
   ]
  },
  {
   "cell_type": "code",
   "execution_count": null,
   "id": "generic-hypothetical",
   "metadata": {},
   "outputs": [],
   "source": [
    "os.getcwd() # Muestra el directorio de trabajo actual"
   ]
  },
  {
   "cell_type": "code",
   "execution_count": null,
   "id": "parallel-riverside",
   "metadata": {},
   "outputs": [],
   "source": [
    "os.chdir('C:/Users/jacos/Documents/Modulo 2') # Cambia la ubicación del directorio de trabajo"
   ]
  },
  {
   "cell_type": "code",
   "execution_count": null,
   "id": "swiss-nicaragua",
   "metadata": {},
   "outputs": [],
   "source": [
    "os.getcwd()"
   ]
  },
  {
   "cell_type": "code",
   "execution_count": null,
   "id": "involved-travel",
   "metadata": {},
   "outputs": [],
   "source": [
    "import numpy as np # https://numpy.org/\n",
    "import pandas as pd # https://pandas.pydata.org/\n",
    "import seaborn as sns # https://seaborn.pydata.org/"
   ]
  },
  {
   "cell_type": "code",
   "execution_count": null,
   "id": "precious-pharmacy",
   "metadata": {},
   "outputs": [],
   "source": [
    "df = pd.read_csv('https://raw.githubusercontent.com/JASDataCTG/Diplomado-ML/main/Modulo%202/Datasets/precio_casa_reg.csv', header = 0)"
   ]
  },
  {
   "cell_type": "code",
   "execution_count": null,
   "id": "unusual-basic",
   "metadata": {},
   "outputs": [],
   "source": [
    "df.head() # Muestra las primeras cinco filas del dataframe por defecto"
   ]
  },
  {
   "cell_type": "code",
   "execution_count": null,
   "id": "hydraulic-white",
   "metadata": {},
   "outputs": [],
   "source": [
    "df.shape # Muestra las filas y columnas del dataframe"
   ]
  },
  {
   "cell_type": "code",
   "execution_count": null,
   "id": "bright-supply",
   "metadata": {},
   "outputs": [],
   "source": [
    "df.info() # Presenta información sobre las variables y sus tipos de datos"
   ]
  },
  {
   "cell_type": "markdown",
   "id": "considerable-disclosure",
   "metadata": {},
   "source": [
    "# Descripción de las variables\n",
    "![Asimetría](asimetria.jpg)\n",
    "![Curtosis](curtosis.jpg)"
   ]
  },
  {
   "cell_type": "code",
   "execution_count": null,
   "id": "romantic-period",
   "metadata": {},
   "outputs": [],
   "source": [
    "df.describe() # Ver los estadísticos descriptivos de los atributos numéricos"
   ]
  },
  {
   "cell_type": "code",
   "execution_count": null,
   "id": "laughing-cooler",
   "metadata": {},
   "outputs": [],
   "source": [
    "sns.jointplot(x = df['n_hab_hotel'], y = df['precio']) # Visualizar la distribución de las variables y ver la nube de puntos (x,y)"
   ]
  },
  {
   "cell_type": "code",
   "execution_count": null,
   "id": "stylish-steel",
   "metadata": {},
   "outputs": [],
   "source": [
    "sns.jointplot(x = df['lluvia_ano'], y = df['precio'])"
   ]
  },
  {
   "cell_type": "code",
   "execution_count": null,
   "id": "broke-clear",
   "metadata": {},
   "outputs": [],
   "source": [
    "sns.countplot(x = df['aeropuerto']) # Visualizamos un diagrama de barras de las variables categóricas con countplot"
   ]
  },
  {
   "cell_type": "code",
   "execution_count": null,
   "id": "virtual-graphics",
   "metadata": {},
   "outputs": [],
   "source": [
    "sns.countplot(x = df['cuerpo_agua'], palette = 'dark')"
   ]
  },
  {
   "cell_type": "code",
   "execution_count": null,
   "id": "ranging-registrar",
   "metadata": {},
   "outputs": [],
   "source": [
    "sns.countplot(x = df['ter_bus'], palette = 'dark')"
   ]
  },
  {
   "cell_type": "code",
   "execution_count": null,
   "id": "smart-tragedy",
   "metadata": {},
   "outputs": [],
   "source": [
    "#g = sns.PairGrid(df)\n",
    "#g.map(sns.scatterplot)\n",
    "#g2 = g.add_legend()\n",
    "#g2.savefig('nube_puntos.png')"
   ]
  },
  {
   "cell_type": "markdown",
   "id": "large-glory",
   "metadata": {},
   "source": [
    "### Hallazgos en el análisis de los datos\n",
    "\n",
    "* El atributo n_cam_hos (números de cama en los hospitales) tiene valores nulos\n",
    "* Outlier evidentes en los estadísticos descriptivos del atributo tasa_crimen\n",
    "* Se pueden visualizar outliers en los atributos lluvia_ano y n_hab_hotel\n",
    "* La variable term_bus tiene un solo valor"
   ]
  },
  {
   "cell_type": "markdown",
   "id": "missing-nature",
   "metadata": {},
   "source": [
    "# Tratamiendo de los outliers"
   ]
  },
  {
   "cell_type": "code",
   "execution_count": null,
   "id": "noted-drawing",
   "metadata": {},
   "outputs": [],
   "source": [
    "np.percentile(df.n_hab_hotel,[99]) #Teniendo los datos ordenados ahora ubicamos el valor que se ubica en el percentil 99"
   ]
  },
  {
   "cell_type": "code",
   "execution_count": null,
   "id": "several-beverage",
   "metadata": {},
   "outputs": [],
   "source": [
    "np.percentile(df.n_hab_hotel,[99])[0] # Para ver el valor sin la notación de array (vector o arreglo),\n",
    "# y al ser un array de un solo elemento accedemos al valor ubicado en la posición 0 (Python indexa desde 0)"
   ]
  },
  {
   "cell_type": "code",
   "execution_count": null,
   "id": "forbidden-stanford",
   "metadata": {},
   "outputs": [],
   "source": [
    "lim_sup = np.percentile(df.n_hab_hotel,[99])[0] # Ver el valor de referencia para establecer el piso superior del\n",
    "# método piso y techo"
   ]
  },
  {
   "cell_type": "code",
   "execution_count": null,
   "id": "abandoned-stanford",
   "metadata": {},
   "outputs": [],
   "source": [
    "df[df.n_hab_hotel > lim_sup] # Revisamos los datos en nuestro dataset que son outliers por encima del límite superior"
   ]
  },
  {
   "cell_type": "code",
   "execution_count": null,
   "id": "impressive-highlight",
   "metadata": {},
   "outputs": [],
   "source": [
    "df.n_hab_hotel[df.n_hab_hotel > 3 * lim_sup] = 3 * lim_sup"
   ]
  },
  {
   "cell_type": "code",
   "execution_count": null,
   "id": "enhanced-wisconsin",
   "metadata": {},
   "outputs": [],
   "source": [
    "np.percentile(df.lluvia_ano,[1])[0]"
   ]
  },
  {
   "cell_type": "code",
   "execution_count": null,
   "id": "split-settlement",
   "metadata": {},
   "outputs": [],
   "source": [
    "lim_inf = np.percentile(df.lluvia_ano,[1])[0]"
   ]
  },
  {
   "cell_type": "code",
   "execution_count": null,
   "id": "meaningful-martial",
   "metadata": {},
   "outputs": [],
   "source": [
    "df[df.lluvia_ano < lim_inf]"
   ]
  },
  {
   "cell_type": "code",
   "execution_count": null,
   "id": "fifty-swift",
   "metadata": {
    "scrolled": true
   },
   "outputs": [],
   "source": [
    "df.lluvia_ano[df.lluvia_ano < 0.3 * lim_inf] = 0.3 * lim_inf"
   ]
  },
  {
   "cell_type": "code",
   "execution_count": null,
   "id": "severe-pacific",
   "metadata": {},
   "outputs": [],
   "source": [
    "sns.jointplot(x = 'tasa_crimen', y = 'precio', data = df) # Si se desea trabajar sin el formato atributo['nombre>atr']\n",
    "# debe informar a la función de Seaborn el nombre del dataframe que se esta utilizando"
   ]
  },
  {
   "cell_type": "code",
   "execution_count": null,
   "id": "printable-texas",
   "metadata": {},
   "outputs": [],
   "source": [
    "df.describe() # Una vez que hacemos el tratamiento de los outliers la media y la mediana de los atributos\n",
    "# se encuentran más cercanas"
   ]
  },
  {
   "cell_type": "code",
   "execution_count": null,
   "id": "affecting-boring",
   "metadata": {
    "scrolled": true
   },
   "outputs": [],
   "source": [
    "# Ahora podemos ver el efecto del tratamiento que se le ha dado a los outliers en las gráficas\n",
    "sns.jointplot(x = df['n_hab_hotel'], y = df['precio'])"
   ]
  },
  {
   "cell_type": "code",
   "execution_count": null,
   "id": "uniform-virgin",
   "metadata": {},
   "outputs": [],
   "source": [
    "sns.jointplot(x = df['lluvia_ano'], y = df['precio'])"
   ]
  },
  {
   "cell_type": "markdown",
   "id": "sixth-government",
   "metadata": {},
   "source": [
    "# Imputación de valores faltantes en el atributo n_cam_hos"
   ]
  },
  {
   "cell_type": "code",
   "execution_count": null,
   "id": "natural-albany",
   "metadata": {},
   "outputs": [],
   "source": [
    "df.n_cam_hos[df.n_cam_hos.isna()] # Ver los valores NaN en el atributo"
   ]
  },
  {
   "cell_type": "code",
   "execution_count": null,
   "id": "filled-spine",
   "metadata": {},
   "outputs": [],
   "source": [
    "df.n_cam_hos = df.n_cam_hos.fillna(df.n_cam_hos.mean())\n",
    "# Se puede verificar la existencia de NaN en un datafarme con la siguiente instrucción: df.isna().values.any()"
   ]
  },
  {
   "cell_type": "code",
   "execution_count": null,
   "id": "significant-colombia",
   "metadata": {},
   "outputs": [],
   "source": [
    "df.info()"
   ]
  },
  {
   "cell_type": "code",
   "execution_count": null,
   "id": "earned-cooling",
   "metadata": {},
   "outputs": [],
   "source": [
    "df.isna().values.any() # Confirmar si queda en el dataframe algún atributo con valores perdidos"
   ]
  },
  {
   "cell_type": "markdown",
   "id": "cardiovascular-offense",
   "metadata": {},
   "source": [
    "# Transformación de variables"
   ]
  },
  {
   "cell_type": "code",
   "execution_count": null,
   "id": "narrative-projection",
   "metadata": {},
   "outputs": [],
   "source": [
    "sns.jointplot(x = df['tasa_crimen'], y = df['precio']) # Evaluar la función de tendencia para la nube de puntos"
   ]
  },
  {
   "cell_type": "code",
   "execution_count": null,
   "id": "meaningful-arkansas",
   "metadata": {},
   "outputs": [],
   "source": [
    "df.tasa_crimen = np.log(1 + df.tasa_crimen) # Transformar el atributo tasa crimen"
   ]
  },
  {
   "cell_type": "code",
   "execution_count": null,
   "id": "complete-powder",
   "metadata": {},
   "outputs": [],
   "source": [
    "sns.jointplot(x = df['tasa_crimen'], y = df['precio']) # Verificar el efecto de la transformación"
   ]
  },
  {
   "cell_type": "code",
   "execution_count": null,
   "id": "completed-patrol",
   "metadata": {},
   "outputs": [],
   "source": [
    "df['dist_prom'] = (df.dist1 + df.dist2 + df.dist3 + df.dist4) / 4 # Promediar las distancias para crear un solo atributo\n",
    "# distancia promedio (dist_prom)"
   ]
  },
  {
   "cell_type": "code",
   "execution_count": null,
   "id": "continuing-click",
   "metadata": {},
   "outputs": [],
   "source": [
    "df.describe() # Ver los estadísticos descriptivos de la nueva variable"
   ]
  },
  {
   "cell_type": "code",
   "execution_count": null,
   "id": "multiple-minnesota",
   "metadata": {},
   "outputs": [],
   "source": [
    "del df['dist1'] # Eliminar los atributos de distancia"
   ]
  },
  {
   "cell_type": "code",
   "execution_count": null,
   "id": "spare-signature",
   "metadata": {},
   "outputs": [],
   "source": [
    "del df['dist2']"
   ]
  },
  {
   "cell_type": "code",
   "execution_count": null,
   "id": "dedicated-public",
   "metadata": {},
   "outputs": [],
   "source": [
    "del df['dist3']"
   ]
  },
  {
   "cell_type": "code",
   "execution_count": null,
   "id": "million-patrol",
   "metadata": {},
   "outputs": [],
   "source": [
    "del df['dist4']"
   ]
  },
  {
   "cell_type": "code",
   "execution_count": null,
   "id": "hundred-donna",
   "metadata": {},
   "outputs": [],
   "source": [
    "df.describe()"
   ]
  },
  {
   "cell_type": "code",
   "execution_count": null,
   "id": "young-smoke",
   "metadata": {},
   "outputs": [],
   "source": [
    "del df['ter_bus'] # Eliminar atributo ter_bus dado que un solo valor no aporta información al modelo"
   ]
  },
  {
   "cell_type": "code",
   "execution_count": null,
   "id": "powerful-virgin",
   "metadata": {},
   "outputs": [],
   "source": [
    "df.head()"
   ]
  },
  {
   "cell_type": "markdown",
   "id": "worldwide-chancellor",
   "metadata": {},
   "source": [
    "# Crear variables dummy para los atributos categóricos\n",
    "Algunos algoritmos de aprendizaje automático no pueden desarrollar los entrenamientos con variables categóricas"
   ]
  },
  {
   "cell_type": "code",
   "execution_count": null,
   "id": "civilian-hotel",
   "metadata": {},
   "outputs": [],
   "source": [
    "df = pd.get_dummies(df) # Separa los valores únicos de los atributos categóricos en columnas\n",
    "# que indicaran la presencia(1) o la ausencia(0) de los valores"
   ]
  },
  {
   "cell_type": "code",
   "execution_count": null,
   "id": "daily-angel",
   "metadata": {},
   "outputs": [],
   "source": [
    "df.head()"
   ]
  },
  {
   "cell_type": "code",
   "execution_count": null,
   "id": "declared-classics",
   "metadata": {},
   "outputs": [],
   "source": [
    "del df['aeropuerto_NO'] # Eliminar atributos redundantes"
   ]
  },
  {
   "cell_type": "code",
   "execution_count": null,
   "id": "fifth-howard",
   "metadata": {},
   "outputs": [],
   "source": [
    "del df['cuerpo_agua_Ninguno']"
   ]
  },
  {
   "cell_type": "code",
   "execution_count": null,
   "id": "floating-quarter",
   "metadata": {},
   "outputs": [],
   "source": [
    "df.head()"
   ]
  },
  {
   "cell_type": "code",
   "execution_count": null,
   "id": "a9c6f9b8-b53b-4240-9eb7-7ef5996b7456",
   "metadata": {},
   "outputs": [],
   "source": [
    "df.to_csv('precio_prep_reg.csv', header = True, index = False) # Guardar dataset con el preproceso finalizado\n",
    "# para su uso en los siguientes pasos."
   ]
  }
 ],
 "metadata": {
  "kernelspec": {
   "display_name": "Python 3",
   "language": "python",
   "name": "python3"
  },
  "language_info": {
   "codemirror_mode": {
    "name": "ipython",
    "version": 3
   },
   "file_extension": ".py",
   "mimetype": "text/x-python",
   "name": "python",
   "nbconvert_exporter": "python",
   "pygments_lexer": "ipython3",
   "version": "3.9.5"
  }
 },
 "nbformat": 4,
 "nbformat_minor": 5
}
