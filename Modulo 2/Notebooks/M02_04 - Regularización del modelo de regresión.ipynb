{
 "cells": [
  {
   "cell_type": "code",
   "execution_count": 1,
   "id": "0a1e8001-7d10-4e6d-9f80-a1c95222c45f",
   "metadata": {},
   "outputs": [],
   "source": [
    "import numpy as np # https://numpy.org/\n",
    "import pandas as pd # https://pandas.pydata.org/\n",
    "import seaborn as sns # https://seaborn.pydata.org/\n",
    "import matplotlib.pyplot as plt # https://matplotlib.org/stable/api/_as_gen/matplotlib.pyplot.html\n",
    "%matplotlib inline"
   ]
  },
  {
   "cell_type": "code",
   "execution_count": 2,
   "id": "8a8d9eac-8b22-4070-bac0-5be333034352",
   "metadata": {},
   "outputs": [],
   "source": [
    "df = pd.read_csv('precio_prep_reg.csv', header = 0) # Leer el archivo generado en el notebook de preproceso"
   ]
  },
  {
   "cell_type": "code",
   "execution_count": 3,
   "id": "a046d294-a7d9-4859-8e94-311080d91468",
   "metadata": {},
   "outputs": [],
   "source": [
    "X_multiple = df.drop('precio', axis = 1) # Crear un nuevo dataframe sin la columna precio (axis=1 -> borra columna)"
   ]
  },
  {
   "cell_type": "code",
   "execution_count": 4,
   "id": "ed5e67e7-22a1-40bd-9d35-e66b5bd1b56a",
   "metadata": {
    "tags": []
   },
   "outputs": [],
   "source": [
    "y_multiple = df['precio']"
   ]
  },
  {
   "cell_type": "code",
   "execution_count": 5,
   "id": "cbbb59e2-b875-497c-b4ae-e631041e1de9",
   "metadata": {},
   "outputs": [],
   "source": [
    "from sklearn.linear_model import LinearRegression # Importar el modulo y la función necesaria para el modelo de regresión lineal\n"
   ]
  },
  {
   "cell_type": "markdown",
   "id": "8cc9abc4-7071-4a6b-871b-1d6a539d7f9c",
   "metadata": {},
   "source": [
    "# División de los datos en set de entrenamiento y validación"
   ]
  },
  {
   "cell_type": "code",
   "execution_count": 6,
   "id": "4f88ff72-a085-4ee6-b473-b5272fa3d35f",
   "metadata": {},
   "outputs": [],
   "source": [
    "from sklearn.model_selection import train_test_split # Importar modulo y función necesaria para hacer una división\n",
    "# aleatoria de los datos"
   ]
  },
  {
   "cell_type": "code",
   "execution_count": 7,
   "id": "945af1f6-47cc-4a83-87c7-d3b8c7197136",
   "metadata": {},
   "outputs": [],
   "source": [
    "X_train, X_test, y_train, y_test = train_test_split(X_multiple, y_multiple, test_size = 0.2, random_state = 123) # Obtener los cuatro\n",
    "# conjuntos de datos necesarios para el modelo"
   ]
  },
  {
   "cell_type": "code",
   "execution_count": 8,
   "id": "51a91b7e-03d6-48bd-a733-0c6e063a485d",
   "metadata": {},
   "outputs": [
    {
     "data": {
      "text/plain": [
       "((404, 16), (102, 16), (102,), (404,))"
      ]
     },
     "execution_count": 8,
     "metadata": {},
     "output_type": "execute_result"
    }
   ],
   "source": [
    "X_train.shape, X_test.shape, y_test.shape, y_train.shape # Revisar las dimensiones de las matrices de los dataframes generados"
   ]
  },
  {
   "cell_type": "code",
   "execution_count": 9,
   "id": "eba321a2-9180-41db-a5fb-9c3f3c5e2e86",
   "metadata": {},
   "outputs": [],
   "source": [
    "linear_model_s = LinearRegression()"
   ]
  },
  {
   "cell_type": "code",
   "execution_count": 10,
   "id": "153d55e4-f5f7-4159-8fc0-531fd5bd3b00",
   "metadata": {},
   "outputs": [
    {
     "data": {
      "text/plain": [
       "LinearRegression()"
      ]
     },
     "execution_count": 10,
     "metadata": {},
     "output_type": "execute_result"
    }
   ],
   "source": [
    "linear_model_s.fit(X_train, y_train)"
   ]
  },
  {
   "cell_type": "code",
   "execution_count": 11,
   "id": "de34e4f8-e3be-4e9d-a152-275fe737664b",
   "metadata": {},
   "outputs": [],
   "source": [
    "y_train_s = linear_model_s.predict(X_train) # Realizar la predicción en el conjunto de entrenamiento"
   ]
  },
  {
   "cell_type": "code",
   "execution_count": 12,
   "id": "5774b5a3-dfaa-4f6e-811e-6af712682a60",
   "metadata": {},
   "outputs": [],
   "source": [
    "y_test_s = linear_model_s.predict(X_test) # Realizar la predicción en el conjunto de validación"
   ]
  },
  {
   "cell_type": "code",
   "execution_count": 13,
   "id": "ea2a01b3-0677-45ab-9419-ad21faabf59e",
   "metadata": {},
   "outputs": [],
   "source": [
    "from sklearn.metrics import r2_score # Importar la función que realiza el calculo del coeficiente de determinación"
   ]
  },
  {
   "cell_type": "code",
   "execution_count": 14,
   "id": "8310bf5e-0c3a-4047-b70b-144d8901d471",
   "metadata": {},
   "outputs": [
    {
     "data": {
      "text/plain": [
       "\u001b[1;31mSignature:\u001b[0m\n",
       "\u001b[0mr2_score\u001b[0m\u001b[1;33m(\u001b[0m\u001b[1;33m\n",
       "\u001b[0m    \u001b[0my_true\u001b[0m\u001b[1;33m,\u001b[0m\u001b[1;33m\n",
       "\u001b[0m    \u001b[0my_pred\u001b[0m\u001b[1;33m,\u001b[0m\u001b[1;33m\n",
       "\u001b[0m    \u001b[1;33m*\u001b[0m\u001b[1;33m,\u001b[0m\u001b[1;33m\n",
       "\u001b[0m    \u001b[0msample_weight\u001b[0m\u001b[1;33m=\u001b[0m\u001b[1;32mNone\u001b[0m\u001b[1;33m,\u001b[0m\u001b[1;33m\n",
       "\u001b[0m    \u001b[0mmultioutput\u001b[0m\u001b[1;33m=\u001b[0m\u001b[1;34m'uniform_average'\u001b[0m\u001b[1;33m,\u001b[0m\u001b[1;33m\n",
       "\u001b[0m\u001b[1;33m)\u001b[0m\u001b[1;33m\u001b[0m\u001b[1;33m\u001b[0m\u001b[0m\n",
       "\u001b[1;31mDocstring:\u001b[0m\n",
       "R^2 (coefficient of determination) regression score function.\n",
       "\n",
       "Best possible score is 1.0 and it can be negative (because the\n",
       "model can be arbitrarily worse). A constant model that always\n",
       "predicts the expected value of y, disregarding the input features,\n",
       "would get a R^2 score of 0.0.\n",
       "\n",
       "Read more in the :ref:`User Guide <r2_score>`.\n",
       "\n",
       "Parameters\n",
       "----------\n",
       "y_true : array-like of shape (n_samples,) or (n_samples, n_outputs)\n",
       "    Ground truth (correct) target values.\n",
       "\n",
       "y_pred : array-like of shape (n_samples,) or (n_samples, n_outputs)\n",
       "    Estimated target values.\n",
       "\n",
       "sample_weight : array-like of shape (n_samples,), default=None\n",
       "    Sample weights.\n",
       "\n",
       "multioutput : {'raw_values', 'uniform_average', 'variance_weighted'},             array-like of shape (n_outputs,) or None, default='uniform_average'\n",
       "\n",
       "    Defines aggregating of multiple output scores.\n",
       "    Array-like value defines weights used to average scores.\n",
       "    Default is \"uniform_average\".\n",
       "\n",
       "    'raw_values' :\n",
       "        Returns a full set of scores in case of multioutput input.\n",
       "\n",
       "    'uniform_average' :\n",
       "        Scores of all outputs are averaged with uniform weight.\n",
       "\n",
       "    'variance_weighted' :\n",
       "        Scores of all outputs are averaged, weighted by the variances\n",
       "        of each individual output.\n",
       "\n",
       "    .. versionchanged:: 0.19\n",
       "        Default value of multioutput is 'uniform_average'.\n",
       "\n",
       "Returns\n",
       "-------\n",
       "z : float or ndarray of floats\n",
       "    The R^2 score or ndarray of scores if 'multioutput' is\n",
       "    'raw_values'.\n",
       "\n",
       "Notes\n",
       "-----\n",
       "This is not a symmetric function.\n",
       "\n",
       "Unlike most other scores, R^2 score may be negative (it need not actually\n",
       "be the square of a quantity R).\n",
       "\n",
       "This metric is not well-defined for single samples and will return a NaN\n",
       "value if n_samples is less than two.\n",
       "\n",
       "References\n",
       "----------\n",
       ".. [1] `Wikipedia entry on the Coefficient of determination\n",
       "        <https://en.wikipedia.org/wiki/Coefficient_of_determination>`_\n",
       "\n",
       "Examples\n",
       "--------\n",
       ">>> from sklearn.metrics import r2_score\n",
       ">>> y_true = [3, -0.5, 2, 7]\n",
       ">>> y_pred = [2.5, 0.0, 2, 8]\n",
       ">>> r2_score(y_true, y_pred)\n",
       "0.948...\n",
       ">>> y_true = [[0.5, 1], [-1, 1], [7, -6]]\n",
       ">>> y_pred = [[0, 2], [-1, 2], [8, -5]]\n",
       ">>> r2_score(y_true, y_pred,\n",
       "...          multioutput='variance_weighted')\n",
       "0.938...\n",
       ">>> y_true = [1, 2, 3]\n",
       ">>> y_pred = [1, 2, 3]\n",
       ">>> r2_score(y_true, y_pred)\n",
       "1.0\n",
       ">>> y_true = [1, 2, 3]\n",
       ">>> y_pred = [2, 2, 2]\n",
       ">>> r2_score(y_true, y_pred)\n",
       "0.0\n",
       ">>> y_true = [1, 2, 3]\n",
       ">>> y_pred = [3, 2, 1]\n",
       ">>> r2_score(y_true, y_pred)\n",
       "-3.0\n",
       "\u001b[1;31mFile:\u001b[0m      d:\\jasdata\\python39\\lib\\site-packages\\sklearn\\metrics\\_regression.py\n",
       "\u001b[1;31mType:\u001b[0m      function\n"
      ]
     },
     "metadata": {},
     "output_type": "display_data"
    }
   ],
   "source": [
    "r2_score?"
   ]
  },
  {
   "cell_type": "code",
   "execution_count": 15,
   "id": "9c5eaebb-a975-42b0-a055-94245e86b276",
   "metadata": {},
   "outputs": [
    {
     "data": {
      "text/plain": [
       "0.747689691306311"
      ]
     },
     "execution_count": 15,
     "metadata": {},
     "output_type": "execute_result"
    }
   ],
   "source": [
    "r2_score(y_train, y_train_s) # Ver la bondad de ajuste en los datos de entrenamiento"
   ]
  },
  {
   "cell_type": "code",
   "execution_count": 16,
   "id": "2750e37e-598d-4fc9-805f-e3cbe2d9464c",
   "metadata": {},
   "outputs": [
    {
     "data": {
      "text/plain": [
       "0.5957731490588167"
      ]
     },
     "execution_count": 16,
     "metadata": {},
     "output_type": "execute_result"
    }
   ],
   "source": [
    "r2_score(y_test, y_test_s) # Ver la bondad de ajuste en los datos de validación"
   ]
  },
  {
   "cell_type": "markdown",
   "id": "78e51f78-a4f7-4ae3-a3ad-3712c39e5a7f",
   "metadata": {},
   "source": [
    "# Regularización por el método Ridge\n",
    "Este método penaliza la sumatoria de los parámetros elevados al cuadrado, reduce proporcionalmente los valores de los parámetros del modelo sin que jamás alcancen el valor de cero. El grado de penalización se controla por un hiperparámetro $\\lambda$, cuado este es igual a cero no hay penalización al modelo y es equivalente a aplicar el modelo de regresión tradicional, a mayor $\\lambda$ la penalización aumenta y disminuyen los valores de los predictores.\n",
    "\n",
    "$\\sum_{i=1}^{n}(y_{i}-\\theta_{0}-\\sum_{j=1}^p\\theta_{j}x_{ij})+\\lambda\\sum_{j=1}^p\\theta_{j}^2$"
   ]
  },
  {
   "cell_type": "code",
   "execution_count": 17,
   "id": "e650fb5e-1f36-43db-9660-8ad941f1c8cc",
   "metadata": {},
   "outputs": [],
   "source": [
    "from sklearn import preprocessing # Importar el modulo de preproceso"
   ]
  },
  {
   "cell_type": "code",
   "execution_count": 18,
   "id": "3fe51786-61c1-4835-85ec-b35c7a6251f1",
   "metadata": {},
   "outputs": [],
   "source": [
    "escala = preprocessing.StandardScaler().fit(X_train) # Crea un modelo para la normalización de los datos de X_train"
   ]
  },
  {
   "cell_type": "code",
   "execution_count": 19,
   "id": "b8da22bc-e56b-4128-a8d9-7f87a31d87c1",
   "metadata": {},
   "outputs": [],
   "source": [
    "X_train_esc = escala.transform(X_train) # Escalar (normlizar) el conjunto de datos de entrenamiento"
   ]
  },
  {
   "cell_type": "code",
   "execution_count": 20,
   "id": "249edaf3-c266-4b47-812e-cfde722f00e5",
   "metadata": {},
   "outputs": [
    {
     "data": {
      "text/plain": [
       "array([[-0.7563966 , -1.2260954 , -1.19901595, ..., -0.5007734 ,\n",
       "        -0.38435306, -0.76440416],\n",
       "       [ 1.55145024,  0.99548171,  1.58732869, ..., -0.5007734 ,\n",
       "         2.60177454, -0.76440416],\n",
       "       [-0.66185639, -1.02871793, -0.39124269, ..., -0.5007734 ,\n",
       "        -0.38435306,  1.30820847],\n",
       "       ...,\n",
       "       [-0.49338271, -0.548961  , -0.53748492, ..., -0.5007734 ,\n",
       "        -0.38435306, -0.76440416],\n",
       "       [ 1.50072639,  0.99548171,  1.24322932, ..., -0.5007734 ,\n",
       "        -0.38435306,  1.30820847],\n",
       "       [ 0.90228673,  0.99548171,  1.39807403, ..., -0.5007734 ,\n",
       "        -0.38435306,  1.30820847]])"
      ]
     },
     "execution_count": 20,
     "metadata": {},
     "output_type": "execute_result"
    }
   ],
   "source": [
    "X_train_esc"
   ]
  },
  {
   "cell_type": "code",
   "execution_count": 21,
   "id": "ecb56164-d7c5-4112-9fe1-6b5d29cd6513",
   "metadata": {},
   "outputs": [],
   "source": [
    "X_test_esc = escala.transform(X_test) # Escalar el conjunto de datos de validación"
   ]
  },
  {
   "cell_type": "code",
   "execution_count": 22,
   "id": "1a6db8da-4262-48ad-ad2e-388b9a604097",
   "metadata": {},
   "outputs": [
    {
     "data": {
      "text/plain": [
       "array([[ 3.11240444,  0.99548171,  0.35717344, ..., -0.5007734 ,\n",
       "        -0.38435306,  1.30820847],\n",
       "       [-0.73540318, -0.96532662, -0.91599422, ..., -0.5007734 ,\n",
       "        -0.38435306,  1.30820847],\n",
       "       [-0.75574835, -1.13244915, -0.96846938, ..., -0.5007734 ,\n",
       "        -0.38435306, -0.76440416],\n",
       "       ...,\n",
       "       [-0.75163044, -1.39321793, -1.30310601, ..., -0.5007734 ,\n",
       "         2.60177454, -0.76440416],\n",
       "       [-0.76018979, -0.97973374, -0.97621161, ...,  1.9969112 ,\n",
       "        -0.38435306, -0.76440416],\n",
       "       [ 0.87826202,  0.99548171,  0.24534115, ..., -0.5007734 ,\n",
       "         2.60177454, -0.76440416]])"
      ]
     },
     "execution_count": 22,
     "metadata": {},
     "output_type": "execute_result"
    }
   ],
   "source": [
    "X_test_esc"
   ]
  },
  {
   "cell_type": "code",
   "execution_count": 23,
   "id": "ac088fb3-cf8c-44f4-9b25-f1c814642904",
   "metadata": {},
   "outputs": [],
   "source": [
    "from sklearn.linear_model import Ridge #Importar el modelo Ridge"
   ]
  },
  {
   "cell_type": "code",
   "execution_count": 24,
   "id": "0d2e4ef0-476c-4aae-ada7-0d6fdfb43164",
   "metadata": {},
   "outputs": [
    {
     "data": {
      "text/plain": [
       "Ridge(alpha=0.5)"
      ]
     },
     "execution_count": 24,
     "metadata": {},
     "output_type": "execute_result"
    }
   ],
   "source": [
    "linear_model_r = Ridge(alpha = 0.5)\n",
    "linear_model_r.fit(X_train_esc, y_train)"
   ]
  },
  {
   "cell_type": "code",
   "execution_count": 25,
   "id": "e5257fa2-1645-4bfc-80c6-d6c738f995a9",
   "metadata": {},
   "outputs": [
    {
     "data": {
      "text/plain": [
       "0.5956947285362598"
      ]
     },
     "execution_count": 25,
     "metadata": {},
     "output_type": "execute_result"
    }
   ],
   "source": [
    "r2_score(y_test, linear_model_r.predict(X_test_esc)) # Calcular r2 en el conjunto de validación"
   ]
  },
  {
   "cell_type": "code",
   "execution_count": 26,
   "id": "d47b2790-db61-43a3-827f-8bf2b83f858f",
   "metadata": {},
   "outputs": [],
   "source": [
    "from sklearn.model_selection import validation_curve # Importar el modulo que permite determinar las puntuaciones para diferentes valores de parámetros"
   ]
  },
  {
   "cell_type": "code",
   "execution_count": 27,
   "id": "0ecd9f5a-7267-454f-a002-3779f688d03c",
   "metadata": {},
   "outputs": [
    {
     "data": {
      "text/plain": [
       "\u001b[1;31mSignature:\u001b[0m\n",
       "\u001b[0mvalidation_curve\u001b[0m\u001b[1;33m(\u001b[0m\u001b[1;33m\n",
       "\u001b[0m    \u001b[0mestimator\u001b[0m\u001b[1;33m,\u001b[0m\u001b[1;33m\n",
       "\u001b[0m    \u001b[0mX\u001b[0m\u001b[1;33m,\u001b[0m\u001b[1;33m\n",
       "\u001b[0m    \u001b[0my\u001b[0m\u001b[1;33m,\u001b[0m\u001b[1;33m\n",
       "\u001b[0m    \u001b[1;33m*\u001b[0m\u001b[1;33m,\u001b[0m\u001b[1;33m\n",
       "\u001b[0m    \u001b[0mparam_name\u001b[0m\u001b[1;33m,\u001b[0m\u001b[1;33m\n",
       "\u001b[0m    \u001b[0mparam_range\u001b[0m\u001b[1;33m,\u001b[0m\u001b[1;33m\n",
       "\u001b[0m    \u001b[0mgroups\u001b[0m\u001b[1;33m=\u001b[0m\u001b[1;32mNone\u001b[0m\u001b[1;33m,\u001b[0m\u001b[1;33m\n",
       "\u001b[0m    \u001b[0mcv\u001b[0m\u001b[1;33m=\u001b[0m\u001b[1;32mNone\u001b[0m\u001b[1;33m,\u001b[0m\u001b[1;33m\n",
       "\u001b[0m    \u001b[0mscoring\u001b[0m\u001b[1;33m=\u001b[0m\u001b[1;32mNone\u001b[0m\u001b[1;33m,\u001b[0m\u001b[1;33m\n",
       "\u001b[0m    \u001b[0mn_jobs\u001b[0m\u001b[1;33m=\u001b[0m\u001b[1;32mNone\u001b[0m\u001b[1;33m,\u001b[0m\u001b[1;33m\n",
       "\u001b[0m    \u001b[0mpre_dispatch\u001b[0m\u001b[1;33m=\u001b[0m\u001b[1;34m'all'\u001b[0m\u001b[1;33m,\u001b[0m\u001b[1;33m\n",
       "\u001b[0m    \u001b[0mverbose\u001b[0m\u001b[1;33m=\u001b[0m\u001b[1;36m0\u001b[0m\u001b[1;33m,\u001b[0m\u001b[1;33m\n",
       "\u001b[0m    \u001b[0merror_score\u001b[0m\u001b[1;33m=\u001b[0m\u001b[0mnan\u001b[0m\u001b[1;33m,\u001b[0m\u001b[1;33m\n",
       "\u001b[0m    \u001b[0mfit_params\u001b[0m\u001b[1;33m=\u001b[0m\u001b[1;32mNone\u001b[0m\u001b[1;33m,\u001b[0m\u001b[1;33m\n",
       "\u001b[0m\u001b[1;33m)\u001b[0m\u001b[1;33m\u001b[0m\u001b[1;33m\u001b[0m\u001b[0m\n",
       "\u001b[1;31mDocstring:\u001b[0m\n",
       "Validation curve.\n",
       "\n",
       "Determine training and test scores for varying parameter values.\n",
       "\n",
       "Compute scores for an estimator with different values of a specified\n",
       "parameter. This is similar to grid search with one parameter. However, this\n",
       "will also compute training scores and is merely a utility for plotting the\n",
       "results.\n",
       "\n",
       "Read more in the :ref:`User Guide <validation_curve>`.\n",
       "\n",
       "Parameters\n",
       "----------\n",
       "estimator : object type that implements the \"fit\" and \"predict\" methods\n",
       "    An object of that type which is cloned for each validation.\n",
       "\n",
       "X : array-like of shape (n_samples, n_features)\n",
       "    Training vector, where n_samples is the number of samples and\n",
       "    n_features is the number of features.\n",
       "\n",
       "y : array-like of shape (n_samples,) or (n_samples, n_outputs) or None\n",
       "    Target relative to X for classification or regression;\n",
       "    None for unsupervised learning.\n",
       "\n",
       "param_name : str\n",
       "    Name of the parameter that will be varied.\n",
       "\n",
       "param_range : array-like of shape (n_values,)\n",
       "    The values of the parameter that will be evaluated.\n",
       "\n",
       "groups : array-like of shape (n_samples,), default=None\n",
       "    Group labels for the samples used while splitting the dataset into\n",
       "    train/test set. Only used in conjunction with a \"Group\" :term:`cv`\n",
       "    instance (e.g., :class:`GroupKFold`).\n",
       "\n",
       "cv : int, cross-validation generator or an iterable, default=None\n",
       "    Determines the cross-validation splitting strategy.\n",
       "    Possible inputs for cv are:\n",
       "\n",
       "    - None, to use the default 5-fold cross validation,\n",
       "    - int, to specify the number of folds in a `(Stratified)KFold`,\n",
       "    - :term:`CV splitter`,\n",
       "    - An iterable yielding (train, test) splits as arrays of indices.\n",
       "\n",
       "    For int/None inputs, if the estimator is a classifier and ``y`` is\n",
       "    either binary or multiclass, :class:`StratifiedKFold` is used. In all\n",
       "    other cases, :class:`KFold` is used.\n",
       "\n",
       "    Refer :ref:`User Guide <cross_validation>` for the various\n",
       "    cross-validation strategies that can be used here.\n",
       "\n",
       "    .. versionchanged:: 0.22\n",
       "        ``cv`` default value if None changed from 3-fold to 5-fold.\n",
       "\n",
       "scoring : str or callable, default=None\n",
       "    A str (see model evaluation documentation) or\n",
       "    a scorer callable object / function with signature\n",
       "    ``scorer(estimator, X, y)``.\n",
       "\n",
       "n_jobs : int, default=None\n",
       "    Number of jobs to run in parallel. Training the estimator and computing\n",
       "    the score are parallelized over the combinations of each parameter\n",
       "    value and each cross-validation split.\n",
       "    ``None`` means 1 unless in a :obj:`joblib.parallel_backend` context.\n",
       "    ``-1`` means using all processors. See :term:`Glossary <n_jobs>`\n",
       "    for more details.\n",
       "\n",
       "pre_dispatch : int or str, default='all'\n",
       "    Number of predispatched jobs for parallel execution (default is\n",
       "    all). The option can reduce the allocated memory. The str can\n",
       "    be an expression like '2*n_jobs'.\n",
       "\n",
       "verbose : int, default=0\n",
       "    Controls the verbosity: the higher, the more messages.\n",
       "\n",
       "fit_params : dict, default=None\n",
       "    Parameters to pass to the fit method of the estimator.\n",
       "\n",
       "    .. versionadded:: 0.24\n",
       "\n",
       "error_score : 'raise' or numeric, default=np.nan\n",
       "    Value to assign to the score if an error occurs in estimator fitting.\n",
       "    If set to 'raise', the error is raised.\n",
       "    If a numeric value is given, FitFailedWarning is raised.\n",
       "\n",
       "    .. versionadded:: 0.20\n",
       "\n",
       "Returns\n",
       "-------\n",
       "train_scores : array of shape (n_ticks, n_cv_folds)\n",
       "    Scores on training sets.\n",
       "\n",
       "test_scores : array of shape (n_ticks, n_cv_folds)\n",
       "    Scores on test set.\n",
       "\n",
       "Notes\n",
       "-----\n",
       "See :ref:`sphx_glr_auto_examples_model_selection_plot_validation_curve.py`\n",
       "\u001b[1;31mFile:\u001b[0m      d:\\jasdata\\python39\\lib\\site-packages\\sklearn\\model_selection\\_validation.py\n",
       "\u001b[1;31mType:\u001b[0m      function\n"
      ]
     },
     "metadata": {},
     "output_type": "display_data"
    }
   ],
   "source": [
    "validation_curve?"
   ]
  },
  {
   "cell_type": "code",
   "execution_count": 28,
   "id": "e9e5315a-df07-43da-b5f0-0d903cc61450",
   "metadata": {},
   "outputs": [],
   "source": [
    "rango_parametros = np.logspace(-2,8,100) # Retorna 100 números espaciados entre -2 y 8 en una escala logaritmica"
   ]
  },
  {
   "cell_type": "code",
   "execution_count": 29,
   "id": "af86d51c-115a-4e5a-bfd0-dc5f9c20aeb8",
   "metadata": {},
   "outputs": [
    {
     "data": {
      "text/plain": [
       "array([1.00000000e-02, 1.26185688e-02, 1.59228279e-02, 2.00923300e-02,\n",
       "       2.53536449e-02, 3.19926714e-02, 4.03701726e-02, 5.09413801e-02,\n",
       "       6.42807312e-02, 8.11130831e-02, 1.02353102e-01, 1.29154967e-01,\n",
       "       1.62975083e-01, 2.05651231e-01, 2.59502421e-01, 3.27454916e-01,\n",
       "       4.13201240e-01, 5.21400829e-01, 6.57933225e-01, 8.30217568e-01,\n",
       "       1.04761575e+00, 1.32194115e+00, 1.66810054e+00, 2.10490414e+00,\n",
       "       2.65608778e+00, 3.35160265e+00, 4.22924287e+00, 5.33669923e+00,\n",
       "       6.73415066e+00, 8.49753436e+00, 1.07226722e+01, 1.35304777e+01,\n",
       "       1.70735265e+01, 2.15443469e+01, 2.71858824e+01, 3.43046929e+01,\n",
       "       4.32876128e+01, 5.46227722e+01, 6.89261210e+01, 8.69749003e+01,\n",
       "       1.09749877e+02, 1.38488637e+02, 1.74752840e+02, 2.20513074e+02,\n",
       "       2.78255940e+02, 3.51119173e+02, 4.43062146e+02, 5.59081018e+02,\n",
       "       7.05480231e+02, 8.90215085e+02, 1.12332403e+03, 1.41747416e+03,\n",
       "       1.78864953e+03, 2.25701972e+03, 2.84803587e+03, 3.59381366e+03,\n",
       "       4.53487851e+03, 5.72236766e+03, 7.22080902e+03, 9.11162756e+03,\n",
       "       1.14975700e+04, 1.45082878e+04, 1.83073828e+04, 2.31012970e+04,\n",
       "       2.91505306e+04, 3.67837977e+04, 4.64158883e+04, 5.85702082e+04,\n",
       "       7.39072203e+04, 9.32603347e+04, 1.17681195e+05, 1.48496826e+05,\n",
       "       1.87381742e+05, 2.36448941e+05, 2.98364724e+05, 3.76493581e+05,\n",
       "       4.75081016e+05, 5.99484250e+05, 7.56463328e+05, 9.54548457e+05,\n",
       "       1.20450354e+06, 1.51991108e+06, 1.91791026e+06, 2.42012826e+06,\n",
       "       3.05385551e+06, 3.85352859e+06, 4.86260158e+06, 6.13590727e+06,\n",
       "       7.74263683e+06, 9.77009957e+06, 1.23284674e+07, 1.55567614e+07,\n",
       "       1.96304065e+07, 2.47707636e+07, 3.12571585e+07, 3.94420606e+07,\n",
       "       4.97702356e+07, 6.28029144e+07, 7.92482898e+07, 1.00000000e+08])"
      ]
     },
     "execution_count": 29,
     "metadata": {},
     "output_type": "execute_result"
    }
   ],
   "source": [
    "rango_parametros"
   ]
  },
  {
   "cell_type": "code",
   "execution_count": 30,
   "id": "97acf31a-b628-4312-8d50-f50f1b96ce72",
   "metadata": {},
   "outputs": [
    {
     "name": "stderr",
     "output_type": "stream",
     "text": [
      "d:\\jasdata\\python39\\lib\\site-packages\\sklearn\\utils\\validation.py:70: FutureWarning: Pass param_name=alpha, param_range=[1.00000000e-02 1.26185688e-02 1.59228279e-02 2.00923300e-02\n",
      " 2.53536449e-02 3.19926714e-02 4.03701726e-02 5.09413801e-02\n",
      " 6.42807312e-02 8.11130831e-02 1.02353102e-01 1.29154967e-01\n",
      " 1.62975083e-01 2.05651231e-01 2.59502421e-01 3.27454916e-01\n",
      " 4.13201240e-01 5.21400829e-01 6.57933225e-01 8.30217568e-01\n",
      " 1.04761575e+00 1.32194115e+00 1.66810054e+00 2.10490414e+00\n",
      " 2.65608778e+00 3.35160265e+00 4.22924287e+00 5.33669923e+00\n",
      " 6.73415066e+00 8.49753436e+00 1.07226722e+01 1.35304777e+01\n",
      " 1.70735265e+01 2.15443469e+01 2.71858824e+01 3.43046929e+01\n",
      " 4.32876128e+01 5.46227722e+01 6.89261210e+01 8.69749003e+01\n",
      " 1.09749877e+02 1.38488637e+02 1.74752840e+02 2.20513074e+02\n",
      " 2.78255940e+02 3.51119173e+02 4.43062146e+02 5.59081018e+02\n",
      " 7.05480231e+02 8.90215085e+02 1.12332403e+03 1.41747416e+03\n",
      " 1.78864953e+03 2.25701972e+03 2.84803587e+03 3.59381366e+03\n",
      " 4.53487851e+03 5.72236766e+03 7.22080902e+03 9.11162756e+03\n",
      " 1.14975700e+04 1.45082878e+04 1.83073828e+04 2.31012970e+04\n",
      " 2.91505306e+04 3.67837977e+04 4.64158883e+04 5.85702082e+04\n",
      " 7.39072203e+04 9.32603347e+04 1.17681195e+05 1.48496826e+05\n",
      " 1.87381742e+05 2.36448941e+05 2.98364724e+05 3.76493581e+05\n",
      " 4.75081016e+05 5.99484250e+05 7.56463328e+05 9.54548457e+05\n",
      " 1.20450354e+06 1.51991108e+06 1.91791026e+06 2.42012826e+06\n",
      " 3.05385551e+06 3.85352859e+06 4.86260158e+06 6.13590727e+06\n",
      " 7.74263683e+06 9.77009957e+06 1.23284674e+07 1.55567614e+07\n",
      " 1.96304065e+07 2.47707636e+07 3.12571585e+07 3.94420606e+07\n",
      " 4.97702356e+07 6.28029144e+07 7.92482898e+07 1.00000000e+08] as keyword args. From version 1.0 (renaming of 0.25) passing these as positional arguments will result in an error\n",
      "  warnings.warn(f\"Pass {args_msg} as keyword args. From version \"\n"
     ]
    }
   ],
   "source": [
    "train_scores, test_scores = validation_curve(Ridge(), X_train_esc, y_train, \"alpha\", rango_parametros, scoring = \"r2\") # Determinar puntuaciones para entrenamiento\n",
    "# y validación para el parámetro lambda (alpha en Python) para los métodos de regularización"
   ]
  },
  {
   "cell_type": "code",
   "execution_count": 31,
   "id": "8bd2f92d-4567-4b5d-a9e3-030e371892e4",
   "metadata": {},
   "outputs": [
    {
     "name": "stdout",
     "output_type": "stream",
     "text": [
      "[[7.54684583e-01 7.29865420e-01 7.38992758e-01 7.53288483e-01\n",
      "  7.72179999e-01]\n",
      " [7.54684583e-01 7.29865419e-01 7.38992757e-01 7.53288482e-01\n",
      "  7.72179998e-01]\n",
      " [7.54684582e-01 7.29865418e-01 7.38992757e-01 7.53288481e-01\n",
      "  7.72179997e-01]\n",
      " [7.54684581e-01 7.29865416e-01 7.38992755e-01 7.53288479e-01\n",
      "  7.72179995e-01]\n",
      " [7.54684579e-01 7.29865414e-01 7.38992753e-01 7.53288475e-01\n",
      "  7.72179993e-01]\n",
      " [7.54684576e-01 7.29865410e-01 7.38992750e-01 7.53288470e-01\n",
      "  7.72179989e-01]\n",
      " [7.54684572e-01 7.29865403e-01 7.38992745e-01 7.53288462e-01\n",
      "  7.72179983e-01]\n",
      " [7.54684564e-01 7.29865393e-01 7.38992737e-01 7.53288448e-01\n",
      "  7.72179972e-01]\n",
      " [7.54684552e-01 7.29865376e-01 7.38992724e-01 7.53288426e-01\n",
      "  7.72179956e-01]\n",
      " [7.54684534e-01 7.29865350e-01 7.38992703e-01 7.53288392e-01\n",
      "  7.72179931e-01]\n",
      " [7.54684504e-01 7.29865308e-01 7.38992670e-01 7.53288337e-01\n",
      "  7.72179890e-01]\n",
      " [7.54684457e-01 7.29865241e-01 7.38992617e-01 7.53288251e-01\n",
      "  7.72179825e-01]\n",
      " [7.54684382e-01 7.29865135e-01 7.38992533e-01 7.53288113e-01\n",
      "  7.72179722e-01]\n",
      " [7.54684262e-01 7.29864967e-01 7.38992400e-01 7.53287894e-01\n",
      "  7.72179558e-01]\n",
      " [7.54684073e-01 7.29864700e-01 7.38992189e-01 7.53287547e-01\n",
      "  7.72179297e-01]\n",
      " [7.54683772e-01 7.29864277e-01 7.38991853e-01 7.53286997e-01\n",
      "  7.72178885e-01]\n",
      " [7.54683295e-01 7.29863608e-01 7.38991321e-01 7.53286127e-01\n",
      "  7.72178231e-01]\n",
      " [7.54682540e-01 7.29862551e-01 7.38990478e-01 7.53284753e-01\n",
      "  7.72177197e-01]\n",
      " [7.54681346e-01 7.29860883e-01 7.38989145e-01 7.53282587e-01\n",
      "  7.72175564e-01]\n",
      " [7.54679459e-01 7.29858259e-01 7.38987040e-01 7.53279181e-01\n",
      "  7.72172989e-01]\n",
      " [7.54676486e-01 7.29854143e-01 7.38983722e-01 7.53273842e-01\n",
      "  7.72168939e-01]\n",
      " [7.54671811e-01 7.29847707e-01 7.38978504e-01 7.53265504e-01\n",
      "  7.72162589e-01]\n",
      " [7.54664481e-01 7.29837689e-01 7.38970323e-01 7.53252541e-01\n",
      "  7.72152668e-01]\n",
      " [7.54653029e-01 7.29822174e-01 7.38957541e-01 7.53232499e-01\n",
      "  7.72137234e-01]\n",
      " [7.54635209e-01 7.29798291e-01 7.38937654e-01 7.53201717e-01\n",
      "  7.72113347e-01]\n",
      " [7.54607611e-01 7.29761781e-01 7.38906856e-01 7.53154800e-01\n",
      "  7.72076597e-01]\n",
      " [7.54565102e-01 7.29706417e-01 7.38859424e-01 7.53083925e-01\n",
      "  7.72020446e-01]\n",
      " [7.54500013e-01 7.29623201e-01 7.38786820e-01 7.52977921e-01\n",
      "  7.71935316e-01]\n",
      " [7.54401007e-01 7.29499323e-01 7.38676437e-01 7.52821111e-01\n",
      "  7.71807351e-01]\n",
      " [7.54251462e-01 7.29316757e-01 7.38509836e-01 7.52591840e-01\n",
      "  7.71616772e-01]\n",
      " [7.54027244e-01 7.29050428e-01 7.38260332e-01 7.52260627e-01\n",
      "  7.71335697e-01]\n",
      " [7.53693649e-01 7.28665753e-01 7.37889726e-01 7.51787791e-01\n",
      "  7.70925327e-01]\n",
      " [7.53201297e-01 7.28115383e-01 7.37343982e-01 7.51120355e-01\n",
      "  7.70332346e-01]\n",
      " [7.52480784e-01 7.27334923e-01 7.36547724e-01 7.50187998e-01\n",
      "  7.69484438e-01]\n",
      " [7.51435970e-01 7.26237501e-01 7.35397514e-01 7.48897863e-01\n",
      "  7.68284872e-01]\n",
      " [7.49935987e-01 7.24707165e-01 7.33754113e-01 7.47128221e-01\n",
      "  7.66606204e-01]\n",
      " [7.47806299e-01 7.22591304e-01 7.31434226e-01 7.44721237e-01\n",
      "  7.64283248e-01]\n",
      " [7.44819595e-01 7.19692546e-01 7.28202579e-01 7.41475410e-01\n",
      "  7.61105695e-01]\n",
      " [7.40687940e-01 7.15761018e-01 7.23765764e-01 7.37138686e-01\n",
      "  7.56811199e-01]\n",
      " [7.35058603e-01 7.10488679e-01 7.17770080e-01 7.31404001e-01\n",
      "  7.51080618e-01]\n",
      " [7.27517198e-01 7.03508755e-01 7.09806708e-01 7.23910112e-01\n",
      "  7.43538488e-01]\n",
      " [7.17602731e-01 6.94404613e-01 6.99428410e-01 7.14251686e-01\n",
      "  7.33762913e-01]\n",
      " [7.04838589e-01 6.82732694e-01 6.86181418e-01 7.02002564e-01\n",
      "  7.21309063e-01]\n",
      " [6.88780194e-01 6.68061715e-01 6.69652964e-01 6.86753544e-01\n",
      "  7.05747824e-01]\n",
      " [6.69073723e-01 6.50024831e-01 6.49528609e-01 6.68160554e-01\n",
      "  6.86715838e-01]\n",
      " [6.45512964e-01 6.28374191e-01 6.25646473e-01 6.45992714e-01\n",
      "  6.63966793e-01]\n",
      " [6.18077667e-01 6.03022641e-01 5.98031889e-01 6.20166501e-01\n",
      "  6.37410015e-01]\n",
      " [5.86940981e-01 5.74059695e-01 5.66900597e-01 5.90756130e-01\n",
      "  6.07125172e-01]\n",
      " [5.52446206e-01 5.41739572e-01 5.32631199e-01 5.57981108e-01\n",
      "  5.73351801e-01]\n",
      " [5.15067556e-01 5.06452724e-01 4.95721948e-01 5.22183985e-01\n",
      "  5.36464870e-01]\n",
      " [4.75376191e-01 4.68699589e-01 4.56753317e-01 4.83815772e-01\n",
      "  4.96953910e-01]\n",
      " [4.34025241e-01 4.29079651e-01 4.16370411e-01 4.43438332e-01\n",
      "  4.55417489e-01]\n",
      " [3.91750229e-01 3.88293151e-01 3.75282269e-01 4.01736470e-01\n",
      "  4.12569153e-01]\n",
      " [3.49366142e-01 3.47138033e-01 3.34260221e-01 3.59518990e-01\n",
      "  3.69236458e-01]\n",
      " [3.07740773e-01 3.06482434e-01 2.94115392e-01 3.17688200e-01\n",
      "  3.26332510e-01]\n",
      " [2.67737093e-01 2.67205212e-01 2.55647653e-01 2.77172178e-01\n",
      "  2.84792259e-01]\n",
      " [2.30135887e-01 2.30115353e-01 2.19575835e-01 2.38833867e-01\n",
      "  2.45485097e-01]\n",
      " [1.95561507e-01 1.95873214e-01 1.86470251e-01 2.03383141e-01\n",
      "  2.09128426e-01]\n",
      " [1.64432340e-01 1.64935989e-01 1.56707701e-01 1.71316201e-01\n",
      "  1.76226521e-01]\n",
      " [1.36946549e-01 1.37539004e-01 1.30458999e-01 1.42894370e-01\n",
      "  1.47047768e-01]\n",
      " [1.13100723e-01 1.13711235e-01 1.07706939e-01 1.18160033e-01\n",
      "  1.21639068e-01]\n",
      " [9.27304956e-02 9.33143916e-02 8.82846576e-02 9.69778885e-02\n",
      "  9.98662603e-02]\n",
      " [7.55600456e-02 7.60921988e-02 7.19221533e-02 7.90870903e-02\n",
      "  8.14662552e-02]\n",
      " [6.12497821e-02 6.17187638e-02 5.82910236e-02 6.41523845e-02\n",
      "  6.60987685e-02]\n",
      " [4.94358507e-02 4.98391833e-02 4.70414698e-02 5.18070083e-02\n",
      "  5.33900995e-02]\n",
      " [3.97590897e-02 4.00996818e-02 3.78293657e-02 4.16845098e-02\n",
      "  4.29658467e-02]\n",
      " [3.18838209e-02 3.21674593e-02 3.03337640e-02 3.34397099e-02\n",
      "  3.44726198e-02]\n",
      " [2.55082592e-02 2.57419511e-02 2.42665298e-02 2.67606172e-02\n",
      "  2.75905001e-02]\n",
      " [2.03687474e-02 2.05596936e-02 1.93761780e-02 2.13736163e-02\n",
      "  2.20385724e-02]\n",
      " [1.62398591e-02 1.63948693e-02 1.54478402e-02 1.70441129e-02\n",
      "  1.75757483e-02]\n",
      " [1.29320151e-02 1.30572143e-02 1.23009096e-02 1.35744063e-02\n",
      "  1.39986974e-02]\n",
      " [1.02878069e-02 1.03885250e-02 9.78548483e-03 1.08000849e-02\n",
      "  1.11382231e-02]\n",
      " [8.17783034e-03 8.25859985e-03 7.77836896e-03 8.58582421e-03\n",
      "  8.85499496e-03]\n",
      " [6.49652666e-03 6.56113820e-03 6.17908909e-03 6.82113317e-03\n",
      "  7.03520732e-03]\n",
      " [5.15831199e-03 5.20989687e-03 4.90619859e-03 5.41636408e-03\n",
      "  5.58649512e-03]\n",
      " [4.09412924e-03 4.13525015e-03 3.89398735e-03 4.29913999e-03\n",
      "  4.43426949e-03]\n",
      " [3.24846663e-03 3.28120611e-03 3.08963950e-03 3.41125477e-03\n",
      "  3.51853401e-03]\n",
      " [2.57683358e-03 2.60287475e-03 2.45082852e-03 2.70604229e-03\n",
      "  2.79117984e-03]\n",
      " [2.04365633e-03 2.06435377e-03 1.94371311e-03 2.14617906e-03\n",
      "  2.21372504e-03]\n",
      " [1.62054362e-03 1.63698391e-03 1.54128602e-03 1.70187105e-03\n",
      "  1.75544787e-03]\n",
      " [1.28486982e-03 1.29792233e-03 1.22202538e-03 1.34937068e-03\n",
      "  1.39185944e-03]\n",
      " [1.01862501e-03 1.02898391e-03 9.68800406e-04 1.06977243e-03\n",
      "  1.10346295e-03]\n",
      " [8.07486522e-04 8.15705205e-04 7.67987887e-04 8.48039837e-04\n",
      "  8.74750879e-04]\n",
      " [6.40072344e-04 6.46591438e-04 6.08761875e-04 6.72222632e-04\n",
      "  6.93398143e-04]\n",
      " [5.07342569e-04 5.12512566e-04 4.82524233e-04 5.32828964e-04\n",
      "  5.49614887e-04]\n",
      " [4.02120736e-04 4.06220211e-04 3.82449283e-04 4.22323194e-04\n",
      "  4.35628700e-04]\n",
      " [3.18711765e-04 3.21962001e-04 3.03120374e-04 3.34724963e-04\n",
      "  3.45271202e-04]\n",
      " [2.52597468e-04 2.55174149e-04 2.40240237e-04 2.65289598e-04\n",
      "  2.73648476e-04]\n",
      " [2.00194152e-04 2.02236707e-04 1.90400428e-04 2.10253669e-04\n",
      "  2.16878667e-04]\n",
      " [1.58659849e-04 1.60278904e-04 1.50897970e-04 1.66632612e-04\n",
      "  1.71883269e-04]\n",
      " [1.25741126e-04 1.27024429e-04 1.19589642e-04 1.32059886e-04\n",
      "  1.36221230e-04]\n",
      " [9.96514033e-05 1.00668543e-04 9.47762521e-05 1.04659215e-04\n",
      "  1.07957191e-04]\n",
      " [7.89743639e-05 7.97805197e-05 7.51107609e-05 8.29431591e-05\n",
      "  8.55568621e-05]\n",
      " [6.25872968e-05 6.32262182e-05 5.95253764e-05 6.57326185e-05\n",
      "  6.78040049e-05]\n",
      " [4.96002818e-05 5.01066518e-05 4.71737114e-05 5.20929705e-05\n",
      "  5.37345537e-05]\n",
      " [3.93079526e-05 3.97092645e-05 3.73849050e-05 4.12834128e-05\n",
      "  4.25843676e-05]\n",
      " [3.11512429e-05 3.14692898e-05 2.96272405e-05 3.27167909e-05\n",
      "  3.37477930e-05]\n",
      " [2.46870550e-05 2.49391106e-05 2.34792966e-05 2.59277436e-05\n",
      "  2.67448063e-05]\n",
      " [1.95642120e-05 1.97639672e-05 1.86070761e-05 2.05474481e-05\n",
      "  2.11949633e-05]\n",
      " [1.55043932e-05 1.56626994e-05 1.47458745e-05 1.62835984e-05\n",
      "  1.67967475e-05]]\n",
      "[[ 7.14706847e-01  8.14913515e-01  7.64618562e-01  6.96927576e-01\n",
      "   6.22227859e-01]\n",
      " [ 7.14706267e-01  8.14913620e-01  7.64617953e-01  6.96930440e-01\n",
      "   6.22229495e-01]\n",
      " [ 7.14705536e-01  8.14913753e-01  7.64617183e-01  6.96934054e-01\n",
      "   6.22231560e-01]\n",
      " [ 7.14704613e-01  8.14913920e-01  7.64616212e-01  6.96938612e-01\n",
      "   6.22234164e-01]\n",
      " [ 7.14703449e-01  8.14914130e-01  7.64614987e-01  6.96944361e-01\n",
      "   6.22237450e-01]\n",
      " [ 7.14701981e-01  8.14914393e-01  7.64613442e-01  6.96951613e-01\n",
      "   6.22241594e-01]\n",
      " [ 7.14700128e-01  8.14914722e-01  7.64611491e-01  6.96960757e-01\n",
      "   6.22246821e-01]\n",
      " [ 7.14697791e-01  8.14915133e-01  7.64609030e-01  6.96972285e-01\n",
      "   6.22253413e-01]\n",
      " [ 7.14694843e-01  8.14915645e-01  7.64605924e-01  6.96986817e-01\n",
      "   6.22261725e-01]\n",
      " [ 7.14691125e-01  8.14916280e-01  7.64602005e-01  6.97005130e-01\n",
      "   6.22272203e-01]\n",
      " [ 7.14686436e-01  8.14917064e-01  7.64597059e-01  6.97028199e-01\n",
      "   6.22285409e-01]\n",
      " [ 7.14680524e-01  8.14918027e-01  7.64590819e-01  6.97057246e-01\n",
      "   6.22302048e-01]\n",
      " [ 7.14673071e-01  8.14919197e-01  7.64582946e-01  6.97093802e-01\n",
      "   6.22323004e-01]\n",
      " [ 7.14663678e-01  8.14920606e-01  7.64573010e-01  6.97139774e-01\n",
      "   6.22349383e-01]\n",
      " [ 7.14651843e-01  8.14922275e-01  7.64560474e-01  6.97197538e-01\n",
      "   6.22382568e-01]\n",
      " [ 7.14636938e-01  8.14924209e-01  7.64544656e-01  6.97270037e-01\n",
      "   6.22424283e-01]\n",
      " [ 7.14618176e-01  8.14926381e-01  7.64524696e-01  6.97360905e-01\n",
      "   6.22476669e-01]\n",
      " [ 7.14594571e-01  8.14928699e-01  7.64499511e-01  6.97474597e-01\n",
      "   6.22542371e-01]\n",
      " [ 7.14564897e-01  8.14930961e-01  7.64467732e-01  6.97616539e-01\n",
      "   6.22624649e-01]\n",
      " [ 7.14527627e-01  8.14932786e-01  7.64427631e-01  6.97793266e-01\n",
      "   6.22727481e-01]\n",
      " [ 7.14480867e-01  8.14933494e-01  7.64377027e-01  6.98012561e-01\n",
      "   6.22855691e-01]\n",
      " [ 7.14422279e-01  8.14931934e-01  7.64313160e-01  6.98283531e-01\n",
      "   6.23015056e-01]\n",
      " [ 7.14348985e-01  8.14926227e-01  7.64232541e-01  6.98616607e-01\n",
      "   6.23212399e-01]\n",
      " [ 7.14257458e-01  8.14913379e-01  7.64130743e-01  6.99023391e-01\n",
      "   6.23455626e-01]\n",
      " [ 7.14143391e-01  8.14888751e-01  7.64002136e-01  6.99516264e-01\n",
      "   6.23753667e-01]\n",
      " [ 7.14001534e-01  8.14845308e-01  7.63839527e-01  7.00107662e-01\n",
      "   6.24116252e-01]\n",
      " [ 7.13825485e-01  8.14772627e-01  7.63633668e-01  7.00808895e-01\n",
      "   6.24553438e-01]\n",
      " [ 7.13607386e-01  8.14655612e-01  7.63372559e-01  7.01628395e-01\n",
      "   6.25074768e-01]\n",
      " [ 7.13337466e-01  8.14472899e-01  7.63040459e-01  7.02569310e-01\n",
      "   6.25687892e-01]\n",
      " [ 7.13003293e-01  8.14194927e-01  7.62616443e-01  7.03626374e-01\n",
      "   6.26396488e-01]\n",
      " [ 7.12588565e-01  8.13781650e-01  7.62072307e-01  7.04782064e-01\n",
      "   6.27197261e-01]\n",
      " [ 7.12071166e-01  8.13179860e-01  7.61369579e-01  7.06002055e-01\n",
      "   6.28075841e-01]\n",
      " [ 7.11420167e-01  8.12320013e-01  7.60455355e-01  7.07229981e-01\n",
      "   6.29001465e-01]\n",
      " [ 7.10591422e-01  8.11112452e-01  7.59256752e-01  7.08381517e-01\n",
      "   6.29920499e-01]\n",
      " [ 7.09521444e-01  8.09442912e-01  7.57673915e-01  7.09337782e-01\n",
      "   6.30749076e-01]\n",
      " [ 7.08119351e-01  8.07167288e-01  7.55571732e-01  7.09938248e-01\n",
      "   6.31365374e-01]\n",
      " [ 7.06256885e-01  8.04105748e-01  7.52770791e-01  7.09973599e-01\n",
      "   6.31602152e-01]\n",
      " [ 7.03756920e-01  8.00036453e-01  7.49038524e-01  7.09179412e-01\n",
      "   6.31240239e-01]\n",
      " [ 7.00381623e-01  7.94689448e-01  7.44082077e-01  7.07232051e-01\n",
      "   6.30003799e-01]\n",
      " [ 6.95822685e-01  7.87742058e-01  7.37545247e-01  7.03748981e-01\n",
      "   6.27558892e-01]\n",
      " [ 6.89697721e-01  7.78818513e-01  7.29012818e-01  6.98296720e-01\n",
      "   6.23518109e-01]\n",
      " [ 6.81558295e-01  7.67498154e-01  7.18026256e-01  6.90410536e-01\n",
      "   6.17455309e-01]\n",
      " [ 6.70914905e-01  7.53337207e-01  7.04114217e-01  6.79629293e-01\n",
      "   6.08934166e-01]\n",
      " [ 6.57281164e-01  7.35906991e-01  6.86838417e-01  6.65545074e-01\n",
      "   5.97550926e-01]\n",
      " [ 6.40232964e-01  7.14845704e-01  6.65850039e-01  6.47860024e-01\n",
      "   5.82985451e-01]\n",
      " [ 6.19470633e-01  6.89913154e-01  6.40945616e-01  6.26435036e-01\n",
      "   5.65047878e-01]\n",
      " [ 5.94867374e-01  6.61032562e-01  6.12108047e-01  6.01312202e-01\n",
      "   5.43705597e-01]\n",
      " [ 5.66490221e-01  6.28305966e-01  5.79521580e-01  5.72700274e-01\n",
      "   5.19080636e-01]\n",
      " [ 5.34590999e-01  5.92001209e-01  5.43559352e-01  5.40929173e-01\n",
      "   4.91420426e-01]\n",
      " [ 4.99578582e-01  5.52523270e-01  5.04753308e-01  5.06396899e-01\n",
      "   4.61058937e-01]\n",
      " [ 4.61990697e-01  5.10390298e-01  4.63761336e-01  4.69537958e-01\n",
      "   4.28390721e-01]\n",
      " [ 4.22477664e-01  4.66228007e-01  4.21341321e-01  4.30829800e-01\n",
      "   3.93871783e-01]\n",
      " [ 3.81795424e-01  4.20778154e-01  3.78330037e-01  3.90828873e-01\n",
      "   3.58042076e-01]\n",
      " [ 3.40791992e-01  3.74900348e-01  3.35615419e-01  3.50206416e-01\n",
      "   3.21547015e-01]\n",
      " [ 3.00370533e-01  3.29544177e-01  2.94091425e-01  3.09750839e-01\n",
      "   2.85131865e-01]\n",
      " [ 2.61424528e-01  2.85682960e-01  2.54594958e-01  2.70320812e-01\n",
      "   2.49596218e-01]\n",
      " [ 2.24757308e-01  2.44221692e-01  2.17836910e-01  2.32759317e-01\n",
      "   2.15717008e-01]\n",
      " [ 1.91008145e-01  2.05905787e-01  1.84345453e-01  1.97797528e-01\n",
      "   1.84164173e-01]\n",
      " [ 1.60604958e-01  1.71256731e-01  1.54436208e-01  1.65979191e-01\n",
      "   1.55434908e-01]\n",
      " [ 1.33752689e-01  1.40548412e-01  1.28214051e-01  1.37623901e-01\n",
      "   1.29822247e-01]\n",
      " [ 1.10453986e-01  1.13822688e-01  1.05601390e-01  1.12831049e-01\n",
      "   1.07419476e-01]\n",
      " [ 9.05509765e-02  9.09322395e-02  8.63820616e-02  9.15139462e-02\n",
      "   8.81512300e-02]\n",
      " [ 7.37751015e-02  7.15955363e-02  7.02494439e-02  7.34491685e-02\n",
      "   7.18180763e-02]\n",
      " [ 5.97946478e-02  5.54511949e-02  5.68502487e-02  5.83278227e-02\n",
      "   5.81428027e-02]\n",
      " [ 4.82538718e-02  4.21038313e-02  4.58193536e-02  4.58001302e-02\n",
      "   4.68107153e-02]\n",
      " [ 3.88015542e-02  3.11582246e-02  3.68044099e-02  3.55094509e-02\n",
      "   3.75004492e-02]\n",
      " [ 3.11094664e-02  2.22419091e-02  2.94811232e-02  2.71153562e-02\n",
      "   2.99049151e-02]\n",
      " [ 2.48825722e-02  1.50180694e-02  2.35611075e-02  2.03072908e-02\n",
      "   2.37437441e-02]\n",
      " [ 1.98631597e-02  9.19119529e-03  1.87944183e-02  1.48110709e-02\n",
      "   1.87692501e-02]\n",
      " [ 1.58309259e-02  4.50782976e-03  1.49686291e-02  1.03904466e-02\n",
      "   1.47679111e-02]\n",
      " [ 1.26006297e-02  7.54312209e-04  1.19059023e-02  6.84557564e-03\n",
      "   1.15590410e-02]\n",
      " [ 1.00184856e-02 -2.24708425e-03  9.45909229e-03  4.00979036e-03\n",
      "   8.99190285e-03]\n",
      " [ 7.95808177e-03 -4.64267297e-03  7.50755672e-03  1.74560691e-03\n",
      "   6.94212426e-03]\n",
      " [ 6.31631040e-03 -6.55193617e-03  5.95309009e-03 -5.94203745e-05\n",
      "   5.30796376e-03]\n",
      " [ 5.00958088e-03 -8.07182907e-03  4.71620018e-03 -1.49664652e-03\n",
      "   4.00675037e-03]\n",
      " [ 3.97044857e-03 -9.28063639e-03  3.73282720e-03 -2.63990364e-03\n",
      "   2.97166234e-03]\n",
      " [ 3.14470057e-03 -1.02413205e-02  2.95152823e-03 -3.54861653e-03\n",
      "   2.14891213e-03]\n",
      " [ 2.48888898e-03 -1.10043640e-02  2.33110624e-03 -4.27045901e-03\n",
      "   1.49534520e-03]\n",
      " [ 1.96827485e-03 -1.16101451e-02  1.83864146e-03 -4.84357970e-03\n",
      "   9.76427185e-04]\n",
      " [ 1.55513388e-03 -1.20908975e-02  1.44787370e-03 -5.29844350e-03\n",
      "   5.64578174e-04]\n",
      " [ 1.22737239e-03 -1.24723141e-02  1.13788371e-03 -5.65934030e-03\n",
      "   2.37807653e-04]\n",
      " [ 9.67404158e-04 -1.27748499e-02  8.92024961e-04 -5.94561219e-03\n",
      "  -2.13959620e-05]\n",
      " [ 7.61243655e-04 -1.30147739e-02  6.97062258e-04 -6.17264587e-03\n",
      "  -2.26963549e-04]\n",
      " [ 5.97776901e-04 -1.32050161e-02  5.42479801e-04 -6.35267186e-03\n",
      "  -3.89968627e-04]\n",
      " [ 4.68176936e-04 -1.33558468e-02  4.19926922e-04 -6.49540579e-03\n",
      "  -5.19207877e-04]\n",
      " [ 3.65436394e-04 -1.34754196e-02  3.22775118e-04 -6.60856173e-03\n",
      "  -6.21665800e-04]\n",
      " [ 2.83994414e-04 -1.35702054e-02  2.45764658e-04 -6.69826210e-03\n",
      "  -7.02885846e-04]\n",
      " [ 2.19439307e-04 -1.36453382e-02  1.84723050e-04 -6.76936459e-03\n",
      "  -7.67266355e-04]\n",
      " [ 1.68271862e-04 -1.37048901e-02  1.36340996e-04 -6.82572245e-03\n",
      "  -8.18296239e-04]\n",
      " [ 1.27717118e-04 -1.37520905e-02  9.79942567e-05 -6.87039159e-03\n",
      "  -8.58742473e-04]\n",
      " [ 9.55747728e-05 -1.37895001e-02  6.76021137e-05 -6.90579520e-03\n",
      "  -8.90799144e-04]\n",
      " [ 7.01003763e-05 -1.38191492e-02  4.35149707e-05 -6.93385452e-03\n",
      "  -9.16205844e-04]\n",
      " [ 4.99110098e-05 -1.38426472e-02  2.44251351e-05 -6.95609267e-03\n",
      "  -9.36341688e-04]\n",
      " [ 3.39104388e-05 -1.38612700e-02  9.29602154e-06 -6.97371703e-03\n",
      "  -9.52299922e-04]\n",
      " [ 2.12297301e-05 -1.38760289e-02 -2.69401040e-06 -6.98768467e-03\n",
      "  -9.64947129e-04]\n",
      " [ 1.11801526e-05 -1.38877255e-02 -1.21961997e-05 -6.99875419e-03\n",
      "  -9.74970187e-04]\n",
      " [ 3.21582535e-06 -1.38969951e-02 -1.97267068e-05 -7.00752684e-03\n",
      "  -9.82913519e-04]\n",
      " [-3.09589902e-06 -1.39043412e-02 -2.56946210e-05 -7.01447918e-03\n",
      "  -9.89208616e-04]\n",
      " [-8.09791508e-06 -1.39101630e-02 -3.04241637e-05 -7.01998888e-03\n",
      "  -9.94197464e-04]\n",
      " [-1.20619790e-05 -1.39147767e-02 -3.41722911e-05 -7.02435529e-03\n",
      "  -9.98151096e-04]]\n"
     ]
    }
   ],
   "source": [
    "print(train_scores)\n",
    "print(test_scores)"
   ]
  },
  {
   "cell_type": "code",
   "execution_count": 32,
   "id": "8a86be4f-6cd7-47dc-921c-1f8123d0518b",
   "metadata": {},
   "outputs": [],
   "source": [
    "train_media = np.mean(train_scores, axis = 1) # Media de las puntuaciones de entrenamiento"
   ]
  },
  {
   "cell_type": "code",
   "execution_count": 33,
   "id": "b26e6c73-fbbe-4750-a17b-e588196a6942",
   "metadata": {
    "tags": []
   },
   "outputs": [],
   "source": [
    "test_media = np.mean(test_scores, axis = 1) # Media de las puntuaciones de validación"
   ]
  },
  {
   "cell_type": "code",
   "execution_count": 34,
   "id": "f37e8dec-0728-44a4-a13d-835c2f504abd",
   "metadata": {},
   "outputs": [
    {
     "data": {
      "text/plain": [
       "array([7.49802249e-01, 7.49802248e-01, 7.49802247e-01, 7.49802245e-01,\n",
       "       7.49802243e-01, 7.49802239e-01, 7.49802233e-01, 7.49802223e-01,\n",
       "       7.49802207e-01, 7.49802182e-01, 7.49802142e-01, 7.49802078e-01,\n",
       "       7.49801977e-01, 7.49801816e-01, 7.49801561e-01, 7.49801157e-01,\n",
       "       7.49800517e-01, 7.49799504e-01, 7.49797905e-01, 7.49795386e-01,\n",
       "       7.49791426e-01, 7.49785223e-01, 7.49775540e-01, 7.49760495e-01,\n",
       "       7.49737243e-01, 7.49701529e-01, 7.49647063e-01, 7.49564654e-01,\n",
       "       7.49441046e-01, 7.49257333e-01, 7.48986866e-01, 7.48592449e-01,\n",
       "       7.48022673e-01, 7.47207173e-01, 7.46050744e-01, 7.44426338e-01,\n",
       "       7.42167263e-01, 7.39059165e-01, 7.34832921e-01, 7.29160396e-01,\n",
       "       7.21656252e-01, 7.11890070e-01, 6.99412866e-01, 6.83799248e-01,\n",
       "       6.64700711e-01, 6.41898627e-01, 6.15341743e-01, 5.85156515e-01,\n",
       "       5.51629977e-01, 5.15178217e-01, 4.76319756e-01, 4.35666225e-01,\n",
       "       3.93926254e-01, 3.51903969e-01, 3.10471862e-01, 2.70510879e-01,\n",
       "       2.32829208e-01, 1.98083308e-01, 1.66723750e-01, 1.38977338e-01,\n",
       "       1.14863599e-01, 9.42347387e-02, 7.68255486e-02, 6.23021445e-02,\n",
       "       5.03027223e-02, 4.04676987e-02, 3.24594747e-02, 2.59735715e-02,\n",
       "       2.07433615e-02, 1.65404860e-02, 1.31726485e-02, 1.04800250e-02,\n",
       "       8.33112367e-03, 6.61861889e-03, 5.25545333e-03, 4.17135524e-03,\n",
       "       3.30982020e-03, 2.62555180e-03, 2.08232546e-03, 1.65122649e-03,\n",
       "       1.30920953e-03, 1.03792894e-03, 8.22794066e-04, 6.52209286e-04,\n",
       "       5.16964644e-04, 4.09748425e-04, 3.24758061e-04, 2.57389986e-04,\n",
       "       2.03992724e-04, 1.61670521e-04, 1.28127263e-04, 1.01542521e-04,\n",
       "       8.04731331e-05, 6.37751030e-05, 5.05416338e-05, 4.00539805e-05,\n",
       "       3.17424714e-05, 2.51556024e-05, 1.99355333e-05, 1.57986626e-05])"
      ]
     },
     "execution_count": 34,
     "metadata": {},
     "output_type": "execute_result"
    }
   ],
   "source": [
    "train_media"
   ]
  },
  {
   "cell_type": "code",
   "execution_count": 35,
   "id": "09701ecb-5e09-4162-90ed-fd3330ae9889",
   "metadata": {},
   "outputs": [
    {
     "data": {
      "text/plain": [
       "array([ 7.22678872e-01,  7.22679555e-01,  7.22680417e-01,  7.22681504e-01,\n",
       "        7.22682876e-01,  7.22684604e-01,  7.22686784e-01,  7.22689530e-01,\n",
       "        7.22692991e-01,  7.22697349e-01,  7.22702834e-01,  7.22709733e-01,\n",
       "        7.22718404e-01,  7.22729290e-01,  7.22742940e-01,  7.22760025e-01,\n",
       "        7.22781365e-01,  7.22807950e-01,  7.22840955e-01,  7.22881758e-01,\n",
       "        7.22931928e-01,  7.22993192e-01,  7.23067352e-01,  7.23156120e-01,\n",
       "        7.23260842e-01,  7.23382057e-01,  7.23518823e-01,  7.23667744e-01,\n",
       "        7.23821605e-01,  7.23967505e-01,  7.24084370e-01,  7.24139700e-01,\n",
       "        7.24085396e-01,  7.23852528e-01,  7.23345026e-01,  7.22432398e-01,\n",
       "        7.20941835e-01,  7.18650310e-01,  7.15277800e-01,  7.10483573e-01,\n",
       "        7.03868776e-01,  6.94989710e-01,  6.83385958e-01,  6.68624514e-01,\n",
       "        6.50354836e-01,  6.28362463e-01,  6.02605157e-01,  5.73219736e-01,\n",
       "        5.40500232e-01,  5.04862199e-01,  4.66814202e-01,  4.26949715e-01,\n",
       "        3.85954913e-01,  3.44612238e-01,  3.03777768e-01,  2.64323895e-01,\n",
       "        2.27058447e-01,  1.92644217e-01,  1.61542399e-01,  1.33992260e-01,\n",
       "        1.10025718e-01,  8.95060908e-02,  7.21774653e-02,  5.77133434e-02,\n",
       "        4.57575804e-02,  3.59548178e-02,  2.79705540e-02,  2.15025568e-02,\n",
       "        1.62858189e-02,  1.20931485e-02,  8.73309218e-03,  6.04643736e-03,\n",
       "        3.90213934e-03,  2.19320154e-03,  8.32811166e-04, -2.49120383e-04,\n",
       "       -1.10895922e-03, -1.79189652e-03, -2.33407626e-03, -2.76435104e-03,\n",
       "       -3.10571814e-03, -3.37648580e-03, -3.59121548e-03, -3.76147998e-03,\n",
       "       -3.89647132e-03, -4.00348712e-03, -4.08831886e-03, -4.15556136e-03,\n",
       "       -4.20885919e-03, -4.25110264e-03, -4.28458352e-03, -4.31111885e-03,\n",
       "       -4.33214909e-03, -4.34881611e-03, -4.36202500e-03, -4.37249318e-03,\n",
       "       -4.38078926e-03, -4.38736391e-03, -4.39257429e-03, -4.39670348e-03])"
      ]
     },
     "execution_count": 35,
     "metadata": {},
     "output_type": "execute_result"
    }
   ],
   "source": [
    "test_media"
   ]
  },
  {
   "cell_type": "code",
   "execution_count": 36,
   "id": "e9123910-f582-4ff6-87d9-9cfa63bce802",
   "metadata": {},
   "outputs": [
    {
     "data": {
      "text/plain": [
       "0.7241397002691519"
      ]
     },
     "execution_count": 36,
     "metadata": {},
     "output_type": "execute_result"
    }
   ],
   "source": [
    "max(test_media) # Ver el valor máximo de las medias de las puntuaciones de validación"
   ]
  },
  {
   "cell_type": "code",
   "execution_count": 37,
   "id": "ecb511e4-25e0-4f48-bbc4-8b1aeb155ad8",
   "metadata": {},
   "outputs": [
    {
     "data": {
      "text/plain": [
       "<seaborn.axisgrid.JointGrid at 0x1adc03c7df0>"
      ]
     },
     "execution_count": 37,
     "metadata": {},
     "output_type": "execute_result"
    },
    {
     "data": {
      "image/png": "[encoded data removed]",
      "text/plain": [
       "<Figure size 432x432 with 3 Axes>"
      ]
     },
     "metadata": {
      "needs_background": "light"
     },
     "output_type": "display_data"
    }
   ],
   "source": [
    "sns.jointplot(x = np.log(rango_parametros), y = test_media) # Realizar la gráfica del rango de parámetros vs la media de las puntuaciones de validación (alpha)"
   ]
  },
  {
   "cell_type": "code",
   "execution_count": 38,
   "id": "711bf402-2a45-4bce-b84c-1b2090383e85",
   "metadata": {},
   "outputs": [
    {
     "data": {
      "text/plain": [
       "(array([31], dtype=int64),)"
      ]
     },
     "execution_count": 38,
     "metadata": {},
     "output_type": "execute_result"
    }
   ],
   "source": [
    "np.where(test_media==max(test_media)) # Conocer el índice de la puntuación máxima de validación para determinar su correspondiente\n",
    "# valor de alpha"
   ]
  },
  {
   "cell_type": "code",
   "execution_count": 39,
   "id": "c88cbac6-76a4-41e9-86bd-658d092d2128",
   "metadata": {},
   "outputs": [
    {
     "data": {
      "text/plain": [
       "13.530477745798061"
      ]
     },
     "execution_count": 39,
     "metadata": {},
     "output_type": "execute_result"
    }
   ],
   "source": [
    "rango_parametros[31] # Valor de alpha"
   ]
  },
  {
   "cell_type": "code",
   "execution_count": 40,
   "id": "2d98121e-0f56-47cc-8d62-0aad89c3c09f",
   "metadata": {},
   "outputs": [],
   "source": [
    "best_linear_model_r = Ridge(alpha = rango_parametros[31]) #Aplicar el valor de alfa que desarrolla el mejor modelo lineal basado en Ridge"
   ]
  },
  {
   "cell_type": "code",
   "execution_count": 41,
   "id": "c083d43f-d1a6-45f4-a0c4-fd98c510204a",
   "metadata": {},
   "outputs": [
    {
     "data": {
      "text/plain": [
       "Ridge(alpha=13.530477745798061)"
      ]
     },
     "execution_count": 41,
     "metadata": {},
     "output_type": "execute_result"
    }
   ],
   "source": [
    "best_linear_model_r.fit(X_train_esc, y_train)"
   ]
  },
  {
   "cell_type": "code",
   "execution_count": 42,
   "id": "8bb89c76-388e-4ec4-9642-5782c730a792",
   "metadata": {},
   "outputs": [
    {
     "data": {
      "text/plain": [
       "0.5949456586148061"
      ]
     },
     "execution_count": 42,
     "metadata": {},
     "output_type": "execute_result"
    }
   ],
   "source": [
    "r2_score(y_test, best_linear_model_r.predict(X_test_esc))"
   ]
  },
  {
   "cell_type": "code",
   "execution_count": 43,
   "id": "d7d5a3c3-1ad7-425e-9ffb-4c0275620ab6",
   "metadata": {},
   "outputs": [
    {
     "data": {
      "text/plain": [
       "0.7468844401944872"
      ]
     },
     "execution_count": 43,
     "metadata": {},
     "output_type": "execute_result"
    }
   ],
   "source": [
    "r2_score(y_train, best_linear_model_r.predict(X_train_esc))"
   ]
  },
  {
   "cell_type": "markdown",
   "id": "8f42b326-384c-42ca-9f87-8f6d2230740c",
   "metadata": {},
   "source": [
    "# Regularización por el método Lasso\n",
    "Este método penaliza la sumatoria de los valores absolutos de los parámetros elevados al cuadrado, forza a que los parámetros tiendan a cero. El grado de penalización se controla por un hiperparámetro $\\lambda$, cuado este es igual a cero no hay penalización al modelo y es equivalente a aplicar el modelo de regresión tradicional, a mayor $\\lambda$ la penalización aumenta y se excluyen predictores.\n",
    "\n",
    "$\\sum_{i=1}^{n}(y_{i}-\\theta_{0}-\\sum_{j=1}^p\\theta_{j}x_{ij})+\\lambda\\sum_{j=1}^p\\|\\theta_{j}\\|$"
   ]
  },
  {
   "cell_type": "code",
   "execution_count": 44,
   "id": "393d4871-1f2d-4fcb-ae8b-54093d546e09",
   "metadata": {},
   "outputs": [],
   "source": [
    "from sklearn.linear_model import Lasso"
   ]
  },
  {
   "cell_type": "code",
   "execution_count": 45,
   "id": "678260bd-7405-4b5f-919f-697eb03eaafe",
   "metadata": {},
   "outputs": [],
   "source": [
    "linear_model_l = Lasso(alpha = 0.5)"
   ]
  },
  {
   "cell_type": "code",
   "execution_count": 46,
   "id": "545626a9-4e59-4fd5-8ebb-b94f7370609c",
   "metadata": {},
   "outputs": [
    {
     "data": {
      "text/plain": [
       "Lasso(alpha=0.5)"
      ]
     },
     "execution_count": 46,
     "metadata": {},
     "output_type": "execute_result"
    }
   ],
   "source": [
    "linear_model_l.fit(X_train_esc, y_train)"
   ]
  },
  {
   "cell_type": "code",
   "execution_count": 47,
   "id": "cf9519c2-bca9-4274-97c4-6644bf790509",
   "metadata": {},
   "outputs": [
    {
     "data": {
      "text/plain": [
       "0.5624540297682838"
      ]
     },
     "execution_count": 47,
     "metadata": {},
     "output_type": "execute_result"
    }
   ],
   "source": [
    "r2_score(y_test, linear_model_l.predict(X_test_esc))"
   ]
  },
  {
   "cell_type": "code",
   "execution_count": 48,
   "id": "f4691411-ec7f-4165-8531-8cc86a1ea36c",
   "metadata": {},
   "outputs": [
    {
     "name": "stderr",
     "output_type": "stream",
     "text": [
      "d:\\jasdata\\python39\\lib\\site-packages\\sklearn\\utils\\validation.py:70: FutureWarning: Pass param_name=alpha, param_range=[1.00000000e-02 1.26185688e-02 1.59228279e-02 2.00923300e-02\n",
      " 2.53536449e-02 3.19926714e-02 4.03701726e-02 5.09413801e-02\n",
      " 6.42807312e-02 8.11130831e-02 1.02353102e-01 1.29154967e-01\n",
      " 1.62975083e-01 2.05651231e-01 2.59502421e-01 3.27454916e-01\n",
      " 4.13201240e-01 5.21400829e-01 6.57933225e-01 8.30217568e-01\n",
      " 1.04761575e+00 1.32194115e+00 1.66810054e+00 2.10490414e+00\n",
      " 2.65608778e+00 3.35160265e+00 4.22924287e+00 5.33669923e+00\n",
      " 6.73415066e+00 8.49753436e+00 1.07226722e+01 1.35304777e+01\n",
      " 1.70735265e+01 2.15443469e+01 2.71858824e+01 3.43046929e+01\n",
      " 4.32876128e+01 5.46227722e+01 6.89261210e+01 8.69749003e+01\n",
      " 1.09749877e+02 1.38488637e+02 1.74752840e+02 2.20513074e+02\n",
      " 2.78255940e+02 3.51119173e+02 4.43062146e+02 5.59081018e+02\n",
      " 7.05480231e+02 8.90215085e+02 1.12332403e+03 1.41747416e+03\n",
      " 1.78864953e+03 2.25701972e+03 2.84803587e+03 3.59381366e+03\n",
      " 4.53487851e+03 5.72236766e+03 7.22080902e+03 9.11162756e+03\n",
      " 1.14975700e+04 1.45082878e+04 1.83073828e+04 2.31012970e+04\n",
      " 2.91505306e+04 3.67837977e+04 4.64158883e+04 5.85702082e+04\n",
      " 7.39072203e+04 9.32603347e+04 1.17681195e+05 1.48496826e+05\n",
      " 1.87381742e+05 2.36448941e+05 2.98364724e+05 3.76493581e+05\n",
      " 4.75081016e+05 5.99484250e+05 7.56463328e+05 9.54548457e+05\n",
      " 1.20450354e+06 1.51991108e+06 1.91791026e+06 2.42012826e+06\n",
      " 3.05385551e+06 3.85352859e+06 4.86260158e+06 6.13590727e+06\n",
      " 7.74263683e+06 9.77009957e+06 1.23284674e+07 1.55567614e+07\n",
      " 1.96304065e+07 2.47707636e+07 3.12571585e+07 3.94420606e+07\n",
      " 4.97702356e+07 6.28029144e+07 7.92482898e+07 1.00000000e+08] as keyword args. From version 1.0 (renaming of 0.25) passing these as positional arguments will result in an error\n",
      "  warnings.warn(f\"Pass {args_msg} as keyword args. From version \"\n"
     ]
    }
   ],
   "source": [
    "train_scores_l, test_scores_l = validation_curve(Lasso(), X_train_esc, y_train, \"alpha\", rango_parametros, scoring = \"r2\")"
   ]
  },
  {
   "cell_type": "code",
   "execution_count": 49,
   "id": "e1e2ffcb-edc7-4ed8-99fd-4c191d811cc1",
   "metadata": {},
   "outputs": [
    {
     "name": "stdout",
     "output_type": "stream",
     "text": [
      "[[0.7546516  0.72980448 0.73895906 0.75322448 0.77213088]\n",
      " [0.75463198 0.72977081 0.73893904 0.75318938 0.77210441]\n",
      " [0.75460071 0.7297255  0.73890712 0.75313391 0.77206451]\n",
      " [0.75455059 0.72965326 0.73886244 0.75304699 0.77200103]\n",
      " [0.75448896 0.72953815 0.73879784 0.75294593 0.77190056]\n",
      " [0.75439712 0.72938163 0.73869504 0.75284269 0.77175599]\n",
      " [0.75425098 0.72924494 0.73853363 0.75267716 0.77159963]\n",
      " [0.7540406  0.72902589 0.73827691 0.75242142 0.77140285]\n",
      " [0.7537101  0.72867664 0.73786821 0.75218214 0.77108962]\n",
      " [0.75318392 0.72812158 0.73725197 0.75181289 0.77059103]\n",
      " [0.7523465  0.72730759 0.7363389  0.75122442 0.76989054]\n",
      " [0.75119558 0.7261352  0.73494525 0.75028982 0.76880633]\n",
      " [0.7497084  0.72453956 0.73315432 0.74880245 0.7670785 ]\n",
      " [0.74759175 0.72210756 0.73030271 0.74654476 0.76467488]\n",
      " [0.74429861 0.71838391 0.72647798 0.74317088 0.76123317]\n",
      " [0.73915336 0.71285075 0.72106831 0.73796143 0.75576272]\n",
      " [0.73382982 0.70501293 0.71247369 0.73001319 0.74846793]\n",
      " [0.72643692 0.69678074 0.70118998 0.71988388 0.74125434]\n",
      " [0.71876541 0.68631627 0.69407375 0.71248287 0.73068953]\n",
      " [0.71262483 0.67705864 0.68631358 0.70322663 0.72350669]\n",
      " [0.7044764  0.66547162 0.67724068 0.69433696 0.71595155]\n",
      " [0.691501   0.65397555 0.66279618 0.68216638 0.70467747]\n",
      " [0.67084238 0.63567046 0.63979271 0.66278732 0.68672226]\n",
      " [0.63794488 0.60652496 0.60316549 0.63193526 0.6581328 ]\n",
      " [0.58769124 0.56011478 0.54832453 0.58280147 0.61260993]\n",
      " [0.52363696 0.49856536 0.47735564 0.51752635 0.54012936]\n",
      " [0.42164286 0.40644709 0.3643525  0.42326621 0.44050928]\n",
      " [0.25924275 0.25977051 0.18442076 0.27317771 0.29068007]\n",
      " [0.02586016 0.02827501 0.         0.06375373 0.07135545]\n",
      " [0.         0.         0.         0.         0.        ]\n",
      " [0.         0.         0.         0.         0.        ]\n",
      " [0.         0.         0.         0.         0.        ]\n",
      " [0.         0.         0.         0.         0.        ]\n",
      " [0.         0.         0.         0.         0.        ]\n",
      " [0.         0.         0.         0.         0.        ]\n",
      " [0.         0.         0.         0.         0.        ]\n",
      " [0.         0.         0.         0.         0.        ]\n",
      " [0.         0.         0.         0.         0.        ]\n",
      " [0.         0.         0.         0.         0.        ]\n",
      " [0.         0.         0.         0.         0.        ]\n",
      " [0.         0.         0.         0.         0.        ]\n",
      " [0.         0.         0.         0.         0.        ]\n",
      " [0.         0.         0.         0.         0.        ]\n",
      " [0.         0.         0.         0.         0.        ]\n",
      " [0.         0.         0.         0.         0.        ]\n",
      " [0.         0.         0.         0.         0.        ]\n",
      " [0.         0.         0.         0.         0.        ]\n",
      " [0.         0.         0.         0.         0.        ]\n",
      " [0.         0.         0.         0.         0.        ]\n",
      " [0.         0.         0.         0.         0.        ]\n",
      " [0.         0.         0.         0.         0.        ]\n",
      " [0.         0.         0.         0.         0.        ]\n",
      " [0.         0.         0.         0.         0.        ]\n",
      " [0.         0.         0.         0.         0.        ]\n",
      " [0.         0.         0.         0.         0.        ]\n",
      " [0.         0.         0.         0.         0.        ]\n",
      " [0.         0.         0.         0.         0.        ]\n",
      " [0.         0.         0.         0.         0.        ]\n",
      " [0.         0.         0.         0.         0.        ]\n",
      " [0.         0.         0.         0.         0.        ]\n",
      " [0.         0.         0.         0.         0.        ]\n",
      " [0.         0.         0.         0.         0.        ]\n",
      " [0.         0.         0.         0.         0.        ]\n",
      " [0.         0.         0.         0.         0.        ]\n",
      " [0.         0.         0.         0.         0.        ]\n",
      " [0.         0.         0.         0.         0.        ]\n",
      " [0.         0.         0.         0.         0.        ]\n",
      " [0.         0.         0.         0.         0.        ]\n",
      " [0.         0.         0.         0.         0.        ]\n",
      " [0.         0.         0.         0.         0.        ]\n",
      " [0.         0.         0.         0.         0.        ]\n",
      " [0.         0.         0.         0.         0.        ]\n",
      " [0.         0.         0.         0.         0.        ]\n",
      " [0.         0.         0.         0.         0.        ]\n",
      " [0.         0.         0.         0.         0.        ]\n",
      " [0.         0.         0.         0.         0.        ]\n",
      " [0.         0.         0.         0.         0.        ]\n",
      " [0.         0.         0.         0.         0.        ]\n",
      " [0.         0.         0.         0.         0.        ]\n",
      " [0.         0.         0.         0.         0.        ]\n",
      " [0.         0.         0.         0.         0.        ]\n",
      " [0.         0.         0.         0.         0.        ]\n",
      " [0.         0.         0.         0.         0.        ]\n",
      " [0.         0.         0.         0.         0.        ]\n",
      " [0.         0.         0.         0.         0.        ]\n",
      " [0.         0.         0.         0.         0.        ]\n",
      " [0.         0.         0.         0.         0.        ]\n",
      " [0.         0.         0.         0.         0.        ]\n",
      " [0.         0.         0.         0.         0.        ]\n",
      " [0.         0.         0.         0.         0.        ]\n",
      " [0.         0.         0.         0.         0.        ]\n",
      " [0.         0.         0.         0.         0.        ]\n",
      " [0.         0.         0.         0.         0.        ]\n",
      " [0.         0.         0.         0.         0.        ]\n",
      " [0.         0.         0.         0.         0.        ]\n",
      " [0.         0.         0.         0.         0.        ]\n",
      " [0.         0.         0.         0.         0.        ]\n",
      " [0.         0.         0.         0.         0.        ]\n",
      " [0.         0.         0.         0.         0.        ]\n",
      " [0.         0.         0.         0.         0.        ]]\n",
      "[[ 7.14400554e-01  8.16883272e-01  7.64820310e-01  6.99936604e-01\n",
      "   6.23821104e-01]\n",
      " [ 7.14310011e-01  8.17373446e-01  7.64866834e-01  7.00660288e-01\n",
      "   6.24170872e-01]\n",
      " [ 7.14190838e-01  8.17977854e-01  7.64918584e-01  7.01555072e-01\n",
      "   6.24570045e-01]\n",
      " [ 7.14027163e-01  8.18722622e-01  7.64973072e-01  7.02649134e-01\n",
      "   6.25050397e-01]\n",
      " [ 7.13655130e-01  8.19634707e-01  7.65026360e-01  7.03722606e-01\n",
      "   6.25621332e-01]\n",
      " [ 7.13140861e-01  8.20666268e-01  7.65074664e-01  7.04882910e-01\n",
      "   6.26268098e-01]\n",
      " [ 7.12468877e-01  8.21524533e-01  7.65123260e-01  7.06309970e-01\n",
      "   6.27042567e-01]\n",
      " [ 7.11646652e-01  8.22553699e-01  7.65136016e-01  7.08005711e-01\n",
      "   6.27957804e-01]\n",
      " [ 7.10564519e-01  8.23767161e-01  7.65079740e-01  7.09388992e-01\n",
      "   6.29012745e-01]\n",
      " [ 7.09108462e-01  8.25172395e-01  7.64939174e-01  7.11005495e-01\n",
      "   6.30184841e-01]\n",
      " [ 7.07125727e-01  8.26761935e-01  7.64668417e-01  7.12890357e-01\n",
      "   6.31000920e-01]\n",
      " [ 7.04514702e-01  8.28360708e-01  7.63990638e-01  7.15016601e-01\n",
      "   6.31548363e-01]\n",
      " [ 7.00665233e-01  8.29726334e-01  7.62612248e-01  7.17309393e-01\n",
      "   6.31709430e-01]\n",
      " [ 6.95656235e-01  8.30695107e-01  7.60474699e-01  7.19637486e-01\n",
      "   6.31309874e-01]\n",
      " [ 6.88920838e-01  8.30298419e-01  7.56639165e-01  7.20449523e-01\n",
      "   6.29154238e-01]\n",
      " [ 6.79741573e-01  8.28135497e-01  7.50860052e-01  7.19023328e-01\n",
      "   6.24802298e-01]\n",
      " [ 6.72167547e-01  8.23580591e-01  7.42335072e-01  7.14967077e-01\n",
      "   6.19169938e-01]\n",
      " [ 6.62220892e-01  8.17830945e-01  7.30545198e-01  7.07608471e-01\n",
      "   6.14844898e-01]\n",
      " [ 6.52396795e-01  8.08987518e-01  7.21128517e-01  7.03607929e-01\n",
      "   6.07689474e-01]\n",
      " [ 6.45844510e-01  7.99589054e-01  7.11086740e-01  6.99718866e-01\n",
      "   6.03370785e-01]\n",
      " [ 6.37800847e-01  7.86618513e-01  6.99268973e-01  6.96131094e-01\n",
      "   5.99908597e-01]\n",
      " [ 6.24978284e-01  7.67588475e-01  6.81425640e-01  6.89529033e-01\n",
      "   5.94320761e-01]\n",
      " [ 6.04546002e-01  7.39847370e-01  6.54236853e-01  6.75628024e-01\n",
      "   5.84312569e-01]\n",
      " [ 5.71985215e-01  6.98908286e-01  6.12492815e-01  6.49226033e-01\n",
      "   5.66974945e-01]\n",
      " [ 5.23144075e-01  6.37794862e-01  5.52081254e-01  6.01776187e-01\n",
      "   5.37599688e-01]\n",
      " [ 4.67514498e-01  5.61299035e-01  4.77704176e-01  5.35861713e-01\n",
      "   4.88595870e-01]\n",
      " [ 3.77584137e-01  4.51467318e-01  3.62498895e-01  4.38103886e-01\n",
      "   4.05786406e-01]\n",
      " [ 2.32687448e-01  2.81866426e-01  1.83129492e-01  2.77044053e-01\n",
      "   2.68136321e-01]\n",
      " [ 2.30924012e-02  1.99999251e-02 -4.84863122e-05  5.89504651e-02\n",
      "   6.44020174e-02]\n",
      " [-2.72006845e-05 -1.39323966e-02 -4.84863122e-05 -7.04103059e-03\n",
      "  -1.01325001e-03]\n",
      " [-2.72006845e-05 -1.39323966e-02 -4.84863122e-05 -7.04103059e-03\n",
      "  -1.01325001e-03]\n",
      " [-2.72006845e-05 -1.39323966e-02 -4.84863122e-05 -7.04103059e-03\n",
      "  -1.01325001e-03]\n",
      " [-2.72006845e-05 -1.39323966e-02 -4.84863122e-05 -7.04103059e-03\n",
      "  -1.01325001e-03]\n",
      " [-2.72006845e-05 -1.39323966e-02 -4.84863122e-05 -7.04103059e-03\n",
      "  -1.01325001e-03]\n",
      " [-2.72006845e-05 -1.39323966e-02 -4.84863122e-05 -7.04103059e-03\n",
      "  -1.01325001e-03]\n",
      " [-2.72006845e-05 -1.39323966e-02 -4.84863122e-05 -7.04103059e-03\n",
      "  -1.01325001e-03]\n",
      " [-2.72006845e-05 -1.39323966e-02 -4.84863122e-05 -7.04103059e-03\n",
      "  -1.01325001e-03]\n",
      " [-2.72006845e-05 -1.39323966e-02 -4.84863122e-05 -7.04103059e-03\n",
      "  -1.01325001e-03]\n",
      " [-2.72006845e-05 -1.39323966e-02 -4.84863122e-05 -7.04103059e-03\n",
      "  -1.01325001e-03]\n",
      " [-2.72006845e-05 -1.39323966e-02 -4.84863122e-05 -7.04103059e-03\n",
      "  -1.01325001e-03]\n",
      " [-2.72006845e-05 -1.39323966e-02 -4.84863122e-05 -7.04103059e-03\n",
      "  -1.01325001e-03]\n",
      " [-2.72006845e-05 -1.39323966e-02 -4.84863122e-05 -7.04103059e-03\n",
      "  -1.01325001e-03]\n",
      " [-2.72006845e-05 -1.39323966e-02 -4.84863122e-05 -7.04103059e-03\n",
      "  -1.01325001e-03]\n",
      " [-2.72006845e-05 -1.39323966e-02 -4.84863122e-05 -7.04103059e-03\n",
      "  -1.01325001e-03]\n",
      " [-2.72006845e-05 -1.39323966e-02 -4.84863122e-05 -7.04103059e-03\n",
      "  -1.01325001e-03]\n",
      " [-2.72006845e-05 -1.39323966e-02 -4.84863122e-05 -7.04103059e-03\n",
      "  -1.01325001e-03]\n",
      " [-2.72006845e-05 -1.39323966e-02 -4.84863122e-05 -7.04103059e-03\n",
      "  -1.01325001e-03]\n",
      " [-2.72006845e-05 -1.39323966e-02 -4.84863122e-05 -7.04103059e-03\n",
      "  -1.01325001e-03]\n",
      " [-2.72006845e-05 -1.39323966e-02 -4.84863122e-05 -7.04103059e-03\n",
      "  -1.01325001e-03]\n",
      " [-2.72006845e-05 -1.39323966e-02 -4.84863122e-05 -7.04103059e-03\n",
      "  -1.01325001e-03]\n",
      " [-2.72006845e-05 -1.39323966e-02 -4.84863122e-05 -7.04103059e-03\n",
      "  -1.01325001e-03]\n",
      " [-2.72006845e-05 -1.39323966e-02 -4.84863122e-05 -7.04103059e-03\n",
      "  -1.01325001e-03]\n",
      " [-2.72006845e-05 -1.39323966e-02 -4.84863122e-05 -7.04103059e-03\n",
      "  -1.01325001e-03]\n",
      " [-2.72006845e-05 -1.39323966e-02 -4.84863122e-05 -7.04103059e-03\n",
      "  -1.01325001e-03]\n",
      " [-2.72006845e-05 -1.39323966e-02 -4.84863122e-05 -7.04103059e-03\n",
      "  -1.01325001e-03]\n",
      " [-2.72006845e-05 -1.39323966e-02 -4.84863122e-05 -7.04103059e-03\n",
      "  -1.01325001e-03]\n",
      " [-2.72006845e-05 -1.39323966e-02 -4.84863122e-05 -7.04103059e-03\n",
      "  -1.01325001e-03]\n",
      " [-2.72006845e-05 -1.39323966e-02 -4.84863122e-05 -7.04103059e-03\n",
      "  -1.01325001e-03]\n",
      " [-2.72006845e-05 -1.39323966e-02 -4.84863122e-05 -7.04103059e-03\n",
      "  -1.01325001e-03]\n",
      " [-2.72006845e-05 -1.39323966e-02 -4.84863122e-05 -7.04103059e-03\n",
      "  -1.01325001e-03]\n",
      " [-2.72006845e-05 -1.39323966e-02 -4.84863122e-05 -7.04103059e-03\n",
      "  -1.01325001e-03]\n",
      " [-2.72006845e-05 -1.39323966e-02 -4.84863122e-05 -7.04103059e-03\n",
      "  -1.01325001e-03]\n",
      " [-2.72006845e-05 -1.39323966e-02 -4.84863122e-05 -7.04103059e-03\n",
      "  -1.01325001e-03]\n",
      " [-2.72006845e-05 -1.39323966e-02 -4.84863122e-05 -7.04103059e-03\n",
      "  -1.01325001e-03]\n",
      " [-2.72006845e-05 -1.39323966e-02 -4.84863122e-05 -7.04103059e-03\n",
      "  -1.01325001e-03]\n",
      " [-2.72006845e-05 -1.39323966e-02 -4.84863122e-05 -7.04103059e-03\n",
      "  -1.01325001e-03]\n",
      " [-2.72006845e-05 -1.39323966e-02 -4.84863122e-05 -7.04103059e-03\n",
      "  -1.01325001e-03]\n",
      " [-2.72006845e-05 -1.39323966e-02 -4.84863122e-05 -7.04103059e-03\n",
      "  -1.01325001e-03]\n",
      " [-2.72006845e-05 -1.39323966e-02 -4.84863122e-05 -7.04103059e-03\n",
      "  -1.01325001e-03]\n",
      " [-2.72006845e-05 -1.39323966e-02 -4.84863122e-05 -7.04103059e-03\n",
      "  -1.01325001e-03]\n",
      " [-2.72006845e-05 -1.39323966e-02 -4.84863122e-05 -7.04103059e-03\n",
      "  -1.01325001e-03]\n",
      " [-2.72006845e-05 -1.39323966e-02 -4.84863122e-05 -7.04103059e-03\n",
      "  -1.01325001e-03]\n",
      " [-2.72006845e-05 -1.39323966e-02 -4.84863122e-05 -7.04103059e-03\n",
      "  -1.01325001e-03]\n",
      " [-2.72006845e-05 -1.39323966e-02 -4.84863122e-05 -7.04103059e-03\n",
      "  -1.01325001e-03]\n",
      " [-2.72006845e-05 -1.39323966e-02 -4.84863122e-05 -7.04103059e-03\n",
      "  -1.01325001e-03]\n",
      " [-2.72006845e-05 -1.39323966e-02 -4.84863122e-05 -7.04103059e-03\n",
      "  -1.01325001e-03]\n",
      " [-2.72006845e-05 -1.39323966e-02 -4.84863122e-05 -7.04103059e-03\n",
      "  -1.01325001e-03]\n",
      " [-2.72006845e-05 -1.39323966e-02 -4.84863122e-05 -7.04103059e-03\n",
      "  -1.01325001e-03]\n",
      " [-2.72006845e-05 -1.39323966e-02 -4.84863122e-05 -7.04103059e-03\n",
      "  -1.01325001e-03]\n",
      " [-2.72006845e-05 -1.39323966e-02 -4.84863122e-05 -7.04103059e-03\n",
      "  -1.01325001e-03]\n",
      " [-2.72006845e-05 -1.39323966e-02 -4.84863122e-05 -7.04103059e-03\n",
      "  -1.01325001e-03]\n",
      " [-2.72006845e-05 -1.39323966e-02 -4.84863122e-05 -7.04103059e-03\n",
      "  -1.01325001e-03]\n",
      " [-2.72006845e-05 -1.39323966e-02 -4.84863122e-05 -7.04103059e-03\n",
      "  -1.01325001e-03]\n",
      " [-2.72006845e-05 -1.39323966e-02 -4.84863122e-05 -7.04103059e-03\n",
      "  -1.01325001e-03]\n",
      " [-2.72006845e-05 -1.39323966e-02 -4.84863122e-05 -7.04103059e-03\n",
      "  -1.01325001e-03]\n",
      " [-2.72006845e-05 -1.39323966e-02 -4.84863122e-05 -7.04103059e-03\n",
      "  -1.01325001e-03]\n",
      " [-2.72006845e-05 -1.39323966e-02 -4.84863122e-05 -7.04103059e-03\n",
      "  -1.01325001e-03]\n",
      " [-2.72006845e-05 -1.39323966e-02 -4.84863122e-05 -7.04103059e-03\n",
      "  -1.01325001e-03]\n",
      " [-2.72006845e-05 -1.39323966e-02 -4.84863122e-05 -7.04103059e-03\n",
      "  -1.01325001e-03]\n",
      " [-2.72006845e-05 -1.39323966e-02 -4.84863122e-05 -7.04103059e-03\n",
      "  -1.01325001e-03]\n",
      " [-2.72006845e-05 -1.39323966e-02 -4.84863122e-05 -7.04103059e-03\n",
      "  -1.01325001e-03]\n",
      " [-2.72006845e-05 -1.39323966e-02 -4.84863122e-05 -7.04103059e-03\n",
      "  -1.01325001e-03]\n",
      " [-2.72006845e-05 -1.39323966e-02 -4.84863122e-05 -7.04103059e-03\n",
      "  -1.01325001e-03]\n",
      " [-2.72006845e-05 -1.39323966e-02 -4.84863122e-05 -7.04103059e-03\n",
      "  -1.01325001e-03]\n",
      " [-2.72006845e-05 -1.39323966e-02 -4.84863122e-05 -7.04103059e-03\n",
      "  -1.01325001e-03]\n",
      " [-2.72006845e-05 -1.39323966e-02 -4.84863122e-05 -7.04103059e-03\n",
      "  -1.01325001e-03]\n",
      " [-2.72006845e-05 -1.39323966e-02 -4.84863122e-05 -7.04103059e-03\n",
      "  -1.01325001e-03]\n",
      " [-2.72006845e-05 -1.39323966e-02 -4.84863122e-05 -7.04103059e-03\n",
      "  -1.01325001e-03]\n",
      " [-2.72006845e-05 -1.39323966e-02 -4.84863122e-05 -7.04103059e-03\n",
      "  -1.01325001e-03]\n",
      " [-2.72006845e-05 -1.39323966e-02 -4.84863122e-05 -7.04103059e-03\n",
      "  -1.01325001e-03]]\n"
     ]
    }
   ],
   "source": [
    "print(train_scores_l)\n",
    "print(test_scores_l)"
   ]
  },
  {
   "cell_type": "code",
   "execution_count": 50,
   "id": "ee2a00a6-e728-4057-9ecc-b4a5585dee7d",
   "metadata": {},
   "outputs": [],
   "source": [
    "train_media_l = np.mean(train_scores_l, axis = 1)"
   ]
  },
  {
   "cell_type": "code",
   "execution_count": 51,
   "id": "f880dfb4-c66b-42ad-85f4-9b32b2204d3a",
   "metadata": {
    "tags": []
   },
   "outputs": [],
   "source": [
    "test_media_l = np.mean(test_scores_l, axis = 1)"
   ]
  },
  {
   "cell_type": "code",
   "execution_count": 52,
   "id": "baaa232b-a2ab-4233-8021-f6c8875bbeeb",
   "metadata": {},
   "outputs": [
    {
     "data": {
      "text/plain": [
       "array([0.7497541 , 0.74972712, 0.74968635, 0.74962286, 0.74953429,\n",
       "       0.74941449, 0.74926127, 0.74903353, 0.74870534, 0.74819228,\n",
       "       0.74742159, 0.74627443, 0.74465665, 0.74224433, 0.73871291,\n",
       "       0.73335931, 0.72595951, 0.71710917, 0.70846557, 0.70054607,\n",
       "       0.69149544, 0.67902332, 0.65916303, 0.62754068, 0.57830839,\n",
       "       0.51144273, 0.41124359, 0.25345836, 0.03784887, 0.        ,\n",
       "       0.        , 0.        , 0.        , 0.        , 0.        ,\n",
       "       0.        , 0.        , 0.        , 0.        , 0.        ,\n",
       "       0.        , 0.        , 0.        , 0.        , 0.        ,\n",
       "       0.        , 0.        , 0.        , 0.        , 0.        ,\n",
       "       0.        , 0.        , 0.        , 0.        , 0.        ,\n",
       "       0.        , 0.        , 0.        , 0.        , 0.        ,\n",
       "       0.        , 0.        , 0.        , 0.        , 0.        ,\n",
       "       0.        , 0.        , 0.        , 0.        , 0.        ,\n",
       "       0.        , 0.        , 0.        , 0.        , 0.        ,\n",
       "       0.        , 0.        , 0.        , 0.        , 0.        ,\n",
       "       0.        , 0.        , 0.        , 0.        , 0.        ,\n",
       "       0.        , 0.        , 0.        , 0.        , 0.        ,\n",
       "       0.        , 0.        , 0.        , 0.        , 0.        ,\n",
       "       0.        , 0.        , 0.        , 0.        , 0.        ])"
      ]
     },
     "execution_count": 52,
     "metadata": {},
     "output_type": "execute_result"
    }
   ],
   "source": [
    "train_media_l"
   ]
  },
  {
   "cell_type": "code",
   "execution_count": 53,
   "id": "dc8dae62-1f71-4e16-ae12-c1ffb9f73233",
   "metadata": {},
   "outputs": [
    {
     "data": {
      "text/plain": [
       "array([ 0.72397237,  0.72427629,  0.72464248,  0.72508448,  0.72553203,\n",
       "        0.72600656,  0.72649384,  0.72705998,  0.72756263,  0.72808207,\n",
       "        0.72848947,  0.7286862 ,  0.72840453,  0.72755468,  0.72509244,\n",
       "        0.72051255,  0.71444405,  0.70661008,  0.69876205,  0.69192199,\n",
       "        0.6839456 ,  0.67156844,  0.65171416,  0.61991746,  0.57047921,\n",
       "        0.50619506,  0.40708813,  0.24857275,  0.03327926, -0.00441247,\n",
       "       -0.00441247, -0.00441247, -0.00441247, -0.00441247, -0.00441247,\n",
       "       -0.00441247, -0.00441247, -0.00441247, -0.00441247, -0.00441247,\n",
       "       -0.00441247, -0.00441247, -0.00441247, -0.00441247, -0.00441247,\n",
       "       -0.00441247, -0.00441247, -0.00441247, -0.00441247, -0.00441247,\n",
       "       -0.00441247, -0.00441247, -0.00441247, -0.00441247, -0.00441247,\n",
       "       -0.00441247, -0.00441247, -0.00441247, -0.00441247, -0.00441247,\n",
       "       -0.00441247, -0.00441247, -0.00441247, -0.00441247, -0.00441247,\n",
       "       -0.00441247, -0.00441247, -0.00441247, -0.00441247, -0.00441247,\n",
       "       -0.00441247, -0.00441247, -0.00441247, -0.00441247, -0.00441247,\n",
       "       -0.00441247, -0.00441247, -0.00441247, -0.00441247, -0.00441247,\n",
       "       -0.00441247, -0.00441247, -0.00441247, -0.00441247, -0.00441247,\n",
       "       -0.00441247, -0.00441247, -0.00441247, -0.00441247, -0.00441247,\n",
       "       -0.00441247, -0.00441247, -0.00441247, -0.00441247, -0.00441247,\n",
       "       -0.00441247, -0.00441247, -0.00441247, -0.00441247, -0.00441247])"
      ]
     },
     "execution_count": 53,
     "metadata": {},
     "output_type": "execute_result"
    }
   ],
   "source": [
    "test_media_l"
   ]
  },
  {
   "cell_type": "code",
   "execution_count": 54,
   "id": "fe91b18e-d736-4ded-9c3b-2657fbfe39b7",
   "metadata": {},
   "outputs": [
    {
     "data": {
      "text/plain": [
       "0.7286862023760963"
      ]
     },
     "execution_count": 54,
     "metadata": {},
     "output_type": "execute_result"
    }
   ],
   "source": [
    "max(test_media_l)"
   ]
  },
  {
   "cell_type": "code",
   "execution_count": 55,
   "id": "8ea32753-c51a-4b21-9da4-498f8c0a83cc",
   "metadata": {},
   "outputs": [
    {
     "data": {
      "text/plain": [
       "<seaborn.axisgrid.JointGrid at 0x1adc05ad550>"
      ]
     },
     "execution_count": 55,
     "metadata": {},
     "output_type": "execute_result"
    },
    {
     "data": {
      "image/png": "[encoded data removed]",
      "text/plain": [
       "<Figure size 432x432 with 3 Axes>"
      ]
     },
     "metadata": {
      "needs_background": "light"
     },
     "output_type": "display_data"
    }
   ],
   "source": [
    "sns.jointplot(x = np.log(rango_parametros), y = test_media_l)"
   ]
  },
  {
   "cell_type": "code",
   "execution_count": 56,
   "id": "e6d0f2a1-ae79-4510-aa1a-1fba07795846",
   "metadata": {},
   "outputs": [
    {
     "data": {
      "text/plain": [
       "(array([11], dtype=int64),)"
      ]
     },
     "execution_count": 56,
     "metadata": {},
     "output_type": "execute_result"
    }
   ],
   "source": [
    "np.where(test_media_l==max(test_media_l))"
   ]
  },
  {
   "cell_type": "code",
   "execution_count": 57,
   "id": "ce16163d-57c4-4647-a6a4-79e02187e18c",
   "metadata": {},
   "outputs": [
    {
     "data": {
      "text/plain": [
       "0.1291549665014884"
      ]
     },
     "execution_count": 57,
     "metadata": {},
     "output_type": "execute_result"
    }
   ],
   "source": [
    "rango_parametros[11]"
   ]
  },
  {
   "cell_type": "code",
   "execution_count": 58,
   "id": "6ae03d36-b50b-411e-a591-05584c806733",
   "metadata": {},
   "outputs": [],
   "source": [
    "best_linear_model_l = Lasso(alpha = rango_parametros[11])"
   ]
  },
  {
   "cell_type": "code",
   "execution_count": 59,
   "id": "743c21cd-df47-47c1-ac6c-9a304bed9f95",
   "metadata": {},
   "outputs": [
    {
     "data": {
      "text/plain": [
       "Lasso(alpha=0.1291549665014884)"
      ]
     },
     "execution_count": 59,
     "metadata": {},
     "output_type": "execute_result"
    }
   ],
   "source": [
    "best_linear_model_l.fit(X_train_esc, y_train)"
   ]
  },
  {
   "cell_type": "code",
   "execution_count": 60,
   "id": "2dc6ee97-7801-4ff4-ba99-1a24ff328ebd",
   "metadata": {},
   "outputs": [
    {
     "data": {
      "text/plain": [
       "0.5873227619767589"
      ]
     },
     "execution_count": 60,
     "metadata": {},
     "output_type": "execute_result"
    }
   ],
   "source": [
    "r2_score(y_test, best_linear_model_l.predict(X_test_esc))"
   ]
  },
  {
   "cell_type": "code",
   "execution_count": 61,
   "id": "b91f7bad-ba23-4fff-a143-dcb227e5113d",
   "metadata": {},
   "outputs": [
    {
     "data": {
      "text/plain": [
       "0.7446953523241677"
      ]
     },
     "execution_count": 61,
     "metadata": {},
     "output_type": "execute_result"
    }
   ],
   "source": [
    "r2_score(y_train, best_linear_model_l.predict(X_train_esc))"
   ]
  }
 ],
 "metadata": {
  "kernelspec": {
   "display_name": "Python 3",
   "language": "python",
   "name": "python3"
  },
  "language_info": {
   "codemirror_mode": {
    "name": "ipython",
    "version": 3
   },
   "file_extension": ".py",
   "mimetype": "text/x-python",
   "name": "python",
   "nbconvert_exporter": "python",
   "pygments_lexer": "ipython3",
   "version": "3.9.5"
  }
 },
 "nbformat": 4,
 "nbformat_minor": 5
}
