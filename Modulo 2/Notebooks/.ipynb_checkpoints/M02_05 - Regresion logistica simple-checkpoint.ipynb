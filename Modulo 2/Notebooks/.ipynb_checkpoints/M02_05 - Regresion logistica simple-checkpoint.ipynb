{
 "cells": [
  {
   "cell_type": "markdown",
   "id": "23387bed-bd8d-4947-876c-3ed1576885c6",
   "metadata": {},
   "source": [
    "# Regresión logística"
   ]
  },
  {
   "cell_type": "markdown",
   "id": "b3d0e7ba-3326-4ae6-b197-1071937caeab",
   "metadata": {},
   "source": [
    "## Carga y análisis de los datos"
   ]
  },
  {
   "cell_type": "code",
   "execution_count": null,
   "id": "b0a7eb22-89c8-4dbc-b8f0-05c67c1e7a3f",
   "metadata": {},
   "outputs": [],
   "source": [
    "import pandas as pd\n",
    "import numpy as np\n",
    "import seaborn as sns\n",
    "import matplotlib.pyplot as plt\n",
    "%matplotlib inline"
   ]
  },
  {
   "cell_type": "code",
   "execution_count": null,
   "id": "9f2313e6-aca8-46ca-96d8-261e476e4cb4",
   "metadata": {},
   "outputs": [],
   "source": [
    "df = pd.read_csv('https://raw.githubusercontent.com/JASDataCTG/Diplomado-ML/main/Modulo%202/Datasets/casas.csv', header = 0)"
   ]
  },
  {
   "cell_type": "code",
   "execution_count": null,
   "id": "5283dfa6-705f-44d2-8a69-3513a5f3b444",
   "metadata": {
    "tags": []
   },
   "outputs": [],
   "source": [
    "df.head()"
   ]
  },
  {
   "cell_type": "code",
   "execution_count": null,
   "id": "cebf5fdb-acba-4667-a68c-50e55aece803",
   "metadata": {},
   "outputs": [],
   "source": [
    "df.shape"
   ]
  },
  {
   "cell_type": "code",
   "execution_count": null,
   "id": "a409c7d6-1bab-4dfa-87f7-a327dbd567c1",
   "metadata": {},
   "outputs": [],
   "source": [
    "df.info()"
   ]
  },
  {
   "cell_type": "code",
   "execution_count": null,
   "id": "b970dea0-db56-487f-83a8-bbf1fd9866d5",
   "metadata": {},
   "outputs": [],
   "source": [
    "df.describe()"
   ]
  },
  {
   "cell_type": "code",
   "execution_count": null,
   "id": "b80f580a-dc5b-40dc-86d0-ab88bc62bc49",
   "metadata": {},
   "outputs": [],
   "source": [
    "sns.boxplot(y = 'n_cam_hos', data = df)"
   ]
  },
  {
   "cell_type": "code",
   "execution_count": null,
   "id": "bba7fad7-2e3b-44d3-8878-7072a100c982",
   "metadata": {},
   "outputs": [],
   "source": [
    "sns.boxplot(y = df['n_hab_hotel'])"
   ]
  },
  {
   "cell_type": "code",
   "execution_count": null,
   "id": "42e86813-39a5-4c06-b882-002934817c59",
   "metadata": {},
   "outputs": [],
   "source": [
    "sns.jointplot(x = df['lluvia_ano'], y = df['Vendida'])"
   ]
  },
  {
   "cell_type": "code",
   "execution_count": null,
   "id": "157c8432-9cf6-4819-b3ea-3c7dc5aeeb9e",
   "metadata": {},
   "outputs": [],
   "source": [
    "sns.countplot(x = df['aeropuerto'])"
   ]
  },
  {
   "cell_type": "code",
   "execution_count": null,
   "id": "90305bf9-3300-4624-808b-f639ae215b10",
   "metadata": {},
   "outputs": [],
   "source": [
    "df.groupby(by = 'Vendida')['area_resid'].mean()"
   ]
  },
  {
   "cell_type": "code",
   "execution_count": null,
   "id": "623e3162-2776-4d63-8e58-d397fcf703fb",
   "metadata": {},
   "outputs": [],
   "source": [
    "sns.countplot(y = df['cuerpo_agua'])"
   ]
  },
  {
   "cell_type": "code",
   "execution_count": null,
   "id": "05a0934b-8b91-4196-8cb6-f3cf49d2c718",
   "metadata": {},
   "outputs": [],
   "source": [
    "sns.countplot(x = df['ter_bus'])"
   ]
  },
  {
   "cell_type": "code",
   "execution_count": null,
   "id": "8ced8f1f-75d1-4e0a-a675-a824849a47b4",
   "metadata": {},
   "outputs": [],
   "source": [
    "x1 = df.precio[df.Vendida == 1]\n",
    "x2 = df.precio[df.Vendida == 0]#df[df.Vendida == 0]['precio']\n",
    "\n",
    "kwargs = dict(alpha = 0.5, bins = 8, density = True, stacked = True)\n",
    "\n",
    "plt.hist(x1, **kwargs, color = 'g', label = 'Vendida')\n",
    "plt.hist(x2, **kwargs, color = 'b', label = 'No vendida')\n",
    "plt.legend()"
   ]
  },
  {
   "cell_type": "markdown",
   "id": "4e391e9e-12e5-4c66-88a0-f9b0cf288943",
   "metadata": {},
   "source": [
    "## Tratamiento de valores extremos"
   ]
  },
  {
   "cell_type": "code",
   "execution_count": null,
   "id": "f1210d81-e6a3-4832-8c93-60f5827aca57",
   "metadata": {},
   "outputs": [],
   "source": [
    "np.percentile(df.n_hab_hotel, [99])[0]"
   ]
  },
  {
   "cell_type": "code",
   "execution_count": null,
   "id": "fa9add58-bd8b-41e0-9fbf-3cd94ec7efa9",
   "metadata": {},
   "outputs": [],
   "source": [
    "lim_sup = np.percentile(df.n_hab_hotel, [99])[0]"
   ]
  },
  {
   "cell_type": "code",
   "execution_count": null,
   "id": "ae47fb73-4311-4a37-b8e4-98913a96465f",
   "metadata": {},
   "outputs": [],
   "source": [
    "df[df.n_hab_hotel > lim_sup]"
   ]
  },
  {
   "cell_type": "code",
   "execution_count": null,
   "id": "d4cae0ac-7487-454d-a9f6-c899e56d056a",
   "metadata": {},
   "outputs": [],
   "source": [
    "df.n_hab_hotel[df.n_hab_hotel > 3 * lim_sup] = 3 * lim_sup"
   ]
  },
  {
   "cell_type": "code",
   "execution_count": null,
   "id": "42e41f5e-6bd7-4858-bfc8-f12acc6cab75",
   "metadata": {},
   "outputs": [],
   "source": [
    "np.percentile(df.lluvia_ano, [0.3])[0]"
   ]
  },
  {
   "cell_type": "code",
   "execution_count": null,
   "id": "d60a90f3-1025-4f87-b8c5-b1b7534865bd",
   "metadata": {},
   "outputs": [],
   "source": [
    "lim_inf = np.percentile(df.lluvia_ano, [0.3])[0]"
   ]
  },
  {
   "cell_type": "code",
   "execution_count": null,
   "id": "7b6f34ae-79fe-4e6f-ae00-75d7df298a24",
   "metadata": {},
   "outputs": [],
   "source": [
    "df[df.lluvia_ano < lim_inf]"
   ]
  },
  {
   "cell_type": "code",
   "execution_count": null,
   "id": "55fbf186-0574-4f94-9799-c704c0fb89f9",
   "metadata": {},
   "outputs": [],
   "source": [
    "df.lluvia_ano[df.lluvia_ano < 0.3 * lim_inf] = 0.3 * lim_inf"
   ]
  },
  {
   "cell_type": "code",
   "execution_count": null,
   "id": "61cee39e-682b-4ac0-9991-fa16af1fafc8",
   "metadata": {},
   "outputs": [],
   "source": [
    "df.describe()"
   ]
  },
  {
   "cell_type": "code",
   "execution_count": null,
   "id": "431300af-3780-4560-8be3-9ac8c2fdbc26",
   "metadata": {},
   "outputs": [],
   "source": [
    "df.n_cam_hos = df.n_cam_hos.fillna(df.n_cam_hos.mean())"
   ]
  },
  {
   "cell_type": "code",
   "execution_count": null,
   "id": "b8232bde-d72c-4381-b12b-6a8a8b9b54c2",
   "metadata": {},
   "outputs": [],
   "source": [
    "df.info()"
   ]
  },
  {
   "cell_type": "code",
   "execution_count": null,
   "id": "2dd2cf44-d94e-466a-b81d-82b7a11a3eaf",
   "metadata": {},
   "outputs": [],
   "source": [
    "df['prom_dist'] = (df.dist1 + df.dist2 + df.dist3 + df.dist4) / 4"
   ]
  },
  {
   "cell_type": "code",
   "execution_count": null,
   "id": "de9d2b18-de7f-43d7-86e5-15d771dda065",
   "metadata": {},
   "outputs": [],
   "source": [
    "del df['dist1']"
   ]
  },
  {
   "cell_type": "code",
   "execution_count": null,
   "id": "cc7d148d-905a-4216-9d45-a1fe21b809a9",
   "metadata": {},
   "outputs": [],
   "source": [
    "del df['dist2']"
   ]
  },
  {
   "cell_type": "code",
   "execution_count": null,
   "id": "a221e8ef-628d-4ccf-93e5-abf8cde79571",
   "metadata": {},
   "outputs": [],
   "source": [
    "del df['dist3']"
   ]
  },
  {
   "cell_type": "code",
   "execution_count": null,
   "id": "b4ae2725-eca3-44e0-b34e-853c86e1ab7a",
   "metadata": {},
   "outputs": [],
   "source": [
    "del df['dist4']"
   ]
  },
  {
   "cell_type": "code",
   "execution_count": null,
   "id": "8c36e480-9750-4afa-933d-d75d5f10140a",
   "metadata": {},
   "outputs": [],
   "source": [
    "del df['ter_bus']"
   ]
  },
  {
   "cell_type": "code",
   "execution_count": null,
   "id": "ece3058d-cec9-417a-91d7-087441646fca",
   "metadata": {},
   "outputs": [],
   "source": [
    "df = pd.get_dummies(df)"
   ]
  },
  {
   "cell_type": "code",
   "execution_count": null,
   "id": "ac43f826-630e-4ca9-b273-3b9b0e8bbd2d",
   "metadata": {},
   "outputs": [],
   "source": [
    "df.head()"
   ]
  },
  {
   "cell_type": "code",
   "execution_count": null,
   "id": "3c0c5de4-181c-417b-b2cf-5a98d8bdc46f",
   "metadata": {},
   "outputs": [],
   "source": [
    "del df['aeropuerto_NO']"
   ]
  },
  {
   "cell_type": "code",
   "execution_count": null,
   "id": "632bdf05-8991-4184-a522-49e280f63e16",
   "metadata": {},
   "outputs": [],
   "source": [
    "del df['cuerpo_agua_Ninguno']"
   ]
  },
  {
   "cell_type": "code",
   "execution_count": null,
   "id": "d5a5906c-d253-403e-9a88-af092a7bff84",
   "metadata": {},
   "outputs": [],
   "source": [
    "df.head()"
   ]
  },
  {
   "cell_type": "code",
   "execution_count": null,
   "id": "0f10920f-69fb-48cf-aa3c-90959907f241",
   "metadata": {},
   "outputs": [],
   "source": [
    "df.to_csv('DataReg.csv', header = True, index = False)"
   ]
  },
  {
   "cell_type": "markdown",
   "id": "734c548f-ea4d-44e2-8830-f96a2ccc83f0",
   "metadata": {},
   "source": [
    "## Regresión logística\n",
    "Dado que la función lineal no se puede ajustar a variables catagóricas binarias (0, 1), se hace necesario utilizar la función sigmoide $\\sigma(y)$:\n",
    "\n",
    "$\\large{\\sigma(y)=\\frac{1}{1+e^{-y}}}$\n",
    "\n",
    "Cuando $y$ toma valores positivos muy grandes, $e^{-y}$ toma volores muy cercanos a cero, lo que ocasiona que la función $\\sigma(y)$ tome valores muy cercanos a $1$. Por el contrario, cuando $y$ toma valores negativos muy grandes, $e^{-y}$ toma volores muy cercanos a $+\\infty$, lo que ocasiona que la función $\\sigma(y)$ tome valores muy cercanos a $0$\n",
    "\n",
    "Probabilidad de $y$ dado $X$:\n",
    "\n",
    "$\\large{P(y=1|X=x)=\\frac{e^{\\theta_{0}+\\theta_{1}x_{1}+\\theta_{2}x_{2}+\\theta_{3}x_{3}+...+\\theta_{p}x_{p}}}{1+e^{-(\\theta_{0}+\\theta_{1}x_{1}+\\theta_{2}x_{2}+\\theta_{3}x_{3}+...+\\theta_{p}x_{p})}}}$\n",
    "\n",
    "La regresión logística calcula los logaritmos de las probabilidades de cada variable para transformarlas en 0 o 1, usando un umbral de decisión."
   ]
  },
  {
   "cell_type": "code",
   "execution_count": null,
   "id": "3d322b64-4c65-45f2-af22-4db2bb4515a2",
   "metadata": {},
   "outputs": [],
   "source": [
    "# Se utiliza doble corchete porque para el modelo X debe ser un dataframe y por defecto una sola columna es un\n",
    "# tipo de dato Serie\n",
    "X = df[['precio']]"
   ]
  },
  {
   "cell_type": "code",
   "execution_count": null,
   "id": "d543cdac-db0a-4abf-8169-cc836294dbe6",
   "metadata": {},
   "outputs": [],
   "source": [
    "X.head()"
   ]
  },
  {
   "cell_type": "code",
   "execution_count": null,
   "id": "3fad312a-b62f-4072-aa72-1c6bded38d8c",
   "metadata": {},
   "outputs": [],
   "source": [
    "# El modelo requiere la variable predicha como una serie, por eso no se aplican dobles corchetes\n",
    "y = df['Vendida']"
   ]
  },
  {
   "cell_type": "code",
   "execution_count": null,
   "id": "a71df1e1-9db5-4f20-80ea-a3b4cc3b0bf9",
   "metadata": {},
   "outputs": [],
   "source": [
    "y.head()"
   ]
  },
  {
   "cell_type": "code",
   "execution_count": null,
   "id": "f1c27c92-bebe-43c9-a72f-13b3ceb6e56d",
   "metadata": {},
   "outputs": [],
   "source": [
    "from sklearn.linear_model import LogisticRegression\n",
    "#from sklearn.metrics import accuracy_score, precision_score, confusion_matrix"
   ]
  },
  {
   "cell_type": "code",
   "execution_count": null,
   "id": "def3ebe6-5d6d-4db2-8c31-9b59d594aca5",
   "metadata": {},
   "outputs": [],
   "source": [
    "# Crear modelo de regresión logística\n",
    "reg_log_simple = LogisticRegression()"
   ]
  },
  {
   "cell_type": "code",
   "execution_count": null,
   "id": "cb728019-1fa1-4470-9235-2fe96f8ddbcc",
   "metadata": {},
   "outputs": [],
   "source": [
    "# Entrenar el modelo\n",
    "reg_log_simple.fit(X, y)"
   ]
  },
  {
   "cell_type": "code",
   "execution_count": null,
   "id": "7cabf861-8e41-47fb-8211-9007d3a8e447",
   "metadata": {},
   "outputs": [],
   "source": [
    "# Obener el valor de theta(1)\n",
    "reg_log_simple.coef_"
   ]
  },
  {
   "cell_type": "code",
   "execution_count": null,
   "id": "88521bff-195b-429c-ac12-65086f7d3ce9",
   "metadata": {},
   "outputs": [],
   "source": [
    "# Obtener el valor de theta(0)\n",
    "reg_log_simple.intercept_"
   ]
  },
  {
   "cell_type": "code",
   "execution_count": null,
   "id": "2c2302f2-1c14-4b20-822a-fd7f9c15f0f2",
   "metadata": {},
   "outputs": [],
   "source": [
    "# Importar el modulo statsmodel para poder crear la constante que requiere el modelo Logit\n",
    "import statsmodels.api as sn"
   ]
  },
  {
   "cell_type": "code",
   "execution_count": null,
   "id": "99302e8c-af47-4bd5-914d-0851dc93c8b2",
   "metadata": {},
   "outputs": [],
   "source": [
    "const_X = sn.add_constant(X)"
   ]
  },
  {
   "cell_type": "code",
   "execution_count": null,
   "id": "2f91d4ab-93dd-4cf4-97c7-ee1da347ca4c",
   "metadata": {},
   "outputs": [],
   "source": [
    "const_X"
   ]
  },
  {
   "cell_type": "code",
   "execution_count": null,
   "id": "046201b1-8176-4f0f-981e-0e78f07865d3",
   "metadata": {},
   "outputs": [],
   "source": [
    "# Importar el modulo para trabajar con variables discretas con Logit\n",
    "import statsmodels.discrete.discrete_model as sm"
   ]
  },
  {
   "cell_type": "code",
   "execution_count": null,
   "id": "41837869-767e-45cd-be1e-a2863f31e98c",
   "metadata": {},
   "outputs": [],
   "source": [
    "# Entrenar y ajustar el modelo a los datos de entrada\n",
    "logit = sm.Logit(y, const_X).fit()"
   ]
  },
  {
   "cell_type": "code",
   "execution_count": null,
   "id": "c198284d-64a9-47dd-924b-f10092541adb",
   "metadata": {},
   "outputs": [],
   "source": [
    "# Obtener el resumen del modelo\n",
    "logit.summary() "
   ]
  },
  {
   "cell_type": "code",
   "execution_count": null,
   "id": "e6ded4a9-5c81-4a9e-b52f-22f2c5462070",
   "metadata": {},
   "outputs": [],
   "source": [
    "# Realizar una predicción de ejemplo\n",
    "np.floor(logit.predict([1,-300])[0])"
   ]
  },
  {
   "cell_type": "markdown",
   "id": "3c2d855b-72a5-4867-91a5-0b09afbc2e00",
   "metadata": {},
   "source": [
    "## Gráfica del modelo de regresión logística simple"
   ]
  },
  {
   "cell_type": "code",
   "execution_count": null,
   "id": "4dc7a01e-f179-406c-aeda-e4333c6b2ba2",
   "metadata": {},
   "outputs": [],
   "source": [
    "# Crear los puntos necesarios de la variable predicha desarrollar la gráfica\n",
    "\n",
    "grilla_X = np.linspace(\n",
    "    start = -100, # min(df.precio),\n",
    "    stop = 100, # max(df.precio),\n",
    "    num = 500\n",
    ").reshape(-1,1)\n",
    "\n",
    "# Agregar la constante para poder desarrollar la predicción por el modelo Logit\n",
    "grilla_X = sn.add_constant(grilla_X, prepend = True)\n",
    "\n",
    "# Desarrollar la predicción\n",
    "prediccion = logit.predict(exog = grilla_X)"
   ]
  },
  {
   "cell_type": "code",
   "execution_count": null,
   "id": "66e6486f-ccad-4d77-8959-4d594a5babdb",
   "metadata": {},
   "outputs": [],
   "source": [
    "grilla_X.shape # El resultado es un vector de 500 x 2"
   ]
  },
  {
   "cell_type": "code",
   "execution_count": null,
   "id": "c8e678d9-be35-4f5a-8e69-67309e9dc1d3",
   "metadata": {},
   "outputs": [],
   "source": [
    "fig, ax = plt.subplots(figsize=(10, 6))\n",
    "# Nube de puntos para cuando la propiedad es vendida\n",
    "ax.scatter(\n",
    "    x = df[['precio']][(y==1)].to_numpy().flatten(), y = df[['Vendida']][y==1].to_numpy().flatten()\n",
    ")\n",
    "# Nube de puntos para el caso en que la propiedad no es vendida\n",
    "ax.scatter(\n",
    "    x = df[['precio']][(y==0)].to_numpy().flatten(), y = df[['Vendida']][y==0].to_numpy().flatten()\n",
    ")\n",
    "\n",
    "ax.plot(grilla_X[:500, 1], prediccion, color = \"gray\") # Segunda columna de la grilla\n",
    "ax.set_title(\"Modelo regresión logística\")\n",
    "ax.set_ylabel(\"P(Vendida = 1 | precio)\")\n",
    "ax.set_xlabel(\"Precio de venta\")"
   ]
  },
  {
   "cell_type": "code",
   "execution_count": null,
   "id": "2d21c98e-1231-4d7b-8610-8cacc7e18761",
   "metadata": {},
   "outputs": [],
   "source": [
    "prediccion"
   ]
  }
 ],
 "metadata": {
  "kernelspec": {
   "display_name": "Python 3",
   "language": "python",
   "name": "python3"
  },
  "language_info": {
   "codemirror_mode": {
    "name": "ipython",
    "version": 3
   },
   "file_extension": ".py",
   "mimetype": "text/x-python",
   "name": "python",
   "nbconvert_exporter": "python",
   "pygments_lexer": "ipython3",
   "version": "3.9.5"
  }
 },
 "nbformat": 4,
 "nbformat_minor": 5
}
