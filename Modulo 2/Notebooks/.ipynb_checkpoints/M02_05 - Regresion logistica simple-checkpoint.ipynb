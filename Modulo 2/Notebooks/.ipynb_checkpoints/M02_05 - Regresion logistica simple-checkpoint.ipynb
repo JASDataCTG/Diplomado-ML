{
 "cells": [
  {
   "cell_type": "markdown",
   "id": "23387bed-bd8d-4947-876c-3ed1576885c6",
   "metadata": {},
   "source": [
    "# Regresión logística"
   ]
  },
  {
   "cell_type": "markdown",
   "id": "b3d0e7ba-3326-4ae6-b197-1071937caeab",
   "metadata": {},
   "source": [
    "## Carga y análisis de los datos"
   ]
  },
  {
   "cell_type": "code",
   "execution_count": 68,
   "id": "b0a7eb22-89c8-4dbc-b8f0-05c67c1e7a3f",
   "metadata": {},
   "outputs": [
    {
     "name": "stderr",
     "output_type": "stream",
     "text": [
      "UsageError: Line magic function `%seaborn` not found.\n"
     ]
    }
   ],
   "source": [
    "import pandas as pd\n",
    "import numpy as np\n",
    "import seaborn as sns\n",
    "import matplotlib.pyplot as plt\n",
    "%matplotlib inline"
   ]
  },
  {
   "cell_type": "code",
   "execution_count": 3,
   "id": "9f2313e6-aca8-46ca-96d8-261e476e4cb4",
   "metadata": {},
   "outputs": [],
   "source": [
    "df = pd.read_csv('https://raw.githubusercontent.com/JASDataCTG/Diplomado-ML/main/Modulo%202/Datasets/casas.csv', header = 0)"
   ]
  },
  {
   "cell_type": "code",
   "execution_count": 4,
   "id": "5283dfa6-705f-44d2-8a69-3513a5f3b444",
   "metadata": {
    "tags": []
   },
   "outputs": [
    {
     "data": {
      "text/html": [
       "<div>\n",
       "<style scoped>\n",
       "    .dataframe tbody tr th:only-of-type {\n",
       "        vertical-align: middle;\n",
       "    }\n",
       "\n",
       "    .dataframe tbody tr th {\n",
       "        vertical-align: top;\n",
       "    }\n",
       "\n",
       "    .dataframe thead th {\n",
       "        text-align: right;\n",
       "    }\n",
       "</style>\n",
       "<table border=\"1\" class=\"dataframe\">\n",
       "  <thead>\n",
       "    <tr style=\"text-align: right;\">\n",
       "      <th></th>\n",
       "      <th>precio</th>\n",
       "      <th>area_resid</th>\n",
       "      <th>cal_aire</th>\n",
       "      <th>num_hab</th>\n",
       "      <th>edad</th>\n",
       "      <th>dist1</th>\n",
       "      <th>dist2</th>\n",
       "      <th>dist3</th>\n",
       "      <th>dist4</th>\n",
       "      <th>prof_mil</th>\n",
       "      <th>p-pobreza</th>\n",
       "      <th>aeropuerto</th>\n",
       "      <th>n_cam_hos</th>\n",
       "      <th>n_hab_hotel</th>\n",
       "      <th>cuerpo_agua</th>\n",
       "      <th>lluvia_ano</th>\n",
       "      <th>ter_bus</th>\n",
       "      <th>parque</th>\n",
       "      <th>Vendida</th>\n",
       "    </tr>\n",
       "  </thead>\n",
       "  <tbody>\n",
       "    <tr>\n",
       "      <th>0</th>\n",
       "      <td>24.0</td>\n",
       "      <td>32.31</td>\n",
       "      <td>0.538</td>\n",
       "      <td>6.575</td>\n",
       "      <td>65.2</td>\n",
       "      <td>4.35</td>\n",
       "      <td>3.81</td>\n",
       "      <td>4.18</td>\n",
       "      <td>4.01</td>\n",
       "      <td>24.7</td>\n",
       "      <td>4.98</td>\n",
       "      <td>SI</td>\n",
       "      <td>5.480</td>\n",
       "      <td>11.1920</td>\n",
       "      <td>Rio</td>\n",
       "      <td>23</td>\n",
       "      <td>SI</td>\n",
       "      <td>0.049347</td>\n",
       "      <td>0</td>\n",
       "    </tr>\n",
       "    <tr>\n",
       "      <th>1</th>\n",
       "      <td>21.6</td>\n",
       "      <td>37.07</td>\n",
       "      <td>0.469</td>\n",
       "      <td>6.421</td>\n",
       "      <td>78.9</td>\n",
       "      <td>4.99</td>\n",
       "      <td>4.70</td>\n",
       "      <td>5.12</td>\n",
       "      <td>5.06</td>\n",
       "      <td>22.2</td>\n",
       "      <td>9.14</td>\n",
       "      <td>NO</td>\n",
       "      <td>7.332</td>\n",
       "      <td>12.1728</td>\n",
       "      <td>Lago</td>\n",
       "      <td>42</td>\n",
       "      <td>SI</td>\n",
       "      <td>0.046146</td>\n",
       "      <td>1</td>\n",
       "    </tr>\n",
       "    <tr>\n",
       "      <th>2</th>\n",
       "      <td>34.7</td>\n",
       "      <td>37.07</td>\n",
       "      <td>0.469</td>\n",
       "      <td>7.185</td>\n",
       "      <td>61.1</td>\n",
       "      <td>5.03</td>\n",
       "      <td>4.86</td>\n",
       "      <td>5.01</td>\n",
       "      <td>4.97</td>\n",
       "      <td>22.2</td>\n",
       "      <td>4.03</td>\n",
       "      <td>NO</td>\n",
       "      <td>7.394</td>\n",
       "      <td>101.1200</td>\n",
       "      <td>Ninguno</td>\n",
       "      <td>38</td>\n",
       "      <td>SI</td>\n",
       "      <td>0.045764</td>\n",
       "      <td>0</td>\n",
       "    </tr>\n",
       "    <tr>\n",
       "      <th>3</th>\n",
       "      <td>33.4</td>\n",
       "      <td>32.18</td>\n",
       "      <td>0.458</td>\n",
       "      <td>6.998</td>\n",
       "      <td>45.8</td>\n",
       "      <td>6.21</td>\n",
       "      <td>5.93</td>\n",
       "      <td>6.16</td>\n",
       "      <td>5.96</td>\n",
       "      <td>21.3</td>\n",
       "      <td>2.94</td>\n",
       "      <td>SI</td>\n",
       "      <td>9.268</td>\n",
       "      <td>11.2672</td>\n",
       "      <td>Lago</td>\n",
       "      <td>45</td>\n",
       "      <td>SI</td>\n",
       "      <td>0.047151</td>\n",
       "      <td>0</td>\n",
       "    </tr>\n",
       "    <tr>\n",
       "      <th>4</th>\n",
       "      <td>36.2</td>\n",
       "      <td>32.18</td>\n",
       "      <td>0.458</td>\n",
       "      <td>7.147</td>\n",
       "      <td>54.2</td>\n",
       "      <td>6.16</td>\n",
       "      <td>5.86</td>\n",
       "      <td>6.37</td>\n",
       "      <td>5.86</td>\n",
       "      <td>21.3</td>\n",
       "      <td>5.33</td>\n",
       "      <td>NO</td>\n",
       "      <td>8.824</td>\n",
       "      <td>11.2896</td>\n",
       "      <td>Lago</td>\n",
       "      <td>55</td>\n",
       "      <td>SI</td>\n",
       "      <td>0.039474</td>\n",
       "      <td>0</td>\n",
       "    </tr>\n",
       "  </tbody>\n",
       "</table>\n",
       "</div>"
      ],
      "text/plain": [
       "   precio  area_resid  cal_aire  num_hab  edad  dist1  dist2  dist3  dist4  \\\n",
       "0    24.0       32.31     0.538    6.575  65.2   4.35   3.81   4.18   4.01   \n",
       "1    21.6       37.07     0.469    6.421  78.9   4.99   4.70   5.12   5.06   \n",
       "2    34.7       37.07     0.469    7.185  61.1   5.03   4.86   5.01   4.97   \n",
       "3    33.4       32.18     0.458    6.998  45.8   6.21   5.93   6.16   5.96   \n",
       "4    36.2       32.18     0.458    7.147  54.2   6.16   5.86   6.37   5.86   \n",
       "\n",
       "   prof_mil  p-pobreza aeropuerto  n_cam_hos  n_hab_hotel cuerpo_agua  \\\n",
       "0      24.7       4.98         SI      5.480      11.1920         Rio   \n",
       "1      22.2       9.14         NO      7.332      12.1728        Lago   \n",
       "2      22.2       4.03         NO      7.394     101.1200     Ninguno   \n",
       "3      21.3       2.94         SI      9.268      11.2672        Lago   \n",
       "4      21.3       5.33         NO      8.824      11.2896        Lago   \n",
       "\n",
       "   lluvia_ano ter_bus    parque  Vendida  \n",
       "0          23      SI  0.049347        0  \n",
       "1          42      SI  0.046146        1  \n",
       "2          38      SI  0.045764        0  \n",
       "3          45      SI  0.047151        0  \n",
       "4          55      SI  0.039474        0  "
      ]
     },
     "execution_count": 4,
     "metadata": {},
     "output_type": "execute_result"
    }
   ],
   "source": [
    "df.head()"
   ]
  },
  {
   "cell_type": "code",
   "execution_count": 5,
   "id": "cebf5fdb-acba-4667-a68c-50e55aece803",
   "metadata": {},
   "outputs": [
    {
     "data": {
      "text/plain": [
       "(506, 19)"
      ]
     },
     "execution_count": 5,
     "metadata": {},
     "output_type": "execute_result"
    }
   ],
   "source": [
    "df.shape"
   ]
  },
  {
   "cell_type": "code",
   "execution_count": 6,
   "id": "a409c7d6-1bab-4dfa-87f7-a327dbd567c1",
   "metadata": {},
   "outputs": [
    {
     "name": "stdout",
     "output_type": "stream",
     "text": [
      "<class 'pandas.core.frame.DataFrame'>\n",
      "RangeIndex: 506 entries, 0 to 505\n",
      "Data columns (total 19 columns):\n",
      " #   Column       Non-Null Count  Dtype  \n",
      "---  ------       --------------  -----  \n",
      " 0   precio       506 non-null    float64\n",
      " 1   area_resid   506 non-null    float64\n",
      " 2   cal_aire     506 non-null    float64\n",
      " 3   num_hab      506 non-null    float64\n",
      " 4   edad         506 non-null    float64\n",
      " 5   dist1        506 non-null    float64\n",
      " 6   dist2        506 non-null    float64\n",
      " 7   dist3        506 non-null    float64\n",
      " 8   dist4        506 non-null    float64\n",
      " 9   prof_mil     506 non-null    float64\n",
      " 10  p-pobreza    506 non-null    float64\n",
      " 11  aeropuerto   506 non-null    object \n",
      " 12  n_cam_hos    498 non-null    float64\n",
      " 13  n_hab_hotel  506 non-null    float64\n",
      " 14  cuerpo_agua  506 non-null    object \n",
      " 15  lluvia_ano   506 non-null    int64  \n",
      " 16  ter_bus      506 non-null    object \n",
      " 17  parque       506 non-null    float64\n",
      " 18  Vendida      506 non-null    int64  \n",
      "dtypes: float64(14), int64(2), object(3)\n",
      "memory usage: 75.2+ KB\n"
     ]
    }
   ],
   "source": [
    "df.info()"
   ]
  },
  {
   "cell_type": "code",
   "execution_count": 7,
   "id": "b970dea0-db56-487f-83a8-bbf1fd9866d5",
   "metadata": {},
   "outputs": [
    {
     "data": {
      "text/html": [
       "<div>\n",
       "<style scoped>\n",
       "    .dataframe tbody tr th:only-of-type {\n",
       "        vertical-align: middle;\n",
       "    }\n",
       "\n",
       "    .dataframe tbody tr th {\n",
       "        vertical-align: top;\n",
       "    }\n",
       "\n",
       "    .dataframe thead th {\n",
       "        text-align: right;\n",
       "    }\n",
       "</style>\n",
       "<table border=\"1\" class=\"dataframe\">\n",
       "  <thead>\n",
       "    <tr style=\"text-align: right;\">\n",
       "      <th></th>\n",
       "      <th>precio</th>\n",
       "      <th>area_resid</th>\n",
       "      <th>cal_aire</th>\n",
       "      <th>num_hab</th>\n",
       "      <th>edad</th>\n",
       "      <th>dist1</th>\n",
       "      <th>dist2</th>\n",
       "      <th>dist3</th>\n",
       "      <th>dist4</th>\n",
       "      <th>prof_mil</th>\n",
       "      <th>p-pobreza</th>\n",
       "      <th>n_cam_hos</th>\n",
       "      <th>n_hab_hotel</th>\n",
       "      <th>lluvia_ano</th>\n",
       "      <th>parque</th>\n",
       "      <th>Vendida</th>\n",
       "    </tr>\n",
       "  </thead>\n",
       "  <tbody>\n",
       "    <tr>\n",
       "      <th>count</th>\n",
       "      <td>506.000000</td>\n",
       "      <td>506.000000</td>\n",
       "      <td>506.000000</td>\n",
       "      <td>506.000000</td>\n",
       "      <td>506.000000</td>\n",
       "      <td>506.000000</td>\n",
       "      <td>506.000000</td>\n",
       "      <td>506.000000</td>\n",
       "      <td>506.000000</td>\n",
       "      <td>506.000000</td>\n",
       "      <td>506.000000</td>\n",
       "      <td>498.000000</td>\n",
       "      <td>506.000000</td>\n",
       "      <td>506.000000</td>\n",
       "      <td>506.000000</td>\n",
       "      <td>506.000000</td>\n",
       "    </tr>\n",
       "    <tr>\n",
       "      <th>mean</th>\n",
       "      <td>22.528854</td>\n",
       "      <td>41.136779</td>\n",
       "      <td>0.554695</td>\n",
       "      <td>6.284634</td>\n",
       "      <td>68.574901</td>\n",
       "      <td>3.971996</td>\n",
       "      <td>3.628775</td>\n",
       "      <td>3.960672</td>\n",
       "      <td>3.618972</td>\n",
       "      <td>21.544466</td>\n",
       "      <td>12.653063</td>\n",
       "      <td>7.899767</td>\n",
       "      <td>13.041605</td>\n",
       "      <td>39.181818</td>\n",
       "      <td>0.054454</td>\n",
       "      <td>0.454545</td>\n",
       "    </tr>\n",
       "    <tr>\n",
       "      <th>std</th>\n",
       "      <td>9.182176</td>\n",
       "      <td>6.860353</td>\n",
       "      <td>0.115878</td>\n",
       "      <td>0.702617</td>\n",
       "      <td>28.148861</td>\n",
       "      <td>2.108532</td>\n",
       "      <td>2.108580</td>\n",
       "      <td>2.119797</td>\n",
       "      <td>2.099203</td>\n",
       "      <td>2.164946</td>\n",
       "      <td>7.141062</td>\n",
       "      <td>1.476683</td>\n",
       "      <td>5.238957</td>\n",
       "      <td>12.513697</td>\n",
       "      <td>0.010632</td>\n",
       "      <td>0.498422</td>\n",
       "    </tr>\n",
       "    <tr>\n",
       "      <th>min</th>\n",
       "      <td>5.000000</td>\n",
       "      <td>30.460000</td>\n",
       "      <td>0.385000</td>\n",
       "      <td>3.561000</td>\n",
       "      <td>2.900000</td>\n",
       "      <td>1.130000</td>\n",
       "      <td>0.920000</td>\n",
       "      <td>1.150000</td>\n",
       "      <td>0.730000</td>\n",
       "      <td>18.000000</td>\n",
       "      <td>1.730000</td>\n",
       "      <td>5.268000</td>\n",
       "      <td>10.057600</td>\n",
       "      <td>3.000000</td>\n",
       "      <td>0.033292</td>\n",
       "      <td>0.000000</td>\n",
       "    </tr>\n",
       "    <tr>\n",
       "      <th>25%</th>\n",
       "      <td>17.025000</td>\n",
       "      <td>35.190000</td>\n",
       "      <td>0.449000</td>\n",
       "      <td>5.885500</td>\n",
       "      <td>45.025000</td>\n",
       "      <td>2.270000</td>\n",
       "      <td>1.940000</td>\n",
       "      <td>2.232500</td>\n",
       "      <td>1.940000</td>\n",
       "      <td>19.800000</td>\n",
       "      <td>6.950000</td>\n",
       "      <td>6.634500</td>\n",
       "      <td>11.189800</td>\n",
       "      <td>28.000000</td>\n",
       "      <td>0.046464</td>\n",
       "      <td>0.000000</td>\n",
       "    </tr>\n",
       "    <tr>\n",
       "      <th>50%</th>\n",
       "      <td>21.200000</td>\n",
       "      <td>39.690000</td>\n",
       "      <td>0.538000</td>\n",
       "      <td>6.208500</td>\n",
       "      <td>77.500000</td>\n",
       "      <td>3.385000</td>\n",
       "      <td>3.010000</td>\n",
       "      <td>3.375000</td>\n",
       "      <td>3.070000</td>\n",
       "      <td>20.950000</td>\n",
       "      <td>11.360000</td>\n",
       "      <td>7.999000</td>\n",
       "      <td>12.720000</td>\n",
       "      <td>39.000000</td>\n",
       "      <td>0.053507</td>\n",
       "      <td>0.000000</td>\n",
       "    </tr>\n",
       "    <tr>\n",
       "      <th>75%</th>\n",
       "      <td>25.000000</td>\n",
       "      <td>48.100000</td>\n",
       "      <td>0.624000</td>\n",
       "      <td>6.623500</td>\n",
       "      <td>94.075000</td>\n",
       "      <td>5.367500</td>\n",
       "      <td>4.992500</td>\n",
       "      <td>5.407500</td>\n",
       "      <td>4.985000</td>\n",
       "      <td>22.600000</td>\n",
       "      <td>16.955000</td>\n",
       "      <td>9.088000</td>\n",
       "      <td>14.170800</td>\n",
       "      <td>50.000000</td>\n",
       "      <td>0.061397</td>\n",
       "      <td>1.000000</td>\n",
       "    </tr>\n",
       "    <tr>\n",
       "      <th>max</th>\n",
       "      <td>50.000000</td>\n",
       "      <td>57.740000</td>\n",
       "      <td>0.871000</td>\n",
       "      <td>8.780000</td>\n",
       "      <td>100.000000</td>\n",
       "      <td>12.320000</td>\n",
       "      <td>11.930000</td>\n",
       "      <td>12.320000</td>\n",
       "      <td>11.940000</td>\n",
       "      <td>27.400000</td>\n",
       "      <td>37.970000</td>\n",
       "      <td>10.876000</td>\n",
       "      <td>101.120000</td>\n",
       "      <td>60.000000</td>\n",
       "      <td>0.086711</td>\n",
       "      <td>1.000000</td>\n",
       "    </tr>\n",
       "  </tbody>\n",
       "</table>\n",
       "</div>"
      ],
      "text/plain": [
       "           precio  area_resid    cal_aire     num_hab        edad       dist1  \\\n",
       "count  506.000000  506.000000  506.000000  506.000000  506.000000  506.000000   \n",
       "mean    22.528854   41.136779    0.554695    6.284634   68.574901    3.971996   \n",
       "std      9.182176    6.860353    0.115878    0.702617   28.148861    2.108532   \n",
       "min      5.000000   30.460000    0.385000    3.561000    2.900000    1.130000   \n",
       "25%     17.025000   35.190000    0.449000    5.885500   45.025000    2.270000   \n",
       "50%     21.200000   39.690000    0.538000    6.208500   77.500000    3.385000   \n",
       "75%     25.000000   48.100000    0.624000    6.623500   94.075000    5.367500   \n",
       "max     50.000000   57.740000    0.871000    8.780000  100.000000   12.320000   \n",
       "\n",
       "            dist2       dist3       dist4    prof_mil   p-pobreza   n_cam_hos  \\\n",
       "count  506.000000  506.000000  506.000000  506.000000  506.000000  498.000000   \n",
       "mean     3.628775    3.960672    3.618972   21.544466   12.653063    7.899767   \n",
       "std      2.108580    2.119797    2.099203    2.164946    7.141062    1.476683   \n",
       "min      0.920000    1.150000    0.730000   18.000000    1.730000    5.268000   \n",
       "25%      1.940000    2.232500    1.940000   19.800000    6.950000    6.634500   \n",
       "50%      3.010000    3.375000    3.070000   20.950000   11.360000    7.999000   \n",
       "75%      4.992500    5.407500    4.985000   22.600000   16.955000    9.088000   \n",
       "max     11.930000   12.320000   11.940000   27.400000   37.970000   10.876000   \n",
       "\n",
       "       n_hab_hotel  lluvia_ano      parque     Vendida  \n",
       "count   506.000000  506.000000  506.000000  506.000000  \n",
       "mean     13.041605   39.181818    0.054454    0.454545  \n",
       "std       5.238957   12.513697    0.010632    0.498422  \n",
       "min      10.057600    3.000000    0.033292    0.000000  \n",
       "25%      11.189800   28.000000    0.046464    0.000000  \n",
       "50%      12.720000   39.000000    0.053507    0.000000  \n",
       "75%      14.170800   50.000000    0.061397    1.000000  \n",
       "max     101.120000   60.000000    0.086711    1.000000  "
      ]
     },
     "execution_count": 7,
     "metadata": {},
     "output_type": "execute_result"
    }
   ],
   "source": [
    "df.describe()"
   ]
  },
  {
   "cell_type": "code",
   "execution_count": 8,
   "id": "b80f580a-dc5b-40dc-86d0-ab88bc62bc49",
   "metadata": {},
   "outputs": [
    {
     "data": {
      "text/plain": [
       "<AxesSubplot:ylabel='n_cam_hos'>"
      ]
     },
     "execution_count": 8,
     "metadata": {},
     "output_type": "execute_result"
    },
    {
     "data": {
      "image/png": "[encoded data removed]",
      "text/plain": [
       "<Figure size 432x288 with 1 Axes>"
      ]
     },
     "metadata": {
      "needs_background": "light"
     },
     "output_type": "display_data"
    }
   ],
   "source": [
    "sns.boxplot(y = 'n_cam_hos', data = df)"
   ]
  },
  {
   "cell_type": "code",
   "execution_count": 9,
   "id": "bba7fad7-2e3b-44d3-8878-7072a100c982",
   "metadata": {},
   "outputs": [
    {
     "data": {
      "text/plain": [
       "<AxesSubplot:ylabel='n_hab_hotel'>"
      ]
     },
     "execution_count": 9,
     "metadata": {},
     "output_type": "execute_result"
    },
    {
     "data": {
      "image/png": "[encoded data removed]",
      "text/plain": [
       "<Figure size 432x288 with 1 Axes>"
      ]
     },
     "metadata": {
      "needs_background": "light"
     },
     "output_type": "display_data"
    }
   ],
   "source": [
    "sns.boxplot(y = df['n_hab_hotel'])"
   ]
  },
  {
   "cell_type": "code",
   "execution_count": 10,
   "id": "42e86813-39a5-4c06-b882-002934817c59",
   "metadata": {},
   "outputs": [
    {
     "data": {
      "text/plain": [
       "<seaborn.axisgrid.JointGrid at 0x20d1f39fa30>"
      ]
     },
     "execution_count": 10,
     "metadata": {},
     "output_type": "execute_result"
    },
    {
     "data": {
      "image/png": "[encoded data removed]",
      "text/plain": [
       "<Figure size 432x432 with 3 Axes>"
      ]
     },
     "metadata": {
      "needs_background": "light"
     },
     "output_type": "display_data"
    }
   ],
   "source": [
    "sns.jointplot(x = df['lluvia_ano'], y = df['Vendida'])"
   ]
  },
  {
   "cell_type": "code",
   "execution_count": 11,
   "id": "157c8432-9cf6-4819-b3ea-3c7dc5aeeb9e",
   "metadata": {},
   "outputs": [
    {
     "data": {
      "text/plain": [
       "<AxesSubplot:xlabel='aeropuerto', ylabel='count'>"
      ]
     },
     "execution_count": 11,
     "metadata": {},
     "output_type": "execute_result"
    },
    {
     "data": {
      "image/png": "[encoded data removed]",
      "text/plain": [
       "<Figure size 432x288 with 1 Axes>"
      ]
     },
     "metadata": {
      "needs_background": "light"
     },
     "output_type": "display_data"
    }
   ],
   "source": [
    "sns.countplot(x = df['aeropuerto'])"
   ]
  },
  {
   "cell_type": "code",
   "execution_count": 12,
   "id": "90305bf9-3300-4624-808b-f639ae215b10",
   "metadata": {},
   "outputs": [
    {
     "data": {
      "text/plain": [
       "Vendida\n",
       "0    40.984094\n",
       "1    41.320000\n",
       "Name: area_resid, dtype: float64"
      ]
     },
     "execution_count": 12,
     "metadata": {},
     "output_type": "execute_result"
    }
   ],
   "source": [
    "df.groupby(by = 'Vendida')['area_resid'].mean()"
   ]
  },
  {
   "cell_type": "code",
   "execution_count": 13,
   "id": "623e3162-2776-4d63-8e58-d397fcf703fb",
   "metadata": {},
   "outputs": [
    {
     "data": {
      "text/plain": [
       "<AxesSubplot:xlabel='count', ylabel='cuerpo_agua'>"
      ]
     },
     "execution_count": 13,
     "metadata": {},
     "output_type": "execute_result"
    },
    {
     "data": {
      "image/png": "[encoded data removed]",
      "text/plain": [
       "<Figure size 432x288 with 1 Axes>"
      ]
     },
     "metadata": {
      "needs_background": "light"
     },
     "output_type": "display_data"
    }
   ],
   "source": [
    "sns.countplot(y = df['cuerpo_agua'])"
   ]
  },
  {
   "cell_type": "code",
   "execution_count": 14,
   "id": "05a0934b-8b91-4196-8cb6-f3cf49d2c718",
   "metadata": {},
   "outputs": [
    {
     "data": {
      "text/plain": [
       "<AxesSubplot:xlabel='ter_bus', ylabel='count'>"
      ]
     },
     "execution_count": 14,
     "metadata": {},
     "output_type": "execute_result"
    },
    {
     "data": {
      "image/png": "[encoded data removed]",
      "text/plain": [
       "<Figure size 432x288 with 1 Axes>"
      ]
     },
     "metadata": {
      "needs_background": "light"
     },
     "output_type": "display_data"
    }
   ],
   "source": [
    "sns.countplot(x = df['ter_bus'])"
   ]
  },
  {
   "cell_type": "code",
   "execution_count": 69,
   "id": "8ced8f1f-75d1-4e0a-a675-a824849a47b4",
   "metadata": {},
   "outputs": [
    {
     "data": {
      "text/plain": [
       "<matplotlib.legend.Legend at 0x20d270503d0>"
      ]
     },
     "execution_count": 69,
     "metadata": {},
     "output_type": "execute_result"
    },
    {
     "data": {
      "image/png": "[encoded data removed]",
      "text/plain": [
       "<Figure size 432x288 with 1 Axes>"
      ]
     },
     "metadata": {
      "needs_background": "light"
     },
     "output_type": "display_data"
    }
   ],
   "source": [
    "x1 = df.precio[df.Vendida == 1]\n",
    "x2 = df.precio[df.Vendida == 0]#df[df.Vendida == 0]['precio']\n",
    "\n",
    "kwargs = dict(alpha = 0.5, bins = 8, density = True, stacked = True)\n",
    "\n",
    "plt.hist(x1, **kwargs, color = 'g', label = 'Vendida')\n",
    "plt.hist(x2, **kwargs, color = 'b', label = 'No vendida')\n",
    "plt.legend()"
   ]
  },
  {
   "cell_type": "markdown",
   "id": "4e391e9e-12e5-4c66-88a0-f9b0cf288943",
   "metadata": {},
   "source": [
    "## Tratamiento de valores extremos"
   ]
  },
  {
   "cell_type": "code",
   "execution_count": 16,
   "id": "f1210d81-e6a3-4832-8c93-60f5827aca57",
   "metadata": {},
   "outputs": [
    {
     "data": {
      "text/plain": [
       "15.39952"
      ]
     },
     "execution_count": 16,
     "metadata": {},
     "output_type": "execute_result"
    }
   ],
   "source": [
    "np.percentile(df.n_hab_hotel, [99])[0]"
   ]
  },
  {
   "cell_type": "code",
   "execution_count": 17,
   "id": "fa9add58-bd8b-41e0-9fbf-3cd94ec7efa9",
   "metadata": {},
   "outputs": [],
   "source": [
    "lim_sup = np.percentile(df.n_hab_hotel, [99])[0]"
   ]
  },
  {
   "cell_type": "code",
   "execution_count": 18,
   "id": "ae47fb73-4311-4a37-b8e4-98913a96465f",
   "metadata": {},
   "outputs": [
    {
     "data": {
      "text/html": [
       "<div>\n",
       "<style scoped>\n",
       "    .dataframe tbody tr th:only-of-type {\n",
       "        vertical-align: middle;\n",
       "    }\n",
       "\n",
       "    .dataframe tbody tr th {\n",
       "        vertical-align: top;\n",
       "    }\n",
       "\n",
       "    .dataframe thead th {\n",
       "        text-align: right;\n",
       "    }\n",
       "</style>\n",
       "<table border=\"1\" class=\"dataframe\">\n",
       "  <thead>\n",
       "    <tr style=\"text-align: right;\">\n",
       "      <th></th>\n",
       "      <th>precio</th>\n",
       "      <th>area_resid</th>\n",
       "      <th>cal_aire</th>\n",
       "      <th>num_hab</th>\n",
       "      <th>edad</th>\n",
       "      <th>dist1</th>\n",
       "      <th>dist2</th>\n",
       "      <th>dist3</th>\n",
       "      <th>dist4</th>\n",
       "      <th>prof_mil</th>\n",
       "      <th>p-pobreza</th>\n",
       "      <th>aeropuerto</th>\n",
       "      <th>n_cam_hos</th>\n",
       "      <th>n_hab_hotel</th>\n",
       "      <th>cuerpo_agua</th>\n",
       "      <th>lluvia_ano</th>\n",
       "      <th>ter_bus</th>\n",
       "      <th>parque</th>\n",
       "      <th>Vendida</th>\n",
       "    </tr>\n",
       "  </thead>\n",
       "  <tbody>\n",
       "    <tr>\n",
       "      <th>2</th>\n",
       "      <td>34.7</td>\n",
       "      <td>37.07</td>\n",
       "      <td>0.4690</td>\n",
       "      <td>7.185</td>\n",
       "      <td>61.1</td>\n",
       "      <td>5.03</td>\n",
       "      <td>4.86</td>\n",
       "      <td>5.01</td>\n",
       "      <td>4.97</td>\n",
       "      <td>22.2</td>\n",
       "      <td>4.03</td>\n",
       "      <td>NO</td>\n",
       "      <td>7.394</td>\n",
       "      <td>101.12</td>\n",
       "      <td>Ninguno</td>\n",
       "      <td>38</td>\n",
       "      <td>SI</td>\n",
       "      <td>0.045764</td>\n",
       "      <td>0</td>\n",
       "    </tr>\n",
       "    <tr>\n",
       "      <th>166</th>\n",
       "      <td>50.0</td>\n",
       "      <td>49.58</td>\n",
       "      <td>0.6050</td>\n",
       "      <td>7.929</td>\n",
       "      <td>96.2</td>\n",
       "      <td>2.11</td>\n",
       "      <td>1.91</td>\n",
       "      <td>2.31</td>\n",
       "      <td>1.86</td>\n",
       "      <td>25.3</td>\n",
       "      <td>3.70</td>\n",
       "      <td>SI</td>\n",
       "      <td>8.300</td>\n",
       "      <td>15.40</td>\n",
       "      <td>Rio</td>\n",
       "      <td>37</td>\n",
       "      <td>SI</td>\n",
       "      <td>0.052105</td>\n",
       "      <td>0</td>\n",
       "    </tr>\n",
       "    <tr>\n",
       "      <th>204</th>\n",
       "      <td>50.0</td>\n",
       "      <td>32.68</td>\n",
       "      <td>0.4161</td>\n",
       "      <td>8.034</td>\n",
       "      <td>31.9</td>\n",
       "      <td>5.41</td>\n",
       "      <td>4.80</td>\n",
       "      <td>5.28</td>\n",
       "      <td>4.99</td>\n",
       "      <td>25.3</td>\n",
       "      <td>2.88</td>\n",
       "      <td>SI</td>\n",
       "      <td>8.900</td>\n",
       "      <td>15.40</td>\n",
       "      <td>Rio</td>\n",
       "      <td>51</td>\n",
       "      <td>SI</td>\n",
       "      <td>0.044178</td>\n",
       "      <td>0</td>\n",
       "    </tr>\n",
       "    <tr>\n",
       "      <th>267</th>\n",
       "      <td>50.0</td>\n",
       "      <td>33.97</td>\n",
       "      <td>0.5750</td>\n",
       "      <td>8.297</td>\n",
       "      <td>67.0</td>\n",
       "      <td>2.60</td>\n",
       "      <td>2.13</td>\n",
       "      <td>2.43</td>\n",
       "      <td>2.52</td>\n",
       "      <td>27.0</td>\n",
       "      <td>7.44</td>\n",
       "      <td>SI</td>\n",
       "      <td>8.000</td>\n",
       "      <td>15.40</td>\n",
       "      <td>Ninguno</td>\n",
       "      <td>42</td>\n",
       "      <td>SI</td>\n",
       "      <td>0.063235</td>\n",
       "      <td>0</td>\n",
       "    </tr>\n",
       "    <tr>\n",
       "      <th>369</th>\n",
       "      <td>50.0</td>\n",
       "      <td>48.10</td>\n",
       "      <td>0.6310</td>\n",
       "      <td>6.683</td>\n",
       "      <td>96.8</td>\n",
       "      <td>1.55</td>\n",
       "      <td>1.28</td>\n",
       "      <td>1.65</td>\n",
       "      <td>0.94</td>\n",
       "      <td>19.8</td>\n",
       "      <td>3.73</td>\n",
       "      <td>SI</td>\n",
       "      <td>6.700</td>\n",
       "      <td>15.40</td>\n",
       "      <td>Rio</td>\n",
       "      <td>58</td>\n",
       "      <td>SI</td>\n",
       "      <td>0.067477</td>\n",
       "      <td>0</td>\n",
       "    </tr>\n",
       "    <tr>\n",
       "      <th>423</th>\n",
       "      <td>13.4</td>\n",
       "      <td>48.10</td>\n",
       "      <td>0.6140</td>\n",
       "      <td>6.103</td>\n",
       "      <td>85.1</td>\n",
       "      <td>2.08</td>\n",
       "      <td>1.80</td>\n",
       "      <td>2.34</td>\n",
       "      <td>1.87</td>\n",
       "      <td>19.8</td>\n",
       "      <td>23.29</td>\n",
       "      <td>NO</td>\n",
       "      <td>8.268</td>\n",
       "      <td>81.12</td>\n",
       "      <td>Lago</td>\n",
       "      <td>29</td>\n",
       "      <td>SI</td>\n",
       "      <td>0.063344</td>\n",
       "      <td>0</td>\n",
       "    </tr>\n",
       "  </tbody>\n",
       "</table>\n",
       "</div>"
      ],
      "text/plain": [
       "     precio  area_resid  cal_aire  num_hab  edad  dist1  dist2  dist3  dist4  \\\n",
       "2      34.7       37.07    0.4690    7.185  61.1   5.03   4.86   5.01   4.97   \n",
       "166    50.0       49.58    0.6050    7.929  96.2   2.11   1.91   2.31   1.86   \n",
       "204    50.0       32.68    0.4161    8.034  31.9   5.41   4.80   5.28   4.99   \n",
       "267    50.0       33.97    0.5750    8.297  67.0   2.60   2.13   2.43   2.52   \n",
       "369    50.0       48.10    0.6310    6.683  96.8   1.55   1.28   1.65   0.94   \n",
       "423    13.4       48.10    0.6140    6.103  85.1   2.08   1.80   2.34   1.87   \n",
       "\n",
       "     prof_mil  p-pobreza aeropuerto  n_cam_hos  n_hab_hotel cuerpo_agua  \\\n",
       "2        22.2       4.03         NO      7.394       101.12     Ninguno   \n",
       "166      25.3       3.70         SI      8.300        15.40         Rio   \n",
       "204      25.3       2.88         SI      8.900        15.40         Rio   \n",
       "267      27.0       7.44         SI      8.000        15.40     Ninguno   \n",
       "369      19.8       3.73         SI      6.700        15.40         Rio   \n",
       "423      19.8      23.29         NO      8.268        81.12        Lago   \n",
       "\n",
       "     lluvia_ano ter_bus    parque  Vendida  \n",
       "2            38      SI  0.045764        0  \n",
       "166          37      SI  0.052105        0  \n",
       "204          51      SI  0.044178        0  \n",
       "267          42      SI  0.063235        0  \n",
       "369          58      SI  0.067477        0  \n",
       "423          29      SI  0.063344        0  "
      ]
     },
     "execution_count": 18,
     "metadata": {},
     "output_type": "execute_result"
    }
   ],
   "source": [
    "df[df.n_hab_hotel > lim_sup]"
   ]
  },
  {
   "cell_type": "code",
   "execution_count": 19,
   "id": "d4cae0ac-7487-454d-a9f6-c899e56d056a",
   "metadata": {},
   "outputs": [
    {
     "name": "stderr",
     "output_type": "stream",
     "text": [
      "<ipython-input-19-dea329e9daba>:1: SettingWithCopyWarning: \n",
      "A value is trying to be set on a copy of a slice from a DataFrame\n",
      "\n",
      "See the caveats in the documentation: https://pandas.pydata.org/pandas-docs/stable/user_guide/indexing.html#returning-a-view-versus-a-copy\n",
      "  df.n_hab_hotel[df.n_hab_hotel > 3 * lim_sup] = 3 * lim_sup\n"
     ]
    }
   ],
   "source": [
    "df.n_hab_hotel[df.n_hab_hotel > 3 * lim_sup] = 3 * lim_sup"
   ]
  },
  {
   "cell_type": "code",
   "execution_count": 20,
   "id": "42e41f5e-6bd7-4858-bfc8-f12acc6cab75",
   "metadata": {},
   "outputs": [
    {
     "data": {
      "text/plain": [
       "20.0"
      ]
     },
     "execution_count": 20,
     "metadata": {},
     "output_type": "execute_result"
    }
   ],
   "source": [
    "np.percentile(df.lluvia_ano, [0.3])[0]"
   ]
  },
  {
   "cell_type": "code",
   "execution_count": 21,
   "id": "d60a90f3-1025-4f87-b8c5-b1b7534865bd",
   "metadata": {},
   "outputs": [],
   "source": [
    "lim_inf = np.percentile(df.lluvia_ano, [0.3])[0]"
   ]
  },
  {
   "cell_type": "code",
   "execution_count": 22,
   "id": "7b6f34ae-79fe-4e6f-ae00-75d7df298a24",
   "metadata": {},
   "outputs": [
    {
     "data": {
      "text/html": [
       "<div>\n",
       "<style scoped>\n",
       "    .dataframe tbody tr th:only-of-type {\n",
       "        vertical-align: middle;\n",
       "    }\n",
       "\n",
       "    .dataframe tbody tr th {\n",
       "        vertical-align: top;\n",
       "    }\n",
       "\n",
       "    .dataframe thead th {\n",
       "        text-align: right;\n",
       "    }\n",
       "</style>\n",
       "<table border=\"1\" class=\"dataframe\">\n",
       "  <thead>\n",
       "    <tr style=\"text-align: right;\">\n",
       "      <th></th>\n",
       "      <th>precio</th>\n",
       "      <th>area_resid</th>\n",
       "      <th>cal_aire</th>\n",
       "      <th>num_hab</th>\n",
       "      <th>edad</th>\n",
       "      <th>dist1</th>\n",
       "      <th>dist2</th>\n",
       "      <th>dist3</th>\n",
       "      <th>dist4</th>\n",
       "      <th>prof_mil</th>\n",
       "      <th>p-pobreza</th>\n",
       "      <th>aeropuerto</th>\n",
       "      <th>n_cam_hos</th>\n",
       "      <th>n_hab_hotel</th>\n",
       "      <th>cuerpo_agua</th>\n",
       "      <th>lluvia_ano</th>\n",
       "      <th>ter_bus</th>\n",
       "      <th>parque</th>\n",
       "      <th>Vendida</th>\n",
       "    </tr>\n",
       "  </thead>\n",
       "  <tbody>\n",
       "    <tr>\n",
       "      <th>213</th>\n",
       "      <td>28.1</td>\n",
       "      <td>40.59</td>\n",
       "      <td>0.489</td>\n",
       "      <td>6.375</td>\n",
       "      <td>32.3</td>\n",
       "      <td>4.11</td>\n",
       "      <td>3.92</td>\n",
       "      <td>4.18</td>\n",
       "      <td>3.57</td>\n",
       "      <td>21.4</td>\n",
       "      <td>9.38</td>\n",
       "      <td>SI</td>\n",
       "      <td>7.562</td>\n",
       "      <td>10.2248</td>\n",
       "      <td>Ninguno</td>\n",
       "      <td>3</td>\n",
       "      <td>SI</td>\n",
       "      <td>0.044019</td>\n",
       "      <td>1</td>\n",
       "    </tr>\n",
       "  </tbody>\n",
       "</table>\n",
       "</div>"
      ],
      "text/plain": [
       "     precio  area_resid  cal_aire  num_hab  edad  dist1  dist2  dist3  dist4  \\\n",
       "213    28.1       40.59     0.489    6.375  32.3   4.11   3.92   4.18   3.57   \n",
       "\n",
       "     prof_mil  p-pobreza aeropuerto  n_cam_hos  n_hab_hotel cuerpo_agua  \\\n",
       "213      21.4       9.38         SI      7.562      10.2248     Ninguno   \n",
       "\n",
       "     lluvia_ano ter_bus    parque  Vendida  \n",
       "213           3      SI  0.044019        1  "
      ]
     },
     "execution_count": 22,
     "metadata": {},
     "output_type": "execute_result"
    }
   ],
   "source": [
    "df[df.lluvia_ano < lim_inf]"
   ]
  },
  {
   "cell_type": "code",
   "execution_count": 23,
   "id": "55fbf186-0574-4f94-9799-c704c0fb89f9",
   "metadata": {},
   "outputs": [
    {
     "name": "stderr",
     "output_type": "stream",
     "text": [
      "<ipython-input-23-bfc4b8993ce2>:1: SettingWithCopyWarning: \n",
      "A value is trying to be set on a copy of a slice from a DataFrame\n",
      "\n",
      "See the caveats in the documentation: https://pandas.pydata.org/pandas-docs/stable/user_guide/indexing.html#returning-a-view-versus-a-copy\n",
      "  df.lluvia_ano[df.lluvia_ano < 0.3 * lim_inf] = 0.3 * lim_inf\n"
     ]
    }
   ],
   "source": [
    "df.lluvia_ano[df.lluvia_ano < 0.3 * lim_inf] = 0.3 * lim_inf"
   ]
  },
  {
   "cell_type": "code",
   "execution_count": 24,
   "id": "61cee39e-682b-4ac0-9991-fa16af1fafc8",
   "metadata": {},
   "outputs": [
    {
     "data": {
      "text/html": [
       "<div>\n",
       "<style scoped>\n",
       "    .dataframe tbody tr th:only-of-type {\n",
       "        vertical-align: middle;\n",
       "    }\n",
       "\n",
       "    .dataframe tbody tr th {\n",
       "        vertical-align: top;\n",
       "    }\n",
       "\n",
       "    .dataframe thead th {\n",
       "        text-align: right;\n",
       "    }\n",
       "</style>\n",
       "<table border=\"1\" class=\"dataframe\">\n",
       "  <thead>\n",
       "    <tr style=\"text-align: right;\">\n",
       "      <th></th>\n",
       "      <th>precio</th>\n",
       "      <th>area_resid</th>\n",
       "      <th>cal_aire</th>\n",
       "      <th>num_hab</th>\n",
       "      <th>edad</th>\n",
       "      <th>dist1</th>\n",
       "      <th>dist2</th>\n",
       "      <th>dist3</th>\n",
       "      <th>dist4</th>\n",
       "      <th>prof_mil</th>\n",
       "      <th>p-pobreza</th>\n",
       "      <th>n_cam_hos</th>\n",
       "      <th>n_hab_hotel</th>\n",
       "      <th>lluvia_ano</th>\n",
       "      <th>parque</th>\n",
       "      <th>Vendida</th>\n",
       "    </tr>\n",
       "  </thead>\n",
       "  <tbody>\n",
       "    <tr>\n",
       "      <th>count</th>\n",
       "      <td>506.000000</td>\n",
       "      <td>506.000000</td>\n",
       "      <td>506.000000</td>\n",
       "      <td>506.000000</td>\n",
       "      <td>506.000000</td>\n",
       "      <td>506.000000</td>\n",
       "      <td>506.000000</td>\n",
       "      <td>506.000000</td>\n",
       "      <td>506.000000</td>\n",
       "      <td>506.000000</td>\n",
       "      <td>506.000000</td>\n",
       "      <td>498.000000</td>\n",
       "      <td>506.000000</td>\n",
       "      <td>506.000000</td>\n",
       "      <td>506.000000</td>\n",
       "      <td>506.000000</td>\n",
       "    </tr>\n",
       "    <tr>\n",
       "      <th>mean</th>\n",
       "      <td>22.528854</td>\n",
       "      <td>41.136779</td>\n",
       "      <td>0.554695</td>\n",
       "      <td>6.284634</td>\n",
       "      <td>68.574901</td>\n",
       "      <td>3.971996</td>\n",
       "      <td>3.628775</td>\n",
       "      <td>3.960672</td>\n",
       "      <td>3.618972</td>\n",
       "      <td>21.544466</td>\n",
       "      <td>12.653063</td>\n",
       "      <td>7.899767</td>\n",
       "      <td>12.864050</td>\n",
       "      <td>39.187747</td>\n",
       "      <td>0.054454</td>\n",
       "      <td>0.454545</td>\n",
       "    </tr>\n",
       "    <tr>\n",
       "      <th>std</th>\n",
       "      <td>9.182176</td>\n",
       "      <td>6.860353</td>\n",
       "      <td>0.115878</td>\n",
       "      <td>0.702617</td>\n",
       "      <td>28.148861</td>\n",
       "      <td>2.108532</td>\n",
       "      <td>2.108580</td>\n",
       "      <td>2.119797</td>\n",
       "      <td>2.099203</td>\n",
       "      <td>2.164946</td>\n",
       "      <td>7.141062</td>\n",
       "      <td>1.476683</td>\n",
       "      <td>2.688778</td>\n",
       "      <td>12.497221</td>\n",
       "      <td>0.010632</td>\n",
       "      <td>0.498422</td>\n",
       "    </tr>\n",
       "    <tr>\n",
       "      <th>min</th>\n",
       "      <td>5.000000</td>\n",
       "      <td>30.460000</td>\n",
       "      <td>0.385000</td>\n",
       "      <td>3.561000</td>\n",
       "      <td>2.900000</td>\n",
       "      <td>1.130000</td>\n",
       "      <td>0.920000</td>\n",
       "      <td>1.150000</td>\n",
       "      <td>0.730000</td>\n",
       "      <td>18.000000</td>\n",
       "      <td>1.730000</td>\n",
       "      <td>5.268000</td>\n",
       "      <td>10.057600</td>\n",
       "      <td>6.000000</td>\n",
       "      <td>0.033292</td>\n",
       "      <td>0.000000</td>\n",
       "    </tr>\n",
       "    <tr>\n",
       "      <th>25%</th>\n",
       "      <td>17.025000</td>\n",
       "      <td>35.190000</td>\n",
       "      <td>0.449000</td>\n",
       "      <td>5.885500</td>\n",
       "      <td>45.025000</td>\n",
       "      <td>2.270000</td>\n",
       "      <td>1.940000</td>\n",
       "      <td>2.232500</td>\n",
       "      <td>1.940000</td>\n",
       "      <td>19.800000</td>\n",
       "      <td>6.950000</td>\n",
       "      <td>6.634500</td>\n",
       "      <td>11.189800</td>\n",
       "      <td>28.000000</td>\n",
       "      <td>0.046464</td>\n",
       "      <td>0.000000</td>\n",
       "    </tr>\n",
       "    <tr>\n",
       "      <th>50%</th>\n",
       "      <td>21.200000</td>\n",
       "      <td>39.690000</td>\n",
       "      <td>0.538000</td>\n",
       "      <td>6.208500</td>\n",
       "      <td>77.500000</td>\n",
       "      <td>3.385000</td>\n",
       "      <td>3.010000</td>\n",
       "      <td>3.375000</td>\n",
       "      <td>3.070000</td>\n",
       "      <td>20.950000</td>\n",
       "      <td>11.360000</td>\n",
       "      <td>7.999000</td>\n",
       "      <td>12.720000</td>\n",
       "      <td>39.000000</td>\n",
       "      <td>0.053507</td>\n",
       "      <td>0.000000</td>\n",
       "    </tr>\n",
       "    <tr>\n",
       "      <th>75%</th>\n",
       "      <td>25.000000</td>\n",
       "      <td>48.100000</td>\n",
       "      <td>0.624000</td>\n",
       "      <td>6.623500</td>\n",
       "      <td>94.075000</td>\n",
       "      <td>5.367500</td>\n",
       "      <td>4.992500</td>\n",
       "      <td>5.407500</td>\n",
       "      <td>4.985000</td>\n",
       "      <td>22.600000</td>\n",
       "      <td>16.955000</td>\n",
       "      <td>9.088000</td>\n",
       "      <td>14.170800</td>\n",
       "      <td>50.000000</td>\n",
       "      <td>0.061397</td>\n",
       "      <td>1.000000</td>\n",
       "    </tr>\n",
       "    <tr>\n",
       "      <th>max</th>\n",
       "      <td>50.000000</td>\n",
       "      <td>57.740000</td>\n",
       "      <td>0.871000</td>\n",
       "      <td>8.780000</td>\n",
       "      <td>100.000000</td>\n",
       "      <td>12.320000</td>\n",
       "      <td>11.930000</td>\n",
       "      <td>12.320000</td>\n",
       "      <td>11.940000</td>\n",
       "      <td>27.400000</td>\n",
       "      <td>37.970000</td>\n",
       "      <td>10.876000</td>\n",
       "      <td>46.198560</td>\n",
       "      <td>60.000000</td>\n",
       "      <td>0.086711</td>\n",
       "      <td>1.000000</td>\n",
       "    </tr>\n",
       "  </tbody>\n",
       "</table>\n",
       "</div>"
      ],
      "text/plain": [
       "           precio  area_resid    cal_aire     num_hab        edad       dist1  \\\n",
       "count  506.000000  506.000000  506.000000  506.000000  506.000000  506.000000   \n",
       "mean    22.528854   41.136779    0.554695    6.284634   68.574901    3.971996   \n",
       "std      9.182176    6.860353    0.115878    0.702617   28.148861    2.108532   \n",
       "min      5.000000   30.460000    0.385000    3.561000    2.900000    1.130000   \n",
       "25%     17.025000   35.190000    0.449000    5.885500   45.025000    2.270000   \n",
       "50%     21.200000   39.690000    0.538000    6.208500   77.500000    3.385000   \n",
       "75%     25.000000   48.100000    0.624000    6.623500   94.075000    5.367500   \n",
       "max     50.000000   57.740000    0.871000    8.780000  100.000000   12.320000   \n",
       "\n",
       "            dist2       dist3       dist4    prof_mil   p-pobreza   n_cam_hos  \\\n",
       "count  506.000000  506.000000  506.000000  506.000000  506.000000  498.000000   \n",
       "mean     3.628775    3.960672    3.618972   21.544466   12.653063    7.899767   \n",
       "std      2.108580    2.119797    2.099203    2.164946    7.141062    1.476683   \n",
       "min      0.920000    1.150000    0.730000   18.000000    1.730000    5.268000   \n",
       "25%      1.940000    2.232500    1.940000   19.800000    6.950000    6.634500   \n",
       "50%      3.010000    3.375000    3.070000   20.950000   11.360000    7.999000   \n",
       "75%      4.992500    5.407500    4.985000   22.600000   16.955000    9.088000   \n",
       "max     11.930000   12.320000   11.940000   27.400000   37.970000   10.876000   \n",
       "\n",
       "       n_hab_hotel  lluvia_ano      parque     Vendida  \n",
       "count   506.000000  506.000000  506.000000  506.000000  \n",
       "mean     12.864050   39.187747    0.054454    0.454545  \n",
       "std       2.688778   12.497221    0.010632    0.498422  \n",
       "min      10.057600    6.000000    0.033292    0.000000  \n",
       "25%      11.189800   28.000000    0.046464    0.000000  \n",
       "50%      12.720000   39.000000    0.053507    0.000000  \n",
       "75%      14.170800   50.000000    0.061397    1.000000  \n",
       "max      46.198560   60.000000    0.086711    1.000000  "
      ]
     },
     "execution_count": 24,
     "metadata": {},
     "output_type": "execute_result"
    }
   ],
   "source": [
    "df.describe()"
   ]
  },
  {
   "cell_type": "code",
   "execution_count": 25,
   "id": "431300af-3780-4560-8be3-9ac8c2fdbc26",
   "metadata": {},
   "outputs": [],
   "source": [
    "df.n_cam_hos = df.n_cam_hos.fillna(df.n_cam_hos.mean())"
   ]
  },
  {
   "cell_type": "code",
   "execution_count": 26,
   "id": "b8232bde-d72c-4381-b12b-6a8a8b9b54c2",
   "metadata": {},
   "outputs": [
    {
     "name": "stdout",
     "output_type": "stream",
     "text": [
      "<class 'pandas.core.frame.DataFrame'>\n",
      "RangeIndex: 506 entries, 0 to 505\n",
      "Data columns (total 19 columns):\n",
      " #   Column       Non-Null Count  Dtype  \n",
      "---  ------       --------------  -----  \n",
      " 0   precio       506 non-null    float64\n",
      " 1   area_resid   506 non-null    float64\n",
      " 2   cal_aire     506 non-null    float64\n",
      " 3   num_hab      506 non-null    float64\n",
      " 4   edad         506 non-null    float64\n",
      " 5   dist1        506 non-null    float64\n",
      " 6   dist2        506 non-null    float64\n",
      " 7   dist3        506 non-null    float64\n",
      " 8   dist4        506 non-null    float64\n",
      " 9   prof_mil     506 non-null    float64\n",
      " 10  p-pobreza    506 non-null    float64\n",
      " 11  aeropuerto   506 non-null    object \n",
      " 12  n_cam_hos    506 non-null    float64\n",
      " 13  n_hab_hotel  506 non-null    float64\n",
      " 14  cuerpo_agua  506 non-null    object \n",
      " 15  lluvia_ano   506 non-null    int64  \n",
      " 16  ter_bus      506 non-null    object \n",
      " 17  parque       506 non-null    float64\n",
      " 18  Vendida      506 non-null    int64  \n",
      "dtypes: float64(14), int64(2), object(3)\n",
      "memory usage: 75.2+ KB\n"
     ]
    }
   ],
   "source": [
    "df.info()"
   ]
  },
  {
   "cell_type": "code",
   "execution_count": 27,
   "id": "2dd2cf44-d94e-466a-b81d-82b7a11a3eaf",
   "metadata": {},
   "outputs": [],
   "source": [
    "df['prom_dist'] = (df.dist1 + df.dist2 + df.dist3 + df.dist4) / 4"
   ]
  },
  {
   "cell_type": "code",
   "execution_count": 28,
   "id": "de9d2b18-de7f-43d7-86e5-15d771dda065",
   "metadata": {},
   "outputs": [],
   "source": [
    "del df['dist1']"
   ]
  },
  {
   "cell_type": "code",
   "execution_count": 29,
   "id": "cc7d148d-905a-4216-9d45-a1fe21b809a9",
   "metadata": {},
   "outputs": [],
   "source": [
    "del df['dist2']"
   ]
  },
  {
   "cell_type": "code",
   "execution_count": 30,
   "id": "a221e8ef-628d-4ccf-93e5-abf8cde79571",
   "metadata": {},
   "outputs": [],
   "source": [
    "del df['dist3']"
   ]
  },
  {
   "cell_type": "code",
   "execution_count": 31,
   "id": "b4ae2725-eca3-44e0-b34e-853c86e1ab7a",
   "metadata": {},
   "outputs": [],
   "source": [
    "del df['dist4']"
   ]
  },
  {
   "cell_type": "code",
   "execution_count": 32,
   "id": "8c36e480-9750-4afa-933d-d75d5f10140a",
   "metadata": {},
   "outputs": [],
   "source": [
    "del df['ter_bus']"
   ]
  },
  {
   "cell_type": "code",
   "execution_count": 33,
   "id": "ece3058d-cec9-417a-91d7-087441646fca",
   "metadata": {},
   "outputs": [],
   "source": [
    "df = pd.get_dummies(df)"
   ]
  },
  {
   "cell_type": "code",
   "execution_count": 34,
   "id": "ac43f826-630e-4ca9-b273-3b9b0e8bbd2d",
   "metadata": {},
   "outputs": [
    {
     "data": {
      "text/html": [
       "<div>\n",
       "<style scoped>\n",
       "    .dataframe tbody tr th:only-of-type {\n",
       "        vertical-align: middle;\n",
       "    }\n",
       "\n",
       "    .dataframe tbody tr th {\n",
       "        vertical-align: top;\n",
       "    }\n",
       "\n",
       "    .dataframe thead th {\n",
       "        text-align: right;\n",
       "    }\n",
       "</style>\n",
       "<table border=\"1\" class=\"dataframe\">\n",
       "  <thead>\n",
       "    <tr style=\"text-align: right;\">\n",
       "      <th></th>\n",
       "      <th>precio</th>\n",
       "      <th>area_resid</th>\n",
       "      <th>cal_aire</th>\n",
       "      <th>num_hab</th>\n",
       "      <th>edad</th>\n",
       "      <th>prof_mil</th>\n",
       "      <th>p-pobreza</th>\n",
       "      <th>n_cam_hos</th>\n",
       "      <th>n_hab_hotel</th>\n",
       "      <th>lluvia_ano</th>\n",
       "      <th>parque</th>\n",
       "      <th>Vendida</th>\n",
       "      <th>prom_dist</th>\n",
       "      <th>aeropuerto_NO</th>\n",
       "      <th>aeropuerto_SI</th>\n",
       "      <th>cuerpo_agua_Lago</th>\n",
       "      <th>cuerpo_agua_Lago y rio</th>\n",
       "      <th>cuerpo_agua_Ninguno</th>\n",
       "      <th>cuerpo_agua_Rio</th>\n",
       "    </tr>\n",
       "  </thead>\n",
       "  <tbody>\n",
       "    <tr>\n",
       "      <th>0</th>\n",
       "      <td>24.0</td>\n",
       "      <td>32.31</td>\n",
       "      <td>0.538</td>\n",
       "      <td>6.575</td>\n",
       "      <td>65.2</td>\n",
       "      <td>24.7</td>\n",
       "      <td>4.98</td>\n",
       "      <td>5.480</td>\n",
       "      <td>11.19200</td>\n",
       "      <td>23</td>\n",
       "      <td>0.049347</td>\n",
       "      <td>0</td>\n",
       "      <td>4.0875</td>\n",
       "      <td>0</td>\n",
       "      <td>1</td>\n",
       "      <td>0</td>\n",
       "      <td>0</td>\n",
       "      <td>0</td>\n",
       "      <td>1</td>\n",
       "    </tr>\n",
       "    <tr>\n",
       "      <th>1</th>\n",
       "      <td>21.6</td>\n",
       "      <td>37.07</td>\n",
       "      <td>0.469</td>\n",
       "      <td>6.421</td>\n",
       "      <td>78.9</td>\n",
       "      <td>22.2</td>\n",
       "      <td>9.14</td>\n",
       "      <td>7.332</td>\n",
       "      <td>12.17280</td>\n",
       "      <td>42</td>\n",
       "      <td>0.046146</td>\n",
       "      <td>1</td>\n",
       "      <td>4.9675</td>\n",
       "      <td>1</td>\n",
       "      <td>0</td>\n",
       "      <td>1</td>\n",
       "      <td>0</td>\n",
       "      <td>0</td>\n",
       "      <td>0</td>\n",
       "    </tr>\n",
       "    <tr>\n",
       "      <th>2</th>\n",
       "      <td>34.7</td>\n",
       "      <td>37.07</td>\n",
       "      <td>0.469</td>\n",
       "      <td>7.185</td>\n",
       "      <td>61.1</td>\n",
       "      <td>22.2</td>\n",
       "      <td>4.03</td>\n",
       "      <td>7.394</td>\n",
       "      <td>46.19856</td>\n",
       "      <td>38</td>\n",
       "      <td>0.045764</td>\n",
       "      <td>0</td>\n",
       "      <td>4.9675</td>\n",
       "      <td>1</td>\n",
       "      <td>0</td>\n",
       "      <td>0</td>\n",
       "      <td>0</td>\n",
       "      <td>1</td>\n",
       "      <td>0</td>\n",
       "    </tr>\n",
       "    <tr>\n",
       "      <th>3</th>\n",
       "      <td>33.4</td>\n",
       "      <td>32.18</td>\n",
       "      <td>0.458</td>\n",
       "      <td>6.998</td>\n",
       "      <td>45.8</td>\n",
       "      <td>21.3</td>\n",
       "      <td>2.94</td>\n",
       "      <td>9.268</td>\n",
       "      <td>11.26720</td>\n",
       "      <td>45</td>\n",
       "      <td>0.047151</td>\n",
       "      <td>0</td>\n",
       "      <td>6.0650</td>\n",
       "      <td>0</td>\n",
       "      <td>1</td>\n",
       "      <td>1</td>\n",
       "      <td>0</td>\n",
       "      <td>0</td>\n",
       "      <td>0</td>\n",
       "    </tr>\n",
       "    <tr>\n",
       "      <th>4</th>\n",
       "      <td>36.2</td>\n",
       "      <td>32.18</td>\n",
       "      <td>0.458</td>\n",
       "      <td>7.147</td>\n",
       "      <td>54.2</td>\n",
       "      <td>21.3</td>\n",
       "      <td>5.33</td>\n",
       "      <td>8.824</td>\n",
       "      <td>11.28960</td>\n",
       "      <td>55</td>\n",
       "      <td>0.039474</td>\n",
       "      <td>0</td>\n",
       "      <td>6.0625</td>\n",
       "      <td>1</td>\n",
       "      <td>0</td>\n",
       "      <td>1</td>\n",
       "      <td>0</td>\n",
       "      <td>0</td>\n",
       "      <td>0</td>\n",
       "    </tr>\n",
       "  </tbody>\n",
       "</table>\n",
       "</div>"
      ],
      "text/plain": [
       "   precio  area_resid  cal_aire  num_hab  edad  prof_mil  p-pobreza  \\\n",
       "0    24.0       32.31     0.538    6.575  65.2      24.7       4.98   \n",
       "1    21.6       37.07     0.469    6.421  78.9      22.2       9.14   \n",
       "2    34.7       37.07     0.469    7.185  61.1      22.2       4.03   \n",
       "3    33.4       32.18     0.458    6.998  45.8      21.3       2.94   \n",
       "4    36.2       32.18     0.458    7.147  54.2      21.3       5.33   \n",
       "\n",
       "   n_cam_hos  n_hab_hotel  lluvia_ano    parque  Vendida  prom_dist  \\\n",
       "0      5.480     11.19200          23  0.049347        0     4.0875   \n",
       "1      7.332     12.17280          42  0.046146        1     4.9675   \n",
       "2      7.394     46.19856          38  0.045764        0     4.9675   \n",
       "3      9.268     11.26720          45  0.047151        0     6.0650   \n",
       "4      8.824     11.28960          55  0.039474        0     6.0625   \n",
       "\n",
       "   aeropuerto_NO  aeropuerto_SI  cuerpo_agua_Lago  cuerpo_agua_Lago y rio  \\\n",
       "0              0              1                 0                       0   \n",
       "1              1              0                 1                       0   \n",
       "2              1              0                 0                       0   \n",
       "3              0              1                 1                       0   \n",
       "4              1              0                 1                       0   \n",
       "\n",
       "   cuerpo_agua_Ninguno  cuerpo_agua_Rio  \n",
       "0                    0                1  \n",
       "1                    0                0  \n",
       "2                    1                0  \n",
       "3                    0                0  \n",
       "4                    0                0  "
      ]
     },
     "execution_count": 34,
     "metadata": {},
     "output_type": "execute_result"
    }
   ],
   "source": [
    "df.head()"
   ]
  },
  {
   "cell_type": "code",
   "execution_count": 35,
   "id": "3c0c5de4-181c-417b-b2cf-5a98d8bdc46f",
   "metadata": {},
   "outputs": [],
   "source": [
    "del df['aeropuerto_NO']"
   ]
  },
  {
   "cell_type": "code",
   "execution_count": 36,
   "id": "632bdf05-8991-4184-a522-49e280f63e16",
   "metadata": {},
   "outputs": [],
   "source": [
    "del df['cuerpo_agua_Ninguno']"
   ]
  },
  {
   "cell_type": "code",
   "execution_count": 37,
   "id": "d5a5906c-d253-403e-9a88-af092a7bff84",
   "metadata": {},
   "outputs": [
    {
     "data": {
      "text/html": [
       "<div>\n",
       "<style scoped>\n",
       "    .dataframe tbody tr th:only-of-type {\n",
       "        vertical-align: middle;\n",
       "    }\n",
       "\n",
       "    .dataframe tbody tr th {\n",
       "        vertical-align: top;\n",
       "    }\n",
       "\n",
       "    .dataframe thead th {\n",
       "        text-align: right;\n",
       "    }\n",
       "</style>\n",
       "<table border=\"1\" class=\"dataframe\">\n",
       "  <thead>\n",
       "    <tr style=\"text-align: right;\">\n",
       "      <th></th>\n",
       "      <th>precio</th>\n",
       "      <th>area_resid</th>\n",
       "      <th>cal_aire</th>\n",
       "      <th>num_hab</th>\n",
       "      <th>edad</th>\n",
       "      <th>prof_mil</th>\n",
       "      <th>p-pobreza</th>\n",
       "      <th>n_cam_hos</th>\n",
       "      <th>n_hab_hotel</th>\n",
       "      <th>lluvia_ano</th>\n",
       "      <th>parque</th>\n",
       "      <th>Vendida</th>\n",
       "      <th>prom_dist</th>\n",
       "      <th>aeropuerto_SI</th>\n",
       "      <th>cuerpo_agua_Lago</th>\n",
       "      <th>cuerpo_agua_Lago y rio</th>\n",
       "      <th>cuerpo_agua_Rio</th>\n",
       "    </tr>\n",
       "  </thead>\n",
       "  <tbody>\n",
       "    <tr>\n",
       "      <th>0</th>\n",
       "      <td>24.0</td>\n",
       "      <td>32.31</td>\n",
       "      <td>0.538</td>\n",
       "      <td>6.575</td>\n",
       "      <td>65.2</td>\n",
       "      <td>24.7</td>\n",
       "      <td>4.98</td>\n",
       "      <td>5.480</td>\n",
       "      <td>11.19200</td>\n",
       "      <td>23</td>\n",
       "      <td>0.049347</td>\n",
       "      <td>0</td>\n",
       "      <td>4.0875</td>\n",
       "      <td>1</td>\n",
       "      <td>0</td>\n",
       "      <td>0</td>\n",
       "      <td>1</td>\n",
       "    </tr>\n",
       "    <tr>\n",
       "      <th>1</th>\n",
       "      <td>21.6</td>\n",
       "      <td>37.07</td>\n",
       "      <td>0.469</td>\n",
       "      <td>6.421</td>\n",
       "      <td>78.9</td>\n",
       "      <td>22.2</td>\n",
       "      <td>9.14</td>\n",
       "      <td>7.332</td>\n",
       "      <td>12.17280</td>\n",
       "      <td>42</td>\n",
       "      <td>0.046146</td>\n",
       "      <td>1</td>\n",
       "      <td>4.9675</td>\n",
       "      <td>0</td>\n",
       "      <td>1</td>\n",
       "      <td>0</td>\n",
       "      <td>0</td>\n",
       "    </tr>\n",
       "    <tr>\n",
       "      <th>2</th>\n",
       "      <td>34.7</td>\n",
       "      <td>37.07</td>\n",
       "      <td>0.469</td>\n",
       "      <td>7.185</td>\n",
       "      <td>61.1</td>\n",
       "      <td>22.2</td>\n",
       "      <td>4.03</td>\n",
       "      <td>7.394</td>\n",
       "      <td>46.19856</td>\n",
       "      <td>38</td>\n",
       "      <td>0.045764</td>\n",
       "      <td>0</td>\n",
       "      <td>4.9675</td>\n",
       "      <td>0</td>\n",
       "      <td>0</td>\n",
       "      <td>0</td>\n",
       "      <td>0</td>\n",
       "    </tr>\n",
       "    <tr>\n",
       "      <th>3</th>\n",
       "      <td>33.4</td>\n",
       "      <td>32.18</td>\n",
       "      <td>0.458</td>\n",
       "      <td>6.998</td>\n",
       "      <td>45.8</td>\n",
       "      <td>21.3</td>\n",
       "      <td>2.94</td>\n",
       "      <td>9.268</td>\n",
       "      <td>11.26720</td>\n",
       "      <td>45</td>\n",
       "      <td>0.047151</td>\n",
       "      <td>0</td>\n",
       "      <td>6.0650</td>\n",
       "      <td>1</td>\n",
       "      <td>1</td>\n",
       "      <td>0</td>\n",
       "      <td>0</td>\n",
       "    </tr>\n",
       "    <tr>\n",
       "      <th>4</th>\n",
       "      <td>36.2</td>\n",
       "      <td>32.18</td>\n",
       "      <td>0.458</td>\n",
       "      <td>7.147</td>\n",
       "      <td>54.2</td>\n",
       "      <td>21.3</td>\n",
       "      <td>5.33</td>\n",
       "      <td>8.824</td>\n",
       "      <td>11.28960</td>\n",
       "      <td>55</td>\n",
       "      <td>0.039474</td>\n",
       "      <td>0</td>\n",
       "      <td>6.0625</td>\n",
       "      <td>0</td>\n",
       "      <td>1</td>\n",
       "      <td>0</td>\n",
       "      <td>0</td>\n",
       "    </tr>\n",
       "  </tbody>\n",
       "</table>\n",
       "</div>"
      ],
      "text/plain": [
       "   precio  area_resid  cal_aire  num_hab  edad  prof_mil  p-pobreza  \\\n",
       "0    24.0       32.31     0.538    6.575  65.2      24.7       4.98   \n",
       "1    21.6       37.07     0.469    6.421  78.9      22.2       9.14   \n",
       "2    34.7       37.07     0.469    7.185  61.1      22.2       4.03   \n",
       "3    33.4       32.18     0.458    6.998  45.8      21.3       2.94   \n",
       "4    36.2       32.18     0.458    7.147  54.2      21.3       5.33   \n",
       "\n",
       "   n_cam_hos  n_hab_hotel  lluvia_ano    parque  Vendida  prom_dist  \\\n",
       "0      5.480     11.19200          23  0.049347        0     4.0875   \n",
       "1      7.332     12.17280          42  0.046146        1     4.9675   \n",
       "2      7.394     46.19856          38  0.045764        0     4.9675   \n",
       "3      9.268     11.26720          45  0.047151        0     6.0650   \n",
       "4      8.824     11.28960          55  0.039474        0     6.0625   \n",
       "\n",
       "   aeropuerto_SI  cuerpo_agua_Lago  cuerpo_agua_Lago y rio  cuerpo_agua_Rio  \n",
       "0              1                 0                       0                1  \n",
       "1              0                 1                       0                0  \n",
       "2              0                 0                       0                0  \n",
       "3              1                 1                       0                0  \n",
       "4              0                 1                       0                0  "
      ]
     },
     "execution_count": 37,
     "metadata": {},
     "output_type": "execute_result"
    }
   ],
   "source": [
    "df.head()"
   ]
  },
  {
   "cell_type": "code",
   "execution_count": 38,
   "id": "0f10920f-69fb-48cf-aa3c-90959907f241",
   "metadata": {},
   "outputs": [],
   "source": [
    "df.to_csv('DataReg.csv', header = True, index = False)"
   ]
  },
  {
   "cell_type": "markdown",
   "id": "734c548f-ea4d-44e2-8830-f96a2ccc83f0",
   "metadata": {},
   "source": [
    "## Regresión logística simple\n",
    "Dado que la función lineal no se puede ajustar a variables catagóricas binarias (0, 1), se hace necesario utilizar la función sigmoide $\\sigma(y)$:\n",
    "\n",
    "$\\large{\\sigma(y)=\\frac{1}{1+e^{-y}}}$\n",
    "\n",
    "Probabilidad de $y$ dado $X$:\n",
    "\n",
    "$\\large{P(y=1|X=x)=\\frac{e^{\\theta_{0}+\\theta_{1}x_{1}+\\theta_{2}x_{2}+\\theta_{3}x_{3}+...+\\theta_{p}x_{p}}}{1+e^{-(\\theta_{0}+\\theta_{1}x_{1}+\\theta_{2}x_{2}+\\theta_{3}x_{3}+...+\\theta_{p}x_{p})}}}$\n",
    "\n",
    "La regresión logística calcula los logaritmos de las probabilidades de cada variable para transformarlas en 0 o 1, usando un umbral de decisión."
   ]
  },
  {
   "cell_type": "code",
   "execution_count": 39,
   "id": "3d322b64-4c65-45f2-af22-4db2bb4515a2",
   "metadata": {},
   "outputs": [],
   "source": [
    "# Se utiliza doble corchete porque para el modelo X debe ser un dataframe y por defecto una sola columna es un\n",
    "# tipo de dato Serie\n",
    "X = df[['precio']]"
   ]
  },
  {
   "cell_type": "code",
   "execution_count": 40,
   "id": "d543cdac-db0a-4abf-8169-cc836294dbe6",
   "metadata": {},
   "outputs": [
    {
     "data": {
      "text/html": [
       "<div>\n",
       "<style scoped>\n",
       "    .dataframe tbody tr th:only-of-type {\n",
       "        vertical-align: middle;\n",
       "    }\n",
       "\n",
       "    .dataframe tbody tr th {\n",
       "        vertical-align: top;\n",
       "    }\n",
       "\n",
       "    .dataframe thead th {\n",
       "        text-align: right;\n",
       "    }\n",
       "</style>\n",
       "<table border=\"1\" class=\"dataframe\">\n",
       "  <thead>\n",
       "    <tr style=\"text-align: right;\">\n",
       "      <th></th>\n",
       "      <th>precio</th>\n",
       "    </tr>\n",
       "  </thead>\n",
       "  <tbody>\n",
       "    <tr>\n",
       "      <th>0</th>\n",
       "      <td>24.0</td>\n",
       "    </tr>\n",
       "    <tr>\n",
       "      <th>1</th>\n",
       "      <td>21.6</td>\n",
       "    </tr>\n",
       "    <tr>\n",
       "      <th>2</th>\n",
       "      <td>34.7</td>\n",
       "    </tr>\n",
       "    <tr>\n",
       "      <th>3</th>\n",
       "      <td>33.4</td>\n",
       "    </tr>\n",
       "    <tr>\n",
       "      <th>4</th>\n",
       "      <td>36.2</td>\n",
       "    </tr>\n",
       "  </tbody>\n",
       "</table>\n",
       "</div>"
      ],
      "text/plain": [
       "   precio\n",
       "0    24.0\n",
       "1    21.6\n",
       "2    34.7\n",
       "3    33.4\n",
       "4    36.2"
      ]
     },
     "execution_count": 40,
     "metadata": {},
     "output_type": "execute_result"
    }
   ],
   "source": [
    "X.head()"
   ]
  },
  {
   "cell_type": "code",
   "execution_count": 41,
   "id": "3fad312a-b62f-4072-aa72-1c6bded38d8c",
   "metadata": {},
   "outputs": [],
   "source": [
    "# El modelo requiere la variable predicha como una serie, por eso no se aplican dobles corchetes\n",
    "y = df['Vendida']"
   ]
  },
  {
   "cell_type": "code",
   "execution_count": 42,
   "id": "a71df1e1-9db5-4f20-80ea-a3b4cc3b0bf9",
   "metadata": {},
   "outputs": [
    {
     "data": {
      "text/plain": [
       "0    0\n",
       "1    1\n",
       "2    0\n",
       "3    0\n",
       "4    0\n",
       "Name: Vendida, dtype: int64"
      ]
     },
     "execution_count": 42,
     "metadata": {},
     "output_type": "execute_result"
    }
   ],
   "source": [
    "y.head()"
   ]
  },
  {
   "cell_type": "code",
   "execution_count": 43,
   "id": "f1c27c92-bebe-43c9-a72f-13b3ceb6e56d",
   "metadata": {},
   "outputs": [],
   "source": [
    "from sklearn.linear_model import LogisticRegression\n",
    "#from sklearn.metrics import accuracy_score, precision_score, confusion_matrix"
   ]
  },
  {
   "cell_type": "code",
   "execution_count": 44,
   "id": "def3ebe6-5d6d-4db2-8c31-9b59d594aca5",
   "metadata": {},
   "outputs": [],
   "source": [
    "# Crear modelo de regresión logística\n",
    "reg_log_simple = LogisticRegression()"
   ]
  },
  {
   "cell_type": "code",
   "execution_count": 45,
   "id": "cb728019-1fa1-4470-9235-2fe96f8ddbcc",
   "metadata": {},
   "outputs": [
    {
     "data": {
      "text/plain": [
       "LogisticRegression()"
      ]
     },
     "execution_count": 45,
     "metadata": {},
     "output_type": "execute_result"
    }
   ],
   "source": [
    "# Entrenar el modelo\n",
    "reg_log_simple.fit(X, y)"
   ]
  },
  {
   "cell_type": "code",
   "execution_count": 46,
   "id": "7cabf861-8e41-47fb-8211-9007d3a8e447",
   "metadata": {},
   "outputs": [
    {
     "data": {
      "text/plain": [
       "array([[-0.03571865]])"
      ]
     },
     "execution_count": 46,
     "metadata": {},
     "output_type": "execute_result"
    }
   ],
   "source": [
    "# Obener el valor de theta(1)\n",
    "reg_log_simple.coef_"
   ]
  },
  {
   "cell_type": "code",
   "execution_count": 47,
   "id": "88521bff-195b-429c-ac12-65086f7d3ce9",
   "metadata": {},
   "outputs": [
    {
     "data": {
      "text/plain": [
       "array([0.61477516])"
      ]
     },
     "execution_count": 47,
     "metadata": {},
     "output_type": "execute_result"
    }
   ],
   "source": [
    "# Obtener el valor de theta(0)\n",
    "reg_log_simple.intercept_"
   ]
  },
  {
   "cell_type": "code",
   "execution_count": 48,
   "id": "2c2302f2-1c14-4b20-822a-fd7f9c15f0f2",
   "metadata": {},
   "outputs": [],
   "source": [
    "# Importar el modulo statsmodel para poder crear la constante que requiere el modelo Logit\n",
    "import statsmodels.api as sn"
   ]
  },
  {
   "cell_type": "code",
   "execution_count": 49,
   "id": "99302e8c-af47-4bd5-914d-0851dc93c8b2",
   "metadata": {},
   "outputs": [],
   "source": [
    "const_X = sn.add_constant(X)"
   ]
  },
  {
   "cell_type": "code",
   "execution_count": 50,
   "id": "2f91d4ab-93dd-4cf4-97c7-ee1da347ca4c",
   "metadata": {},
   "outputs": [
    {
     "data": {
      "text/html": [
       "<div>\n",
       "<style scoped>\n",
       "    .dataframe tbody tr th:only-of-type {\n",
       "        vertical-align: middle;\n",
       "    }\n",
       "\n",
       "    .dataframe tbody tr th {\n",
       "        vertical-align: top;\n",
       "    }\n",
       "\n",
       "    .dataframe thead th {\n",
       "        text-align: right;\n",
       "    }\n",
       "</style>\n",
       "<table border=\"1\" class=\"dataframe\">\n",
       "  <thead>\n",
       "    <tr style=\"text-align: right;\">\n",
       "      <th></th>\n",
       "      <th>const</th>\n",
       "      <th>precio</th>\n",
       "    </tr>\n",
       "  </thead>\n",
       "  <tbody>\n",
       "    <tr>\n",
       "      <th>0</th>\n",
       "      <td>1.0</td>\n",
       "      <td>24.0</td>\n",
       "    </tr>\n",
       "    <tr>\n",
       "      <th>1</th>\n",
       "      <td>1.0</td>\n",
       "      <td>21.6</td>\n",
       "    </tr>\n",
       "    <tr>\n",
       "      <th>2</th>\n",
       "      <td>1.0</td>\n",
       "      <td>34.7</td>\n",
       "    </tr>\n",
       "    <tr>\n",
       "      <th>3</th>\n",
       "      <td>1.0</td>\n",
       "      <td>33.4</td>\n",
       "    </tr>\n",
       "    <tr>\n",
       "      <th>4</th>\n",
       "      <td>1.0</td>\n",
       "      <td>36.2</td>\n",
       "    </tr>\n",
       "    <tr>\n",
       "      <th>...</th>\n",
       "      <td>...</td>\n",
       "      <td>...</td>\n",
       "    </tr>\n",
       "    <tr>\n",
       "      <th>501</th>\n",
       "      <td>1.0</td>\n",
       "      <td>22.4</td>\n",
       "    </tr>\n",
       "    <tr>\n",
       "      <th>502</th>\n",
       "      <td>1.0</td>\n",
       "      <td>20.6</td>\n",
       "    </tr>\n",
       "    <tr>\n",
       "      <th>503</th>\n",
       "      <td>1.0</td>\n",
       "      <td>23.9</td>\n",
       "    </tr>\n",
       "    <tr>\n",
       "      <th>504</th>\n",
       "      <td>1.0</td>\n",
       "      <td>22.0</td>\n",
       "    </tr>\n",
       "    <tr>\n",
       "      <th>505</th>\n",
       "      <td>1.0</td>\n",
       "      <td>19.0</td>\n",
       "    </tr>\n",
       "  </tbody>\n",
       "</table>\n",
       "<p>506 rows × 2 columns</p>\n",
       "</div>"
      ],
      "text/plain": [
       "     const  precio\n",
       "0      1.0    24.0\n",
       "1      1.0    21.6\n",
       "2      1.0    34.7\n",
       "3      1.0    33.4\n",
       "4      1.0    36.2\n",
       "..     ...     ...\n",
       "501    1.0    22.4\n",
       "502    1.0    20.6\n",
       "503    1.0    23.9\n",
       "504    1.0    22.0\n",
       "505    1.0    19.0\n",
       "\n",
       "[506 rows x 2 columns]"
      ]
     },
     "execution_count": 50,
     "metadata": {},
     "output_type": "execute_result"
    }
   ],
   "source": [
    "const_X"
   ]
  },
  {
   "cell_type": "code",
   "execution_count": 51,
   "id": "046201b1-8176-4f0f-981e-0e78f07865d3",
   "metadata": {},
   "outputs": [],
   "source": [
    "# Importar el modulo para trabajar con variables discretas con Logit\n",
    "import statsmodels.discrete.discrete_model as sm"
   ]
  },
  {
   "cell_type": "code",
   "execution_count": 52,
   "id": "41837869-767e-45cd-be1e-a2863f31e98c",
   "metadata": {},
   "outputs": [
    {
     "name": "stdout",
     "output_type": "stream",
     "text": [
      "Optimization terminated successfully.\n",
      "         Current function value: 0.676690\n",
      "         Iterations 5\n"
     ]
    }
   ],
   "source": [
    "# Entrenar y ajustar el modelo a los datos de entrada\n",
    "logit = sm.Logit(y, const_X).fit()"
   ]
  },
  {
   "cell_type": "code",
   "execution_count": 53,
   "id": "c198284d-64a9-47dd-924b-f10092541adb",
   "metadata": {},
   "outputs": [
    {
     "data": {
      "text/html": [
       "<table class=\"simpletable\">\n",
       "<caption>Logit Regression Results</caption>\n",
       "<tr>\n",
       "  <th>Dep. Variable:</th>        <td>Vendida</td>     <th>  No. Observations:  </th>  <td>   506</td>  \n",
       "</tr>\n",
       "<tr>\n",
       "  <th>Model:</th>                 <td>Logit</td>      <th>  Df Residuals:      </th>  <td>   504</td>  \n",
       "</tr>\n",
       "<tr>\n",
       "  <th>Method:</th>                 <td>MLE</td>       <th>  Df Model:          </th>  <td>     1</td>  \n",
       "</tr>\n",
       "<tr>\n",
       "  <th>Date:</th>            <td>Wed, 28 Jul 2021</td> <th>  Pseudo R-squ.:     </th>  <td>0.01788</td> \n",
       "</tr>\n",
       "<tr>\n",
       "  <th>Time:</th>                <td>11:56:03</td>     <th>  Log-Likelihood:    </th> <td> -342.41</td> \n",
       "</tr>\n",
       "<tr>\n",
       "  <th>converged:</th>             <td>True</td>       <th>  LL-Null:           </th> <td> -348.64</td> \n",
       "</tr>\n",
       "<tr>\n",
       "  <th>Covariance Type:</th>     <td>nonrobust</td>    <th>  LLR p-value:       </th> <td>0.0004142</td>\n",
       "</tr>\n",
       "</table>\n",
       "<table class=\"simpletable\">\n",
       "<tr>\n",
       "     <td></td>       <th>coef</th>     <th>std err</th>      <th>z</th>      <th>P>|z|</th>  <th>[0.025</th>    <th>0.975]</th>  \n",
       "</tr>\n",
       "<tr>\n",
       "  <th>const</th>  <td>    0.6149</td> <td>    0.248</td> <td>    2.484</td> <td> 0.013</td> <td>    0.130</td> <td>    1.100</td>\n",
       "</tr>\n",
       "<tr>\n",
       "  <th>precio</th> <td>   -0.0357</td> <td>    0.010</td> <td>   -3.417</td> <td> 0.001</td> <td>   -0.056</td> <td>   -0.015</td>\n",
       "</tr>\n",
       "</table>"
      ],
      "text/plain": [
       "<class 'statsmodels.iolib.summary.Summary'>\n",
       "\"\"\"\n",
       "                           Logit Regression Results                           \n",
       "==============================================================================\n",
       "Dep. Variable:                Vendida   No. Observations:                  506\n",
       "Model:                          Logit   Df Residuals:                      504\n",
       "Method:                           MLE   Df Model:                            1\n",
       "Date:                Wed, 28 Jul 2021   Pseudo R-squ.:                 0.01788\n",
       "Time:                        11:56:03   Log-Likelihood:                -342.41\n",
       "converged:                       True   LL-Null:                       -348.64\n",
       "Covariance Type:            nonrobust   LLR p-value:                 0.0004142\n",
       "==============================================================================\n",
       "                 coef    std err          z      P>|z|      [0.025      0.975]\n",
       "------------------------------------------------------------------------------\n",
       "const          0.6149      0.248      2.484      0.013       0.130       1.100\n",
       "precio        -0.0357      0.010     -3.417      0.001      -0.056      -0.015\n",
       "==============================================================================\n",
       "\"\"\""
      ]
     },
     "execution_count": 53,
     "metadata": {},
     "output_type": "execute_result"
    }
   ],
   "source": [
    "# Obtener el resumen del modelo\n",
    "logit.summary() "
   ]
  },
  {
   "cell_type": "code",
   "execution_count": 81,
   "id": "e6ded4a9-5c81-4a9e-b52f-22f2c5462070",
   "metadata": {},
   "outputs": [
    {
     "data": {
      "text/plain": [
       "0.0"
      ]
     },
     "execution_count": 81,
     "metadata": {},
     "output_type": "execute_result"
    }
   ],
   "source": [
    "# Realizar una predicción de ejemplo\n",
    "np.floor(logit.predict([1,-300])[0])"
   ]
  },
  {
   "cell_type": "markdown",
   "id": "3c2d855b-72a5-4867-91a5-0b09afbc2e00",
   "metadata": {},
   "source": [
    "## Gráfica del modelo de regresión logística simple"
   ]
  },
  {
   "cell_type": "code",
   "execution_count": 66,
   "id": "4dc7a01e-f179-406c-aeda-e4333c6b2ba2",
   "metadata": {},
   "outputs": [],
   "source": [
    "# Crear los puntos necesarios de la variable predicha desarrollar la gráfica\n",
    "\n",
    "grilla_X = np.linspace(\n",
    "    start = -100, # min(df.precio),\n",
    "    stop = 100, # max(df.precio),\n",
    "    num = 500\n",
    ").reshape(-1,1)\n",
    "\n",
    "grilla_X = sn.add_constant(grilla_X, prepend = True) # Agregar la constante para poder desarrollar\n",
    "# la predicción por el modelo Logit\n",
    "prediccion = logit.predict(exog = grilla_X) # Hacer la predicción"
   ]
  },
  {
   "cell_type": "code",
   "execution_count": 84,
   "id": "66e6486f-ccad-4d77-8959-4d594a5babdb",
   "metadata": {},
   "outputs": [
    {
     "data": {
      "text/plain": [
       "(500, 2)"
      ]
     },
     "execution_count": 84,
     "metadata": {},
     "output_type": "execute_result"
    }
   ],
   "source": [
    "grilla_X.shape # El resultado es un vector de 500 x 2"
   ]
  },
  {
   "cell_type": "code",
   "execution_count": 67,
   "id": "c8e678d9-be35-4f5a-8e69-67309e9dc1d3",
   "metadata": {},
   "outputs": [
    {
     "data": {
      "text/plain": [
       "Text(0.5, 0, 'Precio de venta')"
      ]
     },
     "execution_count": 67,
     "metadata": {},
     "output_type": "execute_result"
    },
    {
     "data": {
      "image/png": "[encoded data removed]",
      "text/plain": [
       "<Figure size 720x432 with 1 Axes>"
      ]
     },
     "metadata": {
      "needs_background": "light"
     },
     "output_type": "display_data"
    }
   ],
   "source": [
    "fig, ax = plt.subplots(figsize=(10, 6))\n",
    "# Nube de puntos para cuando la propiedad es vendida\n",
    "ax.scatter(\n",
    "    x = df[['precio']][(y==1)].to_numpy().flatten(), y = df[['Vendida']][y==1].to_numpy().flatten()\n",
    ")\n",
    "# Nube de puntos para el caso en que la propiedad no es vendida\n",
    "ax.scatter(\n",
    "    x = df[['precio']][(y==0)].to_numpy().flatten(), y = df[['Vendida']][y==0].to_numpy().flatten()\n",
    ")\n",
    "\n",
    "ax.plot(grilla_X[:500, 1], prediccion, color = \"gray\") # Segunda columna de la grilla\n",
    "ax.set_title(\"Modelo regresión logística\")\n",
    "ax.set_ylabel(\"P(Vendida = 1 | precio)\")\n",
    "ax.set_xlabel(\"Precio de venta\")"
   ]
  },
  {
   "cell_type": "code",
   "execution_count": 91,
   "id": "2d21c98e-1231-4d7b-8610-8cacc7e18761",
   "metadata": {},
   "outputs": [
    {
     "data": {
      "text/plain": [
       "array([-100.        ,  -99.5991984 ,  -99.19839679,  -98.79759519,\n",
       "        -98.39679359,  -97.99599198,  -97.59519038,  -97.19438878,\n",
       "        -96.79358717,  -96.39278557,  -95.99198397,  -95.59118236,\n",
       "        -95.19038076,  -94.78957916,  -94.38877756,  -93.98797595,\n",
       "        -93.58717435,  -93.18637275,  -92.78557114,  -92.38476954,\n",
       "        -91.98396794,  -91.58316633,  -91.18236473,  -90.78156313,\n",
       "        -90.38076152,  -89.97995992,  -89.57915832,  -89.17835671,\n",
       "        -88.77755511,  -88.37675351,  -87.9759519 ,  -87.5751503 ,\n",
       "        -87.1743487 ,  -86.77354709,  -86.37274549,  -85.97194389,\n",
       "        -85.57114228,  -85.17034068,  -84.76953908,  -84.36873747,\n",
       "        -83.96793587,  -83.56713427,  -83.16633267,  -82.76553106,\n",
       "        -82.36472946,  -81.96392786,  -81.56312625,  -81.16232465,\n",
       "        -80.76152305,  -80.36072144,  -79.95991984,  -79.55911824,\n",
       "        -79.15831663,  -78.75751503,  -78.35671343,  -77.95591182,\n",
       "        -77.55511022,  -77.15430862,  -76.75350701,  -76.35270541,\n",
       "        -75.95190381,  -75.5511022 ,  -75.1503006 ,  -74.749499  ,\n",
       "        -74.34869739,  -73.94789579,  -73.54709419,  -73.14629259,\n",
       "        -72.74549098,  -72.34468938,  -71.94388778,  -71.54308617,\n",
       "        -71.14228457,  -70.74148297,  -70.34068136,  -69.93987976,\n",
       "        -69.53907816,  -69.13827655,  -68.73747495,  -68.33667335,\n",
       "        -67.93587174,  -67.53507014,  -67.13426854,  -66.73346693,\n",
       "        -66.33266533,  -65.93186373,  -65.53106212,  -65.13026052,\n",
       "        -64.72945892,  -64.32865731,  -63.92785571,  -63.52705411,\n",
       "        -63.12625251,  -62.7254509 ,  -62.3246493 ,  -61.9238477 ,\n",
       "        -61.52304609,  -61.12224449,  -60.72144289,  -60.32064128,\n",
       "        -59.91983968,  -59.51903808,  -59.11823647,  -58.71743487,\n",
       "        -58.31663327,  -57.91583166,  -57.51503006,  -57.11422846,\n",
       "        -56.71342685,  -56.31262525,  -55.91182365,  -55.51102204,\n",
       "        -55.11022044,  -54.70941884,  -54.30861723,  -53.90781563,\n",
       "        -53.50701403,  -53.10621242,  -52.70541082,  -52.30460922,\n",
       "        -51.90380762,  -51.50300601,  -51.10220441,  -50.70140281,\n",
       "        -50.3006012 ,  -49.8997996 ,  -49.498998  ,  -49.09819639,\n",
       "        -48.69739479,  -48.29659319,  -47.89579158,  -47.49498998,\n",
       "        -47.09418838,  -46.69338677,  -46.29258517,  -45.89178357,\n",
       "        -45.49098196,  -45.09018036,  -44.68937876,  -44.28857715,\n",
       "        -43.88777555,  -43.48697395,  -43.08617234,  -42.68537074,\n",
       "        -42.28456914,  -41.88376754,  -41.48296593,  -41.08216433,\n",
       "        -40.68136273,  -40.28056112,  -39.87975952,  -39.47895792,\n",
       "        -39.07815631,  -38.67735471,  -38.27655311,  -37.8757515 ,\n",
       "        -37.4749499 ,  -37.0741483 ,  -36.67334669,  -36.27254509,\n",
       "        -35.87174349,  -35.47094188,  -35.07014028,  -34.66933868,\n",
       "        -34.26853707,  -33.86773547,  -33.46693387,  -33.06613226,\n",
       "        -32.66533066,  -32.26452906,  -31.86372745,  -31.46292585,\n",
       "        -31.06212425,  -30.66132265,  -30.26052104,  -29.85971944,\n",
       "        -29.45891784,  -29.05811623,  -28.65731463,  -28.25651303,\n",
       "        -27.85571142,  -27.45490982,  -27.05410822,  -26.65330661,\n",
       "        -26.25250501,  -25.85170341,  -25.4509018 ,  -25.0501002 ,\n",
       "        -24.6492986 ,  -24.24849699,  -23.84769539,  -23.44689379,\n",
       "        -23.04609218,  -22.64529058,  -22.24448898,  -21.84368737,\n",
       "        -21.44288577,  -21.04208417,  -20.64128257,  -20.24048096,\n",
       "        -19.83967936,  -19.43887776,  -19.03807615,  -18.63727455,\n",
       "        -18.23647295,  -17.83567134,  -17.43486974,  -17.03406814,\n",
       "        -16.63326653,  -16.23246493,  -15.83166333,  -15.43086172,\n",
       "        -15.03006012,  -14.62925852,  -14.22845691,  -13.82765531,\n",
       "        -13.42685371,  -13.0260521 ,  -12.6252505 ,  -12.2244489 ,\n",
       "        -11.82364729,  -11.42284569,  -11.02204409,  -10.62124248,\n",
       "        -10.22044088,   -9.81963928,   -9.41883768,   -9.01803607,\n",
       "         -8.61723447,   -8.21643287,   -7.81563126,   -7.41482966,\n",
       "         -7.01402806,   -6.61322645,   -6.21242485,   -5.81162325,\n",
       "         -5.41082164,   -5.01002004,   -4.60921844,   -4.20841683,\n",
       "         -3.80761523,   -3.40681363,   -3.00601202,   -2.60521042,\n",
       "         -2.20440882,   -1.80360721,   -1.40280561,   -1.00200401,\n",
       "         -0.6012024 ,   -0.2004008 ,    0.2004008 ,    0.6012024 ,\n",
       "          1.00200401,    1.40280561,    1.80360721,    2.20440882,\n",
       "          2.60521042,    3.00601202,    3.40681363,    3.80761523,\n",
       "          4.20841683,    4.60921844,    5.01002004,    5.41082164,\n",
       "          5.81162325,    6.21242485,    6.61322645,    7.01402806,\n",
       "          7.41482966,    7.81563126,    8.21643287,    8.61723447,\n",
       "          9.01803607,    9.41883768,    9.81963928,   10.22044088,\n",
       "         10.62124248,   11.02204409,   11.42284569,   11.82364729,\n",
       "         12.2244489 ,   12.6252505 ,   13.0260521 ,   13.42685371,\n",
       "         13.82765531,   14.22845691,   14.62925852,   15.03006012,\n",
       "         15.43086172,   15.83166333,   16.23246493,   16.63326653,\n",
       "         17.03406814,   17.43486974,   17.83567134,   18.23647295,\n",
       "         18.63727455,   19.03807615,   19.43887776,   19.83967936,\n",
       "         20.24048096,   20.64128257,   21.04208417,   21.44288577,\n",
       "         21.84368737,   22.24448898,   22.64529058,   23.04609218,\n",
       "         23.44689379,   23.84769539,   24.24849699,   24.6492986 ,\n",
       "         25.0501002 ,   25.4509018 ,   25.85170341,   26.25250501,\n",
       "         26.65330661,   27.05410822,   27.45490982,   27.85571142,\n",
       "         28.25651303,   28.65731463,   29.05811623,   29.45891784,\n",
       "         29.85971944,   30.26052104,   30.66132265,   31.06212425,\n",
       "         31.46292585,   31.86372745,   32.26452906,   32.66533066,\n",
       "         33.06613226,   33.46693387,   33.86773547,   34.26853707,\n",
       "         34.66933868,   35.07014028,   35.47094188,   35.87174349,\n",
       "         36.27254509,   36.67334669,   37.0741483 ,   37.4749499 ,\n",
       "         37.8757515 ,   38.27655311,   38.67735471,   39.07815631,\n",
       "         39.47895792,   39.87975952,   40.28056112,   40.68136273,\n",
       "         41.08216433,   41.48296593,   41.88376754,   42.28456914,\n",
       "         42.68537074,   43.08617234,   43.48697395,   43.88777555,\n",
       "         44.28857715,   44.68937876,   45.09018036,   45.49098196,\n",
       "         45.89178357,   46.29258517,   46.69338677,   47.09418838,\n",
       "         47.49498998,   47.89579158,   48.29659319,   48.69739479,\n",
       "         49.09819639,   49.498998  ,   49.8997996 ,   50.3006012 ,\n",
       "         50.70140281,   51.10220441,   51.50300601,   51.90380762,\n",
       "         52.30460922,   52.70541082,   53.10621242,   53.50701403,\n",
       "         53.90781563,   54.30861723,   54.70941884,   55.11022044,\n",
       "         55.51102204,   55.91182365,   56.31262525,   56.71342685,\n",
       "         57.11422846,   57.51503006,   57.91583166,   58.31663327,\n",
       "         58.71743487,   59.11823647,   59.51903808,   59.91983968,\n",
       "         60.32064128,   60.72144289,   61.12224449,   61.52304609,\n",
       "         61.9238477 ,   62.3246493 ,   62.7254509 ,   63.12625251,\n",
       "         63.52705411,   63.92785571,   64.32865731,   64.72945892,\n",
       "         65.13026052,   65.53106212,   65.93186373,   66.33266533,\n",
       "         66.73346693,   67.13426854,   67.53507014,   67.93587174,\n",
       "         68.33667335,   68.73747495,   69.13827655,   69.53907816,\n",
       "         69.93987976,   70.34068136,   70.74148297,   71.14228457,\n",
       "         71.54308617,   71.94388778,   72.34468938,   72.74549098,\n",
       "         73.14629259,   73.54709419,   73.94789579,   74.34869739,\n",
       "         74.749499  ,   75.1503006 ,   75.5511022 ,   75.95190381,\n",
       "         76.35270541,   76.75350701,   77.15430862,   77.55511022,\n",
       "         77.95591182,   78.35671343,   78.75751503,   79.15831663,\n",
       "         79.55911824,   79.95991984,   80.36072144,   80.76152305,\n",
       "         81.16232465,   81.56312625,   81.96392786,   82.36472946,\n",
       "         82.76553106,   83.16633267,   83.56713427,   83.96793587,\n",
       "         84.36873747,   84.76953908,   85.17034068,   85.57114228,\n",
       "         85.97194389,   86.37274549,   86.77354709,   87.1743487 ,\n",
       "         87.5751503 ,   87.9759519 ,   88.37675351,   88.77755511,\n",
       "         89.17835671,   89.57915832,   89.97995992,   90.38076152,\n",
       "         90.78156313,   91.18236473,   91.58316633,   91.98396794,\n",
       "         92.38476954,   92.78557114,   93.18637275,   93.58717435,\n",
       "         93.98797595,   94.38877756,   94.78957916,   95.19038076,\n",
       "         95.59118236,   95.99198397,   96.39278557,   96.79358717,\n",
       "         97.19438878,   97.59519038,   97.99599198,   98.39679359,\n",
       "         98.79759519,   99.19839679,   99.5991984 ,  100.        ])"
      ]
     },
     "execution_count": 91,
     "metadata": {},
     "output_type": "execute_result"
    }
   ],
   "source": [
    "grilla_X[:500,1]"
   ]
  }
 ],
 "metadata": {
  "kernelspec": {
   "display_name": "Python 3",
   "language": "python",
   "name": "python3"
  },
  "language_info": {
   "codemirror_mode": {
    "name": "ipython",
    "version": 3
   },
   "file_extension": ".py",
   "mimetype": "text/x-python",
   "name": "python",
   "nbconvert_exporter": "python",
   "pygments_lexer": "ipython3",
   "version": "3.9.5"
  }
 },
 "nbformat": 4,
 "nbformat_minor": 5
}
