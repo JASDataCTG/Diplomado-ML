{
 "cells": [
  {
   "cell_type": "markdown",
   "id": "aca77b95-6c2e-4c78-b377-283cdd82a064",
   "metadata": {},
   "source": [
    "# Regresión logística multiple\n",
    "Dado que la función lineal no se puede ajustar a variables catagóricas binarias (0, 1), se hace necesario utilizar la función sigmoide $\\sigma(y)$:\n",
    "\n",
    "$\\large{\\sigma(y)=\\frac{1}{1+e^{-y}}}$\n",
    "\n",
    "Cuando $y$ toma valores positivos muy grandes, $e^{-y}$ toma volores muy cercanos a cero, lo que ocasiona que la función $\\sigma(y)$ tome valores muy cercanos a $1$. Por el contrario, cuando $y$ toma valores negativos muy grandes, $e^{-y}$ toma volores muy cercanos a $+\\infty$, lo que ocasiona que la función $\\sigma(y)$ tome valores muy cercanos a $0$\n",
    "\n",
    "Probabilidad de $y$ dado $X$:\n",
    "\n",
    "$\\large{P(y=1|X=x)=\\frac{e^{\\theta_{0}+\\theta_{1}x_{1}+\\theta_{2}x_{2}+\\theta_{3}x_{3}+...+\\theta_{p}x_{p}}}{1+e^{-(\\theta_{0}+\\theta_{1}x_{1}+\\theta_{2}x_{2}+\\theta_{3}x_{3}+...+\\theta_{p}x_{p})}}}$\n",
    "\n",
    "La regresión logística calcula los logaritmos de las probabilidades de cada variable para transformarlas en 0 o 1, usando un umbral de decisión.\n",
    "\n",
    "Se conoce como probabilidad de *odds* a la razón entre la probabilidad de aciertos y desaciertos:\n",
    "\n",
    "$\\large{odds = \\frac{P(y=1|X;\\theta)}{P(y=0|X;\\theta)}}$\n",
    "\n",
    "entonces,\n",
    "\n",
    "$\\large{\\ln{\\frac{P(y=1|X;\\theta)}{P(y=0|X;\\theta)}}=\\theta_{0}+\\theta_{1}x_{1}+\\theta_{2}x_{2}+\\theta_{3}x_{3}+...+\\theta_{p}x_{p}}$"
   ]
  },
  {
   "cell_type": "code",
   "execution_count": 4,
   "id": "ad410cbf-f867-43e2-ad29-80e653986f22",
   "metadata": {},
   "outputs": [],
   "source": [
    "import pandas as pd\n",
    "import numpy as np\n",
    "import seaborn as sns\n",
    "import matplotlib.pyplot as plt"
   ]
  },
  {
   "cell_type": "code",
   "execution_count": 5,
   "id": "79fc1084-e9f5-4bc7-8c64-7294129a78ed",
   "metadata": {},
   "outputs": [],
   "source": [
    "# Leer el dataset final generado por el notebook M02_05\n",
    "url = 'https://raw.githubusercontent.com/JASDataCTG/Diplomado-ML/main/Modulo%202/Datasets/DataReg.csv'\n",
    "df = pd.read_csv(url, header = 0)"
   ]
  },
  {
   "cell_type": "code",
   "execution_count": 8,
   "id": "df6afa23-a2c3-45b6-bff6-92cc1952f6a2",
   "metadata": {},
   "outputs": [
    {
     "data": {
      "text/html": [
       "<div>\n",
       "<style scoped>\n",
       "    .dataframe tbody tr th:only-of-type {\n",
       "        vertical-align: middle;\n",
       "    }\n",
       "\n",
       "    .dataframe tbody tr th {\n",
       "        vertical-align: top;\n",
       "    }\n",
       "\n",
       "    .dataframe thead th {\n",
       "        text-align: right;\n",
       "    }\n",
       "</style>\n",
       "<table border=\"1\" class=\"dataframe\">\n",
       "  <thead>\n",
       "    <tr style=\"text-align: right;\">\n",
       "      <th></th>\n",
       "      <th>precio</th>\n",
       "      <th>area_resid</th>\n",
       "      <th>cal_aire</th>\n",
       "      <th>num_hab</th>\n",
       "      <th>edad</th>\n",
       "      <th>prof_mil</th>\n",
       "      <th>p-pobreza</th>\n",
       "      <th>n_cam_hos</th>\n",
       "      <th>n_hab_hotel</th>\n",
       "      <th>lluvia_ano</th>\n",
       "      <th>parque</th>\n",
       "      <th>Vendida</th>\n",
       "      <th>prom_dist</th>\n",
       "      <th>aeropuerto_SI</th>\n",
       "      <th>cuerpo_agua_Lago</th>\n",
       "      <th>cuerpo_agua_Lago y rio</th>\n",
       "      <th>cuerpo_agua_Rio</th>\n",
       "    </tr>\n",
       "  </thead>\n",
       "  <tbody>\n",
       "    <tr>\n",
       "      <th>0</th>\n",
       "      <td>24.0</td>\n",
       "      <td>32.31</td>\n",
       "      <td>0.538</td>\n",
       "      <td>6.575</td>\n",
       "      <td>65.2</td>\n",
       "      <td>24.7</td>\n",
       "      <td>4.98</td>\n",
       "      <td>5.480</td>\n",
       "      <td>11.19200</td>\n",
       "      <td>23</td>\n",
       "      <td>0.049347</td>\n",
       "      <td>0</td>\n",
       "      <td>4.0875</td>\n",
       "      <td>1</td>\n",
       "      <td>0</td>\n",
       "      <td>0</td>\n",
       "      <td>1</td>\n",
       "    </tr>\n",
       "    <tr>\n",
       "      <th>1</th>\n",
       "      <td>21.6</td>\n",
       "      <td>37.07</td>\n",
       "      <td>0.469</td>\n",
       "      <td>6.421</td>\n",
       "      <td>78.9</td>\n",
       "      <td>22.2</td>\n",
       "      <td>9.14</td>\n",
       "      <td>7.332</td>\n",
       "      <td>12.17280</td>\n",
       "      <td>42</td>\n",
       "      <td>0.046146</td>\n",
       "      <td>1</td>\n",
       "      <td>4.9675</td>\n",
       "      <td>0</td>\n",
       "      <td>1</td>\n",
       "      <td>0</td>\n",
       "      <td>0</td>\n",
       "    </tr>\n",
       "    <tr>\n",
       "      <th>2</th>\n",
       "      <td>34.7</td>\n",
       "      <td>37.07</td>\n",
       "      <td>0.469</td>\n",
       "      <td>7.185</td>\n",
       "      <td>61.1</td>\n",
       "      <td>22.2</td>\n",
       "      <td>4.03</td>\n",
       "      <td>7.394</td>\n",
       "      <td>46.19856</td>\n",
       "      <td>38</td>\n",
       "      <td>0.045764</td>\n",
       "      <td>0</td>\n",
       "      <td>4.9675</td>\n",
       "      <td>0</td>\n",
       "      <td>0</td>\n",
       "      <td>0</td>\n",
       "      <td>0</td>\n",
       "    </tr>\n",
       "    <tr>\n",
       "      <th>3</th>\n",
       "      <td>33.4</td>\n",
       "      <td>32.18</td>\n",
       "      <td>0.458</td>\n",
       "      <td>6.998</td>\n",
       "      <td>45.8</td>\n",
       "      <td>21.3</td>\n",
       "      <td>2.94</td>\n",
       "      <td>9.268</td>\n",
       "      <td>11.26720</td>\n",
       "      <td>45</td>\n",
       "      <td>0.047151</td>\n",
       "      <td>0</td>\n",
       "      <td>6.0650</td>\n",
       "      <td>1</td>\n",
       "      <td>1</td>\n",
       "      <td>0</td>\n",
       "      <td>0</td>\n",
       "    </tr>\n",
       "    <tr>\n",
       "      <th>4</th>\n",
       "      <td>36.2</td>\n",
       "      <td>32.18</td>\n",
       "      <td>0.458</td>\n",
       "      <td>7.147</td>\n",
       "      <td>54.2</td>\n",
       "      <td>21.3</td>\n",
       "      <td>5.33</td>\n",
       "      <td>8.824</td>\n",
       "      <td>11.28960</td>\n",
       "      <td>55</td>\n",
       "      <td>0.039474</td>\n",
       "      <td>0</td>\n",
       "      <td>6.0625</td>\n",
       "      <td>0</td>\n",
       "      <td>1</td>\n",
       "      <td>0</td>\n",
       "      <td>0</td>\n",
       "    </tr>\n",
       "  </tbody>\n",
       "</table>\n",
       "</div>"
      ],
      "text/plain": [
       "   precio  area_resid  cal_aire  num_hab  edad  prof_mil  p-pobreza  \\\n",
       "0    24.0       32.31     0.538    6.575  65.2      24.7       4.98   \n",
       "1    21.6       37.07     0.469    6.421  78.9      22.2       9.14   \n",
       "2    34.7       37.07     0.469    7.185  61.1      22.2       4.03   \n",
       "3    33.4       32.18     0.458    6.998  45.8      21.3       2.94   \n",
       "4    36.2       32.18     0.458    7.147  54.2      21.3       5.33   \n",
       "\n",
       "   n_cam_hos  n_hab_hotel  lluvia_ano    parque  Vendida  prom_dist  \\\n",
       "0      5.480     11.19200          23  0.049347        0     4.0875   \n",
       "1      7.332     12.17280          42  0.046146        1     4.9675   \n",
       "2      7.394     46.19856          38  0.045764        0     4.9675   \n",
       "3      9.268     11.26720          45  0.047151        0     6.0650   \n",
       "4      8.824     11.28960          55  0.039474        0     6.0625   \n",
       "\n",
       "   aeropuerto_SI  cuerpo_agua_Lago  cuerpo_agua_Lago y rio  cuerpo_agua_Rio  \n",
       "0              1                 0                       0                1  \n",
       "1              0                 1                       0                0  \n",
       "2              0                 0                       0                0  \n",
       "3              1                 1                       0                0  \n",
       "4              0                 1                       0                0  "
      ]
     },
     "execution_count": 8,
     "metadata": {},
     "output_type": "execute_result"
    }
   ],
   "source": [
    "df.head()"
   ]
  },
  {
   "cell_type": "markdown",
   "id": "d8b34c9d-be4d-426a-8fb2-7edb0903323d",
   "metadata": {},
   "source": [
    "## Creación de los set de entrenamiento y validación, modelado"
   ]
  },
  {
   "cell_type": "code",
   "execution_count": 9,
   "id": "2f04c039-30f5-4c36-8657-21511f6140e0",
   "metadata": {},
   "outputs": [],
   "source": [
    "from sklearn.model_selection import train_test_split\n",
    "from sklearn.linear_model import LogisticRegression"
   ]
  },
  {
   "cell_type": "code",
   "execution_count": 10,
   "id": "47e13ded-ba00-4055-85b7-c7bc22f838de",
   "metadata": {},
   "outputs": [],
   "source": [
    "X = df.loc[:, df.columns != 'Vendida']\n",
    "y = df['Vendida']"
   ]
  },
  {
   "cell_type": "code",
   "execution_count": 11,
   "id": "e0023a65-83e4-43e4-b6f8-e7a87298fd86",
   "metadata": {},
   "outputs": [],
   "source": [
    "# Obtener los cuatro conjuntos de datos necesarios para el modelo\n",
    "X_train, X_test, y_train, y_test = train_test_split(X, y, test_size = 0.2, random_state = 123)"
   ]
  },
  {
   "cell_type": "code",
   "execution_count": 12,
   "id": "5142ae36-a228-4686-b816-a4253e5bc852",
   "metadata": {},
   "outputs": [],
   "source": [
    "# Crear el modelo aumentando las iteraciones dado que no se llega\n",
    "# a ajustar el modelo con menos iteraciones\n",
    "reg_model = LogisticRegression(max_iter = 900)"
   ]
  },
  {
   "cell_type": "code",
   "execution_count": 13,
   "id": "117c6054-64ff-4e98-be08-7cfadb0cd599",
   "metadata": {
    "tags": []
   },
   "outputs": [
    {
     "data": {
      "text/plain": [
       "LogisticRegression(max_iter=900)"
      ]
     },
     "execution_count": 13,
     "metadata": {},
     "output_type": "execute_result"
    }
   ],
   "source": [
    "# Ajustar el modelo a los datos\n",
    "reg_model.fit(X_train, y_train)"
   ]
  },
  {
   "cell_type": "code",
   "execution_count": 14,
   "id": "cc177299-e38d-4f5a-b2eb-854680ef0251",
   "metadata": {},
   "outputs": [
    {
     "data": {
      "text/plain": [
       "array([-2.67910644])"
      ]
     },
     "execution_count": 14,
     "metadata": {},
     "output_type": "execute_result"
    }
   ],
   "source": [
    "# Intercepto theta(0)\n",
    "reg_model.intercept_"
   ]
  },
  {
   "cell_type": "code",
   "execution_count": 15,
   "id": "779b6b42-f4d8-487e-97fa-07af62231510",
   "metadata": {},
   "outputs": [
    {
     "data": {
      "text/plain": [
       "array([[-0.2656961 ,  0.01086472, -1.38371538,  0.98830839],\n",
       "       [-0.00402203,  0.30360361, -0.21857159,  0.19075335],\n",
       "       [-0.07170099, -0.0097345 , -0.05253779, -0.32562462],\n",
       "       [-0.21087867, -0.0351414 , -0.04254725,  0.39430661]])"
      ]
     },
     "execution_count": 15,
     "metadata": {},
     "output_type": "execute_result"
    }
   ],
   "source": [
    "# Coeficiente de las variables predictoras\n",
    "reg_model.coef_.reshape(-1,4)"
   ]
  },
  {
   "cell_type": "code",
   "execution_count": 16,
   "id": "c5dd416f-a90f-45ae-8679-75c14a5c1213",
   "metadata": {},
   "outputs": [],
   "source": [
    "# Realizar las predicciones en el conjunto de validación\n",
    "y_pred = reg_model.predict(X_test)"
   ]
  },
  {
   "cell_type": "code",
   "execution_count": 17,
   "id": "0fdbc0ae-6a32-45a7-b4d0-2825204d9d78",
   "metadata": {},
   "outputs": [
    {
     "data": {
      "text/plain": [
       "(array([ True,  True, False, False, False,  True, False,  True, False,\n",
       "        False,  True,  True, False,  True, False,  True, False, False,\n",
       "        False,  True, False, False, False, False, False,  True,  True,\n",
       "        False,  True,  True, False,  True,  True, False,  True, False,\n",
       "         True,  True, False, False, False, False, False, False, False,\n",
       "         True,  True,  True, False,  True,  True, False, False, False,\n",
       "         True,  True, False, False, False, False,  True,  True,  True,\n",
       "        False, False,  True,  True,  True,  True,  True, False,  True,\n",
       "        False, False,  True, False,  True, False,  True, False,  True,\n",
       "         True,  True, False, False,  True,  True,  True, False,  True,\n",
       "         True,  True, False,  True, False,  True, False, False,  True,\n",
       "         True, False, False]),\n",
       " array([ True,  True, False,  True,  True,  True,  True, False, False,\n",
       "        False, False, False, False, False, False,  True,  True, False,\n",
       "        False, False,  True, False, False, False, False, False,  True,\n",
       "        False,  True,  True,  True, False,  True, False,  True,  True,\n",
       "         True,  True,  True,  True, False, False, False, False, False,\n",
       "         True, False, False,  True,  True,  True,  True, False, False,\n",
       "         True, False, False, False, False, False, False,  True,  True,\n",
       "        False,  True, False, False,  True, False,  True, False,  True,\n",
       "         True,  True,  True,  True, False, False, False, False, False,\n",
       "         True,  True, False, False,  True,  True, False, False,  True,\n",
       "        False, False, False,  True, False,  True, False, False,  True,\n",
       "         True,  True, False]))"
      ]
     },
     "execution_count": 17,
     "metadata": {},
     "output_type": "execute_result"
    }
   ],
   "source": [
    "# Convertir las predicciones a valores booleanos y \n",
    "# Ver las dos salidas para compararlas visualmente\n",
    "y_pred.astype(bool), y_test.to_numpy().astype(bool)"
   ]
  },
  {
   "cell_type": "code",
   "execution_count": 18,
   "id": "e12561d9-3373-44bd-823a-6fa0e4772d90",
   "metadata": {},
   "outputs": [],
   "source": [
    "# Cargar modulos y funciones para desarrollar la matriz de confusión\n",
    "from sklearn.metrics import confusion_matrix"
   ]
  },
  {
   "cell_type": "code",
   "execution_count": 19,
   "id": "59cb0ea1-72ae-421d-a7d7-5d259f223773",
   "metadata": {},
   "outputs": [
    {
     "data": {
      "text/plain": [
       "array([[36, 20],\n",
       "       [16, 30]], dtype=int64)"
      ]
     },
     "execution_count": 19,
     "metadata": {},
     "output_type": "execute_result"
    }
   ],
   "source": [
    "confusion_matrix(y_test,y_pred)"
   ]
  },
  {
   "cell_type": "code",
   "execution_count": 20,
   "id": "d727711f-4137-4474-a0d2-7d2a378e28ec",
   "metadata": {},
   "outputs": [
    {
     "data": {
      "text/html": [
       "<div>\n",
       "<style scoped>\n",
       "    .dataframe tbody tr th:only-of-type {\n",
       "        vertical-align: middle;\n",
       "    }\n",
       "\n",
       "    .dataframe tbody tr th {\n",
       "        vertical-align: top;\n",
       "    }\n",
       "\n",
       "    .dataframe thead th {\n",
       "        text-align: right;\n",
       "    }\n",
       "</style>\n",
       "<table border=\"1\" class=\"dataframe\">\n",
       "  <thead>\n",
       "    <tr style=\"text-align: right;\">\n",
       "      <th></th>\n",
       "      <th>No vendidaP</th>\n",
       "      <th>VendidaP</th>\n",
       "    </tr>\n",
       "  </thead>\n",
       "  <tbody>\n",
       "    <tr>\n",
       "      <th>No vendidaR</th>\n",
       "      <td>36</td>\n",
       "      <td>20</td>\n",
       "    </tr>\n",
       "    <tr>\n",
       "      <th>VendidaR</th>\n",
       "      <td>16</td>\n",
       "      <td>30</td>\n",
       "    </tr>\n",
       "  </tbody>\n",
       "</table>\n",
       "</div>"
      ],
      "text/plain": [
       "             No vendidaP  VendidaP\n",
       "No vendidaR           36        20\n",
       "VendidaR              16        30"
      ]
     },
     "execution_count": 20,
     "metadata": {},
     "output_type": "execute_result"
    }
   ],
   "source": [
    "# Formatear la matriz de confusión como un dataframe\n",
    "mc = pd.DataFrame(confusion_matrix(y_test,y_pred), index = ['No vendidaR','VendidaR'], columns = ['No vendidaP', 'VendidaP'])\n",
    "mc"
   ]
  },
  {
   "cell_type": "code",
   "execution_count": 23,
   "id": "280a6331-4951-44c3-b940-03ca82c96740",
   "metadata": {},
   "outputs": [
    {
     "data": {
      "image/png": "[encoded data removed]",
      "text/plain": [
       "<Figure size 432x432 with 1 Axes>"
      ]
     },
     "metadata": {
      "needs_background": "light"
     },
     "output_type": "display_data"
    }
   ],
   "source": [
    "# Utilizar un modulo y función para dibujar mejor la matriz de confusión\n",
    "#!pip install mlxtend\n",
    "from mlxtend.plotting import plot_confusion_matrix\n",
    "\n",
    "plot_confusion_matrix(conf_mat=confusion_matrix(y_test,y_pred), figsize=(6,6), show_normed=False)\n",
    "plt.tight_layout(pad = 15)"
   ]
  },
  {
   "cell_type": "markdown",
   "id": "b9f804d6-8d58-4f92-87eb-6e4e5279f81c",
   "metadata": {},
   "source": [
    "![Matriz de confusión](confmat.png)\n",
    "![Metricas](metricas.jpg)\n",
    "\n",
    "**Precision:** mide la calidad de los modelos de ML en el desarrollo de la clasificación, para el problema nos indica que porcentaje de propiedades serán vendidas o no.\n",
    "\n",
    "**Recall (Exhaustividad):** muestra la proporción de ejemplos que el modelo es capaz de identificar, indica que porcentaje de propiedades de las que serán vendidas o no podemos indentificar.\n",
    "\n",
    "**Accuracy (Exactitud):** mide el porcentaje de los casos en que el modelo ha acertado, no debe interpretarse sola porque es una de las métricas que nos puede llevar a tomar decisiones incorrectas porque nos puede indicar que un modelo deficiente parezca mejor de lo que en realidad es.\n",
    "\n",
    "**Sensibilidad:** detecta en la realidad los casos positivos, representa la probabilidad de los verdaderos positivos en la predicción.\n",
    "\n",
    "$Sensibilidad=\\frac{TP}{TP+FN}$\n",
    "\n",
    "**Especificidad:** detecta en la realidad los casos negativos, representa la probabilidad de los verdaderos negativos en la predicción."
   ]
  },
  {
   "cell_type": "code",
   "execution_count": 24,
   "id": "52f40d1b-ee7a-4d57-9409-66d7136dda1c",
   "metadata": {},
   "outputs": [],
   "source": [
    "# Importar los modulos para agregar la columna de valores de unos y del modelo\n",
    "# Logit con el fin de obtener las salidas con pruebas estadísticas\n",
    "import statsmodels.api as sn\n",
    "import statsmodels.discrete.discrete_model as sm"
   ]
  },
  {
   "cell_type": "code",
   "execution_count": 25,
   "id": "5d881484-1e39-4175-a628-ff6ada7cbc68",
   "metadata": {},
   "outputs": [],
   "source": [
    "# Crear la columna con la constante solicitada para el modelo Logit\n",
    "const_X = sn.add_constant(X_train)"
   ]
  },
  {
   "cell_type": "code",
   "execution_count": 26,
   "id": "8855792e-551b-4eb4-b9cc-11f1fda63aa9",
   "metadata": {},
   "outputs": [
    {
     "data": {
      "text/html": [
       "<div>\n",
       "<style scoped>\n",
       "    .dataframe tbody tr th:only-of-type {\n",
       "        vertical-align: middle;\n",
       "    }\n",
       "\n",
       "    .dataframe tbody tr th {\n",
       "        vertical-align: top;\n",
       "    }\n",
       "\n",
       "    .dataframe thead th {\n",
       "        text-align: right;\n",
       "    }\n",
       "</style>\n",
       "<table border=\"1\" class=\"dataframe\">\n",
       "  <thead>\n",
       "    <tr style=\"text-align: right;\">\n",
       "      <th></th>\n",
       "      <th>const</th>\n",
       "      <th>precio</th>\n",
       "      <th>area_resid</th>\n",
       "      <th>cal_aire</th>\n",
       "      <th>num_hab</th>\n",
       "      <th>edad</th>\n",
       "      <th>prof_mil</th>\n",
       "      <th>p-pobreza</th>\n",
       "      <th>n_cam_hos</th>\n",
       "      <th>n_hab_hotel</th>\n",
       "      <th>lluvia_ano</th>\n",
       "      <th>parque</th>\n",
       "      <th>prom_dist</th>\n",
       "      <th>aeropuerto_SI</th>\n",
       "      <th>cuerpo_agua_Lago</th>\n",
       "      <th>cuerpo_agua_Lago y rio</th>\n",
       "      <th>cuerpo_agua_Rio</th>\n",
       "    </tr>\n",
       "  </thead>\n",
       "  <tbody>\n",
       "    <tr>\n",
       "      <th>203</th>\n",
       "      <td>1.0</td>\n",
       "      <td>48.5</td>\n",
       "      <td>32.68</td>\n",
       "      <td>0.4161</td>\n",
       "      <td>7.853</td>\n",
       "      <td>33.2</td>\n",
       "      <td>25.3</td>\n",
       "      <td>3.81</td>\n",
       "      <td>8.770</td>\n",
       "      <td>11.3880</td>\n",
       "      <td>22</td>\n",
       "      <td>0.040933</td>\n",
       "      <td>5.1175</td>\n",
       "      <td>0</td>\n",
       "      <td>0</td>\n",
       "      <td>0</td>\n",
       "      <td>0</td>\n",
       "    </tr>\n",
       "    <tr>\n",
       "      <th>441</th>\n",
       "      <td>1.0</td>\n",
       "      <td>17.1</td>\n",
       "      <td>48.10</td>\n",
       "      <td>0.7400</td>\n",
       "      <td>6.406</td>\n",
       "      <td>97.2</td>\n",
       "      <td>19.8</td>\n",
       "      <td>19.52</td>\n",
       "      <td>9.242</td>\n",
       "      <td>15.1368</td>\n",
       "      <td>58</td>\n",
       "      <td>0.077408</td>\n",
       "      <td>2.0675</td>\n",
       "      <td>1</td>\n",
       "      <td>0</td>\n",
       "      <td>1</td>\n",
       "      <td>0</td>\n",
       "    </tr>\n",
       "    <tr>\n",
       "      <th>172</th>\n",
       "      <td>1.0</td>\n",
       "      <td>23.1</td>\n",
       "      <td>34.05</td>\n",
       "      <td>0.5100</td>\n",
       "      <td>5.572</td>\n",
       "      <td>88.5</td>\n",
       "      <td>23.4</td>\n",
       "      <td>14.69</td>\n",
       "      <td>9.362</td>\n",
       "      <td>12.1848</td>\n",
       "      <td>38</td>\n",
       "      <td>0.052950</td>\n",
       "      <td>2.5975</td>\n",
       "      <td>0</td>\n",
       "      <td>0</td>\n",
       "      <td>0</td>\n",
       "      <td>1</td>\n",
       "    </tr>\n",
       "    <tr>\n",
       "      <th>95</th>\n",
       "      <td>1.0</td>\n",
       "      <td>28.4</td>\n",
       "      <td>32.89</td>\n",
       "      <td>0.4450</td>\n",
       "      <td>6.625</td>\n",
       "      <td>57.8</td>\n",
       "      <td>22.0</td>\n",
       "      <td>6.65</td>\n",
       "      <td>9.968</td>\n",
       "      <td>14.2272</td>\n",
       "      <td>46</td>\n",
       "      <td>0.046627</td>\n",
       "      <td>3.4950</td>\n",
       "      <td>0</td>\n",
       "      <td>0</td>\n",
       "      <td>0</td>\n",
       "      <td>1</td>\n",
       "    </tr>\n",
       "    <tr>\n",
       "      <th>54</th>\n",
       "      <td>1.0</td>\n",
       "      <td>18.9</td>\n",
       "      <td>34.00</td>\n",
       "      <td>0.4100</td>\n",
       "      <td>5.888</td>\n",
       "      <td>47.6</td>\n",
       "      <td>18.9</td>\n",
       "      <td>14.80</td>\n",
       "      <td>8.678</td>\n",
       "      <td>15.1512</td>\n",
       "      <td>55</td>\n",
       "      <td>0.038684</td>\n",
       "      <td>7.3175</td>\n",
       "      <td>1</td>\n",
       "      <td>0</td>\n",
       "      <td>0</td>\n",
       "      <td>0</td>\n",
       "    </tr>\n",
       "    <tr>\n",
       "      <th>...</th>\n",
       "      <td>...</td>\n",
       "      <td>...</td>\n",
       "      <td>...</td>\n",
       "      <td>...</td>\n",
       "      <td>...</td>\n",
       "      <td>...</td>\n",
       "      <td>...</td>\n",
       "      <td>...</td>\n",
       "      <td>...</td>\n",
       "      <td>...</td>\n",
       "      <td>...</td>\n",
       "      <td>...</td>\n",
       "      <td>...</td>\n",
       "      <td>...</td>\n",
       "      <td>...</td>\n",
       "      <td>...</td>\n",
       "      <td>...</td>\n",
       "    </tr>\n",
       "    <tr>\n",
       "      <th>98</th>\n",
       "      <td>1.0</td>\n",
       "      <td>43.8</td>\n",
       "      <td>32.89</td>\n",
       "      <td>0.4450</td>\n",
       "      <td>7.820</td>\n",
       "      <td>36.9</td>\n",
       "      <td>22.0</td>\n",
       "      <td>3.57</td>\n",
       "      <td>10.876</td>\n",
       "      <td>10.3504</td>\n",
       "      <td>25</td>\n",
       "      <td>0.051130</td>\n",
       "      <td>3.4975</td>\n",
       "      <td>1</td>\n",
       "      <td>0</td>\n",
       "      <td>1</td>\n",
       "      <td>0</td>\n",
       "    </tr>\n",
       "    <tr>\n",
       "      <th>476</th>\n",
       "      <td>1.0</td>\n",
       "      <td>16.7</td>\n",
       "      <td>48.10</td>\n",
       "      <td>0.6140</td>\n",
       "      <td>6.484</td>\n",
       "      <td>93.6</td>\n",
       "      <td>19.8</td>\n",
       "      <td>18.68</td>\n",
       "      <td>6.134</td>\n",
       "      <td>14.1336</td>\n",
       "      <td>22</td>\n",
       "      <td>0.056696</td>\n",
       "      <td>2.3025</td>\n",
       "      <td>1</td>\n",
       "      <td>0</td>\n",
       "      <td>0</td>\n",
       "      <td>1</td>\n",
       "    </tr>\n",
       "    <tr>\n",
       "      <th>322</th>\n",
       "      <td>1.0</td>\n",
       "      <td>20.4</td>\n",
       "      <td>37.38</td>\n",
       "      <td>0.4930</td>\n",
       "      <td>6.041</td>\n",
       "      <td>49.9</td>\n",
       "      <td>20.4</td>\n",
       "      <td>7.70</td>\n",
       "      <td>8.908</td>\n",
       "      <td>13.1632</td>\n",
       "      <td>40</td>\n",
       "      <td>0.045675</td>\n",
       "      <td>4.7225</td>\n",
       "      <td>0</td>\n",
       "      <td>0</td>\n",
       "      <td>0</td>\n",
       "      <td>0</td>\n",
       "    </tr>\n",
       "    <tr>\n",
       "      <th>382</th>\n",
       "      <td>1.0</td>\n",
       "      <td>11.3</td>\n",
       "      <td>48.10</td>\n",
       "      <td>0.7000</td>\n",
       "      <td>5.536</td>\n",
       "      <td>100.0</td>\n",
       "      <td>19.8</td>\n",
       "      <td>23.60</td>\n",
       "      <td>8.226</td>\n",
       "      <td>11.0904</td>\n",
       "      <td>46</td>\n",
       "      <td>0.060650</td>\n",
       "      <td>1.5775</td>\n",
       "      <td>1</td>\n",
       "      <td>0</td>\n",
       "      <td>0</td>\n",
       "      <td>1</td>\n",
       "    </tr>\n",
       "    <tr>\n",
       "      <th>365</th>\n",
       "      <td>1.0</td>\n",
       "      <td>27.5</td>\n",
       "      <td>48.10</td>\n",
       "      <td>0.7180</td>\n",
       "      <td>3.561</td>\n",
       "      <td>87.9</td>\n",
       "      <td>19.8</td>\n",
       "      <td>7.12</td>\n",
       "      <td>8.050</td>\n",
       "      <td>12.2200</td>\n",
       "      <td>51</td>\n",
       "      <td>0.067932</td>\n",
       "      <td>1.6125</td>\n",
       "      <td>1</td>\n",
       "      <td>0</td>\n",
       "      <td>0</td>\n",
       "      <td>1</td>\n",
       "    </tr>\n",
       "  </tbody>\n",
       "</table>\n",
       "<p>404 rows × 17 columns</p>\n",
       "</div>"
      ],
      "text/plain": [
       "     const  precio  area_resid  cal_aire  num_hab   edad  prof_mil  p-pobreza  \\\n",
       "203    1.0    48.5       32.68    0.4161    7.853   33.2      25.3       3.81   \n",
       "441    1.0    17.1       48.10    0.7400    6.406   97.2      19.8      19.52   \n",
       "172    1.0    23.1       34.05    0.5100    5.572   88.5      23.4      14.69   \n",
       "95     1.0    28.4       32.89    0.4450    6.625   57.8      22.0       6.65   \n",
       "54     1.0    18.9       34.00    0.4100    5.888   47.6      18.9      14.80   \n",
       "..     ...     ...         ...       ...      ...    ...       ...        ...   \n",
       "98     1.0    43.8       32.89    0.4450    7.820   36.9      22.0       3.57   \n",
       "476    1.0    16.7       48.10    0.6140    6.484   93.6      19.8      18.68   \n",
       "322    1.0    20.4       37.38    0.4930    6.041   49.9      20.4       7.70   \n",
       "382    1.0    11.3       48.10    0.7000    5.536  100.0      19.8      23.60   \n",
       "365    1.0    27.5       48.10    0.7180    3.561   87.9      19.8       7.12   \n",
       "\n",
       "     n_cam_hos  n_hab_hotel  lluvia_ano    parque  prom_dist  aeropuerto_SI  \\\n",
       "203      8.770      11.3880          22  0.040933     5.1175              0   \n",
       "441      9.242      15.1368          58  0.077408     2.0675              1   \n",
       "172      9.362      12.1848          38  0.052950     2.5975              0   \n",
       "95       9.968      14.2272          46  0.046627     3.4950              0   \n",
       "54       8.678      15.1512          55  0.038684     7.3175              1   \n",
       "..         ...          ...         ...       ...        ...            ...   \n",
       "98      10.876      10.3504          25  0.051130     3.4975              1   \n",
       "476      6.134      14.1336          22  0.056696     2.3025              1   \n",
       "322      8.908      13.1632          40  0.045675     4.7225              0   \n",
       "382      8.226      11.0904          46  0.060650     1.5775              1   \n",
       "365      8.050      12.2200          51  0.067932     1.6125              1   \n",
       "\n",
       "     cuerpo_agua_Lago  cuerpo_agua_Lago y rio  cuerpo_agua_Rio  \n",
       "203                 0                       0                0  \n",
       "441                 0                       1                0  \n",
       "172                 0                       0                1  \n",
       "95                  0                       0                1  \n",
       "54                  0                       0                0  \n",
       "..                ...                     ...              ...  \n",
       "98                  0                       1                0  \n",
       "476                 0                       0                1  \n",
       "322                 0                       0                0  \n",
       "382                 0                       0                1  \n",
       "365                 0                       0                1  \n",
       "\n",
       "[404 rows x 17 columns]"
      ]
     },
     "execution_count": 26,
     "metadata": {},
     "output_type": "execute_result"
    }
   ],
   "source": [
    "const_X"
   ]
  },
  {
   "cell_type": "code",
   "execution_count": 27,
   "id": "7da92eb1-d436-41f7-9e89-553256bcd9fe",
   "metadata": {},
   "outputs": [
    {
     "name": "stdout",
     "output_type": "stream",
     "text": [
      "Optimization terminated successfully.\n",
      "         Current function value: 0.541711\n",
      "         Iterations 6\n"
     ]
    }
   ],
   "source": [
    "# Crear y ajustar el modelo utilizando Logit\n",
    "logit = sm.Logit(y_train, const_X).fit()"
   ]
  },
  {
   "cell_type": "code",
   "execution_count": 29,
   "id": "3639e6b6-612f-467d-ab30-4b62c57ef808",
   "metadata": {},
   "outputs": [
    {
     "data": {
      "text/html": [
       "<table class=\"simpletable\">\n",
       "<caption>Logit Regression Results</caption>\n",
       "<tr>\n",
       "  <th>Dep. Variable:</th>        <td>Vendida</td>     <th>  No. Observations:  </th>  <td>   404</td>  \n",
       "</tr>\n",
       "<tr>\n",
       "  <th>Model:</th>                 <td>Logit</td>      <th>  Df Residuals:      </th>  <td>   387</td>  \n",
       "</tr>\n",
       "<tr>\n",
       "  <th>Method:</th>                 <td>MLE</td>       <th>  Df Model:          </th>  <td>    16</td>  \n",
       "</tr>\n",
       "<tr>\n",
       "  <th>Date:</th>            <td>Tue, 03 Aug 2021</td> <th>  Pseudo R-squ.:     </th>  <td>0.2140</td>  \n",
       "</tr>\n",
       "<tr>\n",
       "  <th>Time:</th>                <td>14:46:16</td>     <th>  Log-Likelihood:    </th> <td> -218.85</td> \n",
       "</tr>\n",
       "<tr>\n",
       "  <th>converged:</th>             <td>True</td>       <th>  LL-Null:           </th> <td> -278.43</td> \n",
       "</tr>\n",
       "<tr>\n",
       "  <th>Covariance Type:</th>     <td>nonrobust</td>    <th>  LLR p-value:       </th> <td>8.008e-18</td>\n",
       "</tr>\n",
       "</table>\n",
       "<table class=\"simpletable\">\n",
       "<tr>\n",
       "             <td></td>               <th>coef</th>     <th>std err</th>      <th>z</th>      <th>P>|z|</th>  <th>[0.025</th>    <th>0.975]</th>  \n",
       "</tr>\n",
       "<tr>\n",
       "  <th>const</th>                  <td>   -2.9938</td> <td>    3.026</td> <td>   -0.989</td> <td> 0.323</td> <td>   -8.926</td> <td>    2.938</td>\n",
       "</tr>\n",
       "<tr>\n",
       "  <th>precio</th>                 <td>   -0.2954</td> <td>    0.039</td> <td>   -7.586</td> <td> 0.000</td> <td>   -0.372</td> <td>   -0.219</td>\n",
       "</tr>\n",
       "<tr>\n",
       "  <th>area_resid</th>             <td>    0.0377</td> <td>    0.030</td> <td>    1.266</td> <td> 0.205</td> <td>   -0.021</td> <td>    0.096</td>\n",
       "</tr>\n",
       "<tr>\n",
       "  <th>cal_aire</th>               <td>  -10.0015</td> <td>    3.075</td> <td>   -3.253</td> <td> 0.001</td> <td>  -16.027</td> <td>   -3.975</td>\n",
       "</tr>\n",
       "<tr>\n",
       "  <th>num_hab</th>                <td>    1.1678</td> <td>    0.318</td> <td>    3.675</td> <td> 0.000</td> <td>    0.545</td> <td>    1.791</td>\n",
       "</tr>\n",
       "<tr>\n",
       "  <th>edad</th>                   <td>-9.471e-06</td> <td>    0.008</td> <td>   -0.001</td> <td> 0.999</td> <td>   -0.015</td> <td>    0.015</td>\n",
       "</tr>\n",
       "<tr>\n",
       "  <th>prof_mil</th>               <td>    0.3761</td> <td>    0.075</td> <td>    5.034</td> <td> 0.000</td> <td>    0.230</td> <td>    0.523</td>\n",
       "</tr>\n",
       "<tr>\n",
       "  <th>p-pobreza</th>              <td>   -0.2184</td> <td>    0.039</td> <td>   -5.560</td> <td> 0.000</td> <td>   -0.295</td> <td>   -0.141</td>\n",
       "</tr>\n",
       "<tr>\n",
       "  <th>n_cam_hos</th>              <td>    0.1842</td> <td>    0.082</td> <td>    2.241</td> <td> 0.025</td> <td>    0.023</td> <td>    0.345</td>\n",
       "</tr>\n",
       "<tr>\n",
       "  <th>n_hab_hotel</th>            <td>   -0.0693</td> <td>    0.054</td> <td>   -1.286</td> <td> 0.198</td> <td>   -0.175</td> <td>    0.036</td>\n",
       "</tr>\n",
       "<tr>\n",
       "  <th>lluvia_ano</th>             <td>   -0.0067</td> <td>    0.010</td> <td>   -0.684</td> <td> 0.494</td> <td>   -0.026</td> <td>    0.012</td>\n",
       "</tr>\n",
       "<tr>\n",
       "  <th>parque</th>                 <td>   37.6171</td> <td>   28.183</td> <td>    1.335</td> <td> 0.182</td> <td>  -17.620</td> <td>   92.854</td>\n",
       "</tr>\n",
       "<tr>\n",
       "  <th>prom_dist</th>              <td>   -0.4465</td> <td>    0.111</td> <td>   -4.023</td> <td> 0.000</td> <td>   -0.664</td> <td>   -0.229</td>\n",
       "</tr>\n",
       "<tr>\n",
       "  <th>aeropuerto_SI</th>          <td>   -0.2739</td> <td>    0.240</td> <td>   -1.139</td> <td> 0.255</td> <td>   -0.745</td> <td>    0.197</td>\n",
       "</tr>\n",
       "<tr>\n",
       "  <th>cuerpo_agua_Lago</th>       <td>   -0.0776</td> <td>    0.343</td> <td>   -0.226</td> <td> 0.821</td> <td>   -0.751</td> <td>    0.596</td>\n",
       "</tr>\n",
       "<tr>\n",
       "  <th>cuerpo_agua_Lago y rio</th> <td>   -0.0395</td> <td>    0.394</td> <td>   -0.100</td> <td> 0.920</td> <td>   -0.811</td> <td>    0.732</td>\n",
       "</tr>\n",
       "<tr>\n",
       "  <th>cuerpo_agua_Rio</th>        <td>    0.4638</td> <td>    0.293</td> <td>    1.582</td> <td> 0.114</td> <td>   -0.111</td> <td>    1.039</td>\n",
       "</tr>\n",
       "</table>"
      ],
      "text/plain": [
       "<class 'statsmodels.iolib.summary.Summary'>\n",
       "\"\"\"\n",
       "                           Logit Regression Results                           \n",
       "==============================================================================\n",
       "Dep. Variable:                Vendida   No. Observations:                  404\n",
       "Model:                          Logit   Df Residuals:                      387\n",
       "Method:                           MLE   Df Model:                           16\n",
       "Date:                Tue, 03 Aug 2021   Pseudo R-squ.:                  0.2140\n",
       "Time:                        14:46:16   Log-Likelihood:                -218.85\n",
       "converged:                       True   LL-Null:                       -278.43\n",
       "Covariance Type:            nonrobust   LLR p-value:                 8.008e-18\n",
       "==========================================================================================\n",
       "                             coef    std err          z      P>|z|      [0.025      0.975]\n",
       "------------------------------------------------------------------------------------------\n",
       "const                     -2.9938      3.026     -0.989      0.323      -8.926       2.938\n",
       "precio                    -0.2954      0.039     -7.586      0.000      -0.372      -0.219\n",
       "area_resid                 0.0377      0.030      1.266      0.205      -0.021       0.096\n",
       "cal_aire                 -10.0015      3.075     -3.253      0.001     -16.027      -3.975\n",
       "num_hab                    1.1678      0.318      3.675      0.000       0.545       1.791\n",
       "edad                   -9.471e-06      0.008     -0.001      0.999      -0.015       0.015\n",
       "prof_mil                   0.3761      0.075      5.034      0.000       0.230       0.523\n",
       "p-pobreza                 -0.2184      0.039     -5.560      0.000      -0.295      -0.141\n",
       "n_cam_hos                  0.1842      0.082      2.241      0.025       0.023       0.345\n",
       "n_hab_hotel               -0.0693      0.054     -1.286      0.198      -0.175       0.036\n",
       "lluvia_ano                -0.0067      0.010     -0.684      0.494      -0.026       0.012\n",
       "parque                    37.6171     28.183      1.335      0.182     -17.620      92.854\n",
       "prom_dist                 -0.4465      0.111     -4.023      0.000      -0.664      -0.229\n",
       "aeropuerto_SI             -0.2739      0.240     -1.139      0.255      -0.745       0.197\n",
       "cuerpo_agua_Lago          -0.0776      0.343     -0.226      0.821      -0.751       0.596\n",
       "cuerpo_agua_Lago y rio    -0.0395      0.394     -0.100      0.920      -0.811       0.732\n",
       "cuerpo_agua_Rio            0.4638      0.293      1.582      0.114      -0.111       1.039\n",
       "==========================================================================================\n",
       "\"\"\""
      ]
     },
     "execution_count": 29,
     "metadata": {},
     "output_type": "execute_result"
    }
   ],
   "source": [
    "# Ver estadisticos y los valores de los parámetros de las variables predictoras\n",
    "logit.summary()"
   ]
  },
  {
   "cell_type": "code",
   "execution_count": 30,
   "id": "49fec5bb-b7ef-411a-8653-4391489c33d1",
   "metadata": {},
   "outputs": [
    {
     "name": "stdout",
     "output_type": "stream",
     "text": [
      "Optimization terminated successfully.\n",
      "         Current function value: 0.541775\n",
      "         Iterations 6\n"
     ]
    },
    {
     "data": {
      "text/html": [
       "<table class=\"simpletable\">\n",
       "<caption>Logit Regression Results</caption>\n",
       "<tr>\n",
       "  <th>Dep. Variable:</th>        <td>Vendida</td>     <th>  No. Observations:  </th>  <td>   404</td>  \n",
       "</tr>\n",
       "<tr>\n",
       "  <th>Model:</th>                 <td>Logit</td>      <th>  Df Residuals:      </th>  <td>   390</td>  \n",
       "</tr>\n",
       "<tr>\n",
       "  <th>Method:</th>                 <td>MLE</td>       <th>  Df Model:          </th>  <td>    13</td>  \n",
       "</tr>\n",
       "<tr>\n",
       "  <th>Date:</th>            <td>Tue, 03 Aug 2021</td> <th>  Pseudo R-squ.:     </th>  <td>0.2139</td>  \n",
       "</tr>\n",
       "<tr>\n",
       "  <th>Time:</th>                <td>14:52:15</td>     <th>  Log-Likelihood:    </th> <td> -218.88</td> \n",
       "</tr>\n",
       "<tr>\n",
       "  <th>converged:</th>             <td>True</td>       <th>  LL-Null:           </th> <td> -278.43</td> \n",
       "</tr>\n",
       "<tr>\n",
       "  <th>Covariance Type:</th>     <td>nonrobust</td>    <th>  LLR p-value:       </th> <td>3.037e-19</td>\n",
       "</tr>\n",
       "</table>\n",
       "<table class=\"simpletable\">\n",
       "<tr>\n",
       "         <td></td>            <th>coef</th>     <th>std err</th>      <th>z</th>      <th>P>|z|</th>  <th>[0.025</th>    <th>0.975]</th>  \n",
       "</tr>\n",
       "<tr>\n",
       "  <th>const</th>           <td>   -2.9990</td> <td>    3.021</td> <td>   -0.993</td> <td> 0.321</td> <td>   -8.919</td> <td>    2.921</td>\n",
       "</tr>\n",
       "<tr>\n",
       "  <th>precio</th>          <td>   -0.2955</td> <td>    0.039</td> <td>   -7.601</td> <td> 0.000</td> <td>   -0.372</td> <td>   -0.219</td>\n",
       "</tr>\n",
       "<tr>\n",
       "  <th>area_resid</th>      <td>    0.0377</td> <td>    0.030</td> <td>    1.270</td> <td> 0.204</td> <td>   -0.020</td> <td>    0.096</td>\n",
       "</tr>\n",
       "<tr>\n",
       "  <th>cal_aire</th>        <td>   -9.9819</td> <td>    3.046</td> <td>   -3.277</td> <td> 0.001</td> <td>  -15.953</td> <td>   -4.011</td>\n",
       "</tr>\n",
       "<tr>\n",
       "  <th>num_hab</th>         <td>    1.1673</td> <td>    0.310</td> <td>    3.763</td> <td> 0.000</td> <td>    0.559</td> <td>    1.775</td>\n",
       "</tr>\n",
       "<tr>\n",
       "  <th>prof_mil</th>        <td>    0.3751</td> <td>    0.074</td> <td>    5.040</td> <td> 0.000</td> <td>    0.229</td> <td>    0.521</td>\n",
       "</tr>\n",
       "<tr>\n",
       "  <th>p-pobreza</th>       <td>   -0.2192</td> <td>    0.038</td> <td>   -5.836</td> <td> 0.000</td> <td>   -0.293</td> <td>   -0.146</td>\n",
       "</tr>\n",
       "<tr>\n",
       "  <th>n_cam_hos</th>       <td>    0.1829</td> <td>    0.082</td> <td>    2.243</td> <td> 0.025</td> <td>    0.023</td> <td>    0.343</td>\n",
       "</tr>\n",
       "<tr>\n",
       "  <th>n_hab_hotel</th>     <td>   -0.0695</td> <td>    0.054</td> <td>   -1.294</td> <td> 0.196</td> <td>   -0.175</td> <td>    0.036</td>\n",
       "</tr>\n",
       "<tr>\n",
       "  <th>lluvia_ano</th>      <td>   -0.0068</td> <td>    0.010</td> <td>   -0.699</td> <td> 0.484</td> <td>   -0.026</td> <td>    0.012</td>\n",
       "</tr>\n",
       "<tr>\n",
       "  <th>parque</th>          <td>   37.8543</td> <td>   28.155</td> <td>    1.345</td> <td> 0.179</td> <td>  -17.328</td> <td>   93.036</td>\n",
       "</tr>\n",
       "<tr>\n",
       "  <th>prom_dist</th>       <td>   -0.4467</td> <td>    0.103</td> <td>   -4.339</td> <td> 0.000</td> <td>   -0.648</td> <td>   -0.245</td>\n",
       "</tr>\n",
       "<tr>\n",
       "  <th>aeropuerto_SI</th>   <td>   -0.2759</td> <td>    0.239</td> <td>   -1.152</td> <td> 0.249</td> <td>   -0.745</td> <td>    0.193</td>\n",
       "</tr>\n",
       "<tr>\n",
       "  <th>cuerpo_agua_Rio</th> <td>    0.4971</td> <td>    0.246</td> <td>    2.024</td> <td> 0.043</td> <td>    0.016</td> <td>    0.979</td>\n",
       "</tr>\n",
       "</table>"
      ],
      "text/plain": [
       "<class 'statsmodels.iolib.summary.Summary'>\n",
       "\"\"\"\n",
       "                           Logit Regression Results                           \n",
       "==============================================================================\n",
       "Dep. Variable:                Vendida   No. Observations:                  404\n",
       "Model:                          Logit   Df Residuals:                      390\n",
       "Method:                           MLE   Df Model:                           13\n",
       "Date:                Tue, 03 Aug 2021   Pseudo R-squ.:                  0.2139\n",
       "Time:                        14:52:15   Log-Likelihood:                -218.88\n",
       "converged:                       True   LL-Null:                       -278.43\n",
       "Covariance Type:            nonrobust   LLR p-value:                 3.037e-19\n",
       "===================================================================================\n",
       "                      coef    std err          z      P>|z|      [0.025      0.975]\n",
       "-----------------------------------------------------------------------------------\n",
       "const              -2.9990      3.021     -0.993      0.321      -8.919       2.921\n",
       "precio             -0.2955      0.039     -7.601      0.000      -0.372      -0.219\n",
       "area_resid          0.0377      0.030      1.270      0.204      -0.020       0.096\n",
       "cal_aire           -9.9819      3.046     -3.277      0.001     -15.953      -4.011\n",
       "num_hab             1.1673      0.310      3.763      0.000       0.559       1.775\n",
       "prof_mil            0.3751      0.074      5.040      0.000       0.229       0.521\n",
       "p-pobreza          -0.2192      0.038     -5.836      0.000      -0.293      -0.146\n",
       "n_cam_hos           0.1829      0.082      2.243      0.025       0.023       0.343\n",
       "n_hab_hotel        -0.0695      0.054     -1.294      0.196      -0.175       0.036\n",
       "lluvia_ano         -0.0068      0.010     -0.699      0.484      -0.026       0.012\n",
       "parque             37.8543     28.155      1.345      0.179     -17.328      93.036\n",
       "prom_dist          -0.4467      0.103     -4.339      0.000      -0.648      -0.245\n",
       "aeropuerto_SI      -0.2759      0.239     -1.152      0.249      -0.745       0.193\n",
       "cuerpo_agua_Rio     0.4971      0.246      2.024      0.043       0.016       0.979\n",
       "===================================================================================\n",
       "\"\"\""
      ]
     },
     "execution_count": 30,
     "metadata": {},
     "output_type": "execute_result"
    }
   ],
   "source": [
    "# Se eliminan los atributos con valores por encima de\n",
    "# la significancia de los parámetros\n",
    "columnas = ['edad', 'cuerpo_agua_Lago', 'cuerpo_agua_Lago y rio']\n",
    "\n",
    "const_X = const_X.drop(columns = columnas)\n",
    "\n",
    "logit1 = sm.Logit(y_train, const_X).fit()\n",
    "logit1.summary()"
   ]
  },
  {
   "cell_type": "code",
   "execution_count": 31,
   "id": "dd09ddfd-6884-4281-8eb1-a3df018985c5",
   "metadata": {},
   "outputs": [
    {
     "name": "stdout",
     "output_type": "stream",
     "text": [
      "Optimization terminated successfully.\n",
      "         Current function value: 0.546263\n",
      "         Iterations 6\n"
     ]
    },
    {
     "data": {
      "text/html": [
       "<table class=\"simpletable\">\n",
       "<caption>Logit Regression Results</caption>\n",
       "<tr>\n",
       "  <th>Dep. Variable:</th>        <td>Vendida</td>     <th>  No. Observations:  </th>  <td>   404</td>  \n",
       "</tr>\n",
       "<tr>\n",
       "  <th>Model:</th>                 <td>Logit</td>      <th>  Df Residuals:      </th>  <td>   393</td>  \n",
       "</tr>\n",
       "<tr>\n",
       "  <th>Method:</th>                 <td>MLE</td>       <th>  Df Model:          </th>  <td>    10</td>  \n",
       "</tr>\n",
       "<tr>\n",
       "  <th>Date:</th>            <td>Tue, 03 Aug 2021</td> <th>  Pseudo R-squ.:     </th>  <td>0.2074</td>  \n",
       "</tr>\n",
       "<tr>\n",
       "  <th>Time:</th>                <td>14:53:31</td>     <th>  Log-Likelihood:    </th> <td> -220.69</td> \n",
       "</tr>\n",
       "<tr>\n",
       "  <th>converged:</th>             <td>True</td>       <th>  LL-Null:           </th> <td> -278.43</td> \n",
       "</tr>\n",
       "<tr>\n",
       "  <th>Covariance Type:</th>     <td>nonrobust</td>    <th>  LLR p-value:       </th> <td>4.189e-20</td>\n",
       "</tr>\n",
       "</table>\n",
       "<table class=\"simpletable\">\n",
       "<tr>\n",
       "         <td></td>            <th>coef</th>     <th>std err</th>      <th>z</th>      <th>P>|z|</th>  <th>[0.025</th>    <th>0.975]</th>  \n",
       "</tr>\n",
       "<tr>\n",
       "  <th>const</th>           <td>   -1.4747</td> <td>    2.656</td> <td>   -0.555</td> <td> 0.579</td> <td>   -6.680</td> <td>    3.730</td>\n",
       "</tr>\n",
       "<tr>\n",
       "  <th>precio</th>          <td>   -0.3014</td> <td>    0.039</td> <td>   -7.747</td> <td> 0.000</td> <td>   -0.378</td> <td>   -0.225</td>\n",
       "</tr>\n",
       "<tr>\n",
       "  <th>cal_aire</th>        <td>   -9.2258</td> <td>    2.962</td> <td>   -3.115</td> <td> 0.002</td> <td>  -15.030</td> <td>   -3.421</td>\n",
       "</tr>\n",
       "<tr>\n",
       "  <th>num_hab</th>         <td>    1.1390</td> <td>    0.307</td> <td>    3.706</td> <td> 0.000</td> <td>    0.537</td> <td>    1.741</td>\n",
       "</tr>\n",
       "<tr>\n",
       "  <th>prof_mil</th>        <td>    0.3570</td> <td>    0.072</td> <td>    4.982</td> <td> 0.000</td> <td>    0.217</td> <td>    0.497</td>\n",
       "</tr>\n",
       "<tr>\n",
       "  <th>p-pobreza</th>       <td>   -0.2163</td> <td>    0.037</td> <td>   -5.854</td> <td> 0.000</td> <td>   -0.289</td> <td>   -0.144</td>\n",
       "</tr>\n",
       "<tr>\n",
       "  <th>n_cam_hos</th>       <td>    0.1809</td> <td>    0.081</td> <td>    2.237</td> <td> 0.025</td> <td>    0.022</td> <td>    0.339</td>\n",
       "</tr>\n",
       "<tr>\n",
       "  <th>n_hab_hotel</th>     <td>   -0.0743</td> <td>    0.057</td> <td>   -1.313</td> <td> 0.189</td> <td>   -0.185</td> <td>    0.037</td>\n",
       "</tr>\n",
       "<tr>\n",
       "  <th>parque</th>          <td>   38.8342</td> <td>   27.889</td> <td>    1.392</td> <td> 0.164</td> <td>  -15.826</td> <td>   93.495</td>\n",
       "</tr>\n",
       "<tr>\n",
       "  <th>prom_dist</th>       <td>   -0.4795</td> <td>    0.099</td> <td>   -4.822</td> <td> 0.000</td> <td>   -0.674</td> <td>   -0.285</td>\n",
       "</tr>\n",
       "<tr>\n",
       "  <th>cuerpo_agua_Rio</th> <td>    0.4775</td> <td>    0.244</td> <td>    1.960</td> <td> 0.050</td> <td> 2.13e-05</td> <td>    0.955</td>\n",
       "</tr>\n",
       "</table>"
      ],
      "text/plain": [
       "<class 'statsmodels.iolib.summary.Summary'>\n",
       "\"\"\"\n",
       "                           Logit Regression Results                           \n",
       "==============================================================================\n",
       "Dep. Variable:                Vendida   No. Observations:                  404\n",
       "Model:                          Logit   Df Residuals:                      393\n",
       "Method:                           MLE   Df Model:                           10\n",
       "Date:                Tue, 03 Aug 2021   Pseudo R-squ.:                  0.2074\n",
       "Time:                        14:53:31   Log-Likelihood:                -220.69\n",
       "converged:                       True   LL-Null:                       -278.43\n",
       "Covariance Type:            nonrobust   LLR p-value:                 4.189e-20\n",
       "===================================================================================\n",
       "                      coef    std err          z      P>|z|      [0.025      0.975]\n",
       "-----------------------------------------------------------------------------------\n",
       "const              -1.4747      2.656     -0.555      0.579      -6.680       3.730\n",
       "precio             -0.3014      0.039     -7.747      0.000      -0.378      -0.225\n",
       "cal_aire           -9.2258      2.962     -3.115      0.002     -15.030      -3.421\n",
       "num_hab             1.1390      0.307      3.706      0.000       0.537       1.741\n",
       "prof_mil            0.3570      0.072      4.982      0.000       0.217       0.497\n",
       "p-pobreza          -0.2163      0.037     -5.854      0.000      -0.289      -0.144\n",
       "n_cam_hos           0.1809      0.081      2.237      0.025       0.022       0.339\n",
       "n_hab_hotel        -0.0743      0.057     -1.313      0.189      -0.185       0.037\n",
       "parque             38.8342     27.889      1.392      0.164     -15.826      93.495\n",
       "prom_dist          -0.4795      0.099     -4.822      0.000      -0.674      -0.285\n",
       "cuerpo_agua_Rio     0.4775      0.244      1.960      0.050    2.13e-05       0.955\n",
       "===================================================================================\n",
       "\"\"\""
      ]
     },
     "execution_count": 31,
     "metadata": {},
     "output_type": "execute_result"
    }
   ],
   "source": [
    "# Seguir eliminando atributos o parámetros que no aportan al modelo\n",
    "columnas = ['lluvia_ano', 'area_resid', 'aeropuerto_SI']\n",
    "\n",
    "const_X = const_X.drop(columns = columnas)\n",
    "\n",
    "logit2 = sm.Logit(y_train, const_X).fit()\n",
    "logit2.summary()"
   ]
  },
  {
   "cell_type": "code",
   "execution_count": 32,
   "id": "1a5e8a94-6431-4614-989d-b42e181dda55",
   "metadata": {},
   "outputs": [
    {
     "name": "stdout",
     "output_type": "stream",
     "text": [
      "Optimization terminated successfully.\n",
      "         Current function value: 0.551369\n",
      "         Iterations 6\n"
     ]
    },
    {
     "data": {
      "text/html": [
       "<table class=\"simpletable\">\n",
       "<caption>Logit Regression Results</caption>\n",
       "<tr>\n",
       "  <th>Dep. Variable:</th>        <td>Vendida</td>     <th>  No. Observations:  </th>  <td>   404</td>  \n",
       "</tr>\n",
       "<tr>\n",
       "  <th>Model:</th>                 <td>Logit</td>      <th>  Df Residuals:      </th>  <td>   395</td>  \n",
       "</tr>\n",
       "<tr>\n",
       "  <th>Method:</th>                 <td>MLE</td>       <th>  Df Model:          </th>  <td>     8</td>  \n",
       "</tr>\n",
       "<tr>\n",
       "  <th>Date:</th>            <td>Tue, 03 Aug 2021</td> <th>  Pseudo R-squ.:     </th>  <td>0.2000</td>  \n",
       "</tr>\n",
       "<tr>\n",
       "  <th>Time:</th>                <td>14:54:08</td>     <th>  Log-Likelihood:    </th> <td> -222.75</td> \n",
       "</tr>\n",
       "<tr>\n",
       "  <th>converged:</th>             <td>True</td>       <th>  LL-Null:           </th> <td> -278.43</td> \n",
       "</tr>\n",
       "<tr>\n",
       "  <th>Covariance Type:</th>     <td>nonrobust</td>    <th>  LLR p-value:       </th> <td>2.015e-20</td>\n",
       "</tr>\n",
       "</table>\n",
       "<table class=\"simpletable\">\n",
       "<tr>\n",
       "         <td></td>            <th>coef</th>     <th>std err</th>      <th>z</th>      <th>P>|z|</th>  <th>[0.025</th>    <th>0.975]</th>  \n",
       "</tr>\n",
       "<tr>\n",
       "  <th>const</th>           <td>   -1.9879</td> <td>    2.507</td> <td>   -0.793</td> <td> 0.428</td> <td>   -6.902</td> <td>    2.926</td>\n",
       "</tr>\n",
       "<tr>\n",
       "  <th>precio</th>          <td>   -0.3023</td> <td>    0.039</td> <td>   -7.779</td> <td> 0.000</td> <td>   -0.378</td> <td>   -0.226</td>\n",
       "</tr>\n",
       "<tr>\n",
       "  <th>cal_aire</th>        <td>   -6.0062</td> <td>    1.824</td> <td>   -3.293</td> <td> 0.001</td> <td>   -9.581</td> <td>   -2.432</td>\n",
       "</tr>\n",
       "<tr>\n",
       "  <th>num_hab</th>         <td>    1.1296</td> <td>    0.305</td> <td>    3.703</td> <td> 0.000</td> <td>    0.532</td> <td>    1.727</td>\n",
       "</tr>\n",
       "<tr>\n",
       "  <th>prof_mil</th>        <td>    0.3584</td> <td>    0.072</td> <td>    5.001</td> <td> 0.000</td> <td>    0.218</td> <td>    0.499</td>\n",
       "</tr>\n",
       "<tr>\n",
       "  <th>p-pobreza</th>       <td>   -0.2171</td> <td>    0.037</td> <td>   -5.875</td> <td> 0.000</td> <td>   -0.290</td> <td>   -0.145</td>\n",
       "</tr>\n",
       "<tr>\n",
       "  <th>n_cam_hos</th>       <td>    0.1761</td> <td>    0.081</td> <td>    2.187</td> <td> 0.029</td> <td>    0.018</td> <td>    0.334</td>\n",
       "</tr>\n",
       "<tr>\n",
       "  <th>prom_dist</th>       <td>   -0.4856</td> <td>    0.100</td> <td>   -4.880</td> <td> 0.000</td> <td>   -0.681</td> <td>   -0.291</td>\n",
       "</tr>\n",
       "<tr>\n",
       "  <th>cuerpo_agua_Rio</th> <td>    0.4876</td> <td>    0.242</td> <td>    2.016</td> <td> 0.044</td> <td>    0.014</td> <td>    0.962</td>\n",
       "</tr>\n",
       "</table>"
      ],
      "text/plain": [
       "<class 'statsmodels.iolib.summary.Summary'>\n",
       "\"\"\"\n",
       "                           Logit Regression Results                           \n",
       "==============================================================================\n",
       "Dep. Variable:                Vendida   No. Observations:                  404\n",
       "Model:                          Logit   Df Residuals:                      395\n",
       "Method:                           MLE   Df Model:                            8\n",
       "Date:                Tue, 03 Aug 2021   Pseudo R-squ.:                  0.2000\n",
       "Time:                        14:54:08   Log-Likelihood:                -222.75\n",
       "converged:                       True   LL-Null:                       -278.43\n",
       "Covariance Type:            nonrobust   LLR p-value:                 2.015e-20\n",
       "===================================================================================\n",
       "                      coef    std err          z      P>|z|      [0.025      0.975]\n",
       "-----------------------------------------------------------------------------------\n",
       "const              -1.9879      2.507     -0.793      0.428      -6.902       2.926\n",
       "precio             -0.3023      0.039     -7.779      0.000      -0.378      -0.226\n",
       "cal_aire           -6.0062      1.824     -3.293      0.001      -9.581      -2.432\n",
       "num_hab             1.1296      0.305      3.703      0.000       0.532       1.727\n",
       "prof_mil            0.3584      0.072      5.001      0.000       0.218       0.499\n",
       "p-pobreza          -0.2171      0.037     -5.875      0.000      -0.290      -0.145\n",
       "n_cam_hos           0.1761      0.081      2.187      0.029       0.018       0.334\n",
       "prom_dist          -0.4856      0.100     -4.880      0.000      -0.681      -0.291\n",
       "cuerpo_agua_Rio     0.4876      0.242      2.016      0.044       0.014       0.962\n",
       "===================================================================================\n",
       "\"\"\""
      ]
     },
     "execution_count": 32,
     "metadata": {},
     "output_type": "execute_result"
    }
   ],
   "source": [
    "# Seguir eliminando atributos o parámetros que no aportan al modelo\n",
    "columnas = ['n_hab_hotel', 'parque']\n",
    "\n",
    "const_X = const_X.drop(columns = columnas)\n",
    "\n",
    "logit3 = sm.Logit(y_train, const_X).fit()\n",
    "logit3.summary()"
   ]
  },
  {
   "cell_type": "markdown",
   "id": "565765b6-deca-42f6-be14-9d4f758d970e",
   "metadata": {},
   "source": [
    "## Rendimiento del modelo"
   ]
  },
  {
   "cell_type": "code",
   "execution_count": 33,
   "id": "58d1abf9-5573-410e-abe4-00c5eae185d6",
   "metadata": {},
   "outputs": [],
   "source": [
    "# Crear una lista con los valores de los atributos finales del modelo logit3\n",
    "col_final = ['precio', 'cal_aire', 'num_hab', 'prof_mil', 'p-pobreza', 'n_cam_hos', 'prom_dist', 'cuerpo_agua_Rio']"
   ]
  },
  {
   "cell_type": "code",
   "execution_count": 34,
   "id": "959ddcb4-bcdf-4d9c-a880-954a14ffe3de",
   "metadata": {},
   "outputs": [
    {
     "data": {
      "text/plain": [
       "203    0.048505\n",
       "441    0.292603\n",
       "172    0.582527\n",
       "95     0.773022\n",
       "54     0.121675\n",
       "         ...   \n",
       "98     0.149341\n",
       "476    0.522887\n",
       "322    0.651095\n",
       "382    0.447391\n",
       "365    0.019508\n",
       "Length: 404, dtype: float64"
      ]
     },
     "execution_count": 34,
     "metadata": {},
     "output_type": "execute_result"
    }
   ],
   "source": [
    "# Agregar columna de la constante de unos para poder aplicar el modelo Logit\n",
    "# al conjunto de validación\n",
    "X_test = sn.add_constant(X_test[col_final])\n",
    "y_pred_train = logit3.predict(const_X)\n",
    "y_pred_train"
   ]
  },
  {
   "cell_type": "code",
   "execution_count": 35,
   "id": "9f5598f0-5a0b-47b1-b1c7-a9a295dae32e",
   "metadata": {},
   "outputs": [
    {
     "data": {
      "text/plain": [
       "203    0\n",
       "441    0\n",
       "172    1\n",
       "95     1\n",
       "54     0\n",
       "      ..\n",
       "98     0\n",
       "476    1\n",
       "322    1\n",
       "382    0\n",
       "365    0\n",
       "Length: 404, dtype: int64"
      ]
     },
     "execution_count": 35,
     "metadata": {},
     "output_type": "execute_result"
    }
   ],
   "source": [
    "# Como las predicciones están dadas en probabilidades se convierten\n",
    "# a uno las que esten por encima de 0.5, de lo contrario la clase es 0\n",
    "# Se utiliza una función lambda que devuelve 1 si el valor es mayor a 0.5\n",
    "# o cero si es menor o igual a este umbral\n",
    "y_pred_train = y_pred_train.apply(lambda x: 1 if x > 0.5 else 0)\n",
    "y_pred_train"
   ]
  },
  {
   "cell_type": "code",
   "execution_count": 36,
   "id": "dee37729-b465-427c-832c-7c67659ce6c9",
   "metadata": {},
   "outputs": [],
   "source": [
    "# Realizar las predicciones en el conjunto de validación\n",
    "y_pred_test = logit3.predict(X_test)"
   ]
  },
  {
   "cell_type": "code",
   "execution_count": 37,
   "id": "1427788a-1395-46ca-b024-2c1ea9687a77",
   "metadata": {},
   "outputs": [],
   "source": [
    "# Convertir la predicción a ceros y unos\n",
    "y_pred_test = y_pred_test.apply(lambda x: 1 if x > 0.5 else 0)"
   ]
  },
  {
   "cell_type": "code",
   "execution_count": 38,
   "id": "49bbddf2-7414-408b-ad20-3799e5bbe19f",
   "metadata": {},
   "outputs": [
    {
     "data": {
      "text/plain": [
       "410    1\n",
       "85     1\n",
       "280    0\n",
       "422    0\n",
       "199    0\n",
       "      ..\n",
       "229    0\n",
       "159    1\n",
       "196    1\n",
       "345    0\n",
       "467    0\n",
       "Length: 102, dtype: int64"
      ]
     },
     "execution_count": 38,
     "metadata": {},
     "output_type": "execute_result"
    }
   ],
   "source": [
    "y_pred_test"
   ]
  },
  {
   "cell_type": "markdown",
   "id": "c5346c54-ff4f-4fac-9bba-74cf3abc01e5",
   "metadata": {},
   "source": [
    "### Exactitud *(Accuracy)*"
   ]
  },
  {
   "cell_type": "code",
   "execution_count": 39,
   "id": "dcdb17a6-5495-4e54-bd50-2310812a9cd8",
   "metadata": {},
   "outputs": [],
   "source": [
    "# Modulo para realizar la métrica de la exactitud\n",
    "from sklearn.metrics import accuracy_score "
   ]
  },
  {
   "cell_type": "code",
   "execution_count": 40,
   "id": "7ff1e11f-5221-49e0-9a3c-27c60853e4b0",
   "metadata": {},
   "outputs": [
    {
     "name": "stdout",
     "output_type": "stream",
     "text": [
      "Exactitud del modelo con datos de entrenamiento:  0.6856435643564357\n",
      "Exactitud del modelo con datos de validación:  0.6372549019607843\n"
     ]
    }
   ],
   "source": [
    "# Calcular la exactitud en el conjunto de entrenamien y validación,\n",
    "# comparando el valor real vs el predicho\n",
    "accuracy_ent = accuracy_score(y_train, y_pred_train)\n",
    "accuracy_test = accuracy_score(y_test, y_pred_test)\n",
    "\n",
    "print('Exactitud del modelo con datos de entrenamiento: ', accuracy_ent)\n",
    "print('Exactitud del modelo con datos de validación: ', accuracy_test)"
   ]
  },
  {
   "cell_type": "markdown",
   "id": "c4dbbeb2-8502-43d1-967a-c9f4ef9be68c",
   "metadata": {},
   "source": [
    "Los datos de la métrica de exactitud anteriores son para el modelo creado con Logit."
   ]
  },
  {
   "cell_type": "markdown",
   "id": "119e0e8d-c97b-472d-b03b-9d2ae6449ee6",
   "metadata": {},
   "source": [
    "El modelo predice correctamente cerca del 63,72% de las instancias del conjunto de validación, es un modelo con rendimiento regular que puede ser utilizado para hacer predicciones en escenarios donde el costo de los falsos positivos o falsos negativos no representen la toma de decisiones que tienen una alta repercusión o se asuman riesgos vitales."
   ]
  },
  {
   "cell_type": "markdown",
   "id": "82b7cbff-c74c-45cb-b92f-7fca71fde578",
   "metadata": {},
   "source": [
    "### Matriz de confusión para el modelo Logit"
   ]
  },
  {
   "cell_type": "code",
   "execution_count": 42,
   "id": "0cd2270d-e306-486a-8b0e-3275be9fe6d8",
   "metadata": {},
   "outputs": [
    {
     "data": {
      "text/plain": [
       "array([[155,  65],\n",
       "       [ 62, 122]], dtype=int64)"
      ]
     },
     "execution_count": 42,
     "metadata": {},
     "output_type": "execute_result"
    }
   ],
   "source": [
    "# Para los datos de entrenamiento\n",
    "confusion_matrix(y_train, y_pred_train)"
   ]
  },
  {
   "cell_type": "code",
   "execution_count": 43,
   "id": "268dd7ba-68f6-4526-a8c4-63235c7a311e",
   "metadata": {},
   "outputs": [
    {
     "data": {
      "text/plain": [
       "array([[36, 20],\n",
       "       [17, 29]], dtype=int64)"
      ]
     },
     "execution_count": 43,
     "metadata": {},
     "output_type": "execute_result"
    }
   ],
   "source": [
    "# Para los datos de validación\n",
    "confusion_matrix(y_test, y_pred_test)"
   ]
  },
  {
   "cell_type": "markdown",
   "id": "b27f294c-7c7a-41dc-b60d-03ac46727364",
   "metadata": {},
   "source": [
    "Como se puede ver la matriz de confusión del modelo logit3 es muy similar a la desarrollada con Scikitlearn, con una diferencia de un solo atributo, lo cual quiere decir que el modelo de Scikitlearn desarrolla un proceso de regularización sin la intervención del analista."
   ]
  },
  {
   "cell_type": "code",
   "execution_count": 44,
   "id": "d7cd57d3-bd65-45b5-b422-f48e18e9cc77",
   "metadata": {},
   "outputs": [
    {
     "data": {
      "text/plain": [
       "(array([False,  True,  True,  True, False,  True,  True, False,  True,\n",
       "         True,  True,  True,  True,  True,  True, False,  True,  True,\n",
       "         True,  True, False,  True, False,  True,  True,  True,  True,\n",
       "         True,  True,  True, False, False,  True,  True,  True,  True,\n",
       "         True, False,  True, False,  True,  True, False,  True,  True,\n",
       "         True,  True,  True,  True, False, False,  True, False,  True,\n",
       "         True,  True,  True,  True,  True,  True, False, False,  True,\n",
       "        False,  True,  True,  True, False,  True,  True,  True,  True,\n",
       "        False,  True,  True,  True, False,  True,  True, False,  True,\n",
       "         True, False, False,  True,  True, False,  True,  True, False,\n",
       "         True,  True, False, False,  True,  True, False,  True,  True,\n",
       "        False,  True, False,  True,  True,  True, False,  True,  True,\n",
       "         True,  True,  True,  True,  True,  True,  True, False,  True,\n",
       "         True,  True,  True,  True,  True,  True,  True,  True,  True,\n",
       "         True,  True,  True, False, False,  True, False,  True,  True,\n",
       "         True, False,  True,  True,  True,  True,  True,  True, False,\n",
       "         True,  True,  True,  True, False, False,  True, False,  True,\n",
       "         True, False, False,  True, False,  True,  True,  True, False,\n",
       "        False,  True,  True,  True,  True,  True,  True,  True,  True,\n",
       "        False,  True,  True,  True,  True,  True, False,  True,  True,\n",
       "        False, False,  True,  True, False,  True,  True,  True,  True,\n",
       "         True,  True,  True, False,  True,  True, False, False,  True,\n",
       "         True, False,  True,  True, False,  True,  True,  True,  True,\n",
       "         True, False, False,  True,  True, False,  True,  True,  True,\n",
       "        False,  True,  True,  True, False,  True,  True,  True,  True,\n",
       "         True,  True,  True,  True,  True,  True,  True,  True, False,\n",
       "         True,  True,  True, False,  True,  True, False, False,  True,\n",
       "        False, False,  True,  True,  True,  True, False,  True, False,\n",
       "         True,  True,  True,  True, False,  True,  True,  True,  True,\n",
       "         True,  True,  True, False, False,  True, False,  True,  True,\n",
       "         True, False,  True,  True,  True,  True,  True, False,  True,\n",
       "         True,  True,  True, False,  True, False,  True,  True, False,\n",
       "         True,  True,  True,  True,  True, False,  True,  True,  True,\n",
       "         True, False, False,  True,  True,  True,  True, False,  True,\n",
       "        False, False, False, False,  True,  True, False,  True,  True,\n",
       "         True,  True,  True, False, False,  True,  True, False, False,\n",
       "         True, False,  True, False,  True, False,  True,  True, False,\n",
       "         True,  True,  True,  True,  True,  True,  True,  True,  True,\n",
       "         True,  True, False,  True,  True, False,  True,  True,  True,\n",
       "         True,  True,  True, False, False, False, False,  True,  True,\n",
       "         True,  True,  True,  True,  True,  True,  True,  True,  True,\n",
       "         True, False,  True,  True, False,  True, False,  True,  True,\n",
       "        False,  True,  True, False,  True, False,  True, False,  True,\n",
       "         True, False,  True,  True, False, False,  True, False, False,\n",
       "         True, False,  True, False,  True,  True,  True, False]),\n",
       " array([[115, 102],\n",
       "        [  0, 187]], dtype=int64))"
      ]
     },
     "execution_count": 44,
     "metadata": {},
     "output_type": "execute_result"
    }
   ],
   "source": [
    "# Si se desea trabajar con las probabilidades de sklearn se usa la función predic_proba()\n",
    "# e igualmente se puede manipular el umbral de decisión de la clase.\n",
    "# En el siguiente código el umbrar para predecir uno se da a partir de 0.3\n",
    "y_pred_sk = (reg_model.predict_proba(X_train[col_final])[:, 1]>0.3) # Columna uno del\n",
    "# array (matriz) generada con predict_proba\n",
    "y_pred_sk"
   ]
  },
  {
   "cell_type": "code",
   "execution_count": 45,
   "id": "19134b45-48a6-4783-a628-87d9ba1b5dd7",
   "metadata": {},
   "outputs": [
    {
     "data": {
      "text/plain": [
       "array([[100, 120],\n",
       "       [ 15, 169]], dtype=int64)"
      ]
     },
     "execution_count": 45,
     "metadata": {},
     "output_type": "execute_result"
    }
   ],
   "source": [
    "# Matriz de confusión en el conjunto de validación con el umbral en 0.3\n",
    "confusion_matrix(y_train, y_pred_sk)"
   ]
  },
  {
   "cell_type": "markdown",
   "id": "956332dd-d537-422e-af1b-3bcda42d0ba7",
   "metadata": {},
   "source": [
    "Logramos disminuir en el conjunto de entremiento instancias en los falsos positivos, por lo tanto los modelos pueden mejorarse intentando trabajar con diferentes umbrales de decisión para las predicciones."
   ]
  },
  {
   "cell_type": "markdown",
   "id": "2978d37b-d530-4945-9458-ee909a905257",
   "metadata": {},
   "source": [
    "### Otras métricas (Precisión, Recall, AUC)"
   ]
  },
  {
   "cell_type": "code",
   "execution_count": 46,
   "id": "ca7f6421-cd2c-4746-a3a2-dfbb5c5513e7",
   "metadata": {
    "tags": []
   },
   "outputs": [],
   "source": [
    "# Importar otras métricas, interpretación de ellas se debe realizar como una actividad\n",
    "from sklearn.metrics import precision_score, recall_score, roc_auc_score, roc_curve"
   ]
  },
  {
   "cell_type": "code",
   "execution_count": 47,
   "id": "7a2da2c0-dc4e-42a7-b2e6-7cb26412699e",
   "metadata": {},
   "outputs": [
    {
     "data": {
      "text/plain": [
       "0.6524064171122995"
      ]
     },
     "execution_count": 47,
     "metadata": {},
     "output_type": "execute_result"
    }
   ],
   "source": [
    "precision_score(y_train, y_pred_train)"
   ]
  },
  {
   "cell_type": "code",
   "execution_count": 48,
   "id": "6cd5ec0e-3d4e-410d-8d34-3de59c3d70db",
   "metadata": {},
   "outputs": [
    {
     "data": {
      "text/plain": [
       "0.6630434782608695"
      ]
     },
     "execution_count": 48,
     "metadata": {},
     "output_type": "execute_result"
    }
   ],
   "source": [
    "recall_score(y_train, y_pred_train)"
   ]
  },
  {
   "cell_type": "code",
   "execution_count": 49,
   "id": "0e752db4-da44-45ae-aa23-1cae740db7a0",
   "metadata": {},
   "outputs": [
    {
     "data": {
      "text/plain": [
       "0.6837944664031621"
      ]
     },
     "execution_count": 49,
     "metadata": {},
     "output_type": "execute_result"
    }
   ],
   "source": [
    "roc_auc_score(y_train, y_pred_train)"
   ]
  },
  {
   "cell_type": "code",
   "execution_count": 50,
   "id": "ed811de3-d66e-4cce-ae97-143902616c62",
   "metadata": {},
   "outputs": [
    {
     "data": {
      "text/plain": [
       "(array([0.        , 0.        , 0.        , 0.01785714, 0.01785714,\n",
       "        0.05357143, 0.05357143, 0.08928571, 0.08928571, 0.125     ,\n",
       "        0.125     , 0.17857143, 0.17857143, 0.19642857, 0.19642857,\n",
       "        0.21428571, 0.21428571, 0.26785714, 0.26785714, 0.28571429,\n",
       "        0.28571429, 0.32142857, 0.32142857, 0.35714286, 0.35714286,\n",
       "        0.44642857, 0.44642857, 0.46428571, 0.46428571, 0.53571429,\n",
       "        0.53571429, 0.55357143, 0.55357143, 0.60714286, 0.60714286,\n",
       "        0.67857143, 0.67857143, 0.75      , 0.75      , 0.78571429,\n",
       "        0.78571429, 1.        ]),\n",
       " array([0.        , 0.02173913, 0.10869565, 0.10869565, 0.15217391,\n",
       "        0.15217391, 0.2173913 , 0.2173913 , 0.34782609, 0.34782609,\n",
       "        0.41304348, 0.41304348, 0.45652174, 0.45652174, 0.47826087,\n",
       "        0.47826087, 0.58695652, 0.58695652, 0.63043478, 0.63043478,\n",
       "        0.65217391, 0.65217391, 0.67391304, 0.67391304, 0.69565217,\n",
       "        0.69565217, 0.7173913 , 0.7173913 , 0.80434783, 0.80434783,\n",
       "        0.89130435, 0.89130435, 0.91304348, 0.91304348, 0.93478261,\n",
       "        0.93478261, 0.95652174, 0.95652174, 0.97826087, 0.97826087,\n",
       "        1.        , 1.        ]),\n",
       " array([1.98267887e+00, 9.82678872e-01, 9.26772665e-01, 8.92440150e-01,\n",
       "        8.73684922e-01, 8.48408700e-01, 8.00176648e-01, 7.60997684e-01,\n",
       "        7.03714251e-01, 6.61378176e-01, 6.46058018e-01, 6.05179859e-01,\n",
       "        5.93072647e-01, 5.84636352e-01, 5.84285403e-01, 5.76798644e-01,\n",
       "        5.49372257e-01, 5.40813827e-01, 5.35087751e-01, 5.33991949e-01,\n",
       "        5.23433762e-01, 4.97065968e-01, 4.93714259e-01, 4.85613885e-01,\n",
       "        4.82199697e-01, 4.44424957e-01, 4.24352238e-01, 4.12704709e-01,\n",
       "        3.75586696e-01, 3.45511068e-01, 3.16029621e-01, 3.12962205e-01,\n",
       "        2.99903761e-01, 2.48982773e-01, 2.48914773e-01, 2.04650790e-01,\n",
       "        1.99617485e-01, 1.37981095e-01, 1.33608411e-01, 1.13325332e-01,\n",
       "        1.09006330e-01, 1.18679973e-03]))"
      ]
     },
     "execution_count": 50,
     "metadata": {},
     "output_type": "execute_result"
    }
   ],
   "source": [
    "# Calcular los valores necesarios para graficar la curva ROC\n",
    "# x_roc es la tasa de falsos positivos\n",
    "# y_roc es la tasa de verdaderos positivos\n",
    "# _ son valores auxiliares generados para calcular los dos anteriores\n",
    "x_roc, y_roc, _ = roc_curve(y_test, reg_model.predict_proba(X_test[col_final])[:, 1]) # Devuelve tres valores\n",
    "# Tasas de falsos positivos, Tasas de verdaderos positivos, umbrales\n",
    "\n",
    "x_roc, y_roc, _"
   ]
  },
  {
   "cell_type": "code",
   "execution_count": 51,
   "id": "bf2cfe04-56b5-4ff9-8817-2f1d1a30d968",
   "metadata": {},
   "outputs": [
    {
     "data": {
      "text/plain": [
       "Text(0, 0.5, 'Tasa de Verdaderos Positivos')"
      ]
     },
     "execution_count": 51,
     "metadata": {},
     "output_type": "execute_result"
    },
    {
     "data": {
      "image/png": "[encoded data removed]",
      "text/plain": [
       "<Figure size 432x288 with 1 Axes>"
      ]
     },
     "metadata": {
      "needs_background": "light"
     },
     "output_type": "display_data"
    }
   ],
   "source": [
    "# Generar la gráfica\n",
    "plt.plot(x_roc, y_roc, marker = '.', label = 'Curva ROC modelo de Regresión logística')\n",
    "plt.xlabel('Tasa de Falsos Positivos')\n",
    "plt.ylabel('Tasa de Verdaderos Positivos')"
   ]
  },
  {
   "cell_type": "code",
   "execution_count": 52,
   "id": "31801124-d62e-48b2-87bf-59847a88a83a",
   "metadata": {},
   "outputs": [
    {
     "data": {
      "text/plain": [
       "array([0.92884061, 0.70371425, 0.08551795, 0.31602962, 0.13360841,\n",
       "       0.98267887, 0.24891477, 0.54081383, 0.04698479, 0.2366542 ,\n",
       "       0.76099768, 0.54634925, 0.41270471, 0.8484087 , 0.10234225,\n",
       "       0.65533577, 0.31806053, 0.14115685, 0.45192406, 0.47995744,\n",
       "       0.39747288, 0.0011868 , 0.24898277, 0.08397984, 0.00577041,\n",
       "       0.49091116, 0.59307265, 0.31296221, 0.70972848, 0.64605802,\n",
       "       0.49371426, 0.6423967 , 0.88179115, 0.49706597, 0.54937226,\n",
       "       0.55548652, 0.72148035, 0.55733877, 0.39579105, 0.3755867 ,\n",
       "       0.27473793, 0.53399195, 0.1073438 , 0.09104653, 0.02408724,\n",
       "       0.80243268, 0.58463635, 0.77193057, 0.34379191, 0.93351326,\n",
       "       0.65938406, 0.10900633, 0.34709245, 0.20465079, 0.92677266,\n",
       "       0.66137818, 0.12032784, 0.0688917 , 0.11332533, 0.34946959,\n",
       "       0.48561389, 0.53508775, 0.94858819, 0.34551107, 0.29990376,\n",
       "       0.62011731, 0.47270485, 0.83644207, 0.60517986, 0.52343376,\n",
       "       0.29183519, 0.72749633, 0.37992547, 0.33151289, 0.74739879,\n",
       "       0.19961749, 0.54805631, 0.13798109, 0.89244015, 0.00280601,\n",
       "       0.51635102, 0.4821997 , 0.57231798, 0.2130447 , 0.05656573,\n",
       "       0.5354171 , 0.80017665, 0.67039805, 0.23863351, 0.72333972,\n",
       "       0.8645106 , 0.57679864, 0.36579237, 0.60243578, 0.17736506,\n",
       "       0.5842854 , 0.44442496, 0.44919148, 0.87368492, 0.57056503,\n",
       "       0.42435224, 0.16163089])"
      ]
     },
     "execution_count": 52,
     "metadata": {},
     "output_type": "execute_result"
    }
   ],
   "source": [
    "reg_model.predict_proba(X_test[col_final])[:, 1]"
   ]
  }
 ],
 "metadata": {
  "kernelspec": {
   "display_name": "Python 3",
   "language": "python",
   "name": "python3"
  },
  "language_info": {
   "codemirror_mode": {
    "name": "ipython",
    "version": 3
   },
   "file_extension": ".py",
   "mimetype": "text/x-python",
   "name": "python",
   "nbconvert_exporter": "python",
   "pygments_lexer": "ipython3",
   "version": "3.9.5"
  }
 },
 "nbformat": 4,
 "nbformat_minor": 5
}
