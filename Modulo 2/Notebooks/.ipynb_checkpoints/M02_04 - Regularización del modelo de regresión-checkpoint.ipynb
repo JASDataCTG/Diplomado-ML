{
 "cells": [
  {
   "cell_type": "markdown",
   "id": "b7daf59b-65c1-4bc9-8a88-f8e2415ba55d",
   "metadata": {},
   "source": [
    "# Regularización del modelo de regresión lineal"
   ]
  },
  {
   "cell_type": "code",
   "execution_count": 1,
   "id": "0a1e8001-7d10-4e6d-9f80-a1c95222c45f",
   "metadata": {},
   "outputs": [],
   "source": [
    "import numpy as np # https://numpy.org/\n",
    "import pandas as pd # https://pandas.pydata.org/\n",
    "import seaborn as sns # https://seaborn.pydata.org/\n",
    "import matplotlib.pyplot as plt # https://matplotlib.org/stable/api/_as_gen/matplotlib.pyplot.html\n",
    "%matplotlib inline"
   ]
  },
  {
   "cell_type": "code",
   "execution_count": 2,
   "id": "8a8d9eac-8b22-4070-bac0-5be333034352",
   "metadata": {},
   "outputs": [],
   "source": [
    "# Leer el archivo generado en el notebook de preproceso\n",
    "df = pd.read_csv('precio_prep_reg.csv', header = 0)"
   ]
  },
  {
   "cell_type": "code",
   "execution_count": 3,
   "id": "a046d294-a7d9-4859-8e94-311080d91468",
   "metadata": {},
   "outputs": [],
   "source": [
    "# Crear un nuevo dataframe sin la columna precio (axis=1 -> borra columna)\n",
    "X_multiple = df.drop('precio', axis = 1)"
   ]
  },
  {
   "cell_type": "code",
   "execution_count": 4,
   "id": "ed5e67e7-22a1-40bd-9d35-e66b5bd1b56a",
   "metadata": {
    "tags": []
   },
   "outputs": [],
   "source": [
    "y_multiple = df['precio']"
   ]
  },
  {
   "cell_type": "code",
   "execution_count": 5,
   "id": "cbbb59e2-b875-497c-b4ae-e631041e1de9",
   "metadata": {},
   "outputs": [],
   "source": [
    "# Importar el modulo y la función necesaria para el modelo de regresión lineal\n",
    "from sklearn.linear_model import LinearRegression"
   ]
  },
  {
   "cell_type": "markdown",
   "id": "8cc9abc4-7071-4a6b-871b-1d6a539d7f9c",
   "metadata": {},
   "source": [
    "### División de los datos en set de entrenamiento y validación"
   ]
  },
  {
   "cell_type": "code",
   "execution_count": 6,
   "id": "4f88ff72-a085-4ee6-b473-b5272fa3d35f",
   "metadata": {},
   "outputs": [],
   "source": [
    "# Importar modulo y función necesaria para hacer una división\n",
    "# aleatoria de los datos\n",
    "from sklearn.model_selection import train_test_split"
   ]
  },
  {
   "cell_type": "code",
   "execution_count": 7,
   "id": "945af1f6-47cc-4a83-87c7-d3b8c7197136",
   "metadata": {},
   "outputs": [],
   "source": [
    "# Obtener los cuatro conjuntos de datos necesarios para el modelo\n",
    "X_train, X_test, y_train, y_test = train_test_split(X_multiple, y_multiple, test_size = 0.2, random_state = 123) "
   ]
  },
  {
   "cell_type": "code",
   "execution_count": 8,
   "id": "51a91b7e-03d6-48bd-a733-0c6e063a485d",
   "metadata": {},
   "outputs": [
    {
     "data": {
      "text/plain": [
       "((404, 15), (102, 15), (102,), (404,))"
      ]
     },
     "execution_count": 8,
     "metadata": {},
     "output_type": "execute_result"
    }
   ],
   "source": [
    "# Revisar las dimensiones de las matrices de los dataframes generados\n",
    "X_train.shape, X_test.shape, y_test.shape, y_train.shape"
   ]
  },
  {
   "cell_type": "code",
   "execution_count": 9,
   "id": "eba321a2-9180-41db-a5fb-9c3f3c5e2e86",
   "metadata": {},
   "outputs": [],
   "source": [
    "linear_model_s = LinearRegression()"
   ]
  },
  {
   "cell_type": "code",
   "execution_count": 10,
   "id": "153d55e4-f5f7-4159-8fc0-531fd5bd3b00",
   "metadata": {},
   "outputs": [
    {
     "data": {
      "text/plain": [
       "LinearRegression()"
      ]
     },
     "execution_count": 10,
     "metadata": {},
     "output_type": "execute_result"
    }
   ],
   "source": [
    "linear_model_s.fit(X_train, y_train)"
   ]
  },
  {
   "cell_type": "code",
   "execution_count": 11,
   "id": "de34e4f8-e3be-4e9d-a152-275fe737664b",
   "metadata": {},
   "outputs": [],
   "source": [
    "# Realizar la predicción en el conjunto de entrenamiento\n",
    "y_train_s = linear_model_s.predict(X_train)"
   ]
  },
  {
   "cell_type": "code",
   "execution_count": 12,
   "id": "5774b5a3-dfaa-4f6e-811e-6af712682a60",
   "metadata": {},
   "outputs": [],
   "source": [
    "# Realizar la predicción en el conjunto de validación\n",
    "y_test_s = linear_model_s.predict(X_test)"
   ]
  },
  {
   "cell_type": "code",
   "execution_count": 13,
   "id": "ea2a01b3-0677-45ab-9419-ad21faabf59e",
   "metadata": {},
   "outputs": [],
   "source": [
    "# Importar la función que realiza el calculo del RMSE\n",
    "from sklearn.metrics import r2_score"
   ]
  },
  {
   "cell_type": "code",
   "execution_count": 14,
   "id": "9c5eaebb-a975-42b0-a055-94245e86b276",
   "metadata": {},
   "outputs": [
    {
     "data": {
      "text/plain": [
       "0.7476776519461668"
      ]
     },
     "execution_count": 14,
     "metadata": {},
     "output_type": "execute_result"
    }
   ],
   "source": [
    "# Ver la bondad de ajuste en los datos de entrenamiento\n",
    "r2_score(y_train, y_train_s)"
   ]
  },
  {
   "cell_type": "code",
   "execution_count": 15,
   "id": "2750e37e-598d-4fc9-805f-e3cbe2d9464c",
   "metadata": {},
   "outputs": [
    {
     "data": {
      "text/plain": [
       "0.5948163371697065"
      ]
     },
     "execution_count": 15,
     "metadata": {},
     "output_type": "execute_result"
    }
   ],
   "source": [
    "# Ver la bondad de ajuste en los datos de validación\n",
    "r2_score(y_test, y_test_s)"
   ]
  },
  {
   "cell_type": "markdown",
   "id": "78e51f78-a4f7-4ae3-a3ad-3712c39e5a7f",
   "metadata": {},
   "source": [
    "# Regularización por el método Ridge\n",
    "Este método penaliza la sumatoria de los parámetros elevados al cuadrado, reduce proporcionalmente los valores de los parámetros del modelo sin que jamás alcancen el valor de cero. El grado de penalización se controla por un hiperparámetro $\\lambda$, cuado este es igual a cero no hay penalización al modelo y es equivalente a aplicar el modelo de regresión tradicional, a mayor $\\lambda$ la penalización aumenta y disminuyen los valores de los predictores.\n",
    "\n",
    "$\\huge{\\sum_{i=1}^{n}(y_{i}-\\theta_{0}-\\sum_{j=1}^p\\theta_{j}x_{ij})+\\lambda\\sum_{j=1}^p\\theta_{j}^2}$\n",
    "\n",
    "Para el caso de la regularización utilizando gradiente de descenso, la formula queda de la siguiente forma:\n",
    "\n",
    "$\\large{\\theta_{j}=(1-\\frac{\\alpha}{m})-\\alpha\\frac{1}{m}\\sum_{i=1}^{m}(h_{\\theta}(x^{(i)})-y^{(i)})x^{(i)}}$"
   ]
  },
  {
   "cell_type": "code",
   "execution_count": 16,
   "id": "e650fb5e-1f36-43db-9660-8ad941f1c8cc",
   "metadata": {},
   "outputs": [],
   "source": [
    "# Importar el modulo de preproceso\n",
    "from sklearn import preprocessing"
   ]
  },
  {
   "cell_type": "code",
   "execution_count": 17,
   "id": "3fe51786-61c1-4835-85ec-b35c7a6251f1",
   "metadata": {},
   "outputs": [],
   "source": [
    "# Crear un modelo para la normalización de los datos de X_train\n",
    "escala = preprocessing.StandardScaler().fit(X_train)"
   ]
  },
  {
   "cell_type": "code",
   "execution_count": 18,
   "id": "b8da22bc-e56b-4128-a8d9-7f87a31d87c1",
   "metadata": {},
   "outputs": [],
   "source": [
    "# Escalar (normalizar) el conjunto de datos de entrenamiento\n",
    "X_train_esc = escala.transform(X_train)"
   ]
  },
  {
   "cell_type": "code",
   "execution_count": 19,
   "id": "249edaf3-c266-4b47-812e-cfde722f00e5",
   "metadata": {},
   "outputs": [
    {
     "data": {
      "text/plain": [
       "array([[-0.7563966 , -1.2260954 , -1.19901595, ..., -0.5007734 ,\n",
       "        -0.38435306, -0.76440416],\n",
       "       [ 1.55145024,  0.99548171,  1.58732869, ..., -0.5007734 ,\n",
       "         2.60177454, -0.76440416],\n",
       "       [-0.66185639, -1.02871793, -0.39124269, ..., -0.5007734 ,\n",
       "        -0.38435306,  1.30820847],\n",
       "       ...,\n",
       "       [-0.49338271, -0.548961  , -0.53748492, ..., -0.5007734 ,\n",
       "        -0.38435306, -0.76440416],\n",
       "       [ 1.50072639,  0.99548171,  1.24322932, ..., -0.5007734 ,\n",
       "        -0.38435306,  1.30820847],\n",
       "       [ 0.90228673,  0.99548171,  1.39807403, ..., -0.5007734 ,\n",
       "        -0.38435306,  1.30820847]])"
      ]
     },
     "execution_count": 19,
     "metadata": {},
     "output_type": "execute_result"
    }
   ],
   "source": [
    "X_train_esc"
   ]
  },
  {
   "cell_type": "code",
   "execution_count": 20,
   "id": "6e0133bb-5afc-455f-b202-982bf92f2443",
   "metadata": {},
   "outputs": [
    {
     "data": {
      "text/plain": [
       "(404, 15)"
      ]
     },
     "execution_count": 20,
     "metadata": {},
     "output_type": "execute_result"
    }
   ],
   "source": [
    "X_train_esc.shape"
   ]
  },
  {
   "cell_type": "code",
   "execution_count": 21,
   "id": "ecb56164-d7c5-4112-9fe1-6b5d29cd6513",
   "metadata": {},
   "outputs": [],
   "source": [
    "# Escalar el conjunto de datos de validación\n",
    "X_test_esc = escala.transform(X_test)"
   ]
  },
  {
   "cell_type": "code",
   "execution_count": 22,
   "id": "1a6db8da-4262-48ad-ad2e-388b9a604097",
   "metadata": {},
   "outputs": [
    {
     "data": {
      "text/plain": [
       "array([[ 3.11240444,  0.99548171,  0.35717344, ..., -0.5007734 ,\n",
       "        -0.38435306,  1.30820847],\n",
       "       [-0.73540318, -0.96532662, -0.91599422, ..., -0.5007734 ,\n",
       "        -0.38435306,  1.30820847],\n",
       "       [-0.75574835, -1.13244915, -0.96846938, ..., -0.5007734 ,\n",
       "        -0.38435306, -0.76440416],\n",
       "       ...,\n",
       "       [-0.75163044, -1.39321793, -1.30310601, ..., -0.5007734 ,\n",
       "         2.60177454, -0.76440416],\n",
       "       [-0.76018979, -0.97973374, -0.97621161, ...,  1.9969112 ,\n",
       "        -0.38435306, -0.76440416],\n",
       "       [ 0.87826202,  0.99548171,  0.24534115, ..., -0.5007734 ,\n",
       "         2.60177454, -0.76440416]])"
      ]
     },
     "execution_count": 22,
     "metadata": {},
     "output_type": "execute_result"
    }
   ],
   "source": [
    "X_test_esc"
   ]
  },
  {
   "cell_type": "code",
   "execution_count": 23,
   "id": "dec7e1b2-5121-49f8-b0b8-5c74d0a1cd1b",
   "metadata": {},
   "outputs": [
    {
     "data": {
      "text/plain": [
       "(102, 15)"
      ]
     },
     "execution_count": 23,
     "metadata": {},
     "output_type": "execute_result"
    }
   ],
   "source": [
    "X_test_esc.shape"
   ]
  },
  {
   "cell_type": "code",
   "execution_count": 24,
   "id": "ac088fb3-cf8c-44f4-9b25-f1c814642904",
   "metadata": {},
   "outputs": [],
   "source": [
    "#Importar el modelo de regularización Ridge\n",
    "from sklearn.linear_model import Ridge"
   ]
  },
  {
   "cell_type": "code",
   "execution_count": 25,
   "id": "0d2e4ef0-476c-4aae-ada7-0d6fdfb43164",
   "metadata": {},
   "outputs": [
    {
     "data": {
      "text/plain": [
       "Ridge(alpha=0.5)"
      ]
     },
     "execution_count": 25,
     "metadata": {},
     "output_type": "execute_result"
    }
   ],
   "source": [
    "# Ajustar el modelo con un $\\lambda=0.5$ (alpha = 0.5 de acuerdo a los parámetros del modelo en Python)\n",
    "linear_model_r = Ridge(alpha = 0.5)\n",
    "linear_model_r.fit(X_train_esc, y_train)"
   ]
  },
  {
   "cell_type": "code",
   "execution_count": 26,
   "id": "e5257fa2-1645-4bfc-80c6-d6c738f995a9",
   "metadata": {},
   "outputs": [
    {
     "data": {
      "text/plain": [
       "0.5948831467837294"
      ]
     },
     "execution_count": 26,
     "metadata": {},
     "output_type": "execute_result"
    }
   ],
   "source": [
    "# Calcular r2 en el conjunto de validación\n",
    "r2_score(y_test, linear_model_r.predict(X_test_esc))"
   ]
  },
  {
   "cell_type": "code",
   "execution_count": 27,
   "id": "d47b2790-db61-43a3-827f-8bf2b83f858f",
   "metadata": {},
   "outputs": [],
   "source": [
    "# Importar el modulo que permite determinar las puntuaciones para diferentes valores de parámetros\n",
    "from sklearn.model_selection import validation_curve"
   ]
  },
  {
   "cell_type": "code",
   "execution_count": 28,
   "id": "0ecd9f5a-7267-454f-a002-3779f688d03c",
   "metadata": {},
   "outputs": [
    {
     "data": {
      "text/plain": [
       "\u001b[1;31mSignature:\u001b[0m\n",
       "\u001b[0mvalidation_curve\u001b[0m\u001b[1;33m(\u001b[0m\u001b[1;33m\n",
       "\u001b[0m    \u001b[0mestimator\u001b[0m\u001b[1;33m,\u001b[0m\u001b[1;33m\n",
       "\u001b[0m    \u001b[0mX\u001b[0m\u001b[1;33m,\u001b[0m\u001b[1;33m\n",
       "\u001b[0m    \u001b[0my\u001b[0m\u001b[1;33m,\u001b[0m\u001b[1;33m\n",
       "\u001b[0m    \u001b[1;33m*\u001b[0m\u001b[1;33m,\u001b[0m\u001b[1;33m\n",
       "\u001b[0m    \u001b[0mparam_name\u001b[0m\u001b[1;33m,\u001b[0m\u001b[1;33m\n",
       "\u001b[0m    \u001b[0mparam_range\u001b[0m\u001b[1;33m,\u001b[0m\u001b[1;33m\n",
       "\u001b[0m    \u001b[0mgroups\u001b[0m\u001b[1;33m=\u001b[0m\u001b[1;32mNone\u001b[0m\u001b[1;33m,\u001b[0m\u001b[1;33m\n",
       "\u001b[0m    \u001b[0mcv\u001b[0m\u001b[1;33m=\u001b[0m\u001b[1;32mNone\u001b[0m\u001b[1;33m,\u001b[0m\u001b[1;33m\n",
       "\u001b[0m    \u001b[0mscoring\u001b[0m\u001b[1;33m=\u001b[0m\u001b[1;32mNone\u001b[0m\u001b[1;33m,\u001b[0m\u001b[1;33m\n",
       "\u001b[0m    \u001b[0mn_jobs\u001b[0m\u001b[1;33m=\u001b[0m\u001b[1;32mNone\u001b[0m\u001b[1;33m,\u001b[0m\u001b[1;33m\n",
       "\u001b[0m    \u001b[0mpre_dispatch\u001b[0m\u001b[1;33m=\u001b[0m\u001b[1;34m'all'\u001b[0m\u001b[1;33m,\u001b[0m\u001b[1;33m\n",
       "\u001b[0m    \u001b[0mverbose\u001b[0m\u001b[1;33m=\u001b[0m\u001b[1;36m0\u001b[0m\u001b[1;33m,\u001b[0m\u001b[1;33m\n",
       "\u001b[0m    \u001b[0merror_score\u001b[0m\u001b[1;33m=\u001b[0m\u001b[0mnan\u001b[0m\u001b[1;33m,\u001b[0m\u001b[1;33m\n",
       "\u001b[0m    \u001b[0mfit_params\u001b[0m\u001b[1;33m=\u001b[0m\u001b[1;32mNone\u001b[0m\u001b[1;33m,\u001b[0m\u001b[1;33m\n",
       "\u001b[0m\u001b[1;33m)\u001b[0m\u001b[1;33m\u001b[0m\u001b[1;33m\u001b[0m\u001b[0m\n",
       "\u001b[1;31mDocstring:\u001b[0m\n",
       "Validation curve.\n",
       "\n",
       "Determine training and test scores for varying parameter values.\n",
       "\n",
       "Compute scores for an estimator with different values of a specified\n",
       "parameter. This is similar to grid search with one parameter. However, this\n",
       "will also compute training scores and is merely a utility for plotting the\n",
       "results.\n",
       "\n",
       "Read more in the :ref:`User Guide <validation_curve>`.\n",
       "\n",
       "Parameters\n",
       "----------\n",
       "estimator : object type that implements the \"fit\" and \"predict\" methods\n",
       "    An object of that type which is cloned for each validation.\n",
       "\n",
       "X : array-like of shape (n_samples, n_features)\n",
       "    Training vector, where n_samples is the number of samples and\n",
       "    n_features is the number of features.\n",
       "\n",
       "y : array-like of shape (n_samples,) or (n_samples, n_outputs) or None\n",
       "    Target relative to X for classification or regression;\n",
       "    None for unsupervised learning.\n",
       "\n",
       "param_name : str\n",
       "    Name of the parameter that will be varied.\n",
       "\n",
       "param_range : array-like of shape (n_values,)\n",
       "    The values of the parameter that will be evaluated.\n",
       "\n",
       "groups : array-like of shape (n_samples,), default=None\n",
       "    Group labels for the samples used while splitting the dataset into\n",
       "    train/test set. Only used in conjunction with a \"Group\" :term:`cv`\n",
       "    instance (e.g., :class:`GroupKFold`).\n",
       "\n",
       "cv : int, cross-validation generator or an iterable, default=None\n",
       "    Determines the cross-validation splitting strategy.\n",
       "    Possible inputs for cv are:\n",
       "\n",
       "    - None, to use the default 5-fold cross validation,\n",
       "    - int, to specify the number of folds in a `(Stratified)KFold`,\n",
       "    - :term:`CV splitter`,\n",
       "    - An iterable yielding (train, test) splits as arrays of indices.\n",
       "\n",
       "    For int/None inputs, if the estimator is a classifier and ``y`` is\n",
       "    either binary or multiclass, :class:`StratifiedKFold` is used. In all\n",
       "    other cases, :class:`KFold` is used.\n",
       "\n",
       "    Refer :ref:`User Guide <cross_validation>` for the various\n",
       "    cross-validation strategies that can be used here.\n",
       "\n",
       "    .. versionchanged:: 0.22\n",
       "        ``cv`` default value if None changed from 3-fold to 5-fold.\n",
       "\n",
       "scoring : str or callable, default=None\n",
       "    A str (see model evaluation documentation) or\n",
       "    a scorer callable object / function with signature\n",
       "    ``scorer(estimator, X, y)``.\n",
       "\n",
       "n_jobs : int, default=None\n",
       "    Number of jobs to run in parallel. Training the estimator and computing\n",
       "    the score are parallelized over the combinations of each parameter\n",
       "    value and each cross-validation split.\n",
       "    ``None`` means 1 unless in a :obj:`joblib.parallel_backend` context.\n",
       "    ``-1`` means using all processors. See :term:`Glossary <n_jobs>`\n",
       "    for more details.\n",
       "\n",
       "pre_dispatch : int or str, default='all'\n",
       "    Number of predispatched jobs for parallel execution (default is\n",
       "    all). The option can reduce the allocated memory. The str can\n",
       "    be an expression like '2*n_jobs'.\n",
       "\n",
       "verbose : int, default=0\n",
       "    Controls the verbosity: the higher, the more messages.\n",
       "\n",
       "fit_params : dict, default=None\n",
       "    Parameters to pass to the fit method of the estimator.\n",
       "\n",
       "    .. versionadded:: 0.24\n",
       "\n",
       "error_score : 'raise' or numeric, default=np.nan\n",
       "    Value to assign to the score if an error occurs in estimator fitting.\n",
       "    If set to 'raise', the error is raised.\n",
       "    If a numeric value is given, FitFailedWarning is raised.\n",
       "\n",
       "    .. versionadded:: 0.20\n",
       "\n",
       "Returns\n",
       "-------\n",
       "train_scores : array of shape (n_ticks, n_cv_folds)\n",
       "    Scores on training sets.\n",
       "\n",
       "test_scores : array of shape (n_ticks, n_cv_folds)\n",
       "    Scores on test set.\n",
       "\n",
       "Notes\n",
       "-----\n",
       "See :ref:`sphx_glr_auto_examples_model_selection_plot_validation_curve.py`\n",
       "\u001b[1;31mFile:\u001b[0m      d:\\jasdata\\python39\\lib\\site-packages\\sklearn\\model_selection\\_validation.py\n",
       "\u001b[1;31mType:\u001b[0m      function\n"
      ]
     },
     "metadata": {},
     "output_type": "display_data"
    }
   ],
   "source": [
    "validation_curve?"
   ]
  },
  {
   "cell_type": "code",
   "execution_count": 29,
   "id": "e9e5315a-df07-43da-b5f0-0d903cc61450",
   "metadata": {},
   "outputs": [],
   "source": [
    "# Crear 100 números espaciados entre con exponentes entre -2 y -8 para ser transformados\n",
    "# posteriormente como los lambda de la regularización\n",
    "rango_parametros = np.logspace(-2,8,100)"
   ]
  },
  {
   "cell_type": "code",
   "execution_count": 30,
   "id": "af86d51c-115a-4e5a-bfd0-dc5f9c20aeb8",
   "metadata": {},
   "outputs": [
    {
     "data": {
      "text/plain": [
       "array([1.00000000e-02, 1.26185688e-02, 1.59228279e-02, 2.00923300e-02,\n",
       "       2.53536449e-02, 3.19926714e-02, 4.03701726e-02, 5.09413801e-02,\n",
       "       6.42807312e-02, 8.11130831e-02, 1.02353102e-01, 1.29154967e-01,\n",
       "       1.62975083e-01, 2.05651231e-01, 2.59502421e-01, 3.27454916e-01,\n",
       "       4.13201240e-01, 5.21400829e-01, 6.57933225e-01, 8.30217568e-01,\n",
       "       1.04761575e+00, 1.32194115e+00, 1.66810054e+00, 2.10490414e+00,\n",
       "       2.65608778e+00, 3.35160265e+00, 4.22924287e+00, 5.33669923e+00,\n",
       "       6.73415066e+00, 8.49753436e+00, 1.07226722e+01, 1.35304777e+01,\n",
       "       1.70735265e+01, 2.15443469e+01, 2.71858824e+01, 3.43046929e+01,\n",
       "       4.32876128e+01, 5.46227722e+01, 6.89261210e+01, 8.69749003e+01,\n",
       "       1.09749877e+02, 1.38488637e+02, 1.74752840e+02, 2.20513074e+02,\n",
       "       2.78255940e+02, 3.51119173e+02, 4.43062146e+02, 5.59081018e+02,\n",
       "       7.05480231e+02, 8.90215085e+02, 1.12332403e+03, 1.41747416e+03,\n",
       "       1.78864953e+03, 2.25701972e+03, 2.84803587e+03, 3.59381366e+03,\n",
       "       4.53487851e+03, 5.72236766e+03, 7.22080902e+03, 9.11162756e+03,\n",
       "       1.14975700e+04, 1.45082878e+04, 1.83073828e+04, 2.31012970e+04,\n",
       "       2.91505306e+04, 3.67837977e+04, 4.64158883e+04, 5.85702082e+04,\n",
       "       7.39072203e+04, 9.32603347e+04, 1.17681195e+05, 1.48496826e+05,\n",
       "       1.87381742e+05, 2.36448941e+05, 2.98364724e+05, 3.76493581e+05,\n",
       "       4.75081016e+05, 5.99484250e+05, 7.56463328e+05, 9.54548457e+05,\n",
       "       1.20450354e+06, 1.51991108e+06, 1.91791026e+06, 2.42012826e+06,\n",
       "       3.05385551e+06, 3.85352859e+06, 4.86260158e+06, 6.13590727e+06,\n",
       "       7.74263683e+06, 9.77009957e+06, 1.23284674e+07, 1.55567614e+07,\n",
       "       1.96304065e+07, 2.47707636e+07, 3.12571585e+07, 3.94420606e+07,\n",
       "       4.97702356e+07, 6.28029144e+07, 7.92482898e+07, 1.00000000e+08])"
      ]
     },
     "execution_count": 30,
     "metadata": {},
     "output_type": "execute_result"
    }
   ],
   "source": [
    "rango_parametros"
   ]
  },
  {
   "cell_type": "code",
   "execution_count": 31,
   "id": "97acf31a-b628-4312-8d50-f50f1b96ce72",
   "metadata": {},
   "outputs": [
    {
     "name": "stderr",
     "output_type": "stream",
     "text": [
      "d:\\jasdata\\python39\\lib\\site-packages\\sklearn\\utils\\validation.py:70: FutureWarning: Pass param_name=alpha, param_range=[1.00000000e-02 1.26185688e-02 1.59228279e-02 2.00923300e-02\n",
      " 2.53536449e-02 3.19926714e-02 4.03701726e-02 5.09413801e-02\n",
      " 6.42807312e-02 8.11130831e-02 1.02353102e-01 1.29154967e-01\n",
      " 1.62975083e-01 2.05651231e-01 2.59502421e-01 3.27454916e-01\n",
      " 4.13201240e-01 5.21400829e-01 6.57933225e-01 8.30217568e-01\n",
      " 1.04761575e+00 1.32194115e+00 1.66810054e+00 2.10490414e+00\n",
      " 2.65608778e+00 3.35160265e+00 4.22924287e+00 5.33669923e+00\n",
      " 6.73415066e+00 8.49753436e+00 1.07226722e+01 1.35304777e+01\n",
      " 1.70735265e+01 2.15443469e+01 2.71858824e+01 3.43046929e+01\n",
      " 4.32876128e+01 5.46227722e+01 6.89261210e+01 8.69749003e+01\n",
      " 1.09749877e+02 1.38488637e+02 1.74752840e+02 2.20513074e+02\n",
      " 2.78255940e+02 3.51119173e+02 4.43062146e+02 5.59081018e+02\n",
      " 7.05480231e+02 8.90215085e+02 1.12332403e+03 1.41747416e+03\n",
      " 1.78864953e+03 2.25701972e+03 2.84803587e+03 3.59381366e+03\n",
      " 4.53487851e+03 5.72236766e+03 7.22080902e+03 9.11162756e+03\n",
      " 1.14975700e+04 1.45082878e+04 1.83073828e+04 2.31012970e+04\n",
      " 2.91505306e+04 3.67837977e+04 4.64158883e+04 5.85702082e+04\n",
      " 7.39072203e+04 9.32603347e+04 1.17681195e+05 1.48496826e+05\n",
      " 1.87381742e+05 2.36448941e+05 2.98364724e+05 3.76493581e+05\n",
      " 4.75081016e+05 5.99484250e+05 7.56463328e+05 9.54548457e+05\n",
      " 1.20450354e+06 1.51991108e+06 1.91791026e+06 2.42012826e+06\n",
      " 3.05385551e+06 3.85352859e+06 4.86260158e+06 6.13590727e+06\n",
      " 7.74263683e+06 9.77009957e+06 1.23284674e+07 1.55567614e+07\n",
      " 1.96304065e+07 2.47707636e+07 3.12571585e+07 3.94420606e+07\n",
      " 4.97702356e+07 6.28029144e+07 7.92482898e+07 1.00000000e+08] as keyword args. From version 1.0 (renaming of 0.25) passing these as positional arguments will result in an error\n",
      "  warnings.warn(f\"Pass {args_msg} as keyword args. From version \"\n"
     ]
    }
   ],
   "source": [
    "# Determinar puntuaciones para entrenamiento y validación para el parámetro lambda\n",
    "# (alpha en Python) para los métodos de regularización\n",
    "train_scores, test_scores = validation_curve(Ridge(), X_train_esc, y_train, \"alpha\", rango_parametros, scoring = \"r2\")"
   ]
  },
  {
   "cell_type": "code",
   "execution_count": 67,
   "id": "8bd2f92d-4567-4b5d-a9e3-030e371892e4",
   "metadata": {},
   "outputs": [
    {
     "name": "stdout",
     "output_type": "stream",
     "text": [
      "[[7.54647949e-01 7.29620882e-01 7.38980119e-01 7.53152328e-01\n",
      "  7.72162824e-01]\n",
      " [7.54647949e-01 7.29620881e-01 7.38980119e-01 7.53152328e-01\n",
      "  7.72162823e-01]\n",
      " [7.54647948e-01 7.29620881e-01 7.38980118e-01 7.53152327e-01\n",
      "  7.72162823e-01]\n",
      " [7.54647947e-01 7.29620880e-01 7.38980117e-01 7.53152325e-01\n",
      "  7.72162821e-01]\n",
      " [7.54647945e-01 7.29620878e-01 7.38980115e-01 7.53152323e-01\n",
      "  7.72162819e-01]\n",
      " [7.54647943e-01 7.29620875e-01 7.38980112e-01 7.53152319e-01\n",
      "  7.72162815e-01]\n",
      " [7.54647938e-01 7.29620870e-01 7.38980108e-01 7.53152313e-01\n",
      "  7.72162809e-01]\n",
      " [7.54647931e-01 7.29620863e-01 7.38980100e-01 7.53152304e-01\n",
      "  7.72162800e-01]\n",
      " [7.54647920e-01 7.29620851e-01 7.38980089e-01 7.53152288e-01\n",
      "  7.72162786e-01]\n",
      " [7.54647903e-01 7.29620833e-01 7.38980070e-01 7.53152264e-01\n",
      "  7.72162763e-01]\n",
      " [7.54647875e-01 7.29620804e-01 7.38980040e-01 7.53152226e-01\n",
      "  7.72162726e-01]\n",
      " [7.54647830e-01 7.29620757e-01 7.38979993e-01 7.53152165e-01\n",
      "  7.72162667e-01]\n",
      " [7.54647760e-01 7.29620682e-01 7.38979918e-01 7.53152067e-01\n",
      "  7.72162574e-01]\n",
      " [7.54647647e-01 7.29620564e-01 7.38979799e-01 7.53151913e-01\n",
      "  7.72162425e-01]\n",
      " [7.54647468e-01 7.29620376e-01 7.38979609e-01 7.53151667e-01\n",
      "  7.72162190e-01]\n",
      " [7.54647184e-01 7.29620078e-01 7.38979307e-01 7.53151277e-01\n",
      "  7.72161815e-01]\n",
      " [7.54646734e-01 7.29619604e-01 7.38978828e-01 7.53150658e-01\n",
      "  7.72161221e-01]\n",
      " [7.54646018e-01 7.29618852e-01 7.38978067e-01 7.53149676e-01\n",
      "  7.72160279e-01]\n",
      " [7.54644883e-01 7.29617660e-01 7.38976860e-01 7.53148120e-01\n",
      "  7.72158786e-01]\n",
      " [7.54643086e-01 7.29615774e-01 7.38974947e-01 7.53145659e-01\n",
      "  7.72156425e-01]\n",
      " [7.54640244e-01 7.29612791e-01 7.38971921e-01 7.53141771e-01\n",
      "  7.72152695e-01]\n",
      " [7.54635756e-01 7.29608084e-01 7.38967138e-01 7.53135643e-01\n",
      "  7.72146815e-01]\n",
      " [7.54628684e-01 7.29600673e-01 7.38959594e-01 7.53126007e-01\n",
      "  7.72137569e-01]\n",
      " [7.54617571e-01 7.29589037e-01 7.38947724e-01 7.53110903e-01\n",
      "  7.72123077e-01]\n",
      " [7.54600160e-01 7.29570830e-01 7.38929102e-01 7.53087319e-01\n",
      "  7.72100448e-01]\n",
      " [7.54572988e-01 7.29542459e-01 7.38899992e-01 7.53050669e-01\n",
      "  7.72065280e-01]\n",
      " [7.54530780e-01 7.29498475e-01 7.38854681e-01 7.52994039e-01\n",
      "  7.72010932e-01]\n",
      " [7.54465582e-01 7.29430700e-01 7.38784528e-01 7.52907138e-01\n",
      "  7.71927519e-01]\n",
      " [7.54365530e-01 7.29327016e-01 7.38676588e-01 7.52774881e-01\n",
      "  7.71800529e-01]\n",
      " [7.54213157e-01 7.29169735e-01 7.38511734e-01 7.52575526e-01\n",
      "  7.71609015e-01]\n",
      " [7.53983117e-01 7.28933452e-01 7.38262112e-01 7.52278354e-01\n",
      "  7.71323306e-01]\n",
      " [7.53639179e-01 7.28582340e-01 7.37887821e-01 7.51840887e-01\n",
      "  7.70902223e-01]\n",
      " [7.53130377e-01 7.28066808e-01 7.37332725e-01 7.51205707e-01\n",
      "  7.70289788e-01]\n",
      " [7.52386132e-01 7.27319491e-01 7.36519326e-01 7.50296907e-01\n",
      "  7.69411444e-01]\n",
      " [7.51310209e-01 7.26250477e-01 7.35342703e-01 7.49016148e-01\n",
      "  7.68169629e-01]\n",
      " [7.49773356e-01 7.24741647e-01 7.33663569e-01 7.47238100e-01\n",
      "  7.66438506e-01]\n",
      " [7.47604691e-01 7.22639999e-01 7.31300663e-01 7.44804920e-01\n",
      "  7.64057498e-01]\n",
      " [7.44582350e-01 7.19750051e-01 7.28023017e-01 7.41519543e-01\n",
      "  7.60823591e-01]\n",
      " [7.40424812e-01 7.15826045e-01 7.23543292e-01 7.37138283e-01\n",
      "  7.56483160e-01]\n",
      " [7.34785552e-01 7.10565781e-01 7.17514486e-01 7.31364567e-01\n",
      "  7.50725438e-01]\n",
      " [7.27255007e-01 7.03609353e-01 7.09533536e-01 7.23847313e-01\n",
      "  7.43181362e-01]\n",
      " [7.17374427e-01 6.94547107e-01 6.99156162e-01 7.14188549e-01\n",
      "  7.33432380e-01]\n",
      " [7.04665166e-01 6.82940882e-01 6.85926463e-01 7.01964224e-01\n",
      "  7.21032962e-01]\n",
      " [6.88673396e-01 6.68359879e-01 6.69421346e-01 6.86758908e-01\n",
      "  7.05547293e-01]\n",
      " [6.69024440e-01 6.50427454e-01 6.49304003e-01 6.68209748e-01\n",
      "  6.86595471e-01]\n",
      " [6.45475175e-01 6.28869408e-01 6.25374701e-01 6.46049992e-01\n",
      "  6.63899562e-01]\n",
      " [6.17951059e-01 6.03551774e-01 5.97605238e-01 6.20141287e-01\n",
      "  6.37318524e-01]\n",
      " [5.86559537e-01 5.74499777e-01 5.66148749e-01 5.90489187e-01\n",
      "  6.06865528e-01]\n",
      " [5.51582403e-01 5.41899073e-01 5.31327610e-01 5.57245950e-01\n",
      "  5.72710485e-01]\n",
      " [5.13459524e-01 5.06089553e-01 4.93612249e-01 5.20712058e-01\n",
      "  5.35178549e-01]\n",
      " [4.72777123e-01 4.67563254e-01 4.53604571e-01 4.81346031e-01\n",
      "  4.94755018e-01]\n",
      " [4.30263388e-01 4.26968444e-01 4.12029555e-01 4.39780099e-01\n",
      "  4.52096369e-01]\n",
      " [3.86779819e-01 3.85108060e-01 3.69724548e-01 3.96825215e-01\n",
      "  4.08033007e-01]\n",
      " [3.43290301e-01 3.42913863e-01 3.27609324e-01 3.53444313e-01\n",
      "  3.63543271e-01]\n",
      " [3.00797670e-01 3.01384922e-01 2.86627196e-01 3.10683331e-01\n",
      "  3.19686999e-01]\n",
      " [2.60254912e-01 2.61496572e-01 2.47663628e-01 2.69569566e-01\n",
      "  2.77506199e-01]\n",
      " [2.22473031e-01 2.24102058e-01 2.11462677e-01 2.31003469e-01\n",
      "  2.37917487e-01]\n",
      " [1.88050681e-01 1.89853540e-01 1.78564258e-01 1.95673196e-01\n",
      "  2.01625436e-01]\n",
      " [1.57341591e-01 1.59160756e-01 1.49276670e-01 1.64010878e-01\n",
      "  1.69076695e-01]\n",
      " [1.30461596e-01 1.32191100e-01 1.23685630e-01 1.36193547e-01\n",
      "  1.40458933e-01]\n",
      " [1.07325598e-01 1.08902381e-01 1.01690542e-01 1.12178579e-01\n",
      "  1.15735187e-01]\n",
      " [8.77000044e-02 8.90937220e-02 8.30544865e-02 9.17578004e-02\n",
      "  9.46979504e-02]\n",
      " [7.12573434e-02 7.24605952e-02 6.74556253e-02 7.46154414e-02\n",
      "  7.70279001e-02]\n",
      " [5.76240954e-02 5.86441884e-02 5.45318679e-02 6.03797561e-02\n",
      "  6.23466910e-02]\n",
      " [4.64175366e-02 4.72701622e-02 4.39150297e-02 4.86633196e-02\n",
      "  5.02584783e-02]\n",
      " [3.72709926e-02 3.79757449e-02 3.52540674e-02 3.90910552e-02\n",
      "  4.03789982e-02]\n",
      " [2.98490013e-02 3.04264324e-02 2.82288713e-02 3.13174177e-02\n",
      "  3.23535388e-02]\n",
      " [2.38547128e-02 2.43245541e-02 2.25568352e-02 2.50351410e-02\n",
      "  2.58662085e-02]\n",
      " [1.90318797e-02 1.94120862e-02 1.79944223e-02 1.99780493e-02\n",
      "  2.06430433e-02]\n",
      " [1.51634274e-02 1.54697663e-02 1.43355875e-02 1.59200682e-02\n",
      "  1.64511434e-02]\n",
      " [1.20681050e-02 1.23140802e-02 1.14084551e-02 1.26720610e-02\n",
      "  1.30955250e-02]\n",
      " [9.59625951e-03 9.79322825e-03 9.07121735e-03 1.00776291e-02\n",
      "  1.04148648e-02]\n",
      " [7.62540078e-03 7.78278676e-03 7.20787163e-03 8.00861434e-03\n",
      "  8.27691145e-03]\n",
      " [6.05595431e-03 6.18149719e-03 5.72415896e-03 6.36074129e-03\n",
      "  6.57402196e-03]\n",
      " [4.80740696e-03 4.90741377e-03 4.54389046e-03 5.04963740e-03\n",
      "  5.21907527e-03]\n",
      " [3.81493220e-03 3.89451160e-03 3.60573793e-03 4.00733183e-03\n",
      "  4.14187118e-03]\n",
      " [3.02650707e-03 3.08977769e-03 2.86049627e-03 3.17925519e-03\n",
      "  3.28604088e-03]\n",
      " [2.40049284e-03 2.45076305e-03 2.26878868e-03 2.52171604e-03\n",
      "  2.60644612e-03]\n",
      " [1.90363122e-03 1.94355090e-03 1.79916767e-03 1.99980731e-03\n",
      "  2.06702007e-03]\n",
      " [1.50940108e-03 1.54108797e-03 1.42655876e-03 1.58568742e-03\n",
      "  1.63899365e-03]\n",
      " [1.19668115e-03 1.22182468e-03 1.13099434e-03 1.25717979e-03\n",
      "  1.29945002e-03]\n",
      " [9.48667745e-04 9.68613815e-04 8.96589649e-04 9.96638923e-04\n",
      "  1.03015368e-03]\n",
      " [7.52003047e-04 7.67822699e-04 7.10717953e-04 7.90036381e-04\n",
      "  8.16606512e-04]\n",
      " [5.96075272e-04 6.08620077e-04 5.63348684e-04 6.26226718e-04\n",
      "  6.47289538e-04]\n",
      " [4.72458442e-04 4.82405015e-04 4.46517617e-04 4.96359658e-04\n",
      "  5.13055633e-04]\n",
      " [3.74464854e-04 3.82350502e-04 3.53903699e-04 3.93410375e-04\n",
      "  4.06644194e-04]\n",
      " [2.96788162e-04 3.03039388e-04 2.80491602e-04 3.11804812e-04\n",
      "  3.22293986e-04]\n",
      " [2.35219122e-04 2.40174358e-04 2.22302997e-04 2.47121223e-04\n",
      "  2.55434719e-04]\n",
      " [1.86419429e-04 1.90347153e-04 1.76182755e-04 1.95852686e-04\n",
      "  2.02441620e-04]\n",
      " [1.47741934e-04 1.50855080e-04 1.39629000e-04 1.55218285e-04\n",
      "  1.60440299e-04]\n",
      " [1.17087808e-04 1.19555231e-04 1.10658105e-04 1.23013100e-04\n",
      "  1.27151706e-04]\n",
      " [9.27931323e-05 9.47487175e-05 8.76974879e-05 9.74890843e-05\n",
      "  1.00769015e-04]\n",
      " [7.35388842e-05 7.50887740e-05 6.95005383e-05 7.72605085e-05\n",
      "  7.98598955e-05]\n",
      " [5.82795101e-05 5.95078478e-05 5.50791053e-05 6.12289358e-05\n",
      "  6.32889672e-05]\n",
      " [4.61862700e-05 4.71597547e-05 4.36499507e-05 4.85237036e-05\n",
      "  5.01562820e-05]\n",
      " [3.66023032e-05 3.73738034e-05 3.45922802e-05 3.84547197e-05\n",
      "  3.97485344e-05]\n",
      " [2.90069971e-05 2.96184168e-05 2.74140672e-05 3.04750308e-05\n",
      "  3.15003721e-05]\n",
      " [2.29877361e-05 2.34722877e-05 2.17253533e-05 2.41511436e-05\n",
      "  2.49637187e-05]\n",
      " [1.82175052e-05 1.86015115e-05 1.72170801e-05 1.91394957e-05\n",
      "  1.97834536e-05]\n",
      " [1.44371351e-05 1.47414582e-05 1.36443101e-05 1.51678031e-05\n",
      "  1.56781325e-05]]\n",
      "__________________________________________________________\n",
      "[[ 7.15252539e-01  8.17082643e-01  7.64795361e-01  6.97701309e-01\n",
      "   6.22617875e-01]\n",
      " [ 7.15252156e-01  8.17082173e-01  7.64794886e-01  6.97703667e-01\n",
      "   6.22619822e-01]\n",
      " [ 7.15251673e-01  8.17081581e-01  7.64794286e-01  6.97706643e-01\n",
      "   6.22622280e-01]\n",
      " [ 7.15251063e-01  8.17080833e-01  7.64793530e-01  6.97710397e-01\n",
      "   6.22625379e-01]\n",
      " [ 7.15250294e-01  8.17079889e-01  7.64792576e-01  6.97715132e-01\n",
      "   6.22629290e-01]\n",
      " [ 7.15249322e-01  8.17078697e-01  7.64791371e-01  6.97721105e-01\n",
      "   6.22634222e-01]\n",
      " [ 7.15248096e-01  8.17077193e-01  7.64789850e-01  6.97728639e-01\n",
      "   6.22640443e-01]\n",
      " [ 7.15246549e-01  8.17075292e-01  7.64787931e-01  6.97738140e-01\n",
      "   6.22648288e-01]\n",
      " [ 7.15244595e-01  8.17072893e-01  7.64785508e-01  6.97750120e-01\n",
      "   6.22658180e-01]\n",
      " [ 7.15242129e-01  8.17069861e-01  7.64782449e-01  6.97765223e-01\n",
      "   6.22670650e-01]\n",
      " [ 7.15239016e-01  8.17066030e-01  7.64778588e-01  6.97784258e-01\n",
      "   6.22686366e-01]\n",
      " [ 7.15235084e-01  8.17061186e-01  7.64773711e-01  6.97808242e-01\n",
      "   6.22706168e-01]\n",
      " [ 7.15230119e-01  8.17055061e-01  7.64767552e-01  6.97838448e-01\n",
      "   6.22731105e-01]\n",
      " [ 7.15223847e-01  8.17047309e-01  7.64759770e-01  6.97876473e-01\n",
      "   6.22762496e-01]\n",
      " [ 7.15215921e-01  8.17037491e-01  7.64749937e-01  6.97924311e-01\n",
      "   6.22801984e-01]\n",
      " [ 7.15205903e-01  8.17025047e-01  7.64737505e-01  6.97984447e-01\n",
      "   6.22851618e-01]\n",
      " [ 7.15193235e-01  8.17009255e-01  7.64721782e-01  6.98059966e-01\n",
      "   6.22913942e-01]\n",
      " [ 7.15177206e-01  8.16989186e-01  7.64701884e-01  6.98154687e-01\n",
      "   6.22992100e-01]\n",
      " [ 7.15156914e-01  8.16963641e-01  7.64676684e-01  6.98273303e-01\n",
      "   6.23089956e-01]\n",
      " [ 7.15131201e-01  8.16931057e-01  7.64644739e-01  6.98421548e-01\n",
      "   6.23212225e-01]\n",
      " [ 7.15098591e-01  8.16889392e-01  7.64604200e-01  6.98606360e-01\n",
      "   6.23364609e-01]\n",
      " [ 7.15057184e-01  8.16835960e-01  7.64552683e-01  6.98836033e-01\n",
      "   6.23553915e-01]\n",
      " [ 7.15004535e-01  8.16767203e-01  7.64487105e-01  6.99120329e-01\n",
      "   6.23788140e-01]\n",
      " [ 7.14937485e-01  8.16678381e-01  7.64403458e-01  6.99470486e-01\n",
      "   6.24076476e-01]\n",
      " [ 7.14851941e-01  8.16563133e-01  7.64296505e-01  6.99899066e-01\n",
      "   6.24429175e-01]\n",
      " [ 7.14742576e-01  8.16412890e-01  7.64159357e-01  7.00419509e-01\n",
      "   6.24857174e-01]\n",
      " [ 7.14602449e-01  8.16216050e-01  7.63982901e-01  7.01045260e-01\n",
      "   6.25371388e-01]\n",
      " [ 7.14422486e-01  8.15956889e-01  7.63755006e-01  7.01788270e-01\n",
      "   6.25981489e-01]\n",
      " [ 7.14190811e-01  8.15614106e-01  7.63459417e-01  7.02656648e-01\n",
      "   6.26694048e-01]\n",
      " [ 7.13891854e-01  8.15158948e-01  7.63074251e-01  7.03651281e-01\n",
      "   6.27509880e-01]\n",
      " [ 7.13505176e-01  8.14552858e-01  7.62569913e-01  7.04761263e-01\n",
      "   6.28420527e-01]\n",
      " [ 7.13003858e-01  8.13744605e-01  7.61906276e-01  7.05958173e-01\n",
      "   6.29403931e-01]\n",
      " [ 7.12352252e-01  8.12666894e-01  7.61028896e-01  7.07189437e-01\n",
      "   6.30419484e-01]\n",
      " [ 7.11502719e-01  8.11232415e-01  7.59864043e-01  7.08371264e-01\n",
      "   6.31402787e-01]\n",
      " [ 7.10390845e-01  8.09329287e-01  7.58312357e-01  7.09381790e-01\n",
      "   6.32260407e-01]\n",
      " [ 7.08928495e-01  8.06815744e-01  7.56241091e-01  7.10055011e-01\n",
      "   6.32864735e-01]\n",
      " [ 7.06994241e-01  8.03513950e-01  7.53475203e-01  7.10175834e-01\n",
      "   6.33048734e-01]\n",
      " [ 7.04421229e-01  7.99203010e-01  7.49788084e-01  7.09476363e-01\n",
      "   6.32600288e-01]\n",
      " [ 7.00983733e-01  7.93611948e-01  7.44893487e-01  7.07633788e-01\n",
      "   6.31256409e-01]\n",
      " [ 6.96385317e-01  7.86414504e-01  7.38441196e-01  7.04271255e-01\n",
      "   6.28699072e-01]\n",
      " [ 6.90253231e-01  7.77229095e-01  7.30019879e-01  6.98964783e-01\n",
      "   6.24556392e-01]\n",
      " [ 6.82144672e-01  7.65628310e-01  7.19171047e-01  6.91260466e-01\n",
      "   6.18414220e-01]\n",
      " [ 6.71569703e-01  7.51162027e-01  7.05417207e-01  6.80705438e-01\n",
      "   6.09842242e-01]\n",
      " [ 6.58032231e-01  7.33395396e-01  6.88304498e-01  6.66891824e-01\n",
      "   5.98434445e-01]\n",
      " [ 6.41084615e-01  7.11957613e-01  6.67455418e-01  6.49505981e-01\n",
      "   5.83857115e-01]\n",
      " [ 6.20385392e-01  6.86591405e-01  6.42622228e-01  6.28369038e-01\n",
      "   5.65891645e-01]\n",
      " [ 5.95746871e-01  6.57190586e-01  6.13729512e-01  6.03454516e-01\n",
      "   5.44458799e-01]\n",
      " [ 5.67163061e-01  6.23817202e-01  5.80897613e-01  5.74878044e-01\n",
      "   5.19618457e-01]\n",
      " [ 5.34817614e-01  5.86700180e-01  5.44446336e-01  5.42869601e-01\n",
      "   4.91551722e-01]\n",
      " [ 4.99080292e-01  5.46227236e-01  5.04885446e-01  5.07750535e-01\n",
      "   4.60542758e-01]\n",
      " [ 4.60501621e-01  5.02942780e-01  4.62899258e-01  4.69935190e-01\n",
      "   4.26977104e-01]\n",
      " [ 4.19806976e-01  4.57553751e-01  4.19326101e-01  4.29958918e-01\n",
      "   3.91359473e-01]\n",
      " [ 3.77879758e-01  4.10929916e-01  3.75125248e-01  3.88511386e-01\n",
      "   3.54335334e-01]\n",
      " [ 3.35719070e-01  3.64077698e-01  3.31322177e-01  3.46442961e-01\n",
      "   3.16690577e-01]\n",
      " [ 2.94365585e-01  3.18074756e-01  2.88931004e-01  3.04721727e-01\n",
      "   2.79310585e-01]\n",
      " [ 2.54805526e-01  2.73971899e-01  2.48865753e-01  2.64343495e-01\n",
      "   2.43100195e-01]\n",
      " [ 2.17875511e-01  2.32686622e-01  2.11860727e-01  2.26220619e-01\n",
      "   2.08886022e-01]\n",
      " [ 1.84192488e-01  1.94917485e-01  1.78419012e-01  1.91083948e-01\n",
      "   1.77330367e-01]\n",
      " [ 1.54123153e-01  1.61099388e-01  1.48798321e-01  1.59423514e-01\n",
      "   1.48878953e-01]\n",
      " [ 1.27793246e-01  1.31403881e-01  1.23031403e-01  1.31476016e-01\n",
      "   1.23749837e-01]\n",
      " [ 1.05126250e-01  1.05775040e-01  1.00969875e-01  1.07251421e-01\n",
      "   1.01956979e-01]\n",
      " [ 8.58968012e-02  8.39850408e-02  8.23379082e-02  8.65829237e-02\n",
      "   8.33547611e-02]\n",
      " [ 6.97856346e-02  6.56941805e-02  6.67844233e-02  6.91842689e-02\n",
      "   6.76892673e-02]\n",
      " [ 5.64273700e-02  5.05046614e-02  5.39268217e-02  5.47027891e-02\n",
      "   5.46459170e-02]\n",
      " [ 4.54471411e-02  3.80027717e-02  4.33834587e-02  4.27619609e-02\n",
      "   4.38878216e-02]\n",
      " [ 3.64856218e-02  2.77883272e-02  3.47950800e-02  3.29917533e-02\n",
      "   3.50832399e-02]\n",
      " [ 2.92140190e-02  1.94927669e-02  2.78370299e-02  2.50477987e-02\n",
      "   2.79230009e-02]\n",
      " [ 2.33413793e-02  1.27883801e-02  2.22245719e-02  1.86216706e-02\n",
      "   2.21299091e-02]\n",
      " [ 1.86165569e-02  7.39126798e-03  1.77135393e-02  1.34447789e-02\n",
      "   1.74623775e-02]\n",
      " [ 1.48268140e-02  3.06028095e-03  1.40981252e-02  9.28809963e-03\n",
      "   1.37142794e-02]\n",
      " [ 1.17945339e-02 -4.06350642e-04  1.12071449e-02  5.95945566e-03\n",
      "   1.07125674e-02]\n",
      " [ 9.37307438e-03 -3.17548823e-03  8.89967343e-03  3.29957046e-03\n",
      "   8.31376499e-03]\n",
      " [ 7.44241710e-03 -5.38387641e-03  7.06062971e-03  1.17769611e-03\n",
      "   6.40005906e-03]\n",
      " [ 5.90500198e-03 -7.14278549e-03  5.59662931e-03 -5.12696073e-04\n",
      "   4.87543716e-03]\n",
      " [ 4.68194816e-03 -8.54225389e-03  4.43227011e-03 -1.85789448e-03\n",
      "   3.66211456e-03]\n",
      " [ 3.70974567e-03 -9.65482091e-03  3.50690754e-03 -2.92747181e-03\n",
      "   2.69736565e-03]\n",
      " [ 2.93742960e-03 -1.05387263e-02  2.77191681e-03 -3.77732038e-03\n",
      "   1.93079299e-03]\n",
      " [ 2.32420907e-03 -1.12406019e-02  2.18840557e-03 -4.45221409e-03\n",
      "   1.32202073e-03]\n",
      " [ 1.83750357e-03 -1.17977053e-02  1.72532584e-03 -4.98793947e-03\n",
      "   8.38775232e-04]\n",
      " [ 1.45133291e-03 -1.22397532e-02  1.35792965e-03 -5.41304883e-03\n",
      "   4.55305486e-04]\n",
      " [ 1.14500686e-03 -1.25904167e-02  1.06651440e-03 -5.75029059e-03\n",
      "   1.51093971e-04]\n",
      " [ 9.02064820e-04 -1.28685302e-02  8.35409288e-04 -6.01776894e-03\n",
      "  -9.01886242e-05]\n",
      " [ 7.09421815e-04 -1.30890680e-02  6.52159647e-04 -6.22987929e-03\n",
      "  -2.81526804e-04]\n",
      " [ 5.56682873e-04 -1.32639270e-02  5.06872836e-04 -6.39806006e-03\n",
      "  -4.33238144e-04]\n",
      " [ 4.35594214e-04 -1.34025540e-02  3.91694925e-04 -6.53139509e-03\n",
      "  -5.53516499e-04]\n",
      " [ 3.39604835e-04 -1.35124477e-02  3.00392892e-04 -6.63709515e-03\n",
      "  -6.48866277e-04]\n",
      " [ 2.63516868e-04 -1.35995580e-02  2.28021566e-04 -6.72088222e-03\n",
      "  -7.24448973e-04]\n",
      " [ 2.03207132e-04 -1.36686049e-02  1.70658459e-04 -6.78729559e-03\n",
      "  -7.84359297e-04]\n",
      " [ 1.55405584e-04 -1.37233319e-02  1.25192853e-04 -6.83993556e-03\n",
      "  -8.31844950e-04]\n",
      " [ 1.17519207e-04 -1.37667074e-02  8.91581658e-05 -6.88165719e-03\n",
      "  -8.69481383e-04]\n",
      " [ 8.74920946e-05 -1.38010851e-02  6.05987968e-05 -6.91472422e-03\n",
      "  -8.99310669e-04]\n",
      " [ 6.36943584e-05 -1.38283309e-02  3.79644180e-05 -6.94093139e-03\n",
      "  -9.22951788e-04]\n",
      " [ 4.48339523e-05 -1.38499241e-02  2.00260754e-05 -6.96170145e-03\n",
      "  -9.41688177e-04]\n",
      " [ 2.98867075e-05 -1.38670372e-02  5.80962731e-06 -6.97816220e-03\n",
      "  -9.56537201e-04]\n",
      " [ 1.80408349e-05 -1.38805995e-02 -5.45705297e-06 -6.99120758e-03\n",
      "  -9.68305275e-04]\n",
      " [ 8.65290912e-06 -1.38913477e-02 -1.43859483e-05 -7.00154615e-03\n",
      "  -9.77631571e-04]\n",
      " [ 1.21296620e-06 -1.38998657e-02 -2.14620983e-05 -7.00973950e-03\n",
      "  -9.85022688e-04]\n",
      " [-4.68316954e-06 -1.39066162e-02 -2.70699224e-05 -7.01623272e-03\n",
      "  -9.90880140e-04]\n",
      " [-9.35582424e-06 -1.39119659e-02 -3.15140875e-05 -7.02137856e-03\n",
      "  -9.95522145e-04]\n",
      " [-1.30588659e-05 -1.39162055e-02 -3.50360503e-05 -7.02545661e-03\n",
      "  -9.99200901e-04]]\n"
     ]
    }
   ],
   "source": [
    "print(train_scores)\n",
    "print('__________________________________________________________')\n",
    "print(test_scores)"
   ]
  },
  {
   "cell_type": "code",
   "execution_count": 69,
   "id": "1d21058b-f770-4507-8a5d-4894f61feeda",
   "metadata": {},
   "outputs": [
    {
     "data": {
      "text/plain": [
       "((100, 5), (100, 5))"
      ]
     },
     "execution_count": 69,
     "metadata": {},
     "output_type": "execute_result"
    }
   ],
   "source": [
    "train_scores.shape, test_scores.shape"
   ]
  },
  {
   "cell_type": "code",
   "execution_count": 66,
   "id": "8a86be4f-6cd7-47dc-921c-1f8123d0518b",
   "metadata": {},
   "outputs": [
    {
     "data": {
      "text/plain": [
       "array([7.49712821e-01, 7.49712820e-01, 7.49712819e-01, 7.49712818e-01,\n",
       "       7.49712816e-01, 7.49712813e-01, 7.49712808e-01, 7.49712800e-01,\n",
       "       7.49712787e-01, 7.49712766e-01, 7.49712734e-01, 7.49712682e-01,\n",
       "       7.49712600e-01, 7.49712470e-01, 7.49712262e-01, 7.49711932e-01,\n",
       "       7.49711409e-01, 7.49710578e-01, 7.49709262e-01, 7.49707178e-01,\n",
       "       7.49703884e-01, 7.49698687e-01, 7.49690506e-01, 7.49677662e-01,\n",
       "       7.49657572e-01, 7.49626277e-01, 7.49577782e-01, 7.49503093e-01,\n",
       "       7.49388909e-01, 7.49215833e-01, 7.48956068e-01, 7.48570490e-01,\n",
       "       7.48005081e-01, 7.47186660e-01, 7.46017833e-01, 7.44371036e-01,\n",
       "       7.42081554e-01, 7.38939711e-01, 7.34683118e-01, 7.28991165e-01,\n",
       "       7.21485314e-01, 7.11739725e-01, 6.99305939e-01, 6.83752164e-01,\n",
       "       6.64712223e-01, 6.41933768e-01, 6.15313576e-01, 5.84912556e-01,\n",
       "       5.50953104e-01, 5.13810386e-01, 4.74009199e-01, 4.32227571e-01,\n",
       "       3.89294130e-01, 3.46160215e-01, 3.03836024e-01, 2.63298175e-01,\n",
       "       2.25391745e-01, 1.90753422e-01, 1.59773318e-01, 1.32598161e-01,\n",
       "       1.09166458e-01, 8.92607927e-02, 7.25633811e-02, 5.87053198e-02,\n",
       "       4.73049053e-02, 3.79941717e-02, 3.04350523e-02, 2.43274903e-02,\n",
       "       1.94118962e-02, 1.54679986e-02, 1.23116453e-02, 9.79063981e-03,\n",
       "       7.78031699e-03, 6.17927474e-03, 4.90548477e-03, 3.89287695e-03,\n",
       "       3.08841542e-03, 2.44964135e-03, 1.94263544e-03, 1.54034577e-03,\n",
       "       1.22122599e-03, 9.68132763e-04, 7.67437318e-04, 6.08312058e-04,\n",
       "       4.82159273e-04, 3.82154725e-04, 3.02883590e-04, 2.40050484e-04,\n",
       "       1.90248729e-04, 1.50776920e-04, 1.19493190e-04, 9.46994873e-05,\n",
       "       7.50497201e-05, 5.94768732e-05, 4.71351922e-05, 3.73543282e-05,\n",
       "       2.96029768e-05, 2.34600479e-05, 1.85918092e-05, 1.47337678e-05])"
      ]
     },
     "execution_count": 66,
     "metadata": {},
     "output_type": "execute_result"
    }
   ],
   "source": [
    "# Media de las puntuaciones de entrenamiento\n",
    "train_media = np.mean(train_scores, axis = 1)"
   ]
  },
  {
   "cell_type": "code",
   "execution_count": 35,
   "id": "62465359-f353-4b34-8afc-94ecc50eee46",
   "metadata": {},
   "outputs": [
    {
     "data": {
      "text/plain": [
       "(100,)"
      ]
     },
     "execution_count": 35,
     "metadata": {},
     "output_type": "execute_result"
    }
   ],
   "source": [
    "train_media.shape"
   ]
  },
  {
   "cell_type": "code",
   "execution_count": 36,
   "id": "b26e6c73-fbbe-4750-a17b-e588196a6942",
   "metadata": {
    "tags": []
   },
   "outputs": [],
   "source": [
    "# Media de las puntuaciones de validación\n",
    "test_media = np.mean(test_scores, axis = 1)"
   ]
  },
  {
   "cell_type": "code",
   "execution_count": 37,
   "id": "b05fef41-8d16-4900-875f-6d4e67fddbb3",
   "metadata": {},
   "outputs": [
    {
     "data": {
      "text/plain": [
       "(100,)"
      ]
     },
     "execution_count": 37,
     "metadata": {},
     "output_type": "execute_result"
    }
   ],
   "source": [
    "test_media.shape"
   ]
  },
  {
   "cell_type": "code",
   "execution_count": 72,
   "id": "f37e8dec-0728-44a4-a13d-835c2f504abd",
   "metadata": {},
   "outputs": [
    {
     "data": {
      "text/plain": [
       "array([7.49712821e-01, 7.49712820e-01, 7.49712819e-01, 7.49712818e-01,\n",
       "       7.49712816e-01, 7.49712813e-01, 7.49712808e-01, 7.49712800e-01,\n",
       "       7.49712787e-01, 7.49712766e-01, 7.49712734e-01, 7.49712682e-01,\n",
       "       7.49712600e-01, 7.49712470e-01, 7.49712262e-01, 7.49711932e-01,\n",
       "       7.49711409e-01, 7.49710578e-01, 7.49709262e-01, 7.49707178e-01,\n",
       "       7.49703884e-01, 7.49698687e-01, 7.49690506e-01, 7.49677662e-01,\n",
       "       7.49657572e-01, 7.49626277e-01, 7.49577782e-01, 7.49503093e-01,\n",
       "       7.49388909e-01, 7.49215833e-01, 7.48956068e-01, 7.48570490e-01,\n",
       "       7.48005081e-01, 7.47186660e-01, 7.46017833e-01, 7.44371036e-01,\n",
       "       7.42081554e-01, 7.38939711e-01, 7.34683118e-01, 7.28991165e-01,\n",
       "       7.21485314e-01, 7.11739725e-01, 6.99305939e-01, 6.83752164e-01,\n",
       "       6.64712223e-01, 6.41933768e-01, 6.15313576e-01, 5.84912556e-01,\n",
       "       5.50953104e-01, 5.13810386e-01, 4.74009199e-01, 4.32227571e-01,\n",
       "       3.89294130e-01, 3.46160215e-01, 3.03836024e-01, 2.63298175e-01,\n",
       "       2.25391745e-01, 1.90753422e-01, 1.59773318e-01, 1.32598161e-01,\n",
       "       1.09166458e-01, 8.92607927e-02, 7.25633811e-02, 5.87053198e-02,\n",
       "       4.73049053e-02, 3.79941717e-02, 3.04350523e-02, 2.43274903e-02,\n",
       "       1.94118962e-02, 1.54679986e-02, 1.23116453e-02, 9.79063981e-03,\n",
       "       7.78031699e-03, 6.17927474e-03, 4.90548477e-03, 3.89287695e-03,\n",
       "       3.08841542e-03, 2.44964135e-03, 1.94263544e-03, 1.54034577e-03,\n",
       "       1.22122599e-03, 9.68132763e-04, 7.67437318e-04, 6.08312058e-04,\n",
       "       4.82159273e-04, 3.82154725e-04, 3.02883590e-04, 2.40050484e-04,\n",
       "       1.90248729e-04, 1.50776920e-04, 1.19493190e-04, 9.46994873e-05,\n",
       "       7.50497201e-05, 5.94768732e-05, 4.71351922e-05, 3.73543282e-05,\n",
       "       2.96029768e-05, 2.34600479e-05, 1.85918092e-05, 1.47337678e-05])"
      ]
     },
     "execution_count": 72,
     "metadata": {},
     "output_type": "execute_result"
    }
   ],
   "source": [
    "train_media"
   ]
  },
  {
   "cell_type": "code",
   "execution_count": 39,
   "id": "09701ecb-5e09-4162-90ed-fd3330ae9889",
   "metadata": {},
   "outputs": [
    {
     "data": {
      "text/plain": [
       "array([ 7.23489945e-01,  7.23490541e-01,  7.23491293e-01,  7.23492240e-01,\n",
       "        7.23493436e-01,  7.23494944e-01,  7.23496844e-01,  7.23499240e-01,\n",
       "        7.23502259e-01,  7.23506063e-01,  7.23510852e-01,  7.23516878e-01,\n",
       "        7.23524457e-01,  7.23533979e-01,  7.23545929e-01,  7.23560904e-01,\n",
       "        7.23579636e-01,  7.23603013e-01,  7.23632099e-01,  7.23668154e-01,\n",
       "        7.23712630e-01,  7.23767155e-01,  7.23833462e-01,  7.23913257e-01,\n",
       "        7.24007964e-01,  7.24118301e-01,  7.24243610e-01,  7.24380828e-01,\n",
       "        7.24523006e-01,  7.24657243e-01,  7.24761947e-01,  7.24803369e-01,\n",
       "        7.24731393e-01,  7.24474646e-01,  7.23934937e-01,  7.22981015e-01,\n",
       "        7.21441592e-01,  7.19097795e-01,  7.15675873e-01,  7.10842269e-01,\n",
       "        7.04204676e-01,  6.95323743e-01,  6.83739324e-01,  6.69011679e-01,\n",
       "        6.50772148e-01,  6.28771941e-01,  6.02916057e-01,  5.73274875e-01,\n",
       "        5.40077091e-01,  5.03697253e-01,  4.64651191e-01,  4.23601044e-01,\n",
       "        3.81356328e-01,  3.38850496e-01,  2.97080732e-01,  2.57017374e-01,\n",
       "        2.19505900e-01,  1.85188660e-01,  1.54464666e-01,  1.27490876e-01,\n",
       "        1.04215913e-01,  8.44314870e-02,  6.78275549e-02,  5.40415118e-02,\n",
       "        4.26966308e-02,  3.34288044e-02,  2.59029231e-02,  1.98211822e-02,\n",
       "        1.49257041e-02,  1.09975198e-02,  7.85347025e-03,  5.34211901e-03,\n",
       "        3.33938511e-03,  1.74431738e-03,  4.75236891e-04, -5.33654772e-04,\n",
       "       -1.33518145e-03, -1.97163613e-03, -2.47680802e-03, -2.87764681e-03,\n",
       "       -3.19561840e-03, -3.44780274e-03, -3.64777854e-03, -3.80633389e-03,\n",
       "       -3.93203529e-03, -4.03168228e-03, -4.11067016e-03, -4.17327885e-03,\n",
       "       -4.22290280e-03, -4.26223372e-03, -4.29340582e-03, -4.31811107e-03,\n",
       "       -4.33769074e-03, -4.35320804e-03, -4.36550571e-03, -4.37525169e-03,\n",
       "       -4.38297540e-03, -4.38909643e-03, -4.39394731e-03, -4.39779159e-03])"
      ]
     },
     "execution_count": 39,
     "metadata": {},
     "output_type": "execute_result"
    }
   ],
   "source": [
    "test_media"
   ]
  },
  {
   "cell_type": "code",
   "execution_count": 40,
   "id": "e9123910-f582-4ff6-87d9-9cfa63bce802",
   "metadata": {},
   "outputs": [
    {
     "data": {
      "text/plain": [
       "0.7248033685964299"
      ]
     },
     "execution_count": 40,
     "metadata": {},
     "output_type": "execute_result"
    }
   ],
   "source": [
    "# Ver el valor máximo de las medias de las puntuaciones de validación\n",
    "max(test_media)"
   ]
  },
  {
   "cell_type": "code",
   "execution_count": 41,
   "id": "ecb511e4-25e0-4f48-bbc4-8b1aeb155ad8",
   "metadata": {},
   "outputs": [
    {
     "data": {
      "text/plain": [
       "<seaborn.axisgrid.JointGrid at 0x216edd2adc0>"
      ]
     },
     "execution_count": 41,
     "metadata": {},
     "output_type": "execute_result"
    },
    {
     "data": {
      "image/png": "[encoded data removed]",
      "text/plain": [
       "<Figure size 432x432 with 3 Axes>"
      ]
     },
     "metadata": {
      "needs_background": "light"
     },
     "output_type": "display_data"
    }
   ],
   "source": [
    "# Realizar la gráfica del rango de parámetros vs la media de las puntuaciones de validación (alpha)\n",
    "sns.jointplot(x = np.log(rango_parametros), y = test_media)"
   ]
  },
  {
   "cell_type": "code",
   "execution_count": 42,
   "id": "711bf402-2a45-4bce-b84c-1b2090383e85",
   "metadata": {},
   "outputs": [
    {
     "data": {
      "text/plain": [
       "(array([31], dtype=int64),)"
      ]
     },
     "execution_count": 42,
     "metadata": {},
     "output_type": "execute_result"
    }
   ],
   "source": [
    "# Conocer el índice de la puntuación máxima de validación para determinar su correspondiente\n",
    "# valor de alpha\n",
    "np.where(test_media==max(test_media))"
   ]
  },
  {
   "cell_type": "code",
   "execution_count": 43,
   "id": "c88cbac6-76a4-41e9-86bd-658d092d2128",
   "metadata": {},
   "outputs": [
    {
     "data": {
      "text/plain": [
       "13.530477745798061"
      ]
     },
     "execution_count": 43,
     "metadata": {},
     "output_type": "execute_result"
    }
   ],
   "source": [
    "# Valor de alpha que nos permite desarrollar el mejor modelo\n",
    "rango_parametros[31]"
   ]
  },
  {
   "cell_type": "code",
   "execution_count": 44,
   "id": "2d98121e-0f56-47cc-8d62-0aad89c3c09f",
   "metadata": {},
   "outputs": [],
   "source": [
    "# Aplicar el valor de alfa que desarrolla el mejor modelo lineal basado en Ridge\n",
    "best_linear_model_r = Ridge(alpha = rango_parametros[31])"
   ]
  },
  {
   "cell_type": "code",
   "execution_count": 45,
   "id": "c083d43f-d1a6-45f4-a0c4-fd98c510204a",
   "metadata": {},
   "outputs": [
    {
     "data": {
      "text/plain": [
       "Ridge(alpha=13.530477745798061)"
      ]
     },
     "execution_count": 45,
     "metadata": {},
     "output_type": "execute_result"
    }
   ],
   "source": [
    "best_linear_model_r.fit(X_train_esc, y_train)"
   ]
  },
  {
   "cell_type": "code",
   "execution_count": 46,
   "id": "8bb89c76-388e-4ec4-9642-5782c730a792",
   "metadata": {},
   "outputs": [
    {
     "data": {
      "text/plain": [
       "0.5962097565459614"
      ]
     },
     "execution_count": 46,
     "metadata": {},
     "output_type": "execute_result"
    }
   ],
   "source": [
    "r2_score(y_test, best_linear_model_r.predict(X_test_esc))"
   ]
  },
  {
   "cell_type": "code",
   "execution_count": 47,
   "id": "d7d5a3c3-1ad7-425e-9ffb-4c0275620ab6",
   "metadata": {},
   "outputs": [
    {
     "data": {
      "text/plain": [
       "0.7469282999061915"
      ]
     },
     "execution_count": 47,
     "metadata": {},
     "output_type": "execute_result"
    }
   ],
   "source": [
    "r2_score(y_train, best_linear_model_r.predict(X_train_esc))"
   ]
  },
  {
   "cell_type": "markdown",
   "id": "8f42b326-384c-42ca-9f87-8f6d2230740c",
   "metadata": {},
   "source": [
    "# Regularización por el método Lasso\n",
    "Este método penaliza la sumatoria de los valores absolutos de los parámetros elevados al cuadrado, forza a que los parámetros tiendan a cero. El grado de penalización se controla por un hiperparámetro $\\lambda$, cuado este es igual a cero no hay penalización al modelo y es equivalente a aplicar el modelo de regresión tradicional, a mayor $\\lambda$ la penalización aumenta y se excluyen predictores.\n",
    "\n",
    "$\\sum_{i=1}^{n}(y_{i}-\\theta_{0}-\\sum_{j=1}^p\\theta_{j}x_{ij})+\\lambda\\sum_{j=1}^p\\|\\theta_{j}\\|$"
   ]
  },
  {
   "cell_type": "code",
   "execution_count": 48,
   "id": "393d4871-1f2d-4fcb-ae8b-54093d546e09",
   "metadata": {},
   "outputs": [],
   "source": [
    "from sklearn.linear_model import Lasso"
   ]
  },
  {
   "cell_type": "code",
   "execution_count": 49,
   "id": "678260bd-7405-4b5f-919f-697eb03eaafe",
   "metadata": {},
   "outputs": [],
   "source": [
    "linear_model_l = Lasso(alpha = 0.5)"
   ]
  },
  {
   "cell_type": "code",
   "execution_count": 50,
   "id": "545626a9-4e59-4fd5-8ebb-b94f7370609c",
   "metadata": {},
   "outputs": [
    {
     "data": {
      "text/plain": [
       "Lasso(alpha=0.5)"
      ]
     },
     "execution_count": 50,
     "metadata": {},
     "output_type": "execute_result"
    }
   ],
   "source": [
    "linear_model_l.fit(X_train_esc, y_train)"
   ]
  },
  {
   "cell_type": "code",
   "execution_count": 51,
   "id": "cf9519c2-bca9-4274-97c4-6644bf790509",
   "metadata": {},
   "outputs": [
    {
     "data": {
      "text/plain": [
       "0.5624557993903527"
      ]
     },
     "execution_count": 51,
     "metadata": {},
     "output_type": "execute_result"
    }
   ],
   "source": [
    "r2_score(y_test, linear_model_l.predict(X_test_esc))"
   ]
  },
  {
   "cell_type": "code",
   "execution_count": 52,
   "id": "f4691411-ec7f-4165-8531-8cc86a1ea36c",
   "metadata": {},
   "outputs": [
    {
     "name": "stderr",
     "output_type": "stream",
     "text": [
      "d:\\jasdata\\python39\\lib\\site-packages\\sklearn\\utils\\validation.py:70: FutureWarning: Pass param_name=alpha, param_range=[1.00000000e-02 1.26185688e-02 1.59228279e-02 2.00923300e-02\n",
      " 2.53536449e-02 3.19926714e-02 4.03701726e-02 5.09413801e-02\n",
      " 6.42807312e-02 8.11130831e-02 1.02353102e-01 1.29154967e-01\n",
      " 1.62975083e-01 2.05651231e-01 2.59502421e-01 3.27454916e-01\n",
      " 4.13201240e-01 5.21400829e-01 6.57933225e-01 8.30217568e-01\n",
      " 1.04761575e+00 1.32194115e+00 1.66810054e+00 2.10490414e+00\n",
      " 2.65608778e+00 3.35160265e+00 4.22924287e+00 5.33669923e+00\n",
      " 6.73415066e+00 8.49753436e+00 1.07226722e+01 1.35304777e+01\n",
      " 1.70735265e+01 2.15443469e+01 2.71858824e+01 3.43046929e+01\n",
      " 4.32876128e+01 5.46227722e+01 6.89261210e+01 8.69749003e+01\n",
      " 1.09749877e+02 1.38488637e+02 1.74752840e+02 2.20513074e+02\n",
      " 2.78255940e+02 3.51119173e+02 4.43062146e+02 5.59081018e+02\n",
      " 7.05480231e+02 8.90215085e+02 1.12332403e+03 1.41747416e+03\n",
      " 1.78864953e+03 2.25701972e+03 2.84803587e+03 3.59381366e+03\n",
      " 4.53487851e+03 5.72236766e+03 7.22080902e+03 9.11162756e+03\n",
      " 1.14975700e+04 1.45082878e+04 1.83073828e+04 2.31012970e+04\n",
      " 2.91505306e+04 3.67837977e+04 4.64158883e+04 5.85702082e+04\n",
      " 7.39072203e+04 9.32603347e+04 1.17681195e+05 1.48496826e+05\n",
      " 1.87381742e+05 2.36448941e+05 2.98364724e+05 3.76493581e+05\n",
      " 4.75081016e+05 5.99484250e+05 7.56463328e+05 9.54548457e+05\n",
      " 1.20450354e+06 1.51991108e+06 1.91791026e+06 2.42012826e+06\n",
      " 3.05385551e+06 3.85352859e+06 4.86260158e+06 6.13590727e+06\n",
      " 7.74263683e+06 9.77009957e+06 1.23284674e+07 1.55567614e+07\n",
      " 1.96304065e+07 2.47707636e+07 3.12571585e+07 3.94420606e+07\n",
      " 4.97702356e+07 6.28029144e+07 7.92482898e+07 1.00000000e+08] as keyword args. From version 1.0 (renaming of 0.25) passing these as positional arguments will result in an error\n",
      "  warnings.warn(f\"Pass {args_msg} as keyword args. From version \"\n"
     ]
    }
   ],
   "source": [
    "train_scores_l, test_scores_l = validation_curve(Lasso(), X_train_esc, y_train, \"alpha\", rango_parametros, scoring = \"r2\")"
   ]
  },
  {
   "cell_type": "code",
   "execution_count": 53,
   "id": "e1e2ffcb-edc7-4ed8-99fd-4c191d811cc1",
   "metadata": {},
   "outputs": [
    {
     "name": "stdout",
     "output_type": "stream",
     "text": [
      "[[0.75461501 0.72959015 0.73894627 0.75311273 0.77211481]\n",
      " [0.75459564 0.72957675 0.73892668 0.75309268 0.7720892 ]\n",
      " [0.75456481 0.7295554  0.7388949  0.753062   0.77204993]\n",
      " [0.75451519 0.72952136 0.73885169 0.75301387 0.77198756]\n",
      " [0.75445525 0.72946715 0.73878731 0.75294824 0.77188762]\n",
      " [0.75436418 0.7293808  0.73868624 0.7528436  0.77173945]\n",
      " [0.75421889 0.72924395 0.73852618 0.752678   0.77158959]\n",
      " [0.75401149 0.72902508 0.73827177 0.75242148 0.77139388]\n",
      " [0.75368246 0.7286765  0.73786567 0.7521821  0.7710824 ]\n",
      " [0.75315706 0.72812137 0.73725278 0.75181279 0.77058655]\n",
      " [0.75232037 0.7273072  0.7363441  0.75122488 0.76989144]\n",
      " [0.75116749 0.72613609 0.73494506 0.7502891  0.76880631]\n",
      " [0.74968444 0.72453905 0.73315396 0.74879829 0.76707742]\n",
      " [0.74757207 0.72210795 0.73030125 0.74653929 0.76467489]\n",
      " [0.74427911 0.71838435 0.72647319 0.74316966 0.76123998]\n",
      " [0.73902932 0.71285207 0.72105677 0.73796146 0.7557702 ]\n",
      " [0.73382981 0.70501358 0.71247304 0.7300111  0.74846789]\n",
      " [0.72643699 0.69678053 0.70118994 0.71988413 0.7412543 ]\n",
      " [0.71876577 0.68631645 0.6940732  0.71248142 0.73068955]\n",
      " [0.71262486 0.67705899 0.68631358 0.70322663 0.72350679]\n",
      " [0.7044764  0.66547162 0.67724068 0.69433696 0.71595155]\n",
      " [0.691501   0.65397555 0.66279618 0.68216638 0.70467747]\n",
      " [0.67084238 0.63567046 0.63979271 0.66278732 0.68672226]\n",
      " [0.63794488 0.60652496 0.60316549 0.63193526 0.6581328 ]\n",
      " [0.58769124 0.56011478 0.54832453 0.58280147 0.61260993]\n",
      " [0.52363696 0.49856536 0.47735564 0.51752635 0.54012936]\n",
      " [0.42164286 0.40644709 0.3643525  0.42326621 0.44050928]\n",
      " [0.25924275 0.25977051 0.18442076 0.27317771 0.29068007]\n",
      " [0.02586016 0.02827501 0.         0.06375373 0.07135545]\n",
      " [0.         0.         0.         0.         0.        ]\n",
      " [0.         0.         0.         0.         0.        ]\n",
      " [0.         0.         0.         0.         0.        ]\n",
      " [0.         0.         0.         0.         0.        ]\n",
      " [0.         0.         0.         0.         0.        ]\n",
      " [0.         0.         0.         0.         0.        ]\n",
      " [0.         0.         0.         0.         0.        ]\n",
      " [0.         0.         0.         0.         0.        ]\n",
      " [0.         0.         0.         0.         0.        ]\n",
      " [0.         0.         0.         0.         0.        ]\n",
      " [0.         0.         0.         0.         0.        ]\n",
      " [0.         0.         0.         0.         0.        ]\n",
      " [0.         0.         0.         0.         0.        ]\n",
      " [0.         0.         0.         0.         0.        ]\n",
      " [0.         0.         0.         0.         0.        ]\n",
      " [0.         0.         0.         0.         0.        ]\n",
      " [0.         0.         0.         0.         0.        ]\n",
      " [0.         0.         0.         0.         0.        ]\n",
      " [0.         0.         0.         0.         0.        ]\n",
      " [0.         0.         0.         0.         0.        ]\n",
      " [0.         0.         0.         0.         0.        ]\n",
      " [0.         0.         0.         0.         0.        ]\n",
      " [0.         0.         0.         0.         0.        ]\n",
      " [0.         0.         0.         0.         0.        ]\n",
      " [0.         0.         0.         0.         0.        ]\n",
      " [0.         0.         0.         0.         0.        ]\n",
      " [0.         0.         0.         0.         0.        ]\n",
      " [0.         0.         0.         0.         0.        ]\n",
      " [0.         0.         0.         0.         0.        ]\n",
      " [0.         0.         0.         0.         0.        ]\n",
      " [0.         0.         0.         0.         0.        ]\n",
      " [0.         0.         0.         0.         0.        ]\n",
      " [0.         0.         0.         0.         0.        ]\n",
      " [0.         0.         0.         0.         0.        ]\n",
      " [0.         0.         0.         0.         0.        ]\n",
      " [0.         0.         0.         0.         0.        ]\n",
      " [0.         0.         0.         0.         0.        ]\n",
      " [0.         0.         0.         0.         0.        ]\n",
      " [0.         0.         0.         0.         0.        ]\n",
      " [0.         0.         0.         0.         0.        ]\n",
      " [0.         0.         0.         0.         0.        ]\n",
      " [0.         0.         0.         0.         0.        ]\n",
      " [0.         0.         0.         0.         0.        ]\n",
      " [0.         0.         0.         0.         0.        ]\n",
      " [0.         0.         0.         0.         0.        ]\n",
      " [0.         0.         0.         0.         0.        ]\n",
      " [0.         0.         0.         0.         0.        ]\n",
      " [0.         0.         0.         0.         0.        ]\n",
      " [0.         0.         0.         0.         0.        ]\n",
      " [0.         0.         0.         0.         0.        ]\n",
      " [0.         0.         0.         0.         0.        ]\n",
      " [0.         0.         0.         0.         0.        ]\n",
      " [0.         0.         0.         0.         0.        ]\n",
      " [0.         0.         0.         0.         0.        ]\n",
      " [0.         0.         0.         0.         0.        ]\n",
      " [0.         0.         0.         0.         0.        ]\n",
      " [0.         0.         0.         0.         0.        ]\n",
      " [0.         0.         0.         0.         0.        ]\n",
      " [0.         0.         0.         0.         0.        ]\n",
      " [0.         0.         0.         0.         0.        ]\n",
      " [0.         0.         0.         0.         0.        ]\n",
      " [0.         0.         0.         0.         0.        ]\n",
      " [0.         0.         0.         0.         0.        ]\n",
      " [0.         0.         0.         0.         0.        ]\n",
      " [0.         0.         0.         0.         0.        ]\n",
      " [0.         0.         0.         0.         0.        ]\n",
      " [0.         0.         0.         0.         0.        ]\n",
      " [0.         0.         0.         0.         0.        ]\n",
      " [0.         0.         0.         0.         0.        ]\n",
      " [0.         0.         0.         0.         0.        ]\n",
      " [0.         0.         0.         0.         0.        ]]\n",
      "[[ 7.14932456e-01  8.18275510e-01  7.64984180e-01  7.00365296e-01\n",
      "   6.24148395e-01]\n",
      " [ 7.14840316e-01  8.18573851e-01  7.65025164e-01  7.01002934e-01\n",
      "   6.24479520e-01]\n",
      " [ 7.14719201e-01  8.18945399e-01  7.65070430e-01  7.01782394e-01\n",
      "   6.24859821e-01]\n",
      " [ 7.14559130e-01  8.19406483e-01  7.65116956e-01  7.02747891e-01\n",
      "   6.25322077e-01]\n",
      " [ 7.14189283e-01  8.19975968e-01  7.65162880e-01  7.03703927e-01\n",
      "   6.25871706e-01]\n",
      " [ 7.13677399e-01  8.20675032e-01  7.65206439e-01  7.04876639e-01\n",
      "   6.26508679e-01]\n",
      " [ 7.13004129e-01  8.21530261e-01  7.65236098e-01  7.06305296e-01\n",
      "   6.27239618e-01]\n",
      " [ 7.12195845e-01  8.22554352e-01  7.65230280e-01  7.08005679e-01\n",
      "   6.28122033e-01]\n",
      " [ 7.11119245e-01  8.23767417e-01  7.65153125e-01  7.09389443e-01\n",
      "   6.29136207e-01]\n",
      " [ 7.09668451e-01  8.25171901e-01  7.64984229e-01  7.11006332e-01\n",
      "   6.30257999e-01]\n",
      " [ 7.07691696e-01  8.26761972e-01  7.64677273e-01  7.12891040e-01\n",
      "   6.31013228e-01]\n",
      " [ 7.05085051e-01  8.28363280e-01  7.63991209e-01  7.15021510e-01\n",
      "   6.31548290e-01]\n",
      " [ 7.01224928e-01  8.29732053e-01  7.62609371e-01  7.17316082e-01\n",
      "   6.31708565e-01]\n",
      " [ 6.96218848e-01  8.30698715e-01  7.60469647e-01  7.19644537e-01\n",
      "   6.31309486e-01]\n",
      " [ 6.89465636e-01  8.30303863e-01  7.56633226e-01  7.20449470e-01\n",
      "   6.29161610e-01]\n",
      " [ 6.79869768e-01  8.28138994e-01  7.50858265e-01  7.19023368e-01\n",
      "   6.24811453e-01]\n",
      " [ 6.72167617e-01  8.23579847e-01  7.42336076e-01  7.14968210e-01\n",
      "   6.19169575e-01]\n",
      " [ 6.62220632e-01  8.17829921e-01  7.30546230e-01  7.07609870e-01\n",
      "   6.14844471e-01]\n",
      " [ 6.52397091e-01  8.08987906e-01  7.21128351e-01  7.03604476e-01\n",
      "   6.07689378e-01]\n",
      " [ 6.45844532e-01  7.99589688e-01  7.11086735e-01  6.99718851e-01\n",
      "   6.03370782e-01]\n",
      " [ 6.37800847e-01  7.86618513e-01  6.99268973e-01  6.96131094e-01\n",
      "   5.99908597e-01]\n",
      " [ 6.24978284e-01  7.67588475e-01  6.81425640e-01  6.89529033e-01\n",
      "   5.94320761e-01]\n",
      " [ 6.04546002e-01  7.39847370e-01  6.54236853e-01  6.75628024e-01\n",
      "   5.84312569e-01]\n",
      " [ 5.71985215e-01  6.98908286e-01  6.12492815e-01  6.49226033e-01\n",
      "   5.66974945e-01]\n",
      " [ 5.23144075e-01  6.37794862e-01  5.52081254e-01  6.01776187e-01\n",
      "   5.37599688e-01]\n",
      " [ 4.67514498e-01  5.61299035e-01  4.77704176e-01  5.35861713e-01\n",
      "   4.88595870e-01]\n",
      " [ 3.77584137e-01  4.51467318e-01  3.62498895e-01  4.38103886e-01\n",
      "   4.05786406e-01]\n",
      " [ 2.32687448e-01  2.81866426e-01  1.83129492e-01  2.77044053e-01\n",
      "   2.68136321e-01]\n",
      " [ 2.30924012e-02  1.99999251e-02 -4.84863122e-05  5.89504651e-02\n",
      "   6.44020174e-02]\n",
      " [-2.72006845e-05 -1.39323966e-02 -4.84863122e-05 -7.04103059e-03\n",
      "  -1.01325001e-03]\n",
      " [-2.72006845e-05 -1.39323966e-02 -4.84863122e-05 -7.04103059e-03\n",
      "  -1.01325001e-03]\n",
      " [-2.72006845e-05 -1.39323966e-02 -4.84863122e-05 -7.04103059e-03\n",
      "  -1.01325001e-03]\n",
      " [-2.72006845e-05 -1.39323966e-02 -4.84863122e-05 -7.04103059e-03\n",
      "  -1.01325001e-03]\n",
      " [-2.72006845e-05 -1.39323966e-02 -4.84863122e-05 -7.04103059e-03\n",
      "  -1.01325001e-03]\n",
      " [-2.72006845e-05 -1.39323966e-02 -4.84863122e-05 -7.04103059e-03\n",
      "  -1.01325001e-03]\n",
      " [-2.72006845e-05 -1.39323966e-02 -4.84863122e-05 -7.04103059e-03\n",
      "  -1.01325001e-03]\n",
      " [-2.72006845e-05 -1.39323966e-02 -4.84863122e-05 -7.04103059e-03\n",
      "  -1.01325001e-03]\n",
      " [-2.72006845e-05 -1.39323966e-02 -4.84863122e-05 -7.04103059e-03\n",
      "  -1.01325001e-03]\n",
      " [-2.72006845e-05 -1.39323966e-02 -4.84863122e-05 -7.04103059e-03\n",
      "  -1.01325001e-03]\n",
      " [-2.72006845e-05 -1.39323966e-02 -4.84863122e-05 -7.04103059e-03\n",
      "  -1.01325001e-03]\n",
      " [-2.72006845e-05 -1.39323966e-02 -4.84863122e-05 -7.04103059e-03\n",
      "  -1.01325001e-03]\n",
      " [-2.72006845e-05 -1.39323966e-02 -4.84863122e-05 -7.04103059e-03\n",
      "  -1.01325001e-03]\n",
      " [-2.72006845e-05 -1.39323966e-02 -4.84863122e-05 -7.04103059e-03\n",
      "  -1.01325001e-03]\n",
      " [-2.72006845e-05 -1.39323966e-02 -4.84863122e-05 -7.04103059e-03\n",
      "  -1.01325001e-03]\n",
      " [-2.72006845e-05 -1.39323966e-02 -4.84863122e-05 -7.04103059e-03\n",
      "  -1.01325001e-03]\n",
      " [-2.72006845e-05 -1.39323966e-02 -4.84863122e-05 -7.04103059e-03\n",
      "  -1.01325001e-03]\n",
      " [-2.72006845e-05 -1.39323966e-02 -4.84863122e-05 -7.04103059e-03\n",
      "  -1.01325001e-03]\n",
      " [-2.72006845e-05 -1.39323966e-02 -4.84863122e-05 -7.04103059e-03\n",
      "  -1.01325001e-03]\n",
      " [-2.72006845e-05 -1.39323966e-02 -4.84863122e-05 -7.04103059e-03\n",
      "  -1.01325001e-03]\n",
      " [-2.72006845e-05 -1.39323966e-02 -4.84863122e-05 -7.04103059e-03\n",
      "  -1.01325001e-03]\n",
      " [-2.72006845e-05 -1.39323966e-02 -4.84863122e-05 -7.04103059e-03\n",
      "  -1.01325001e-03]\n",
      " [-2.72006845e-05 -1.39323966e-02 -4.84863122e-05 -7.04103059e-03\n",
      "  -1.01325001e-03]\n",
      " [-2.72006845e-05 -1.39323966e-02 -4.84863122e-05 -7.04103059e-03\n",
      "  -1.01325001e-03]\n",
      " [-2.72006845e-05 -1.39323966e-02 -4.84863122e-05 -7.04103059e-03\n",
      "  -1.01325001e-03]\n",
      " [-2.72006845e-05 -1.39323966e-02 -4.84863122e-05 -7.04103059e-03\n",
      "  -1.01325001e-03]\n",
      " [-2.72006845e-05 -1.39323966e-02 -4.84863122e-05 -7.04103059e-03\n",
      "  -1.01325001e-03]\n",
      " [-2.72006845e-05 -1.39323966e-02 -4.84863122e-05 -7.04103059e-03\n",
      "  -1.01325001e-03]\n",
      " [-2.72006845e-05 -1.39323966e-02 -4.84863122e-05 -7.04103059e-03\n",
      "  -1.01325001e-03]\n",
      " [-2.72006845e-05 -1.39323966e-02 -4.84863122e-05 -7.04103059e-03\n",
      "  -1.01325001e-03]\n",
      " [-2.72006845e-05 -1.39323966e-02 -4.84863122e-05 -7.04103059e-03\n",
      "  -1.01325001e-03]\n",
      " [-2.72006845e-05 -1.39323966e-02 -4.84863122e-05 -7.04103059e-03\n",
      "  -1.01325001e-03]\n",
      " [-2.72006845e-05 -1.39323966e-02 -4.84863122e-05 -7.04103059e-03\n",
      "  -1.01325001e-03]\n",
      " [-2.72006845e-05 -1.39323966e-02 -4.84863122e-05 -7.04103059e-03\n",
      "  -1.01325001e-03]\n",
      " [-2.72006845e-05 -1.39323966e-02 -4.84863122e-05 -7.04103059e-03\n",
      "  -1.01325001e-03]\n",
      " [-2.72006845e-05 -1.39323966e-02 -4.84863122e-05 -7.04103059e-03\n",
      "  -1.01325001e-03]\n",
      " [-2.72006845e-05 -1.39323966e-02 -4.84863122e-05 -7.04103059e-03\n",
      "  -1.01325001e-03]\n",
      " [-2.72006845e-05 -1.39323966e-02 -4.84863122e-05 -7.04103059e-03\n",
      "  -1.01325001e-03]\n",
      " [-2.72006845e-05 -1.39323966e-02 -4.84863122e-05 -7.04103059e-03\n",
      "  -1.01325001e-03]\n",
      " [-2.72006845e-05 -1.39323966e-02 -4.84863122e-05 -7.04103059e-03\n",
      "  -1.01325001e-03]\n",
      " [-2.72006845e-05 -1.39323966e-02 -4.84863122e-05 -7.04103059e-03\n",
      "  -1.01325001e-03]\n",
      " [-2.72006845e-05 -1.39323966e-02 -4.84863122e-05 -7.04103059e-03\n",
      "  -1.01325001e-03]\n",
      " [-2.72006845e-05 -1.39323966e-02 -4.84863122e-05 -7.04103059e-03\n",
      "  -1.01325001e-03]\n",
      " [-2.72006845e-05 -1.39323966e-02 -4.84863122e-05 -7.04103059e-03\n",
      "  -1.01325001e-03]\n",
      " [-2.72006845e-05 -1.39323966e-02 -4.84863122e-05 -7.04103059e-03\n",
      "  -1.01325001e-03]\n",
      " [-2.72006845e-05 -1.39323966e-02 -4.84863122e-05 -7.04103059e-03\n",
      "  -1.01325001e-03]\n",
      " [-2.72006845e-05 -1.39323966e-02 -4.84863122e-05 -7.04103059e-03\n",
      "  -1.01325001e-03]\n",
      " [-2.72006845e-05 -1.39323966e-02 -4.84863122e-05 -7.04103059e-03\n",
      "  -1.01325001e-03]\n",
      " [-2.72006845e-05 -1.39323966e-02 -4.84863122e-05 -7.04103059e-03\n",
      "  -1.01325001e-03]\n",
      " [-2.72006845e-05 -1.39323966e-02 -4.84863122e-05 -7.04103059e-03\n",
      "  -1.01325001e-03]\n",
      " [-2.72006845e-05 -1.39323966e-02 -4.84863122e-05 -7.04103059e-03\n",
      "  -1.01325001e-03]\n",
      " [-2.72006845e-05 -1.39323966e-02 -4.84863122e-05 -7.04103059e-03\n",
      "  -1.01325001e-03]\n",
      " [-2.72006845e-05 -1.39323966e-02 -4.84863122e-05 -7.04103059e-03\n",
      "  -1.01325001e-03]\n",
      " [-2.72006845e-05 -1.39323966e-02 -4.84863122e-05 -7.04103059e-03\n",
      "  -1.01325001e-03]\n",
      " [-2.72006845e-05 -1.39323966e-02 -4.84863122e-05 -7.04103059e-03\n",
      "  -1.01325001e-03]\n",
      " [-2.72006845e-05 -1.39323966e-02 -4.84863122e-05 -7.04103059e-03\n",
      "  -1.01325001e-03]\n",
      " [-2.72006845e-05 -1.39323966e-02 -4.84863122e-05 -7.04103059e-03\n",
      "  -1.01325001e-03]\n",
      " [-2.72006845e-05 -1.39323966e-02 -4.84863122e-05 -7.04103059e-03\n",
      "  -1.01325001e-03]\n",
      " [-2.72006845e-05 -1.39323966e-02 -4.84863122e-05 -7.04103059e-03\n",
      "  -1.01325001e-03]\n",
      " [-2.72006845e-05 -1.39323966e-02 -4.84863122e-05 -7.04103059e-03\n",
      "  -1.01325001e-03]\n",
      " [-2.72006845e-05 -1.39323966e-02 -4.84863122e-05 -7.04103059e-03\n",
      "  -1.01325001e-03]\n",
      " [-2.72006845e-05 -1.39323966e-02 -4.84863122e-05 -7.04103059e-03\n",
      "  -1.01325001e-03]\n",
      " [-2.72006845e-05 -1.39323966e-02 -4.84863122e-05 -7.04103059e-03\n",
      "  -1.01325001e-03]\n",
      " [-2.72006845e-05 -1.39323966e-02 -4.84863122e-05 -7.04103059e-03\n",
      "  -1.01325001e-03]\n",
      " [-2.72006845e-05 -1.39323966e-02 -4.84863122e-05 -7.04103059e-03\n",
      "  -1.01325001e-03]\n",
      " [-2.72006845e-05 -1.39323966e-02 -4.84863122e-05 -7.04103059e-03\n",
      "  -1.01325001e-03]\n",
      " [-2.72006845e-05 -1.39323966e-02 -4.84863122e-05 -7.04103059e-03\n",
      "  -1.01325001e-03]\n",
      " [-2.72006845e-05 -1.39323966e-02 -4.84863122e-05 -7.04103059e-03\n",
      "  -1.01325001e-03]\n",
      " [-2.72006845e-05 -1.39323966e-02 -4.84863122e-05 -7.04103059e-03\n",
      "  -1.01325001e-03]\n",
      " [-2.72006845e-05 -1.39323966e-02 -4.84863122e-05 -7.04103059e-03\n",
      "  -1.01325001e-03]\n",
      " [-2.72006845e-05 -1.39323966e-02 -4.84863122e-05 -7.04103059e-03\n",
      "  -1.01325001e-03]]\n"
     ]
    }
   ],
   "source": [
    "print(train_scores_l)\n",
    "print(test_scores_l)"
   ]
  },
  {
   "cell_type": "code",
   "execution_count": 54,
   "id": "ee2a00a6-e728-4057-9ecc-b4a5585dee7d",
   "metadata": {},
   "outputs": [],
   "source": [
    "train_media_l = np.mean(train_scores_l, axis = 1)"
   ]
  },
  {
   "cell_type": "code",
   "execution_count": 55,
   "id": "f880dfb4-c66b-42ad-85f4-9b32b2204d3a",
   "metadata": {
    "tags": []
   },
   "outputs": [],
   "source": [
    "test_media_l = np.mean(test_scores_l, axis = 1)"
   ]
  },
  {
   "cell_type": "code",
   "execution_count": 56,
   "id": "baaa232b-a2ab-4233-8021-f6c8875bbeeb",
   "metadata": {},
   "outputs": [
    {
     "data": {
      "text/plain": [
       "array([0.7496758 , 0.74965619, 0.74962541, 0.74957793, 0.74950911,\n",
       "       0.74940285, 0.74925132, 0.74902474, 0.74869782, 0.74818611,\n",
       "       0.7474176 , 0.74626881, 0.74465063, 0.74223909, 0.73870926,\n",
       "       0.73333396, 0.72595909, 0.71710918, 0.70846528, 0.70054617,\n",
       "       0.69149544, 0.67902332, 0.65916303, 0.62754068, 0.57830839,\n",
       "       0.51144273, 0.41124359, 0.25345836, 0.03784887, 0.        ,\n",
       "       0.        , 0.        , 0.        , 0.        , 0.        ,\n",
       "       0.        , 0.        , 0.        , 0.        , 0.        ,\n",
       "       0.        , 0.        , 0.        , 0.        , 0.        ,\n",
       "       0.        , 0.        , 0.        , 0.        , 0.        ,\n",
       "       0.        , 0.        , 0.        , 0.        , 0.        ,\n",
       "       0.        , 0.        , 0.        , 0.        , 0.        ,\n",
       "       0.        , 0.        , 0.        , 0.        , 0.        ,\n",
       "       0.        , 0.        , 0.        , 0.        , 0.        ,\n",
       "       0.        , 0.        , 0.        , 0.        , 0.        ,\n",
       "       0.        , 0.        , 0.        , 0.        , 0.        ,\n",
       "       0.        , 0.        , 0.        , 0.        , 0.        ,\n",
       "       0.        , 0.        , 0.        , 0.        , 0.        ,\n",
       "       0.        , 0.        , 0.        , 0.        , 0.        ,\n",
       "       0.        , 0.        , 0.        , 0.        , 0.        ])"
      ]
     },
     "execution_count": 56,
     "metadata": {},
     "output_type": "execute_result"
    }
   ],
   "source": [
    "train_media_l"
   ]
  },
  {
   "cell_type": "code",
   "execution_count": 57,
   "id": "dc8dae62-1f71-4e16-ae12-c1ffb9f73233",
   "metadata": {},
   "outputs": [
    {
     "data": {
      "text/plain": [
       "array([ 0.72454117,  0.72478436,  0.72507545,  0.72543051,  0.72578075,\n",
       "        0.72618884,  0.72666308,  0.72722164,  0.72771309,  0.72821778,\n",
       "        0.72860704,  0.72880187,  0.7285182 ,  0.72766825,  0.72520276,\n",
       "        0.72054037,  0.71444427,  0.70661022,  0.69876144,  0.69192212,\n",
       "        0.6839456 ,  0.67156844,  0.65171416,  0.61991746,  0.57047921,\n",
       "        0.50619506,  0.40708813,  0.24857275,  0.03327926, -0.00441247,\n",
       "       -0.00441247, -0.00441247, -0.00441247, -0.00441247, -0.00441247,\n",
       "       -0.00441247, -0.00441247, -0.00441247, -0.00441247, -0.00441247,\n",
       "       -0.00441247, -0.00441247, -0.00441247, -0.00441247, -0.00441247,\n",
       "       -0.00441247, -0.00441247, -0.00441247, -0.00441247, -0.00441247,\n",
       "       -0.00441247, -0.00441247, -0.00441247, -0.00441247, -0.00441247,\n",
       "       -0.00441247, -0.00441247, -0.00441247, -0.00441247, -0.00441247,\n",
       "       -0.00441247, -0.00441247, -0.00441247, -0.00441247, -0.00441247,\n",
       "       -0.00441247, -0.00441247, -0.00441247, -0.00441247, -0.00441247,\n",
       "       -0.00441247, -0.00441247, -0.00441247, -0.00441247, -0.00441247,\n",
       "       -0.00441247, -0.00441247, -0.00441247, -0.00441247, -0.00441247,\n",
       "       -0.00441247, -0.00441247, -0.00441247, -0.00441247, -0.00441247,\n",
       "       -0.00441247, -0.00441247, -0.00441247, -0.00441247, -0.00441247,\n",
       "       -0.00441247, -0.00441247, -0.00441247, -0.00441247, -0.00441247,\n",
       "       -0.00441247, -0.00441247, -0.00441247, -0.00441247, -0.00441247])"
      ]
     },
     "execution_count": 57,
     "metadata": {},
     "output_type": "execute_result"
    }
   ],
   "source": [
    "test_media_l"
   ]
  },
  {
   "cell_type": "code",
   "execution_count": 58,
   "id": "fe91b18e-d736-4ded-9c3b-2657fbfe39b7",
   "metadata": {},
   "outputs": [
    {
     "data": {
      "text/plain": [
       "0.7288018681075709"
      ]
     },
     "execution_count": 58,
     "metadata": {},
     "output_type": "execute_result"
    }
   ],
   "source": [
    "max(test_media_l)"
   ]
  },
  {
   "cell_type": "code",
   "execution_count": 59,
   "id": "8ea32753-c51a-4b21-9da4-498f8c0a83cc",
   "metadata": {},
   "outputs": [
    {
     "data": {
      "text/plain": [
       "<seaborn.axisgrid.JointGrid at 0x216edf12580>"
      ]
     },
     "execution_count": 59,
     "metadata": {},
     "output_type": "execute_result"
    },
    {
     "data": {
      "image/png": "[encoded data removed]",
      "text/plain": [
       "<Figure size 432x432 with 3 Axes>"
      ]
     },
     "metadata": {
      "needs_background": "light"
     },
     "output_type": "display_data"
    }
   ],
   "source": [
    "sns.jointplot(x = np.log(rango_parametros), y = test_media_l)"
   ]
  },
  {
   "cell_type": "code",
   "execution_count": 60,
   "id": "e6d0f2a1-ae79-4510-aa1a-1fba07795846",
   "metadata": {},
   "outputs": [
    {
     "data": {
      "text/plain": [
       "(array([11], dtype=int64),)"
      ]
     },
     "execution_count": 60,
     "metadata": {},
     "output_type": "execute_result"
    }
   ],
   "source": [
    "np.where(test_media_l==max(test_media_l))"
   ]
  },
  {
   "cell_type": "code",
   "execution_count": 61,
   "id": "ce16163d-57c4-4647-a6a4-79e02187e18c",
   "metadata": {},
   "outputs": [
    {
     "data": {
      "text/plain": [
       "0.1291549665014884"
      ]
     },
     "execution_count": 61,
     "metadata": {},
     "output_type": "execute_result"
    }
   ],
   "source": [
    "rango_parametros[11]"
   ]
  },
  {
   "cell_type": "code",
   "execution_count": 62,
   "id": "6ae03d36-b50b-411e-a591-05584c806733",
   "metadata": {},
   "outputs": [],
   "source": [
    "best_linear_model_l = Lasso(alpha = rango_parametros[11])"
   ]
  },
  {
   "cell_type": "code",
   "execution_count": 63,
   "id": "743c21cd-df47-47c1-ac6c-9a304bed9f95",
   "metadata": {},
   "outputs": [
    {
     "data": {
      "text/plain": [
       "Lasso(alpha=0.1291549665014884)"
      ]
     },
     "execution_count": 63,
     "metadata": {},
     "output_type": "execute_result"
    }
   ],
   "source": [
    "best_linear_model_l.fit(X_train_esc, y_train)"
   ]
  },
  {
   "cell_type": "code",
   "execution_count": 64,
   "id": "2dc6ee97-7801-4ff4-ba99-1a24ff328ebd",
   "metadata": {},
   "outputs": [
    {
     "data": {
      "text/plain": [
       "0.587320111532413"
      ]
     },
     "execution_count": 64,
     "metadata": {},
     "output_type": "execute_result"
    }
   ],
   "source": [
    "r2_score(y_test, best_linear_model_l.predict(X_test_esc))"
   ]
  },
  {
   "cell_type": "code",
   "execution_count": 65,
   "id": "b91f7bad-ba23-4fff-a143-dcb227e5113d",
   "metadata": {},
   "outputs": [
    {
     "data": {
      "text/plain": [
       "0.7446945770575697"
      ]
     },
     "execution_count": 65,
     "metadata": {},
     "output_type": "execute_result"
    }
   ],
   "source": [
    "r2_score(y_train, best_linear_model_l.predict(X_train_esc))"
   ]
  }
 ],
 "metadata": {
  "kernelspec": {
   "display_name": "Python 3",
   "language": "python",
   "name": "python3"
  },
  "language_info": {
   "codemirror_mode": {
    "name": "ipython",
    "version": 3
   },
   "file_extension": ".py",
   "mimetype": "text/x-python",
   "name": "python",
   "nbconvert_exporter": "python",
   "pygments_lexer": "ipython3",
   "version": "3.9.5"
  }
 },
 "nbformat": 4,
 "nbformat_minor": 5
}
