{
 "cells": [
  {
   "cell_type": "markdown",
   "id": "wired-release",
   "metadata": {},
   "source": [
    "# Importación de datos y preparación"
   ]
  },
  {
   "cell_type": "markdown",
   "id": "d20f509d-7a34-4ae1-acbe-6c17e9e394a7",
   "metadata": {},
   "source": [
    "## Diccionario de datos\n",
    "\n",
    "|  Atributo  |        Descripción         |\n",
    "|------------|----------------------------|\n",
    "|precio|Valor de la propiedad en miles de US$|\n",
    "|tasa_crimen|Proporción de crimenes en el vecindario|\n",
    "|area_resid|Proporcion del área residencial en la localidad|\n",
    "|cal_aire|Calidad del aire en el vecindario|\n",
    "|num_hab|Promedio de habitaciones en las propiedades de la localidad|\n",
    "|edad|Antiguedad de la casa en años|\n",
    "|dist1|Distancia al centro de empleo 1|\n",
    "|dist2|Distancia al centro de empleo 2|\n",
    "|dist3|Distancia al centro de empleo 3|\n",
    "|dist4|Distancia al centro de empleo 4|\n",
    "|prof_mil|Cantidad de profesores por cada 1.000 habitantes de la localidad|\n",
    "|p_pobreza|Proporción de pobreza en la localidad|\n",
    "|aeropuerto|Existencia de aropuerto en la localidad (SI/NO)|\n",
    "|n_cam_hos|Número de camas en los hospitales de la localidad por cada 1.000 habitantes|\n",
    "|n_hab_hotel|Número de habitaciones de hotel en la localidad por cada 1.000 habitantes|\n",
    "|cuerpo_agua|Cuerpo natural de agua más cercano|\n",
    "|lluvia_ano|Promedio anual de centimetros de agua lluvia en la localidad|\n",
    "|ter_bus|Existencia de terminal de buses en la localidad (SI/NO)|\n",
    "|parque|Proporción de tierra asignada en la localidad para parques|"
   ]
  },
  {
   "cell_type": "code",
   "execution_count": null,
   "id": "correct-processing",
   "metadata": {},
   "outputs": [],
   "source": [
    "# Modulo que permite que Python pueda tener acceso a las operaciones del sistema operativo\n",
    "# no se usa en el caso de trabajar en Google Collab o Notebooks en Kaggle\n",
    "import os"
   ]
  },
  {
   "cell_type": "code",
   "execution_count": null,
   "id": "generic-hypothetical",
   "metadata": {},
   "outputs": [],
   "source": [
    "# Muestra el directorio de trabajo actual\n",
    "os.getcwd()"
   ]
  },
  {
   "cell_type": "code",
   "execution_count": null,
   "id": "parallel-riverside",
   "metadata": {},
   "outputs": [],
   "source": [
    "# Cambiar la ubicación del directorio de trabajo\n",
    "os.chdir('C:/Users/jacos/Documents/Modulo 2')"
   ]
  },
  {
   "cell_type": "code",
   "execution_count": null,
   "id": "swiss-nicaragua",
   "metadata": {},
   "outputs": [],
   "source": [
    "os.getcwd()"
   ]
  },
  {
   "cell_type": "code",
   "execution_count": null,
   "id": "involved-travel",
   "metadata": {},
   "outputs": [],
   "source": [
    "import numpy as np # https://numpy.org/\n",
    "import pandas as pd # https://pandas.pydata.org/\n",
    "import seaborn as sns # https://seaborn.pydata.org/"
   ]
  },
  {
   "cell_type": "code",
   "execution_count": null,
   "id": "precious-pharmacy",
   "metadata": {},
   "outputs": [],
   "source": [
    "# Leer el conjunto de datos y guardarlos en un objeto tipo DataFrame\n",
    "url = 'https://raw.githubusercontent.com/JASDataCTG/Diplomado-ML/main/Modulo%202/Datasets/precio_casa_reg.csv'\n",
    "df = pd.read_csv(url, header = 0)"
   ]
  },
  {
   "cell_type": "code",
   "execution_count": null,
   "id": "unusual-basic",
   "metadata": {},
   "outputs": [],
   "source": [
    "# Mostrar las primeras cinco filas del dataframe por defecto, para mostrar más\n",
    "# utilizar df.head(n=10)\n",
    "df.head()"
   ]
  },
  {
   "cell_type": "code",
   "execution_count": null,
   "id": "hydraulic-white",
   "metadata": {},
   "outputs": [],
   "source": [
    "# Mostrar el número de filas y columnas del dataframe\n",
    "df.shape"
   ]
  },
  {
   "cell_type": "code",
   "execution_count": null,
   "id": "bright-supply",
   "metadata": {},
   "outputs": [],
   "source": [
    "# Presentar información sobre las variables presentes en el dataframe y sus tipos de datos\n",
    "df.info()"
   ]
  },
  {
   "cell_type": "markdown",
   "id": "considerable-disclosure",
   "metadata": {},
   "source": [
    "# Descripción de las variables\n",
    "![Asimetría](asimetria.jpg)\n",
    "![Curtosis](curtosis.jpg)"
   ]
  },
  {
   "cell_type": "code",
   "execution_count": null,
   "id": "romantic-period",
   "metadata": {},
   "outputs": [],
   "source": [
    "# Ver los estadísticos descriptivos de los atributos numéricos\n",
    "df.describe()"
   ]
  },
  {
   "cell_type": "code",
   "execution_count": null,
   "id": "laughing-cooler",
   "metadata": {},
   "outputs": [],
   "source": [
    "# Visualizar la distribución de las variables y ver la nube de puntos (x,y)\n",
    "sns.jointplot(x = df['n_hab_hotel'], y = df['precio'])"
   ]
  },
  {
   "cell_type": "code",
   "execution_count": null,
   "id": "stylish-steel",
   "metadata": {},
   "outputs": [],
   "source": [
    "sns.jointplot(x = df['lluvia_ano'], y = df['precio'])"
   ]
  },
  {
   "cell_type": "markdown",
   "id": "3d3b13db-2fc1-4780-9e18-5d4c2fa79205",
   "metadata": {},
   "source": [
    "En las gráficas se observan algunos puntos que se comportan como valores atípicos a los cuales debemos ponerles un techo a su crecimiento para que no afecten los modelos de regresión."
   ]
  },
  {
   "cell_type": "code",
   "execution_count": null,
   "id": "broke-clear",
   "metadata": {},
   "outputs": [],
   "source": [
    "# Visualizar los diagrama de barras de las variables categóricas con countplot\n",
    "sns.countplot(x = df['aeropuerto'])"
   ]
  },
  {
   "cell_type": "code",
   "execution_count": null,
   "id": "virtual-graphics",
   "metadata": {},
   "outputs": [],
   "source": [
    "sns.countplot(x = df['cuerpo_agua'], palette = 'dark')"
   ]
  },
  {
   "cell_type": "code",
   "execution_count": null,
   "id": "ranging-registrar",
   "metadata": {},
   "outputs": [],
   "source": [
    "sns.countplot(x = df['ter_bus'], palette = 'dark')"
   ]
  },
  {
   "cell_type": "markdown",
   "id": "e8557ac1-7fdf-481c-a422-6f357a729fb3",
   "metadata": {},
   "source": [
    "Como se puede observar la variable 'ter_bus'solo presenta un valor por lo que no aporta información al modelo."
   ]
  },
  {
   "cell_type": "code",
   "execution_count": null,
   "id": "smart-tragedy",
   "metadata": {},
   "outputs": [],
   "source": [
    "# Otro tipo de grafíco interesante es el PairGrid que crea una matriz de gráficas de puntos\n",
    "# de todas las variables numéricas\n",
    "g = sns.PairGrid(df[['lluvia_ano', 'n_hab_hotel', 'num_hab', 'n_cam_hos', 'edad', 'cal_aire']])\n",
    "g.map(sns.scatterplot)\n",
    "g2 = g.add_legend()\n",
    "#g2.savefig('nube_puntos.png')"
   ]
  },
  {
   "cell_type": "markdown",
   "id": "large-glory",
   "metadata": {},
   "source": [
    "### Hallazgos en el análisis de los datos\n",
    "\n",
    "* El atributo n_cam_hos (números de cama en los hospitales) tiene valores nulos\n",
    "* Outlier evidentes en los estadísticos descriptivos del atributo tasa_crimen\n",
    "* Se pueden visualizar outliers en los atributos lluvia_ano y n_hab_hotel\n",
    "* La variable term_bus tiene un solo valor"
   ]
  },
  {
   "cell_type": "markdown",
   "id": "missing-nature",
   "metadata": {},
   "source": [
    "# Tratamiendo de los outliers\n",
    "A los valores atípicos observados en la figura se les desarrolla un tratamiento para que no afecten el modelo, en el caso de los atípicos superiores solo vamos a dejar que los valores lleguen hasta tres veces el valor ubicado en el percentil 99, y para los atípicos inferiores serán como mínimo 0.3 veces el valor ubicado en el percentil 1.\n",
    "\n",
    "Existen otras formas de tratar los atípicos que se pueden consultar en el siguiente enlace: \n",
    "\n",
    "https://towardsdatascience.com/ways-to-detect-and-remove-the-outliers-404d16608dba"
   ]
  },
  {
   "cell_type": "code",
   "execution_count": null,
   "id": "noted-drawing",
   "metadata": {},
   "outputs": [],
   "source": [
    "# Proceder a ubicar el valor que se encuentra en el percentil 99\n",
    "np.percentile(df.n_hab_hotel,[99])"
   ]
  },
  {
   "cell_type": "code",
   "execution_count": null,
   "id": "several-beverage",
   "metadata": {},
   "outputs": [],
   "source": [
    "# Para ver el valor sin la notación de array (vector o arreglo), y al ser un array de un\n",
    "# solo elemento accedemos al valor ubicado en la posición 0 (Python indexa desde 0)\n",
    "np.percentile(df.n_hab_hotel,[99])[0]"
   ]
  },
  {
   "cell_type": "code",
   "execution_count": null,
   "id": "forbidden-stanford",
   "metadata": {},
   "outputs": [],
   "source": [
    "# Ver el valor de referencia para establecer el piso superior del método piso y techo\n",
    "lim_sup = np.percentile(df.n_hab_hotel,[99])[0]"
   ]
  },
  {
   "cell_type": "code",
   "execution_count": null,
   "id": "abandoned-stanford",
   "metadata": {},
   "outputs": [],
   "source": [
    "# Revisar los datos en nuestro dataset que son outliers por encima del límite superior\n",
    "df[df.n_hab_hotel > lim_sup]"
   ]
  },
  {
   "cell_type": "code",
   "execution_count": null,
   "id": "impressive-highlight",
   "metadata": {},
   "outputs": [],
   "source": [
    "df.n_hab_hotel[df.n_hab_hotel > 3 * lim_sup] = 3 * lim_sup"
   ]
  },
  {
   "cell_type": "code",
   "execution_count": null,
   "id": "enhanced-wisconsin",
   "metadata": {},
   "outputs": [],
   "source": [
    "np.percentile(df.lluvia_ano,[1])[0]"
   ]
  },
  {
   "cell_type": "code",
   "execution_count": null,
   "id": "split-settlement",
   "metadata": {},
   "outputs": [],
   "source": [
    "lim_inf = np.percentile(df.lluvia_ano,[1])[0]"
   ]
  },
  {
   "cell_type": "code",
   "execution_count": null,
   "id": "meaningful-martial",
   "metadata": {},
   "outputs": [],
   "source": [
    "df[df.lluvia_ano < lim_inf]"
   ]
  },
  {
   "cell_type": "code",
   "execution_count": null,
   "id": "fifty-swift",
   "metadata": {
    "scrolled": true
   },
   "outputs": [],
   "source": [
    "df.lluvia_ano[df.lluvia_ano < 0.3 * lim_inf] = 0.3 * lim_inf"
   ]
  },
  {
   "cell_type": "code",
   "execution_count": null,
   "id": "severe-pacific",
   "metadata": {},
   "outputs": [],
   "source": [
    "# Si se desea trabajar sin el formato atributo['nombre>atr'] debe informar a la función\n",
    "# de Seaborn el nombre del dataframe que se esta utilizando\n",
    "sns.jointplot(x = 'tasa_crimen', y = 'precio', data = df)"
   ]
  },
  {
   "cell_type": "code",
   "execution_count": null,
   "id": "printable-texas",
   "metadata": {},
   "outputs": [],
   "source": [
    "# Una vez que hacemos el tratamiento de los outliers la media y la mediana de los atributos\n",
    "# se encuentran más cercanas\n",
    "df.describe()"
   ]
  },
  {
   "cell_type": "code",
   "execution_count": null,
   "id": "affecting-boring",
   "metadata": {
    "scrolled": true
   },
   "outputs": [],
   "source": [
    "# Ahora podemos ver el efecto del tratamiento que se le ha dado a los outliers en las gráficas\n",
    "sns.jointplot(x = df['n_hab_hotel'], y = df['precio'])"
   ]
  },
  {
   "cell_type": "code",
   "execution_count": null,
   "id": "uniform-virgin",
   "metadata": {},
   "outputs": [],
   "source": [
    "sns.jointplot(x = df['lluvia_ano'], y = df['precio'])"
   ]
  },
  {
   "cell_type": "markdown",
   "id": "sixth-government",
   "metadata": {},
   "source": [
    "# Imputación de valores faltantes en el atributo n_cam_hos"
   ]
  },
  {
   "cell_type": "code",
   "execution_count": null,
   "id": "natural-albany",
   "metadata": {},
   "outputs": [],
   "source": [
    "# Ver los valores NaN en el atributo\n",
    "df.n_cam_hos[df.n_cam_hos.isna()]"
   ]
  },
  {
   "cell_type": "code",
   "execution_count": null,
   "id": "filled-spine",
   "metadata": {},
   "outputs": [],
   "source": [
    "# Se puede verificar la existencia de NaN en un datafarme con la siguiente instrucción:\n",
    "# df.isna().values.any()\n",
    "df.n_cam_hos = df.n_cam_hos.fillna(df.n_cam_hos.mean())"
   ]
  },
  {
   "cell_type": "code",
   "execution_count": null,
   "id": "significant-colombia",
   "metadata": {},
   "outputs": [],
   "source": [
    "df.info()"
   ]
  },
  {
   "cell_type": "code",
   "execution_count": null,
   "id": "earned-cooling",
   "metadata": {},
   "outputs": [],
   "source": [
    "# Confirmar si queda en el dataframe algún atributo con valores perdidos\n",
    "df.isna().values.any()"
   ]
  },
  {
   "cell_type": "markdown",
   "id": "cardiovascular-offense",
   "metadata": {},
   "source": [
    "# Transformación de variables"
   ]
  },
  {
   "cell_type": "code",
   "execution_count": null,
   "id": "narrative-projection",
   "metadata": {},
   "outputs": [],
   "source": [
    "sns.jointplot(x = df['tasa_crimen'], y = df['precio']) # Evaluar la función de tendencia para la nube de puntos"
   ]
  },
  {
   "cell_type": "code",
   "execution_count": null,
   "id": "meaningful-arkansas",
   "metadata": {},
   "outputs": [],
   "source": [
    "# Transformar el atributo tasa crimen\n",
    "df.tasa_crimen = np.log(1 + df.tasa_crimen) "
   ]
  },
  {
   "cell_type": "code",
   "execution_count": null,
   "id": "complete-powder",
   "metadata": {},
   "outputs": [],
   "source": [
    "sns.jointplot(x = df['tasa_crimen'], y = df['precio']) # Verificar el efecto de la transformación"
   ]
  },
  {
   "cell_type": "code",
   "execution_count": null,
   "id": "completed-patrol",
   "metadata": {},
   "outputs": [],
   "source": [
    "# Promediar las distancias para crear un solo atributo distancia promedio (dist_prom)\n",
    "df['dist_prom'] = (df.dist1 + df.dist2 + df.dist3 + df.dist4) / 4 "
   ]
  },
  {
   "cell_type": "code",
   "execution_count": null,
   "id": "continuing-click",
   "metadata": {},
   "outputs": [],
   "source": [
    "df.describe() # Ver los estadísticos descriptivos de la nueva variable"
   ]
  },
  {
   "cell_type": "code",
   "execution_count": null,
   "id": "multiple-minnesota",
   "metadata": {},
   "outputs": [],
   "source": [
    "# Eliminar los atributos de distancia\n",
    "del df['dist1'] "
   ]
  },
  {
   "cell_type": "code",
   "execution_count": null,
   "id": "spare-signature",
   "metadata": {},
   "outputs": [],
   "source": [
    "del df['dist2']"
   ]
  },
  {
   "cell_type": "code",
   "execution_count": null,
   "id": "dedicated-public",
   "metadata": {},
   "outputs": [],
   "source": [
    "del df['dist3']"
   ]
  },
  {
   "cell_type": "code",
   "execution_count": null,
   "id": "million-patrol",
   "metadata": {},
   "outputs": [],
   "source": [
    "del df['dist4']"
   ]
  },
  {
   "cell_type": "code",
   "execution_count": null,
   "id": "hundred-donna",
   "metadata": {},
   "outputs": [],
   "source": [
    "df.describe()"
   ]
  },
  {
   "cell_type": "code",
   "execution_count": null,
   "id": "young-smoke",
   "metadata": {},
   "outputs": [],
   "source": [
    "# Eliminar atributo ter_bus dado que un solo valor no aporta información al modelo\n",
    "del df['ter_bus']"
   ]
  },
  {
   "cell_type": "code",
   "execution_count": null,
   "id": "powerful-virgin",
   "metadata": {},
   "outputs": [],
   "source": [
    "df.head()"
   ]
  },
  {
   "cell_type": "markdown",
   "id": "worldwide-chancellor",
   "metadata": {},
   "source": [
    "# Crear variables dummy para los atributos categóricos\n",
    "Algunos algoritmos de aprendizaje automático no pueden desarrollar los entrenamientos con variables categóricas por lo que se hace necesario codificarlas a través de variables dummies"
   ]
  },
  {
   "cell_type": "code",
   "execution_count": null,
   "id": "civilian-hotel",
   "metadata": {},
   "outputs": [],
   "source": [
    "# Separa los valores únicos de los atributos categóricos en columnas\n",
    "# que indicaran la presencia(1) o la ausencia(0) de los valores\n",
    "df = pd.get_dummies(df) "
   ]
  },
  {
   "cell_type": "code",
   "execution_count": null,
   "id": "daily-angel",
   "metadata": {},
   "outputs": [],
   "source": [
    "df.head()"
   ]
  },
  {
   "cell_type": "code",
   "execution_count": null,
   "id": "declared-classics",
   "metadata": {},
   "outputs": [],
   "source": [
    "# Eliminar atributos redundantes\n",
    "del df['aeropuerto_NO'] "
   ]
  },
  {
   "cell_type": "code",
   "execution_count": null,
   "id": "fifth-howard",
   "metadata": {},
   "outputs": [],
   "source": [
    "del df['cuerpo_agua_Ninguno']"
   ]
  },
  {
   "cell_type": "code",
   "execution_count": null,
   "id": "floating-quarter",
   "metadata": {},
   "outputs": [],
   "source": [
    "df.head()"
   ]
  },
  {
   "cell_type": "code",
   "execution_count": null,
   "id": "a9c6f9b8-b53b-4240-9eb7-7ef5996b7456",
   "metadata": {},
   "outputs": [],
   "source": [
    "# Guardar dataset con el preproceso finalizado\n",
    "# para su uso en los siguientes pasos.\n",
    "#df.to_csv('precio_prep_reg.csv', header = True, index = False) "
   ]
  }
 ],
 "metadata": {
  "kernelspec": {
   "display_name": "Python 3",
   "language": "python",
   "name": "python3"
  },
  "language_info": {
   "codemirror_mode": {
    "name": "ipython",
    "version": 3
   },
   "file_extension": ".py",
   "mimetype": "text/x-python",
   "name": "python",
   "nbconvert_exporter": "python",
   "pygments_lexer": "ipython3",
   "version": "3.9.5"
  }
 },
 "nbformat": 4,
 "nbformat_minor": 5
}
