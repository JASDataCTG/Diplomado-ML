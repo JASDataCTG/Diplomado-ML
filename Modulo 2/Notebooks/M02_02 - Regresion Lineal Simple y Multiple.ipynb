{
 "cells": [
  {
   "cell_type": "markdown",
   "id": "veterinary-saturday",
   "metadata": {},
   "source": [
    "# Análisis de correlación\n",
    "![Correlación](correlacion.jpg)"
   ]
  },
  {
   "cell_type": "code",
   "execution_count": null,
   "id": "instructional-vision",
   "metadata": {},
   "outputs": [],
   "source": [
    "import numpy as np # https://numpy.org/\n",
    "import pandas as pd # https://pandas.pydata.org/\n",
    "import seaborn as sns # https://seaborn.pydata.org/\n",
    "import matplotlib.pyplot as plt"
   ]
  },
  {
   "cell_type": "code",
   "execution_count": null,
   "id": "another-french",
   "metadata": {},
   "outputs": [],
   "source": [
    "df = pd.read_csv('precio_prep_reg.csv', header = 0) # Leer el archivo generado en el notebook de preproceso"
   ]
  },
  {
   "cell_type": "code",
   "execution_count": null,
   "id": "tamil-ethnic",
   "metadata": {},
   "outputs": [],
   "source": [
    "df.corr() # Muestra las correlaciones cruzadas de los atributos numéricos"
   ]
  },
  {
   "cell_type": "code",
   "execution_count": null,
   "id": "compound-cricket",
   "metadata": {},
   "outputs": [],
   "source": [
    "# Se pueden visualizar mejor la correlación entre las variables utilizando un mapa de calor (heatmap)\n",
    "import matplotlib.pyplot as plt\n",
    "plt.figure(figsize=(14, 14), facecolor = 'lightgray')\n",
    "sns.heatmap(df.corr(), annot = True, cmap = 'winter_r')\n",
    "plt.savefig('mapa.jpg', dpi = 600)"
   ]
  },
  {
   "cell_type": "markdown",
   "id": "living-clearing",
   "metadata": {},
   "source": [
    "# Regresión lineal simple por el método de los mínimos cuadrados"
   ]
  },
  {
   "cell_type": "code",
   "execution_count": null,
   "id": "surface-brick",
   "metadata": {},
   "outputs": [],
   "source": [
    "import statsmodels.api as sn # Importar modulo que desarrolla la regresión lineal por el método de los mínimos cuadrados"
   ]
  },
  {
   "cell_type": "code",
   "execution_count": null,
   "id": "referenced-theology",
   "metadata": {},
   "outputs": [],
   "source": [
    "X = sn.add_constant(df['num_hab']) # Generar constantes iniciales de los parámetros\n",
    "# theta h(x) = theta0 + theta1 * X"
   ]
  },
  {
   "cell_type": "code",
   "execution_count": null,
   "id": "confirmed-gentleman",
   "metadata": {},
   "outputs": [],
   "source": [
    "X # Ver las constantes generadas"
   ]
  },
  {
   "cell_type": "code",
   "execution_count": null,
   "id": "complete-scheduling",
   "metadata": {},
   "outputs": [],
   "source": [
    "linear_model = sn.OLS(df['precio'], X).fit() # Crear el modelo y realizar el ajuste de los parámetros"
   ]
  },
  {
   "cell_type": "code",
   "execution_count": null,
   "id": "worldwide-factor",
   "metadata": {},
   "outputs": [],
   "source": [
    "linear_model.summary() # Ver los estadísticos del modelo"
   ]
  },
  {
   "cell_type": "code",
   "execution_count": null,
   "id": "suspected-bradley",
   "metadata": {},
   "outputs": [],
   "source": [
    "sns.scatterplot(x = df['num_hab'], y = df['precio']) # Visualizar la nube de puntos"
   ]
  },
  {
   "cell_type": "code",
   "execution_count": null,
   "id": "floppy-coordinator",
   "metadata": {},
   "outputs": [],
   "source": [
    "sns.lineplot(x = df['num_hab'], y = -34.6592 + 9.0997*df['num_hab']) # Opción 1: Visualizar la línea de regresión generada\n",
    "# por el modelo"
   ]
  },
  {
   "cell_type": "code",
   "execution_count": null,
   "id": "adverse-drove",
   "metadata": {},
   "outputs": [],
   "source": [
    "sns.regplot(x = df['num_hab'], y = df['precio']) # Opción 2: Visualizar nube de puntos y línea de regresión\n",
    "# usando la función regplot"
   ]
  },
  {
   "cell_type": "code",
   "execution_count": null,
   "id": "immune-applicant",
   "metadata": {},
   "outputs": [],
   "source": [
    "sns.jointplot(x = df['num_hab'], y = df['precio'], kind = 'reg', color = 'blue') # Opción 3: Visualizar la nube de\n",
    "# puntos y línea de regresión con la función jointplot (kind = 'reg')"
   ]
  },
  {
   "cell_type": "code",
   "execution_count": null,
   "id": "baking-motorcycle",
   "metadata": {},
   "outputs": [],
   "source": [
    "sns.jointplot(x = df['num_hab'], y = df['precio'], kind = 'resid', color = 'darkorange') # Igualmente con la función\n",
    "# jointplot (kind = 'resid') podemos visualizar los residuos (alturas) de los valores observados vs los predichos"
   ]
  },
  {
   "cell_type": "code",
   "execution_count": null,
   "id": "asian-gregory",
   "metadata": {
    "scrolled": true
   },
   "outputs": [],
   "source": [
    "def proyeccion(x):\n",
    "    y = -34.6592 + 9.0997 * x\n",
    "    print('El valor proyectado es', '{0:.2f}'.format(y))"
   ]
  },
  {
   "cell_type": "code",
   "execution_count": null,
   "id": "satisfactory-venture",
   "metadata": {},
   "outputs": [],
   "source": [
    "proyeccion(10)"
   ]
  },
  {
   "cell_type": "code",
   "execution_count": null,
   "id": "spectacular-indonesian",
   "metadata": {
    "scrolled": true
   },
   "outputs": [],
   "source": [
    "linear_model.predict([1,10])"
   ]
  },
  {
   "cell_type": "markdown",
   "id": "light-active",
   "metadata": {},
   "source": [
    "# Regresión lineal multiple"
   ]
  },
  {
   "cell_type": "code",
   "execution_count": null,
   "id": "eight-berry",
   "metadata": {},
   "outputs": [],
   "source": [
    "X_multiple = df.drop('precio', axis = 1) # Crear un nuevo dataframe sin la columna precio (axis=1 -> borra columna)"
   ]
  },
  {
   "cell_type": "code",
   "execution_count": null,
   "id": "cross-custom",
   "metadata": {},
   "outputs": [],
   "source": [
    "X_multiple.head() # Verificar"
   ]
  },
  {
   "cell_type": "code",
   "execution_count": null,
   "id": "broadband-hebrew",
   "metadata": {},
   "outputs": [],
   "source": [
    "y_multiple = df['precio']"
   ]
  },
  {
   "cell_type": "code",
   "execution_count": null,
   "id": "transsexual-driving",
   "metadata": {},
   "outputs": [],
   "source": [
    "y_multiple"
   ]
  },
  {
   "cell_type": "code",
   "execution_count": null,
   "id": "indoor-writing",
   "metadata": {},
   "outputs": [],
   "source": [
    "X_multiple_constante = sn.add_constant(X_multiple)"
   ]
  },
  {
   "cell_type": "code",
   "execution_count": null,
   "id": "honey-cause",
   "metadata": {},
   "outputs": [],
   "source": [
    "X_multiple_constante"
   ]
  },
  {
   "cell_type": "code",
   "execution_count": null,
   "id": "stopped-cooling",
   "metadata": {},
   "outputs": [],
   "source": [
    "lin_model_mult = sn.OLS(y_multiple, X_multiple_constante).fit()"
   ]
  },
  {
   "cell_type": "code",
   "execution_count": null,
   "id": "twenty-nothing",
   "metadata": {},
   "outputs": [],
   "source": [
    "lin_model_mult.summary()"
   ]
  },
  {
   "cell_type": "markdown",
   "id": "neutral-india",
   "metadata": {},
   "source": [
    "# Regresión lineal múltiple con el modulo sklearn"
   ]
  },
  {
   "cell_type": "code",
   "execution_count": null,
   "id": "valuable-hobby",
   "metadata": {},
   "outputs": [],
   "source": [
    "from sklearn.linear_model import LinearRegression # Importar el modulo y la función necesaria"
   ]
  },
  {
   "cell_type": "code",
   "execution_count": null,
   "id": "secondary-internship",
   "metadata": {},
   "outputs": [],
   "source": [
    "lin_model_sk = LinearRegression() # Crear el modelo"
   ]
  },
  {
   "cell_type": "code",
   "execution_count": null,
   "id": "worth-magnet",
   "metadata": {},
   "outputs": [],
   "source": [
    "lin_model_sk.fit(X_multiple, y_multiple) # Ajustar el modelo a los datos"
   ]
  },
  {
   "cell_type": "code",
   "execution_count": null,
   "id": "female-refund",
   "metadata": {},
   "outputs": [],
   "source": [
    "lin_model_sk.intercept_, lin_model_sk.coef_ # Ver los valores del intercepto y de los coeficientes"
   ]
  },
  {
   "cell_type": "code",
   "execution_count": null,
   "id": "sealed-arnold",
   "metadata": {},
   "outputs": [],
   "source": []
  }
 ],
 "metadata": {
  "kernelspec": {
   "display_name": "Python 3",
   "language": "python",
   "name": "python3"
  },
  "language_info": {
   "codemirror_mode": {
    "name": "ipython",
    "version": 3
   },
   "file_extension": ".py",
   "mimetype": "text/x-python",
   "name": "python",
   "nbconvert_exporter": "python",
   "pygments_lexer": "ipython3",
   "version": "3.9.5"
  }
 },
 "nbformat": 4,
 "nbformat_minor": 5
}
