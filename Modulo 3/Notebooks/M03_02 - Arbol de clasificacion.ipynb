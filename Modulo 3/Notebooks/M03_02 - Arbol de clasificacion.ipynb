{
 "cells": [
  {
   "cell_type": "markdown",
   "id": "8844113a-b4e5-4a62-8760-a448d9eaa04b",
   "metadata": {},
   "source": [
    "# Aprendizaje supervisado - Árboles de clasificación\n",
    "![Árbol de clasificación](ilustracion_arb_clasi.png)"
   ]
  },
  {
   "cell_type": "markdown",
   "id": "33f1ee98-a2c3-4dfe-8969-f691d171f509",
   "metadata": {},
   "source": [
    "## Carga del conjunto de datos"
   ]
  },
  {
   "cell_type": "code",
   "execution_count": 1,
   "id": "fa0dc844-a93a-4ee2-8a74-be17039c2cdb",
   "metadata": {},
   "outputs": [],
   "source": [
    "import pandas as pd\n",
    "import numpy as np\n",
    "import seaborn as sns\n",
    "import matplotlib.pyplot as plt"
   ]
  },
  {
   "cell_type": "code",
   "execution_count": 2,
   "id": "7b7feae1-df90-493c-bfc8-40efe7a87a04",
   "metadata": {},
   "outputs": [],
   "source": [
    "url = 'https://raw.githubusercontent.com/JASDataCTG/Diplomado-ML/main/Modulo%203/Datasets/Movie_classificationesclas.csv'\n",
    "df = pd.read_csv(url, header = 0)"
   ]
  },
  {
   "cell_type": "code",
   "execution_count": 3,
   "id": "890baec2-7ac0-4361-8f83-7a22a12f6eb1",
   "metadata": {},
   "outputs": [
    {
     "data": {
      "text/html": [
       "<div>\n",
       "<style scoped>\n",
       "    .dataframe tbody tr th:only-of-type {\n",
       "        vertical-align: middle;\n",
       "    }\n",
       "\n",
       "    .dataframe tbody tr th {\n",
       "        vertical-align: top;\n",
       "    }\n",
       "\n",
       "    .dataframe thead th {\n",
       "        text-align: right;\n",
       "    }\n",
       "</style>\n",
       "<table border=\"1\" class=\"dataframe\">\n",
       "  <thead>\n",
       "    <tr style=\"text-align: right;\">\n",
       "      <th></th>\n",
       "      <th>Costo de marketing</th>\n",
       "      <th>Costo de produccion</th>\n",
       "      <th>Multiplex cubiertos</th>\n",
       "      <th>Ganancias</th>\n",
       "      <th>Duracion</th>\n",
       "      <th>Rating actor principal</th>\n",
       "      <th>Rating actriz principal</th>\n",
       "      <th>Rating director</th>\n",
       "      <th>Rating productor</th>\n",
       "      <th>Rating criticos</th>\n",
       "      <th>Visualizaciones trailers</th>\n",
       "      <th>Disponibilidad 3D</th>\n",
       "      <th>Tiempo realizacion</th>\n",
       "      <th>Hashtags Twitter</th>\n",
       "      <th>Genero</th>\n",
       "      <th>Promedio edad actores</th>\n",
       "      <th>Numero multiplex</th>\n",
       "      <th>Coleccion</th>\n",
       "      <th>Gana Oscar</th>\n",
       "    </tr>\n",
       "  </thead>\n",
       "  <tbody>\n",
       "    <tr>\n",
       "      <th>0</th>\n",
       "      <td>20.1264</td>\n",
       "      <td>59.62</td>\n",
       "      <td>0.462</td>\n",
       "      <td>36524.125</td>\n",
       "      <td>138.7</td>\n",
       "      <td>7.825</td>\n",
       "      <td>8.095</td>\n",
       "      <td>7.910</td>\n",
       "      <td>7.995</td>\n",
       "      <td>7.94</td>\n",
       "      <td>527367</td>\n",
       "      <td>SI</td>\n",
       "      <td>109.60</td>\n",
       "      <td>223.840</td>\n",
       "      <td>Terror</td>\n",
       "      <td>23</td>\n",
       "      <td>494</td>\n",
       "      <td>48000</td>\n",
       "      <td>1</td>\n",
       "    </tr>\n",
       "    <tr>\n",
       "      <th>1</th>\n",
       "      <td>20.5462</td>\n",
       "      <td>69.14</td>\n",
       "      <td>0.531</td>\n",
       "      <td>35668.655</td>\n",
       "      <td>152.4</td>\n",
       "      <td>7.505</td>\n",
       "      <td>7.650</td>\n",
       "      <td>7.440</td>\n",
       "      <td>7.470</td>\n",
       "      <td>7.44</td>\n",
       "      <td>494055</td>\n",
       "      <td>NO</td>\n",
       "      <td>146.64</td>\n",
       "      <td>243.456</td>\n",
       "      <td>Drama</td>\n",
       "      <td>42</td>\n",
       "      <td>462</td>\n",
       "      <td>43200</td>\n",
       "      <td>0</td>\n",
       "    </tr>\n",
       "    <tr>\n",
       "      <th>2</th>\n",
       "      <td>20.5458</td>\n",
       "      <td>69.14</td>\n",
       "      <td>0.531</td>\n",
       "      <td>39912.675</td>\n",
       "      <td>134.6</td>\n",
       "      <td>7.485</td>\n",
       "      <td>7.570</td>\n",
       "      <td>7.495</td>\n",
       "      <td>7.515</td>\n",
       "      <td>7.44</td>\n",
       "      <td>547051</td>\n",
       "      <td>NO</td>\n",
       "      <td>147.88</td>\n",
       "      <td>2022.400</td>\n",
       "      <td>Comedia</td>\n",
       "      <td>38</td>\n",
       "      <td>458</td>\n",
       "      <td>69400</td>\n",
       "      <td>1</td>\n",
       "    </tr>\n",
       "    <tr>\n",
       "      <th>3</th>\n",
       "      <td>20.6474</td>\n",
       "      <td>59.36</td>\n",
       "      <td>0.542</td>\n",
       "      <td>38873.890</td>\n",
       "      <td>119.3</td>\n",
       "      <td>6.895</td>\n",
       "      <td>7.035</td>\n",
       "      <td>6.920</td>\n",
       "      <td>7.020</td>\n",
       "      <td>8.26</td>\n",
       "      <td>516279</td>\n",
       "      <td>SI</td>\n",
       "      <td>185.36</td>\n",
       "      <td>225.344</td>\n",
       "      <td>Drama</td>\n",
       "      <td>45</td>\n",
       "      <td>472</td>\n",
       "      <td>66800</td>\n",
       "      <td>1</td>\n",
       "    </tr>\n",
       "    <tr>\n",
       "      <th>4</th>\n",
       "      <td>21.3810</td>\n",
       "      <td>59.36</td>\n",
       "      <td>0.542</td>\n",
       "      <td>39701.585</td>\n",
       "      <td>127.7</td>\n",
       "      <td>6.920</td>\n",
       "      <td>7.070</td>\n",
       "      <td>6.815</td>\n",
       "      <td>7.070</td>\n",
       "      <td>8.26</td>\n",
       "      <td>531448</td>\n",
       "      <td>NO</td>\n",
       "      <td>176.48</td>\n",
       "      <td>225.792</td>\n",
       "      <td>Drama</td>\n",
       "      <td>55</td>\n",
       "      <td>395</td>\n",
       "      <td>72400</td>\n",
       "      <td>1</td>\n",
       "    </tr>\n",
       "  </tbody>\n",
       "</table>\n",
       "</div>"
      ],
      "text/plain": [
       "   Costo de marketing  Costo de produccion  Multiplex cubiertos  Ganancias  \\\n",
       "0             20.1264                59.62                0.462  36524.125   \n",
       "1             20.5462                69.14                0.531  35668.655   \n",
       "2             20.5458                69.14                0.531  39912.675   \n",
       "3             20.6474                59.36                0.542  38873.890   \n",
       "4             21.3810                59.36                0.542  39701.585   \n",
       "\n",
       "   Duracion  Rating actor principal  Rating actriz principal  Rating director  \\\n",
       "0     138.7                   7.825                    8.095            7.910   \n",
       "1     152.4                   7.505                    7.650            7.440   \n",
       "2     134.6                   7.485                    7.570            7.495   \n",
       "3     119.3                   6.895                    7.035            6.920   \n",
       "4     127.7                   6.920                    7.070            6.815   \n",
       "\n",
       "   Rating productor  Rating criticos  Visualizaciones trailers  \\\n",
       "0             7.995             7.94                    527367   \n",
       "1             7.470             7.44                    494055   \n",
       "2             7.515             7.44                    547051   \n",
       "3             7.020             8.26                    516279   \n",
       "4             7.070             8.26                    531448   \n",
       "\n",
       "  Disponibilidad 3D  Tiempo realizacion  Hashtags Twitter   Genero  \\\n",
       "0                SI              109.60           223.840   Terror   \n",
       "1                NO              146.64           243.456    Drama   \n",
       "2                NO              147.88          2022.400  Comedia   \n",
       "3                SI              185.36           225.344    Drama   \n",
       "4                NO              176.48           225.792    Drama   \n",
       "\n",
       "   Promedio edad actores  Numero multiplex  Coleccion  Gana Oscar  \n",
       "0                     23               494      48000           1  \n",
       "1                     42               462      43200           0  \n",
       "2                     38               458      69400           1  \n",
       "3                     45               472      66800           1  \n",
       "4                     55               395      72400           1  "
      ]
     },
     "execution_count": 3,
     "metadata": {},
     "output_type": "execute_result"
    }
   ],
   "source": [
    "df.head()"
   ]
  },
  {
   "cell_type": "code",
   "execution_count": 4,
   "id": "4ed416be-7573-4355-8e78-339f5bb8bf2e",
   "metadata": {},
   "outputs": [
    {
     "name": "stdout",
     "output_type": "stream",
     "text": [
      "<class 'pandas.core.frame.DataFrame'>\n",
      "RangeIndex: 506 entries, 0 to 505\n",
      "Data columns (total 19 columns):\n",
      " #   Column                    Non-Null Count  Dtype  \n",
      "---  ------                    --------------  -----  \n",
      " 0   Costo de marketing        506 non-null    float64\n",
      " 1   Costo de produccion       506 non-null    float64\n",
      " 2   Multiplex cubiertos       506 non-null    float64\n",
      " 3   Ganancias                 506 non-null    float64\n",
      " 4   Duracion                  506 non-null    float64\n",
      " 5   Rating actor principal    506 non-null    float64\n",
      " 6   Rating actriz principal   506 non-null    float64\n",
      " 7   Rating director           506 non-null    float64\n",
      " 8   Rating productor          506 non-null    float64\n",
      " 9   Rating criticos           506 non-null    float64\n",
      " 10  Visualizaciones trailers  506 non-null    int64  \n",
      " 11  Disponibilidad 3D         506 non-null    object \n",
      " 12  Tiempo realizacion        494 non-null    float64\n",
      " 13  Hashtags Twitter          506 non-null    float64\n",
      " 14  Genero                    506 non-null    object \n",
      " 15  Promedio edad actores     506 non-null    int64  \n",
      " 16  Numero multiplex          506 non-null    int64  \n",
      " 17  Coleccion                 506 non-null    int64  \n",
      " 18  Gana Oscar                506 non-null    int64  \n",
      "dtypes: float64(12), int64(5), object(2)\n",
      "memory usage: 75.2+ KB\n"
     ]
    }
   ],
   "source": [
    "df.info()"
   ]
  },
  {
   "cell_type": "markdown",
   "id": "1cfa4800-6fec-4afa-bbc3-95cf92ed4613",
   "metadata": {},
   "source": [
    "### Imputación de valores faltantes"
   ]
  },
  {
   "cell_type": "code",
   "execution_count": 5,
   "id": "7e1cc121-1e13-4672-8fc2-461248535c4b",
   "metadata": {},
   "outputs": [
    {
     "data": {
      "text/plain": [
       "157.3914979757085"
      ]
     },
     "execution_count": 5,
     "metadata": {},
     "output_type": "execute_result"
    }
   ],
   "source": [
    "df['Tiempo realizacion'].mean()"
   ]
  },
  {
   "cell_type": "code",
   "execution_count": 6,
   "id": "ccf6b722-d671-40b9-aa22-96eafce5822c",
   "metadata": {},
   "outputs": [],
   "source": [
    "df['Tiempo realizacion'].fillna(value = df['Tiempo realizacion'].mean(), inplace = True)"
   ]
  },
  {
   "cell_type": "code",
   "execution_count": 7,
   "id": "91db0a1f-9840-4648-8ef4-7a682aa003ee",
   "metadata": {},
   "outputs": [
    {
     "data": {
      "text/html": [
       "<div>\n",
       "<style scoped>\n",
       "    .dataframe tbody tr th:only-of-type {\n",
       "        vertical-align: middle;\n",
       "    }\n",
       "\n",
       "    .dataframe tbody tr th {\n",
       "        vertical-align: top;\n",
       "    }\n",
       "\n",
       "    .dataframe thead th {\n",
       "        text-align: right;\n",
       "    }\n",
       "</style>\n",
       "<table border=\"1\" class=\"dataframe\">\n",
       "  <thead>\n",
       "    <tr style=\"text-align: right;\">\n",
       "      <th></th>\n",
       "      <th>Costo de marketing</th>\n",
       "      <th>Costo de produccion</th>\n",
       "      <th>Multiplex cubiertos</th>\n",
       "      <th>Ganancias</th>\n",
       "      <th>Duracion</th>\n",
       "      <th>Rating actor principal</th>\n",
       "      <th>Rating actriz principal</th>\n",
       "      <th>Rating director</th>\n",
       "      <th>Rating productor</th>\n",
       "      <th>Rating criticos</th>\n",
       "      <th>Visualizaciones trailers</th>\n",
       "      <th>Disponibilidad 3D</th>\n",
       "      <th>Tiempo realizacion</th>\n",
       "      <th>Hashtags Twitter</th>\n",
       "      <th>Genero</th>\n",
       "      <th>Promedio edad actores</th>\n",
       "      <th>Numero multiplex</th>\n",
       "      <th>Coleccion</th>\n",
       "      <th>Gana Oscar</th>\n",
       "    </tr>\n",
       "  </thead>\n",
       "  <tbody>\n",
       "    <tr>\n",
       "      <th>0</th>\n",
       "      <td>20.1264</td>\n",
       "      <td>59.62</td>\n",
       "      <td>0.462</td>\n",
       "      <td>36524.125</td>\n",
       "      <td>138.7</td>\n",
       "      <td>7.825</td>\n",
       "      <td>8.095</td>\n",
       "      <td>7.910</td>\n",
       "      <td>7.995</td>\n",
       "      <td>7.94</td>\n",
       "      <td>527367</td>\n",
       "      <td>SI</td>\n",
       "      <td>109.60</td>\n",
       "      <td>223.840</td>\n",
       "      <td>Terror</td>\n",
       "      <td>23</td>\n",
       "      <td>494</td>\n",
       "      <td>48000</td>\n",
       "      <td>1</td>\n",
       "    </tr>\n",
       "    <tr>\n",
       "      <th>1</th>\n",
       "      <td>20.5462</td>\n",
       "      <td>69.14</td>\n",
       "      <td>0.531</td>\n",
       "      <td>35668.655</td>\n",
       "      <td>152.4</td>\n",
       "      <td>7.505</td>\n",
       "      <td>7.650</td>\n",
       "      <td>7.440</td>\n",
       "      <td>7.470</td>\n",
       "      <td>7.44</td>\n",
       "      <td>494055</td>\n",
       "      <td>NO</td>\n",
       "      <td>146.64</td>\n",
       "      <td>243.456</td>\n",
       "      <td>Drama</td>\n",
       "      <td>42</td>\n",
       "      <td>462</td>\n",
       "      <td>43200</td>\n",
       "      <td>0</td>\n",
       "    </tr>\n",
       "    <tr>\n",
       "      <th>2</th>\n",
       "      <td>20.5458</td>\n",
       "      <td>69.14</td>\n",
       "      <td>0.531</td>\n",
       "      <td>39912.675</td>\n",
       "      <td>134.6</td>\n",
       "      <td>7.485</td>\n",
       "      <td>7.570</td>\n",
       "      <td>7.495</td>\n",
       "      <td>7.515</td>\n",
       "      <td>7.44</td>\n",
       "      <td>547051</td>\n",
       "      <td>NO</td>\n",
       "      <td>147.88</td>\n",
       "      <td>2022.400</td>\n",
       "      <td>Comedia</td>\n",
       "      <td>38</td>\n",
       "      <td>458</td>\n",
       "      <td>69400</td>\n",
       "      <td>1</td>\n",
       "    </tr>\n",
       "    <tr>\n",
       "      <th>3</th>\n",
       "      <td>20.6474</td>\n",
       "      <td>59.36</td>\n",
       "      <td>0.542</td>\n",
       "      <td>38873.890</td>\n",
       "      <td>119.3</td>\n",
       "      <td>6.895</td>\n",
       "      <td>7.035</td>\n",
       "      <td>6.920</td>\n",
       "      <td>7.020</td>\n",
       "      <td>8.26</td>\n",
       "      <td>516279</td>\n",
       "      <td>SI</td>\n",
       "      <td>185.36</td>\n",
       "      <td>225.344</td>\n",
       "      <td>Drama</td>\n",
       "      <td>45</td>\n",
       "      <td>472</td>\n",
       "      <td>66800</td>\n",
       "      <td>1</td>\n",
       "    </tr>\n",
       "    <tr>\n",
       "      <th>4</th>\n",
       "      <td>21.3810</td>\n",
       "      <td>59.36</td>\n",
       "      <td>0.542</td>\n",
       "      <td>39701.585</td>\n",
       "      <td>127.7</td>\n",
       "      <td>6.920</td>\n",
       "      <td>7.070</td>\n",
       "      <td>6.815</td>\n",
       "      <td>7.070</td>\n",
       "      <td>8.26</td>\n",
       "      <td>531448</td>\n",
       "      <td>NO</td>\n",
       "      <td>176.48</td>\n",
       "      <td>225.792</td>\n",
       "      <td>Drama</td>\n",
       "      <td>55</td>\n",
       "      <td>395</td>\n",
       "      <td>72400</td>\n",
       "      <td>1</td>\n",
       "    </tr>\n",
       "  </tbody>\n",
       "</table>\n",
       "</div>"
      ],
      "text/plain": [
       "   Costo de marketing  Costo de produccion  Multiplex cubiertos  Ganancias  \\\n",
       "0             20.1264                59.62                0.462  36524.125   \n",
       "1             20.5462                69.14                0.531  35668.655   \n",
       "2             20.5458                69.14                0.531  39912.675   \n",
       "3             20.6474                59.36                0.542  38873.890   \n",
       "4             21.3810                59.36                0.542  39701.585   \n",
       "\n",
       "   Duracion  Rating actor principal  Rating actriz principal  Rating director  \\\n",
       "0     138.7                   7.825                    8.095            7.910   \n",
       "1     152.4                   7.505                    7.650            7.440   \n",
       "2     134.6                   7.485                    7.570            7.495   \n",
       "3     119.3                   6.895                    7.035            6.920   \n",
       "4     127.7                   6.920                    7.070            6.815   \n",
       "\n",
       "   Rating productor  Rating criticos  Visualizaciones trailers  \\\n",
       "0             7.995             7.94                    527367   \n",
       "1             7.470             7.44                    494055   \n",
       "2             7.515             7.44                    547051   \n",
       "3             7.020             8.26                    516279   \n",
       "4             7.070             8.26                    531448   \n",
       "\n",
       "  Disponibilidad 3D  Tiempo realizacion  Hashtags Twitter   Genero  \\\n",
       "0                SI              109.60           223.840   Terror   \n",
       "1                NO              146.64           243.456    Drama   \n",
       "2                NO              147.88          2022.400  Comedia   \n",
       "3                SI              185.36           225.344    Drama   \n",
       "4                NO              176.48           225.792    Drama   \n",
       "\n",
       "   Promedio edad actores  Numero multiplex  Coleccion  Gana Oscar  \n",
       "0                     23               494      48000           1  \n",
       "1                     42               462      43200           0  \n",
       "2                     38               458      69400           1  \n",
       "3                     45               472      66800           1  \n",
       "4                     55               395      72400           1  "
      ]
     },
     "execution_count": 7,
     "metadata": {},
     "output_type": "execute_result"
    }
   ],
   "source": [
    "df.head()"
   ]
  },
  {
   "cell_type": "code",
   "execution_count": 8,
   "id": "162a4c13-6d59-4802-ab2b-9ee15538f6fa",
   "metadata": {},
   "outputs": [
    {
     "name": "stdout",
     "output_type": "stream",
     "text": [
      "<class 'pandas.core.frame.DataFrame'>\n",
      "RangeIndex: 506 entries, 0 to 505\n",
      "Data columns (total 19 columns):\n",
      " #   Column                    Non-Null Count  Dtype  \n",
      "---  ------                    --------------  -----  \n",
      " 0   Costo de marketing        506 non-null    float64\n",
      " 1   Costo de produccion       506 non-null    float64\n",
      " 2   Multiplex cubiertos       506 non-null    float64\n",
      " 3   Ganancias                 506 non-null    float64\n",
      " 4   Duracion                  506 non-null    float64\n",
      " 5   Rating actor principal    506 non-null    float64\n",
      " 6   Rating actriz principal   506 non-null    float64\n",
      " 7   Rating director           506 non-null    float64\n",
      " 8   Rating productor          506 non-null    float64\n",
      " 9   Rating criticos           506 non-null    float64\n",
      " 10  Visualizaciones trailers  506 non-null    int64  \n",
      " 11  Disponibilidad 3D         506 non-null    object \n",
      " 12  Tiempo realizacion        506 non-null    float64\n",
      " 13  Hashtags Twitter          506 non-null    float64\n",
      " 14  Genero                    506 non-null    object \n",
      " 15  Promedio edad actores     506 non-null    int64  \n",
      " 16  Numero multiplex          506 non-null    int64  \n",
      " 17  Coleccion                 506 non-null    int64  \n",
      " 18  Gana Oscar                506 non-null    int64  \n",
      "dtypes: float64(12), int64(5), object(2)\n",
      "memory usage: 75.2+ KB\n"
     ]
    }
   ],
   "source": [
    "df.info()"
   ]
  },
  {
   "cell_type": "markdown",
   "id": "d3a6b073-d4b3-4f59-acd4-bb22350d3f52",
   "metadata": {},
   "source": [
    "### Creación de variables dummy"
   ]
  },
  {
   "cell_type": "code",
   "execution_count": 9,
   "id": "814d1b90-9043-4bd8-a977-90131f913128",
   "metadata": {},
   "outputs": [
    {
     "data": {
      "text/plain": [
       "['Terror', 'Drama', 'Comedia', 'Accion']"
      ]
     },
     "execution_count": 9,
     "metadata": {},
     "output_type": "execute_result"
    }
   ],
   "source": [
    "list(dict.fromkeys(df['Genero']))"
   ]
  },
  {
   "cell_type": "code",
   "execution_count": 10,
   "id": "a38bedc6-6f7d-4020-9ba8-8facf571ce03",
   "metadata": {},
   "outputs": [],
   "source": [
    "df = pd.get_dummies(df, columns = ['Disponibilidad 3D', 'Genero'], drop_first = True)"
   ]
  },
  {
   "cell_type": "code",
   "execution_count": 11,
   "id": "b54b7ab9-7450-4222-8759-19de9708f836",
   "metadata": {},
   "outputs": [
    {
     "data": {
      "text/html": [
       "<div>\n",
       "<style scoped>\n",
       "    .dataframe tbody tr th:only-of-type {\n",
       "        vertical-align: middle;\n",
       "    }\n",
       "\n",
       "    .dataframe tbody tr th {\n",
       "        vertical-align: top;\n",
       "    }\n",
       "\n",
       "    .dataframe thead th {\n",
       "        text-align: right;\n",
       "    }\n",
       "</style>\n",
       "<table border=\"1\" class=\"dataframe\">\n",
       "  <thead>\n",
       "    <tr style=\"text-align: right;\">\n",
       "      <th></th>\n",
       "      <th>Costo de marketing</th>\n",
       "      <th>Costo de produccion</th>\n",
       "      <th>Multiplex cubiertos</th>\n",
       "      <th>Ganancias</th>\n",
       "      <th>Duracion</th>\n",
       "      <th>Rating actor principal</th>\n",
       "      <th>Rating actriz principal</th>\n",
       "      <th>Rating director</th>\n",
       "      <th>Rating productor</th>\n",
       "      <th>Rating criticos</th>\n",
       "      <th>...</th>\n",
       "      <th>Tiempo realizacion</th>\n",
       "      <th>Hashtags Twitter</th>\n",
       "      <th>Promedio edad actores</th>\n",
       "      <th>Numero multiplex</th>\n",
       "      <th>Coleccion</th>\n",
       "      <th>Gana Oscar</th>\n",
       "      <th>Disponibilidad 3D_SI</th>\n",
       "      <th>Genero_Comedia</th>\n",
       "      <th>Genero_Drama</th>\n",
       "      <th>Genero_Terror</th>\n",
       "    </tr>\n",
       "  </thead>\n",
       "  <tbody>\n",
       "    <tr>\n",
       "      <th>0</th>\n",
       "      <td>20.1264</td>\n",
       "      <td>59.62</td>\n",
       "      <td>0.462</td>\n",
       "      <td>36524.125</td>\n",
       "      <td>138.7</td>\n",
       "      <td>7.825</td>\n",
       "      <td>8.095</td>\n",
       "      <td>7.910</td>\n",
       "      <td>7.995</td>\n",
       "      <td>7.94</td>\n",
       "      <td>...</td>\n",
       "      <td>109.60</td>\n",
       "      <td>223.840</td>\n",
       "      <td>23</td>\n",
       "      <td>494</td>\n",
       "      <td>48000</td>\n",
       "      <td>1</td>\n",
       "      <td>1</td>\n",
       "      <td>0</td>\n",
       "      <td>0</td>\n",
       "      <td>1</td>\n",
       "    </tr>\n",
       "    <tr>\n",
       "      <th>1</th>\n",
       "      <td>20.5462</td>\n",
       "      <td>69.14</td>\n",
       "      <td>0.531</td>\n",
       "      <td>35668.655</td>\n",
       "      <td>152.4</td>\n",
       "      <td>7.505</td>\n",
       "      <td>7.650</td>\n",
       "      <td>7.440</td>\n",
       "      <td>7.470</td>\n",
       "      <td>7.44</td>\n",
       "      <td>...</td>\n",
       "      <td>146.64</td>\n",
       "      <td>243.456</td>\n",
       "      <td>42</td>\n",
       "      <td>462</td>\n",
       "      <td>43200</td>\n",
       "      <td>0</td>\n",
       "      <td>0</td>\n",
       "      <td>0</td>\n",
       "      <td>1</td>\n",
       "      <td>0</td>\n",
       "    </tr>\n",
       "    <tr>\n",
       "      <th>2</th>\n",
       "      <td>20.5458</td>\n",
       "      <td>69.14</td>\n",
       "      <td>0.531</td>\n",
       "      <td>39912.675</td>\n",
       "      <td>134.6</td>\n",
       "      <td>7.485</td>\n",
       "      <td>7.570</td>\n",
       "      <td>7.495</td>\n",
       "      <td>7.515</td>\n",
       "      <td>7.44</td>\n",
       "      <td>...</td>\n",
       "      <td>147.88</td>\n",
       "      <td>2022.400</td>\n",
       "      <td>38</td>\n",
       "      <td>458</td>\n",
       "      <td>69400</td>\n",
       "      <td>1</td>\n",
       "      <td>0</td>\n",
       "      <td>1</td>\n",
       "      <td>0</td>\n",
       "      <td>0</td>\n",
       "    </tr>\n",
       "    <tr>\n",
       "      <th>3</th>\n",
       "      <td>20.6474</td>\n",
       "      <td>59.36</td>\n",
       "      <td>0.542</td>\n",
       "      <td>38873.890</td>\n",
       "      <td>119.3</td>\n",
       "      <td>6.895</td>\n",
       "      <td>7.035</td>\n",
       "      <td>6.920</td>\n",
       "      <td>7.020</td>\n",
       "      <td>8.26</td>\n",
       "      <td>...</td>\n",
       "      <td>185.36</td>\n",
       "      <td>225.344</td>\n",
       "      <td>45</td>\n",
       "      <td>472</td>\n",
       "      <td>66800</td>\n",
       "      <td>1</td>\n",
       "      <td>1</td>\n",
       "      <td>0</td>\n",
       "      <td>1</td>\n",
       "      <td>0</td>\n",
       "    </tr>\n",
       "    <tr>\n",
       "      <th>4</th>\n",
       "      <td>21.3810</td>\n",
       "      <td>59.36</td>\n",
       "      <td>0.542</td>\n",
       "      <td>39701.585</td>\n",
       "      <td>127.7</td>\n",
       "      <td>6.920</td>\n",
       "      <td>7.070</td>\n",
       "      <td>6.815</td>\n",
       "      <td>7.070</td>\n",
       "      <td>8.26</td>\n",
       "      <td>...</td>\n",
       "      <td>176.48</td>\n",
       "      <td>225.792</td>\n",
       "      <td>55</td>\n",
       "      <td>395</td>\n",
       "      <td>72400</td>\n",
       "      <td>1</td>\n",
       "      <td>0</td>\n",
       "      <td>0</td>\n",
       "      <td>1</td>\n",
       "      <td>0</td>\n",
       "    </tr>\n",
       "  </tbody>\n",
       "</table>\n",
       "<p>5 rows × 21 columns</p>\n",
       "</div>"
      ],
      "text/plain": [
       "   Costo de marketing  Costo de produccion  Multiplex cubiertos  Ganancias  \\\n",
       "0             20.1264                59.62                0.462  36524.125   \n",
       "1             20.5462                69.14                0.531  35668.655   \n",
       "2             20.5458                69.14                0.531  39912.675   \n",
       "3             20.6474                59.36                0.542  38873.890   \n",
       "4             21.3810                59.36                0.542  39701.585   \n",
       "\n",
       "   Duracion  Rating actor principal  Rating actriz principal  Rating director  \\\n",
       "0     138.7                   7.825                    8.095            7.910   \n",
       "1     152.4                   7.505                    7.650            7.440   \n",
       "2     134.6                   7.485                    7.570            7.495   \n",
       "3     119.3                   6.895                    7.035            6.920   \n",
       "4     127.7                   6.920                    7.070            6.815   \n",
       "\n",
       "   Rating productor  Rating criticos  ...  Tiempo realizacion  \\\n",
       "0             7.995             7.94  ...              109.60   \n",
       "1             7.470             7.44  ...              146.64   \n",
       "2             7.515             7.44  ...              147.88   \n",
       "3             7.020             8.26  ...              185.36   \n",
       "4             7.070             8.26  ...              176.48   \n",
       "\n",
       "   Hashtags Twitter  Promedio edad actores  Numero multiplex  Coleccion  \\\n",
       "0           223.840                     23               494      48000   \n",
       "1           243.456                     42               462      43200   \n",
       "2          2022.400                     38               458      69400   \n",
       "3           225.344                     45               472      66800   \n",
       "4           225.792                     55               395      72400   \n",
       "\n",
       "   Gana Oscar  Disponibilidad 3D_SI  Genero_Comedia  Genero_Drama  \\\n",
       "0           1                     1               0             0   \n",
       "1           0                     0               0             1   \n",
       "2           1                     0               1             0   \n",
       "3           1                     1               0             1   \n",
       "4           1                     0               0             1   \n",
       "\n",
       "   Genero_Terror  \n",
       "0              1  \n",
       "1              0  \n",
       "2              0  \n",
       "3              0  \n",
       "4              0  \n",
       "\n",
       "[5 rows x 21 columns]"
      ]
     },
     "execution_count": 11,
     "metadata": {},
     "output_type": "execute_result"
    }
   ],
   "source": [
    "df.head()"
   ]
  },
  {
   "cell_type": "markdown",
   "id": "dd04ee05-2712-4aa5-90e7-7afd58cc8ae6",
   "metadata": {},
   "source": [
    "### División de la variable predicha y el vector de características"
   ]
  },
  {
   "cell_type": "code",
   "execution_count": 12,
   "id": "5bc8716c-2bcc-4e09-91c4-2f6aa1bc4139",
   "metadata": {},
   "outputs": [],
   "source": [
    "X = df.loc[:, df.columns!= 'Gana Oscar']"
   ]
  },
  {
   "cell_type": "code",
   "execution_count": 13,
   "id": "0aa33916-5c63-4e44-9f33-06426c7b409b",
   "metadata": {},
   "outputs": [
    {
     "data": {
      "text/html": [
       "<div>\n",
       "<style scoped>\n",
       "    .dataframe tbody tr th:only-of-type {\n",
       "        vertical-align: middle;\n",
       "    }\n",
       "\n",
       "    .dataframe tbody tr th {\n",
       "        vertical-align: top;\n",
       "    }\n",
       "\n",
       "    .dataframe thead th {\n",
       "        text-align: right;\n",
       "    }\n",
       "</style>\n",
       "<table border=\"1\" class=\"dataframe\">\n",
       "  <thead>\n",
       "    <tr style=\"text-align: right;\">\n",
       "      <th></th>\n",
       "      <th>Costo de marketing</th>\n",
       "      <th>Costo de produccion</th>\n",
       "      <th>Multiplex cubiertos</th>\n",
       "      <th>Ganancias</th>\n",
       "      <th>Duracion</th>\n",
       "      <th>Rating actor principal</th>\n",
       "      <th>Rating actriz principal</th>\n",
       "      <th>Rating director</th>\n",
       "      <th>Rating productor</th>\n",
       "      <th>Rating criticos</th>\n",
       "      <th>Visualizaciones trailers</th>\n",
       "      <th>Tiempo realizacion</th>\n",
       "      <th>Hashtags Twitter</th>\n",
       "      <th>Promedio edad actores</th>\n",
       "      <th>Numero multiplex</th>\n",
       "      <th>Coleccion</th>\n",
       "      <th>Disponibilidad 3D_SI</th>\n",
       "      <th>Genero_Comedia</th>\n",
       "      <th>Genero_Drama</th>\n",
       "      <th>Genero_Terror</th>\n",
       "    </tr>\n",
       "  </thead>\n",
       "  <tbody>\n",
       "    <tr>\n",
       "      <th>0</th>\n",
       "      <td>20.1264</td>\n",
       "      <td>59.62</td>\n",
       "      <td>0.462</td>\n",
       "      <td>36524.125</td>\n",
       "      <td>138.7</td>\n",
       "      <td>7.825</td>\n",
       "      <td>8.095</td>\n",
       "      <td>7.910</td>\n",
       "      <td>7.995</td>\n",
       "      <td>7.94</td>\n",
       "      <td>527367</td>\n",
       "      <td>109.60</td>\n",
       "      <td>223.840</td>\n",
       "      <td>23</td>\n",
       "      <td>494</td>\n",
       "      <td>48000</td>\n",
       "      <td>1</td>\n",
       "      <td>0</td>\n",
       "      <td>0</td>\n",
       "      <td>1</td>\n",
       "    </tr>\n",
       "    <tr>\n",
       "      <th>1</th>\n",
       "      <td>20.5462</td>\n",
       "      <td>69.14</td>\n",
       "      <td>0.531</td>\n",
       "      <td>35668.655</td>\n",
       "      <td>152.4</td>\n",
       "      <td>7.505</td>\n",
       "      <td>7.650</td>\n",
       "      <td>7.440</td>\n",
       "      <td>7.470</td>\n",
       "      <td>7.44</td>\n",
       "      <td>494055</td>\n",
       "      <td>146.64</td>\n",
       "      <td>243.456</td>\n",
       "      <td>42</td>\n",
       "      <td>462</td>\n",
       "      <td>43200</td>\n",
       "      <td>0</td>\n",
       "      <td>0</td>\n",
       "      <td>1</td>\n",
       "      <td>0</td>\n",
       "    </tr>\n",
       "    <tr>\n",
       "      <th>2</th>\n",
       "      <td>20.5458</td>\n",
       "      <td>69.14</td>\n",
       "      <td>0.531</td>\n",
       "      <td>39912.675</td>\n",
       "      <td>134.6</td>\n",
       "      <td>7.485</td>\n",
       "      <td>7.570</td>\n",
       "      <td>7.495</td>\n",
       "      <td>7.515</td>\n",
       "      <td>7.44</td>\n",
       "      <td>547051</td>\n",
       "      <td>147.88</td>\n",
       "      <td>2022.400</td>\n",
       "      <td>38</td>\n",
       "      <td>458</td>\n",
       "      <td>69400</td>\n",
       "      <td>0</td>\n",
       "      <td>1</td>\n",
       "      <td>0</td>\n",
       "      <td>0</td>\n",
       "    </tr>\n",
       "    <tr>\n",
       "      <th>3</th>\n",
       "      <td>20.6474</td>\n",
       "      <td>59.36</td>\n",
       "      <td>0.542</td>\n",
       "      <td>38873.890</td>\n",
       "      <td>119.3</td>\n",
       "      <td>6.895</td>\n",
       "      <td>7.035</td>\n",
       "      <td>6.920</td>\n",
       "      <td>7.020</td>\n",
       "      <td>8.26</td>\n",
       "      <td>516279</td>\n",
       "      <td>185.36</td>\n",
       "      <td>225.344</td>\n",
       "      <td>45</td>\n",
       "      <td>472</td>\n",
       "      <td>66800</td>\n",
       "      <td>1</td>\n",
       "      <td>0</td>\n",
       "      <td>1</td>\n",
       "      <td>0</td>\n",
       "    </tr>\n",
       "    <tr>\n",
       "      <th>4</th>\n",
       "      <td>21.3810</td>\n",
       "      <td>59.36</td>\n",
       "      <td>0.542</td>\n",
       "      <td>39701.585</td>\n",
       "      <td>127.7</td>\n",
       "      <td>6.920</td>\n",
       "      <td>7.070</td>\n",
       "      <td>6.815</td>\n",
       "      <td>7.070</td>\n",
       "      <td>8.26</td>\n",
       "      <td>531448</td>\n",
       "      <td>176.48</td>\n",
       "      <td>225.792</td>\n",
       "      <td>55</td>\n",
       "      <td>395</td>\n",
       "      <td>72400</td>\n",
       "      <td>0</td>\n",
       "      <td>0</td>\n",
       "      <td>1</td>\n",
       "      <td>0</td>\n",
       "    </tr>\n",
       "  </tbody>\n",
       "</table>\n",
       "</div>"
      ],
      "text/plain": [
       "   Costo de marketing  Costo de produccion  Multiplex cubiertos  Ganancias  \\\n",
       "0             20.1264                59.62                0.462  36524.125   \n",
       "1             20.5462                69.14                0.531  35668.655   \n",
       "2             20.5458                69.14                0.531  39912.675   \n",
       "3             20.6474                59.36                0.542  38873.890   \n",
       "4             21.3810                59.36                0.542  39701.585   \n",
       "\n",
       "   Duracion  Rating actor principal  Rating actriz principal  Rating director  \\\n",
       "0     138.7                   7.825                    8.095            7.910   \n",
       "1     152.4                   7.505                    7.650            7.440   \n",
       "2     134.6                   7.485                    7.570            7.495   \n",
       "3     119.3                   6.895                    7.035            6.920   \n",
       "4     127.7                   6.920                    7.070            6.815   \n",
       "\n",
       "   Rating productor  Rating criticos  Visualizaciones trailers  \\\n",
       "0             7.995             7.94                    527367   \n",
       "1             7.470             7.44                    494055   \n",
       "2             7.515             7.44                    547051   \n",
       "3             7.020             8.26                    516279   \n",
       "4             7.070             8.26                    531448   \n",
       "\n",
       "   Tiempo realizacion  Hashtags Twitter  Promedio edad actores  \\\n",
       "0              109.60           223.840                     23   \n",
       "1              146.64           243.456                     42   \n",
       "2              147.88          2022.400                     38   \n",
       "3              185.36           225.344                     45   \n",
       "4              176.48           225.792                     55   \n",
       "\n",
       "   Numero multiplex  Coleccion  Disponibilidad 3D_SI  Genero_Comedia  \\\n",
       "0               494      48000                     1               0   \n",
       "1               462      43200                     0               0   \n",
       "2               458      69400                     0               1   \n",
       "3               472      66800                     1               0   \n",
       "4               395      72400                     0               0   \n",
       "\n",
       "   Genero_Drama  Genero_Terror  \n",
       "0             0              1  \n",
       "1             1              0  \n",
       "2             0              0  \n",
       "3             1              0  \n",
       "4             1              0  "
      ]
     },
     "execution_count": 13,
     "metadata": {},
     "output_type": "execute_result"
    }
   ],
   "source": [
    "X.head()"
   ]
  },
  {
   "cell_type": "code",
   "execution_count": 14,
   "id": "5d03ccc6-704e-4e90-bfb6-61426f7c980a",
   "metadata": {},
   "outputs": [
    {
     "data": {
      "text/plain": [
       "(506, 20)"
      ]
     },
     "execution_count": 14,
     "metadata": {},
     "output_type": "execute_result"
    }
   ],
   "source": [
    "X.shape"
   ]
  },
  {
   "cell_type": "code",
   "execution_count": 15,
   "id": "809ee81c-8ba9-4c49-aeb6-0ad9c0fe9032",
   "metadata": {},
   "outputs": [
    {
     "data": {
      "text/plain": [
       "pandas.core.series.Series"
      ]
     },
     "execution_count": 15,
     "metadata": {},
     "output_type": "execute_result"
    }
   ],
   "source": [
    "y = df['Gana Oscar']\n",
    "type(y)"
   ]
  },
  {
   "cell_type": "code",
   "execution_count": 16,
   "id": "0d26ff4d-0218-4bb1-9169-139b3fc52aeb",
   "metadata": {},
   "outputs": [
    {
     "data": {
      "text/plain": [
       "0    1\n",
       "1    0\n",
       "2    1\n",
       "3    1\n",
       "4    1\n",
       "Name: Gana Oscar, dtype: int64"
      ]
     },
     "execution_count": 16,
     "metadata": {},
     "output_type": "execute_result"
    }
   ],
   "source": [
    "y.head()"
   ]
  },
  {
   "cell_type": "code",
   "execution_count": 17,
   "id": "afc1b179-aa21-45c4-a05f-ced9714aa6d5",
   "metadata": {},
   "outputs": [
    {
     "data": {
      "text/plain": [
       "(506,)"
      ]
     },
     "execution_count": 17,
     "metadata": {},
     "output_type": "execute_result"
    }
   ],
   "source": [
    "y.shape"
   ]
  },
  {
   "cell_type": "markdown",
   "id": "094c34ab-bfc2-4e84-b9ec-6f945b5f6497",
   "metadata": {},
   "source": [
    "### Creación del conjunto de entrenamiento y validación"
   ]
  },
  {
   "cell_type": "code",
   "execution_count": 18,
   "id": "ed922ebe-b583-4328-aade-f30febf43c72",
   "metadata": {},
   "outputs": [],
   "source": [
    "from sklearn.model_selection import train_test_split"
   ]
  },
  {
   "cell_type": "code",
   "execution_count": 19,
   "id": "6c4a91d1-49c5-43f4-ac2a-fa3d4f9c5b1c",
   "metadata": {},
   "outputs": [],
   "source": [
    "X_train, X_test, y_train, y_test = train_test_split(X, y, test_size = 0.2, random_state = 0)"
   ]
  },
  {
   "cell_type": "code",
   "execution_count": 20,
   "id": "3351fa12-af06-4d03-8a57-2ce7aa1c85c0",
   "metadata": {},
   "outputs": [
    {
     "data": {
      "text/html": [
       "<div>\n",
       "<style scoped>\n",
       "    .dataframe tbody tr th:only-of-type {\n",
       "        vertical-align: middle;\n",
       "    }\n",
       "\n",
       "    .dataframe tbody tr th {\n",
       "        vertical-align: top;\n",
       "    }\n",
       "\n",
       "    .dataframe thead th {\n",
       "        text-align: right;\n",
       "    }\n",
       "</style>\n",
       "<table border=\"1\" class=\"dataframe\">\n",
       "  <thead>\n",
       "    <tr style=\"text-align: right;\">\n",
       "      <th></th>\n",
       "      <th>Costo de marketing</th>\n",
       "      <th>Costo de produccion</th>\n",
       "      <th>Multiplex cubiertos</th>\n",
       "      <th>Ganancias</th>\n",
       "      <th>Duracion</th>\n",
       "      <th>Rating actor principal</th>\n",
       "      <th>Rating actriz principal</th>\n",
       "      <th>Rating director</th>\n",
       "      <th>Rating productor</th>\n",
       "      <th>Rating criticos</th>\n",
       "      <th>Visualizaciones trailers</th>\n",
       "      <th>Tiempo realizacion</th>\n",
       "      <th>Hashtags Twitter</th>\n",
       "      <th>Promedio edad actores</th>\n",
       "      <th>Numero multiplex</th>\n",
       "      <th>Coleccion</th>\n",
       "      <th>Disponibilidad 3D_SI</th>\n",
       "      <th>Genero_Comedia</th>\n",
       "      <th>Genero_Drama</th>\n",
       "      <th>Genero_Terror</th>\n",
       "    </tr>\n",
       "  </thead>\n",
       "  <tbody>\n",
       "    <tr>\n",
       "      <th>220</th>\n",
       "      <td>27.1618</td>\n",
       "      <td>67.40</td>\n",
       "      <td>0.493</td>\n",
       "      <td>38612.805</td>\n",
       "      <td>162.0</td>\n",
       "      <td>8.485</td>\n",
       "      <td>8.640</td>\n",
       "      <td>8.485</td>\n",
       "      <td>8.670</td>\n",
       "      <td>8.52</td>\n",
       "      <td>480270</td>\n",
       "      <td>174.68</td>\n",
       "      <td>224.272</td>\n",
       "      <td>23</td>\n",
       "      <td>536</td>\n",
       "      <td>53400</td>\n",
       "      <td>0</td>\n",
       "      <td>0</td>\n",
       "      <td>0</td>\n",
       "      <td>1</td>\n",
       "    </tr>\n",
       "    <tr>\n",
       "      <th>71</th>\n",
       "      <td>23.1752</td>\n",
       "      <td>76.62</td>\n",
       "      <td>0.587</td>\n",
       "      <td>33113.355</td>\n",
       "      <td>91.0</td>\n",
       "      <td>7.280</td>\n",
       "      <td>7.400</td>\n",
       "      <td>7.290</td>\n",
       "      <td>7.455</td>\n",
       "      <td>8.16</td>\n",
       "      <td>491978</td>\n",
       "      <td>200.68</td>\n",
       "      <td>263.472</td>\n",
       "      <td>46</td>\n",
       "      <td>400</td>\n",
       "      <td>43400</td>\n",
       "      <td>0</td>\n",
       "      <td>0</td>\n",
       "      <td>0</td>\n",
       "      <td>0</td>\n",
       "    </tr>\n",
       "    <tr>\n",
       "      <th>240</th>\n",
       "      <td>22.2658</td>\n",
       "      <td>64.86</td>\n",
       "      <td>0.572</td>\n",
       "      <td>38312.835</td>\n",
       "      <td>127.8</td>\n",
       "      <td>6.755</td>\n",
       "      <td>6.935</td>\n",
       "      <td>6.800</td>\n",
       "      <td>6.840</td>\n",
       "      <td>8.68</td>\n",
       "      <td>470107</td>\n",
       "      <td>204.80</td>\n",
       "      <td>224.320</td>\n",
       "      <td>24</td>\n",
       "      <td>387</td>\n",
       "      <td>54000</td>\n",
       "      <td>1</td>\n",
       "      <td>1</td>\n",
       "      <td>0</td>\n",
       "      <td>0</td>\n",
       "    </tr>\n",
       "    <tr>\n",
       "      <th>6</th>\n",
       "      <td>21.7658</td>\n",
       "      <td>70.74</td>\n",
       "      <td>0.476</td>\n",
       "      <td>33396.660</td>\n",
       "      <td>140.1</td>\n",
       "      <td>7.065</td>\n",
       "      <td>7.265</td>\n",
       "      <td>7.150</td>\n",
       "      <td>7.400</td>\n",
       "      <td>8.96</td>\n",
       "      <td>459241</td>\n",
       "      <td>139.16</td>\n",
       "      <td>243.664</td>\n",
       "      <td>41</td>\n",
       "      <td>522</td>\n",
       "      <td>45800</td>\n",
       "      <td>1</td>\n",
       "      <td>0</td>\n",
       "      <td>0</td>\n",
       "      <td>1</td>\n",
       "    </tr>\n",
       "    <tr>\n",
       "      <th>417</th>\n",
       "      <td>538.8120</td>\n",
       "      <td>91.20</td>\n",
       "      <td>0.321</td>\n",
       "      <td>29463.720</td>\n",
       "      <td>162.6</td>\n",
       "      <td>9.135</td>\n",
       "      <td>9.305</td>\n",
       "      <td>9.095</td>\n",
       "      <td>9.165</td>\n",
       "      <td>6.96</td>\n",
       "      <td>302776</td>\n",
       "      <td>172.16</td>\n",
       "      <td>301.664</td>\n",
       "      <td>60</td>\n",
       "      <td>589</td>\n",
       "      <td>20800</td>\n",
       "      <td>1</td>\n",
       "      <td>0</td>\n",
       "      <td>0</td>\n",
       "      <td>0</td>\n",
       "    </tr>\n",
       "  </tbody>\n",
       "</table>\n",
       "</div>"
      ],
      "text/plain": [
       "     Costo de marketing  Costo de produccion  Multiplex cubiertos  Ganancias  \\\n",
       "220             27.1618                67.40                0.493  38612.805   \n",
       "71              23.1752                76.62                0.587  33113.355   \n",
       "240             22.2658                64.86                0.572  38312.835   \n",
       "6               21.7658                70.74                0.476  33396.660   \n",
       "417            538.8120                91.20                0.321  29463.720   \n",
       "\n",
       "     Duracion  Rating actor principal  Rating actriz principal  \\\n",
       "220     162.0                   8.485                    8.640   \n",
       "71       91.0                   7.280                    7.400   \n",
       "240     127.8                   6.755                    6.935   \n",
       "6       140.1                   7.065                    7.265   \n",
       "417     162.6                   9.135                    9.305   \n",
       "\n",
       "     Rating director  Rating productor  Rating criticos  \\\n",
       "220            8.485             8.670             8.52   \n",
       "71             7.290             7.455             8.16   \n",
       "240            6.800             6.840             8.68   \n",
       "6              7.150             7.400             8.96   \n",
       "417            9.095             9.165             6.96   \n",
       "\n",
       "     Visualizaciones trailers  Tiempo realizacion  Hashtags Twitter  \\\n",
       "220                    480270              174.68           224.272   \n",
       "71                     491978              200.68           263.472   \n",
       "240                    470107              204.80           224.320   \n",
       "6                      459241              139.16           243.664   \n",
       "417                    302776              172.16           301.664   \n",
       "\n",
       "     Promedio edad actores  Numero multiplex  Coleccion  Disponibilidad 3D_SI  \\\n",
       "220                     23               536      53400                     0   \n",
       "71                      46               400      43400                     0   \n",
       "240                     24               387      54000                     1   \n",
       "6                       41               522      45800                     1   \n",
       "417                     60               589      20800                     1   \n",
       "\n",
       "     Genero_Comedia  Genero_Drama  Genero_Terror  \n",
       "220               0             0              1  \n",
       "71                0             0              0  \n",
       "240               1             0              0  \n",
       "6                 0             0              1  \n",
       "417               0             0              0  "
      ]
     },
     "execution_count": 20,
     "metadata": {},
     "output_type": "execute_result"
    }
   ],
   "source": [
    "X_train.head()"
   ]
  },
  {
   "cell_type": "code",
   "execution_count": 21,
   "id": "d513ca4c-8b23-4664-9b6e-56d3c743adbf",
   "metadata": {},
   "outputs": [
    {
     "data": {
      "text/plain": [
       "(404, 20)"
      ]
     },
     "execution_count": 21,
     "metadata": {},
     "output_type": "execute_result"
    }
   ],
   "source": [
    "X_train.shape"
   ]
  },
  {
   "cell_type": "code",
   "execution_count": 22,
   "id": "8f484ddf-0151-4680-9441-4b5017e02cbc",
   "metadata": {},
   "outputs": [
    {
     "data": {
      "text/plain": [
       "(102, 20)"
      ]
     },
     "execution_count": 22,
     "metadata": {},
     "output_type": "execute_result"
    }
   ],
   "source": [
    "X_test.shape"
   ]
  },
  {
   "cell_type": "markdown",
   "id": "6890cb38-e0c7-48d7-b29e-eb983037a9fb",
   "metadata": {},
   "source": [
    "### Entrenamiento del árbol de regresión"
   ]
  },
  {
   "cell_type": "code",
   "execution_count": 23,
   "id": "7c304e3b-64a1-44fd-ac49-3cda9153704c",
   "metadata": {},
   "outputs": [],
   "source": [
    "from sklearn import tree"
   ]
  },
  {
   "cell_type": "code",
   "execution_count": 24,
   "id": "1c1a7ad4-b84a-4d2a-aa74-ed964986366b",
   "metadata": {},
   "outputs": [],
   "source": [
    "arbolclas = tree.DecisionTreeClassifier(max_depth = 3)"
   ]
  },
  {
   "cell_type": "code",
   "execution_count": 25,
   "id": "48fa4dcc-fd68-463a-96f8-ef9a959444f9",
   "metadata": {},
   "outputs": [
    {
     "data": {
      "text/plain": [
       "DecisionTreeClassifier(max_depth=3)"
      ]
     },
     "execution_count": 25,
     "metadata": {},
     "output_type": "execute_result"
    }
   ],
   "source": [
    "arbolclas.fit(X_train, y_train)"
   ]
  },
  {
   "cell_type": "markdown",
   "id": "f37df067-fb69-4338-9151-47b558a77487",
   "metadata": {},
   "source": [
    "### Predicción en el conjunto de entrenamiento y validación"
   ]
  },
  {
   "cell_type": "code",
   "execution_count": 26,
   "id": "60c4458b-009b-48d8-958c-d00c347f01dd",
   "metadata": {
    "tags": []
   },
   "outputs": [],
   "source": [
    "y_train_pred = arbolclas.predict(X_train)\n",
    "y_test_pred = arbolclas.predict(X_test)"
   ]
  },
  {
   "cell_type": "code",
   "execution_count": 27,
   "id": "547cf157-ceef-46ea-ba49-6caaf522a012",
   "metadata": {
    "tags": []
   },
   "outputs": [
    {
     "data": {
      "text/plain": [
       "array([0, 1, 0, 1, 0, 0, 0, 0, 1, 0, 0, 0, 0, 1, 1, 0, 0, 1, 0, 0, 0, 0,\n",
       "       0, 0, 0, 1, 0, 0, 1, 0, 0, 0, 0, 0, 0, 0, 0, 1, 0, 0, 0, 0, 0, 1,\n",
       "       0, 0, 0, 0, 1, 0, 0, 0, 0, 1, 0, 0, 0, 1, 0, 0, 1, 0, 1, 0, 0, 0,\n",
       "       0, 0, 0, 0, 0, 0, 0, 0, 0, 1, 1, 0, 0, 0, 0, 0, 0, 1, 1, 0, 0, 0,\n",
       "       0, 0, 0, 0, 1, 0, 0, 0, 1, 1, 0, 0, 0, 0], dtype=int64)"
      ]
     },
     "execution_count": 27,
     "metadata": {},
     "output_type": "execute_result"
    }
   ],
   "source": [
    "y_test_pred"
   ]
  },
  {
   "cell_type": "markdown",
   "id": "dd625be9-85ea-4bba-82f4-ba2c805bcf31",
   "metadata": {},
   "source": [
    "### Métricas del modelo"
   ]
  },
  {
   "cell_type": "code",
   "execution_count": 28,
   "id": "2df7c13c-5ef8-489c-889b-e50e84837205",
   "metadata": {},
   "outputs": [],
   "source": [
    "from sklearn.metrics import confusion_matrix, accuracy_score, roc_auc_score\n",
    "from mlxtend.plotting import plot_confusion_matrix"
   ]
  },
  {
   "cell_type": "code",
   "execution_count": 29,
   "id": "c9db784c-e6cd-407c-ad09-ac1df15c20c6",
   "metadata": {},
   "outputs": [
    {
     "data": {
      "text/plain": [
       "array([[39,  5],\n",
       "       [41, 17]], dtype=int64)"
      ]
     },
     "execution_count": 29,
     "metadata": {},
     "output_type": "execute_result"
    }
   ],
   "source": [
    "confusion_matrix(y_test, y_test_pred)"
   ]
  },
  {
   "cell_type": "code",
   "execution_count": 30,
   "id": "5e2034e9-5baf-4dd3-b5ab-7117aa4e245c",
   "metadata": {},
   "outputs": [
    {
     "data": {
      "image/png": "[encoded data removed]",
      "text/plain": [
       "<Figure size 432x432 with 1 Axes>"
      ]
     },
     "metadata": {
      "needs_background": "light"
     },
     "output_type": "display_data"
    }
   ],
   "source": [
    "plot_confusion_matrix(conf_mat = confusion_matrix(y_train, y_train_pred), figsize=(6,6), show_normed=False)\n",
    "plt.tight_layout(pad = 10)"
   ]
  },
  {
   "cell_type": "code",
   "execution_count": 31,
   "id": "5b23b68a-67e6-40eb-86b7-79a0e28a5205",
   "metadata": {},
   "outputs": [
    {
     "data": {
      "image/png": "[encoded data removed]",
      "text/plain": [
       "<Figure size 432x432 with 1 Axes>"
      ]
     },
     "metadata": {
      "needs_background": "light"
     },
     "output_type": "display_data"
    }
   ],
   "source": [
    "plot_confusion_matrix(conf_mat = confusion_matrix(y_test, y_test_pred), figsize=(6,6), show_normed=False)\n",
    "plt.tight_layout(pad = 10)"
   ]
  },
  {
   "cell_type": "code",
   "execution_count": 32,
   "id": "ec07cbc6-320a-48e9-b134-5c4d0edca22d",
   "metadata": {},
   "outputs": [
    {
     "data": {
      "text/plain": [
       "0.5490196078431373"
      ]
     },
     "execution_count": 32,
     "metadata": {},
     "output_type": "execute_result"
    }
   ],
   "source": [
    "accuracy_score(y_test, y_test_pred)"
   ]
  },
  {
   "cell_type": "code",
   "execution_count": 33,
   "id": "7c630a79-8e93-4b2c-9f5d-e70c80bd6eac",
   "metadata": {},
   "outputs": [
    {
     "data": {
      "text/plain": [
       "0.5897335423197492"
      ]
     },
     "execution_count": 33,
     "metadata": {},
     "output_type": "execute_result"
    }
   ],
   "source": [
    "roc_auc_score(y_test, y_test_pred)"
   ]
  },
  {
   "cell_type": "markdown",
   "id": "bbd94098-66f8-4c14-96be-04fbcbbbd8b8",
   "metadata": {},
   "source": [
    "### Gráficar árbol de regresión"
   ]
  },
  {
   "cell_type": "code",
   "execution_count": 34,
   "id": "770b4859-0211-49aa-91f1-0d6a8aa35e44",
   "metadata": {},
   "outputs": [],
   "source": [
    "datos_graf = tree.export_graphviz(arbolclas, out_file = None, feature_names = X_train.columns,\n",
    "                                  filled = True, class_names = True)"
   ]
  },
  {
   "cell_type": "code",
   "execution_count": 35,
   "id": "f8c09c19-0719-416d-9151-05cbd4e6b8d8",
   "metadata": {
    "tags": []
   },
   "outputs": [],
   "source": [
    "from IPython.display import Image"
   ]
  },
  {
   "cell_type": "code",
   "execution_count": 36,
   "id": "eb05b00c-782c-40ad-9a52-d5f2639864a9",
   "metadata": {},
   "outputs": [],
   "source": [
    "import pydotplus"
   ]
  },
  {
   "cell_type": "code",
   "execution_count": 37,
   "id": "d3e364da-db4f-4831-8a67-7aa8a393392f",
   "metadata": {},
   "outputs": [
    {
     "data": {
      "image/png": "[encoded data removed]",
      "text/plain": [
       "<IPython.core.display.Image object>"
      ]
     },
     "execution_count": 37,
     "metadata": {},
     "output_type": "execute_result"
    }
   ],
   "source": [
    "graph = pydotplus.graph_from_dot_data(datos_graf)\n",
    "Image(graph.create_png())\n",
    "#graph.write_png('arboloriginalclass.png') # Si se desea guardar el árbol"
   ]
  },
  {
   "cell_type": "markdown",
   "id": "0eb84de2-1e49-4495-9840-e73e8c976174",
   "metadata": {},
   "source": [
    "### Controlando el crecimiento del árbol"
   ]
  },
  {
   "cell_type": "markdown",
   "id": "8720954c-4f79-41e9-9f4a-a12d7a72928a",
   "metadata": {},
   "source": [
    "#### Por el máximo nivel de crecimiento del árbol"
   ]
  },
  {
   "cell_type": "code",
   "execution_count": 38,
   "id": "79e83fca-715b-4d50-ba1f-ddb7bbe22371",
   "metadata": {},
   "outputs": [
    {
     "data": {
      "image/png": "[encoded data removed]",
      "text/plain": [
       "<IPython.core.display.Image object>"
      ]
     },
     "execution_count": 38,
     "metadata": {},
     "output_type": "execute_result"
    }
   ],
   "source": [
    "arbolclas1 = tree.DecisionTreeClassifier(max_depth = 4, min_samples_leaf = 20, min_samples_split = 15)\n",
    "arbolclas1.fit(X_train, y_train)\n",
    "datos_graf = tree.export_graphviz(arbolclas1, out_file = None, feature_names = X_train.columns,\n",
    "                                  filled = True, class_names = ['No Gana', 'Gana'])\n",
    "graph1 = pydotplus.graph_from_dot_data(datos_graf)\n",
    "Image(graph1.create_png())"
   ]
  },
  {
   "cell_type": "markdown",
   "id": "6b91c90f-0d5f-4bf9-9442-cbd569845ed5",
   "metadata": {},
   "source": [
    "# Métodos de ensemble\n",
    "Los métodos de Bagging, Random Forests y Boosting permiten obtener una mejora sustancial en el rendimiento predictivo de los modelos basados en árboles, son modelos del tipo caja negra que son difíciles de interpretar o imposibles de interpretar en cierto nivel. Se conocen estos como métodos de ensemble o métodos combinados. Son aplicables a otros métodos de aprendizaje estadísticos para labores de regresión o clasificación.\n",
    "\n",
    "### Baggin\n",
    "El método de bagging o bootstrap aggregation es un procedimiento utilizado para reducir la varianza de un método de aprendizaje estadístico, usado muy frecuentemente con árboles de decisión.\n",
    "\n",
    "Para árboles de regresión la aplicación del bagging consiste en crear B árboles de regresión usando los B sets de entrenamiento generados por bootstrapping, promediando finalmente las predicciones resultantes. Estos árboles pueden crecer bastante ya que apenas se aplican restricciones, además de que no son podados. De esta manera cada árbol individual tiene alta varianza y poco bias, pero promediando los B árboles se contrarresta la varianza.\n",
    "\n",
    "Para árboles de clasificación dada una observación de validación, podemos obtener la clase predicha por cada uno de los B árboles, y escoger como predicción final para dicha observación la clase más común de entre las B predicciones (predicción de cada árbol).\n",
    "\n",
    "![Concepto de bootstrap](bootrap_concept.png)\n",
    "\n",
    "https://scikit-learn.org/stable/modules/generated/sklearn.ensemble.BaggingClassifier.html"
   ]
  },
  {
   "cell_type": "code",
   "execution_count": 39,
   "id": "50042b68-66dd-41fb-9136-42ec6523fd6f",
   "metadata": {},
   "outputs": [],
   "source": [
    "from sklearn.ensemble import BaggingClassifier"
   ]
  },
  {
   "cell_type": "code",
   "execution_count": 40,
   "id": "e6425a29-49b3-4efa-b2de-66bf9ecf32e1",
   "metadata": {},
   "outputs": [],
   "source": [
    "clas_bag = BaggingClassifier(base_estimator = arbolclas, n_estimators = 1000, bootstrap = True, n_jobs = -1, random_state = 123)"
   ]
  },
  {
   "cell_type": "code",
   "execution_count": 41,
   "id": "5db9ce84-3510-47ef-b094-68beb9af372c",
   "metadata": {},
   "outputs": [
    {
     "data": {
      "text/plain": [
       "BaggingClassifier(base_estimator=DecisionTreeClassifier(max_depth=3),\n",
       "                  n_estimators=1000, n_jobs=-1, random_state=123)"
      ]
     },
     "execution_count": 41,
     "metadata": {},
     "output_type": "execute_result"
    }
   ],
   "source": [
    "clas_bag.fit(X_train, y_train)"
   ]
  },
  {
   "cell_type": "code",
   "execution_count": 42,
   "id": "2a257000-19ed-48db-bbe9-1963802ac704",
   "metadata": {},
   "outputs": [
    {
     "data": {
      "text/plain": [
       "array([[35,  9],\n",
       "       [31, 27]], dtype=int64)"
      ]
     },
     "execution_count": 42,
     "metadata": {},
     "output_type": "execute_result"
    }
   ],
   "source": [
    "confusion_matrix(y_test, clas_bag.predict(X_test))"
   ]
  },
  {
   "cell_type": "code",
   "execution_count": 43,
   "id": "d37d2b74-8384-401b-bb16-43c41e8e22a6",
   "metadata": {},
   "outputs": [
    {
     "data": {
      "text/plain": [
       "0.6078431372549019"
      ]
     },
     "execution_count": 43,
     "metadata": {},
     "output_type": "execute_result"
    }
   ],
   "source": [
    "accuracy_score(y_test, clas_bag.predict(X_test))"
   ]
  },
  {
   "cell_type": "markdown",
   "id": "c2aa4b41-2ef2-4326-a804-15b5f09e3122",
   "metadata": {},
   "source": [
    "### Random Forest\n",
    "Todos los árboles generados por Bagging usarán un predictor muy influyente en la primera ramificación, por lo que serán similares unos a otros, y las predicciones entre ellos estarán altamente correlacionadas, por lo tanto, la aplicación de Bagging promediando valores correlacionados no consigue una reducción sustancial de la varianza con respecto a un solo árbol.\n",
    "\n",
    "El método de Random Forests proporciona una mejora a los árboles combinados por Bagging en cuanto a que los decorrelaciona, teniendo en cuenta solo un subgrupo de predictores en cada división. Se construyen un número de árboles de decisión a partir de pseudo-muestras generadas por bootstrapping. Esta vez, se escogen de entre todos los $p$ predictores una muestra aleatoria de m predictores como candidatos antes de cada división, generalmente $m=\\sqrt{p}$ (si m=p, bagging y random forests darían resultados equivalentes).\n",
    "\n",
    "https://scikit-learn.org/stable/modules/generated/sklearn.ensemble.RandomForestClassifier.html?highlight=randomforestclassifier#sklearn.ensemble.RandomForestClassifier"
   ]
  },
  {
   "cell_type": "code",
   "execution_count": 44,
   "id": "91b5c13c-b3ef-436b-ab98-635f1b046060",
   "metadata": {},
   "outputs": [],
   "source": [
    "from sklearn.ensemble import RandomForestClassifier"
   ]
  },
  {
   "cell_type": "code",
   "execution_count": 45,
   "id": "f980a938-e522-4adb-86ae-41dfc0a876e9",
   "metadata": {},
   "outputs": [],
   "source": [
    "clas_rf = RandomForestClassifier(n_estimators = 1000, n_jobs = -1, random_state = 123)"
   ]
  },
  {
   "cell_type": "code",
   "execution_count": 46,
   "id": "71688856-d075-4cb2-94d2-94bcb1ae8ae4",
   "metadata": {},
   "outputs": [
    {
     "data": {
      "text/plain": [
       "RandomForestClassifier(n_estimators=1000, n_jobs=-1, random_state=123)"
      ]
     },
     "execution_count": 46,
     "metadata": {},
     "output_type": "execute_result"
    }
   ],
   "source": [
    "clas_rf.fit(X_train, y_train)"
   ]
  },
  {
   "cell_type": "code",
   "execution_count": 47,
   "id": "6f2ea0b4-72ca-4eeb-9b01-cad4aed54eb3",
   "metadata": {},
   "outputs": [
    {
     "data": {
      "text/plain": [
       "array([[24, 20],\n",
       "       [19, 39]], dtype=int64)"
      ]
     },
     "execution_count": 47,
     "metadata": {},
     "output_type": "execute_result"
    }
   ],
   "source": [
    "confusion_matrix(y_test, clas_rf.predict(X_test))"
   ]
  },
  {
   "cell_type": "code",
   "execution_count": 48,
   "id": "c0dc6d34-32d3-4734-878f-ed5055794409",
   "metadata": {},
   "outputs": [
    {
     "data": {
      "text/plain": [
       "0.6176470588235294"
      ]
     },
     "execution_count": 48,
     "metadata": {},
     "output_type": "execute_result"
    }
   ],
   "source": [
    "accuracy_score(y_test, clas_rf.predict(X_test))"
   ]
  },
  {
   "cell_type": "markdown",
   "id": "234328c3-6230-47cd-b6eb-da1153f85095",
   "metadata": {},
   "source": [
    "#### Grid Search\n",
    "https://scikit-learn.org/stable/modules/generated/sklearn.model_selection.GridSearchCV.html?highlight=gridsearchcv#sklearn.model_selection.GridSearchCV"
   ]
  },
  {
   "cell_type": "code",
   "execution_count": 49,
   "id": "3a254f0b-d245-4b33-bf5b-ce7edb613a00",
   "metadata": {},
   "outputs": [],
   "source": [
    "from sklearn.model_selection import GridSearchCV"
   ]
  },
  {
   "cell_type": "code",
   "execution_count": 50,
   "id": "0129fb3a-1c76-40fa-8237-29041074e7b4",
   "metadata": {},
   "outputs": [],
   "source": [
    "parametros = {'max_features' : [4, 5, 6, 7, 8, 9, 10], 'min_samples_split' : [2, 3, 10]}"
   ]
  },
  {
   "cell_type": "code",
   "execution_count": 51,
   "id": "6cad5a10-ec6a-481e-97fe-b7be53fa5d67",
   "metadata": {},
   "outputs": [],
   "source": [
    "pru_param = GridSearchCV(clas_rf, parametros, n_jobs = -1, cv = 10, scoring = 'accuracy')"
   ]
  },
  {
   "cell_type": "code",
   "execution_count": 52,
   "id": "2168ddfe-2f77-4d65-a43e-a4131a0dd5db",
   "metadata": {},
   "outputs": [
    {
     "data": {
      "text/plain": [
       "GridSearchCV(cv=10,\n",
       "             estimator=RandomForestClassifier(n_estimators=1000, n_jobs=-1,\n",
       "                                              random_state=123),\n",
       "             n_jobs=-1,\n",
       "             param_grid={'max_features': [4, 5, 6, 7, 8, 9, 10],\n",
       "                         'min_samples_split': [2, 3, 10]},\n",
       "             scoring='accuracy')"
      ]
     },
     "execution_count": 52,
     "metadata": {},
     "output_type": "execute_result"
    }
   ],
   "source": [
    "pru_param.fit(X_train, y_train)"
   ]
  },
  {
   "cell_type": "code",
   "execution_count": 53,
   "id": "a1823c74-5342-44f2-a090-9a0310710d11",
   "metadata": {},
   "outputs": [
    {
     "data": {
      "text/plain": [
       "{'max_features': 8, 'min_samples_split': 3}"
      ]
     },
     "execution_count": 53,
     "metadata": {},
     "output_type": "execute_result"
    }
   ],
   "source": [
    "pru_param.best_params_"
   ]
  },
  {
   "cell_type": "code",
   "execution_count": 54,
   "id": "94a8ed0f-0dc9-4e3e-843c-770c7084b6a2",
   "metadata": {},
   "outputs": [],
   "source": [
    "best_rf = pru_param.best_estimator_"
   ]
  },
  {
   "cell_type": "code",
   "execution_count": 55,
   "id": "5527f893-955a-43fb-b6d3-d5df69cdebcb",
   "metadata": {},
   "outputs": [
    {
     "data": {
      "text/plain": [
       "array([[24, 20],\n",
       "       [18, 40]], dtype=int64)"
      ]
     },
     "execution_count": 55,
     "metadata": {},
     "output_type": "execute_result"
    }
   ],
   "source": [
    "confusion_matrix(y_test, best_rf.predict(X_test))"
   ]
  },
  {
   "cell_type": "code",
   "execution_count": 56,
   "id": "7d93ad4f-d150-46a6-9f05-6b0ed5ee3ec1",
   "metadata": {},
   "outputs": [
    {
     "data": {
      "text/plain": [
       "0.6274509803921569"
      ]
     },
     "execution_count": 56,
     "metadata": {},
     "output_type": "execute_result"
    }
   ],
   "source": [
    "accuracy_score(y_test, best_rf.predict(X_test))"
   ]
  },
  {
   "cell_type": "markdown",
   "id": "49e78ce4-6bdf-4be6-86bc-0e6acb54e1ca",
   "metadata": {},
   "source": [
    "### Boosting\n",
    "Boosting funciona de manera parecida al bagging en cuanto a que combina un gran número de árboles, a excepción de que los árboles se construyen de manera secuencial: cada árbol se genera usando información, concretamente los residuos, de árboles previamente generados, en lugar de utilizar la variable respuesta (por ello suelen ser suficientes árboles más pequeños, en lugar de un gran árbol que pueda sobreajustarse a los datos). Otra diferencia es que boosting no utiliza remuestreo por bootstrapping, sino que cada árbol se genera utilizando una versión modificada del set de datos original.\n",
    "\n",
    "https://scikit-learn.org/stable/modules/generated/sklearn.ensemble.GradientBoostingClassifier.html?highlight=gradientboostingclassifier#sklearn.ensemble.GradientBoostingClassifier"
   ]
  },
  {
   "cell_type": "code",
   "execution_count": 57,
   "id": "da556718-0285-4fdd-8e55-674685aa3293",
   "metadata": {},
   "outputs": [],
   "source": [
    "from sklearn.ensemble import GradientBoostingClassifier"
   ]
  },
  {
   "cell_type": "code",
   "execution_count": 58,
   "id": "dde62a38-9174-411b-ba3a-8cbbd71c63b4",
   "metadata": {},
   "outputs": [
    {
     "data": {
      "text/plain": [
       "GradientBoostingClassifier()"
      ]
     },
     "execution_count": 58,
     "metadata": {},
     "output_type": "execute_result"
    }
   ],
   "source": [
    "clas_bo = GradientBoostingClassifier()\n",
    "clas_bo.fit(X_train, y_train)"
   ]
  },
  {
   "cell_type": "code",
   "execution_count": 59,
   "id": "a0d84969-261f-4c29-8b93-359cd80f572c",
   "metadata": {},
   "outputs": [
    {
     "data": {
      "text/plain": [
       "0.5784313725490197"
      ]
     },
     "execution_count": 59,
     "metadata": {},
     "output_type": "execute_result"
    }
   ],
   "source": [
    "accuracy_score(y_test, clas_bo.predict(X_test))"
   ]
  },
  {
   "cell_type": "code",
   "execution_count": 60,
   "id": "69b1f3b6-6d1d-45e0-8744-bbe69386e7b7",
   "metadata": {},
   "outputs": [
    {
     "data": {
      "text/plain": [
       "GradientBoostingClassifier(learning_rate=0.02, max_depth=1, n_estimators=1000)"
      ]
     },
     "execution_count": 60,
     "metadata": {},
     "output_type": "execute_result"
    }
   ],
   "source": [
    "clas_bo2 = GradientBoostingClassifier(learning_rate = 0.02, n_estimators = 1000, max_depth = 1)\n",
    "clas_bo2.fit(X_train, y_train)"
   ]
  },
  {
   "cell_type": "code",
   "execution_count": 61,
   "id": "fdc1b265-9709-44d8-b682-c34170aa63ac",
   "metadata": {},
   "outputs": [
    {
     "data": {
      "text/plain": [
       "0.5784313725490197"
      ]
     },
     "execution_count": 61,
     "metadata": {},
     "output_type": "execute_result"
    }
   ],
   "source": [
    "accuracy_score(y_test, clas_bo.predict(X_test))"
   ]
  },
  {
   "cell_type": "markdown",
   "id": "d76f7552-809a-4f85-b4b7-175985c7ca4c",
   "metadata": {},
   "source": [
    "#### Ada Boost\n",
    "Adaboost (Adaptive Boosting), aplicado sobretodo a problemas de clasificación, es un algoritmo iterativo que se basa en combinar múltiples weak learners, en un único strong learner a través de una combinación lineal ponderada.\n",
    "\n",
    "https://scikit-learn.org/stable/modules/generated/sklearn.ensemble.AdaBoostClassifier.html?highlight=adaboostclassifier#sklearn.ensemble.AdaBoostClassifier"
   ]
  },
  {
   "cell_type": "code",
   "execution_count": 62,
   "id": "68f0c98a-09d5-4ed0-9eb5-5fb7332e17b3",
   "metadata": {},
   "outputs": [],
   "source": [
    "from sklearn.ensemble import AdaBoostClassifier"
   ]
  },
  {
   "cell_type": "code",
   "execution_count": 63,
   "id": "3d53fecf-b3a0-44b8-bb9b-0540ea9e9bdf",
   "metadata": {},
   "outputs": [],
   "source": [
    "clas_ab = AdaBoostClassifier(learning_rate = 0.02, n_estimators = 5000)"
   ]
  },
  {
   "cell_type": "code",
   "execution_count": 64,
   "id": "b4f8ea69-d105-489c-ba79-7805de478a94",
   "metadata": {},
   "outputs": [
    {
     "data": {
      "text/plain": [
       "AdaBoostClassifier(learning_rate=0.02, n_estimators=5000)"
      ]
     },
     "execution_count": 64,
     "metadata": {},
     "output_type": "execute_result"
    }
   ],
   "source": [
    "clas_ab.fit(X_train, y_train)"
   ]
  },
  {
   "cell_type": "code",
   "execution_count": 65,
   "id": "73bfdca3-fa2f-4794-818b-e56c605cd6fd",
   "metadata": {},
   "outputs": [
    {
     "data": {
      "text/plain": [
       "0.6274509803921569"
      ]
     },
     "execution_count": 65,
     "metadata": {},
     "output_type": "execute_result"
    }
   ],
   "source": [
    "accuracy_score(y_test, clas_ab.predict(X_test))"
   ]
  },
  {
   "cell_type": "code",
   "execution_count": 66,
   "id": "f52c7bfc-2938-4125-9522-5f234f5d2f44",
   "metadata": {},
   "outputs": [],
   "source": [
    "clas_ab2 = AdaBoostClassifier(learning_rate = 0.02, n_estimators = 500)"
   ]
  },
  {
   "cell_type": "code",
   "execution_count": 67,
   "id": "f399e65b-c54e-4af9-887e-017bc7c46fb1",
   "metadata": {},
   "outputs": [
    {
     "data": {
      "text/plain": [
       "AdaBoostClassifier(learning_rate=0.02, n_estimators=500)"
      ]
     },
     "execution_count": 67,
     "metadata": {},
     "output_type": "execute_result"
    }
   ],
   "source": [
    "clas_ab2.fit(X_train, y_train)"
   ]
  },
  {
   "cell_type": "code",
   "execution_count": 68,
   "id": "44795e11-a575-4746-98fd-f8b9c0c47474",
   "metadata": {},
   "outputs": [
    {
     "data": {
      "text/plain": [
       "0.5784313725490197"
      ]
     },
     "execution_count": 68,
     "metadata": {},
     "output_type": "execute_result"
    }
   ],
   "source": [
    "accuracy_score(y_test, clas_ab2.predict(X_test))"
   ]
  },
  {
   "cell_type": "markdown",
   "id": "fcddd873-73d4-4a51-983e-23d691fe4f6d",
   "metadata": {},
   "source": [
    "#### XG Boost\n",
    "Gradient Boosting no asigna un peso independiente a cada observación de entrenamiento, sino que hace uso de una función de coste $L(yi,f(x))$ cuyo gradiente o derivada parcial de la función de coste se pretende minimizar. Esto se lleva a cabo en un proceso iterativo. El gradiente se utiliza para encontrar la dirección en la que cambiar los parámetros de los weak learners para reducir el error de predicción en las siguientes iteraciones. Concretamente, las predicciones del weak learner m intentan acercarse al gradiente negativo de la función de coste.\n",
    "\n",
    "https://xgboost.readthedocs.io/en/latest/parameter.html"
   ]
  },
  {
   "cell_type": "code",
   "execution_count": 69,
   "id": "e77b9cd2-98f7-436c-803c-f6cfffa8817a",
   "metadata": {},
   "outputs": [],
   "source": [
    "import xgboost as xgb"
   ]
  },
  {
   "cell_type": "code",
   "execution_count": 70,
   "id": "825239b7-09ae-4718-b608-e388a96bce1d",
   "metadata": {},
   "outputs": [],
   "source": [
    "clas_xgb = xgb.XGBClassifier(max_depth = 5, n_estimators = 10000, learning_rate = 0.3, n_jobs = -1)"
   ]
  },
  {
   "cell_type": "code",
   "execution_count": 71,
   "id": "5904206d-ba0a-45a3-b320-476e4a0ba2fd",
   "metadata": {},
   "outputs": [
    {
     "name": "stderr",
     "output_type": "stream",
     "text": [
      "d:\\jasdata\\python39\\lib\\site-packages\\xgboost\\sklearn.py:1146: UserWarning: The use of label encoder in XGBClassifier is deprecated and will be removed in a future release. To remove this warning, do the following: 1) Pass option use_label_encoder=False when constructing XGBClassifier object; and 2) Encode your labels (y) as integers starting with 0, i.e. 0, 1, 2, ..., [num_class - 1].\n",
      "  warnings.warn(label_encoder_deprecation_msg, UserWarning)\n"
     ]
    },
    {
     "name": "stdout",
     "output_type": "stream",
     "text": [
      "[21:30:24] WARNING: C:/Users/Administrator/workspace/xgboost-win64_release_1.4.0/src/learner.cc:1095: Starting in XGBoost 1.3.0, the default evaluation metric used with the objective 'binary:logistic' was changed from 'error' to 'logloss'. Explicitly set eval_metric if you'd like to restore the old behavior.\n"
     ]
    },
    {
     "data": {
      "text/plain": [
       "XGBClassifier(base_score=0.5, booster='gbtree', colsample_bylevel=1,\n",
       "              colsample_bynode=1, colsample_bytree=1, gamma=0, gpu_id=-1,\n",
       "              importance_type='gain', interaction_constraints='',\n",
       "              learning_rate=0.3, max_delta_step=0, max_depth=5,\n",
       "              min_child_weight=1, missing=nan, monotone_constraints='()',\n",
       "              n_estimators=10000, n_jobs=-1, num_parallel_tree=1,\n",
       "              random_state=0, reg_alpha=0, reg_lambda=1, scale_pos_weight=1,\n",
       "              subsample=1, tree_method='exact', validate_parameters=1,\n",
       "              verbosity=None)"
      ]
     },
     "execution_count": 71,
     "metadata": {},
     "output_type": "execute_result"
    }
   ],
   "source": [
    "clas_xgb.fit(X_train, y_train)"
   ]
  },
  {
   "cell_type": "code",
   "execution_count": 72,
   "id": "656b8e9b-0be9-4884-83f1-af8191a10852",
   "metadata": {},
   "outputs": [
    {
     "data": {
      "text/plain": [
       "0.6666666666666666"
      ]
     },
     "execution_count": 72,
     "metadata": {},
     "output_type": "execute_result"
    }
   ],
   "source": [
    "accuracy_score(y_test, clas_xgb.predict(X_test))"
   ]
  },
  {
   "cell_type": "code",
   "execution_count": 73,
   "id": "0e73f19e-82d3-4bb8-a133-de671384f352",
   "metadata": {},
   "outputs": [
    {
     "data": {
      "text/plain": [
       "<AxesSubplot:title={'center':'Feature importance'}, xlabel='F score', ylabel='Features'>"
      ]
     },
     "execution_count": 73,
     "metadata": {},
     "output_type": "execute_result"
    },
    {
     "data": {
      "image/png": "[encoded data removed]",
      "text/plain": [
       "<Figure size 432x288 with 1 Axes>"
      ]
     },
     "metadata": {
      "needs_background": "light"
     },
     "output_type": "display_data"
    }
   ],
   "source": [
    "xgb.plot_importance(clas_xgb)"
   ]
  },
  {
   "cell_type": "code",
   "execution_count": 74,
   "id": "c8a09ff3-837e-4487-aa56-ab278f3d9df8",
   "metadata": {},
   "outputs": [],
   "source": [
    "clas_xgb2 = xgb.XGBClassifier(n_estimators = 500, learning_rate = 0.1, n_jobs = -1, random_state = 123)"
   ]
  },
  {
   "cell_type": "code",
   "execution_count": 75,
   "id": "1b8d3588-1491-4b3f-9965-cf92a0f1aa80",
   "metadata": {},
   "outputs": [],
   "source": [
    "parametros2 = {'max_depth': range(3, 10, 2),\n",
    "               'gamma' : [0.1, 0.2, 0.3],\n",
    "               'sub_sample' : [0.8, 0.9],\n",
    "              'colsample_bytree' : [0.8, 0.9],\n",
    "              'reg_alpha' : [1e-2, 0.1, 1]}"
   ]
  },
  {
   "cell_type": "code",
   "execution_count": 76,
   "id": "5fa64a7f-76b9-4e6c-ac4a-9a4eb2e822d5",
   "metadata": {},
   "outputs": [],
   "source": [
    "pru_param2 = GridSearchCV(clas_xgb2, parametros2, n_jobs = -1, cv = 10, scoring = 'accuracy')"
   ]
  },
  {
   "cell_type": "code",
   "execution_count": 77,
   "id": "2cf61536-cde0-4e3a-8a48-2f343a6e1088",
   "metadata": {},
   "outputs": [
    {
     "name": "stderr",
     "output_type": "stream",
     "text": [
      "d:\\jasdata\\python39\\lib\\site-packages\\xgboost\\sklearn.py:1146: UserWarning: The use of label encoder in XGBClassifier is deprecated and will be removed in a future release. To remove this warning, do the following: 1) Pass option use_label_encoder=False when constructing XGBClassifier object; and 2) Encode your labels (y) as integers starting with 0, i.e. 0, 1, 2, ..., [num_class - 1].\n",
      "  warnings.warn(label_encoder_deprecation_msg, UserWarning)\n"
     ]
    },
    {
     "name": "stdout",
     "output_type": "stream",
     "text": [
      "[21:32:33] WARNING: C:/Users/Administrator/workspace/xgboost-win64_release_1.4.0/src/learner.cc:573: \n",
      "Parameters: { \"sub_sample\" } might not be used.\n",
      "\n",
      "  This may not be accurate due to some parameters are only used in language bindings but\n",
      "  passed down to XGBoost core.  Or some parameters are not used but slip through this\n",
      "  verification. Please open an issue if you find above cases.\n",
      "\n",
      "\n",
      "[21:32:33] WARNING: C:/Users/Administrator/workspace/xgboost-win64_release_1.4.0/src/learner.cc:1095: Starting in XGBoost 1.3.0, the default evaluation metric used with the objective 'binary:logistic' was changed from 'error' to 'logloss'. Explicitly set eval_metric if you'd like to restore the old behavior.\n"
     ]
    },
    {
     "data": {
      "text/plain": [
       "GridSearchCV(cv=10,\n",
       "             estimator=XGBClassifier(base_score=None, booster=None,\n",
       "                                     colsample_bylevel=None,\n",
       "                                     colsample_bynode=None,\n",
       "                                     colsample_bytree=None, gamma=None,\n",
       "                                     gpu_id=None, importance_type='gain',\n",
       "                                     interaction_constraints=None,\n",
       "                                     learning_rate=0.1, max_delta_step=None,\n",
       "                                     max_depth=None, min_child_weight=None,\n",
       "                                     missing=nan, monotone_constraints=None,\n",
       "                                     n_estimators=500, n_jobs=-1,\n",
       "                                     num_parallel_tree=None, random_state=123,\n",
       "                                     reg_alpha=None, reg_lambda=None,\n",
       "                                     scale_pos_weight=None, subsample=None,\n",
       "                                     tree_method=None, validate_parameters=None,\n",
       "                                     verbosity=None),\n",
       "             n_jobs=-1,\n",
       "             param_grid={'colsample_bytree': [0.8, 0.9],\n",
       "                         'gamma': [0.1, 0.2, 0.3], 'max_depth': range(3, 10, 2),\n",
       "                         'reg_alpha': [0.01, 0.1, 1],\n",
       "                         'sub_sample': [0.8, 0.9]},\n",
       "             scoring='accuracy')"
      ]
     },
     "execution_count": 77,
     "metadata": {},
     "output_type": "execute_result"
    }
   ],
   "source": [
    "pru_param2.fit(X_train, y_train)"
   ]
  },
  {
   "cell_type": "code",
   "execution_count": 78,
   "id": "6e9437be-1b5d-45b9-9745-056b619ba283",
   "metadata": {},
   "outputs": [],
   "source": [
    "best_xgb = pru_param2.best_estimator_"
   ]
  },
  {
   "cell_type": "code",
   "execution_count": 79,
   "id": "8987d471-9e6a-4c31-a74d-322b5ca9ac8c",
   "metadata": {},
   "outputs": [
    {
     "data": {
      "text/plain": [
       "0.6470588235294118"
      ]
     },
     "execution_count": 79,
     "metadata": {},
     "output_type": "execute_result"
    }
   ],
   "source": [
    "accuracy_score(y_test, best_xgb.predict(X_test))"
   ]
  },
  {
   "cell_type": "code",
   "execution_count": 80,
   "id": "1a62e735-edb5-4e39-aff3-c48fc3ef5612",
   "metadata": {},
   "outputs": [
    {
     "data": {
      "text/plain": [
       "{'colsample_bytree': 0.9,\n",
       " 'gamma': 0.2,\n",
       " 'max_depth': 7,\n",
       " 'reg_alpha': 0.1,\n",
       " 'sub_sample': 0.8}"
      ]
     },
     "execution_count": 80,
     "metadata": {},
     "output_type": "execute_result"
    }
   ],
   "source": [
    "pru_param2.best_params_"
   ]
  }
 ],
 "metadata": {
  "kernelspec": {
   "display_name": "Python 3",
   "language": "python",
   "name": "python3"
  },
  "language_info": {
   "codemirror_mode": {
    "name": "ipython",
    "version": 3
   },
   "file_extension": ".py",
   "mimetype": "text/x-python",
   "name": "python",
   "nbconvert_exporter": "python",
   "pygments_lexer": "ipython3",
   "version": "3.9.5"
  }
 },
 "nbformat": 4,
 "nbformat_minor": 5
}
