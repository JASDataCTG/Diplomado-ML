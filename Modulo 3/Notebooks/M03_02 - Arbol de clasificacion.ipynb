{
 "cells": [
  {
   "cell_type": "markdown",
   "id": "8844113a-b4e5-4a62-8760-a448d9eaa04b",
   "metadata": {},
   "source": [
    "# Aprendizaje supervisado - Árboles de clasificación\n",
    "![Árbol de clasificación](ilustracion_arb_clasi.png)"
   ]
  },
  {
   "cell_type": "markdown",
   "id": "33f1ee98-a2c3-4dfe-8969-f691d171f509",
   "metadata": {},
   "source": [
    "## Carga del conjunto de datos"
   ]
  },
  {
   "cell_type": "code",
   "execution_count": 132,
   "id": "fa0dc844-a93a-4ee2-8a74-be17039c2cdb",
   "metadata": {},
   "outputs": [],
   "source": [
    "import pandas as pd\n",
    "import numpy as np\n",
    "import seaborn as sns\n",
    "import matplotlib.pyplot as plt"
   ]
  },
  {
   "cell_type": "code",
   "execution_count": 133,
   "id": "7b7feae1-df90-493c-bfc8-40efe7a87a04",
   "metadata": {},
   "outputs": [],
   "source": [
    "url = 'https://raw.githubusercontent.com/JASDataCTG/Diplomado-ML/main/Modulo%203/Datasets/Movie_classificationesclas.csv'\n",
    "df = pd.read_csv(url, header = 0)"
   ]
  },
  {
   "cell_type": "code",
   "execution_count": 134,
   "id": "890baec2-7ac0-4361-8f83-7a22a12f6eb1",
   "metadata": {},
   "outputs": [
    {
     "data": {
      "text/html": [
       "<div>\n",
       "<style scoped>\n",
       "    .dataframe tbody tr th:only-of-type {\n",
       "        vertical-align: middle;\n",
       "    }\n",
       "\n",
       "    .dataframe tbody tr th {\n",
       "        vertical-align: top;\n",
       "    }\n",
       "\n",
       "    .dataframe thead th {\n",
       "        text-align: right;\n",
       "    }\n",
       "</style>\n",
       "<table border=\"1\" class=\"dataframe\">\n",
       "  <thead>\n",
       "    <tr style=\"text-align: right;\">\n",
       "      <th></th>\n",
       "      <th>Costo de marketing</th>\n",
       "      <th>Costo de produccion</th>\n",
       "      <th>Multiplex cubiertos</th>\n",
       "      <th>Ganancias</th>\n",
       "      <th>Duracion</th>\n",
       "      <th>Rating actor principal</th>\n",
       "      <th>Rating actriz principal</th>\n",
       "      <th>Rating director</th>\n",
       "      <th>Rating productor</th>\n",
       "      <th>Rating criticos</th>\n",
       "      <th>Visualizaciones trailers</th>\n",
       "      <th>Disponibilidad 3D</th>\n",
       "      <th>Tiempo realizacion</th>\n",
       "      <th>Hashtags Twitter</th>\n",
       "      <th>Genero</th>\n",
       "      <th>Promedio edad actores</th>\n",
       "      <th>Numero multiplex</th>\n",
       "      <th>Coleccion</th>\n",
       "      <th>Gana Oscar</th>\n",
       "    </tr>\n",
       "  </thead>\n",
       "  <tbody>\n",
       "    <tr>\n",
       "      <th>0</th>\n",
       "      <td>20.1264</td>\n",
       "      <td>59.62</td>\n",
       "      <td>0.462</td>\n",
       "      <td>36524.125</td>\n",
       "      <td>138.7</td>\n",
       "      <td>7.825</td>\n",
       "      <td>8.095</td>\n",
       "      <td>7.910</td>\n",
       "      <td>7.995</td>\n",
       "      <td>7.94</td>\n",
       "      <td>527367</td>\n",
       "      <td>SI</td>\n",
       "      <td>109.60</td>\n",
       "      <td>223.840</td>\n",
       "      <td>Terror</td>\n",
       "      <td>23</td>\n",
       "      <td>494</td>\n",
       "      <td>48000</td>\n",
       "      <td>1</td>\n",
       "    </tr>\n",
       "    <tr>\n",
       "      <th>1</th>\n",
       "      <td>20.5462</td>\n",
       "      <td>69.14</td>\n",
       "      <td>0.531</td>\n",
       "      <td>35668.655</td>\n",
       "      <td>152.4</td>\n",
       "      <td>7.505</td>\n",
       "      <td>7.650</td>\n",
       "      <td>7.440</td>\n",
       "      <td>7.470</td>\n",
       "      <td>7.44</td>\n",
       "      <td>494055</td>\n",
       "      <td>NO</td>\n",
       "      <td>146.64</td>\n",
       "      <td>243.456</td>\n",
       "      <td>Drama</td>\n",
       "      <td>42</td>\n",
       "      <td>462</td>\n",
       "      <td>43200</td>\n",
       "      <td>0</td>\n",
       "    </tr>\n",
       "    <tr>\n",
       "      <th>2</th>\n",
       "      <td>20.5458</td>\n",
       "      <td>69.14</td>\n",
       "      <td>0.531</td>\n",
       "      <td>39912.675</td>\n",
       "      <td>134.6</td>\n",
       "      <td>7.485</td>\n",
       "      <td>7.570</td>\n",
       "      <td>7.495</td>\n",
       "      <td>7.515</td>\n",
       "      <td>7.44</td>\n",
       "      <td>547051</td>\n",
       "      <td>NO</td>\n",
       "      <td>147.88</td>\n",
       "      <td>2022.400</td>\n",
       "      <td>Comedia</td>\n",
       "      <td>38</td>\n",
       "      <td>458</td>\n",
       "      <td>69400</td>\n",
       "      <td>1</td>\n",
       "    </tr>\n",
       "    <tr>\n",
       "      <th>3</th>\n",
       "      <td>20.6474</td>\n",
       "      <td>59.36</td>\n",
       "      <td>0.542</td>\n",
       "      <td>38873.890</td>\n",
       "      <td>119.3</td>\n",
       "      <td>6.895</td>\n",
       "      <td>7.035</td>\n",
       "      <td>6.920</td>\n",
       "      <td>7.020</td>\n",
       "      <td>8.26</td>\n",
       "      <td>516279</td>\n",
       "      <td>SI</td>\n",
       "      <td>185.36</td>\n",
       "      <td>225.344</td>\n",
       "      <td>Drama</td>\n",
       "      <td>45</td>\n",
       "      <td>472</td>\n",
       "      <td>66800</td>\n",
       "      <td>1</td>\n",
       "    </tr>\n",
       "    <tr>\n",
       "      <th>4</th>\n",
       "      <td>21.3810</td>\n",
       "      <td>59.36</td>\n",
       "      <td>0.542</td>\n",
       "      <td>39701.585</td>\n",
       "      <td>127.7</td>\n",
       "      <td>6.920</td>\n",
       "      <td>7.070</td>\n",
       "      <td>6.815</td>\n",
       "      <td>7.070</td>\n",
       "      <td>8.26</td>\n",
       "      <td>531448</td>\n",
       "      <td>NO</td>\n",
       "      <td>176.48</td>\n",
       "      <td>225.792</td>\n",
       "      <td>Drama</td>\n",
       "      <td>55</td>\n",
       "      <td>395</td>\n",
       "      <td>72400</td>\n",
       "      <td>1</td>\n",
       "    </tr>\n",
       "  </tbody>\n",
       "</table>\n",
       "</div>"
      ],
      "text/plain": [
       "   Costo de marketing  Costo de produccion  Multiplex cubiertos  Ganancias  \\\n",
       "0             20.1264                59.62                0.462  36524.125   \n",
       "1             20.5462                69.14                0.531  35668.655   \n",
       "2             20.5458                69.14                0.531  39912.675   \n",
       "3             20.6474                59.36                0.542  38873.890   \n",
       "4             21.3810                59.36                0.542  39701.585   \n",
       "\n",
       "   Duracion  Rating actor principal  Rating actriz principal  Rating director  \\\n",
       "0     138.7                   7.825                    8.095            7.910   \n",
       "1     152.4                   7.505                    7.650            7.440   \n",
       "2     134.6                   7.485                    7.570            7.495   \n",
       "3     119.3                   6.895                    7.035            6.920   \n",
       "4     127.7                   6.920                    7.070            6.815   \n",
       "\n",
       "   Rating productor  Rating criticos  Visualizaciones trailers  \\\n",
       "0             7.995             7.94                    527367   \n",
       "1             7.470             7.44                    494055   \n",
       "2             7.515             7.44                    547051   \n",
       "3             7.020             8.26                    516279   \n",
       "4             7.070             8.26                    531448   \n",
       "\n",
       "  Disponibilidad 3D  Tiempo realizacion  Hashtags Twitter   Genero  \\\n",
       "0                SI              109.60           223.840   Terror   \n",
       "1                NO              146.64           243.456    Drama   \n",
       "2                NO              147.88          2022.400  Comedia   \n",
       "3                SI              185.36           225.344    Drama   \n",
       "4                NO              176.48           225.792    Drama   \n",
       "\n",
       "   Promedio edad actores  Numero multiplex  Coleccion  Gana Oscar  \n",
       "0                     23               494      48000           1  \n",
       "1                     42               462      43200           0  \n",
       "2                     38               458      69400           1  \n",
       "3                     45               472      66800           1  \n",
       "4                     55               395      72400           1  "
      ]
     },
     "execution_count": 134,
     "metadata": {},
     "output_type": "execute_result"
    }
   ],
   "source": [
    "df.head()"
   ]
  },
  {
   "cell_type": "code",
   "execution_count": 135,
   "id": "4ed416be-7573-4355-8e78-339f5bb8bf2e",
   "metadata": {},
   "outputs": [
    {
     "name": "stdout",
     "output_type": "stream",
     "text": [
      "<class 'pandas.core.frame.DataFrame'>\n",
      "RangeIndex: 506 entries, 0 to 505\n",
      "Data columns (total 19 columns):\n",
      " #   Column                    Non-Null Count  Dtype  \n",
      "---  ------                    --------------  -----  \n",
      " 0   Costo de marketing        506 non-null    float64\n",
      " 1   Costo de produccion       506 non-null    float64\n",
      " 2   Multiplex cubiertos       506 non-null    float64\n",
      " 3   Ganancias                 506 non-null    float64\n",
      " 4   Duracion                  506 non-null    float64\n",
      " 5   Rating actor principal    506 non-null    float64\n",
      " 6   Rating actriz principal   506 non-null    float64\n",
      " 7   Rating director           506 non-null    float64\n",
      " 8   Rating productor          506 non-null    float64\n",
      " 9   Rating criticos           506 non-null    float64\n",
      " 10  Visualizaciones trailers  506 non-null    int64  \n",
      " 11  Disponibilidad 3D         506 non-null    object \n",
      " 12  Tiempo realizacion        494 non-null    float64\n",
      " 13  Hashtags Twitter          506 non-null    float64\n",
      " 14  Genero                    506 non-null    object \n",
      " 15  Promedio edad actores     506 non-null    int64  \n",
      " 16  Numero multiplex          506 non-null    int64  \n",
      " 17  Coleccion                 506 non-null    int64  \n",
      " 18  Gana Oscar                506 non-null    int64  \n",
      "dtypes: float64(12), int64(5), object(2)\n",
      "memory usage: 75.2+ KB\n"
     ]
    }
   ],
   "source": [
    "df.info()"
   ]
  },
  {
   "cell_type": "markdown",
   "id": "1cfa4800-6fec-4afa-bbc3-95cf92ed4613",
   "metadata": {},
   "source": [
    "### Imputación de valores faltantes"
   ]
  },
  {
   "cell_type": "code",
   "execution_count": 136,
   "id": "7e1cc121-1e13-4672-8fc2-461248535c4b",
   "metadata": {},
   "outputs": [
    {
     "data": {
      "text/plain": [
       "157.3914979757085"
      ]
     },
     "execution_count": 136,
     "metadata": {},
     "output_type": "execute_result"
    }
   ],
   "source": [
    "df['Tiempo realizacion'].mean()"
   ]
  },
  {
   "cell_type": "code",
   "execution_count": 137,
   "id": "ccf6b722-d671-40b9-aa22-96eafce5822c",
   "metadata": {},
   "outputs": [],
   "source": [
    "df['Tiempo realizacion'].fillna(value = df['Tiempo realizacion'].mean(), inplace = True)"
   ]
  },
  {
   "cell_type": "code",
   "execution_count": 138,
   "id": "91db0a1f-9840-4648-8ef4-7a682aa003ee",
   "metadata": {},
   "outputs": [
    {
     "data": {
      "text/html": [
       "<div>\n",
       "<style scoped>\n",
       "    .dataframe tbody tr th:only-of-type {\n",
       "        vertical-align: middle;\n",
       "    }\n",
       "\n",
       "    .dataframe tbody tr th {\n",
       "        vertical-align: top;\n",
       "    }\n",
       "\n",
       "    .dataframe thead th {\n",
       "        text-align: right;\n",
       "    }\n",
       "</style>\n",
       "<table border=\"1\" class=\"dataframe\">\n",
       "  <thead>\n",
       "    <tr style=\"text-align: right;\">\n",
       "      <th></th>\n",
       "      <th>Costo de marketing</th>\n",
       "      <th>Costo de produccion</th>\n",
       "      <th>Multiplex cubiertos</th>\n",
       "      <th>Ganancias</th>\n",
       "      <th>Duracion</th>\n",
       "      <th>Rating actor principal</th>\n",
       "      <th>Rating actriz principal</th>\n",
       "      <th>Rating director</th>\n",
       "      <th>Rating productor</th>\n",
       "      <th>Rating criticos</th>\n",
       "      <th>Visualizaciones trailers</th>\n",
       "      <th>Disponibilidad 3D</th>\n",
       "      <th>Tiempo realizacion</th>\n",
       "      <th>Hashtags Twitter</th>\n",
       "      <th>Genero</th>\n",
       "      <th>Promedio edad actores</th>\n",
       "      <th>Numero multiplex</th>\n",
       "      <th>Coleccion</th>\n",
       "      <th>Gana Oscar</th>\n",
       "    </tr>\n",
       "  </thead>\n",
       "  <tbody>\n",
       "    <tr>\n",
       "      <th>0</th>\n",
       "      <td>20.1264</td>\n",
       "      <td>59.62</td>\n",
       "      <td>0.462</td>\n",
       "      <td>36524.125</td>\n",
       "      <td>138.7</td>\n",
       "      <td>7.825</td>\n",
       "      <td>8.095</td>\n",
       "      <td>7.910</td>\n",
       "      <td>7.995</td>\n",
       "      <td>7.94</td>\n",
       "      <td>527367</td>\n",
       "      <td>SI</td>\n",
       "      <td>109.60</td>\n",
       "      <td>223.840</td>\n",
       "      <td>Terror</td>\n",
       "      <td>23</td>\n",
       "      <td>494</td>\n",
       "      <td>48000</td>\n",
       "      <td>1</td>\n",
       "    </tr>\n",
       "    <tr>\n",
       "      <th>1</th>\n",
       "      <td>20.5462</td>\n",
       "      <td>69.14</td>\n",
       "      <td>0.531</td>\n",
       "      <td>35668.655</td>\n",
       "      <td>152.4</td>\n",
       "      <td>7.505</td>\n",
       "      <td>7.650</td>\n",
       "      <td>7.440</td>\n",
       "      <td>7.470</td>\n",
       "      <td>7.44</td>\n",
       "      <td>494055</td>\n",
       "      <td>NO</td>\n",
       "      <td>146.64</td>\n",
       "      <td>243.456</td>\n",
       "      <td>Drama</td>\n",
       "      <td>42</td>\n",
       "      <td>462</td>\n",
       "      <td>43200</td>\n",
       "      <td>0</td>\n",
       "    </tr>\n",
       "    <tr>\n",
       "      <th>2</th>\n",
       "      <td>20.5458</td>\n",
       "      <td>69.14</td>\n",
       "      <td>0.531</td>\n",
       "      <td>39912.675</td>\n",
       "      <td>134.6</td>\n",
       "      <td>7.485</td>\n",
       "      <td>7.570</td>\n",
       "      <td>7.495</td>\n",
       "      <td>7.515</td>\n",
       "      <td>7.44</td>\n",
       "      <td>547051</td>\n",
       "      <td>NO</td>\n",
       "      <td>147.88</td>\n",
       "      <td>2022.400</td>\n",
       "      <td>Comedia</td>\n",
       "      <td>38</td>\n",
       "      <td>458</td>\n",
       "      <td>69400</td>\n",
       "      <td>1</td>\n",
       "    </tr>\n",
       "    <tr>\n",
       "      <th>3</th>\n",
       "      <td>20.6474</td>\n",
       "      <td>59.36</td>\n",
       "      <td>0.542</td>\n",
       "      <td>38873.890</td>\n",
       "      <td>119.3</td>\n",
       "      <td>6.895</td>\n",
       "      <td>7.035</td>\n",
       "      <td>6.920</td>\n",
       "      <td>7.020</td>\n",
       "      <td>8.26</td>\n",
       "      <td>516279</td>\n",
       "      <td>SI</td>\n",
       "      <td>185.36</td>\n",
       "      <td>225.344</td>\n",
       "      <td>Drama</td>\n",
       "      <td>45</td>\n",
       "      <td>472</td>\n",
       "      <td>66800</td>\n",
       "      <td>1</td>\n",
       "    </tr>\n",
       "    <tr>\n",
       "      <th>4</th>\n",
       "      <td>21.3810</td>\n",
       "      <td>59.36</td>\n",
       "      <td>0.542</td>\n",
       "      <td>39701.585</td>\n",
       "      <td>127.7</td>\n",
       "      <td>6.920</td>\n",
       "      <td>7.070</td>\n",
       "      <td>6.815</td>\n",
       "      <td>7.070</td>\n",
       "      <td>8.26</td>\n",
       "      <td>531448</td>\n",
       "      <td>NO</td>\n",
       "      <td>176.48</td>\n",
       "      <td>225.792</td>\n",
       "      <td>Drama</td>\n",
       "      <td>55</td>\n",
       "      <td>395</td>\n",
       "      <td>72400</td>\n",
       "      <td>1</td>\n",
       "    </tr>\n",
       "  </tbody>\n",
       "</table>\n",
       "</div>"
      ],
      "text/plain": [
       "   Costo de marketing  Costo de produccion  Multiplex cubiertos  Ganancias  \\\n",
       "0             20.1264                59.62                0.462  36524.125   \n",
       "1             20.5462                69.14                0.531  35668.655   \n",
       "2             20.5458                69.14                0.531  39912.675   \n",
       "3             20.6474                59.36                0.542  38873.890   \n",
       "4             21.3810                59.36                0.542  39701.585   \n",
       "\n",
       "   Duracion  Rating actor principal  Rating actriz principal  Rating director  \\\n",
       "0     138.7                   7.825                    8.095            7.910   \n",
       "1     152.4                   7.505                    7.650            7.440   \n",
       "2     134.6                   7.485                    7.570            7.495   \n",
       "3     119.3                   6.895                    7.035            6.920   \n",
       "4     127.7                   6.920                    7.070            6.815   \n",
       "\n",
       "   Rating productor  Rating criticos  Visualizaciones trailers  \\\n",
       "0             7.995             7.94                    527367   \n",
       "1             7.470             7.44                    494055   \n",
       "2             7.515             7.44                    547051   \n",
       "3             7.020             8.26                    516279   \n",
       "4             7.070             8.26                    531448   \n",
       "\n",
       "  Disponibilidad 3D  Tiempo realizacion  Hashtags Twitter   Genero  \\\n",
       "0                SI              109.60           223.840   Terror   \n",
       "1                NO              146.64           243.456    Drama   \n",
       "2                NO              147.88          2022.400  Comedia   \n",
       "3                SI              185.36           225.344    Drama   \n",
       "4                NO              176.48           225.792    Drama   \n",
       "\n",
       "   Promedio edad actores  Numero multiplex  Coleccion  Gana Oscar  \n",
       "0                     23               494      48000           1  \n",
       "1                     42               462      43200           0  \n",
       "2                     38               458      69400           1  \n",
       "3                     45               472      66800           1  \n",
       "4                     55               395      72400           1  "
      ]
     },
     "execution_count": 138,
     "metadata": {},
     "output_type": "execute_result"
    }
   ],
   "source": [
    "df.head()"
   ]
  },
  {
   "cell_type": "code",
   "execution_count": 139,
   "id": "162a4c13-6d59-4802-ab2b-9ee15538f6fa",
   "metadata": {},
   "outputs": [
    {
     "name": "stdout",
     "output_type": "stream",
     "text": [
      "<class 'pandas.core.frame.DataFrame'>\n",
      "RangeIndex: 506 entries, 0 to 505\n",
      "Data columns (total 19 columns):\n",
      " #   Column                    Non-Null Count  Dtype  \n",
      "---  ------                    --------------  -----  \n",
      " 0   Costo de marketing        506 non-null    float64\n",
      " 1   Costo de produccion       506 non-null    float64\n",
      " 2   Multiplex cubiertos       506 non-null    float64\n",
      " 3   Ganancias                 506 non-null    float64\n",
      " 4   Duracion                  506 non-null    float64\n",
      " 5   Rating actor principal    506 non-null    float64\n",
      " 6   Rating actriz principal   506 non-null    float64\n",
      " 7   Rating director           506 non-null    float64\n",
      " 8   Rating productor          506 non-null    float64\n",
      " 9   Rating criticos           506 non-null    float64\n",
      " 10  Visualizaciones trailers  506 non-null    int64  \n",
      " 11  Disponibilidad 3D         506 non-null    object \n",
      " 12  Tiempo realizacion        506 non-null    float64\n",
      " 13  Hashtags Twitter          506 non-null    float64\n",
      " 14  Genero                    506 non-null    object \n",
      " 15  Promedio edad actores     506 non-null    int64  \n",
      " 16  Numero multiplex          506 non-null    int64  \n",
      " 17  Coleccion                 506 non-null    int64  \n",
      " 18  Gana Oscar                506 non-null    int64  \n",
      "dtypes: float64(12), int64(5), object(2)\n",
      "memory usage: 75.2+ KB\n"
     ]
    }
   ],
   "source": [
    "df.info()"
   ]
  },
  {
   "cell_type": "markdown",
   "id": "d3a6b073-d4b3-4f59-acd4-bb22350d3f52",
   "metadata": {},
   "source": [
    "### Creación de variables dummy"
   ]
  },
  {
   "cell_type": "code",
   "execution_count": 140,
   "id": "814d1b90-9043-4bd8-a977-90131f913128",
   "metadata": {},
   "outputs": [
    {
     "data": {
      "text/plain": [
       "['Terror', 'Drama', 'Comedia', 'Accion']"
      ]
     },
     "execution_count": 140,
     "metadata": {},
     "output_type": "execute_result"
    }
   ],
   "source": [
    "list(dict.fromkeys(df['Genero']))"
   ]
  },
  {
   "cell_type": "code",
   "execution_count": 141,
   "id": "a38bedc6-6f7d-4020-9ba8-8facf571ce03",
   "metadata": {},
   "outputs": [],
   "source": [
    "df = pd.get_dummies(df, columns = ['Disponibilidad 3D', 'Genero'], drop_first = True)"
   ]
  },
  {
   "cell_type": "code",
   "execution_count": 142,
   "id": "b54b7ab9-7450-4222-8759-19de9708f836",
   "metadata": {},
   "outputs": [
    {
     "data": {
      "text/html": [
       "<div>\n",
       "<style scoped>\n",
       "    .dataframe tbody tr th:only-of-type {\n",
       "        vertical-align: middle;\n",
       "    }\n",
       "\n",
       "    .dataframe tbody tr th {\n",
       "        vertical-align: top;\n",
       "    }\n",
       "\n",
       "    .dataframe thead th {\n",
       "        text-align: right;\n",
       "    }\n",
       "</style>\n",
       "<table border=\"1\" class=\"dataframe\">\n",
       "  <thead>\n",
       "    <tr style=\"text-align: right;\">\n",
       "      <th></th>\n",
       "      <th>Costo de marketing</th>\n",
       "      <th>Costo de produccion</th>\n",
       "      <th>Multiplex cubiertos</th>\n",
       "      <th>Ganancias</th>\n",
       "      <th>Duracion</th>\n",
       "      <th>Rating actor principal</th>\n",
       "      <th>Rating actriz principal</th>\n",
       "      <th>Rating director</th>\n",
       "      <th>Rating productor</th>\n",
       "      <th>Rating criticos</th>\n",
       "      <th>...</th>\n",
       "      <th>Tiempo realizacion</th>\n",
       "      <th>Hashtags Twitter</th>\n",
       "      <th>Promedio edad actores</th>\n",
       "      <th>Numero multiplex</th>\n",
       "      <th>Coleccion</th>\n",
       "      <th>Gana Oscar</th>\n",
       "      <th>Disponibilidad 3D_SI</th>\n",
       "      <th>Genero_Comedia</th>\n",
       "      <th>Genero_Drama</th>\n",
       "      <th>Genero_Terror</th>\n",
       "    </tr>\n",
       "  </thead>\n",
       "  <tbody>\n",
       "    <tr>\n",
       "      <th>0</th>\n",
       "      <td>20.1264</td>\n",
       "      <td>59.62</td>\n",
       "      <td>0.462</td>\n",
       "      <td>36524.125</td>\n",
       "      <td>138.7</td>\n",
       "      <td>7.825</td>\n",
       "      <td>8.095</td>\n",
       "      <td>7.910</td>\n",
       "      <td>7.995</td>\n",
       "      <td>7.94</td>\n",
       "      <td>...</td>\n",
       "      <td>109.60</td>\n",
       "      <td>223.840</td>\n",
       "      <td>23</td>\n",
       "      <td>494</td>\n",
       "      <td>48000</td>\n",
       "      <td>1</td>\n",
       "      <td>1</td>\n",
       "      <td>0</td>\n",
       "      <td>0</td>\n",
       "      <td>1</td>\n",
       "    </tr>\n",
       "    <tr>\n",
       "      <th>1</th>\n",
       "      <td>20.5462</td>\n",
       "      <td>69.14</td>\n",
       "      <td>0.531</td>\n",
       "      <td>35668.655</td>\n",
       "      <td>152.4</td>\n",
       "      <td>7.505</td>\n",
       "      <td>7.650</td>\n",
       "      <td>7.440</td>\n",
       "      <td>7.470</td>\n",
       "      <td>7.44</td>\n",
       "      <td>...</td>\n",
       "      <td>146.64</td>\n",
       "      <td>243.456</td>\n",
       "      <td>42</td>\n",
       "      <td>462</td>\n",
       "      <td>43200</td>\n",
       "      <td>0</td>\n",
       "      <td>0</td>\n",
       "      <td>0</td>\n",
       "      <td>1</td>\n",
       "      <td>0</td>\n",
       "    </tr>\n",
       "    <tr>\n",
       "      <th>2</th>\n",
       "      <td>20.5458</td>\n",
       "      <td>69.14</td>\n",
       "      <td>0.531</td>\n",
       "      <td>39912.675</td>\n",
       "      <td>134.6</td>\n",
       "      <td>7.485</td>\n",
       "      <td>7.570</td>\n",
       "      <td>7.495</td>\n",
       "      <td>7.515</td>\n",
       "      <td>7.44</td>\n",
       "      <td>...</td>\n",
       "      <td>147.88</td>\n",
       "      <td>2022.400</td>\n",
       "      <td>38</td>\n",
       "      <td>458</td>\n",
       "      <td>69400</td>\n",
       "      <td>1</td>\n",
       "      <td>0</td>\n",
       "      <td>1</td>\n",
       "      <td>0</td>\n",
       "      <td>0</td>\n",
       "    </tr>\n",
       "    <tr>\n",
       "      <th>3</th>\n",
       "      <td>20.6474</td>\n",
       "      <td>59.36</td>\n",
       "      <td>0.542</td>\n",
       "      <td>38873.890</td>\n",
       "      <td>119.3</td>\n",
       "      <td>6.895</td>\n",
       "      <td>7.035</td>\n",
       "      <td>6.920</td>\n",
       "      <td>7.020</td>\n",
       "      <td>8.26</td>\n",
       "      <td>...</td>\n",
       "      <td>185.36</td>\n",
       "      <td>225.344</td>\n",
       "      <td>45</td>\n",
       "      <td>472</td>\n",
       "      <td>66800</td>\n",
       "      <td>1</td>\n",
       "      <td>1</td>\n",
       "      <td>0</td>\n",
       "      <td>1</td>\n",
       "      <td>0</td>\n",
       "    </tr>\n",
       "    <tr>\n",
       "      <th>4</th>\n",
       "      <td>21.3810</td>\n",
       "      <td>59.36</td>\n",
       "      <td>0.542</td>\n",
       "      <td>39701.585</td>\n",
       "      <td>127.7</td>\n",
       "      <td>6.920</td>\n",
       "      <td>7.070</td>\n",
       "      <td>6.815</td>\n",
       "      <td>7.070</td>\n",
       "      <td>8.26</td>\n",
       "      <td>...</td>\n",
       "      <td>176.48</td>\n",
       "      <td>225.792</td>\n",
       "      <td>55</td>\n",
       "      <td>395</td>\n",
       "      <td>72400</td>\n",
       "      <td>1</td>\n",
       "      <td>0</td>\n",
       "      <td>0</td>\n",
       "      <td>1</td>\n",
       "      <td>0</td>\n",
       "    </tr>\n",
       "  </tbody>\n",
       "</table>\n",
       "<p>5 rows × 21 columns</p>\n",
       "</div>"
      ],
      "text/plain": [
       "   Costo de marketing  Costo de produccion  Multiplex cubiertos  Ganancias  \\\n",
       "0             20.1264                59.62                0.462  36524.125   \n",
       "1             20.5462                69.14                0.531  35668.655   \n",
       "2             20.5458                69.14                0.531  39912.675   \n",
       "3             20.6474                59.36                0.542  38873.890   \n",
       "4             21.3810                59.36                0.542  39701.585   \n",
       "\n",
       "   Duracion  Rating actor principal  Rating actriz principal  Rating director  \\\n",
       "0     138.7                   7.825                    8.095            7.910   \n",
       "1     152.4                   7.505                    7.650            7.440   \n",
       "2     134.6                   7.485                    7.570            7.495   \n",
       "3     119.3                   6.895                    7.035            6.920   \n",
       "4     127.7                   6.920                    7.070            6.815   \n",
       "\n",
       "   Rating productor  Rating criticos  ...  Tiempo realizacion  \\\n",
       "0             7.995             7.94  ...              109.60   \n",
       "1             7.470             7.44  ...              146.64   \n",
       "2             7.515             7.44  ...              147.88   \n",
       "3             7.020             8.26  ...              185.36   \n",
       "4             7.070             8.26  ...              176.48   \n",
       "\n",
       "   Hashtags Twitter  Promedio edad actores  Numero multiplex  Coleccion  \\\n",
       "0           223.840                     23               494      48000   \n",
       "1           243.456                     42               462      43200   \n",
       "2          2022.400                     38               458      69400   \n",
       "3           225.344                     45               472      66800   \n",
       "4           225.792                     55               395      72400   \n",
       "\n",
       "   Gana Oscar  Disponibilidad 3D_SI  Genero_Comedia  Genero_Drama  \\\n",
       "0           1                     1               0             0   \n",
       "1           0                     0               0             1   \n",
       "2           1                     0               1             0   \n",
       "3           1                     1               0             1   \n",
       "4           1                     0               0             1   \n",
       "\n",
       "   Genero_Terror  \n",
       "0              1  \n",
       "1              0  \n",
       "2              0  \n",
       "3              0  \n",
       "4              0  \n",
       "\n",
       "[5 rows x 21 columns]"
      ]
     },
     "execution_count": 142,
     "metadata": {},
     "output_type": "execute_result"
    }
   ],
   "source": [
    "df.head()"
   ]
  },
  {
   "cell_type": "markdown",
   "id": "dd04ee05-2712-4aa5-90e7-7afd58cc8ae6",
   "metadata": {},
   "source": [
    "### División de la variable predicha y el vector de características"
   ]
  },
  {
   "cell_type": "code",
   "execution_count": 143,
   "id": "5bc8716c-2bcc-4e09-91c4-2f6aa1bc4139",
   "metadata": {},
   "outputs": [],
   "source": [
    "X = df.loc[:, df.columns!= 'Gana Oscar']"
   ]
  },
  {
   "cell_type": "code",
   "execution_count": 144,
   "id": "0aa33916-5c63-4e44-9f33-06426c7b409b",
   "metadata": {},
   "outputs": [
    {
     "data": {
      "text/html": [
       "<div>\n",
       "<style scoped>\n",
       "    .dataframe tbody tr th:only-of-type {\n",
       "        vertical-align: middle;\n",
       "    }\n",
       "\n",
       "    .dataframe tbody tr th {\n",
       "        vertical-align: top;\n",
       "    }\n",
       "\n",
       "    .dataframe thead th {\n",
       "        text-align: right;\n",
       "    }\n",
       "</style>\n",
       "<table border=\"1\" class=\"dataframe\">\n",
       "  <thead>\n",
       "    <tr style=\"text-align: right;\">\n",
       "      <th></th>\n",
       "      <th>Costo de marketing</th>\n",
       "      <th>Costo de produccion</th>\n",
       "      <th>Multiplex cubiertos</th>\n",
       "      <th>Ganancias</th>\n",
       "      <th>Duracion</th>\n",
       "      <th>Rating actor principal</th>\n",
       "      <th>Rating actriz principal</th>\n",
       "      <th>Rating director</th>\n",
       "      <th>Rating productor</th>\n",
       "      <th>Rating criticos</th>\n",
       "      <th>Visualizaciones trailers</th>\n",
       "      <th>Tiempo realizacion</th>\n",
       "      <th>Hashtags Twitter</th>\n",
       "      <th>Promedio edad actores</th>\n",
       "      <th>Numero multiplex</th>\n",
       "      <th>Coleccion</th>\n",
       "      <th>Disponibilidad 3D_SI</th>\n",
       "      <th>Genero_Comedia</th>\n",
       "      <th>Genero_Drama</th>\n",
       "      <th>Genero_Terror</th>\n",
       "    </tr>\n",
       "  </thead>\n",
       "  <tbody>\n",
       "    <tr>\n",
       "      <th>0</th>\n",
       "      <td>20.1264</td>\n",
       "      <td>59.62</td>\n",
       "      <td>0.462</td>\n",
       "      <td>36524.125</td>\n",
       "      <td>138.7</td>\n",
       "      <td>7.825</td>\n",
       "      <td>8.095</td>\n",
       "      <td>7.910</td>\n",
       "      <td>7.995</td>\n",
       "      <td>7.94</td>\n",
       "      <td>527367</td>\n",
       "      <td>109.60</td>\n",
       "      <td>223.840</td>\n",
       "      <td>23</td>\n",
       "      <td>494</td>\n",
       "      <td>48000</td>\n",
       "      <td>1</td>\n",
       "      <td>0</td>\n",
       "      <td>0</td>\n",
       "      <td>1</td>\n",
       "    </tr>\n",
       "    <tr>\n",
       "      <th>1</th>\n",
       "      <td>20.5462</td>\n",
       "      <td>69.14</td>\n",
       "      <td>0.531</td>\n",
       "      <td>35668.655</td>\n",
       "      <td>152.4</td>\n",
       "      <td>7.505</td>\n",
       "      <td>7.650</td>\n",
       "      <td>7.440</td>\n",
       "      <td>7.470</td>\n",
       "      <td>7.44</td>\n",
       "      <td>494055</td>\n",
       "      <td>146.64</td>\n",
       "      <td>243.456</td>\n",
       "      <td>42</td>\n",
       "      <td>462</td>\n",
       "      <td>43200</td>\n",
       "      <td>0</td>\n",
       "      <td>0</td>\n",
       "      <td>1</td>\n",
       "      <td>0</td>\n",
       "    </tr>\n",
       "    <tr>\n",
       "      <th>2</th>\n",
       "      <td>20.5458</td>\n",
       "      <td>69.14</td>\n",
       "      <td>0.531</td>\n",
       "      <td>39912.675</td>\n",
       "      <td>134.6</td>\n",
       "      <td>7.485</td>\n",
       "      <td>7.570</td>\n",
       "      <td>7.495</td>\n",
       "      <td>7.515</td>\n",
       "      <td>7.44</td>\n",
       "      <td>547051</td>\n",
       "      <td>147.88</td>\n",
       "      <td>2022.400</td>\n",
       "      <td>38</td>\n",
       "      <td>458</td>\n",
       "      <td>69400</td>\n",
       "      <td>0</td>\n",
       "      <td>1</td>\n",
       "      <td>0</td>\n",
       "      <td>0</td>\n",
       "    </tr>\n",
       "    <tr>\n",
       "      <th>3</th>\n",
       "      <td>20.6474</td>\n",
       "      <td>59.36</td>\n",
       "      <td>0.542</td>\n",
       "      <td>38873.890</td>\n",
       "      <td>119.3</td>\n",
       "      <td>6.895</td>\n",
       "      <td>7.035</td>\n",
       "      <td>6.920</td>\n",
       "      <td>7.020</td>\n",
       "      <td>8.26</td>\n",
       "      <td>516279</td>\n",
       "      <td>185.36</td>\n",
       "      <td>225.344</td>\n",
       "      <td>45</td>\n",
       "      <td>472</td>\n",
       "      <td>66800</td>\n",
       "      <td>1</td>\n",
       "      <td>0</td>\n",
       "      <td>1</td>\n",
       "      <td>0</td>\n",
       "    </tr>\n",
       "    <tr>\n",
       "      <th>4</th>\n",
       "      <td>21.3810</td>\n",
       "      <td>59.36</td>\n",
       "      <td>0.542</td>\n",
       "      <td>39701.585</td>\n",
       "      <td>127.7</td>\n",
       "      <td>6.920</td>\n",
       "      <td>7.070</td>\n",
       "      <td>6.815</td>\n",
       "      <td>7.070</td>\n",
       "      <td>8.26</td>\n",
       "      <td>531448</td>\n",
       "      <td>176.48</td>\n",
       "      <td>225.792</td>\n",
       "      <td>55</td>\n",
       "      <td>395</td>\n",
       "      <td>72400</td>\n",
       "      <td>0</td>\n",
       "      <td>0</td>\n",
       "      <td>1</td>\n",
       "      <td>0</td>\n",
       "    </tr>\n",
       "  </tbody>\n",
       "</table>\n",
       "</div>"
      ],
      "text/plain": [
       "   Costo de marketing  Costo de produccion  Multiplex cubiertos  Ganancias  \\\n",
       "0             20.1264                59.62                0.462  36524.125   \n",
       "1             20.5462                69.14                0.531  35668.655   \n",
       "2             20.5458                69.14                0.531  39912.675   \n",
       "3             20.6474                59.36                0.542  38873.890   \n",
       "4             21.3810                59.36                0.542  39701.585   \n",
       "\n",
       "   Duracion  Rating actor principal  Rating actriz principal  Rating director  \\\n",
       "0     138.7                   7.825                    8.095            7.910   \n",
       "1     152.4                   7.505                    7.650            7.440   \n",
       "2     134.6                   7.485                    7.570            7.495   \n",
       "3     119.3                   6.895                    7.035            6.920   \n",
       "4     127.7                   6.920                    7.070            6.815   \n",
       "\n",
       "   Rating productor  Rating criticos  Visualizaciones trailers  \\\n",
       "0             7.995             7.94                    527367   \n",
       "1             7.470             7.44                    494055   \n",
       "2             7.515             7.44                    547051   \n",
       "3             7.020             8.26                    516279   \n",
       "4             7.070             8.26                    531448   \n",
       "\n",
       "   Tiempo realizacion  Hashtags Twitter  Promedio edad actores  \\\n",
       "0              109.60           223.840                     23   \n",
       "1              146.64           243.456                     42   \n",
       "2              147.88          2022.400                     38   \n",
       "3              185.36           225.344                     45   \n",
       "4              176.48           225.792                     55   \n",
       "\n",
       "   Numero multiplex  Coleccion  Disponibilidad 3D_SI  Genero_Comedia  \\\n",
       "0               494      48000                     1               0   \n",
       "1               462      43200                     0               0   \n",
       "2               458      69400                     0               1   \n",
       "3               472      66800                     1               0   \n",
       "4               395      72400                     0               0   \n",
       "\n",
       "   Genero_Drama  Genero_Terror  \n",
       "0             0              1  \n",
       "1             1              0  \n",
       "2             0              0  \n",
       "3             1              0  \n",
       "4             1              0  "
      ]
     },
     "execution_count": 144,
     "metadata": {},
     "output_type": "execute_result"
    }
   ],
   "source": [
    "X.head()"
   ]
  },
  {
   "cell_type": "code",
   "execution_count": 145,
   "id": "5d03ccc6-704e-4e90-bfb6-61426f7c980a",
   "metadata": {},
   "outputs": [
    {
     "data": {
      "text/plain": [
       "(506, 20)"
      ]
     },
     "execution_count": 145,
     "metadata": {},
     "output_type": "execute_result"
    }
   ],
   "source": [
    "X.shape"
   ]
  },
  {
   "cell_type": "code",
   "execution_count": 146,
   "id": "809ee81c-8ba9-4c49-aeb6-0ad9c0fe9032",
   "metadata": {},
   "outputs": [
    {
     "data": {
      "text/plain": [
       "pandas.core.series.Series"
      ]
     },
     "execution_count": 146,
     "metadata": {},
     "output_type": "execute_result"
    }
   ],
   "source": [
    "y = df['Gana Oscar']\n",
    "type(y)"
   ]
  },
  {
   "cell_type": "code",
   "execution_count": 147,
   "id": "0d26ff4d-0218-4bb1-9169-139b3fc52aeb",
   "metadata": {},
   "outputs": [
    {
     "data": {
      "text/plain": [
       "0    1\n",
       "1    0\n",
       "2    1\n",
       "3    1\n",
       "4    1\n",
       "Name: Gana Oscar, dtype: int64"
      ]
     },
     "execution_count": 147,
     "metadata": {},
     "output_type": "execute_result"
    }
   ],
   "source": [
    "y.head()"
   ]
  },
  {
   "cell_type": "code",
   "execution_count": 148,
   "id": "afc1b179-aa21-45c4-a05f-ced9714aa6d5",
   "metadata": {},
   "outputs": [
    {
     "data": {
      "text/plain": [
       "(506,)"
      ]
     },
     "execution_count": 148,
     "metadata": {},
     "output_type": "execute_result"
    }
   ],
   "source": [
    "y.shape"
   ]
  },
  {
   "cell_type": "markdown",
   "id": "094c34ab-bfc2-4e84-b9ec-6f945b5f6497",
   "metadata": {},
   "source": [
    "### Creación del conjunto de entrenamiento y validación"
   ]
  },
  {
   "cell_type": "code",
   "execution_count": 149,
   "id": "ed922ebe-b583-4328-aade-f30febf43c72",
   "metadata": {},
   "outputs": [],
   "source": [
    "from sklearn.model_selection import train_test_split"
   ]
  },
  {
   "cell_type": "code",
   "execution_count": 150,
   "id": "6c4a91d1-49c5-43f4-ac2a-fa3d4f9c5b1c",
   "metadata": {},
   "outputs": [],
   "source": [
    "X_train, X_test, y_train, y_test = train_test_split(X, y, test_size = 0.2, random_state = 0)"
   ]
  },
  {
   "cell_type": "code",
   "execution_count": 151,
   "id": "3351fa12-af06-4d03-8a57-2ce7aa1c85c0",
   "metadata": {},
   "outputs": [
    {
     "data": {
      "text/html": [
       "<div>\n",
       "<style scoped>\n",
       "    .dataframe tbody tr th:only-of-type {\n",
       "        vertical-align: middle;\n",
       "    }\n",
       "\n",
       "    .dataframe tbody tr th {\n",
       "        vertical-align: top;\n",
       "    }\n",
       "\n",
       "    .dataframe thead th {\n",
       "        text-align: right;\n",
       "    }\n",
       "</style>\n",
       "<table border=\"1\" class=\"dataframe\">\n",
       "  <thead>\n",
       "    <tr style=\"text-align: right;\">\n",
       "      <th></th>\n",
       "      <th>Costo de marketing</th>\n",
       "      <th>Costo de produccion</th>\n",
       "      <th>Multiplex cubiertos</th>\n",
       "      <th>Ganancias</th>\n",
       "      <th>Duracion</th>\n",
       "      <th>Rating actor principal</th>\n",
       "      <th>Rating actriz principal</th>\n",
       "      <th>Rating director</th>\n",
       "      <th>Rating productor</th>\n",
       "      <th>Rating criticos</th>\n",
       "      <th>Visualizaciones trailers</th>\n",
       "      <th>Tiempo realizacion</th>\n",
       "      <th>Hashtags Twitter</th>\n",
       "      <th>Promedio edad actores</th>\n",
       "      <th>Numero multiplex</th>\n",
       "      <th>Coleccion</th>\n",
       "      <th>Disponibilidad 3D_SI</th>\n",
       "      <th>Genero_Comedia</th>\n",
       "      <th>Genero_Drama</th>\n",
       "      <th>Genero_Terror</th>\n",
       "    </tr>\n",
       "  </thead>\n",
       "  <tbody>\n",
       "    <tr>\n",
       "      <th>220</th>\n",
       "      <td>27.1618</td>\n",
       "      <td>67.40</td>\n",
       "      <td>0.493</td>\n",
       "      <td>38612.805</td>\n",
       "      <td>162.0</td>\n",
       "      <td>8.485</td>\n",
       "      <td>8.640</td>\n",
       "      <td>8.485</td>\n",
       "      <td>8.670</td>\n",
       "      <td>8.52</td>\n",
       "      <td>480270</td>\n",
       "      <td>174.68</td>\n",
       "      <td>224.272</td>\n",
       "      <td>23</td>\n",
       "      <td>536</td>\n",
       "      <td>53400</td>\n",
       "      <td>0</td>\n",
       "      <td>0</td>\n",
       "      <td>0</td>\n",
       "      <td>1</td>\n",
       "    </tr>\n",
       "    <tr>\n",
       "      <th>71</th>\n",
       "      <td>23.1752</td>\n",
       "      <td>76.62</td>\n",
       "      <td>0.587</td>\n",
       "      <td>33113.355</td>\n",
       "      <td>91.0</td>\n",
       "      <td>7.280</td>\n",
       "      <td>7.400</td>\n",
       "      <td>7.290</td>\n",
       "      <td>7.455</td>\n",
       "      <td>8.16</td>\n",
       "      <td>491978</td>\n",
       "      <td>200.68</td>\n",
       "      <td>263.472</td>\n",
       "      <td>46</td>\n",
       "      <td>400</td>\n",
       "      <td>43400</td>\n",
       "      <td>0</td>\n",
       "      <td>0</td>\n",
       "      <td>0</td>\n",
       "      <td>0</td>\n",
       "    </tr>\n",
       "    <tr>\n",
       "      <th>240</th>\n",
       "      <td>22.2658</td>\n",
       "      <td>64.86</td>\n",
       "      <td>0.572</td>\n",
       "      <td>38312.835</td>\n",
       "      <td>127.8</td>\n",
       "      <td>6.755</td>\n",
       "      <td>6.935</td>\n",
       "      <td>6.800</td>\n",
       "      <td>6.840</td>\n",
       "      <td>8.68</td>\n",
       "      <td>470107</td>\n",
       "      <td>204.80</td>\n",
       "      <td>224.320</td>\n",
       "      <td>24</td>\n",
       "      <td>387</td>\n",
       "      <td>54000</td>\n",
       "      <td>1</td>\n",
       "      <td>1</td>\n",
       "      <td>0</td>\n",
       "      <td>0</td>\n",
       "    </tr>\n",
       "    <tr>\n",
       "      <th>6</th>\n",
       "      <td>21.7658</td>\n",
       "      <td>70.74</td>\n",
       "      <td>0.476</td>\n",
       "      <td>33396.660</td>\n",
       "      <td>140.1</td>\n",
       "      <td>7.065</td>\n",
       "      <td>7.265</td>\n",
       "      <td>7.150</td>\n",
       "      <td>7.400</td>\n",
       "      <td>8.96</td>\n",
       "      <td>459241</td>\n",
       "      <td>139.16</td>\n",
       "      <td>243.664</td>\n",
       "      <td>41</td>\n",
       "      <td>522</td>\n",
       "      <td>45800</td>\n",
       "      <td>1</td>\n",
       "      <td>0</td>\n",
       "      <td>0</td>\n",
       "      <td>1</td>\n",
       "    </tr>\n",
       "    <tr>\n",
       "      <th>417</th>\n",
       "      <td>538.8120</td>\n",
       "      <td>91.20</td>\n",
       "      <td>0.321</td>\n",
       "      <td>29463.720</td>\n",
       "      <td>162.6</td>\n",
       "      <td>9.135</td>\n",
       "      <td>9.305</td>\n",
       "      <td>9.095</td>\n",
       "      <td>9.165</td>\n",
       "      <td>6.96</td>\n",
       "      <td>302776</td>\n",
       "      <td>172.16</td>\n",
       "      <td>301.664</td>\n",
       "      <td>60</td>\n",
       "      <td>589</td>\n",
       "      <td>20800</td>\n",
       "      <td>1</td>\n",
       "      <td>0</td>\n",
       "      <td>0</td>\n",
       "      <td>0</td>\n",
       "    </tr>\n",
       "  </tbody>\n",
       "</table>\n",
       "</div>"
      ],
      "text/plain": [
       "     Costo de marketing  Costo de produccion  Multiplex cubiertos  Ganancias  \\\n",
       "220             27.1618                67.40                0.493  38612.805   \n",
       "71              23.1752                76.62                0.587  33113.355   \n",
       "240             22.2658                64.86                0.572  38312.835   \n",
       "6               21.7658                70.74                0.476  33396.660   \n",
       "417            538.8120                91.20                0.321  29463.720   \n",
       "\n",
       "     Duracion  Rating actor principal  Rating actriz principal  \\\n",
       "220     162.0                   8.485                    8.640   \n",
       "71       91.0                   7.280                    7.400   \n",
       "240     127.8                   6.755                    6.935   \n",
       "6       140.1                   7.065                    7.265   \n",
       "417     162.6                   9.135                    9.305   \n",
       "\n",
       "     Rating director  Rating productor  Rating criticos  \\\n",
       "220            8.485             8.670             8.52   \n",
       "71             7.290             7.455             8.16   \n",
       "240            6.800             6.840             8.68   \n",
       "6              7.150             7.400             8.96   \n",
       "417            9.095             9.165             6.96   \n",
       "\n",
       "     Visualizaciones trailers  Tiempo realizacion  Hashtags Twitter  \\\n",
       "220                    480270              174.68           224.272   \n",
       "71                     491978              200.68           263.472   \n",
       "240                    470107              204.80           224.320   \n",
       "6                      459241              139.16           243.664   \n",
       "417                    302776              172.16           301.664   \n",
       "\n",
       "     Promedio edad actores  Numero multiplex  Coleccion  Disponibilidad 3D_SI  \\\n",
       "220                     23               536      53400                     0   \n",
       "71                      46               400      43400                     0   \n",
       "240                     24               387      54000                     1   \n",
       "6                       41               522      45800                     1   \n",
       "417                     60               589      20800                     1   \n",
       "\n",
       "     Genero_Comedia  Genero_Drama  Genero_Terror  \n",
       "220               0             0              1  \n",
       "71                0             0              0  \n",
       "240               1             0              0  \n",
       "6                 0             0              1  \n",
       "417               0             0              0  "
      ]
     },
     "execution_count": 151,
     "metadata": {},
     "output_type": "execute_result"
    }
   ],
   "source": [
    "X_train.head()"
   ]
  },
  {
   "cell_type": "code",
   "execution_count": 152,
   "id": "d513ca4c-8b23-4664-9b6e-56d3c743adbf",
   "metadata": {},
   "outputs": [
    {
     "data": {
      "text/plain": [
       "(404, 20)"
      ]
     },
     "execution_count": 152,
     "metadata": {},
     "output_type": "execute_result"
    }
   ],
   "source": [
    "X_train.shape"
   ]
  },
  {
   "cell_type": "code",
   "execution_count": 153,
   "id": "8f484ddf-0151-4680-9441-4b5017e02cbc",
   "metadata": {},
   "outputs": [
    {
     "data": {
      "text/plain": [
       "(102, 20)"
      ]
     },
     "execution_count": 153,
     "metadata": {},
     "output_type": "execute_result"
    }
   ],
   "source": [
    "X_test.shape"
   ]
  },
  {
   "cell_type": "markdown",
   "id": "6890cb38-e0c7-48d7-b29e-eb983037a9fb",
   "metadata": {},
   "source": [
    "### Entrenamiento del árbol de regresión"
   ]
  },
  {
   "cell_type": "code",
   "execution_count": 154,
   "id": "7c304e3b-64a1-44fd-ac49-3cda9153704c",
   "metadata": {},
   "outputs": [],
   "source": [
    "from sklearn import tree"
   ]
  },
  {
   "cell_type": "code",
   "execution_count": 155,
   "id": "1c1a7ad4-b84a-4d2a-aa74-ed964986366b",
   "metadata": {},
   "outputs": [],
   "source": [
    "arbolclas = tree.DecisionTreeClassifier(max_depth = 3)"
   ]
  },
  {
   "cell_type": "code",
   "execution_count": 156,
   "id": "48fa4dcc-fd68-463a-96f8-ef9a959444f9",
   "metadata": {},
   "outputs": [
    {
     "data": {
      "text/plain": [
       "DecisionTreeClassifier(max_depth=3)"
      ]
     },
     "execution_count": 156,
     "metadata": {},
     "output_type": "execute_result"
    }
   ],
   "source": [
    "arbolclas.fit(X_train, y_train)"
   ]
  },
  {
   "cell_type": "markdown",
   "id": "f37df067-fb69-4338-9151-47b558a77487",
   "metadata": {},
   "source": [
    "### Predicción en el conjunto de entrenamiento y validación"
   ]
  },
  {
   "cell_type": "code",
   "execution_count": 157,
   "id": "60c4458b-009b-48d8-958c-d00c347f01dd",
   "metadata": {
    "tags": []
   },
   "outputs": [],
   "source": [
    "y_train_pred = arbolclas.predict(X_train)\n",
    "y_test_pred = arbolclas.predict(X_test)"
   ]
  },
  {
   "cell_type": "code",
   "execution_count": 158,
   "id": "547cf157-ceef-46ea-ba49-6caaf522a012",
   "metadata": {
    "tags": []
   },
   "outputs": [
    {
     "data": {
      "text/plain": [
       "array([0, 1, 0, 1, 0, 0, 0, 0, 1, 0, 0, 0, 0, 1, 1, 0, 0, 1, 0, 0, 0, 0,\n",
       "       0, 0, 0, 1, 0, 0, 1, 0, 0, 0, 0, 0, 0, 0, 0, 1, 0, 0, 0, 0, 0, 1,\n",
       "       0, 0, 0, 0, 1, 0, 0, 0, 0, 1, 0, 0, 0, 1, 0, 0, 1, 0, 1, 0, 0, 0,\n",
       "       0, 0, 0, 0, 0, 0, 0, 0, 0, 1, 1, 0, 0, 0, 0, 0, 0, 1, 1, 0, 0, 0,\n",
       "       0, 0, 0, 0, 1, 0, 0, 0, 1, 1, 0, 0, 0, 0], dtype=int64)"
      ]
     },
     "execution_count": 158,
     "metadata": {},
     "output_type": "execute_result"
    }
   ],
   "source": [
    "y_test_pred"
   ]
  },
  {
   "cell_type": "markdown",
   "id": "dd625be9-85ea-4bba-82f4-ba2c805bcf31",
   "metadata": {},
   "source": [
    "### Métricas del modelo"
   ]
  },
  {
   "cell_type": "code",
   "execution_count": 159,
   "id": "2df7c13c-5ef8-489c-889b-e50e84837205",
   "metadata": {},
   "outputs": [],
   "source": [
    "from sklearn.metrics import confusion_matrix, accuracy_score, roc_auc_score\n",
    "from mlxtend.plotting import plot_confusion_matrix"
   ]
  },
  {
   "cell_type": "code",
   "execution_count": 160,
   "id": "c9db784c-e6cd-407c-ad09-ac1df15c20c6",
   "metadata": {},
   "outputs": [
    {
     "data": {
      "text/plain": [
       "array([[39,  5],\n",
       "       [41, 17]], dtype=int64)"
      ]
     },
     "execution_count": 160,
     "metadata": {},
     "output_type": "execute_result"
    }
   ],
   "source": [
    "confusion_matrix(y_test, y_test_pred)"
   ]
  },
  {
   "cell_type": "code",
   "execution_count": 161,
   "id": "5e2034e9-5baf-4dd3-b5ab-7117aa4e245c",
   "metadata": {},
   "outputs": [
    {
     "data": {
      "image/png": "[encoded data removed]",
      "text/plain": [
       "<Figure size 432x432 with 1 Axes>"
      ]
     },
     "metadata": {
      "needs_background": "light"
     },
     "output_type": "display_data"
    }
   ],
   "source": [
    "plot_confusion_matrix(conf_mat = confusion_matrix(y_train, y_train_pred), figsize=(6,6), show_normed=False)\n",
    "plt.tight_layout(pad = 10)"
   ]
  },
  {
   "cell_type": "code",
   "execution_count": 162,
   "id": "5b23b68a-67e6-40eb-86b7-79a0e28a5205",
   "metadata": {},
   "outputs": [
    {
     "data": {
      "image/png": "[encoded data removed]",
      "text/plain": [
       "<Figure size 432x432 with 1 Axes>"
      ]
     },
     "metadata": {
      "needs_background": "light"
     },
     "output_type": "display_data"
    }
   ],
   "source": [
    "plot_confusion_matrix(conf_mat = confusion_matrix(y_test, y_test_pred), figsize=(6,6), show_normed=False)\n",
    "plt.tight_layout(pad = 10)"
   ]
  },
  {
   "cell_type": "code",
   "execution_count": 163,
   "id": "ec07cbc6-320a-48e9-b134-5c4d0edca22d",
   "metadata": {},
   "outputs": [
    {
     "data": {
      "text/plain": [
       "0.5490196078431373"
      ]
     },
     "execution_count": 163,
     "metadata": {},
     "output_type": "execute_result"
    }
   ],
   "source": [
    "accuracy_score(y_test, y_test_pred)"
   ]
  },
  {
   "cell_type": "code",
   "execution_count": 164,
   "id": "7c630a79-8e93-4b2c-9f5d-e70c80bd6eac",
   "metadata": {},
   "outputs": [
    {
     "data": {
      "text/plain": [
       "0.5897335423197492"
      ]
     },
     "execution_count": 164,
     "metadata": {},
     "output_type": "execute_result"
    }
   ],
   "source": [
    "roc_auc_score(y_test, y_test_pred)"
   ]
  },
  {
   "cell_type": "markdown",
   "id": "bbd94098-66f8-4c14-96be-04fbcbbbd8b8",
   "metadata": {},
   "source": [
    "### Gráficar árbol de regresión"
   ]
  },
  {
   "cell_type": "code",
   "execution_count": 165,
   "id": "770b4859-0211-49aa-91f1-0d6a8aa35e44",
   "metadata": {},
   "outputs": [],
   "source": [
    "datos_graf = tree.export_graphviz(arbolclas, out_file = None, feature_names = X_train.columns, filled = True)"
   ]
  },
  {
   "cell_type": "code",
   "execution_count": 166,
   "id": "f8c09c19-0719-416d-9151-05cbd4e6b8d8",
   "metadata": {
    "tags": []
   },
   "outputs": [],
   "source": [
    "from IPython.display import Image"
   ]
  },
  {
   "cell_type": "code",
   "execution_count": 167,
   "id": "eb05b00c-782c-40ad-9a52-d5f2639864a9",
   "metadata": {},
   "outputs": [],
   "source": [
    "import pydotplus"
   ]
  },
  {
   "cell_type": "code",
   "execution_count": 168,
   "id": "d3e364da-db4f-4831-8a67-7aa8a393392f",
   "metadata": {},
   "outputs": [
    {
     "data": {
      "image/png": "[encoded data removed]",
      "text/plain": [
       "<IPython.core.display.Image object>"
      ]
     },
     "execution_count": 168,
     "metadata": {},
     "output_type": "execute_result"
    }
   ],
   "source": [
    "graph = pydotplus.graph_from_dot_data(datos_graf)\n",
    "Image(graph.create_png())\n",
    "#graph.write_png('arboloriginalclass.png') # Si se desea guardar el árbol"
   ]
  },
  {
   "cell_type": "markdown",
   "id": "0eb84de2-1e49-4495-9840-e73e8c976174",
   "metadata": {},
   "source": [
    "### Controlando el crecimiento del árbol"
   ]
  },
  {
   "cell_type": "markdown",
   "id": "8720954c-4f79-41e9-9f4a-a12d7a72928a",
   "metadata": {},
   "source": [
    "#### Por el máximo nivel de crecimiento del árbol"
   ]
  },
  {
   "cell_type": "code",
   "execution_count": 169,
   "id": "79e83fca-715b-4d50-ba1f-ddb7bbe22371",
   "metadata": {},
   "outputs": [
    {
     "data": {
      "image/png": "[encoded data removed]",
      "text/plain": [
       "<IPython.core.display.Image object>"
      ]
     },
     "execution_count": 169,
     "metadata": {},
     "output_type": "execute_result"
    }
   ],
   "source": [
    "arbolclas1 = tree.DecisionTreeClassifier(max_depth = 4, min_samples_leaf = 20, min_samples_split = 15)\n",
    "arbolclas1.fit(X_train, y_train)\n",
    "datos_graf = tree.export_graphviz(arbolclas1, out_file = None, feature_names = X_train.columns, filled = True)\n",
    "graph1 = pydotplus.graph_from_dot_data(datos_graf)\n",
    "Image(graph1.create_png())"
   ]
  },
  {
   "cell_type": "code",
   "execution_count": null,
   "id": "d1a69f87-23bf-4615-b723-be795437a399",
   "metadata": {},
   "outputs": [],
   "source": []
  }
 ],
 "metadata": {
  "kernelspec": {
   "display_name": "Python 3",
   "language": "python",
   "name": "python3"
  },
  "language_info": {
   "codemirror_mode": {
    "name": "ipython",
    "version": 3
   },
   "file_extension": ".py",
   "mimetype": "text/x-python",
   "name": "python",
   "nbconvert_exporter": "python",
   "pygments_lexer": "ipython3",
   "version": "3.9.5"
  }
 },
 "nbformat": 4,
 "nbformat_minor": 5
}
