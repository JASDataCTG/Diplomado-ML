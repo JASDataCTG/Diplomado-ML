{
 "cells": [
  {
   "cell_type": "markdown",
   "id": "2240e915-0575-4eea-b86a-218e06807d98",
   "metadata": {},
   "source": [
    "# Aprendizaje supervisado - Árboles de decisión\n",
    "Los árboles de decisión, como todo algoritmo de aprendizaje automático supervisado, tienen como función la de predecir la variable respuesta en función de las covariables. Observe que estas covariables son el equivalente de las variables predictoras o variables independientes en las regresiones lineales o logísticas.\n",
    "\n",
    "### Concepto de árboles de decisión\n",
    "El aprendizaje por intermedio de árboles es, quizás, una de las técnicas más utilizadas para el aprendizaje inductivo, presenta una gran robustez ante datos con ruido (atípicos). Por lo general, las covariables y las variable respuesta son de tipo categórico pero se pueden presentar árboles con datos numéricos. El árbol se construyen basados en una serie de condiciones que pueden posteriormente mapearse a reglas de clasificación.\n",
    "\n",
    "Cuando se tiene una instancia nueva para clasificar, esta instancia se compara con las diferentes ramas y condiciones, que van del nodo raíz a las ramas, generadas en el árbol para poder lograr su clasificación.\n",
    "\n",
    "![Árbol de decisión](Modulo 3/)"
   ]
  }
 ],
 "metadata": {
  "kernelspec": {
   "display_name": "Python 3",
   "language": "python",
   "name": "python3"
  },
  "language_info": {
   "codemirror_mode": {
    "name": "ipython",
    "version": 3
   },
   "file_extension": ".py",
   "mimetype": "text/x-python",
   "name": "python",
   "nbconvert_exporter": "python",
   "pygments_lexer": "ipython3",
   "version": "3.9.5"
  }
 },
 "nbformat": 4,
 "nbformat_minor": 5
}
