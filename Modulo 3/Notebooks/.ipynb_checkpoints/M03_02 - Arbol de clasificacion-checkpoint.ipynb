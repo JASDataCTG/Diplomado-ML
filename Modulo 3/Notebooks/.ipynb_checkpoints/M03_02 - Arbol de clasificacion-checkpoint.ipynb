{
 "cells": [
  {
   "cell_type": "markdown",
   "id": "8844113a-b4e5-4a62-8760-a448d9eaa04b",
   "metadata": {},
   "source": [
    "# Aprendizaje supervisado - Árboles de clasificación\n",
    "![Árbol de clasificación](ilustracion_arb_clasi.png)"
   ]
  },
  {
   "cell_type": "markdown",
   "id": "33f1ee98-a2c3-4dfe-8969-f691d171f509",
   "metadata": {},
   "source": [
    "## Carga del conjunto de datos"
   ]
  },
  {
   "cell_type": "code",
   "execution_count": null,
   "id": "fa0dc844-a93a-4ee2-8a74-be17039c2cdb",
   "metadata": {},
   "outputs": [],
   "source": [
    "# Importar modulos para el tratamiento de los datos y visualizaciones\n",
    "import pandas as pd\n",
    "import numpy as np\n",
    "import seaborn as sns\n",
    "import matplotlib.pyplot as plt"
   ]
  },
  {
   "cell_type": "code",
   "execution_count": null,
   "id": "7b7feae1-df90-493c-bfc8-40efe7a87a04",
   "metadata": {},
   "outputs": [],
   "source": [
    "# Cargar los datos en un dataframe de Pandas\n",
    "url = 'https://raw.githubusercontent.com/JASDataCTG/Diplomado-ML/main/Modulo%203/Datasets/Movie_classificationesclas.csv'\n",
    "df = pd.read_csv(url, header = 0)"
   ]
  },
  {
   "cell_type": "code",
   "execution_count": null,
   "id": "890baec2-7ac0-4361-8f83-7a22a12f6eb1",
   "metadata": {},
   "outputs": [],
   "source": [
    "df.head()"
   ]
  },
  {
   "cell_type": "code",
   "execution_count": null,
   "id": "4ed416be-7573-4355-8e78-339f5bb8bf2e",
   "metadata": {},
   "outputs": [],
   "source": [
    "df.info()"
   ]
  },
  {
   "cell_type": "markdown",
   "id": "1cfa4800-6fec-4afa-bbc3-95cf92ed4613",
   "metadata": {},
   "source": [
    "### Imputación de valores faltantes"
   ]
  },
  {
   "cell_type": "code",
   "execution_count": null,
   "id": "7e1cc121-1e13-4672-8fc2-461248535c4b",
   "metadata": {},
   "outputs": [],
   "source": [
    "df['Tiempo realizacion'].mean()"
   ]
  },
  {
   "cell_type": "code",
   "execution_count": null,
   "id": "ccf6b722-d671-40b9-aa22-96eafce5822c",
   "metadata": {},
   "outputs": [],
   "source": [
    "# Imputar los valores faltantes con la media de los valores existentes\n",
    "df['Tiempo realizacion'].fillna(value = df['Tiempo realizacion'].mean(), inplace = True)"
   ]
  },
  {
   "cell_type": "code",
   "execution_count": null,
   "id": "91db0a1f-9840-4648-8ef4-7a682aa003ee",
   "metadata": {},
   "outputs": [],
   "source": [
    "df.head()"
   ]
  },
  {
   "cell_type": "code",
   "execution_count": null,
   "id": "162a4c13-6d59-4802-ab2b-9ee15538f6fa",
   "metadata": {},
   "outputs": [],
   "source": [
    "df.info()"
   ]
  },
  {
   "cell_type": "markdown",
   "id": "d3a6b073-d4b3-4f59-acd4-bb22350d3f52",
   "metadata": {},
   "source": [
    "### Creación de variables dummy"
   ]
  },
  {
   "cell_type": "code",
   "execution_count": null,
   "id": "814d1b90-9043-4bd8-a977-90131f913128",
   "metadata": {},
   "outputs": [],
   "source": [
    "list(dict.fromkeys(df['Genero']))"
   ]
  },
  {
   "cell_type": "code",
   "execution_count": null,
   "id": "a38bedc6-6f7d-4020-9ba8-8facf571ce03",
   "metadata": {},
   "outputs": [],
   "source": [
    "# Crear variables dummy eliminando una de ellas y el atributo que la origina\n",
    "df = pd.get_dummies(df, columns = ['Disponibilidad 3D', 'Genero'], drop_first = True)"
   ]
  },
  {
   "cell_type": "code",
   "execution_count": null,
   "id": "b54b7ab9-7450-4222-8759-19de9708f836",
   "metadata": {},
   "outputs": [],
   "source": [
    "df.head()"
   ]
  },
  {
   "cell_type": "markdown",
   "id": "dd04ee05-2712-4aa5-90e7-7afd58cc8ae6",
   "metadata": {},
   "source": [
    "### División en la variable predicha y el vector de características"
   ]
  },
  {
   "cell_type": "code",
   "execution_count": null,
   "id": "5bc8716c-2bcc-4e09-91c4-2f6aa1bc4139",
   "metadata": {},
   "outputs": [],
   "source": [
    "X = df.loc[:, df.columns!= 'Gana Oscar']"
   ]
  },
  {
   "cell_type": "code",
   "execution_count": null,
   "id": "0aa33916-5c63-4e44-9f33-06426c7b409b",
   "metadata": {},
   "outputs": [],
   "source": [
    "X.head()"
   ]
  },
  {
   "cell_type": "code",
   "execution_count": null,
   "id": "5d03ccc6-704e-4e90-bfb6-61426f7c980a",
   "metadata": {},
   "outputs": [],
   "source": [
    "X.shape"
   ]
  },
  {
   "cell_type": "code",
   "execution_count": null,
   "id": "809ee81c-8ba9-4c49-aeb6-0ad9c0fe9032",
   "metadata": {},
   "outputs": [],
   "source": [
    "y = df['Gana Oscar']"
   ]
  },
  {
   "cell_type": "code",
   "execution_count": null,
   "id": "0d26ff4d-0218-4bb1-9169-139b3fc52aeb",
   "metadata": {},
   "outputs": [],
   "source": [
    "y.head()"
   ]
  },
  {
   "cell_type": "code",
   "execution_count": null,
   "id": "afc1b179-aa21-45c4-a05f-ced9714aa6d5",
   "metadata": {},
   "outputs": [],
   "source": [
    "y.shape"
   ]
  },
  {
   "cell_type": "markdown",
   "id": "094c34ab-bfc2-4e84-b9ec-6f945b5f6497",
   "metadata": {},
   "source": [
    "### Creación del conjunto de entrenamiento y validación"
   ]
  },
  {
   "cell_type": "code",
   "execution_count": null,
   "id": "ed922ebe-b583-4328-aade-f30febf43c72",
   "metadata": {},
   "outputs": [],
   "source": [
    "# Cargar el modulo para dividir el conjunto de datos en conjunto de entrenamiento y validación\n",
    "from sklearn.model_selection import train_test_split"
   ]
  },
  {
   "cell_type": "code",
   "execution_count": null,
   "id": "6c4a91d1-49c5-43f4-ac2a-fa3d4f9c5b1c",
   "metadata": {},
   "outputs": [],
   "source": [
    "X_train, X_test, y_train, y_test = train_test_split(X, y, test_size = 0.2, random_state = 0)"
   ]
  },
  {
   "cell_type": "code",
   "execution_count": null,
   "id": "3351fa12-af06-4d03-8a57-2ce7aa1c85c0",
   "metadata": {},
   "outputs": [],
   "source": [
    "X_train.head()"
   ]
  },
  {
   "cell_type": "code",
   "execution_count": null,
   "id": "d513ca4c-8b23-4664-9b6e-56d3c743adbf",
   "metadata": {},
   "outputs": [],
   "source": [
    "X_train.shape"
   ]
  },
  {
   "cell_type": "code",
   "execution_count": null,
   "id": "8f484ddf-0151-4680-9441-4b5017e02cbc",
   "metadata": {},
   "outputs": [],
   "source": [
    "X_test.shape"
   ]
  },
  {
   "cell_type": "markdown",
   "id": "6890cb38-e0c7-48d7-b29e-eb983037a9fb",
   "metadata": {},
   "source": [
    "### Entrenamiento del árbol de regresión"
   ]
  },
  {
   "cell_type": "code",
   "execution_count": null,
   "id": "7c304e3b-64a1-44fd-ac49-3cda9153704c",
   "metadata": {},
   "outputs": [],
   "source": [
    "# Importar modulo para la creación de los árboles\n",
    "from sklearn import tree"
   ]
  },
  {
   "cell_type": "code",
   "execution_count": null,
   "id": "1c1a7ad4-b84a-4d2a-aa74-ed964986366b",
   "metadata": {},
   "outputs": [],
   "source": [
    "arbolclas = tree.DecisionTreeClassifier(max_depth = 3)"
   ]
  },
  {
   "cell_type": "code",
   "execution_count": null,
   "id": "48fa4dcc-fd68-463a-96f8-ef9a959444f9",
   "metadata": {},
   "outputs": [],
   "source": [
    "arbolclas.fit(X_train, y_train)"
   ]
  },
  {
   "cell_type": "markdown",
   "id": "f37df067-fb69-4338-9151-47b558a77487",
   "metadata": {},
   "source": [
    "### Predicción en el conjunto de entrenamiento y validación"
   ]
  },
  {
   "cell_type": "code",
   "execution_count": null,
   "id": "60c4458b-009b-48d8-958c-d00c347f01dd",
   "metadata": {
    "tags": []
   },
   "outputs": [],
   "source": [
    "y_train_pred = arbolclas.predict(X_train)\n",
    "y_test_pred = arbolclas.predict(X_test)"
   ]
  },
  {
   "cell_type": "code",
   "execution_count": null,
   "id": "547cf157-ceef-46ea-ba49-6caaf522a012",
   "metadata": {
    "tags": []
   },
   "outputs": [],
   "source": [
    "y_test_pred"
   ]
  },
  {
   "cell_type": "markdown",
   "id": "dd625be9-85ea-4bba-82f4-ba2c805bcf31",
   "metadata": {},
   "source": [
    "### Métricas del modelo"
   ]
  },
  {
   "cell_type": "code",
   "execution_count": null,
   "id": "2df7c13c-5ef8-489c-889b-e50e84837205",
   "metadata": {},
   "outputs": [],
   "source": [
    "from sklearn.metrics import confusion_matrix, accuracy_score, roc_auc_score\n",
    "from mlxtend.plotting import plot_confusion_matrix"
   ]
  },
  {
   "cell_type": "code",
   "execution_count": null,
   "id": "c9db784c-e6cd-407c-ad09-ac1df15c20c6",
   "metadata": {},
   "outputs": [],
   "source": [
    "confusion_matrix(y_test, y_test_pred)"
   ]
  },
  {
   "cell_type": "code",
   "execution_count": null,
   "id": "5e2034e9-5baf-4dd3-b5ab-7117aa4e245c",
   "metadata": {},
   "outputs": [],
   "source": [
    "plot_confusion_matrix(conf_mat = confusion_matrix(y_train, y_train_pred), figsize=(6,6), show_normed=False)\n",
    "plt.tight_layout(pad = 10)"
   ]
  },
  {
   "cell_type": "code",
   "execution_count": null,
   "id": "5b23b68a-67e6-40eb-86b7-79a0e28a5205",
   "metadata": {},
   "outputs": [],
   "source": [
    "plot_confusion_matrix(conf_mat = confusion_matrix(y_test, y_test_pred), figsize=(6,6), show_normed=False)\n",
    "plt.tight_layout(pad = 10)"
   ]
  },
  {
   "cell_type": "code",
   "execution_count": null,
   "id": "ec07cbc6-320a-48e9-b134-5c4d0edca22d",
   "metadata": {},
   "outputs": [],
   "source": [
    "accuracy_score(y_test, y_test_pred)"
   ]
  },
  {
   "cell_type": "code",
   "execution_count": null,
   "id": "7c630a79-8e93-4b2c-9f5d-e70c80bd6eac",
   "metadata": {},
   "outputs": [],
   "source": [
    "roc_auc_score(y_test, y_test_pred)"
   ]
  },
  {
   "cell_type": "markdown",
   "id": "bbd94098-66f8-4c14-96be-04fbcbbbd8b8",
   "metadata": {},
   "source": [
    "### Gráficar árbol de regresión"
   ]
  },
  {
   "cell_type": "code",
   "execution_count": null,
   "id": "770b4859-0211-49aa-91f1-0d6a8aa35e44",
   "metadata": {},
   "outputs": [],
   "source": [
    "# Utilizar el software graphviz para dar formato al árbol\n",
    "datos_graf = tree.export_graphviz(arbolclas, out_file = None, feature_names = X_train.columns,\n",
    "                                  filled = True, class_names = True)"
   ]
  },
  {
   "cell_type": "code",
   "execution_count": null,
   "id": "f8c09c19-0719-416d-9151-05cbd4e6b8d8",
   "metadata": {
    "tags": []
   },
   "outputs": [],
   "source": [
    "# Del shell interactivo Ipython importar las funciones para crear la imagen\n",
    "from IPython.display import Image"
   ]
  },
  {
   "cell_type": "code",
   "execution_count": null,
   "id": "eb05b00c-782c-40ad-9a52-d5f2639864a9",
   "metadata": {},
   "outputs": [],
   "source": [
    "# Importar modulo que genera la estructura del árbol y graficarlo de acuerdo a los datos\n",
    "import pydotplus"
   ]
  },
  {
   "cell_type": "code",
   "execution_count": null,
   "id": "d3e364da-db4f-4831-8a67-7aa8a393392f",
   "metadata": {},
   "outputs": [],
   "source": [
    "# Crear la imagen en formato png\n",
    "graph = pydotplus.graph_from_dot_data(datos_graf)\n",
    "Image(graph.create_png())\n",
    "#graph.write_png('arboloriginalclass.png') # Si se desea guardar el árbol"
   ]
  },
  {
   "cell_type": "markdown",
   "id": "0eb84de2-1e49-4495-9840-e73e8c976174",
   "metadata": {},
   "source": [
    "### Controlando el crecimiento del árbol"
   ]
  },
  {
   "cell_type": "code",
   "execution_count": null,
   "id": "79e83fca-715b-4d50-ba1f-ddb7bbe22371",
   "metadata": {},
   "outputs": [],
   "source": [
    "arbolclas1 = tree.DecisionTreeClassifier(max_depth = 4, min_samples_leaf = 20, min_samples_split = 15)\n",
    "arbolclas1.fit(X_train, y_train)\n",
    "datos_graf = tree.export_graphviz(arbolclas1, out_file = None, feature_names = X_train.columns,\n",
    "                                  filled = True, class_names = ['No Gana', 'ana'])\n",
    "graph1 = pydotplus.graph_from_dot_data(datos_graf)\n",
    "Image(graph1.create_png())"
   ]
  },
  {
   "cell_type": "markdown",
   "id": "6b91c90f-0d5f-4bf9-9442-cbd569845ed5",
   "metadata": {},
   "source": [
    "# Métodos de ensemble\n",
    "Los métodos de Bagging, Random Forests y Boosting permiten obtener una mejora sustancial en el rendimiento predictivo de los modelos basados en árboles, son modelos del tipo caja negra que son difíciles de interpretar o imposibles de interpretar en cierto nivel. Se conocen estos como métodos de ensemble o métodos combinados. Son aplicables a otros métodos de aprendizaje estadísticos para labores de regresión o clasificación.\n",
    "\n",
    "Los algoritmos ensamblados son algoritmos formados por algoritmos más simples. Estos algoritmos simples se unen para formar un algoritmo más potente.\n",
    "\n",
    "### Baggin\n",
    "El método de bagging o bootstrap aggregation es un procedimiento utilizado para reducir la varianza de un método de aprendizaje estadístico, usado muy frecuentemente con árboles de decisión.\n",
    "\n",
    "Para árboles de regresión la aplicación del bagging consiste en crear B árboles de regresión usando los B sets de entrenamiento generados por bootstrapping, promediando finalmente las predicciones resultantes. Estos árboles pueden crecer bastante ya que apenas se aplican restricciones, además de que no son podados. De esta manera cada árbol individual tiene alta varianza y poco bias, pero promediando los B árboles se contrarresta la varianza.\n",
    "\n",
    "Para árboles de clasificación dada una observación de validación, podemos obtener la clase predicha por cada uno de los B árboles, y escoger como predicción final para dicha observación la clase más común de entre las B predicciones (predicción de cada árbol).\n",
    "\n",
    "![Concepto de bootstrap](bootrap_concept.png)\n",
    "\n",
    "https://scikit-learn.org/stable/modules/generated/sklearn.ensemble.BaggingClassifier.html"
   ]
  },
  {
   "cell_type": "code",
   "execution_count": null,
   "id": "50042b68-66dd-41fb-9136-42ec6523fd6f",
   "metadata": {},
   "outputs": [],
   "source": [
    "# Importar modulo para Bagging\n",
    "from sklearn.ensemble import BaggingClassifier"
   ]
  },
  {
   "cell_type": "code",
   "execution_count": null,
   "id": "e6425a29-49b3-4efa-b2de-66bf9ecf32e1",
   "metadata": {},
   "outputs": [],
   "source": [
    "clas_bag = BaggingClassifier(base_estimator = arbolclas, n_estimators = 1000, bootstrap = True, n_jobs = -1, random_state = 123)"
   ]
  },
  {
   "cell_type": "code",
   "execution_count": null,
   "id": "5db9ce84-3510-47ef-b094-68beb9af372c",
   "metadata": {},
   "outputs": [],
   "source": [
    "clas_bag.fit(X_train, y_train)"
   ]
  },
  {
   "cell_type": "code",
   "execution_count": null,
   "id": "2a257000-19ed-48db-bbe9-1963802ac704",
   "metadata": {},
   "outputs": [],
   "source": [
    "confusion_matrix(y_test, clas_bag.predict(X_test))"
   ]
  },
  {
   "cell_type": "code",
   "execution_count": null,
   "id": "d37d2b74-8384-401b-bb16-43c41e8e22a6",
   "metadata": {},
   "outputs": [],
   "source": [
    "accuracy_score(y_test, clas_bag.predict(X_test))"
   ]
  },
  {
   "cell_type": "markdown",
   "id": "c2aa4b41-2ef2-4326-a804-15b5f09e3122",
   "metadata": {},
   "source": [
    "### Random Forest\n",
    "Todos los árboles generados por Bagging usarán un predictor muy influyente en la primera ramificación, por lo que serán similares unos a otros, y las predicciones entre ellos estarán altamente correlacionadas, por lo tanto, la aplicación de Bagging promediando valores correlacionados no consigue una reducción sustancial de la varianza con respecto a un solo árbol.\n",
    "\n",
    "El método de Random Forests proporciona una mejora a los árboles combinados por Bagging en cuanto a que los decorrelaciona, teniendo en cuenta solo un subgrupo de predictores en cada división. Se construyen un número de árboles de decisión a partir de pseudo-muestras generadas por bootstrapping. Esta vez, se escogen de entre todos los $p$ predictores una muestra aleatoria de m predictores como candidatos antes de cada división, generalmente $m=\\sqrt{p}$ (si m=p, bagging y random forests darían resultados equivalentes).\n",
    "\n",
    "https://scikit-learn.org/stable/modules/generated/sklearn.ensemble.RandomForestClassifier.html?highlight=randomforestclassifier#sklearn.ensemble.RandomForestClassifier"
   ]
  },
  {
   "cell_type": "code",
   "execution_count": null,
   "id": "91b5c13c-b3ef-436b-ab98-635f1b046060",
   "metadata": {},
   "outputs": [],
   "source": [
    "from sklearn.ensemble import RandomForestClassifier"
   ]
  },
  {
   "cell_type": "code",
   "execution_count": null,
   "id": "f980a938-e522-4adb-86ae-41dfc0a876e9",
   "metadata": {},
   "outputs": [],
   "source": [
    "clas_rf = RandomForestClassifier(n_estimators = 1000, n_jobs = -1, random_state = 123)"
   ]
  },
  {
   "cell_type": "code",
   "execution_count": null,
   "id": "71688856-d075-4cb2-94d2-94bcb1ae8ae4",
   "metadata": {},
   "outputs": [],
   "source": [
    "clas_rf.fit(X_train, y_train)"
   ]
  },
  {
   "cell_type": "code",
   "execution_count": null,
   "id": "6f2ea0b4-72ca-4eeb-9b01-cad4aed54eb3",
   "metadata": {},
   "outputs": [],
   "source": [
    "confusion_matrix(y_test, clas_rf.predict(X_test))"
   ]
  },
  {
   "cell_type": "code",
   "execution_count": null,
   "id": "c0dc6d34-32d3-4734-878f-ed5055794409",
   "metadata": {},
   "outputs": [],
   "source": [
    "accuracy_score(y_test, clas_rf.predict(X_test))"
   ]
  },
  {
   "cell_type": "markdown",
   "id": "234328c3-6230-47cd-b6eb-da1153f85095",
   "metadata": {},
   "source": [
    "#### Grid Search\n",
    "https://scikit-learn.org/stable/modules/generated/sklearn.model_selection.GridSearchCV.html?highlight=gridsearchcv#sklearn.model_selection.GridSearchCV"
   ]
  },
  {
   "cell_type": "code",
   "execution_count": null,
   "id": "3a254f0b-d245-4b33-bf5b-ce7edb613a00",
   "metadata": {},
   "outputs": [],
   "source": [
    "# Importar GridSearch para la prueba y elección de mejores estimaciones\n",
    "from sklearn.model_selection import GridSearchCV"
   ]
  },
  {
   "cell_type": "code",
   "execution_count": null,
   "id": "0129fb3a-1c76-40fa-8237-29041074e7b4",
   "metadata": {},
   "outputs": [],
   "source": [
    "parametros = {'max_features' : [4, 5, 6, 7, 8, 9, 10], 'min_samples_split' : [2, 3, 10]}"
   ]
  },
  {
   "cell_type": "code",
   "execution_count": null,
   "id": "6cad5a10-ec6a-481e-97fe-b7be53fa5d67",
   "metadata": {},
   "outputs": [],
   "source": [
    "pru_param = GridSearchCV(clas_rf, parametros, n_jobs = -1, cv = 10, scoring = 'accuracy')"
   ]
  },
  {
   "cell_type": "code",
   "execution_count": null,
   "id": "2168ddfe-2f77-4d65-a43e-a4131a0dd5db",
   "metadata": {},
   "outputs": [],
   "source": [
    "pru_param.fit(X_train, y_train)"
   ]
  },
  {
   "cell_type": "code",
   "execution_count": null,
   "id": "a1823c74-5342-44f2-a090-9a0310710d11",
   "metadata": {},
   "outputs": [],
   "source": [
    "pru_param.best_params_"
   ]
  },
  {
   "cell_type": "code",
   "execution_count": null,
   "id": "94a8ed0f-0dc9-4e3e-843c-770c7084b6a2",
   "metadata": {},
   "outputs": [],
   "source": [
    "best_rf = pru_param.best_estimator_"
   ]
  },
  {
   "cell_type": "code",
   "execution_count": null,
   "id": "5527f893-955a-43fb-b6d3-d5df69cdebcb",
   "metadata": {},
   "outputs": [],
   "source": [
    "confusion_matrix(y_test, best_rf.predict(X_test))"
   ]
  },
  {
   "cell_type": "code",
   "execution_count": null,
   "id": "7d93ad4f-d150-46a6-9f05-6b0ed5ee3ec1",
   "metadata": {},
   "outputs": [],
   "source": [
    "accuracy_score(y_test, best_rf.predict(X_test))"
   ]
  },
  {
   "cell_type": "markdown",
   "id": "49e78ce4-6bdf-4be6-86bc-0e6acb54e1ca",
   "metadata": {},
   "source": [
    "### Boosting\n",
    "Boosting funciona de manera parecida al bagging en cuanto a que combina un gran número de árboles, a excepción de que los árboles se construyen de manera secuencial: cada árbol se genera usando información, concretamente los residuos, de árboles previamente generados, en lugar de utilizar la variable respuesta (por ello suelen ser suficientes árboles más pequeños, en lugar de un gran árbol que pueda sobreajustarse a los datos). Otra diferencia es que boosting no utiliza remuestreo por bootstrapping, sino que cada árbol se genera utilizando una versión modificada del set de datos original.\n",
    "\n",
    "https://scikit-learn.org/stable/modules/generated/sklearn.ensemble.GradientBoostingClassifier.html?highlight=gradientboostingclassifier#sklearn.ensemble.GradientBoostingClassifier"
   ]
  },
  {
   "cell_type": "code",
   "execution_count": null,
   "id": "da556718-0285-4fdd-8e55-674685aa3293",
   "metadata": {},
   "outputs": [],
   "source": [
    "from sklearn.ensemble import GradientBoostingClassifier"
   ]
  },
  {
   "cell_type": "code",
   "execution_count": null,
   "id": "dde62a38-9174-411b-ba3a-8cbbd71c63b4",
   "metadata": {},
   "outputs": [],
   "source": [
    "clas_bo = GradientBoostingClassifier()\n",
    "clas_bo.fit(X_train, y_train)"
   ]
  },
  {
   "cell_type": "code",
   "execution_count": null,
   "id": "a0d84969-261f-4c29-8b93-359cd80f572c",
   "metadata": {},
   "outputs": [],
   "source": [
    "accuracy_score(y_test, clas_bo.predict(X_test))"
   ]
  },
  {
   "cell_type": "code",
   "execution_count": null,
   "id": "69b1f3b6-6d1d-45e0-8744-bbe69386e7b7",
   "metadata": {},
   "outputs": [],
   "source": [
    "clas_bo2 = GradientBoostingClassifier(learning_rate = 0.02, n_estimators = 1000, max_depth = 1)\n",
    "clas_bo2.fit(X_train, y_train)"
   ]
  },
  {
   "cell_type": "code",
   "execution_count": null,
   "id": "fdc1b265-9709-44d8-b682-c34170aa63ac",
   "metadata": {},
   "outputs": [],
   "source": [
    "accuracy_score(y_test, clas_bo.predict(X_test))"
   ]
  },
  {
   "cell_type": "markdown",
   "id": "d76f7552-809a-4f85-b4b7-175985c7ca4c",
   "metadata": {},
   "source": [
    "#### Ada Boost\n",
    "Adaboost (Adaptive Boosting), aplicado sobretodo a problemas de clasificación, es un algoritmo iterativo que se basa en combinar múltiples weak learners, en un único strong learner a través de una combinación lineal ponderada.\n",
    "\n",
    "https://scikit-learn.org/stable/modules/generated/sklearn.ensemble.AdaBoostClassifier.html?highlight=adaboostclassifier#sklearn.ensemble.AdaBoostClassifier"
   ]
  },
  {
   "cell_type": "code",
   "execution_count": null,
   "id": "68f0c98a-09d5-4ed0-9eb5-5fb7332e17b3",
   "metadata": {},
   "outputs": [],
   "source": [
    "from sklearn.ensemble import AdaBoostClassifier"
   ]
  },
  {
   "cell_type": "code",
   "execution_count": null,
   "id": "3d53fecf-b3a0-44b8-bb9b-0540ea9e9bdf",
   "metadata": {},
   "outputs": [],
   "source": [
    "clas_ab = AdaBoostClassifier(learning_rate = 0.02, n_estimators = 5000)"
   ]
  },
  {
   "cell_type": "code",
   "execution_count": null,
   "id": "b4f8ea69-d105-489c-ba79-7805de478a94",
   "metadata": {},
   "outputs": [],
   "source": [
    "clas_ab.fit(X_train, y_train)"
   ]
  },
  {
   "cell_type": "code",
   "execution_count": null,
   "id": "73bfdca3-fa2f-4794-818b-e56c605cd6fd",
   "metadata": {},
   "outputs": [],
   "source": [
    "accuracy_score(y_test, clas_ab.predict(X_test))"
   ]
  },
  {
   "cell_type": "code",
   "execution_count": null,
   "id": "f52c7bfc-2938-4125-9522-5f234f5d2f44",
   "metadata": {},
   "outputs": [],
   "source": [
    "clas_ab2 = AdaBoostClassifier(learning_rate = 0.02, n_estimators = 500)"
   ]
  },
  {
   "cell_type": "code",
   "execution_count": null,
   "id": "f399e65b-c54e-4af9-887e-017bc7c46fb1",
   "metadata": {},
   "outputs": [],
   "source": [
    "clas_ab2.fit(X_train, y_train)"
   ]
  },
  {
   "cell_type": "code",
   "execution_count": null,
   "id": "44795e11-a575-4746-98fd-f8b9c0c47474",
   "metadata": {},
   "outputs": [],
   "source": [
    "accuracy_score(y_test, clas_ab2.predict(X_test))"
   ]
  },
  {
   "cell_type": "markdown",
   "id": "fcddd873-73d4-4a51-983e-23d691fe4f6d",
   "metadata": {},
   "source": [
    "#### XG Boost\n",
    "Gradient Boosting no asigna un peso independiente a cada observación de entrenamiento, sino que hace uso de una función de coste $L(yi,f(x))$ cuyo gradiente o derivada parcial de la función de coste se pretende minimizar. Esto se lleva a cabo en un proceso iterativo. El gradiente se utiliza para encontrar la dirección en la que cambiar los parámetros de los weak learners para reducir el error de predicción en las siguientes iteraciones. Concretamente, las predicciones del weak learner m intentan acercarse al gradiente negativo de la función de coste.\n",
    "\n",
    "https://xgboost.readthedocs.io/en/latest/parameter.html"
   ]
  },
  {
   "cell_type": "code",
   "execution_count": null,
   "id": "e77b9cd2-98f7-436c-803c-f6cfffa8817a",
   "metadata": {},
   "outputs": [],
   "source": [
    "import xgboost as xgb"
   ]
  },
  {
   "cell_type": "code",
   "execution_count": null,
   "id": "825239b7-09ae-4718-b608-e388a96bce1d",
   "metadata": {},
   "outputs": [],
   "source": [
    "clas_xgb = xgb.XGBClassifier(max_depth = 5, n_estimators = 10000, learning_rate = 0.3, n_jobs = -1)"
   ]
  },
  {
   "cell_type": "code",
   "execution_count": null,
   "id": "5904206d-ba0a-45a3-b320-476e4a0ba2fd",
   "metadata": {},
   "outputs": [],
   "source": [
    "clas_xgb.fit(X_train, y_train)"
   ]
  },
  {
   "cell_type": "code",
   "execution_count": null,
   "id": "656b8e9b-0be9-4884-83f1-af8191a10852",
   "metadata": {},
   "outputs": [],
   "source": [
    "accuracy_score(y_test, clas_xgb.predict(X_test))"
   ]
  },
  {
   "cell_type": "code",
   "execution_count": null,
   "id": "0e73f19e-82d3-4bb8-a133-de671384f352",
   "metadata": {},
   "outputs": [],
   "source": [
    "xgb.plot_importance(clas_xgb)"
   ]
  },
  {
   "cell_type": "code",
   "execution_count": null,
   "id": "c8a09ff3-837e-4487-aa56-ab278f3d9df8",
   "metadata": {},
   "outputs": [],
   "source": [
    "clas_xgb2 = xgb.XGBClassifier(n_estimators = 500, learning_rate = 0.1, n_jobs = -1, random_state = 123)"
   ]
  },
  {
   "cell_type": "code",
   "execution_count": null,
   "id": "1b8d3588-1491-4b3f-9965-cf92a0f1aa80",
   "metadata": {},
   "outputs": [],
   "source": [
    "parametros2 = {'max_depth': range(3, 10, 2),\n",
    "               'gamma' : [0.1, 0.2, 0.3],\n",
    "               'sub_sample' : [0.8, 0.9],\n",
    "              'colsample_bytree' : [0.8, 0.9],\n",
    "              'reg_alpha' : [1e-2, 0.1, 1]}"
   ]
  },
  {
   "cell_type": "code",
   "execution_count": null,
   "id": "5fa64a7f-76b9-4e6c-ac4a-9a4eb2e822d5",
   "metadata": {},
   "outputs": [],
   "source": [
    "pru_param2 = GridSearchCV(clas_xgb2, parametros2, n_jobs = -1, cv = 10, scoring = 'accuracy')"
   ]
  },
  {
   "cell_type": "code",
   "execution_count": null,
   "id": "2cf61536-cde0-4e3a-8a48-2f343a6e1088",
   "metadata": {},
   "outputs": [],
   "source": [
    "pru_param2.fit(X_train, y_train)"
   ]
  },
  {
   "cell_type": "code",
   "execution_count": null,
   "id": "6e9437be-1b5d-45b9-9745-056b619ba283",
   "metadata": {},
   "outputs": [],
   "source": [
    "best_xgb = pru_param2.best_estimator_"
   ]
  },
  {
   "cell_type": "code",
   "execution_count": null,
   "id": "8987d471-9e6a-4c31-a74d-322b5ca9ac8c",
   "metadata": {},
   "outputs": [],
   "source": [
    "accuracy_score(y_test, best_xgb.predict(X_test))"
   ]
  },
  {
   "cell_type": "code",
   "execution_count": null,
   "id": "1a62e735-edb5-4e39-aff3-c48fc3ef5612",
   "metadata": {},
   "outputs": [],
   "source": [
    "pru_param2.best_params_"
   ]
  }
 ],
 "metadata": {
  "kernelspec": {
   "display_name": "Python 3",
   "language": "python",
   "name": "python3"
  },
  "language_info": {
   "codemirror_mode": {
    "name": "ipython",
    "version": 3
   },
   "file_extension": ".py",
   "mimetype": "text/x-python",
   "name": "python",
   "nbconvert_exporter": "python",
   "pygments_lexer": "ipython3",
   "version": "3.9.5"
  }
 },
 "nbformat": 4,
 "nbformat_minor": 5
}
