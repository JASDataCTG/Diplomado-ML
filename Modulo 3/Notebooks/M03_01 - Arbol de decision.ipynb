{
 "cells": [
  {
   "cell_type": "markdown",
   "id": "2240e915-0575-4eea-b86a-218e06807d98",
   "metadata": {},
   "source": [
    "# Aprendizaje supervisado - Árboles de decisión\n",
    "Los árboles de decisión, como todo algoritmo de aprendizaje automático supervisado, tienen como función la de predecir la variable respuesta en función de las covariables. Observe que estas covariables son el equivalente de las variables predictoras o variables independientes en las regresiones lineales o logísticas.\n",
    "\n",
    "### Concepto de árboles de decisión\n",
    "El aprendizaje por intermedio de árboles es, quizás, una de las técnicas más utilizadas para el aprendizaje inductivo, presenta una gran robustez ante datos con ruido (atípicos). Por lo general, las covariables y las variable respuesta son de tipo categórico pero se pueden presentar árboles con datos numéricos. El árbol se construyen basados en una serie de condiciones que pueden posteriormente mapearse a reglas de clasificación.\n",
    "\n",
    "Cuando se tiene una instancia nueva para clasificar, esta instancia se compara con las diferentes ramas y condiciones, que van del nodo raíz a las ramas, generadas en el árbol para poder lograr su clasificación.\n",
    "\n",
    "<p align=\"center\">\n",
    "<img src=\"arbold.jpg\" width=\"800\">\n",
    "</p>\n",
    "\n",
    "La figura anterior muestra un árbol de decisión muy simple con una covariable numérica (IMC) y otra categórica dicotómica (Antecedentes obesidad Si/No), y una clase con dos valores: \"Llevar una vida sana\" y \"Hacer ejercicio. El nodo raíz es aque que determina el algoritmo que tiene mayor ganancia de información.\n",
    "\n",
    "### Tipos de árboles\n",
    "Dependiendo del tipo de variable de respuesta o etiqueta, los árboles pueden ser de dos tipos:\n",
    "\n",
    "* **Árboles de regresión:** son aquellos donde la variable respuesta y es cuantitativa.\n",
    "* **Árboles de clasificación:** son aquellos donde la variable respuesta y es cualitativa."
   ]
  }
 ],
 "metadata": {
  "kernelspec": {
   "display_name": "Python 3",
   "language": "python",
   "name": "python3"
  },
  "language_info": {
   "codemirror_mode": {
    "name": "ipython",
    "version": 3
   },
   "file_extension": ".py",
   "mimetype": "text/x-python",
   "name": "python",
   "nbconvert_exporter": "python",
   "pygments_lexer": "ipython3",
   "version": "3.9.5"
  }
 },
 "nbformat": 4,
 "nbformat_minor": 5
}
