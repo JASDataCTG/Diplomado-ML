{
 "cells": [
  {
   "cell_type": "markdown",
   "id": "528d15d0-f30f-4bbe-a5ed-029722b2835d",
   "metadata": {},
   "source": [
    "# Aprendizaje supervisado - Árboles de decisión\n",
    "Los árboles de decisión, como todo algoritmo de aprendizaje automático supervisado, tienen como función la de predecir la variable respuesta en función de las covariables. Observe que estas covariables son el equivalente de las variables predictoras o variables independientes en las regresiones lineales o logísticas.\n",
    "\n",
    "### Concepto de árboles de decisión\n",
    "El aprendizaje por intermedio de árboles es, quizás, una de las técnicas más utilizadas para el aprendizaje inductivo, presenta una gran robustez ante datos con ruido (atípicos). Por lo general, las covariables y las variable respuesta son de tipo categórico pero se pueden presentar árboles con datos numéricos. El árbol se construyen basados en una serie de condiciones que pueden posteriormente mapearse a reglas de clasificación.\n",
    "\n",
    "Cuando se tiene una instancia nueva para clasificar, esta instancia se compara con las diferentes ramas y condiciones, que van del nodo raíz a las ramas, generadas en el árbol para poder lograr su clasificación.\n",
    "\n",
    "<p align=\"center\">\n",
    "<img src=\"arbold.jpg\" width=\"600\">\n",
    "</p>\n",
    "\n",
    "La figura anterior muestra un árbol de decisión muy simple con una covariable numérica (IMC) y otra categórica dicotómica (Antecedentes obesidad Si/No), y una clase con dos valores: \"Llevar una vida sana\" y \"Hacer ejercicio. El nodo raíz es aque que determina el algoritmo que tiene mayor ganancia de información.\n",
    "\n",
    "### Tipos de árboles\n",
    "Dependiendo del tipo de variable de respuesta o etiqueta, los árboles pueden ser de dos tipos:\n",
    "\n",
    "* **Árboles de regresión:** son aquellos donde la variable respuesta y es cuantitativa.\n",
    "* **Árboles de clasificación:** son aquellos donde la variable respuesta y es cualitativa.\n",
    "\n",
    "#### Árboles de regresión\n",
    "![Arbol de regresión](ilustracion_arb_regresion.png)\n",
    "\n",
    "Los árboles de regresión desarrollan varias particiones para las covariables comparando estas con puntos de corte que permiten dividir las instancias en hiper-rectángulos que agrupan en cada uno las predicciones $\\hat{y}$.\n",
    "\n",
    "Para desarrollar un árbol de regresión se deben seguir los siguientes pasos generales:\n",
    "\n",
    "1. Encontrar la covariable que permita predecir mejor la variable respuesta.\n",
    "2. Encontrar el mejor punto de corte $c$ para esta predicción.\n",
    "3. Repetir hasta tener todas las instancias clasificadas o que se alcance un criterio de parada que por lo general es minimizar la función de costos $\\sum_{i=1}^m(y_{i}-\\hat{y_{i}})^2$"
   ]
  },
  {
   "cell_type": "markdown",
   "id": "2eef6de2-34d0-4015-a230-662f71954300",
   "metadata": {},
   "source": [
    "## Carga del conjunto de datos"
   ]
  },
  {
   "cell_type": "code",
   "execution_count": null,
   "id": "ebd3fff6-a58b-464c-931b-259b33f470d4",
   "metadata": {},
   "outputs": [],
   "source": [
    "# Importar modulos necesarios para el tratamiendo de datos e imágenes\n",
    "import pandas as pd\n",
    "import numpy as np\n",
    "import seaborn as sns\n",
    "import matplotlib.pyplot as plt"
   ]
  },
  {
   "cell_type": "code",
   "execution_count": null,
   "id": "99d882e8-99cc-48a6-b647-e4d82d2b44cf",
   "metadata": {},
   "outputs": [],
   "source": [
    "# Leer el dataset\n",
    "url = 'https://raw.githubusercontent.com/JASDataCTG/Diplomado-ML/main/Modulo%203/Datasets/Movie_regressiones.csv'\n",
    "df = pd.read_csv(url, header = 0)"
   ]
  },
  {
   "cell_type": "code",
   "execution_count": null,
   "id": "09821039-0420-4da6-9169-2ecb1ff19571",
   "metadata": {},
   "outputs": [],
   "source": [
    "df.head()"
   ]
  },
  {
   "cell_type": "code",
   "execution_count": null,
   "id": "1ced9006-afcb-4722-9e5e-3dd396c4f163",
   "metadata": {},
   "outputs": [],
   "source": [
    "df.info()"
   ]
  },
  {
   "cell_type": "markdown",
   "id": "565c824e-3990-4d1c-8572-13c5a3e33d82",
   "metadata": {},
   "source": [
    "### Imputación de valores faltantes"
   ]
  },
  {
   "cell_type": "code",
   "execution_count": null,
   "id": "955276f1-7e67-459b-9db1-fc3fbf8af9dd",
   "metadata": {},
   "outputs": [],
   "source": [
    "# Imputar los valores faltantes por la media de los valores presentes\n",
    "df['Tiempo realizacion'].mean()"
   ]
  },
  {
   "cell_type": "code",
   "execution_count": null,
   "id": "cfb7fc3d-d8bd-434b-a72f-3296ae9f4ef7",
   "metadata": {},
   "outputs": [],
   "source": [
    "# Imputar los valores sin crear un nuevo objeto (inplace = True)\n",
    "df['Tiempo realizacion'].fillna(value = df['Tiempo realizacion'].mean(), inplace = True)"
   ]
  },
  {
   "cell_type": "code",
   "execution_count": null,
   "id": "0956085d-2758-4bd7-bc22-cf12de73166d",
   "metadata": {},
   "outputs": [],
   "source": [
    "df.head()"
   ]
  },
  {
   "cell_type": "code",
   "execution_count": null,
   "id": "6107ad30-b858-448a-9bb9-e8d4a52885bb",
   "metadata": {},
   "outputs": [],
   "source": [
    "df.info()"
   ]
  },
  {
   "cell_type": "code",
   "execution_count": null,
   "id": "4e259e23-dfb2-4e60-90da-f87527a3186c",
   "metadata": {},
   "outputs": [],
   "source": [
    "df.describe()"
   ]
  },
  {
   "cell_type": "markdown",
   "id": "ff2020a2-0c4b-4871-9428-0181310e768f",
   "metadata": {},
   "source": [
    "### Creación de variables dummy"
   ]
  },
  {
   "cell_type": "code",
   "execution_count": null,
   "id": "67d1fe3b-ec86-4ec3-b79d-19d288f7905e",
   "metadata": {},
   "outputs": [],
   "source": [
    "# Revisar los valores únicos en al serie conformada por la columna Genero\n",
    "list(dict.fromkeys(df['Genero']))"
   ]
  },
  {
   "cell_type": "code",
   "execution_count": null,
   "id": "85b983a1-de96-4654-bba6-e4e969fc1980",
   "metadata": {},
   "outputs": [],
   "source": [
    "# Crear las variables dummy eliminando una de ellas y eliminando igualmente la columna que las origina\n",
    "df = pd.get_dummies(df, columns = ['Disponibilidad en 3D', 'Genero'], drop_first = True)"
   ]
  },
  {
   "cell_type": "code",
   "execution_count": null,
   "id": "ccfb802b-716c-4679-9418-b3a02e7fc52a",
   "metadata": {},
   "outputs": [],
   "source": [
    "df.head()"
   ]
  },
  {
   "cell_type": "markdown",
   "id": "9a9cbea8-09a2-49a9-bb10-88524e709531",
   "metadata": {},
   "source": [
    "### División de la variable predicha y el vector de características"
   ]
  },
  {
   "cell_type": "code",
   "execution_count": null,
   "id": "5593d6da-490c-48ea-ab69-b55ab0fde3cb",
   "metadata": {},
   "outputs": [],
   "source": [
    "# Asignar a X el array de atributos a excepción del atributo Coleccion\n",
    "X = df.loc[:, df.columns!= 'Coleccion']"
   ]
  },
  {
   "cell_type": "code",
   "execution_count": null,
   "id": "2d443a7b-ae6d-4dd3-883f-dc6ca428241a",
   "metadata": {},
   "outputs": [],
   "source": [
    "X.head()"
   ]
  },
  {
   "cell_type": "code",
   "execution_count": null,
   "id": "b99872ea-128f-4608-bb5f-a7d18e2de670",
   "metadata": {},
   "outputs": [],
   "source": [
    "X.shape"
   ]
  },
  {
   "cell_type": "code",
   "execution_count": null,
   "id": "8ac2ae87-b1d8-401a-97b8-a2f803523666",
   "metadata": {},
   "outputs": [],
   "source": [
    "y = df['Coleccion']\n",
    "type(y)"
   ]
  },
  {
   "cell_type": "code",
   "execution_count": null,
   "id": "05002ebe-ce2f-44da-8299-b0bdc35a9baf",
   "metadata": {},
   "outputs": [],
   "source": [
    "y.head()"
   ]
  },
  {
   "cell_type": "code",
   "execution_count": null,
   "id": "71d7e7bf-b080-4f15-a7e6-cf8d23b0ebd0",
   "metadata": {},
   "outputs": [],
   "source": [
    "y.shape"
   ]
  },
  {
   "cell_type": "markdown",
   "id": "360ff567-fc14-4152-bcd2-fd44736bfe30",
   "metadata": {},
   "source": [
    "### Creación del conjunto de entrenamiento y validación"
   ]
  },
  {
   "cell_type": "code",
   "execution_count": null,
   "id": "70b8157a-8c79-46ad-b626-c0e77f4bd959",
   "metadata": {},
   "outputs": [],
   "source": [
    "# Importar los modulos necesarios para dividir el dataset\n",
    "from sklearn.model_selection import train_test_split"
   ]
  },
  {
   "cell_type": "code",
   "execution_count": null,
   "id": "b8bc1525-3bd6-48d2-8516-9d4312c70dfc",
   "metadata": {},
   "outputs": [],
   "source": [
    "X_train, X_test, y_train, y_test = train_test_split(X, y, test_size = 0.2, random_state = 0)"
   ]
  },
  {
   "cell_type": "code",
   "execution_count": null,
   "id": "f263c967-3d11-48d1-b864-8ac927147c43",
   "metadata": {},
   "outputs": [],
   "source": [
    "X_train.head()"
   ]
  },
  {
   "cell_type": "code",
   "execution_count": null,
   "id": "cb331b48-9976-4f4d-ad96-eb6084f0283b",
   "metadata": {},
   "outputs": [],
   "source": [
    "X_train.shape"
   ]
  },
  {
   "cell_type": "code",
   "execution_count": null,
   "id": "505276b9-e66e-46eb-9a3e-50be4eb8e694",
   "metadata": {},
   "outputs": [],
   "source": [
    "X_test.shape"
   ]
  },
  {
   "cell_type": "markdown",
   "id": "af40211c-40c2-4d51-8777-4c83a0f79b12",
   "metadata": {},
   "source": [
    "### Entrenamiento del árbol de regresión"
   ]
  },
  {
   "cell_type": "code",
   "execution_count": null,
   "id": "7b7c68fd-a3b4-45a7-9ab9-4f17233abe29",
   "metadata": {},
   "outputs": [],
   "source": [
    "# Importar el modulo dedicado al entrenamiento de árboles\n",
    "from sklearn import tree"
   ]
  },
  {
   "cell_type": "code",
   "execution_count": null,
   "id": "9bf55ee8-1e3e-4b8b-887f-ac483d05702c",
   "metadata": {},
   "outputs": [],
   "source": [
    "arbolreg = tree.DecisionTreeRegressor(max_depth = 5)"
   ]
  },
  {
   "cell_type": "code",
   "execution_count": null,
   "id": "bd064e33-ceed-4550-99b0-953d88848a93",
   "metadata": {},
   "outputs": [],
   "source": [
    "arbolreg.fit(X_train, y_train)"
   ]
  },
  {
   "cell_type": "markdown",
   "id": "5412c632-f81a-44a5-9d7d-c1948c92c6db",
   "metadata": {},
   "source": [
    "### Predicción en el conjunto de entrenamiento y validación"
   ]
  },
  {
   "cell_type": "code",
   "execution_count": null,
   "id": "3252941b-5bf8-47d2-b731-51e4e8b82060",
   "metadata": {
    "tags": []
   },
   "outputs": [],
   "source": [
    "# Desarrollar las predicciones en los conjuntos de entrenamiento y validación\n",
    "y_train_pred = arbolreg.predict(X_train)\n",
    "y_test_pred = arbolreg.predict(X_test)"
   ]
  },
  {
   "cell_type": "code",
   "execution_count": null,
   "id": "2b2810c4-9498-42fe-ac5d-a027e3f89309",
   "metadata": {
    "tags": []
   },
   "outputs": [],
   "source": [
    "y_test_pred"
   ]
  },
  {
   "cell_type": "markdown",
   "id": "be5341b5-7219-4f4b-969e-dfd92400b7ba",
   "metadata": {},
   "source": [
    "### Métricas del modelo"
   ]
  },
  {
   "cell_type": "code",
   "execution_count": null,
   "id": "686062e9-d3cd-4807-a780-4a39501427a8",
   "metadata": {},
   "outputs": [],
   "source": [
    "from sklearn.metrics import r2_score, mean_squared_error"
   ]
  },
  {
   "cell_type": "code",
   "execution_count": null,
   "id": "69ff4184-7a47-4207-bd1c-937cf925fbef",
   "metadata": {},
   "outputs": [],
   "source": [
    "# Desviación estándar de la varianza inexplicada\n",
    "mean_squared_error(y_test, y_test_pred)"
   ]
  },
  {
   "cell_type": "code",
   "execution_count": null,
   "id": "91f09f69-0e62-456b-a3e8-f24e6499f943",
   "metadata": {},
   "outputs": [],
   "source": [
    "# Proporción de la varianza total explicada por el modelo\n",
    "r2_score(y_train, y_train_pred)"
   ]
  },
  {
   "cell_type": "code",
   "execution_count": null,
   "id": "6fd113d8-fd93-42e7-8395-67eb75b23327",
   "metadata": {},
   "outputs": [],
   "source": [
    "r2_score(y_test, y_test_pred)"
   ]
  },
  {
   "cell_type": "markdown",
   "id": "017f2a9b-d180-4107-8bcd-1705be3342ea",
   "metadata": {},
   "source": [
    "### Gráficar árbol de regresión"
   ]
  },
  {
   "cell_type": "code",
   "execution_count": null,
   "id": "2df65b6e-276d-4477-a5ca-1f738f116dca",
   "metadata": {},
   "outputs": [],
   "source": [
    "datos_graf = tree.export_graphviz(arbolreg, out_file = None, feature_names = X_train.columns, filled = True)"
   ]
  },
  {
   "cell_type": "code",
   "execution_count": null,
   "id": "dff651bf-43fd-4d47-b0d6-e9d927be94dc",
   "metadata": {
    "tags": []
   },
   "outputs": [],
   "source": [
    "from IPython.display import Image"
   ]
  },
  {
   "cell_type": "code",
   "execution_count": null,
   "id": "a367fc37-346f-41fe-9776-e7906bec0fcf",
   "metadata": {},
   "outputs": [],
   "source": [
    "# Importar modulo que genera la estructura del árbol y graficarlo de acuerdo a los datos\n",
    "import pydotplus"
   ]
  },
  {
   "cell_type": "code",
   "execution_count": null,
   "id": "48a71f1d-ae5a-4f96-b1b5-c3ed2dfa953e",
   "metadata": {},
   "outputs": [],
   "source": [
    "# Graficar el árbol con graphviz que es un software dedicado a los grafos estructurados\n",
    "graph = pydotplus.graph_from_dot_data(datos_graf)\n",
    "Image(graph.create_png())\n",
    "#graph.write_png('arboloriginal.png') # Si se desea guardar el árbol"
   ]
  },
  {
   "cell_type": "code",
   "execution_count": null,
   "id": "38a55852-f3b7-4858-ae00-4f823bfccbbc",
   "metadata": {},
   "outputs": [],
   "source": [
    "# Se verifica que value del nodo raíz sea igual a la media de todos los valores del atributo Coleccion\n",
    "y_train.mean()"
   ]
  },
  {
   "cell_type": "markdown",
   "id": "90ab9ca2-a55d-4ac5-b94f-8155d37d15a1",
   "metadata": {},
   "source": [
    "### Controlando el crecimiento del árbol"
   ]
  },
  {
   "cell_type": "markdown",
   "id": "214696c8-b5df-4cef-ad8e-4b1fd9306af6",
   "metadata": {},
   "source": [
    "#### Por el máximo nivel de crecimiento del árbol"
   ]
  },
  {
   "cell_type": "code",
   "execution_count": null,
   "id": "9b9c92f1-1fd3-4ee6-81a8-321c927dabe5",
   "metadata": {},
   "outputs": [],
   "source": [
    "arbolreg1 = tree.DecisionTreeRegressor(max_depth = 3)\n",
    "arbolreg1.fit(X_train, y_train)\n",
    "datos_graf = tree.export_graphviz(arbolreg1, out_file = None, feature_names = X_train.columns, filled = True)\n",
    "graph1 = pydotplus.graph_from_dot_data(datos_graf)\n",
    "Image(graph1.create_png())"
   ]
  },
  {
   "cell_type": "markdown",
   "id": "98aef897-53de-415d-8760-52ddaa3a0f4b",
   "metadata": {},
   "source": [
    "#### Por el número mínimo de observaciones"
   ]
  },
  {
   "cell_type": "code",
   "execution_count": null,
   "id": "dfc57bb9-a90b-4f3e-855d-2e4009094d93",
   "metadata": {},
   "outputs": [],
   "source": [
    "arbolreg2 = tree.DecisionTreeRegressor(min_samples_split = 50)\n",
    "arbolreg2.fit(X_train, y_train)\n",
    "datos_graf = tree.export_graphviz(arbolreg2, out_file = None, feature_names = X_train.columns, filled = True)\n",
    "graph2 = pydotplus.graph_from_dot_data(datos_graf)\n",
    "Image(graph2.create_png())"
   ]
  },
  {
   "cell_type": "code",
   "execution_count": null,
   "id": "9d680825-5449-4293-8d43-1083489912d0",
   "metadata": {},
   "outputs": [],
   "source": [
    "arbolreg3 = tree.DecisionTreeRegressor(min_samples_leaf = 25)\n",
    "arbolreg3.fit(X_train, y_train)\n",
    "datos_graf = tree.export_graphviz(arbolreg3, out_file = None, feature_names = X_train.columns, filled = True)\n",
    "graph3 = pydotplus.graph_from_dot_data(datos_graf)\n",
    "Image(graph3.create_png())"
   ]
  }
 ],
 "metadata": {
  "kernelspec": {
   "display_name": "Python 3",
   "language": "python",
   "name": "python3"
  },
  "language_info": {
   "codemirror_mode": {
    "name": "ipython",
    "version": 3
   },
   "file_extension": ".py",
   "mimetype": "text/x-python",
   "name": "python",
   "nbconvert_exporter": "python",
   "pygments_lexer": "ipython3",
   "version": "3.9.5"
  }
 },
 "nbformat": 4,
 "nbformat_minor": 5
}
