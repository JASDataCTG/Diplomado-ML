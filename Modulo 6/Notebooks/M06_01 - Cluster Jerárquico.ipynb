{
 "cells": [
  {
   "cell_type": "markdown",
   "id": "touched-disorder",
   "metadata": {},
   "source": [
    "# Aprendizaje No Supervisado - Clúster jerárquico\n",
    "\n",
    "En minería de datos, el agrupamiento jerárquico es un método de análisis de grupos puntuales, el cual busca construir una jerarquía de grupos. Estrategias para agrupamiento jerárquico generalmente caen en dos tipos:\n",
    "\n",
    "**Aglomerativas:** Este es un acercamiento ascendente: cada observación comienza en su propio grupo, y los pares de grupos son mezclados mientras uno sube en la jerarquía.\n",
    "\n",
    "**Divisivas:** Este es un acercamiento descendente: todas las observaciones comienzan en un grupo, y se realizan divisiones mientras uno baja en la jerarquía.\n",
    "\n",
    "En general, las mezclas y divisiones son determinadas con un Algoritmo voraz. Los resultados del agrupamiento jerárquico son usualmente presentados en un dendrograma.\n",
    "\n",
    "**Métricas de distancia**\n",
    "\n",
    "![Métricas](metricas.png)\n",
    "\n",
    "**Criterio de enlace**\n",
    "\n",
    "![Criterio](criterio.png)"
   ]
  },
  {
   "cell_type": "code",
   "execution_count": 1,
   "id": "pacific-marking",
   "metadata": {
    "ExecuteTime": {
     "end_time": "2021-08-23T19:08:07.106326Z",
     "start_time": "2021-08-23T19:08:06.271846Z"
    }
   },
   "outputs": [],
   "source": [
    "# Importar módulos y funciones necesarias para el dendograma\n",
    "import pandas as pd\n",
    "import numpy as np\n",
    "import matplotlib.pyplot as plt\n",
    "\n",
    "# Importar los módulos y funciones de los cluster jerárquicos\n",
    "import scipy.cluster.hierarchy as sch\n",
    "from scipy.cluster.hierarchy import dendrogram, linkage, fcluster\n",
    "\n",
    "%matplotlib inline"
   ]
  },
  {
   "cell_type": "markdown",
   "id": "boring-turner",
   "metadata": {},
   "source": [
    "## Cargar los datos"
   ]
  },
  {
   "cell_type": "code",
   "execution_count": 2,
   "id": "exotic-headline",
   "metadata": {
    "ExecuteTime": {
     "end_time": "2021-08-23T19:08:07.451315Z",
     "start_time": "2021-08-23T19:08:07.108272Z"
    }
   },
   "outputs": [],
   "source": [
    "url = 'https://raw.githubusercontent.com/JASDataCTG/Diplomado-ML/main/Modulo%205/Datasets/estudiantes.csv'\n",
    "# Cargar los datos de la columna estudiante como índice del dataframe\n",
    "df = pd.read_csv(url, index_col=0)"
   ]
  },
  {
   "cell_type": "code",
   "execution_count": 3,
   "id": "adjusted-consciousness",
   "metadata": {
    "ExecuteTime": {
     "end_time": "2021-08-23T19:08:07.464988Z",
     "start_time": "2021-08-23T19:08:07.453265Z"
    }
   },
   "outputs": [
    {
     "data": {
      "text/html": [
       "<div>\n",
       "<style scoped>\n",
       "    .dataframe tbody tr th:only-of-type {\n",
       "        vertical-align: middle;\n",
       "    }\n",
       "\n",
       "    .dataframe tbody tr th {\n",
       "        vertical-align: top;\n",
       "    }\n",
       "\n",
       "    .dataframe thead th {\n",
       "        text-align: right;\n",
       "    }\n",
       "</style>\n",
       "<table border=\"1\" class=\"dataframe\">\n",
       "  <thead>\n",
       "    <tr style=\"text-align: right;\">\n",
       "      <th></th>\n",
       "      <th>Matematicas</th>\n",
       "      <th>Ciencias</th>\n",
       "      <th>Espanol</th>\n",
       "      <th>Historia</th>\n",
       "      <th>Deportes</th>\n",
       "    </tr>\n",
       "    <tr>\n",
       "      <th>Estudiante</th>\n",
       "      <th></th>\n",
       "      <th></th>\n",
       "      <th></th>\n",
       "      <th></th>\n",
       "      <th></th>\n",
       "    </tr>\n",
       "  </thead>\n",
       "  <tbody>\n",
       "    <tr>\n",
       "      <th>Lucia</th>\n",
       "      <td>7.0</td>\n",
       "      <td>6.5</td>\n",
       "      <td>9.2</td>\n",
       "      <td>8.6</td>\n",
       "      <td>8.0</td>\n",
       "    </tr>\n",
       "    <tr>\n",
       "      <th>Pedro</th>\n",
       "      <td>7.5</td>\n",
       "      <td>9.4</td>\n",
       "      <td>7.3</td>\n",
       "      <td>7.0</td>\n",
       "      <td>7.0</td>\n",
       "    </tr>\n",
       "    <tr>\n",
       "      <th>Ines</th>\n",
       "      <td>7.6</td>\n",
       "      <td>9.2</td>\n",
       "      <td>8.0</td>\n",
       "      <td>8.0</td>\n",
       "      <td>7.5</td>\n",
       "    </tr>\n",
       "    <tr>\n",
       "      <th>Luis</th>\n",
       "      <td>5.0</td>\n",
       "      <td>6.5</td>\n",
       "      <td>6.5</td>\n",
       "      <td>7.0</td>\n",
       "      <td>9.0</td>\n",
       "    </tr>\n",
       "    <tr>\n",
       "      <th>Andres</th>\n",
       "      <td>6.0</td>\n",
       "      <td>6.0</td>\n",
       "      <td>7.8</td>\n",
       "      <td>8.9</td>\n",
       "      <td>7.3</td>\n",
       "    </tr>\n",
       "  </tbody>\n",
       "</table>\n",
       "</div>"
      ],
      "text/plain": [
       "            Matematicas  Ciencias  Espanol  Historia  Deportes\n",
       "Estudiante                                                    \n",
       "Lucia               7.0       6.5      9.2       8.6       8.0\n",
       "Pedro               7.5       9.4      7.3       7.0       7.0\n",
       "Ines                7.6       9.2      8.0       8.0       7.5\n",
       "Luis                5.0       6.5      6.5       7.0       9.0\n",
       "Andres              6.0       6.0      7.8       8.9       7.3"
      ]
     },
     "execution_count": 3,
     "metadata": {},
     "output_type": "execute_result"
    }
   ],
   "source": [
    "df.head()"
   ]
  },
  {
   "cell_type": "code",
   "execution_count": 4,
   "id": "posted-telling",
   "metadata": {
    "ExecuteTime": {
     "end_time": "2021-08-23T19:08:07.475736Z",
     "start_time": "2021-08-23T19:08:07.466943Z"
    }
   },
   "outputs": [
    {
     "name": "stdout",
     "output_type": "stream",
     "text": [
      "<class 'pandas.core.frame.DataFrame'>\n",
      "Index: 10 entries, Lucia to Maria\n",
      "Data columns (total 5 columns):\n",
      " #   Column       Non-Null Count  Dtype  \n",
      "---  ------       --------------  -----  \n",
      " 0   Matematicas  10 non-null     float64\n",
      " 1   Ciencias     10 non-null     float64\n",
      " 2   Espanol      10 non-null     float64\n",
      " 3   Historia     10 non-null     float64\n",
      " 4   Deportes     10 non-null     float64\n",
      "dtypes: float64(5)\n",
      "memory usage: 480.0+ bytes\n"
     ]
    }
   ],
   "source": [
    "df.info()"
   ]
  },
  {
   "cell_type": "code",
   "execution_count": 5,
   "id": "tropical-belgium",
   "metadata": {
    "ExecuteTime": {
     "end_time": "2021-08-23T19:08:07.482577Z",
     "start_time": "2021-08-23T19:08:07.476714Z"
    }
   },
   "outputs": [
    {
     "data": {
      "text/plain": [
       "array([[7. , 6.5, 9.2, 8.6, 8. ],\n",
       "       [7.5, 9.4, 7.3, 7. , 7. ],\n",
       "       [7.6, 9.2, 8. , 8. , 7.5],\n",
       "       [5. , 6.5, 6.5, 7. , 9. ],\n",
       "       [6. , 6. , 7.8, 8.9, 7.3],\n",
       "       [7.8, 9.6, 7.7, 8. , 6.5],\n",
       "       [6.3, 6.4, 8.2, 9. , 7.2],\n",
       "       [7.9, 9.7, 7.5, 8. , 6. ],\n",
       "       [6. , 6. , 6.5, 5.5, 8.7],\n",
       "       [6.8, 7.2, 8.7, 9. , 7. ]])"
      ]
     },
     "execution_count": 5,
     "metadata": {},
     "output_type": "execute_result"
    }
   ],
   "source": [
    "# Cargar los datos de las notas en un array de tipo matriz\n",
    "notas = df.iloc[:, [0, 1, 2, 3, 4]].values\n",
    "notas"
   ]
  },
  {
   "cell_type": "markdown",
   "id": "pretty-retrieval",
   "metadata": {},
   "source": [
    "## Crear dendograma"
   ]
  },
  {
   "cell_type": "code",
   "execution_count": 6,
   "id": "after-attendance",
   "metadata": {
    "ExecuteTime": {
     "end_time": "2021-08-23T19:08:07.502127Z",
     "start_time": "2021-08-23T19:08:07.483554Z"
    }
   },
   "outputs": [],
   "source": [
    "# Con la matriz de notas se crean los cluster jerárquicos\n",
    "clus_je = linkage(\n",
    "    notas,\n",
    "    'ward')  # ward indica que se va a realizar la agrupación por clústers"
   ]
  },
  {
   "cell_type": "markdown",
   "id": "fitting-lighter",
   "metadata": {},
   "source": [
    "Para el calculo de los clusteres se utiliza la minimización de varianzas de Ward:\n",
    "\n",
    "$d(u,v) = \\sqrt{\\frac{|v|+|s|}\n",
    "                           {T}d(v,s)^2\n",
    "                    + \\frac{|v|+|t|}\n",
    "                           {T}d(v,t)^2\n",
    "                    - \\frac{|v|}\n",
    "                           {T}d(s,t)^2}$"
   ]
  },
  {
   "cell_type": "code",
   "execution_count": 7,
   "id": "aerial-taxation",
   "metadata": {
    "ExecuteTime": {
     "end_time": "2021-08-23T19:08:07.653586Z",
     "start_time": "2021-08-23T19:08:07.503098Z"
    }
   },
   "outputs": [
    {
     "data": {
      "image/png": "[encoded data removed]",
      "text/plain": [
       "<Figure size 432x288 with 1 Axes>"
      ]
     },
     "metadata": {
      "needs_background": "light"
     },
     "output_type": "display_data"
    }
   ],
   "source": [
    "# Graficar el dendograma a partir de los clusteres creados, en el eje de las 'x' se\n",
    "# muestra las instancias del conjunto de datos que terminan agrupadas y el eje\n",
    "# de las 'y' representa la altura del dendograma donde se hacen los cortes de agrupación\n",
    "dendrogram = sch.dendrogram(clus_je)"
   ]
  },
  {
   "cell_type": "code",
   "execution_count": 8,
   "id": "invalid-biography",
   "metadata": {
    "ExecuteTime": {
     "end_time": "2021-08-23T19:08:07.658463Z",
     "start_time": "2021-08-23T19:08:07.654562Z"
    }
   },
   "outputs": [],
   "source": [
    "# Forma los clusteres de acuerdo al límite de altura t y el criterio elegido\n",
    "cluster = fcluster(\n",
    "    clus_je, t=2,\n",
    "    criterion='distance')  # t es la altura del corte del dendograma"
   ]
  },
  {
   "cell_type": "code",
   "execution_count": 9,
   "id": "simple-compiler",
   "metadata": {
    "ExecuteTime": {
     "end_time": "2021-08-23T19:08:07.666280Z",
     "start_time": "2021-08-23T19:08:07.661404Z"
    }
   },
   "outputs": [
    {
     "data": {
      "text/plain": [
       "array([3, 1, 1, 2, 3, 1, 3, 1, 2, 3], dtype=int32)"
      ]
     },
     "execution_count": 9,
     "metadata": {},
     "output_type": "execute_result"
    }
   ],
   "source": [
    "cluster"
   ]
  },
  {
   "cell_type": "markdown",
   "id": "norman-kernel",
   "metadata": {},
   "source": [
    "La salida anterior nos informa a que cluster pertenece cada instancia:\n",
    "\n",
    "* Al cluster 1 pertenecen las instancias con índice 1, 2, 5, 7\n",
    "* Al cluster 2 pertenecen las instancias con índice 3 y 8\n",
    "* Al cluster 3 pertenecen las instancias con índice 0, 4, 6 y 9\n",
    "\n",
    "Esto cuando la altura t que determina los clusteres sea igual a 2, pruebe el modelo con otros valores y comente con su docente los resultados."
   ]
  },
  {
   "cell_type": "code",
   "execution_count": 10,
   "id": "becoming-carrier",
   "metadata": {
    "ExecuteTime": {
     "end_time": "2021-08-23T19:08:07.673119Z",
     "start_time": "2021-08-23T19:08:07.668235Z"
    }
   },
   "outputs": [],
   "source": [
    "# Anexar los clusteres asignados al dataframe original en la columna 'Cluster'\n",
    "# que puede ser asignado como etiqueta de clase\n",
    "df['Cluster'] = cluster"
   ]
  },
  {
   "cell_type": "code",
   "execution_count": 11,
   "id": "hawaiian-creator",
   "metadata": {
    "ExecuteTime": {
     "end_time": "2021-08-23T19:08:07.683868Z",
     "start_time": "2021-08-23T19:08:07.674099Z"
    }
   },
   "outputs": [
    {
     "data": {
      "text/html": [
       "<div>\n",
       "<style scoped>\n",
       "    .dataframe tbody tr th:only-of-type {\n",
       "        vertical-align: middle;\n",
       "    }\n",
       "\n",
       "    .dataframe tbody tr th {\n",
       "        vertical-align: top;\n",
       "    }\n",
       "\n",
       "    .dataframe thead th {\n",
       "        text-align: right;\n",
       "    }\n",
       "</style>\n",
       "<table border=\"1\" class=\"dataframe\">\n",
       "  <thead>\n",
       "    <tr style=\"text-align: right;\">\n",
       "      <th></th>\n",
       "      <th>Matematicas</th>\n",
       "      <th>Ciencias</th>\n",
       "      <th>Espanol</th>\n",
       "      <th>Historia</th>\n",
       "      <th>Deportes</th>\n",
       "      <th>Cluster</th>\n",
       "    </tr>\n",
       "    <tr>\n",
       "      <th>Estudiante</th>\n",
       "      <th></th>\n",
       "      <th></th>\n",
       "      <th></th>\n",
       "      <th></th>\n",
       "      <th></th>\n",
       "      <th></th>\n",
       "    </tr>\n",
       "  </thead>\n",
       "  <tbody>\n",
       "    <tr>\n",
       "      <th>Lucia</th>\n",
       "      <td>7.0</td>\n",
       "      <td>6.5</td>\n",
       "      <td>9.2</td>\n",
       "      <td>8.6</td>\n",
       "      <td>8.0</td>\n",
       "      <td>3</td>\n",
       "    </tr>\n",
       "    <tr>\n",
       "      <th>Pedro</th>\n",
       "      <td>7.5</td>\n",
       "      <td>9.4</td>\n",
       "      <td>7.3</td>\n",
       "      <td>7.0</td>\n",
       "      <td>7.0</td>\n",
       "      <td>1</td>\n",
       "    </tr>\n",
       "    <tr>\n",
       "      <th>Ines</th>\n",
       "      <td>7.6</td>\n",
       "      <td>9.2</td>\n",
       "      <td>8.0</td>\n",
       "      <td>8.0</td>\n",
       "      <td>7.5</td>\n",
       "      <td>1</td>\n",
       "    </tr>\n",
       "    <tr>\n",
       "      <th>Luis</th>\n",
       "      <td>5.0</td>\n",
       "      <td>6.5</td>\n",
       "      <td>6.5</td>\n",
       "      <td>7.0</td>\n",
       "      <td>9.0</td>\n",
       "      <td>2</td>\n",
       "    </tr>\n",
       "    <tr>\n",
       "      <th>Andres</th>\n",
       "      <td>6.0</td>\n",
       "      <td>6.0</td>\n",
       "      <td>7.8</td>\n",
       "      <td>8.9</td>\n",
       "      <td>7.3</td>\n",
       "      <td>3</td>\n",
       "    </tr>\n",
       "    <tr>\n",
       "      <th>Ana</th>\n",
       "      <td>7.8</td>\n",
       "      <td>9.6</td>\n",
       "      <td>7.7</td>\n",
       "      <td>8.0</td>\n",
       "      <td>6.5</td>\n",
       "      <td>1</td>\n",
       "    </tr>\n",
       "    <tr>\n",
       "      <th>Carlos</th>\n",
       "      <td>6.3</td>\n",
       "      <td>6.4</td>\n",
       "      <td>8.2</td>\n",
       "      <td>9.0</td>\n",
       "      <td>7.2</td>\n",
       "      <td>3</td>\n",
       "    </tr>\n",
       "    <tr>\n",
       "      <th>Jose</th>\n",
       "      <td>7.9</td>\n",
       "      <td>9.7</td>\n",
       "      <td>7.5</td>\n",
       "      <td>8.0</td>\n",
       "      <td>6.0</td>\n",
       "      <td>1</td>\n",
       "    </tr>\n",
       "    <tr>\n",
       "      <th>Sonia</th>\n",
       "      <td>6.0</td>\n",
       "      <td>6.0</td>\n",
       "      <td>6.5</td>\n",
       "      <td>5.5</td>\n",
       "      <td>8.7</td>\n",
       "      <td>2</td>\n",
       "    </tr>\n",
       "    <tr>\n",
       "      <th>Maria</th>\n",
       "      <td>6.8</td>\n",
       "      <td>7.2</td>\n",
       "      <td>8.7</td>\n",
       "      <td>9.0</td>\n",
       "      <td>7.0</td>\n",
       "      <td>3</td>\n",
       "    </tr>\n",
       "  </tbody>\n",
       "</table>\n",
       "</div>"
      ],
      "text/plain": [
       "            Matematicas  Ciencias  Espanol  Historia  Deportes  Cluster\n",
       "Estudiante                                                             \n",
       "Lucia               7.0       6.5      9.2       8.6       8.0        3\n",
       "Pedro               7.5       9.4      7.3       7.0       7.0        1\n",
       "Ines                7.6       9.2      8.0       8.0       7.5        1\n",
       "Luis                5.0       6.5      6.5       7.0       9.0        2\n",
       "Andres              6.0       6.0      7.8       8.9       7.3        3\n",
       "Ana                 7.8       9.6      7.7       8.0       6.5        1\n",
       "Carlos              6.3       6.4      8.2       9.0       7.2        3\n",
       "Jose                7.9       9.7      7.5       8.0       6.0        1\n",
       "Sonia               6.0       6.0      6.5       5.5       8.7        2\n",
       "Maria               6.8       7.2      8.7       9.0       7.0        3"
      ]
     },
     "execution_count": 11,
     "metadata": {},
     "output_type": "execute_result"
    }
   ],
   "source": [
    "df"
   ]
  }
 ],
 "metadata": {
  "kernelspec": {
   "display_name": "Python 3",
   "language": "python",
   "name": "python3"
  },
  "language_info": {
   "codemirror_mode": {
    "name": "ipython",
    "version": 3
   },
   "file_extension": ".py",
   "mimetype": "text/x-python",
   "name": "python",
   "nbconvert_exporter": "python",
   "pygments_lexer": "ipython3",
   "version": "3.9.5"
  },
  "nbTranslate": {
   "displayLangs": [
    "*"
   ],
   "hotkey": "alt-t",
   "langInMainMenu": true,
   "sourceLang": "en",
   "targetLang": "fr",
   "useGoogleTranslate": true
  },
  "toc": {
   "base_numbering": 1,
   "nav_menu": {},
   "number_sections": true,
   "sideBar": true,
   "skip_h1_title": false,
   "title_cell": "Table of Contents",
   "title_sidebar": "Contents",
   "toc_cell": false,
   "toc_position": {},
   "toc_section_display": true,
   "toc_window_display": false
  },
  "varInspector": {
   "cols": {
    "lenName": 16,
    "lenType": 16,
    "lenVar": 40
   },
   "kernels_config": {
    "python": {
     "delete_cmd_postfix": "",
     "delete_cmd_prefix": "del ",
     "library": "var_list.py",
     "varRefreshCmd": "print(var_dic_list())"
    },
    "r": {
     "delete_cmd_postfix": ") ",
     "delete_cmd_prefix": "rm(",
     "library": "var_list.r",
     "varRefreshCmd": "cat(var_dic_list()) "
    }
   },
   "types_to_exclude": [
    "module",
    "function",
    "builtin_function_or_method",
    "instance",
    "_Feature"
   ],
   "window_display": false
  }
 },
 "nbformat": 4,
 "nbformat_minor": 5
}
