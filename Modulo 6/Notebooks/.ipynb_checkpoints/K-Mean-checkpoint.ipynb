{
 "cells": [
  {
   "cell_type": "markdown",
   "id": "physical-coupon",
   "metadata": {},
   "source": [
    "# Clúster por el método K-Mean\n",
    "K-medias es un método de agrupamiento, que tiene como objetivo la partición de un conjunto de n observaciones en k grupos en el que cada observación pertenece al grupo cuyo valor medio es más cercano. Es un método utilizado en minería de datos.\n",
    "\n",
    "El problema es computacionalmente difícil (NP-hard). Sin embargo, hay eficientes heurísticas que se emplean comúnmente y convergen rápidamente a un óptimo local. Estos suelen ser similares a los algoritmos expectation-maximization de mezclas de distribuciones gausianas por medio de un enfoque de refinamiento iterativo empleado por ambos algoritmos. Además, los dos algoritmos usan los centros que los grupos utilizan para modelar los datos, sin embargo k-medias tiende a encontrar grupos de extensión espacial comparable, mientras que el mecanismo expectation-maximization permite que los grupos tengan formas diferentes.\n",
    "\n",
    "Dado un conjunto de observaciones (x1, x2, …, xn), donde cada observación es un vector real de d dimensiones, k-medias construye una partición de las observaciones en k conjuntos (k ≤ n) a fin de minimizar la suma de los cuadrados dentro de cada grupo (WCSS): S = {S1, S2, …, Sk}\n",
    "\n",
    "${\\displaystyle {\\underset {\\mathbf {S} }{\\operatorname {arg\\,min} }}\\sum _{i=1}^{k}\\sum _{\\mathbf {x} _{j}\\in S_{i}}\\left\\|\\mathbf {x} _{j}-{\\boldsymbol {\\mu }}_{i}\\right\\|^{2}}\\underset{\\mathbf{S}} {\\operatorname{arg\\,min}} \n",
    "\\sum_{i=1}^{k} \\sum_{\\mathbf x_j \\in S_i} \\left\\| \\mathbf x_j - \n",
    "\\boldsymbol\\mu_i \\right\\|^2$\n",
    "\n",
    "donde µi es la media de puntos en $S_i$.\n",
    "\n",
    "**Algoritmo estándar**\n",
    "\n",
    "El algoritmo más común utiliza una técnica de refinamiento iterativo. Debido a su ubicuidad a menudo se llama el algoritmo k-medias, también se le conoce como algoritmo de Lloyd, sobre todo en la comunidad informática.\n",
    "\n",
    "Dado un conjunto inicial de k centroides m1(1),…,mk(1) (ver más abajo), el algoritmo continúa alternando entre dos pasos:7​\n",
    "\n",
    "**Paso de asignación:** Asigna cada observación al grupo con la media más cercana (es decir, la partición de las observaciones de acuerdo con el diagrama de Voronoi generado por los centroides).\n",
    "\n",
    "${\\displaystyle S_{i}^{(t)}={\\big \\{}x_{p}:{\\big \\|}x_{p}-m_{i}^{(t)}{\\big \\|}\\leq {\\big \\|}x_{p}-m_{j}^{(t)}{\\big \\|}\\ \\forall \\ 1\\leq j\\leq k{\\big \\}}}S_i^{(t)} = \\big \\{ x_p : \\big \\| x_p - m^{(t)}_i \\big \\| \n",
    "\\le \\big \\| x_p - m^{(t)}_j \\big \\| \\ \\forall\\ 1 \\le j \\le k \n",
    "\\big\\}$\n",
    "\n",
    "Donde cada ${\\displaystyle x_{p}}x_{p}$ va exactamente dentro de un ${\\displaystyle S_{i}^{(t)}}S^{(t)}_i$, incluso aunque pudiera ir en dos de ellos.\n",
    "\n",
    "**Paso de actualización:** Calcular los nuevos centroides como el centroide de las observaciones en el grupo.\n",
    "\n",
    "${\\displaystyle \\mathbf {m} _{i}^{(t+1)}={\\frac {1}{|S_{i}^{(t)}|}}\\sum _{\\mathbf {x} _{j}\\in S_{i}^{(t)}}\\mathbf {x} _{j}}\\mathbf m^{(t+1)}_i = \\frac{1}{|S^{(t)}_i|} \\sum_{\\mathbf x_j \\in S^{(t)}_i} \\mathbf x_j$\n",
    "\n",
    "El algoritmo se considera que ha convergido cuando las asignaciones ya no cambian.\n",
    "\n",
    "Los métodos de inicialización de Forgy y Partición Aleatoria son comúnmente utilizados. El método Forgy elige aleatoriamente k observaciones del conjunto de datos y las utiliza como centroides iniciales. El método de partición aleatoria primero asigna aleatoriamente un clúster para cada observación y después procede a la etapa de actualización, por lo tanto calcular el clúster inicial para ser el centro de gravedad de los puntos de la agrupación asignados al azar. El método Forgy tiende a dispersar los centroides iniciales, mientras que la partición aleatoria ubica los centroides cerca del centro del conjunto de datos. Según Hamerly y compañía, el método de partición aleatoria general, es preferible para los algoritmos tales como los k-medias armonizadas y fuzzy k-medias. Para expectation maximization y el algoritmo estándar el método de Forgy es preferible.\n",
    "\n",
    "![K-Means](kmean.png)"
   ]
  },
  {
   "cell_type": "code",
   "execution_count": 61,
   "id": "illegal-wiring",
   "metadata": {
    "ExecuteTime": {
     "end_time": "2021-08-29T01:15:02.330805Z",
     "start_time": "2021-08-29T01:15:02.313802Z"
    }
   },
   "outputs": [],
   "source": [
    "import pandas as pd\n",
    "import numpy as np\n",
    "import matplotlib.pyplot as plt\n",
    "\n",
    "# Módulo para generar los clusteres con la función K-Means\n",
    "from sklearn.cluster import KMeans\n",
    "\n",
    "%matplotlib inline"
   ]
  },
  {
   "cell_type": "markdown",
   "id": "transsexual-alexander",
   "metadata": {},
   "source": [
    "## Cargar los datos"
   ]
  },
  {
   "cell_type": "code",
   "execution_count": 62,
   "id": "amazing-encyclopedia",
   "metadata": {
    "ExecuteTime": {
     "end_time": "2021-08-29T01:15:05.168690Z",
     "start_time": "2021-08-29T01:15:04.705722Z"
    }
   },
   "outputs": [],
   "source": [
    "url = 'https://raw.githubusercontent.com/JASDataCTG/Diplomado-ML/main/Modulo%205/Datasets/vinos.csv'\n",
    "df = pd.read_csv(url, header=0)"
   ]
  },
  {
   "cell_type": "code",
   "execution_count": 63,
   "id": "silent-columbia",
   "metadata": {
    "ExecuteTime": {
     "end_time": "2021-08-29T01:15:05.865098Z",
     "start_time": "2021-08-29T01:15:05.850087Z"
    }
   },
   "outputs": [
    {
     "data": {
      "text/html": [
       "<div>\n",
       "<style scoped>\n",
       "    .dataframe tbody tr th:only-of-type {\n",
       "        vertical-align: middle;\n",
       "    }\n",
       "\n",
       "    .dataframe tbody tr th {\n",
       "        vertical-align: top;\n",
       "    }\n",
       "\n",
       "    .dataframe thead th {\n",
       "        text-align: right;\n",
       "    }\n",
       "</style>\n",
       "<table border=\"1\" class=\"dataframe\">\n",
       "  <thead>\n",
       "    <tr style=\"text-align: right;\">\n",
       "      <th></th>\n",
       "      <th>Vino</th>\n",
       "      <th>Alcohol</th>\n",
       "      <th>Malic</th>\n",
       "      <th>Ash</th>\n",
       "      <th>Alcalinity</th>\n",
       "      <th>Magnesium</th>\n",
       "      <th>Phenols</th>\n",
       "      <th>Flavanoids</th>\n",
       "      <th>Nonflavanoids</th>\n",
       "      <th>Proanthocyanins</th>\n",
       "      <th>Color</th>\n",
       "      <th>Hue</th>\n",
       "      <th>Dilution</th>\n",
       "      <th>Proline</th>\n",
       "    </tr>\n",
       "  </thead>\n",
       "  <tbody>\n",
       "    <tr>\n",
       "      <th>0</th>\n",
       "      <td>1</td>\n",
       "      <td>14.23</td>\n",
       "      <td>1.71</td>\n",
       "      <td>2.43</td>\n",
       "      <td>15.6</td>\n",
       "      <td>127</td>\n",
       "      <td>2.80</td>\n",
       "      <td>3.06</td>\n",
       "      <td>0.28</td>\n",
       "      <td>2.29</td>\n",
       "      <td>5.64</td>\n",
       "      <td>1.04</td>\n",
       "      <td>3.92</td>\n",
       "      <td>1065</td>\n",
       "    </tr>\n",
       "    <tr>\n",
       "      <th>1</th>\n",
       "      <td>2</td>\n",
       "      <td>13.20</td>\n",
       "      <td>1.78</td>\n",
       "      <td>2.14</td>\n",
       "      <td>11.2</td>\n",
       "      <td>100</td>\n",
       "      <td>2.65</td>\n",
       "      <td>2.76</td>\n",
       "      <td>0.26</td>\n",
       "      <td>1.28</td>\n",
       "      <td>4.38</td>\n",
       "      <td>1.05</td>\n",
       "      <td>3.40</td>\n",
       "      <td>1050</td>\n",
       "    </tr>\n",
       "    <tr>\n",
       "      <th>2</th>\n",
       "      <td>3</td>\n",
       "      <td>13.16</td>\n",
       "      <td>2.36</td>\n",
       "      <td>2.67</td>\n",
       "      <td>18.6</td>\n",
       "      <td>101</td>\n",
       "      <td>2.80</td>\n",
       "      <td>3.24</td>\n",
       "      <td>0.30</td>\n",
       "      <td>2.81</td>\n",
       "      <td>5.68</td>\n",
       "      <td>1.03</td>\n",
       "      <td>3.17</td>\n",
       "      <td>1185</td>\n",
       "    </tr>\n",
       "    <tr>\n",
       "      <th>3</th>\n",
       "      <td>4</td>\n",
       "      <td>14.37</td>\n",
       "      <td>1.95</td>\n",
       "      <td>2.50</td>\n",
       "      <td>16.8</td>\n",
       "      <td>113</td>\n",
       "      <td>3.85</td>\n",
       "      <td>3.49</td>\n",
       "      <td>0.24</td>\n",
       "      <td>2.18</td>\n",
       "      <td>7.80</td>\n",
       "      <td>0.86</td>\n",
       "      <td>3.45</td>\n",
       "      <td>1480</td>\n",
       "    </tr>\n",
       "    <tr>\n",
       "      <th>4</th>\n",
       "      <td>5</td>\n",
       "      <td>13.24</td>\n",
       "      <td>2.59</td>\n",
       "      <td>2.87</td>\n",
       "      <td>21.0</td>\n",
       "      <td>118</td>\n",
       "      <td>2.80</td>\n",
       "      <td>2.69</td>\n",
       "      <td>0.39</td>\n",
       "      <td>1.82</td>\n",
       "      <td>4.32</td>\n",
       "      <td>1.04</td>\n",
       "      <td>2.93</td>\n",
       "      <td>735</td>\n",
       "    </tr>\n",
       "  </tbody>\n",
       "</table>\n",
       "</div>"
      ],
      "text/plain": [
       "   Vino  Alcohol  Malic   Ash  Alcalinity  Magnesium  Phenols  Flavanoids  \\\n",
       "0     1    14.23   1.71  2.43        15.6        127     2.80        3.06   \n",
       "1     2    13.20   1.78  2.14        11.2        100     2.65        2.76   \n",
       "2     3    13.16   2.36  2.67        18.6        101     2.80        3.24   \n",
       "3     4    14.37   1.95  2.50        16.8        113     3.85        3.49   \n",
       "4     5    13.24   2.59  2.87        21.0        118     2.80        2.69   \n",
       "\n",
       "   Nonflavanoids  Proanthocyanins  Color   Hue  Dilution  Proline  \n",
       "0           0.28             2.29   5.64  1.04      3.92     1065  \n",
       "1           0.26             1.28   4.38  1.05      3.40     1050  \n",
       "2           0.30             2.81   5.68  1.03      3.17     1185  \n",
       "3           0.24             2.18   7.80  0.86      3.45     1480  \n",
       "4           0.39             1.82   4.32  1.04      2.93      735  "
      ]
     },
     "execution_count": 63,
     "metadata": {},
     "output_type": "execute_result"
    }
   ],
   "source": [
    "df.head()"
   ]
  },
  {
   "cell_type": "code",
   "execution_count": 64,
   "id": "answering-forge",
   "metadata": {
    "ExecuteTime": {
     "end_time": "2021-08-29T01:15:06.452511Z",
     "start_time": "2021-08-29T01:15:06.437500Z"
    }
   },
   "outputs": [
    {
     "name": "stdout",
     "output_type": "stream",
     "text": [
      "<class 'pandas.core.frame.DataFrame'>\n",
      "RangeIndex: 178 entries, 0 to 177\n",
      "Data columns (total 14 columns):\n",
      " #   Column           Non-Null Count  Dtype  \n",
      "---  ------           --------------  -----  \n",
      " 0   Vino             178 non-null    int64  \n",
      " 1   Alcohol          178 non-null    float64\n",
      " 2   Malic            178 non-null    float64\n",
      " 3   Ash              178 non-null    float64\n",
      " 4   Alcalinity       178 non-null    float64\n",
      " 5   Magnesium        178 non-null    int64  \n",
      " 6   Phenols          178 non-null    float64\n",
      " 7   Flavanoids       178 non-null    float64\n",
      " 8   Nonflavanoids    178 non-null    float64\n",
      " 9   Proanthocyanins  178 non-null    float64\n",
      " 10  Color            178 non-null    float64\n",
      " 11  Hue              178 non-null    float64\n",
      " 12  Dilution         178 non-null    float64\n",
      " 13  Proline          178 non-null    int64  \n",
      "dtypes: float64(11), int64(3)\n",
      "memory usage: 19.6 KB\n"
     ]
    }
   ],
   "source": [
    "df.info()"
   ]
  },
  {
   "cell_type": "code",
   "execution_count": 65,
   "id": "qualified-nation",
   "metadata": {
    "ExecuteTime": {
     "end_time": "2021-08-29T01:15:07.024663Z",
     "start_time": "2021-08-29T01:15:07.009654Z"
    }
   },
   "outputs": [],
   "source": [
    "# Eliminar el atributo vino que viene siendo una llave principal o identificador\n",
    "df.drop('Vino', axis=1, inplace=True)"
   ]
  },
  {
   "cell_type": "code",
   "execution_count": 66,
   "id": "flexible-transcription",
   "metadata": {
    "ExecuteTime": {
     "end_time": "2021-08-29T01:15:07.599793Z",
     "start_time": "2021-08-29T01:15:07.584784Z"
    }
   },
   "outputs": [
    {
     "data": {
      "text/html": [
       "<div>\n",
       "<style scoped>\n",
       "    .dataframe tbody tr th:only-of-type {\n",
       "        vertical-align: middle;\n",
       "    }\n",
       "\n",
       "    .dataframe tbody tr th {\n",
       "        vertical-align: top;\n",
       "    }\n",
       "\n",
       "    .dataframe thead th {\n",
       "        text-align: right;\n",
       "    }\n",
       "</style>\n",
       "<table border=\"1\" class=\"dataframe\">\n",
       "  <thead>\n",
       "    <tr style=\"text-align: right;\">\n",
       "      <th></th>\n",
       "      <th>Alcohol</th>\n",
       "      <th>Malic</th>\n",
       "      <th>Ash</th>\n",
       "      <th>Alcalinity</th>\n",
       "      <th>Magnesium</th>\n",
       "      <th>Phenols</th>\n",
       "      <th>Flavanoids</th>\n",
       "      <th>Nonflavanoids</th>\n",
       "      <th>Proanthocyanins</th>\n",
       "      <th>Color</th>\n",
       "      <th>Hue</th>\n",
       "      <th>Dilution</th>\n",
       "      <th>Proline</th>\n",
       "    </tr>\n",
       "  </thead>\n",
       "  <tbody>\n",
       "    <tr>\n",
       "      <th>0</th>\n",
       "      <td>14.23</td>\n",
       "      <td>1.71</td>\n",
       "      <td>2.43</td>\n",
       "      <td>15.6</td>\n",
       "      <td>127</td>\n",
       "      <td>2.80</td>\n",
       "      <td>3.06</td>\n",
       "      <td>0.28</td>\n",
       "      <td>2.29</td>\n",
       "      <td>5.64</td>\n",
       "      <td>1.04</td>\n",
       "      <td>3.92</td>\n",
       "      <td>1065</td>\n",
       "    </tr>\n",
       "    <tr>\n",
       "      <th>1</th>\n",
       "      <td>13.20</td>\n",
       "      <td>1.78</td>\n",
       "      <td>2.14</td>\n",
       "      <td>11.2</td>\n",
       "      <td>100</td>\n",
       "      <td>2.65</td>\n",
       "      <td>2.76</td>\n",
       "      <td>0.26</td>\n",
       "      <td>1.28</td>\n",
       "      <td>4.38</td>\n",
       "      <td>1.05</td>\n",
       "      <td>3.40</td>\n",
       "      <td>1050</td>\n",
       "    </tr>\n",
       "    <tr>\n",
       "      <th>2</th>\n",
       "      <td>13.16</td>\n",
       "      <td>2.36</td>\n",
       "      <td>2.67</td>\n",
       "      <td>18.6</td>\n",
       "      <td>101</td>\n",
       "      <td>2.80</td>\n",
       "      <td>3.24</td>\n",
       "      <td>0.30</td>\n",
       "      <td>2.81</td>\n",
       "      <td>5.68</td>\n",
       "      <td>1.03</td>\n",
       "      <td>3.17</td>\n",
       "      <td>1185</td>\n",
       "    </tr>\n",
       "    <tr>\n",
       "      <th>3</th>\n",
       "      <td>14.37</td>\n",
       "      <td>1.95</td>\n",
       "      <td>2.50</td>\n",
       "      <td>16.8</td>\n",
       "      <td>113</td>\n",
       "      <td>3.85</td>\n",
       "      <td>3.49</td>\n",
       "      <td>0.24</td>\n",
       "      <td>2.18</td>\n",
       "      <td>7.80</td>\n",
       "      <td>0.86</td>\n",
       "      <td>3.45</td>\n",
       "      <td>1480</td>\n",
       "    </tr>\n",
       "    <tr>\n",
       "      <th>4</th>\n",
       "      <td>13.24</td>\n",
       "      <td>2.59</td>\n",
       "      <td>2.87</td>\n",
       "      <td>21.0</td>\n",
       "      <td>118</td>\n",
       "      <td>2.80</td>\n",
       "      <td>2.69</td>\n",
       "      <td>0.39</td>\n",
       "      <td>1.82</td>\n",
       "      <td>4.32</td>\n",
       "      <td>1.04</td>\n",
       "      <td>2.93</td>\n",
       "      <td>735</td>\n",
       "    </tr>\n",
       "  </tbody>\n",
       "</table>\n",
       "</div>"
      ],
      "text/plain": [
       "   Alcohol  Malic   Ash  Alcalinity  Magnesium  Phenols  Flavanoids  \\\n",
       "0    14.23   1.71  2.43        15.6        127     2.80        3.06   \n",
       "1    13.20   1.78  2.14        11.2        100     2.65        2.76   \n",
       "2    13.16   2.36  2.67        18.6        101     2.80        3.24   \n",
       "3    14.37   1.95  2.50        16.8        113     3.85        3.49   \n",
       "4    13.24   2.59  2.87        21.0        118     2.80        2.69   \n",
       "\n",
       "   Nonflavanoids  Proanthocyanins  Color   Hue  Dilution  Proline  \n",
       "0           0.28             2.29   5.64  1.04      3.92     1065  \n",
       "1           0.26             1.28   4.38  1.05      3.40     1050  \n",
       "2           0.30             2.81   5.68  1.03      3.17     1185  \n",
       "3           0.24             2.18   7.80  0.86      3.45     1480  \n",
       "4           0.39             1.82   4.32  1.04      2.93      735  "
      ]
     },
     "execution_count": 66,
     "metadata": {},
     "output_type": "execute_result"
    }
   ],
   "source": [
    "df.head()"
   ]
  },
  {
   "cell_type": "code",
   "execution_count": 67,
   "id": "injured-louisiana",
   "metadata": {
    "ExecuteTime": {
     "end_time": "2021-08-29T01:15:08.190104Z",
     "start_time": "2021-08-29T01:15:08.159098Z"
    }
   },
   "outputs": [
    {
     "data": {
      "text/html": [
       "<div>\n",
       "<style scoped>\n",
       "    .dataframe tbody tr th:only-of-type {\n",
       "        vertical-align: middle;\n",
       "    }\n",
       "\n",
       "    .dataframe tbody tr th {\n",
       "        vertical-align: top;\n",
       "    }\n",
       "\n",
       "    .dataframe thead th {\n",
       "        text-align: right;\n",
       "    }\n",
       "</style>\n",
       "<table border=\"1\" class=\"dataframe\">\n",
       "  <thead>\n",
       "    <tr style=\"text-align: right;\">\n",
       "      <th></th>\n",
       "      <th>Alcohol</th>\n",
       "      <th>Malic</th>\n",
       "      <th>Ash</th>\n",
       "      <th>Alcalinity</th>\n",
       "      <th>Magnesium</th>\n",
       "      <th>Phenols</th>\n",
       "      <th>Flavanoids</th>\n",
       "      <th>Nonflavanoids</th>\n",
       "      <th>Proanthocyanins</th>\n",
       "      <th>Color</th>\n",
       "      <th>Hue</th>\n",
       "      <th>Dilution</th>\n",
       "      <th>Proline</th>\n",
       "    </tr>\n",
       "  </thead>\n",
       "  <tbody>\n",
       "    <tr>\n",
       "      <th>count</th>\n",
       "      <td>178.000000</td>\n",
       "      <td>178.000000</td>\n",
       "      <td>178.000000</td>\n",
       "      <td>178.000000</td>\n",
       "      <td>178.000000</td>\n",
       "      <td>178.000000</td>\n",
       "      <td>178.000000</td>\n",
       "      <td>178.000000</td>\n",
       "      <td>178.000000</td>\n",
       "      <td>178.000000</td>\n",
       "      <td>178.000000</td>\n",
       "      <td>178.000000</td>\n",
       "      <td>178.000000</td>\n",
       "    </tr>\n",
       "    <tr>\n",
       "      <th>mean</th>\n",
       "      <td>13.000618</td>\n",
       "      <td>2.336348</td>\n",
       "      <td>2.366517</td>\n",
       "      <td>19.494944</td>\n",
       "      <td>99.741573</td>\n",
       "      <td>2.295112</td>\n",
       "      <td>2.029270</td>\n",
       "      <td>0.361854</td>\n",
       "      <td>1.590899</td>\n",
       "      <td>5.058090</td>\n",
       "      <td>0.957449</td>\n",
       "      <td>2.611685</td>\n",
       "      <td>746.893258</td>\n",
       "    </tr>\n",
       "    <tr>\n",
       "      <th>std</th>\n",
       "      <td>0.811827</td>\n",
       "      <td>1.117146</td>\n",
       "      <td>0.274344</td>\n",
       "      <td>3.339564</td>\n",
       "      <td>14.282484</td>\n",
       "      <td>0.625851</td>\n",
       "      <td>0.998859</td>\n",
       "      <td>0.124453</td>\n",
       "      <td>0.572359</td>\n",
       "      <td>2.318286</td>\n",
       "      <td>0.228572</td>\n",
       "      <td>0.709990</td>\n",
       "      <td>314.907474</td>\n",
       "    </tr>\n",
       "    <tr>\n",
       "      <th>min</th>\n",
       "      <td>11.030000</td>\n",
       "      <td>0.740000</td>\n",
       "      <td>1.360000</td>\n",
       "      <td>10.600000</td>\n",
       "      <td>70.000000</td>\n",
       "      <td>0.980000</td>\n",
       "      <td>0.340000</td>\n",
       "      <td>0.130000</td>\n",
       "      <td>0.410000</td>\n",
       "      <td>1.280000</td>\n",
       "      <td>0.480000</td>\n",
       "      <td>1.270000</td>\n",
       "      <td>278.000000</td>\n",
       "    </tr>\n",
       "    <tr>\n",
       "      <th>25%</th>\n",
       "      <td>12.362500</td>\n",
       "      <td>1.602500</td>\n",
       "      <td>2.210000</td>\n",
       "      <td>17.200000</td>\n",
       "      <td>88.000000</td>\n",
       "      <td>1.742500</td>\n",
       "      <td>1.205000</td>\n",
       "      <td>0.270000</td>\n",
       "      <td>1.250000</td>\n",
       "      <td>3.220000</td>\n",
       "      <td>0.782500</td>\n",
       "      <td>1.937500</td>\n",
       "      <td>500.500000</td>\n",
       "    </tr>\n",
       "    <tr>\n",
       "      <th>50%</th>\n",
       "      <td>13.050000</td>\n",
       "      <td>1.865000</td>\n",
       "      <td>2.360000</td>\n",
       "      <td>19.500000</td>\n",
       "      <td>98.000000</td>\n",
       "      <td>2.355000</td>\n",
       "      <td>2.135000</td>\n",
       "      <td>0.340000</td>\n",
       "      <td>1.555000</td>\n",
       "      <td>4.690000</td>\n",
       "      <td>0.965000</td>\n",
       "      <td>2.780000</td>\n",
       "      <td>673.500000</td>\n",
       "    </tr>\n",
       "    <tr>\n",
       "      <th>75%</th>\n",
       "      <td>13.677500</td>\n",
       "      <td>3.082500</td>\n",
       "      <td>2.557500</td>\n",
       "      <td>21.500000</td>\n",
       "      <td>107.000000</td>\n",
       "      <td>2.800000</td>\n",
       "      <td>2.875000</td>\n",
       "      <td>0.437500</td>\n",
       "      <td>1.950000</td>\n",
       "      <td>6.200000</td>\n",
       "      <td>1.120000</td>\n",
       "      <td>3.170000</td>\n",
       "      <td>985.000000</td>\n",
       "    </tr>\n",
       "    <tr>\n",
       "      <th>max</th>\n",
       "      <td>14.830000</td>\n",
       "      <td>5.800000</td>\n",
       "      <td>3.230000</td>\n",
       "      <td>30.000000</td>\n",
       "      <td>162.000000</td>\n",
       "      <td>3.880000</td>\n",
       "      <td>5.080000</td>\n",
       "      <td>0.660000</td>\n",
       "      <td>3.580000</td>\n",
       "      <td>13.000000</td>\n",
       "      <td>1.710000</td>\n",
       "      <td>4.000000</td>\n",
       "      <td>1680.000000</td>\n",
       "    </tr>\n",
       "  </tbody>\n",
       "</table>\n",
       "</div>"
      ],
      "text/plain": [
       "          Alcohol       Malic         Ash  Alcalinity   Magnesium     Phenols  \\\n",
       "count  178.000000  178.000000  178.000000  178.000000  178.000000  178.000000   \n",
       "mean    13.000618    2.336348    2.366517   19.494944   99.741573    2.295112   \n",
       "std      0.811827    1.117146    0.274344    3.339564   14.282484    0.625851   \n",
       "min     11.030000    0.740000    1.360000   10.600000   70.000000    0.980000   \n",
       "25%     12.362500    1.602500    2.210000   17.200000   88.000000    1.742500   \n",
       "50%     13.050000    1.865000    2.360000   19.500000   98.000000    2.355000   \n",
       "75%     13.677500    3.082500    2.557500   21.500000  107.000000    2.800000   \n",
       "max     14.830000    5.800000    3.230000   30.000000  162.000000    3.880000   \n",
       "\n",
       "       Flavanoids  Nonflavanoids  Proanthocyanins       Color         Hue  \\\n",
       "count  178.000000     178.000000       178.000000  178.000000  178.000000   \n",
       "mean     2.029270       0.361854         1.590899    5.058090    0.957449   \n",
       "std      0.998859       0.124453         0.572359    2.318286    0.228572   \n",
       "min      0.340000       0.130000         0.410000    1.280000    0.480000   \n",
       "25%      1.205000       0.270000         1.250000    3.220000    0.782500   \n",
       "50%      2.135000       0.340000         1.555000    4.690000    0.965000   \n",
       "75%      2.875000       0.437500         1.950000    6.200000    1.120000   \n",
       "max      5.080000       0.660000         3.580000   13.000000    1.710000   \n",
       "\n",
       "         Dilution      Proline  \n",
       "count  178.000000   178.000000  \n",
       "mean     2.611685   746.893258  \n",
       "std      0.709990   314.907474  \n",
       "min      1.270000   278.000000  \n",
       "25%      1.937500   500.500000  \n",
       "50%      2.780000   673.500000  \n",
       "75%      3.170000   985.000000  \n",
       "max      4.000000  1680.000000  "
      ]
     },
     "execution_count": 67,
     "metadata": {},
     "output_type": "execute_result"
    }
   ],
   "source": [
    "df.describe()"
   ]
  },
  {
   "cell_type": "markdown",
   "id": "meaning-karma",
   "metadata": {},
   "source": [
    "## Normalizar los valores del dataframe"
   ]
  },
  {
   "cell_type": "code",
   "execution_count": 68,
   "id": "legitimate-television",
   "metadata": {
    "ExecuteTime": {
     "end_time": "2021-08-29T01:15:08.766319Z",
     "start_time": "2021-08-29T01:15:08.753277Z"
    }
   },
   "outputs": [],
   "source": [
    "# Realizar la normalización como el cociente de los valores del dataframe menos su valor\n",
    "# mínimo sobre la diferencia entre los valores máximos y mínimos\n",
    "df_norm = (df - df.min()) / (df.max() - df.min())"
   ]
  },
  {
   "cell_type": "code",
   "execution_count": 69,
   "id": "framed-chamber",
   "metadata": {
    "ExecuteTime": {
     "end_time": "2021-08-29T01:15:09.337365Z",
     "start_time": "2021-08-29T01:15:09.323353Z"
    }
   },
   "outputs": [
    {
     "data": {
      "text/html": [
       "<div>\n",
       "<style scoped>\n",
       "    .dataframe tbody tr th:only-of-type {\n",
       "        vertical-align: middle;\n",
       "    }\n",
       "\n",
       "    .dataframe tbody tr th {\n",
       "        vertical-align: top;\n",
       "    }\n",
       "\n",
       "    .dataframe thead th {\n",
       "        text-align: right;\n",
       "    }\n",
       "</style>\n",
       "<table border=\"1\" class=\"dataframe\">\n",
       "  <thead>\n",
       "    <tr style=\"text-align: right;\">\n",
       "      <th></th>\n",
       "      <th>Alcohol</th>\n",
       "      <th>Malic</th>\n",
       "      <th>Ash</th>\n",
       "      <th>Alcalinity</th>\n",
       "      <th>Magnesium</th>\n",
       "      <th>Phenols</th>\n",
       "      <th>Flavanoids</th>\n",
       "      <th>Nonflavanoids</th>\n",
       "      <th>Proanthocyanins</th>\n",
       "      <th>Color</th>\n",
       "      <th>Hue</th>\n",
       "      <th>Dilution</th>\n",
       "      <th>Proline</th>\n",
       "    </tr>\n",
       "  </thead>\n",
       "  <tbody>\n",
       "    <tr>\n",
       "      <th>0</th>\n",
       "      <td>0.842105</td>\n",
       "      <td>0.191700</td>\n",
       "      <td>0.572193</td>\n",
       "      <td>0.257732</td>\n",
       "      <td>0.619565</td>\n",
       "      <td>0.627586</td>\n",
       "      <td>0.573840</td>\n",
       "      <td>0.283019</td>\n",
       "      <td>0.593060</td>\n",
       "      <td>0.372014</td>\n",
       "      <td>0.455285</td>\n",
       "      <td>0.970696</td>\n",
       "      <td>0.561341</td>\n",
       "    </tr>\n",
       "    <tr>\n",
       "      <th>1</th>\n",
       "      <td>0.571053</td>\n",
       "      <td>0.205534</td>\n",
       "      <td>0.417112</td>\n",
       "      <td>0.030928</td>\n",
       "      <td>0.326087</td>\n",
       "      <td>0.575862</td>\n",
       "      <td>0.510549</td>\n",
       "      <td>0.245283</td>\n",
       "      <td>0.274448</td>\n",
       "      <td>0.264505</td>\n",
       "      <td>0.463415</td>\n",
       "      <td>0.780220</td>\n",
       "      <td>0.550642</td>\n",
       "    </tr>\n",
       "    <tr>\n",
       "      <th>2</th>\n",
       "      <td>0.560526</td>\n",
       "      <td>0.320158</td>\n",
       "      <td>0.700535</td>\n",
       "      <td>0.412371</td>\n",
       "      <td>0.336957</td>\n",
       "      <td>0.627586</td>\n",
       "      <td>0.611814</td>\n",
       "      <td>0.320755</td>\n",
       "      <td>0.757098</td>\n",
       "      <td>0.375427</td>\n",
       "      <td>0.447154</td>\n",
       "      <td>0.695971</td>\n",
       "      <td>0.646933</td>\n",
       "    </tr>\n",
       "    <tr>\n",
       "      <th>3</th>\n",
       "      <td>0.878947</td>\n",
       "      <td>0.239130</td>\n",
       "      <td>0.609626</td>\n",
       "      <td>0.319588</td>\n",
       "      <td>0.467391</td>\n",
       "      <td>0.989655</td>\n",
       "      <td>0.664557</td>\n",
       "      <td>0.207547</td>\n",
       "      <td>0.558360</td>\n",
       "      <td>0.556314</td>\n",
       "      <td>0.308943</td>\n",
       "      <td>0.798535</td>\n",
       "      <td>0.857347</td>\n",
       "    </tr>\n",
       "    <tr>\n",
       "      <th>4</th>\n",
       "      <td>0.581579</td>\n",
       "      <td>0.365613</td>\n",
       "      <td>0.807487</td>\n",
       "      <td>0.536082</td>\n",
       "      <td>0.521739</td>\n",
       "      <td>0.627586</td>\n",
       "      <td>0.495781</td>\n",
       "      <td>0.490566</td>\n",
       "      <td>0.444795</td>\n",
       "      <td>0.259386</td>\n",
       "      <td>0.455285</td>\n",
       "      <td>0.608059</td>\n",
       "      <td>0.325963</td>\n",
       "    </tr>\n",
       "  </tbody>\n",
       "</table>\n",
       "</div>"
      ],
      "text/plain": [
       "    Alcohol     Malic       Ash  Alcalinity  Magnesium   Phenols  Flavanoids  \\\n",
       "0  0.842105  0.191700  0.572193    0.257732   0.619565  0.627586    0.573840   \n",
       "1  0.571053  0.205534  0.417112    0.030928   0.326087  0.575862    0.510549   \n",
       "2  0.560526  0.320158  0.700535    0.412371   0.336957  0.627586    0.611814   \n",
       "3  0.878947  0.239130  0.609626    0.319588   0.467391  0.989655    0.664557   \n",
       "4  0.581579  0.365613  0.807487    0.536082   0.521739  0.627586    0.495781   \n",
       "\n",
       "   Nonflavanoids  Proanthocyanins     Color       Hue  Dilution   Proline  \n",
       "0       0.283019         0.593060  0.372014  0.455285  0.970696  0.561341  \n",
       "1       0.245283         0.274448  0.264505  0.463415  0.780220  0.550642  \n",
       "2       0.320755         0.757098  0.375427  0.447154  0.695971  0.646933  \n",
       "3       0.207547         0.558360  0.556314  0.308943  0.798535  0.857347  \n",
       "4       0.490566         0.444795  0.259386  0.455285  0.608059  0.325963  "
      ]
     },
     "execution_count": 69,
     "metadata": {},
     "output_type": "execute_result"
    }
   ],
   "source": [
    "df_norm.head()"
   ]
  },
  {
   "cell_type": "code",
   "execution_count": 70,
   "id": "infectious-edgar",
   "metadata": {
    "ExecuteTime": {
     "end_time": "2021-08-29T01:15:09.944074Z",
     "start_time": "2021-08-29T01:15:09.913067Z"
    },
    "scrolled": true
   },
   "outputs": [
    {
     "data": {
      "text/html": [
       "<div>\n",
       "<style scoped>\n",
       "    .dataframe tbody tr th:only-of-type {\n",
       "        vertical-align: middle;\n",
       "    }\n",
       "\n",
       "    .dataframe tbody tr th {\n",
       "        vertical-align: top;\n",
       "    }\n",
       "\n",
       "    .dataframe thead th {\n",
       "        text-align: right;\n",
       "    }\n",
       "</style>\n",
       "<table border=\"1\" class=\"dataframe\">\n",
       "  <thead>\n",
       "    <tr style=\"text-align: right;\">\n",
       "      <th></th>\n",
       "      <th>Alcohol</th>\n",
       "      <th>Malic</th>\n",
       "      <th>Ash</th>\n",
       "      <th>Alcalinity</th>\n",
       "      <th>Magnesium</th>\n",
       "      <th>Phenols</th>\n",
       "      <th>Flavanoids</th>\n",
       "      <th>Nonflavanoids</th>\n",
       "      <th>Proanthocyanins</th>\n",
       "      <th>Color</th>\n",
       "      <th>Hue</th>\n",
       "      <th>Dilution</th>\n",
       "      <th>Proline</th>\n",
       "    </tr>\n",
       "  </thead>\n",
       "  <tbody>\n",
       "    <tr>\n",
       "      <th>count</th>\n",
       "      <td>178.000000</td>\n",
       "      <td>178.000000</td>\n",
       "      <td>178.000000</td>\n",
       "      <td>178.000000</td>\n",
       "      <td>178.000000</td>\n",
       "      <td>178.000000</td>\n",
       "      <td>178.000000</td>\n",
       "      <td>178.000000</td>\n",
       "      <td>178.000000</td>\n",
       "      <td>178.000000</td>\n",
       "      <td>178.000000</td>\n",
       "      <td>178.000000</td>\n",
       "      <td>178.000000</td>\n",
       "    </tr>\n",
       "    <tr>\n",
       "      <th>mean</th>\n",
       "      <td>0.518584</td>\n",
       "      <td>0.315484</td>\n",
       "      <td>0.538244</td>\n",
       "      <td>0.458502</td>\n",
       "      <td>0.323278</td>\n",
       "      <td>0.453487</td>\n",
       "      <td>0.356386</td>\n",
       "      <td>0.437460</td>\n",
       "      <td>0.372523</td>\n",
       "      <td>0.322363</td>\n",
       "      <td>0.388170</td>\n",
       "      <td>0.491460</td>\n",
       "      <td>0.334446</td>\n",
       "    </tr>\n",
       "    <tr>\n",
       "      <th>std</th>\n",
       "      <td>0.213639</td>\n",
       "      <td>0.220780</td>\n",
       "      <td>0.146708</td>\n",
       "      <td>0.172142</td>\n",
       "      <td>0.155244</td>\n",
       "      <td>0.215811</td>\n",
       "      <td>0.210730</td>\n",
       "      <td>0.234818</td>\n",
       "      <td>0.180555</td>\n",
       "      <td>0.197806</td>\n",
       "      <td>0.185831</td>\n",
       "      <td>0.260070</td>\n",
       "      <td>0.224613</td>\n",
       "    </tr>\n",
       "    <tr>\n",
       "      <th>min</th>\n",
       "      <td>0.000000</td>\n",
       "      <td>0.000000</td>\n",
       "      <td>0.000000</td>\n",
       "      <td>0.000000</td>\n",
       "      <td>0.000000</td>\n",
       "      <td>0.000000</td>\n",
       "      <td>0.000000</td>\n",
       "      <td>0.000000</td>\n",
       "      <td>0.000000</td>\n",
       "      <td>0.000000</td>\n",
       "      <td>0.000000</td>\n",
       "      <td>0.000000</td>\n",
       "      <td>0.000000</td>\n",
       "    </tr>\n",
       "    <tr>\n",
       "      <th>25%</th>\n",
       "      <td>0.350658</td>\n",
       "      <td>0.170455</td>\n",
       "      <td>0.454545</td>\n",
       "      <td>0.340206</td>\n",
       "      <td>0.195652</td>\n",
       "      <td>0.262931</td>\n",
       "      <td>0.182489</td>\n",
       "      <td>0.264151</td>\n",
       "      <td>0.264984</td>\n",
       "      <td>0.165529</td>\n",
       "      <td>0.245935</td>\n",
       "      <td>0.244505</td>\n",
       "      <td>0.158702</td>\n",
       "    </tr>\n",
       "    <tr>\n",
       "      <th>50%</th>\n",
       "      <td>0.531579</td>\n",
       "      <td>0.222332</td>\n",
       "      <td>0.534759</td>\n",
       "      <td>0.458763</td>\n",
       "      <td>0.304348</td>\n",
       "      <td>0.474138</td>\n",
       "      <td>0.378692</td>\n",
       "      <td>0.396226</td>\n",
       "      <td>0.361199</td>\n",
       "      <td>0.290956</td>\n",
       "      <td>0.394309</td>\n",
       "      <td>0.553114</td>\n",
       "      <td>0.282097</td>\n",
       "    </tr>\n",
       "    <tr>\n",
       "      <th>75%</th>\n",
       "      <td>0.696711</td>\n",
       "      <td>0.462945</td>\n",
       "      <td>0.640374</td>\n",
       "      <td>0.561856</td>\n",
       "      <td>0.402174</td>\n",
       "      <td>0.627586</td>\n",
       "      <td>0.534810</td>\n",
       "      <td>0.580189</td>\n",
       "      <td>0.485804</td>\n",
       "      <td>0.419795</td>\n",
       "      <td>0.520325</td>\n",
       "      <td>0.695971</td>\n",
       "      <td>0.504280</td>\n",
       "    </tr>\n",
       "    <tr>\n",
       "      <th>max</th>\n",
       "      <td>1.000000</td>\n",
       "      <td>1.000000</td>\n",
       "      <td>1.000000</td>\n",
       "      <td>1.000000</td>\n",
       "      <td>1.000000</td>\n",
       "      <td>1.000000</td>\n",
       "      <td>1.000000</td>\n",
       "      <td>1.000000</td>\n",
       "      <td>1.000000</td>\n",
       "      <td>1.000000</td>\n",
       "      <td>1.000000</td>\n",
       "      <td>1.000000</td>\n",
       "      <td>1.000000</td>\n",
       "    </tr>\n",
       "  </tbody>\n",
       "</table>\n",
       "</div>"
      ],
      "text/plain": [
       "          Alcohol       Malic         Ash  Alcalinity   Magnesium     Phenols  \\\n",
       "count  178.000000  178.000000  178.000000  178.000000  178.000000  178.000000   \n",
       "mean     0.518584    0.315484    0.538244    0.458502    0.323278    0.453487   \n",
       "std      0.213639    0.220780    0.146708    0.172142    0.155244    0.215811   \n",
       "min      0.000000    0.000000    0.000000    0.000000    0.000000    0.000000   \n",
       "25%      0.350658    0.170455    0.454545    0.340206    0.195652    0.262931   \n",
       "50%      0.531579    0.222332    0.534759    0.458763    0.304348    0.474138   \n",
       "75%      0.696711    0.462945    0.640374    0.561856    0.402174    0.627586   \n",
       "max      1.000000    1.000000    1.000000    1.000000    1.000000    1.000000   \n",
       "\n",
       "       Flavanoids  Nonflavanoids  Proanthocyanins       Color         Hue  \\\n",
       "count  178.000000     178.000000       178.000000  178.000000  178.000000   \n",
       "mean     0.356386       0.437460         0.372523    0.322363    0.388170   \n",
       "std      0.210730       0.234818         0.180555    0.197806    0.185831   \n",
       "min      0.000000       0.000000         0.000000    0.000000    0.000000   \n",
       "25%      0.182489       0.264151         0.264984    0.165529    0.245935   \n",
       "50%      0.378692       0.396226         0.361199    0.290956    0.394309   \n",
       "75%      0.534810       0.580189         0.485804    0.419795    0.520325   \n",
       "max      1.000000       1.000000         1.000000    1.000000    1.000000   \n",
       "\n",
       "         Dilution     Proline  \n",
       "count  178.000000  178.000000  \n",
       "mean     0.491460    0.334446  \n",
       "std      0.260070    0.224613  \n",
       "min      0.000000    0.000000  \n",
       "25%      0.244505    0.158702  \n",
       "50%      0.553114    0.282097  \n",
       "75%      0.695971    0.504280  \n",
       "max      1.000000    1.000000  "
      ]
     },
     "execution_count": 70,
     "metadata": {},
     "output_type": "execute_result"
    }
   ],
   "source": [
    "df_norm.describe()"
   ]
  },
  {
   "cell_type": "markdown",
   "id": "broke-cornwall",
   "metadata": {},
   "source": [
    "## Matríz de distancias euclidianas\n",
    "A modo de ejemplo, se va a calcular las distancias entre las diferentes instancias de nuestro conjunto de datos, para esto se utilizará la función 'pairwise_distances' de scikitlearn. Debido a la cantidad de instancias que tenemos en el dataframe solo se visualizará la distancia entre las primeras 13 instancias, que es igual a la cantidad de atributos. Esta apartado es opcional para construir nuestros clusteres con el algoritmo K-Means pero es interesante como se calculan las distancias por el método euclidiano."
   ]
  },
  {
   "cell_type": "code",
   "execution_count": 71,
   "id": "hindu-henry",
   "metadata": {
    "ExecuteTime": {
     "end_time": "2021-08-29T01:15:10.518265Z",
     "start_time": "2021-08-29T01:15:10.503222Z"
    }
   },
   "outputs": [],
   "source": [
    "from sklearn.metrics import pairwise_distances\n",
    "\n",
    "distancias = pairwise_distances(X=df_norm, metric='euclidean')"
   ]
  },
  {
   "cell_type": "code",
   "execution_count": 72,
   "id": "greek-rebel",
   "metadata": {
    "ExecuteTime": {
     "end_time": "2021-08-29T01:15:11.086163Z",
     "start_time": "2021-08-29T01:15:11.073884Z"
    }
   },
   "outputs": [],
   "source": [
    "# La matriz de distancias es simétrica con respecto a la diagonal principal por lo que\n",
    "# vamos a asignar el valor 'NaN' a las distancias que están por encima de esta\n",
    "distancias[np.triu_indices(n=distancias.shape[0])] = np.nan"
   ]
  },
  {
   "cell_type": "code",
   "execution_count": 73,
   "id": "center-charles",
   "metadata": {
    "ExecuteTime": {
     "end_time": "2021-08-29T01:15:11.651890Z",
     "start_time": "2021-08-29T01:15:11.637887Z"
    }
   },
   "outputs": [
    {
     "data": {
      "text/html": [
       "<div>\n",
       "<style scoped>\n",
       "    .dataframe tbody tr th:only-of-type {\n",
       "        vertical-align: middle;\n",
       "    }\n",
       "\n",
       "    .dataframe tbody tr th {\n",
       "        vertical-align: top;\n",
       "    }\n",
       "\n",
       "    .dataframe thead th {\n",
       "        text-align: right;\n",
       "    }\n",
       "</style>\n",
       "<table border=\"1\" class=\"dataframe\">\n",
       "  <thead>\n",
       "    <tr style=\"text-align: right;\">\n",
       "      <th></th>\n",
       "      <th>1</th>\n",
       "      <th>2</th>\n",
       "      <th>3</th>\n",
       "      <th>4</th>\n",
       "      <th>5</th>\n",
       "      <th>6</th>\n",
       "      <th>7</th>\n",
       "      <th>8</th>\n",
       "      <th>9</th>\n",
       "      <th>10</th>\n",
       "      <th>11</th>\n",
       "      <th>12</th>\n",
       "      <th>13</th>\n",
       "    </tr>\n",
       "  </thead>\n",
       "  <tbody>\n",
       "    <tr>\n",
       "      <th>1</th>\n",
       "      <td>NaN</td>\n",
       "      <td>NaN</td>\n",
       "      <td>NaN</td>\n",
       "      <td>NaN</td>\n",
       "      <td>NaN</td>\n",
       "      <td>NaN</td>\n",
       "      <td>NaN</td>\n",
       "      <td>NaN</td>\n",
       "      <td>NaN</td>\n",
       "      <td>NaN</td>\n",
       "      <td>NaN</td>\n",
       "      <td>NaN</td>\n",
       "      <td>NaN</td>\n",
       "    </tr>\n",
       "    <tr>\n",
       "      <th>2</th>\n",
       "      <td>0.626832</td>\n",
       "      <td>NaN</td>\n",
       "      <td>NaN</td>\n",
       "      <td>NaN</td>\n",
       "      <td>NaN</td>\n",
       "      <td>NaN</td>\n",
       "      <td>NaN</td>\n",
       "      <td>NaN</td>\n",
       "      <td>NaN</td>\n",
       "      <td>NaN</td>\n",
       "      <td>NaN</td>\n",
       "      <td>NaN</td>\n",
       "      <td>NaN</td>\n",
       "    </tr>\n",
       "    <tr>\n",
       "      <th>3</th>\n",
       "      <td>0.573318</td>\n",
       "      <td>0.720909</td>\n",
       "      <td>NaN</td>\n",
       "      <td>NaN</td>\n",
       "      <td>NaN</td>\n",
       "      <td>NaN</td>\n",
       "      <td>NaN</td>\n",
       "      <td>NaN</td>\n",
       "      <td>NaN</td>\n",
       "      <td>NaN</td>\n",
       "      <td>NaN</td>\n",
       "      <td>NaN</td>\n",
       "      <td>NaN</td>\n",
       "    </tr>\n",
       "    <tr>\n",
       "      <th>4</th>\n",
       "      <td>0.592331</td>\n",
       "      <td>0.846564</td>\n",
       "      <td>0.659279</td>\n",
       "      <td>NaN</td>\n",
       "      <td>NaN</td>\n",
       "      <td>NaN</td>\n",
       "      <td>NaN</td>\n",
       "      <td>NaN</td>\n",
       "      <td>NaN</td>\n",
       "      <td>NaN</td>\n",
       "      <td>NaN</td>\n",
       "      <td>NaN</td>\n",
       "      <td>NaN</td>\n",
       "    </tr>\n",
       "    <tr>\n",
       "      <th>5</th>\n",
       "      <td>0.715037</td>\n",
       "      <td>0.802419</td>\n",
       "      <td>0.572286</td>\n",
       "      <td>0.934990</td>\n",
       "      <td>NaN</td>\n",
       "      <td>NaN</td>\n",
       "      <td>NaN</td>\n",
       "      <td>NaN</td>\n",
       "      <td>NaN</td>\n",
       "      <td>NaN</td>\n",
       "      <td>NaN</td>\n",
       "      <td>NaN</td>\n",
       "      <td>NaN</td>\n",
       "    </tr>\n",
       "    <tr>\n",
       "      <th>6</th>\n",
       "      <td>0.565213</td>\n",
       "      <td>0.672823</td>\n",
       "      <td>0.555933</td>\n",
       "      <td>0.414884</td>\n",
       "      <td>0.773320</td>\n",
       "      <td>NaN</td>\n",
       "      <td>NaN</td>\n",
       "      <td>NaN</td>\n",
       "      <td>NaN</td>\n",
       "      <td>NaN</td>\n",
       "      <td>NaN</td>\n",
       "      <td>NaN</td>\n",
       "      <td>NaN</td>\n",
       "    </tr>\n",
       "    <tr>\n",
       "      <th>7</th>\n",
       "      <td>0.443158</td>\n",
       "      <td>0.507863</td>\n",
       "      <td>0.552595</td>\n",
       "      <td>0.638962</td>\n",
       "      <td>0.769170</td>\n",
       "      <td>0.495551</td>\n",
       "      <td>NaN</td>\n",
       "      <td>NaN</td>\n",
       "      <td>NaN</td>\n",
       "      <td>NaN</td>\n",
       "      <td>NaN</td>\n",
       "      <td>NaN</td>\n",
       "      <td>NaN</td>\n",
       "    </tr>\n",
       "    <tr>\n",
       "      <th>8</th>\n",
       "      <td>0.456059</td>\n",
       "      <td>0.575290</td>\n",
       "      <td>0.641844</td>\n",
       "      <td>0.673918</td>\n",
       "      <td>0.622035</td>\n",
       "      <td>0.535687</td>\n",
       "      <td>0.414272</td>\n",
       "      <td>NaN</td>\n",
       "      <td>NaN</td>\n",
       "      <td>NaN</td>\n",
       "      <td>NaN</td>\n",
       "      <td>NaN</td>\n",
       "      <td>NaN</td>\n",
       "    </tr>\n",
       "    <tr>\n",
       "      <th>9</th>\n",
       "      <td>0.569281</td>\n",
       "      <td>0.556596</td>\n",
       "      <td>0.664793</td>\n",
       "      <td>0.694229</td>\n",
       "      <td>0.794407</td>\n",
       "      <td>0.474415</td>\n",
       "      <td>0.404822</td>\n",
       "      <td>0.617932</td>\n",
       "      <td>NaN</td>\n",
       "      <td>NaN</td>\n",
       "      <td>NaN</td>\n",
       "      <td>NaN</td>\n",
       "      <td>NaN</td>\n",
       "    </tr>\n",
       "    <tr>\n",
       "      <th>10</th>\n",
       "      <td>0.441912</td>\n",
       "      <td>0.473779</td>\n",
       "      <td>0.551489</td>\n",
       "      <td>0.545730</td>\n",
       "      <td>0.762785</td>\n",
       "      <td>0.515571</td>\n",
       "      <td>0.416491</td>\n",
       "      <td>0.545930</td>\n",
       "      <td>0.452776</td>\n",
       "      <td>NaN</td>\n",
       "      <td>NaN</td>\n",
       "      <td>NaN</td>\n",
       "      <td>NaN</td>\n",
       "    </tr>\n",
       "    <tr>\n",
       "      <th>11</th>\n",
       "      <td>0.557820</td>\n",
       "      <td>0.707452</td>\n",
       "      <td>0.484414</td>\n",
       "      <td>0.524128</td>\n",
       "      <td>0.840831</td>\n",
       "      <td>0.411914</td>\n",
       "      <td>0.480690</td>\n",
       "      <td>0.575709</td>\n",
       "      <td>0.537222</td>\n",
       "      <td>0.508743</td>\n",
       "      <td>NaN</td>\n",
       "      <td>NaN</td>\n",
       "      <td>NaN</td>\n",
       "    </tr>\n",
       "    <tr>\n",
       "      <th>12</th>\n",
       "      <td>0.666843</td>\n",
       "      <td>0.528521</td>\n",
       "      <td>0.640334</td>\n",
       "      <td>0.816632</td>\n",
       "      <td>0.759669</td>\n",
       "      <td>0.558375</td>\n",
       "      <td>0.393909</td>\n",
       "      <td>0.497424</td>\n",
       "      <td>0.416787</td>\n",
       "      <td>0.519743</td>\n",
       "      <td>0.508571</td>\n",
       "      <td>NaN</td>\n",
       "      <td>NaN</td>\n",
       "    </tr>\n",
       "    <tr>\n",
       "      <th>13</th>\n",
       "      <td>0.632336</td>\n",
       "      <td>0.486764</td>\n",
       "      <td>0.487251</td>\n",
       "      <td>0.690688</td>\n",
       "      <td>0.712696</td>\n",
       "      <td>0.431715</td>\n",
       "      <td>0.349476</td>\n",
       "      <td>0.508034</td>\n",
       "      <td>0.410795</td>\n",
       "      <td>0.436372</td>\n",
       "      <td>0.416245</td>\n",
       "      <td>0.239912</td>\n",
       "      <td>NaN</td>\n",
       "    </tr>\n",
       "  </tbody>\n",
       "</table>\n",
       "</div>"
      ],
      "text/plain": [
       "          1         2         3         4         5         6         7   \\\n",
       "1        NaN       NaN       NaN       NaN       NaN       NaN       NaN   \n",
       "2   0.626832       NaN       NaN       NaN       NaN       NaN       NaN   \n",
       "3   0.573318  0.720909       NaN       NaN       NaN       NaN       NaN   \n",
       "4   0.592331  0.846564  0.659279       NaN       NaN       NaN       NaN   \n",
       "5   0.715037  0.802419  0.572286  0.934990       NaN       NaN       NaN   \n",
       "6   0.565213  0.672823  0.555933  0.414884  0.773320       NaN       NaN   \n",
       "7   0.443158  0.507863  0.552595  0.638962  0.769170  0.495551       NaN   \n",
       "8   0.456059  0.575290  0.641844  0.673918  0.622035  0.535687  0.414272   \n",
       "9   0.569281  0.556596  0.664793  0.694229  0.794407  0.474415  0.404822   \n",
       "10  0.441912  0.473779  0.551489  0.545730  0.762785  0.515571  0.416491   \n",
       "11  0.557820  0.707452  0.484414  0.524128  0.840831  0.411914  0.480690   \n",
       "12  0.666843  0.528521  0.640334  0.816632  0.759669  0.558375  0.393909   \n",
       "13  0.632336  0.486764  0.487251  0.690688  0.712696  0.431715  0.349476   \n",
       "\n",
       "          8         9         10        11        12  13  \n",
       "1        NaN       NaN       NaN       NaN       NaN NaN  \n",
       "2        NaN       NaN       NaN       NaN       NaN NaN  \n",
       "3        NaN       NaN       NaN       NaN       NaN NaN  \n",
       "4        NaN       NaN       NaN       NaN       NaN NaN  \n",
       "5        NaN       NaN       NaN       NaN       NaN NaN  \n",
       "6        NaN       NaN       NaN       NaN       NaN NaN  \n",
       "7        NaN       NaN       NaN       NaN       NaN NaN  \n",
       "8        NaN       NaN       NaN       NaN       NaN NaN  \n",
       "9   0.617932       NaN       NaN       NaN       NaN NaN  \n",
       "10  0.545930  0.452776       NaN       NaN       NaN NaN  \n",
       "11  0.575709  0.537222  0.508743       NaN       NaN NaN  \n",
       "12  0.497424  0.416787  0.519743  0.508571       NaN NaN  \n",
       "13  0.508034  0.410795  0.436372  0.416245  0.239912 NaN  "
      ]
     },
     "execution_count": 73,
     "metadata": {},
     "output_type": "execute_result"
    }
   ],
   "source": [
    "distancias = pd.DataFrame(distancias,\n",
    "                          columns=df_norm.index + 1,\n",
    "                          index=df_norm.index + 1)\n",
    "distancias.iloc[:13, :13]"
   ]
  },
  {
   "cell_type": "markdown",
   "id": "spoken-contrast",
   "metadata": {},
   "source": [
    "## Determinar la cantidad óptima de clusters"
   ]
  },
  {
   "cell_type": "markdown",
   "id": "equal-metabolism",
   "metadata": {},
   "source": [
    "### Método Elbow (Codo de Jambú)\n",
    "El método Elbow, también conocido como método del codo, sigue una estrategia comúnmente empleada para encontrar el valor óptimo de un hiperparámetro. La idea es probar un rango de valores del hiperparámetro en cuestión, representar gráficamente los resultados obtenidos con cada uno, e identificar aquel punto de la curva (codo) a partir del cual la mejora deja de ser notable. En los casos de partitioning clustering, como por ejemplo K-means, las observaciones se agrupan de una forma tal que se minimiza la varianza total intra-cluster. El método Elbow calcula la varianza total intra-cluster en función del número de clusters y escoge como óptimo aquel valor a partir del cual añadir más clusters apenas consigue mejoría."
   ]
  },
  {
   "cell_type": "code",
   "execution_count": 74,
   "id": "worst-dimension",
   "metadata": {
    "ExecuteTime": {
     "end_time": "2021-08-29T01:15:12.639751Z",
     "start_time": "2021-08-29T01:15:12.224652Z"
    }
   },
   "outputs": [
    {
     "name": "stdout",
     "output_type": "stream",
     "text": [
      "[95.59953778471063, 64.5376670238943, 48.954035819626625, 44.769330540824775, 42.27967465399292, 39.759582294900135, 38.225044102476936, 36.311270130813575, 34.679775356882125, 33.36672251328923, 31.91245979247747, 30.7078000522445, 30.00382915440844, 28.651820756859237]\n"
     ]
    }
   ],
   "source": [
    "# Se crean varios modelos de cluster para obtener el valor de la\n",
    "# suma de los cuadrados en cada grupo\n",
    "datos = []\n",
    "\n",
    "for i in range(1, 15):\n",
    "    kmedias = KMeans(n_clusters=i, max_iter=1000)\n",
    "    kmedias.fit(df_norm)\n",
    "    # Actualizar la lista datos\n",
    "    datos.append(kmedias.inertia_)\n",
    "\n",
    "print(datos)"
   ]
  },
  {
   "cell_type": "code",
   "execution_count": 75,
   "id": "external-manufacturer",
   "metadata": {
    "ExecuteTime": {
     "end_time": "2021-08-29T01:15:13.337491Z",
     "start_time": "2021-08-29T01:15:13.213456Z"
    },
    "scrolled": false
   },
   "outputs": [
    {
     "data": {
      "text/plain": [
       "Text(0, 0.5, 'Suma de cuadrados en cada grupo (wcss)')"
      ]
     },
     "execution_count": 75,
     "metadata": {},
     "output_type": "execute_result"
    },
    {
     "data": {
      "image/png": "[encoded data removed]",
      "text/plain": [
       "<Figure size 432x288 with 1 Axes>"
      ]
     },
     "metadata": {
      "needs_background": "light"
     },
     "output_type": "display_data"
    }
   ],
   "source": [
    "plt.plot(range(1, 15), datos)\n",
    "plt.title('Codo de Jambú')\n",
    "plt.xlabel('Número de clusters')\n",
    "plt.ylabel('Suma de cuadrados en cada grupo (wcss)')"
   ]
  },
  {
   "cell_type": "markdown",
   "id": "strange-contributor",
   "metadata": {},
   "source": [
    "Se observa en la gráfica que a partir de 3 clusteres comienza a estabilizarse la suma de los cuadrados en cada grupo."
   ]
  },
  {
   "cell_type": "markdown",
   "id": "possible-messenger",
   "metadata": {},
   "source": [
    "### Método promedio silhouette\n",
    "El método de average silhouette considera como número óptimo de clusters aquel que maximiza la media del silhouette coeficient de todas las observaciones.\n",
    "\n",
    "El silhouette coeficient  ($s_i$)  cuantifica cómo de buena es la asignación que se ha hecho de una observación comparando su similitud con el resto de observaciones de su cluster frente a las de los otros clusters. Su valor puede estar entre -1 y 1, siendo valores próximos a 1 un indicativo de que la observación se ha asignado al cluster correcto."
   ]
  },
  {
   "cell_type": "code",
   "execution_count": 76,
   "id": "expired-twelve",
   "metadata": {
    "ExecuteTime": {
     "end_time": "2021-08-29T01:15:16.530371Z",
     "start_time": "2021-08-29T01:15:15.920233Z"
    }
   },
   "outputs": [],
   "source": [
    "# Importar los módulos y funciones necesarias\n",
    "from sklearn.metrics import silhouette_score\n",
    "\n",
    "prom_silhouette = []\n",
    "\n",
    "for i in range(2, 15):\n",
    "    km_sil = KMeans(n_clusters=i, max_iter=1000, n_init=20)\n",
    "    # Ajustar los datos y realizar las predicciones\n",
    "    model = km_sil.fit_predict(df_norm)\n",
    "    # Obtener los valores medios de silhouette\n",
    "    sil_prom = silhouette_score(df_norm, model)\n",
    "    # Actualizar la lista prom_silhouette\n",
    "    prom_silhouette.append(sil_prom)"
   ]
  },
  {
   "cell_type": "code",
   "execution_count": 77,
   "id": "rotary-roller",
   "metadata": {
    "ExecuteTime": {
     "end_time": "2021-08-29T01:15:17.214329Z",
     "start_time": "2021-08-29T01:15:17.088100Z"
    }
   },
   "outputs": [
    {
     "data": {
      "text/plain": [
       "Text(0, 0.5, 'Media índices silhouette')"
      ]
     },
     "execution_count": 77,
     "metadata": {},
     "output_type": "execute_result"
    },
    {
     "data": {
      "image/png": "[encoded data removed]",
      "text/plain": [
       "<Figure size 432x360 with 1 Axes>"
      ]
     },
     "metadata": {
      "needs_background": "light"
     },
     "output_type": "display_data"
    }
   ],
   "source": [
    "fig, ax = plt.subplots(1, 1, figsize=(6, 5))\n",
    "ax.plot(range(2, 15), prom_silhouette, marker='o')\n",
    "ax.set_title(\"Evolución de media de los índices silhouette\")\n",
    "ax.set_xlabel('Número clusteres')\n",
    "ax.set_ylabel('Media índices silhouette')"
   ]
  },
  {
   "cell_type": "markdown",
   "id": "durable-resolution",
   "metadata": {},
   "source": [
    "El valor promedio máximo de los índices de silhouette se presenta cuando hay presencia de tres clusteres, ambos métodos para escoger la cantidad de clusteres coincide por lo que se creará un modelo con este valor."
   ]
  },
  {
   "cell_type": "markdown",
   "id": "framed-abortion",
   "metadata": {},
   "source": [
    "## Aplicar K-Means con los clusters determinados en el codo de Jambú"
   ]
  },
  {
   "cell_type": "code",
   "execution_count": 78,
   "id": "known-musical",
   "metadata": {
    "ExecuteTime": {
     "end_time": "2021-08-29T01:15:18.006186Z",
     "start_time": "2021-08-29T01:15:17.988170Z"
    }
   },
   "outputs": [
    {
     "data": {
      "text/plain": [
       "KMeans(max_iter=1000, n_clusters=3)"
      ]
     },
     "execution_count": 78,
     "metadata": {},
     "output_type": "execute_result"
    }
   ],
   "source": [
    "clusters = KMeans(n_clusters=3, max_iter=1000)\n",
    "clusters.fit(df_norm)"
   ]
  },
  {
   "cell_type": "code",
   "execution_count": 79,
   "id": "complete-round",
   "metadata": {
    "ExecuteTime": {
     "end_time": "2021-08-29T01:15:18.815767Z",
     "start_time": "2021-08-29T01:15:18.799773Z"
    },
    "scrolled": true
   },
   "outputs": [
    {
     "data": {
      "text/html": [
       "<div>\n",
       "<style scoped>\n",
       "    .dataframe tbody tr th:only-of-type {\n",
       "        vertical-align: middle;\n",
       "    }\n",
       "\n",
       "    .dataframe tbody tr th {\n",
       "        vertical-align: top;\n",
       "    }\n",
       "\n",
       "    .dataframe thead th {\n",
       "        text-align: right;\n",
       "    }\n",
       "</style>\n",
       "<table border=\"1\" class=\"dataframe\">\n",
       "  <thead>\n",
       "    <tr style=\"text-align: right;\">\n",
       "      <th></th>\n",
       "      <th>Alcohol</th>\n",
       "      <th>Malic</th>\n",
       "      <th>Ash</th>\n",
       "      <th>Alcalinity</th>\n",
       "      <th>Magnesium</th>\n",
       "      <th>Phenols</th>\n",
       "      <th>Flavanoids</th>\n",
       "      <th>Nonflavanoids</th>\n",
       "      <th>Proanthocyanins</th>\n",
       "      <th>Color</th>\n",
       "      <th>Hue</th>\n",
       "      <th>Dilution</th>\n",
       "      <th>Proline</th>\n",
       "      <th>Cluster_KMeans</th>\n",
       "    </tr>\n",
       "  </thead>\n",
       "  <tbody>\n",
       "    <tr>\n",
       "      <th>0</th>\n",
       "      <td>14.23</td>\n",
       "      <td>1.71</td>\n",
       "      <td>2.43</td>\n",
       "      <td>15.6</td>\n",
       "      <td>127</td>\n",
       "      <td>2.80</td>\n",
       "      <td>3.06</td>\n",
       "      <td>0.28</td>\n",
       "      <td>2.29</td>\n",
       "      <td>5.64</td>\n",
       "      <td>1.04</td>\n",
       "      <td>3.92</td>\n",
       "      <td>1065</td>\n",
       "      <td>0</td>\n",
       "    </tr>\n",
       "    <tr>\n",
       "      <th>1</th>\n",
       "      <td>13.20</td>\n",
       "      <td>1.78</td>\n",
       "      <td>2.14</td>\n",
       "      <td>11.2</td>\n",
       "      <td>100</td>\n",
       "      <td>2.65</td>\n",
       "      <td>2.76</td>\n",
       "      <td>0.26</td>\n",
       "      <td>1.28</td>\n",
       "      <td>4.38</td>\n",
       "      <td>1.05</td>\n",
       "      <td>3.40</td>\n",
       "      <td>1050</td>\n",
       "      <td>0</td>\n",
       "    </tr>\n",
       "    <tr>\n",
       "      <th>2</th>\n",
       "      <td>13.16</td>\n",
       "      <td>2.36</td>\n",
       "      <td>2.67</td>\n",
       "      <td>18.6</td>\n",
       "      <td>101</td>\n",
       "      <td>2.80</td>\n",
       "      <td>3.24</td>\n",
       "      <td>0.30</td>\n",
       "      <td>2.81</td>\n",
       "      <td>5.68</td>\n",
       "      <td>1.03</td>\n",
       "      <td>3.17</td>\n",
       "      <td>1185</td>\n",
       "      <td>0</td>\n",
       "    </tr>\n",
       "    <tr>\n",
       "      <th>3</th>\n",
       "      <td>14.37</td>\n",
       "      <td>1.95</td>\n",
       "      <td>2.50</td>\n",
       "      <td>16.8</td>\n",
       "      <td>113</td>\n",
       "      <td>3.85</td>\n",
       "      <td>3.49</td>\n",
       "      <td>0.24</td>\n",
       "      <td>2.18</td>\n",
       "      <td>7.80</td>\n",
       "      <td>0.86</td>\n",
       "      <td>3.45</td>\n",
       "      <td>1480</td>\n",
       "      <td>0</td>\n",
       "    </tr>\n",
       "    <tr>\n",
       "      <th>4</th>\n",
       "      <td>13.24</td>\n",
       "      <td>2.59</td>\n",
       "      <td>2.87</td>\n",
       "      <td>21.0</td>\n",
       "      <td>118</td>\n",
       "      <td>2.80</td>\n",
       "      <td>2.69</td>\n",
       "      <td>0.39</td>\n",
       "      <td>1.82</td>\n",
       "      <td>4.32</td>\n",
       "      <td>1.04</td>\n",
       "      <td>2.93</td>\n",
       "      <td>735</td>\n",
       "      <td>0</td>\n",
       "    </tr>\n",
       "  </tbody>\n",
       "</table>\n",
       "</div>"
      ],
      "text/plain": [
       "   Alcohol  Malic   Ash  Alcalinity  Magnesium  Phenols  Flavanoids  \\\n",
       "0    14.23   1.71  2.43        15.6        127     2.80        3.06   \n",
       "1    13.20   1.78  2.14        11.2        100     2.65        2.76   \n",
       "2    13.16   2.36  2.67        18.6        101     2.80        3.24   \n",
       "3    14.37   1.95  2.50        16.8        113     3.85        3.49   \n",
       "4    13.24   2.59  2.87        21.0        118     2.80        2.69   \n",
       "\n",
       "   Nonflavanoids  Proanthocyanins  Color   Hue  Dilution  Proline  \\\n",
       "0           0.28             2.29   5.64  1.04      3.92     1065   \n",
       "1           0.26             1.28   4.38  1.05      3.40     1050   \n",
       "2           0.30             2.81   5.68  1.03      3.17     1185   \n",
       "3           0.24             2.18   7.80  0.86      3.45     1480   \n",
       "4           0.39             1.82   4.32  1.04      2.93      735   \n",
       "\n",
       "   Cluster_KMeans  \n",
       "0               0  \n",
       "1               0  \n",
       "2               0  \n",
       "3               0  \n",
       "4               0  "
      ]
     },
     "execution_count": 79,
     "metadata": {},
     "output_type": "execute_result"
    }
   ],
   "source": [
    "# Agregar al dataframe una columna con los clusteres asignados\n",
    "df['Cluster_KMeans'] = clusters.labels_\n",
    "df.head()"
   ]
  },
  {
   "cell_type": "markdown",
   "id": "distributed-publisher",
   "metadata": {},
   "source": [
    "## Visualizar los clusters formados\n",
    "Por limitaciones inherentes a nuestra capacidad de visualización de los datos vamos a desarrollar dos modelos equivalentes, uno en 2D y otro en 3D, haciendo uso del Análisis de Componentes Principales con el fin de reducir los atributos del dataframe a dos componentes y tres componentes, respectivamente."
   ]
  },
  {
   "cell_type": "code",
   "execution_count": 80,
   "id": "occasional-prophet",
   "metadata": {
    "ExecuteTime": {
     "end_time": "2021-08-29T01:15:23.406936Z",
     "start_time": "2021-08-29T01:15:23.392944Z"
    }
   },
   "outputs": [
    {
     "data": {
      "text/html": [
       "<div>\n",
       "<style scoped>\n",
       "    .dataframe tbody tr th:only-of-type {\n",
       "        vertical-align: middle;\n",
       "    }\n",
       "\n",
       "    .dataframe tbody tr th {\n",
       "        vertical-align: top;\n",
       "    }\n",
       "\n",
       "    .dataframe thead th {\n",
       "        text-align: right;\n",
       "    }\n",
       "</style>\n",
       "<table border=\"1\" class=\"dataframe\">\n",
       "  <thead>\n",
       "    <tr style=\"text-align: right;\">\n",
       "      <th></th>\n",
       "      <th>Comp_1</th>\n",
       "      <th>Comp_2</th>\n",
       "      <th>Cluster_KMeans</th>\n",
       "    </tr>\n",
       "  </thead>\n",
       "  <tbody>\n",
       "    <tr>\n",
       "      <th>0</th>\n",
       "      <td>-0.706336</td>\n",
       "      <td>-0.253193</td>\n",
       "      <td>0</td>\n",
       "    </tr>\n",
       "    <tr>\n",
       "      <th>1</th>\n",
       "      <td>-0.484977</td>\n",
       "      <td>-0.008823</td>\n",
       "      <td>0</td>\n",
       "    </tr>\n",
       "    <tr>\n",
       "      <th>2</th>\n",
       "      <td>-0.521172</td>\n",
       "      <td>-0.189187</td>\n",
       "      <td>0</td>\n",
       "    </tr>\n",
       "    <tr>\n",
       "      <th>3</th>\n",
       "      <td>-0.821644</td>\n",
       "      <td>-0.580906</td>\n",
       "      <td>0</td>\n",
       "    </tr>\n",
       "    <tr>\n",
       "      <th>4</th>\n",
       "      <td>-0.202546</td>\n",
       "      <td>-0.059467</td>\n",
       "      <td>0</td>\n",
       "    </tr>\n",
       "    <tr>\n",
       "      <th>...</th>\n",
       "      <td>...</td>\n",
       "      <td>...</td>\n",
       "      <td>...</td>\n",
       "    </tr>\n",
       "    <tr>\n",
       "      <th>173</th>\n",
       "      <td>0.739510</td>\n",
       "      <td>-0.471901</td>\n",
       "      <td>1</td>\n",
       "    </tr>\n",
       "    <tr>\n",
       "      <th>174</th>\n",
       "      <td>0.581781</td>\n",
       "      <td>-0.348366</td>\n",
       "      <td>1</td>\n",
       "    </tr>\n",
       "    <tr>\n",
       "      <th>175</th>\n",
       "      <td>0.626313</td>\n",
       "      <td>-0.546857</td>\n",
       "      <td>1</td>\n",
       "    </tr>\n",
       "    <tr>\n",
       "      <th>176</th>\n",
       "      <td>0.572991</td>\n",
       "      <td>-0.425516</td>\n",
       "      <td>1</td>\n",
       "    </tr>\n",
       "    <tr>\n",
       "      <th>177</th>\n",
       "      <td>0.701764</td>\n",
       "      <td>-0.513505</td>\n",
       "      <td>1</td>\n",
       "    </tr>\n",
       "  </tbody>\n",
       "</table>\n",
       "<p>178 rows × 3 columns</p>\n",
       "</div>"
      ],
      "text/plain": [
       "       Comp_1    Comp_2  Cluster_KMeans\n",
       "0   -0.706336 -0.253193               0\n",
       "1   -0.484977 -0.008823               0\n",
       "2   -0.521172 -0.189187               0\n",
       "3   -0.821644 -0.580906               0\n",
       "4   -0.202546 -0.059467               0\n",
       "..        ...       ...             ...\n",
       "173  0.739510 -0.471901               1\n",
       "174  0.581781 -0.348366               1\n",
       "175  0.626313 -0.546857               1\n",
       "176  0.572991 -0.425516               1\n",
       "177  0.701764 -0.513505               1\n",
       "\n",
       "[178 rows x 3 columns]"
      ]
     },
     "execution_count": 80,
     "metadata": {},
     "output_type": "execute_result"
    }
   ],
   "source": [
    "# Importar módulos y funciones pertinentes\n",
    "from sklearn.decomposition import PCA\n",
    "\n",
    "# Generar un modelo con dos componentes\n",
    "pca = PCA(n_components=2)\n",
    "# Ajustar el modelo a los datos\n",
    "pca_df = pca.fit_transform(df_norm)\n",
    "# Crear los dataframes respectivos\n",
    "pca_vinos = pd.DataFrame(data=pca_df, columns=['Comp_1', 'Comp_2'])\n",
    "pca_graf = pd.concat([pca_vinos, df[['Cluster_KMeans']]], axis=1)\n",
    "\n",
    "pca_graf"
   ]
  },
  {
   "cell_type": "code",
   "execution_count": 81,
   "id": "collective-respondent",
   "metadata": {
    "ExecuteTime": {
     "end_time": "2021-08-29T01:15:24.183896Z",
     "start_time": "2021-08-29T01:15:24.165887Z"
    },
    "scrolled": true
   },
   "outputs": [
    {
     "data": {
      "text/html": [
       "<div>\n",
       "<style scoped>\n",
       "    .dataframe tbody tr th:only-of-type {\n",
       "        vertical-align: middle;\n",
       "    }\n",
       "\n",
       "    .dataframe tbody tr th {\n",
       "        vertical-align: top;\n",
       "    }\n",
       "\n",
       "    .dataframe thead th {\n",
       "        text-align: right;\n",
       "    }\n",
       "</style>\n",
       "<table border=\"1\" class=\"dataframe\">\n",
       "  <thead>\n",
       "    <tr style=\"text-align: right;\">\n",
       "      <th></th>\n",
       "      <th>Alcohol</th>\n",
       "      <th>Malic</th>\n",
       "      <th>Ash</th>\n",
       "      <th>Alcalinity</th>\n",
       "      <th>Magnesium</th>\n",
       "      <th>Phenols</th>\n",
       "      <th>Flavanoids</th>\n",
       "      <th>Nonflavanoids</th>\n",
       "      <th>Proanthocyanins</th>\n",
       "      <th>Color</th>\n",
       "      <th>Hue</th>\n",
       "      <th>Dilution</th>\n",
       "      <th>Proline</th>\n",
       "    </tr>\n",
       "  </thead>\n",
       "  <tbody>\n",
       "    <tr>\n",
       "      <th>Comp_1</th>\n",
       "      <td>-0.133368</td>\n",
       "      <td>0.248516</td>\n",
       "      <td>-0.000739</td>\n",
       "      <td>0.177839</td>\n",
       "      <td>-0.088657</td>\n",
       "      <td>-0.395071</td>\n",
       "      <td>-0.414590</td>\n",
       "      <td>0.333109</td>\n",
       "      <td>-0.252902</td>\n",
       "      <td>0.092329</td>\n",
       "      <td>-0.251137</td>\n",
       "      <td>-0.473492</td>\n",
       "      <td>-0.286862</td>\n",
       "    </tr>\n",
       "    <tr>\n",
       "      <th>Comp_2</th>\n",
       "      <td>-0.550884</td>\n",
       "      <td>-0.227391</td>\n",
       "      <td>-0.163091</td>\n",
       "      <td>0.079776</td>\n",
       "      <td>-0.188166</td>\n",
       "      <td>-0.074145</td>\n",
       "      <td>-0.001007</td>\n",
       "      <td>-0.009960</td>\n",
       "      <td>-0.031418</td>\n",
       "      <td>-0.519707</td>\n",
       "      <td>0.237206</td>\n",
       "      <td>0.215562</td>\n",
       "      <td>-0.443888</td>\n",
       "    </tr>\n",
       "  </tbody>\n",
       "</table>\n",
       "</div>"
      ],
      "text/plain": [
       "         Alcohol     Malic       Ash  Alcalinity  Magnesium   Phenols  \\\n",
       "Comp_1 -0.133368  0.248516 -0.000739    0.177839  -0.088657 -0.395071   \n",
       "Comp_2 -0.550884 -0.227391 -0.163091    0.079776  -0.188166 -0.074145   \n",
       "\n",
       "        Flavanoids  Nonflavanoids  Proanthocyanins     Color       Hue  \\\n",
       "Comp_1   -0.414590       0.333109        -0.252902  0.092329 -0.251137   \n",
       "Comp_2   -0.001007      -0.009960        -0.031418 -0.519707  0.237206   \n",
       "\n",
       "        Dilution   Proline  \n",
       "Comp_1 -0.473492 -0.286862  \n",
       "Comp_2  0.215562 -0.443888  "
      ]
     },
     "execution_count": 81,
     "metadata": {},
     "output_type": "execute_result"
    }
   ],
   "source": [
    "# Ver la distribución de los componentes\n",
    "pd.DataFrame(data=pca.components_,\n",
    "             columns=df_norm.columns,\n",
    "             index=['Comp_1', 'Comp_2'])"
   ]
  },
  {
   "cell_type": "code",
   "execution_count": 82,
   "id": "approximate-insert",
   "metadata": {
    "ExecuteTime": {
     "end_time": "2021-08-29T01:15:25.585784Z",
     "start_time": "2021-08-29T01:15:25.568772Z"
    }
   },
   "outputs": [
    {
     "name": "stdout",
     "output_type": "stream",
     "text": [
      "[0.40749485 0.18970352]\n"
     ]
    }
   ],
   "source": [
    "# Varianza explicada por cada componente\n",
    "print(pca.explained_variance_ratio_)"
   ]
  },
  {
   "cell_type": "code",
   "execution_count": 83,
   "id": "binding-binary",
   "metadata": {
    "ExecuteTime": {
     "end_time": "2021-08-29T01:15:27.277644Z",
     "start_time": "2021-08-29T01:15:27.142437Z"
    }
   },
   "outputs": [
    {
     "data": {
      "text/plain": [
       "<matplotlib.collections.PathCollection at 0x28b062ec700>"
      ]
     },
     "execution_count": 83,
     "metadata": {},
     "output_type": "execute_result"
    },
    {
     "data": {
      "image/png": "[encoded data removed]",
      "text/plain": [
       "<Figure size 432x432 with 1 Axes>"
      ]
     },
     "metadata": {
      "needs_background": "light"
     },
     "output_type": "display_data"
    }
   ],
   "source": [
    "fig = plt.figure(figsize=(6, 6))\n",
    "\n",
    "ax = fig.add_subplot(1, 1, 1)\n",
    "ax.set_xlabel('Componente 1')\n",
    "ax.set_ylabel('Componente 2')\n",
    "ax.set_title('Componentes principales')\n",
    "\n",
    "tema_color = np.array(['blue', 'green', 'red'])\n",
    "ax.scatter(pca_graf.Comp_1,\n",
    "           pca_graf.Comp_2,\n",
    "           c=tema_color[pca_graf.Cluster_KMeans],\n",
    "           s=100)"
   ]
  },
  {
   "cell_type": "code",
   "execution_count": 84,
   "id": "controversial-maintenance",
   "metadata": {
    "ExecuteTime": {
     "end_time": "2021-08-29T01:15:28.317691Z",
     "start_time": "2021-08-29T01:15:28.301687Z"
    }
   },
   "outputs": [
    {
     "data": {
      "text/html": [
       "<div>\n",
       "<style scoped>\n",
       "    .dataframe tbody tr th:only-of-type {\n",
       "        vertical-align: middle;\n",
       "    }\n",
       "\n",
       "    .dataframe tbody tr th {\n",
       "        vertical-align: top;\n",
       "    }\n",
       "\n",
       "    .dataframe thead th {\n",
       "        text-align: right;\n",
       "    }\n",
       "</style>\n",
       "<table border=\"1\" class=\"dataframe\">\n",
       "  <thead>\n",
       "    <tr style=\"text-align: right;\">\n",
       "      <th></th>\n",
       "      <th>Comp_1</th>\n",
       "      <th>Comp_2</th>\n",
       "      <th>Comp_3</th>\n",
       "      <th>Cluster_KMeans</th>\n",
       "    </tr>\n",
       "  </thead>\n",
       "  <tbody>\n",
       "    <tr>\n",
       "      <th>0</th>\n",
       "      <td>-0.706336</td>\n",
       "      <td>-0.253193</td>\n",
       "      <td>0.024093</td>\n",
       "      <td>0</td>\n",
       "    </tr>\n",
       "    <tr>\n",
       "      <th>1</th>\n",
       "      <td>-0.484977</td>\n",
       "      <td>-0.008823</td>\n",
       "      <td>-0.280482</td>\n",
       "      <td>0</td>\n",
       "    </tr>\n",
       "    <tr>\n",
       "      <th>2</th>\n",
       "      <td>-0.521172</td>\n",
       "      <td>-0.189187</td>\n",
       "      <td>0.196217</td>\n",
       "      <td>0</td>\n",
       "    </tr>\n",
       "    <tr>\n",
       "      <th>3</th>\n",
       "      <td>-0.821644</td>\n",
       "      <td>-0.580906</td>\n",
       "      <td>0.081110</td>\n",
       "      <td>0</td>\n",
       "    </tr>\n",
       "    <tr>\n",
       "      <th>4</th>\n",
       "      <td>-0.202546</td>\n",
       "      <td>-0.059467</td>\n",
       "      <td>0.300240</td>\n",
       "      <td>0</td>\n",
       "    </tr>\n",
       "    <tr>\n",
       "      <th>...</th>\n",
       "      <td>...</td>\n",
       "      <td>...</td>\n",
       "      <td>...</td>\n",
       "      <td>...</td>\n",
       "    </tr>\n",
       "    <tr>\n",
       "      <th>173</th>\n",
       "      <td>0.739510</td>\n",
       "      <td>-0.471901</td>\n",
       "      <td>0.209360</td>\n",
       "      <td>1</td>\n",
       "    </tr>\n",
       "    <tr>\n",
       "      <th>174</th>\n",
       "      <td>0.581781</td>\n",
       "      <td>-0.348366</td>\n",
       "      <td>0.083590</td>\n",
       "      <td>1</td>\n",
       "    </tr>\n",
       "    <tr>\n",
       "      <th>175</th>\n",
       "      <td>0.626313</td>\n",
       "      <td>-0.546857</td>\n",
       "      <td>-0.030495</td>\n",
       "      <td>1</td>\n",
       "    </tr>\n",
       "    <tr>\n",
       "      <th>176</th>\n",
       "      <td>0.572991</td>\n",
       "      <td>-0.425516</td>\n",
       "      <td>-0.094537</td>\n",
       "      <td>1</td>\n",
       "    </tr>\n",
       "    <tr>\n",
       "      <th>177</th>\n",
       "      <td>0.701764</td>\n",
       "      <td>-0.513505</td>\n",
       "      <td>0.293910</td>\n",
       "      <td>1</td>\n",
       "    </tr>\n",
       "  </tbody>\n",
       "</table>\n",
       "<p>178 rows × 4 columns</p>\n",
       "</div>"
      ],
      "text/plain": [
       "       Comp_1    Comp_2    Comp_3  Cluster_KMeans\n",
       "0   -0.706336 -0.253193  0.024093               0\n",
       "1   -0.484977 -0.008823 -0.280482               0\n",
       "2   -0.521172 -0.189187  0.196217               0\n",
       "3   -0.821644 -0.580906  0.081110               0\n",
       "4   -0.202546 -0.059467  0.300240               0\n",
       "..        ...       ...       ...             ...\n",
       "173  0.739510 -0.471901  0.209360               1\n",
       "174  0.581781 -0.348366  0.083590               1\n",
       "175  0.626313 -0.546857 -0.030495               1\n",
       "176  0.572991 -0.425516 -0.094537               1\n",
       "177  0.701764 -0.513505  0.293910               1\n",
       "\n",
       "[178 rows x 4 columns]"
      ]
     },
     "execution_count": 84,
     "metadata": {},
     "output_type": "execute_result"
    }
   ],
   "source": [
    "# Ahora generaremos un modelo con tres componentes\n",
    "pca = PCA(n_components=3)\n",
    "pca_df = pca.fit_transform(df_norm)\n",
    "pca_vinos = pd.DataFrame(data=pca_df, columns=['Comp_1', 'Comp_2', 'Comp_3'])\n",
    "pca_graf = pd.concat([pca_vinos, df[['Cluster_KMeans']]], axis=1)\n",
    "\n",
    "pca_graf"
   ]
  },
  {
   "cell_type": "code",
   "execution_count": 85,
   "id": "above-carbon",
   "metadata": {
    "ExecuteTime": {
     "end_time": "2021-08-29T01:15:29.325680Z",
     "start_time": "2021-08-29T01:15:29.310668Z"
    },
    "scrolled": true
   },
   "outputs": [
    {
     "data": {
      "text/html": [
       "<div>\n",
       "<style scoped>\n",
       "    .dataframe tbody tr th:only-of-type {\n",
       "        vertical-align: middle;\n",
       "    }\n",
       "\n",
       "    .dataframe tbody tr th {\n",
       "        vertical-align: top;\n",
       "    }\n",
       "\n",
       "    .dataframe thead th {\n",
       "        text-align: right;\n",
       "    }\n",
       "</style>\n",
       "<table border=\"1\" class=\"dataframe\">\n",
       "  <thead>\n",
       "    <tr style=\"text-align: right;\">\n",
       "      <th></th>\n",
       "      <th>Alcohol</th>\n",
       "      <th>Malic</th>\n",
       "      <th>Ash</th>\n",
       "      <th>Alcalinity</th>\n",
       "      <th>Magnesium</th>\n",
       "      <th>Phenols</th>\n",
       "      <th>Flavanoids</th>\n",
       "      <th>Nonflavanoids</th>\n",
       "      <th>Proanthocyanins</th>\n",
       "      <th>Color</th>\n",
       "      <th>Hue</th>\n",
       "      <th>Dilution</th>\n",
       "      <th>Proline</th>\n",
       "    </tr>\n",
       "  </thead>\n",
       "  <tbody>\n",
       "    <tr>\n",
       "      <th>Comp_1</th>\n",
       "      <td>-0.133368</td>\n",
       "      <td>0.248516</td>\n",
       "      <td>-0.000739</td>\n",
       "      <td>0.177839</td>\n",
       "      <td>-0.088657</td>\n",
       "      <td>-0.395071</td>\n",
       "      <td>-0.414590</td>\n",
       "      <td>0.333109</td>\n",
       "      <td>-0.252902</td>\n",
       "      <td>0.092329</td>\n",
       "      <td>-0.251137</td>\n",
       "      <td>-0.473492</td>\n",
       "      <td>-0.286862</td>\n",
       "    </tr>\n",
       "    <tr>\n",
       "      <th>Comp_2</th>\n",
       "      <td>-0.550884</td>\n",
       "      <td>-0.227391</td>\n",
       "      <td>-0.163091</td>\n",
       "      <td>0.079776</td>\n",
       "      <td>-0.188166</td>\n",
       "      <td>-0.074145</td>\n",
       "      <td>-0.001007</td>\n",
       "      <td>-0.009960</td>\n",
       "      <td>-0.031418</td>\n",
       "      <td>-0.519707</td>\n",
       "      <td>0.237206</td>\n",
       "      <td>0.215562</td>\n",
       "      <td>-0.443888</td>\n",
       "    </tr>\n",
       "    <tr>\n",
       "      <th>Comp_3</th>\n",
       "      <td>-0.083848</td>\n",
       "      <td>0.492039</td>\n",
       "      <td>0.403009</td>\n",
       "      <td>0.477242</td>\n",
       "      <td>0.006551</td>\n",
       "      <td>0.253065</td>\n",
       "      <td>0.196105</td>\n",
       "      <td>0.285982</td>\n",
       "      <td>0.228342</td>\n",
       "      <td>-0.033100</td>\n",
       "      <td>-0.106589</td>\n",
       "      <td>0.297776</td>\n",
       "      <td>-0.151968</td>\n",
       "    </tr>\n",
       "  </tbody>\n",
       "</table>\n",
       "</div>"
      ],
      "text/plain": [
       "         Alcohol     Malic       Ash  Alcalinity  Magnesium   Phenols  \\\n",
       "Comp_1 -0.133368  0.248516 -0.000739    0.177839  -0.088657 -0.395071   \n",
       "Comp_2 -0.550884 -0.227391 -0.163091    0.079776  -0.188166 -0.074145   \n",
       "Comp_3 -0.083848  0.492039  0.403009    0.477242   0.006551  0.253065   \n",
       "\n",
       "        Flavanoids  Nonflavanoids  Proanthocyanins     Color       Hue  \\\n",
       "Comp_1   -0.414590       0.333109        -0.252902  0.092329 -0.251137   \n",
       "Comp_2   -0.001007      -0.009960        -0.031418 -0.519707  0.237206   \n",
       "Comp_3    0.196105       0.285982         0.228342 -0.033100 -0.106589   \n",
       "\n",
       "        Dilution   Proline  \n",
       "Comp_1 -0.473492 -0.286862  \n",
       "Comp_2  0.215562 -0.443888  \n",
       "Comp_3  0.297776 -0.151968  "
      ]
     },
     "execution_count": 85,
     "metadata": {},
     "output_type": "execute_result"
    }
   ],
   "source": [
    "# Ver la distribución de los componentes\n",
    "pd.DataFrame(data=pca.components_,\n",
    "             columns=df_norm.columns,\n",
    "             index=['Comp_1', 'Comp_2', 'Comp_3'])"
   ]
  },
  {
   "cell_type": "code",
   "execution_count": 86,
   "id": "curious-harmony",
   "metadata": {
    "ExecuteTime": {
     "end_time": "2021-08-29T01:15:31.084525Z",
     "start_time": "2021-08-29T01:15:31.071533Z"
    }
   },
   "outputs": [
    {
     "name": "stdout",
     "output_type": "stream",
     "text": [
      "[0.40749485 0.18970352 0.08561671]\n"
     ]
    }
   ],
   "source": [
    "# Varianza explicada por cada componente\n",
    "print(pca.explained_variance_ratio_)"
   ]
  },
  {
   "cell_type": "code",
   "execution_count": 87,
   "id": "southeast-guitar",
   "metadata": {
    "ExecuteTime": {
     "end_time": "2021-08-29T01:15:32.867316Z",
     "start_time": "2021-08-29T01:15:32.711274Z"
    }
   },
   "outputs": [
    {
     "data": {
      "text/plain": [
       "<mpl_toolkits.mplot3d.art3d.Path3DCollection at 0x28b06c50790>"
      ]
     },
     "execution_count": 87,
     "metadata": {},
     "output_type": "execute_result"
    },
    {
     "data": {
      "image/png": "[encoded data removed]",
      "text/plain": [
       "<Figure size 432x288 with 1 Axes>"
      ]
     },
     "metadata": {
      "needs_background": "light"
     },
     "output_type": "display_data"
    }
   ],
   "source": [
    "X = np.array(pca_graf[['Comp_1', 'Comp_2', 'Comp_3']])\n",
    "y = np.array(pca_graf['Cluster_KMeans'])\n",
    "\n",
    "from mpl_toolkits.mplot3d import Axes3D\n",
    "\n",
    "fig = plt.figure()\n",
    "ax = Axes3D(fig)\n",
    "tema_color = np.array(['blue', 'green', 'red'])\n",
    "ax.scatter(X[:, 1], X[:, 1], X[:, 2], c=tema_color[pca_graf.Cluster_KMeans])"
   ]
  },
  {
   "cell_type": "code",
   "execution_count": 88,
   "id": "frank-offset",
   "metadata": {
    "ExecuteTime": {
     "end_time": "2021-08-29T01:15:34.584481Z",
     "start_time": "2021-08-29T01:15:34.567470Z"
    }
   },
   "outputs": [],
   "source": [
    "import plotly.express as px"
   ]
  },
  {
   "cell_type": "code",
   "execution_count": 89,
   "id": "sapphire-christmas",
   "metadata": {
    "ExecuteTime": {
     "end_time": "2021-08-29T01:15:35.763174Z",
     "start_time": "2021-08-29T01:15:35.711163Z"
    }
   },
   "outputs": [
    {
     "data": {
      "application/vnd.plotly.v1+json": {
       "config": {
        "plotlyServerURL": "https://plot.ly"
       },
       "data": [
        {
         "hovertemplate": "Comp_1=%{x}<br>Comp_2=%{y}<br>Comp_3=%{z}<br>Cluster_KMeans=%{marker.color}<extra></extra>",
         "legendgroup": "",
         "marker": {
          "color": [
           0,
           0,
           0,
           0,
           0,
           0,
           0,
           0,
           0,
           0,
           0,
           0,
           0,
           0,
           0,
           0,
           0,
           0,
           0,
           0,
           0,
           0,
           0,
           0,
           0,
           0,
           0,
           0,
           0,
           0,
           0,
           0,
           0,
           0,
           0,
           0,
           0,
           0,
           0,
           0,
           0,
           0,
           0,
           0,
           0,
           0,
           0,
           0,
           0,
           0,
           0,
           0,
           0,
           0,
           0,
           0,
           0,
           0,
           0,
           2,
           1,
           1,
           2,
           2,
           2,
           2,
           2,
           2,
           1,
           2,
           1,
           2,
           2,
           0,
           2,
           2,
           2,
           2,
           2,
           2,
           2,
           2,
           2,
           1,
           2,
           2,
           2,
           2,
           2,
           2,
           2,
           2,
           1,
           2,
           2,
           0,
           2,
           2,
           2,
           2,
           2,
           2,
           2,
           2,
           2,
           2,
           2,
           2,
           2,
           2,
           2,
           2,
           2,
           2,
           2,
           2,
           2,
           2,
           1,
           2,
           2,
           2,
           2,
           2,
           2,
           2,
           2,
           2,
           2,
           2,
           1,
           1,
           1,
           1,
           1,
           1,
           1,
           1,
           1,
           1,
           1,
           1,
           1,
           1,
           1,
           1,
           1,
           1,
           1,
           1,
           1,
           1,
           1,
           1,
           1,
           1,
           1,
           1,
           1,
           1,
           1,
           1,
           1,
           1,
           1,
           1,
           1,
           1,
           1,
           1,
           1,
           1,
           1,
           1,
           1,
           1,
           1,
           1
          ],
          "coloraxis": "coloraxis",
          "opacity": 0.5,
          "symbol": "circle"
         },
         "mode": "markers",
         "name": "",
         "scene": "scene",
         "showlegend": false,
         "type": "scatter3d",
         "x": [
          -0.7063357559739393,
          -0.48497680177177155,
          -0.5211722661289457,
          -0.821643663444926,
          -0.2025463815709558,
          -0.6081901521202492,
          -0.5440473986436279,
          -0.4743574954874904,
          -0.5004320119570947,
          -0.6275179686728708,
          -0.7274671570917972,
          -0.37496774383264214,
          -0.44818828284820333,
          -0.6263453286759272,
          -0.8357170112512712,
          -0.47193156797665586,
          -0.4269909050275046,
          -0.36659570355209004,
          -0.7187885333456541,
          -0.45888498563963487,
          -0.6618522880381424,
          -0.26790003195380124,
          -0.5997823988279933,
          -0.4178947999370145,
          -0.4499403916869378,
          -0.21578779516971658,
          -0.41553199570253274,
          -0.2839469700735521,
          -0.4750992269650711,
          -0.5143964692959474,
          -0.5209658119510385,
          -0.5757382326418831,
          -0.3021446388067234,
          -0.36702197148787996,
          -0.3030224681173565,
          -0.45833887764168635,
          -0.27156632474012415,
          -0.2320041887805356,
          -0.30548040339141763,
          -0.519605033037915,
          -0.5305751143582875,
          -0.18704452557053122,
          -0.7055081974474844,
          -0.11151729877638399,
          -0.46736065166416685,
          -0.29012280050493794,
          -0.5832593702171353,
          -0.6202790286065465,
          -0.3948223697924987,
          -0.5596201611830274,
          -0.6317213426093593,
          -0.6194299068901975,
          -0.7310574664323586,
          -0.44637239109178883,
          -0.47227168601954456,
          -0.5265194748613802,
          -0.5809228376794255,
          -0.4564996599158447,
          -0.6686733057944834,
          0.236612131137147,
          0.41108301720887414,
          0.4534661450533516,
          -0.010290872329033272,
          -0.45368070833041135,
          0.18588906899134067,
          -0.13251439981175964,
          -0.4816607329293057,
          -0.1373597901615753,
          0.22015782906003167,
          -0.3450315443539117,
          0.3679434084157715,
          -0.4083243507324551,
          0.07542113153048385,
          -0.5992765569827562,
          -0.45956226089733043,
          0.2318609031324592,
          -0.06493976550691223,
          0.3237363706172216,
          -0.13392862208417602,
          -0.08634646139834715,
          -0.18747731553360572,
          -0.2535890400571206,
          0.0645922121194812,
          0.5685674885949316,
          -0.20755533034963558,
          -0.18482664900930496,
          0.1946046086205171,
          0.04979030896695293,
          0.20199537784843205,
          0.02600117696220829,
          0.32077702968926997,
          0.3214334318895999,
          0.44153923256514854,
          -0.18381479869978723,
          -0.2346237731260818,
          -0.39876299122206,
          0.1323110319696307,
          -0.20323743602639535,
          -0.49130214716769455,
          -0.22221150372245244,
          -0.1784151438396029,
          0.08820370608907573,
          -0.04596278979446905,
          0.12716525650965552,
          -0.1683598030323241,
          0.33494183793011095,
          0.03085597703086444,
          0.33133829741600124,
          -0.03252486754710221,
          -0.3632618315966533,
          -0.25892867635736133,
          0.001221223328499676,
          0.31115209876766414,
          0.0992201563195347,
          0.018732699925374924,
          -0.06137200742469904,
          -0.02531093702195565,
          0.0012572931396182836,
          0.5127375941420086,
          0.0910642272368432,
          -0.2207087583527613,
          -0.3578556357217319,
          0.19673686563053613,
          0.04668325340771474,
          -0.2763795897960788,
          -0.05804949723161649,
          -0.056156995261786344,
          0.3183515422114131,
          0.06168944409587662,
          0.33511325240748646,
          0.33887840965882277,
          0.5254733856918787,
          0.6106086868117541,
          0.47050330071118335,
          0.5595223905602724,
          0.7008876262838496,
          0.8683670975045145,
          0.862780922737714,
          0.6837495421095007,
          0.4907193649047866,
          0.5694530981168106,
          0.42467735202139134,
          0.615620030410754,
          0.5221733294423376,
          0.47761457176823774,
          0.5796796573700423,
          0.9152164456850023,
          0.7367888443866021,
          0.6038628408597833,
          0.6542441347856426,
          0.520842262793415,
          0.5496214180810591,
          0.40608659520961377,
          0.6678751564315837,
          0.6267857981852099,
          0.8170550870238481,
          0.6509798715065899,
          0.713430626539064,
          0.25657599948125237,
          0.3736425170016205,
          0.675012038973718,
          0.517484678555806,
          0.626069564878052,
          0.5790085321158682,
          0.6243756753192967,
          0.7663497875788438,
          0.5630111919890175,
          0.6243889062673856,
          0.47251420564408114,
          0.48239336093763857,
          0.6791822803564137,
          0.7745303668726548,
          0.5376563936957774,
          0.739509502688214,
          0.5817811389989139,
          0.6263128876683182,
          0.5729911024096556,
          0.7017639971012218
         ],
         "y": [
          -0.2531927528570432,
          -0.008822891420635248,
          -0.18918722167748092,
          -0.5809055122572578,
          -0.059466574015118775,
          -0.48751919105438163,
          -0.3001964969263838,
          -0.2981970205924971,
          -0.3076028589212395,
          -0.2063282328858747,
          -0.35651204360910926,
          -0.22542453490427877,
          -0.2319381391826211,
          -0.35513867657135456,
          -0.5380478024650088,
          -0.33740538546788446,
          -0.45084268441991093,
          -0.3157503408790417,
          -0.5938813318982695,
          -0.17578223961142928,
          -0.12783103158536316,
          0.009811275653937617,
          0.000782494522599868,
          0.11378690097270128,
          0.09837719740864757,
          0.00926270331364068,
          -0.15547038490015902,
          -0.08973642622503164,
          -0.0880516479352778,
          -0.10460250195341585,
          -0.2584308843861455,
          -0.36115578796928477,
          -0.05149430641522917,
          -0.2686166298718984,
          -0.12141320164109395,
          -0.030309882187644265,
          -0.07612384058168038,
          -0.050330276265271756,
          0.061677556269284464,
          -0.3138300614716689,
          -0.1295366226701523,
          -0.12483030599971225,
          -0.236951581729675,
          -0.0693158637483765,
          -0.004173057947184998,
          -0.36722106279438865,
          -0.3090004811654624,
          -0.19381063078197716,
          -0.29359897018106146,
          -0.40827057904743913,
          -0.1530751038201338,
          -0.18957707433023124,
          -0.3528821729370486,
          -0.3754453668989085,
          -0.21758377506956705,
          -0.2473534116083546,
          -0.29611838163517396,
          -0.25417286056582394,
          -0.37362669194815196,
          0.41589767921191995,
          0.23904205629752764,
          0.11538704309110229,
          0.14405831199130922,
          0.3585913099280059,
          0.43197061182508567,
          0.177025232135253,
          0.24822150928239353,
          0.43128161069177356,
          0.026073907336809286,
          0.31613448598540433,
          0.1559164282464183,
          0.2219976031710086,
          0.1961296198032269,
          0.08583317923986591,
          0.2774063181993342,
          0.43949927638279995,
          0.31081639399489114,
          0.3221913122319791,
          0.1678572925065336,
          0.2509418908718355,
          0.649776371819141,
          0.24911555691599707,
          0.4872583885056165,
          -0.0027250241368357406,
          0.38333242304142656,
          0.4181662076498859,
          0.4446987011858893,
          0.5582651484788466,
          0.3918671028179663,
          0.5203974830428043,
          0.4079641751960495,
          0.414255535091991,
          0.28074704333840367,
          0.4707149173616331,
          0.48206879980710726,
          0.06683594716357406,
          0.2332198020535328,
          0.44645004540607136,
          0.23922424661216551,
          0.4056179514653566,
          0.3833756761362842,
          0.39156168626833276,
          0.3168982983602233,
          0.4868996464959608,
          0.3799321186462674,
          0.40193615474058814,
          0.4126791416751286,
          0.2698325199677685,
          0.4598523036326663,
          0.3911792056524176,
          0.2828274955146965,
          0.3832253948014412,
          0.2701939844952772,
          0.5070218349708079,
          0.4568995501812113,
          0.7775430928097292,
          0.5591676321354118,
          0.4428981739396167,
          0.17117932001502548,
          0.41136667831199003,
          0.3596485559688024,
          0.2433096368635011,
          0.26840626821640623,
          0.10259407256572309,
          0.3482476890394626,
          0.44330088722611805,
          0.2891234970369943,
          0.3690400979184394,
          0.43037289870483914,
          0.23311753907466537,
          -0.016305418220350698,
          -0.06851820579946105,
          -0.038759732491221416,
          -0.07800551962876762,
          0.04556075048695661,
          -0.10578362491732232,
          -0.040728084058747116,
          -0.0782006550163329,
          -0.13388880697513092,
          0.0005567425969721794,
          0.005364615106247944,
          -0.09953057962150871,
          -0.04775163592444671,
          -0.13844376178229312,
          -0.22729822959369556,
          -0.15773925128884436,
          -0.21423137300159253,
          -0.25226755506363086,
          -0.32796291261241306,
          -0.37855515353658997,
          -0.38306205837908425,
          -0.3349173769007246,
          -0.1902804140097483,
          -0.4471357037596088,
          -0.08896154903287629,
          -0.3917984678131447,
          -0.4122117449354321,
          -0.2043714725598002,
          -0.6453058419559626,
          -0.44353227622160124,
          -0.14345927979637862,
          -0.2291872757777999,
          -0.04628051948305638,
          -0.13907481600185984,
          -0.34886831185061695,
          -0.22301853181583484,
          -0.47656559805475124,
          -0.28876936739912296,
          -0.3607810316991055,
          -0.41598880347543266,
          0.06575188839537856,
          -0.18191366037809137,
          -0.4624046962961123,
          -0.47190114948566764,
          -0.3483657523156394,
          -0.5468570130705912,
          -0.42551608676412017,
          -0.5135049826839484
         ],
         "z": [
          0.024092693181920716,
          -0.2804820475745335,
          0.1962167362428155,
          0.08110971721711135,
          0.3002399411955104,
          -0.07543323207993524,
          -0.10507462094056025,
          -0.0028214930827172263,
          -0.2304936127691796,
          -0.11414793196478637,
          -0.0504199490041167,
          -0.28613408292768555,
          -0.16790805342414217,
          -0.08583565788952634,
          -0.11520294304674071,
          -0.07278216073260826,
          0.05443655271939272,
          0.05367905134455796,
          -0.09664755675402843,
          0.04618901813228769,
          -0.012134229648664067,
          0.2684339618888827,
          -0.003718254783521862,
          -0.037681319328595565,
          0.11918478646117599,
          0.4747449719194988,
          -0.007117479610611044,
          -0.2716056921427294,
          0.18662147166175053,
          -0.12047251637772294,
          0.10897900779203587,
          -0.11326690752265205,
          -0.04322296778726746,
          0.08599779668802593,
          -0.0501639070109442,
          0.07903004251551717,
          -0.050540169541441436,
          -0.14644544480087293,
          -0.30086623141074786,
          0.16767054984351448,
          0.07987875900018751,
          0.0665891995582102,
          -0.002769871137507181,
          0.19004656749509619,
          -0.012999301634350738,
          0.20646139045748013,
          0.1602831586663991,
          -0.0848239401733411,
          0.014305389315352014,
          -0.05253998194198545,
          -0.25689375580325013,
          -0.06397051922053494,
          0.0211611968387141,
          0.013089687463063994,
          -0.1670297933757074,
          0.03821784375387472,
          -0.034856318357957355,
          0.003389697150603005,
          -0.0687172588350657,
          -0.8358210657761523,
          -0.32634768097887745,
          -0.33994256931457423,
          -0.3892844537296885,
          -0.04159142292112572,
          -0.12013034752990678,
          -0.0575362840861949,
          -0.21133872123373604,
          -0.19393501265450616,
          -0.27259641777153404,
          -0.38219937539050614,
          -0.3068329311204823,
          0.19639692574052137,
          -0.07801229622460297,
          0.3602840360296923,
          -0.05319561870375217,
          -0.35648240499704403,
          -0.46878207432989955,
          -0.05146130081160519,
          -0.32032834733360555,
          0.45433787695502936,
          -0.15543555220419322,
          -0.0816831221576795,
          0.00770465734616416,
          0.24185959332034443,
          -0.033039030977108676,
          -0.16823351655450858,
          -0.04406826973026423,
          0.1886149717322373,
          0.101233891564863,
          0.07478900609940045,
          -0.06989671761064384,
          0.017725558159635273,
          -0.0772974957962692,
          0.10166631947475438,
          -0.037723689135559034,
          -0.013597706528911367,
          -0.10538052734799276,
          -0.19783835453158577,
          -0.03267109573275835,
          0.2774180477784391,
          -0.24622560397528517,
          -0.33393767876782426,
          0.21441303435631492,
          -0.11850083985038883,
          -0.039678585346509955,
          0.29777340368887323,
          -0.07058909997674837,
          -0.002265422344939214,
          -0.025864039335591043,
          0.20486976915136046,
          0.29662331903326516,
          0.041779419570140815,
          0.21764729415910442,
          -0.02509214203773017,
          0.17163237179692936,
          0.119972782608306,
          -0.07615439226355532,
          0.02613144931994893,
          -0.15356568426531295,
          0.09967962601538947,
          0.2598442939956987,
          0.8427169984813668,
          0.6169349144040904,
          0.5036227595579071,
          0.5377531315820535,
          0.16415660432358956,
          0.17335677697144766,
          0.4573777871973711,
          0.1832728618090786,
          0.2957070372556745,
          -0.47927988259926707,
          -0.24330798903585538,
          -0.21590535079670767,
          -0.18353600013715163,
          -0.24558216742990005,
          -0.15063085896727635,
          0.08935019113920456,
          0.45588619476460357,
          -0.041452615947656035,
          0.17797873414790386,
          0.05779232126303874,
          -0.18182578897404483,
          0.08847803083036188,
          0.15546773831544963,
          -0.1563099723051901,
          -0.0844694328331334,
          -0.07525253820998265,
          0.15356495110425877,
          -0.0007154044050594735,
          -0.04593991693850093,
          -0.060388581873201425,
          -0.13480118369148625,
          0.009633004752043513,
          0.013220797817578393,
          -0.27004657439639246,
          0.251375642353935,
          0.07124726190495785,
          0.24815544788528893,
          0.24819575714739955,
          0.11828997652562719,
          0.1270507642105607,
          -0.04051356162981932,
          0.14037642912223341,
          -0.1414618652018391,
          -0.15991440224599865,
          0.07287328535926706,
          0.07389449299301887,
          -0.14386426642023212,
          0.021218673925281314,
          0.2504307822460209,
          -0.16871982357327586,
          -0.2129420189426258,
          -0.13701899573673373,
          0.20936032691957115,
          0.08359028507010409,
          -0.030494755175099312,
          -0.09453671740645347,
          0.29390996110839185
         ]
        }
       ],
       "layout": {
        "coloraxis": {
         "colorbar": {
          "title": {
           "text": "Cluster_KMeans"
          }
         },
         "colorscale": [
          [
           0,
           "#0d0887"
          ],
          [
           0.1111111111111111,
           "#46039f"
          ],
          [
           0.2222222222222222,
           "#7201a8"
          ],
          [
           0.3333333333333333,
           "#9c179e"
          ],
          [
           0.4444444444444444,
           "#bd3786"
          ],
          [
           0.5555555555555556,
           "#d8576b"
          ],
          [
           0.6666666666666666,
           "#ed7953"
          ],
          [
           0.7777777777777778,
           "#fb9f3a"
          ],
          [
           0.8888888888888888,
           "#fdca26"
          ],
          [
           1,
           "#f0f921"
          ]
         ]
        },
        "legend": {
         "tracegroupgap": 0
        },
        "scene": {
         "domain": {
          "x": [
           0,
           1
          ],
          "y": [
           0,
           1
          ]
         },
         "xaxis": {
          "title": {
           "text": "Comp_1"
          }
         },
         "yaxis": {
          "title": {
           "text": "Comp_2"
          }
         },
         "zaxis": {
          "title": {
           "text": "Comp_3"
          }
         }
        },
        "template": {
         "data": {
          "bar": [
           {
            "error_x": {
             "color": "#2a3f5f"
            },
            "error_y": {
             "color": "#2a3f5f"
            },
            "marker": {
             "line": {
              "color": "#E5ECF6",
              "width": 0.5
             },
             "pattern": {
              "fillmode": "overlay",
              "size": 10,
              "solidity": 0.2
             }
            },
            "type": "bar"
           }
          ],
          "barpolar": [
           {
            "marker": {
             "line": {
              "color": "#E5ECF6",
              "width": 0.5
             },
             "pattern": {
              "fillmode": "overlay",
              "size": 10,
              "solidity": 0.2
             }
            },
            "type": "barpolar"
           }
          ],
          "carpet": [
           {
            "aaxis": {
             "endlinecolor": "#2a3f5f",
             "gridcolor": "white",
             "linecolor": "white",
             "minorgridcolor": "white",
             "startlinecolor": "#2a3f5f"
            },
            "baxis": {
             "endlinecolor": "#2a3f5f",
             "gridcolor": "white",
             "linecolor": "white",
             "minorgridcolor": "white",
             "startlinecolor": "#2a3f5f"
            },
            "type": "carpet"
           }
          ],
          "choropleth": [
           {
            "colorbar": {
             "outlinewidth": 0,
             "ticks": ""
            },
            "type": "choropleth"
           }
          ],
          "contour": [
           {
            "colorbar": {
             "outlinewidth": 0,
             "ticks": ""
            },
            "colorscale": [
             [
              0,
              "#0d0887"
             ],
             [
              0.1111111111111111,
              "#46039f"
             ],
             [
              0.2222222222222222,
              "#7201a8"
             ],
             [
              0.3333333333333333,
              "#9c179e"
             ],
             [
              0.4444444444444444,
              "#bd3786"
             ],
             [
              0.5555555555555556,
              "#d8576b"
             ],
             [
              0.6666666666666666,
              "#ed7953"
             ],
             [
              0.7777777777777778,
              "#fb9f3a"
             ],
             [
              0.8888888888888888,
              "#fdca26"
             ],
             [
              1,
              "#f0f921"
             ]
            ],
            "type": "contour"
           }
          ],
          "contourcarpet": [
           {
            "colorbar": {
             "outlinewidth": 0,
             "ticks": ""
            },
            "type": "contourcarpet"
           }
          ],
          "heatmap": [
           {
            "colorbar": {
             "outlinewidth": 0,
             "ticks": ""
            },
            "colorscale": [
             [
              0,
              "#0d0887"
             ],
             [
              0.1111111111111111,
              "#46039f"
             ],
             [
              0.2222222222222222,
              "#7201a8"
             ],
             [
              0.3333333333333333,
              "#9c179e"
             ],
             [
              0.4444444444444444,
              "#bd3786"
             ],
             [
              0.5555555555555556,
              "#d8576b"
             ],
             [
              0.6666666666666666,
              "#ed7953"
             ],
             [
              0.7777777777777778,
              "#fb9f3a"
             ],
             [
              0.8888888888888888,
              "#fdca26"
             ],
             [
              1,
              "#f0f921"
             ]
            ],
            "type": "heatmap"
           }
          ],
          "heatmapgl": [
           {
            "colorbar": {
             "outlinewidth": 0,
             "ticks": ""
            },
            "colorscale": [
             [
              0,
              "#0d0887"
             ],
             [
              0.1111111111111111,
              "#46039f"
             ],
             [
              0.2222222222222222,
              "#7201a8"
             ],
             [
              0.3333333333333333,
              "#9c179e"
             ],
             [
              0.4444444444444444,
              "#bd3786"
             ],
             [
              0.5555555555555556,
              "#d8576b"
             ],
             [
              0.6666666666666666,
              "#ed7953"
             ],
             [
              0.7777777777777778,
              "#fb9f3a"
             ],
             [
              0.8888888888888888,
              "#fdca26"
             ],
             [
              1,
              "#f0f921"
             ]
            ],
            "type": "heatmapgl"
           }
          ],
          "histogram": [
           {
            "marker": {
             "pattern": {
              "fillmode": "overlay",
              "size": 10,
              "solidity": 0.2
             }
            },
            "type": "histogram"
           }
          ],
          "histogram2d": [
           {
            "colorbar": {
             "outlinewidth": 0,
             "ticks": ""
            },
            "colorscale": [
             [
              0,
              "#0d0887"
             ],
             [
              0.1111111111111111,
              "#46039f"
             ],
             [
              0.2222222222222222,
              "#7201a8"
             ],
             [
              0.3333333333333333,
              "#9c179e"
             ],
             [
              0.4444444444444444,
              "#bd3786"
             ],
             [
              0.5555555555555556,
              "#d8576b"
             ],
             [
              0.6666666666666666,
              "#ed7953"
             ],
             [
              0.7777777777777778,
              "#fb9f3a"
             ],
             [
              0.8888888888888888,
              "#fdca26"
             ],
             [
              1,
              "#f0f921"
             ]
            ],
            "type": "histogram2d"
           }
          ],
          "histogram2dcontour": [
           {
            "colorbar": {
             "outlinewidth": 0,
             "ticks": ""
            },
            "colorscale": [
             [
              0,
              "#0d0887"
             ],
             [
              0.1111111111111111,
              "#46039f"
             ],
             [
              0.2222222222222222,
              "#7201a8"
             ],
             [
              0.3333333333333333,
              "#9c179e"
             ],
             [
              0.4444444444444444,
              "#bd3786"
             ],
             [
              0.5555555555555556,
              "#d8576b"
             ],
             [
              0.6666666666666666,
              "#ed7953"
             ],
             [
              0.7777777777777778,
              "#fb9f3a"
             ],
             [
              0.8888888888888888,
              "#fdca26"
             ],
             [
              1,
              "#f0f921"
             ]
            ],
            "type": "histogram2dcontour"
           }
          ],
          "mesh3d": [
           {
            "colorbar": {
             "outlinewidth": 0,
             "ticks": ""
            },
            "type": "mesh3d"
           }
          ],
          "parcoords": [
           {
            "line": {
             "colorbar": {
              "outlinewidth": 0,
              "ticks": ""
             }
            },
            "type": "parcoords"
           }
          ],
          "pie": [
           {
            "automargin": true,
            "type": "pie"
           }
          ],
          "scatter": [
           {
            "marker": {
             "colorbar": {
              "outlinewidth": 0,
              "ticks": ""
             }
            },
            "type": "scatter"
           }
          ],
          "scatter3d": [
           {
            "line": {
             "colorbar": {
              "outlinewidth": 0,
              "ticks": ""
             }
            },
            "marker": {
             "colorbar": {
              "outlinewidth": 0,
              "ticks": ""
             }
            },
            "type": "scatter3d"
           }
          ],
          "scattercarpet": [
           {
            "marker": {
             "colorbar": {
              "outlinewidth": 0,
              "ticks": ""
             }
            },
            "type": "scattercarpet"
           }
          ],
          "scattergeo": [
           {
            "marker": {
             "colorbar": {
              "outlinewidth": 0,
              "ticks": ""
             }
            },
            "type": "scattergeo"
           }
          ],
          "scattergl": [
           {
            "marker": {
             "colorbar": {
              "outlinewidth": 0,
              "ticks": ""
             }
            },
            "type": "scattergl"
           }
          ],
          "scattermapbox": [
           {
            "marker": {
             "colorbar": {
              "outlinewidth": 0,
              "ticks": ""
             }
            },
            "type": "scattermapbox"
           }
          ],
          "scatterpolar": [
           {
            "marker": {
             "colorbar": {
              "outlinewidth": 0,
              "ticks": ""
             }
            },
            "type": "scatterpolar"
           }
          ],
          "scatterpolargl": [
           {
            "marker": {
             "colorbar": {
              "outlinewidth": 0,
              "ticks": ""
             }
            },
            "type": "scatterpolargl"
           }
          ],
          "scatterternary": [
           {
            "marker": {
             "colorbar": {
              "outlinewidth": 0,
              "ticks": ""
             }
            },
            "type": "scatterternary"
           }
          ],
          "surface": [
           {
            "colorbar": {
             "outlinewidth": 0,
             "ticks": ""
            },
            "colorscale": [
             [
              0,
              "#0d0887"
             ],
             [
              0.1111111111111111,
              "#46039f"
             ],
             [
              0.2222222222222222,
              "#7201a8"
             ],
             [
              0.3333333333333333,
              "#9c179e"
             ],
             [
              0.4444444444444444,
              "#bd3786"
             ],
             [
              0.5555555555555556,
              "#d8576b"
             ],
             [
              0.6666666666666666,
              "#ed7953"
             ],
             [
              0.7777777777777778,
              "#fb9f3a"
             ],
             [
              0.8888888888888888,
              "#fdca26"
             ],
             [
              1,
              "#f0f921"
             ]
            ],
            "type": "surface"
           }
          ],
          "table": [
           {
            "cells": {
             "fill": {
              "color": "#EBF0F8"
             },
             "line": {
              "color": "white"
             }
            },
            "header": {
             "fill": {
              "color": "#C8D4E3"
             },
             "line": {
              "color": "white"
             }
            },
            "type": "table"
           }
          ]
         },
         "layout": {
          "annotationdefaults": {
           "arrowcolor": "#2a3f5f",
           "arrowhead": 0,
           "arrowwidth": 1
          },
          "autotypenumbers": "strict",
          "coloraxis": {
           "colorbar": {
            "outlinewidth": 0,
            "ticks": ""
           }
          },
          "colorscale": {
           "diverging": [
            [
             0,
             "#8e0152"
            ],
            [
             0.1,
             "#c51b7d"
            ],
            [
             0.2,
             "#de77ae"
            ],
            [
             0.3,
             "#f1b6da"
            ],
            [
             0.4,
             "#fde0ef"
            ],
            [
             0.5,
             "#f7f7f7"
            ],
            [
             0.6,
             "#e6f5d0"
            ],
            [
             0.7,
             "#b8e186"
            ],
            [
             0.8,
             "#7fbc41"
            ],
            [
             0.9,
             "#4d9221"
            ],
            [
             1,
             "#276419"
            ]
           ],
           "sequential": [
            [
             0,
             "#0d0887"
            ],
            [
             0.1111111111111111,
             "#46039f"
            ],
            [
             0.2222222222222222,
             "#7201a8"
            ],
            [
             0.3333333333333333,
             "#9c179e"
            ],
            [
             0.4444444444444444,
             "#bd3786"
            ],
            [
             0.5555555555555556,
             "#d8576b"
            ],
            [
             0.6666666666666666,
             "#ed7953"
            ],
            [
             0.7777777777777778,
             "#fb9f3a"
            ],
            [
             0.8888888888888888,
             "#fdca26"
            ],
            [
             1,
             "#f0f921"
            ]
           ],
           "sequentialminus": [
            [
             0,
             "#0d0887"
            ],
            [
             0.1111111111111111,
             "#46039f"
            ],
            [
             0.2222222222222222,
             "#7201a8"
            ],
            [
             0.3333333333333333,
             "#9c179e"
            ],
            [
             0.4444444444444444,
             "#bd3786"
            ],
            [
             0.5555555555555556,
             "#d8576b"
            ],
            [
             0.6666666666666666,
             "#ed7953"
            ],
            [
             0.7777777777777778,
             "#fb9f3a"
            ],
            [
             0.8888888888888888,
             "#fdca26"
            ],
            [
             1,
             "#f0f921"
            ]
           ]
          },
          "colorway": [
           "#636efa",
           "#EF553B",
           "#00cc96",
           "#ab63fa",
           "#FFA15A",
           "#19d3f3",
           "#FF6692",
           "#B6E880",
           "#FF97FF",
           "#FECB52"
          ],
          "font": {
           "color": "#2a3f5f"
          },
          "geo": {
           "bgcolor": "white",
           "lakecolor": "white",
           "landcolor": "#E5ECF6",
           "showlakes": true,
           "showland": true,
           "subunitcolor": "white"
          },
          "hoverlabel": {
           "align": "left"
          },
          "hovermode": "closest",
          "mapbox": {
           "style": "light"
          },
          "paper_bgcolor": "white",
          "plot_bgcolor": "#E5ECF6",
          "polar": {
           "angularaxis": {
            "gridcolor": "white",
            "linecolor": "white",
            "ticks": ""
           },
           "bgcolor": "#E5ECF6",
           "radialaxis": {
            "gridcolor": "white",
            "linecolor": "white",
            "ticks": ""
           }
          },
          "scene": {
           "xaxis": {
            "backgroundcolor": "#E5ECF6",
            "gridcolor": "white",
            "gridwidth": 2,
            "linecolor": "white",
            "showbackground": true,
            "ticks": "",
            "zerolinecolor": "white"
           },
           "yaxis": {
            "backgroundcolor": "#E5ECF6",
            "gridcolor": "white",
            "gridwidth": 2,
            "linecolor": "white",
            "showbackground": true,
            "ticks": "",
            "zerolinecolor": "white"
           },
           "zaxis": {
            "backgroundcolor": "#E5ECF6",
            "gridcolor": "white",
            "gridwidth": 2,
            "linecolor": "white",
            "showbackground": true,
            "ticks": "",
            "zerolinecolor": "white"
           }
          },
          "shapedefaults": {
           "line": {
            "color": "#2a3f5f"
           }
          },
          "ternary": {
           "aaxis": {
            "gridcolor": "white",
            "linecolor": "white",
            "ticks": ""
           },
           "baxis": {
            "gridcolor": "white",
            "linecolor": "white",
            "ticks": ""
           },
           "bgcolor": "#E5ECF6",
           "caxis": {
            "gridcolor": "white",
            "linecolor": "white",
            "ticks": ""
           }
          },
          "title": {
           "x": 0.05
          },
          "xaxis": {
           "automargin": true,
           "gridcolor": "white",
           "linecolor": "white",
           "ticks": "",
           "title": {
            "standoff": 15
           },
           "zerolinecolor": "white",
           "zerolinewidth": 2
          },
          "yaxis": {
           "automargin": true,
           "gridcolor": "white",
           "linecolor": "white",
           "ticks": "",
           "title": {
            "standoff": 15
           },
           "zerolinecolor": "white",
           "zerolinewidth": 2
          }
         }
        },
        "title": {
         "text": "Clustering de vinos"
        }
       }
      },
      "text/html": [
       "<div>                            <div id=\"64bc0b8a-a5dc-4eab-9ce7-e467321242a1\" class=\"plotly-graph-div\" style=\"height:525px; width:100%;\"></div>            <script type=\"text/javascript\">                require([\"plotly\"], function(Plotly) {                    window.PLOTLYENV=window.PLOTLYENV || {};                                    if (document.getElementById(\"64bc0b8a-a5dc-4eab-9ce7-e467321242a1\")) {                    Plotly.newPlot(                        \"64bc0b8a-a5dc-4eab-9ce7-e467321242a1\",                        [{\"hovertemplate\":\"Comp_1=%{x}<br>Comp_2=%{y}<br>Comp_3=%{z}<br>Cluster_KMeans=%{marker.color}<extra></extra>\",\"legendgroup\":\"\",\"marker\":{\"color\":[0,0,0,0,0,0,0,0,0,0,0,0,0,0,0,0,0,0,0,0,0,0,0,0,0,0,0,0,0,0,0,0,0,0,0,0,0,0,0,0,0,0,0,0,0,0,0,0,0,0,0,0,0,0,0,0,0,0,0,2,1,1,2,2,2,2,2,2,1,2,1,2,2,0,2,2,2,2,2,2,2,2,2,1,2,2,2,2,2,2,2,2,1,2,2,0,2,2,2,2,2,2,2,2,2,2,2,2,2,2,2,2,2,2,2,2,2,2,1,2,2,2,2,2,2,2,2,2,2,2,1,1,1,1,1,1,1,1,1,1,1,1,1,1,1,1,1,1,1,1,1,1,1,1,1,1,1,1,1,1,1,1,1,1,1,1,1,1,1,1,1,1,1,1,1,1,1,1],\"coloraxis\":\"coloraxis\",\"opacity\":0.5,\"symbol\":\"circle\"},\"mode\":\"markers\",\"name\":\"\",\"scene\":\"scene\",\"showlegend\":false,\"type\":\"scatter3d\",\"x\":[-0.7063357559739393,-0.48497680177177155,-0.5211722661289457,-0.821643663444926,-0.2025463815709558,-0.6081901521202492,-0.5440473986436279,-0.4743574954874904,-0.5004320119570947,-0.6275179686728708,-0.7274671570917972,-0.37496774383264214,-0.44818828284820333,-0.6263453286759272,-0.8357170112512712,-0.47193156797665586,-0.4269909050275046,-0.36659570355209004,-0.7187885333456541,-0.45888498563963487,-0.6618522880381424,-0.26790003195380124,-0.5997823988279933,-0.4178947999370145,-0.4499403916869378,-0.21578779516971658,-0.41553199570253274,-0.2839469700735521,-0.4750992269650711,-0.5143964692959474,-0.5209658119510385,-0.5757382326418831,-0.3021446388067234,-0.36702197148787996,-0.3030224681173565,-0.45833887764168635,-0.27156632474012415,-0.2320041887805356,-0.30548040339141763,-0.519605033037915,-0.5305751143582875,-0.18704452557053122,-0.7055081974474844,-0.11151729877638399,-0.46736065166416685,-0.29012280050493794,-0.5832593702171353,-0.6202790286065465,-0.3948223697924987,-0.5596201611830274,-0.6317213426093593,-0.6194299068901975,-0.7310574664323586,-0.44637239109178883,-0.47227168601954456,-0.5265194748613802,-0.5809228376794255,-0.4564996599158447,-0.6686733057944834,0.236612131137147,0.41108301720887414,0.4534661450533516,-0.010290872329033272,-0.45368070833041135,0.18588906899134067,-0.13251439981175964,-0.4816607329293057,-0.1373597901615753,0.22015782906003167,-0.3450315443539117,0.3679434084157715,-0.4083243507324551,0.07542113153048385,-0.5992765569827562,-0.45956226089733043,0.2318609031324592,-0.06493976550691223,0.3237363706172216,-0.13392862208417602,-0.08634646139834715,-0.18747731553360572,-0.2535890400571206,0.0645922121194812,0.5685674885949316,-0.20755533034963558,-0.18482664900930496,0.1946046086205171,0.04979030896695293,0.20199537784843205,0.02600117696220829,0.32077702968926997,0.3214334318895999,0.44153923256514854,-0.18381479869978723,-0.2346237731260818,-0.39876299122206,0.1323110319696307,-0.20323743602639535,-0.49130214716769455,-0.22221150372245244,-0.1784151438396029,0.08820370608907573,-0.04596278979446905,0.12716525650965552,-0.1683598030323241,0.33494183793011095,0.03085597703086444,0.33133829741600124,-0.03252486754710221,-0.3632618315966533,-0.25892867635736133,0.001221223328499676,0.31115209876766414,0.0992201563195347,0.018732699925374924,-0.06137200742469904,-0.02531093702195565,0.0012572931396182836,0.5127375941420086,0.0910642272368432,-0.2207087583527613,-0.3578556357217319,0.19673686563053613,0.04668325340771474,-0.2763795897960788,-0.05804949723161649,-0.056156995261786344,0.3183515422114131,0.06168944409587662,0.33511325240748646,0.33887840965882277,0.5254733856918787,0.6106086868117541,0.47050330071118335,0.5595223905602724,0.7008876262838496,0.8683670975045145,0.862780922737714,0.6837495421095007,0.4907193649047866,0.5694530981168106,0.42467735202139134,0.615620030410754,0.5221733294423376,0.47761457176823774,0.5796796573700423,0.9152164456850023,0.7367888443866021,0.6038628408597833,0.6542441347856426,0.520842262793415,0.5496214180810591,0.40608659520961377,0.6678751564315837,0.6267857981852099,0.8170550870238481,0.6509798715065899,0.713430626539064,0.25657599948125237,0.3736425170016205,0.675012038973718,0.517484678555806,0.626069564878052,0.5790085321158682,0.6243756753192967,0.7663497875788438,0.5630111919890175,0.6243889062673856,0.47251420564408114,0.48239336093763857,0.6791822803564137,0.7745303668726548,0.5376563936957774,0.739509502688214,0.5817811389989139,0.6263128876683182,0.5729911024096556,0.7017639971012218],\"y\":[-0.2531927528570432,-0.008822891420635248,-0.18918722167748092,-0.5809055122572578,-0.059466574015118775,-0.48751919105438163,-0.3001964969263838,-0.2981970205924971,-0.3076028589212395,-0.2063282328858747,-0.35651204360910926,-0.22542453490427877,-0.2319381391826211,-0.35513867657135456,-0.5380478024650088,-0.33740538546788446,-0.45084268441991093,-0.3157503408790417,-0.5938813318982695,-0.17578223961142928,-0.12783103158536316,0.009811275653937617,0.000782494522599868,0.11378690097270128,0.09837719740864757,0.00926270331364068,-0.15547038490015902,-0.08973642622503164,-0.0880516479352778,-0.10460250195341585,-0.2584308843861455,-0.36115578796928477,-0.05149430641522917,-0.2686166298718984,-0.12141320164109395,-0.030309882187644265,-0.07612384058168038,-0.050330276265271756,0.061677556269284464,-0.3138300614716689,-0.1295366226701523,-0.12483030599971225,-0.236951581729675,-0.0693158637483765,-0.004173057947184998,-0.36722106279438865,-0.3090004811654624,-0.19381063078197716,-0.29359897018106146,-0.40827057904743913,-0.1530751038201338,-0.18957707433023124,-0.3528821729370486,-0.3754453668989085,-0.21758377506956705,-0.2473534116083546,-0.29611838163517396,-0.25417286056582394,-0.37362669194815196,0.41589767921191995,0.23904205629752764,0.11538704309110229,0.14405831199130922,0.3585913099280059,0.43197061182508567,0.177025232135253,0.24822150928239353,0.43128161069177356,0.026073907336809286,0.31613448598540433,0.1559164282464183,0.2219976031710086,0.1961296198032269,0.08583317923986591,0.2774063181993342,0.43949927638279995,0.31081639399489114,0.3221913122319791,0.1678572925065336,0.2509418908718355,0.649776371819141,0.24911555691599707,0.4872583885056165,-0.0027250241368357406,0.38333242304142656,0.4181662076498859,0.4446987011858893,0.5582651484788466,0.3918671028179663,0.5203974830428043,0.4079641751960495,0.414255535091991,0.28074704333840367,0.4707149173616331,0.48206879980710726,0.06683594716357406,0.2332198020535328,0.44645004540607136,0.23922424661216551,0.4056179514653566,0.3833756761362842,0.39156168626833276,0.3168982983602233,0.4868996464959608,0.3799321186462674,0.40193615474058814,0.4126791416751286,0.2698325199677685,0.4598523036326663,0.3911792056524176,0.2828274955146965,0.3832253948014412,0.2701939844952772,0.5070218349708079,0.4568995501812113,0.7775430928097292,0.5591676321354118,0.4428981739396167,0.17117932001502548,0.41136667831199003,0.3596485559688024,0.2433096368635011,0.26840626821640623,0.10259407256572309,0.3482476890394626,0.44330088722611805,0.2891234970369943,0.3690400979184394,0.43037289870483914,0.23311753907466537,-0.016305418220350698,-0.06851820579946105,-0.038759732491221416,-0.07800551962876762,0.04556075048695661,-0.10578362491732232,-0.040728084058747116,-0.0782006550163329,-0.13388880697513092,0.0005567425969721794,0.005364615106247944,-0.09953057962150871,-0.04775163592444671,-0.13844376178229312,-0.22729822959369556,-0.15773925128884436,-0.21423137300159253,-0.25226755506363086,-0.32796291261241306,-0.37855515353658997,-0.38306205837908425,-0.3349173769007246,-0.1902804140097483,-0.4471357037596088,-0.08896154903287629,-0.3917984678131447,-0.4122117449354321,-0.2043714725598002,-0.6453058419559626,-0.44353227622160124,-0.14345927979637862,-0.2291872757777999,-0.04628051948305638,-0.13907481600185984,-0.34886831185061695,-0.22301853181583484,-0.47656559805475124,-0.28876936739912296,-0.3607810316991055,-0.41598880347543266,0.06575188839537856,-0.18191366037809137,-0.4624046962961123,-0.47190114948566764,-0.3483657523156394,-0.5468570130705912,-0.42551608676412017,-0.5135049826839484],\"z\":[0.024092693181920716,-0.2804820475745335,0.1962167362428155,0.08110971721711135,0.3002399411955104,-0.07543323207993524,-0.10507462094056025,-0.0028214930827172263,-0.2304936127691796,-0.11414793196478637,-0.0504199490041167,-0.28613408292768555,-0.16790805342414217,-0.08583565788952634,-0.11520294304674071,-0.07278216073260826,0.05443655271939272,0.05367905134455796,-0.09664755675402843,0.04618901813228769,-0.012134229648664067,0.2684339618888827,-0.003718254783521862,-0.037681319328595565,0.11918478646117599,0.4747449719194988,-0.007117479610611044,-0.2716056921427294,0.18662147166175053,-0.12047251637772294,0.10897900779203587,-0.11326690752265205,-0.04322296778726746,0.08599779668802593,-0.0501639070109442,0.07903004251551717,-0.050540169541441436,-0.14644544480087293,-0.30086623141074786,0.16767054984351448,0.07987875900018751,0.0665891995582102,-0.002769871137507181,0.19004656749509619,-0.012999301634350738,0.20646139045748013,0.1602831586663991,-0.0848239401733411,0.014305389315352014,-0.05253998194198545,-0.25689375580325013,-0.06397051922053494,0.0211611968387141,0.013089687463063994,-0.1670297933757074,0.03821784375387472,-0.034856318357957355,0.003389697150603005,-0.0687172588350657,-0.8358210657761523,-0.32634768097887745,-0.33994256931457423,-0.3892844537296885,-0.04159142292112572,-0.12013034752990678,-0.0575362840861949,-0.21133872123373604,-0.19393501265450616,-0.27259641777153404,-0.38219937539050614,-0.3068329311204823,0.19639692574052137,-0.07801229622460297,0.3602840360296923,-0.05319561870375217,-0.35648240499704403,-0.46878207432989955,-0.05146130081160519,-0.32032834733360555,0.45433787695502936,-0.15543555220419322,-0.0816831221576795,0.00770465734616416,0.24185959332034443,-0.033039030977108676,-0.16823351655450858,-0.04406826973026423,0.1886149717322373,0.101233891564863,0.07478900609940045,-0.06989671761064384,0.017725558159635273,-0.0772974957962692,0.10166631947475438,-0.037723689135559034,-0.013597706528911367,-0.10538052734799276,-0.19783835453158577,-0.03267109573275835,0.2774180477784391,-0.24622560397528517,-0.33393767876782426,0.21441303435631492,-0.11850083985038883,-0.039678585346509955,0.29777340368887323,-0.07058909997674837,-0.002265422344939214,-0.025864039335591043,0.20486976915136046,0.29662331903326516,0.041779419570140815,0.21764729415910442,-0.02509214203773017,0.17163237179692936,0.119972782608306,-0.07615439226355532,0.02613144931994893,-0.15356568426531295,0.09967962601538947,0.2598442939956987,0.8427169984813668,0.6169349144040904,0.5036227595579071,0.5377531315820535,0.16415660432358956,0.17335677697144766,0.4573777871973711,0.1832728618090786,0.2957070372556745,-0.47927988259926707,-0.24330798903585538,-0.21590535079670767,-0.18353600013715163,-0.24558216742990005,-0.15063085896727635,0.08935019113920456,0.45588619476460357,-0.041452615947656035,0.17797873414790386,0.05779232126303874,-0.18182578897404483,0.08847803083036188,0.15546773831544963,-0.1563099723051901,-0.0844694328331334,-0.07525253820998265,0.15356495110425877,-0.0007154044050594735,-0.04593991693850093,-0.060388581873201425,-0.13480118369148625,0.009633004752043513,0.013220797817578393,-0.27004657439639246,0.251375642353935,0.07124726190495785,0.24815544788528893,0.24819575714739955,0.11828997652562719,0.1270507642105607,-0.04051356162981932,0.14037642912223341,-0.1414618652018391,-0.15991440224599865,0.07287328535926706,0.07389449299301887,-0.14386426642023212,0.021218673925281314,0.2504307822460209,-0.16871982357327586,-0.2129420189426258,-0.13701899573673373,0.20936032691957115,0.08359028507010409,-0.030494755175099312,-0.09453671740645347,0.29390996110839185]}],                        {\"coloraxis\":{\"colorbar\":{\"title\":{\"text\":\"Cluster_KMeans\"}},\"colorscale\":[[0.0,\"#0d0887\"],[0.1111111111111111,\"#46039f\"],[0.2222222222222222,\"#7201a8\"],[0.3333333333333333,\"#9c179e\"],[0.4444444444444444,\"#bd3786\"],[0.5555555555555556,\"#d8576b\"],[0.6666666666666666,\"#ed7953\"],[0.7777777777777778,\"#fb9f3a\"],[0.8888888888888888,\"#fdca26\"],[1.0,\"#f0f921\"]]},\"legend\":{\"tracegroupgap\":0},\"scene\":{\"domain\":{\"x\":[0.0,1.0],\"y\":[0.0,1.0]},\"xaxis\":{\"title\":{\"text\":\"Comp_1\"}},\"yaxis\":{\"title\":{\"text\":\"Comp_2\"}},\"zaxis\":{\"title\":{\"text\":\"Comp_3\"}}},\"template\":{\"data\":{\"bar\":[{\"error_x\":{\"color\":\"#2a3f5f\"},\"error_y\":{\"color\":\"#2a3f5f\"},\"marker\":{\"line\":{\"color\":\"#E5ECF6\",\"width\":0.5},\"pattern\":{\"fillmode\":\"overlay\",\"size\":10,\"solidity\":0.2}},\"type\":\"bar\"}],\"barpolar\":[{\"marker\":{\"line\":{\"color\":\"#E5ECF6\",\"width\":0.5},\"pattern\":{\"fillmode\":\"overlay\",\"size\":10,\"solidity\":0.2}},\"type\":\"barpolar\"}],\"carpet\":[{\"aaxis\":{\"endlinecolor\":\"#2a3f5f\",\"gridcolor\":\"white\",\"linecolor\":\"white\",\"minorgridcolor\":\"white\",\"startlinecolor\":\"#2a3f5f\"},\"baxis\":{\"endlinecolor\":\"#2a3f5f\",\"gridcolor\":\"white\",\"linecolor\":\"white\",\"minorgridcolor\":\"white\",\"startlinecolor\":\"#2a3f5f\"},\"type\":\"carpet\"}],\"choropleth\":[{\"colorbar\":{\"outlinewidth\":0,\"ticks\":\"\"},\"type\":\"choropleth\"}],\"contour\":[{\"colorbar\":{\"outlinewidth\":0,\"ticks\":\"\"},\"colorscale\":[[0.0,\"#0d0887\"],[0.1111111111111111,\"#46039f\"],[0.2222222222222222,\"#7201a8\"],[0.3333333333333333,\"#9c179e\"],[0.4444444444444444,\"#bd3786\"],[0.5555555555555556,\"#d8576b\"],[0.6666666666666666,\"#ed7953\"],[0.7777777777777778,\"#fb9f3a\"],[0.8888888888888888,\"#fdca26\"],[1.0,\"#f0f921\"]],\"type\":\"contour\"}],\"contourcarpet\":[{\"colorbar\":{\"outlinewidth\":0,\"ticks\":\"\"},\"type\":\"contourcarpet\"}],\"heatmap\":[{\"colorbar\":{\"outlinewidth\":0,\"ticks\":\"\"},\"colorscale\":[[0.0,\"#0d0887\"],[0.1111111111111111,\"#46039f\"],[0.2222222222222222,\"#7201a8\"],[0.3333333333333333,\"#9c179e\"],[0.4444444444444444,\"#bd3786\"],[0.5555555555555556,\"#d8576b\"],[0.6666666666666666,\"#ed7953\"],[0.7777777777777778,\"#fb9f3a\"],[0.8888888888888888,\"#fdca26\"],[1.0,\"#f0f921\"]],\"type\":\"heatmap\"}],\"heatmapgl\":[{\"colorbar\":{\"outlinewidth\":0,\"ticks\":\"\"},\"colorscale\":[[0.0,\"#0d0887\"],[0.1111111111111111,\"#46039f\"],[0.2222222222222222,\"#7201a8\"],[0.3333333333333333,\"#9c179e\"],[0.4444444444444444,\"#bd3786\"],[0.5555555555555556,\"#d8576b\"],[0.6666666666666666,\"#ed7953\"],[0.7777777777777778,\"#fb9f3a\"],[0.8888888888888888,\"#fdca26\"],[1.0,\"#f0f921\"]],\"type\":\"heatmapgl\"}],\"histogram\":[{\"marker\":{\"pattern\":{\"fillmode\":\"overlay\",\"size\":10,\"solidity\":0.2}},\"type\":\"histogram\"}],\"histogram2d\":[{\"colorbar\":{\"outlinewidth\":0,\"ticks\":\"\"},\"colorscale\":[[0.0,\"#0d0887\"],[0.1111111111111111,\"#46039f\"],[0.2222222222222222,\"#7201a8\"],[0.3333333333333333,\"#9c179e\"],[0.4444444444444444,\"#bd3786\"],[0.5555555555555556,\"#d8576b\"],[0.6666666666666666,\"#ed7953\"],[0.7777777777777778,\"#fb9f3a\"],[0.8888888888888888,\"#fdca26\"],[1.0,\"#f0f921\"]],\"type\":\"histogram2d\"}],\"histogram2dcontour\":[{\"colorbar\":{\"outlinewidth\":0,\"ticks\":\"\"},\"colorscale\":[[0.0,\"#0d0887\"],[0.1111111111111111,\"#46039f\"],[0.2222222222222222,\"#7201a8\"],[0.3333333333333333,\"#9c179e\"],[0.4444444444444444,\"#bd3786\"],[0.5555555555555556,\"#d8576b\"],[0.6666666666666666,\"#ed7953\"],[0.7777777777777778,\"#fb9f3a\"],[0.8888888888888888,\"#fdca26\"],[1.0,\"#f0f921\"]],\"type\":\"histogram2dcontour\"}],\"mesh3d\":[{\"colorbar\":{\"outlinewidth\":0,\"ticks\":\"\"},\"type\":\"mesh3d\"}],\"parcoords\":[{\"line\":{\"colorbar\":{\"outlinewidth\":0,\"ticks\":\"\"}},\"type\":\"parcoords\"}],\"pie\":[{\"automargin\":true,\"type\":\"pie\"}],\"scatter\":[{\"marker\":{\"colorbar\":{\"outlinewidth\":0,\"ticks\":\"\"}},\"type\":\"scatter\"}],\"scatter3d\":[{\"line\":{\"colorbar\":{\"outlinewidth\":0,\"ticks\":\"\"}},\"marker\":{\"colorbar\":{\"outlinewidth\":0,\"ticks\":\"\"}},\"type\":\"scatter3d\"}],\"scattercarpet\":[{\"marker\":{\"colorbar\":{\"outlinewidth\":0,\"ticks\":\"\"}},\"type\":\"scattercarpet\"}],\"scattergeo\":[{\"marker\":{\"colorbar\":{\"outlinewidth\":0,\"ticks\":\"\"}},\"type\":\"scattergeo\"}],\"scattergl\":[{\"marker\":{\"colorbar\":{\"outlinewidth\":0,\"ticks\":\"\"}},\"type\":\"scattergl\"}],\"scattermapbox\":[{\"marker\":{\"colorbar\":{\"outlinewidth\":0,\"ticks\":\"\"}},\"type\":\"scattermapbox\"}],\"scatterpolar\":[{\"marker\":{\"colorbar\":{\"outlinewidth\":0,\"ticks\":\"\"}},\"type\":\"scatterpolar\"}],\"scatterpolargl\":[{\"marker\":{\"colorbar\":{\"outlinewidth\":0,\"ticks\":\"\"}},\"type\":\"scatterpolargl\"}],\"scatterternary\":[{\"marker\":{\"colorbar\":{\"outlinewidth\":0,\"ticks\":\"\"}},\"type\":\"scatterternary\"}],\"surface\":[{\"colorbar\":{\"outlinewidth\":0,\"ticks\":\"\"},\"colorscale\":[[0.0,\"#0d0887\"],[0.1111111111111111,\"#46039f\"],[0.2222222222222222,\"#7201a8\"],[0.3333333333333333,\"#9c179e\"],[0.4444444444444444,\"#bd3786\"],[0.5555555555555556,\"#d8576b\"],[0.6666666666666666,\"#ed7953\"],[0.7777777777777778,\"#fb9f3a\"],[0.8888888888888888,\"#fdca26\"],[1.0,\"#f0f921\"]],\"type\":\"surface\"}],\"table\":[{\"cells\":{\"fill\":{\"color\":\"#EBF0F8\"},\"line\":{\"color\":\"white\"}},\"header\":{\"fill\":{\"color\":\"#C8D4E3\"},\"line\":{\"color\":\"white\"}},\"type\":\"table\"}]},\"layout\":{\"annotationdefaults\":{\"arrowcolor\":\"#2a3f5f\",\"arrowhead\":0,\"arrowwidth\":1},\"autotypenumbers\":\"strict\",\"coloraxis\":{\"colorbar\":{\"outlinewidth\":0,\"ticks\":\"\"}},\"colorscale\":{\"diverging\":[[0,\"#8e0152\"],[0.1,\"#c51b7d\"],[0.2,\"#de77ae\"],[0.3,\"#f1b6da\"],[0.4,\"#fde0ef\"],[0.5,\"#f7f7f7\"],[0.6,\"#e6f5d0\"],[0.7,\"#b8e186\"],[0.8,\"#7fbc41\"],[0.9,\"#4d9221\"],[1,\"#276419\"]],\"sequential\":[[0.0,\"#0d0887\"],[0.1111111111111111,\"#46039f\"],[0.2222222222222222,\"#7201a8\"],[0.3333333333333333,\"#9c179e\"],[0.4444444444444444,\"#bd3786\"],[0.5555555555555556,\"#d8576b\"],[0.6666666666666666,\"#ed7953\"],[0.7777777777777778,\"#fb9f3a\"],[0.8888888888888888,\"#fdca26\"],[1.0,\"#f0f921\"]],\"sequentialminus\":[[0.0,\"#0d0887\"],[0.1111111111111111,\"#46039f\"],[0.2222222222222222,\"#7201a8\"],[0.3333333333333333,\"#9c179e\"],[0.4444444444444444,\"#bd3786\"],[0.5555555555555556,\"#d8576b\"],[0.6666666666666666,\"#ed7953\"],[0.7777777777777778,\"#fb9f3a\"],[0.8888888888888888,\"#fdca26\"],[1.0,\"#f0f921\"]]},\"colorway\":[\"#636efa\",\"#EF553B\",\"#00cc96\",\"#ab63fa\",\"#FFA15A\",\"#19d3f3\",\"#FF6692\",\"#B6E880\",\"#FF97FF\",\"#FECB52\"],\"font\":{\"color\":\"#2a3f5f\"},\"geo\":{\"bgcolor\":\"white\",\"lakecolor\":\"white\",\"landcolor\":\"#E5ECF6\",\"showlakes\":true,\"showland\":true,\"subunitcolor\":\"white\"},\"hoverlabel\":{\"align\":\"left\"},\"hovermode\":\"closest\",\"mapbox\":{\"style\":\"light\"},\"paper_bgcolor\":\"white\",\"plot_bgcolor\":\"#E5ECF6\",\"polar\":{\"angularaxis\":{\"gridcolor\":\"white\",\"linecolor\":\"white\",\"ticks\":\"\"},\"bgcolor\":\"#E5ECF6\",\"radialaxis\":{\"gridcolor\":\"white\",\"linecolor\":\"white\",\"ticks\":\"\"}},\"scene\":{\"xaxis\":{\"backgroundcolor\":\"#E5ECF6\",\"gridcolor\":\"white\",\"gridwidth\":2,\"linecolor\":\"white\",\"showbackground\":true,\"ticks\":\"\",\"zerolinecolor\":\"white\"},\"yaxis\":{\"backgroundcolor\":\"#E5ECF6\",\"gridcolor\":\"white\",\"gridwidth\":2,\"linecolor\":\"white\",\"showbackground\":true,\"ticks\":\"\",\"zerolinecolor\":\"white\"},\"zaxis\":{\"backgroundcolor\":\"#E5ECF6\",\"gridcolor\":\"white\",\"gridwidth\":2,\"linecolor\":\"white\",\"showbackground\":true,\"ticks\":\"\",\"zerolinecolor\":\"white\"}},\"shapedefaults\":{\"line\":{\"color\":\"#2a3f5f\"}},\"ternary\":{\"aaxis\":{\"gridcolor\":\"white\",\"linecolor\":\"white\",\"ticks\":\"\"},\"baxis\":{\"gridcolor\":\"white\",\"linecolor\":\"white\",\"ticks\":\"\"},\"bgcolor\":\"#E5ECF6\",\"caxis\":{\"gridcolor\":\"white\",\"linecolor\":\"white\",\"ticks\":\"\"}},\"title\":{\"x\":0.05},\"xaxis\":{\"automargin\":true,\"gridcolor\":\"white\",\"linecolor\":\"white\",\"ticks\":\"\",\"title\":{\"standoff\":15},\"zerolinecolor\":\"white\",\"zerolinewidth\":2},\"yaxis\":{\"automargin\":true,\"gridcolor\":\"white\",\"linecolor\":\"white\",\"ticks\":\"\",\"title\":{\"standoff\":15},\"zerolinecolor\":\"white\",\"zerolinewidth\":2}}},\"title\":{\"text\":\"Clustering de vinos\"}},                        {\"responsive\": true}                    ).then(function(){\n",
       "                            \n",
       "var gd = document.getElementById('64bc0b8a-a5dc-4eab-9ce7-e467321242a1');\n",
       "var x = new MutationObserver(function (mutations, observer) {{\n",
       "        var display = window.getComputedStyle(gd).display;\n",
       "        if (!display || display === 'none') {{\n",
       "            console.log([gd, 'removed!']);\n",
       "            Plotly.purge(gd);\n",
       "            observer.disconnect();\n",
       "        }}\n",
       "}});\n",
       "\n",
       "// Listen for the removal of the full notebook cells\n",
       "var notebookContainer = gd.closest('#notebook-container');\n",
       "if (notebookContainer) {{\n",
       "    x.observe(notebookContainer, {childList: true});\n",
       "}}\n",
       "\n",
       "// Listen for the clearing of the current output cell\n",
       "var outputEl = gd.closest('.output');\n",
       "if (outputEl) {{\n",
       "    x.observe(outputEl, {childList: true});\n",
       "}}\n",
       "\n",
       "                        })                };                });            </script>        </div>"
      ]
     },
     "metadata": {},
     "output_type": "display_data"
    }
   ],
   "source": [
    "fig = px.scatter_3d(pca_graf,\n",
    "                    x='Comp_1',\n",
    "                    y='Comp_2',\n",
    "                    z='Comp_3',\n",
    "                    color='Cluster_KMeans',\n",
    "                    title='Clustering de vinos',\n",
    "                    opacity=0.5)\n",
    "                    #symbol=pca_graf.Cluster_KMeans\n",
    "fig.show()"
   ]
  },
  {
   "cell_type": "code",
   "execution_count": 90,
   "id": "grave-movie",
   "metadata": {
    "ExecuteTime": {
     "end_time": "2021-08-29T01:15:36.930247Z",
     "start_time": "2021-08-29T01:15:36.910246Z"
    }
   },
   "outputs": [],
   "source": [
    "df_norm.to_csv('norm.csv', header=True, index=False)"
   ]
  },
  {
   "cell_type": "markdown",
   "id": "environmental-calgary",
   "metadata": {},
   "source": [
    "# Otros algoritmos de clustering"
   ]
  },
  {
   "cell_type": "markdown",
   "id": "outside-falls",
   "metadata": {},
   "source": [
    "## Affinity Propagation\n",
    "Affinity Propagation (AP) es un algoritmo que trabaja con la matriz de similaridad, en vez de con la distancia euclídea (¿Qué es la distancia euclídea?). Esto hace que los puntos que esten cerca entre sí, tienen una alta similaridad y los más alejados tienen una baja similaridad, es decir se parecen poco.\n",
    "\n",
    "Esto lo hace el algoritmo inicializando dos matrices distintas:\n",
    "\n",
    "* La Matriz de Responsabilidad: es la matriz encargada de determinar como de responsable es cada punto de nuestro conjunto de datos, es decir la importancia que tiene.\n",
    "* La Matriz de Disponibilidad: La matriz encargada de determinar la cantidad de puntos que tiene un punto al rededor, es decir sus vecinos.\n",
    "\n",
    "Partiendo de estas dos matrices el algoritmo elegirá sus Exemplars que son aquellos puntos que serán el centro de los distintos clusters. Los puntos con mayor responsablidad y disponibilidad serán los elegidos.\n",
    "\n",
    "Al contrario que otros algoritmos de clustering, a este no es necesario decirle el número de clusters que queremos como por ejemplo ocurre con K-Means o Gaussian Mixture Model."
   ]
  },
  {
   "cell_type": "code",
   "execution_count": 91,
   "id": "worth-sympathy",
   "metadata": {
    "ExecuteTime": {
     "end_time": "2021-08-29T01:15:42.010040Z",
     "start_time": "2021-08-29T01:15:42.004037Z"
    }
   },
   "outputs": [],
   "source": [
    "from numpy import unique\n",
    "from numpy import where\n",
    "from sklearn.cluster import AffinityPropagation"
   ]
  },
  {
   "cell_type": "code",
   "execution_count": 92,
   "id": "heard-shuttle",
   "metadata": {
    "ExecuteTime": {
     "end_time": "2021-08-29T01:15:45.733874Z",
     "start_time": "2021-08-29T01:15:45.677854Z"
    },
    "scrolled": true
   },
   "outputs": [
    {
     "name": "stdout",
     "output_type": "stream",
     "text": [
      "Clases predichas:  \n",
      " [ 2  1  2  0  2  0  1  2  1  2  0  1  1  0  0  1  0  0  0  2  2  2  2  2\n",
      "  2  2  1  1  2  2  1  1  1  0  2  2  2  1  1  2  2  2  2  2  2  2  2  2\n",
      "  1  0  1  1  0  0  2  2  2  1  0  3  3  3  6  6  5  6  6  6  3  4 11  2\n",
      "  7  2  2  6  6  5  4  7  6  6  5 10  6  6  5  5  5  5  5  5  5  6  6  4\n",
      "  8  6  6  6  6  6  7  7  7  5  7  5  7  7  7  7  5  5  7  5  7  7 11  7\n",
      "  7  7  7  7  7  7  7  5  7  5  8  8  8  8  3 10 11 10 10 10 10 11 10 11\n",
      " 11 11 11  9  9  9  8  8  8  9  9  9  9 10  9  9  9 10 10 11  9  9  9  9\n",
      "  9  9 11  9  9  9  9  9  9  9] \n",
      "\n",
      " Valores únicos de clase predicha:  \n",
      " [ 0  1  2  3  4  5  6  7  8  9 10 11]\n"
     ]
    },
    {
     "name": "stderr",
     "output_type": "stream",
     "text": [
      "d:\\jasdata\\python39\\lib\\site-packages\\sklearn\\cluster\\_affinity_propagation.py:148: FutureWarning:\n",
      "\n",
      "'random_state' has been introduced in 0.23. It will be set to None starting from 1.0 (renaming of 0.25) which means that results will differ at every function call. Set 'random_state' to None to silence this warning, or to 0 to keep the behavior of versions <0.23.\n",
      "\n"
     ]
    }
   ],
   "source": [
    "# Crear el objeto modelo\n",
    "X_Aff=df_norm.copy()\n",
    "model = AffinityPropagation(damping=0.9)\n",
    "# Entrenar el modelo\n",
    "model.fit(X_Aff)\n",
    "# Asignar las clases a cada instancia\n",
    "clases = model.predict(X_Aff)\n",
    "# Ver los valores únicos de los cluster\n",
    "clusters = unique(clases)\n",
    "print('Clases predichas: ', '\\n', clases, '\\n\\n', 'Valores únicos de clase predicha: ', '\\n', clusters)"
   ]
  },
  {
   "cell_type": "code",
   "execution_count": 93,
   "id": "textile-shelter",
   "metadata": {
    "ExecuteTime": {
     "end_time": "2021-08-29T01:15:59.901076Z",
     "start_time": "2021-08-29T01:15:59.883083Z"
    },
    "scrolled": true
   },
   "outputs": [
    {
     "data": {
      "text/html": [
       "<div>\n",
       "<style scoped>\n",
       "    .dataframe tbody tr th:only-of-type {\n",
       "        vertical-align: middle;\n",
       "    }\n",
       "\n",
       "    .dataframe tbody tr th {\n",
       "        vertical-align: top;\n",
       "    }\n",
       "\n",
       "    .dataframe thead th {\n",
       "        text-align: right;\n",
       "    }\n",
       "</style>\n",
       "<table border=\"1\" class=\"dataframe\">\n",
       "  <thead>\n",
       "    <tr style=\"text-align: right;\">\n",
       "      <th></th>\n",
       "      <th>Alcohol</th>\n",
       "      <th>Malic</th>\n",
       "      <th>Ash</th>\n",
       "      <th>Alcalinity</th>\n",
       "      <th>Magnesium</th>\n",
       "      <th>Phenols</th>\n",
       "      <th>Flavanoids</th>\n",
       "      <th>Nonflavanoids</th>\n",
       "      <th>Proanthocyanins</th>\n",
       "      <th>Color</th>\n",
       "      <th>Hue</th>\n",
       "      <th>Dilution</th>\n",
       "      <th>Proline</th>\n",
       "      <th>Affinity</th>\n",
       "    </tr>\n",
       "  </thead>\n",
       "  <tbody>\n",
       "    <tr>\n",
       "      <th>0</th>\n",
       "      <td>0.842105</td>\n",
       "      <td>0.191700</td>\n",
       "      <td>0.572193</td>\n",
       "      <td>0.257732</td>\n",
       "      <td>0.619565</td>\n",
       "      <td>0.627586</td>\n",
       "      <td>0.573840</td>\n",
       "      <td>0.283019</td>\n",
       "      <td>0.593060</td>\n",
       "      <td>0.372014</td>\n",
       "      <td>0.455285</td>\n",
       "      <td>0.970696</td>\n",
       "      <td>0.561341</td>\n",
       "      <td>2</td>\n",
       "    </tr>\n",
       "    <tr>\n",
       "      <th>1</th>\n",
       "      <td>0.571053</td>\n",
       "      <td>0.205534</td>\n",
       "      <td>0.417112</td>\n",
       "      <td>0.030928</td>\n",
       "      <td>0.326087</td>\n",
       "      <td>0.575862</td>\n",
       "      <td>0.510549</td>\n",
       "      <td>0.245283</td>\n",
       "      <td>0.274448</td>\n",
       "      <td>0.264505</td>\n",
       "      <td>0.463415</td>\n",
       "      <td>0.780220</td>\n",
       "      <td>0.550642</td>\n",
       "      <td>1</td>\n",
       "    </tr>\n",
       "    <tr>\n",
       "      <th>2</th>\n",
       "      <td>0.560526</td>\n",
       "      <td>0.320158</td>\n",
       "      <td>0.700535</td>\n",
       "      <td>0.412371</td>\n",
       "      <td>0.336957</td>\n",
       "      <td>0.627586</td>\n",
       "      <td>0.611814</td>\n",
       "      <td>0.320755</td>\n",
       "      <td>0.757098</td>\n",
       "      <td>0.375427</td>\n",
       "      <td>0.447154</td>\n",
       "      <td>0.695971</td>\n",
       "      <td>0.646933</td>\n",
       "      <td>2</td>\n",
       "    </tr>\n",
       "    <tr>\n",
       "      <th>3</th>\n",
       "      <td>0.878947</td>\n",
       "      <td>0.239130</td>\n",
       "      <td>0.609626</td>\n",
       "      <td>0.319588</td>\n",
       "      <td>0.467391</td>\n",
       "      <td>0.989655</td>\n",
       "      <td>0.664557</td>\n",
       "      <td>0.207547</td>\n",
       "      <td>0.558360</td>\n",
       "      <td>0.556314</td>\n",
       "      <td>0.308943</td>\n",
       "      <td>0.798535</td>\n",
       "      <td>0.857347</td>\n",
       "      <td>0</td>\n",
       "    </tr>\n",
       "    <tr>\n",
       "      <th>4</th>\n",
       "      <td>0.581579</td>\n",
       "      <td>0.365613</td>\n",
       "      <td>0.807487</td>\n",
       "      <td>0.536082</td>\n",
       "      <td>0.521739</td>\n",
       "      <td>0.627586</td>\n",
       "      <td>0.495781</td>\n",
       "      <td>0.490566</td>\n",
       "      <td>0.444795</td>\n",
       "      <td>0.259386</td>\n",
       "      <td>0.455285</td>\n",
       "      <td>0.608059</td>\n",
       "      <td>0.325963</td>\n",
       "      <td>2</td>\n",
       "    </tr>\n",
       "    <tr>\n",
       "      <th>...</th>\n",
       "      <td>...</td>\n",
       "      <td>...</td>\n",
       "      <td>...</td>\n",
       "      <td>...</td>\n",
       "      <td>...</td>\n",
       "      <td>...</td>\n",
       "      <td>...</td>\n",
       "      <td>...</td>\n",
       "      <td>...</td>\n",
       "      <td>...</td>\n",
       "      <td>...</td>\n",
       "      <td>...</td>\n",
       "      <td>...</td>\n",
       "      <td>...</td>\n",
       "    </tr>\n",
       "    <tr>\n",
       "      <th>173</th>\n",
       "      <td>0.705263</td>\n",
       "      <td>0.970356</td>\n",
       "      <td>0.582888</td>\n",
       "      <td>0.510309</td>\n",
       "      <td>0.271739</td>\n",
       "      <td>0.241379</td>\n",
       "      <td>0.056962</td>\n",
       "      <td>0.735849</td>\n",
       "      <td>0.205047</td>\n",
       "      <td>0.547782</td>\n",
       "      <td>0.130081</td>\n",
       "      <td>0.172161</td>\n",
       "      <td>0.329529</td>\n",
       "      <td>9</td>\n",
       "    </tr>\n",
       "    <tr>\n",
       "      <th>174</th>\n",
       "      <td>0.623684</td>\n",
       "      <td>0.626482</td>\n",
       "      <td>0.598930</td>\n",
       "      <td>0.639175</td>\n",
       "      <td>0.347826</td>\n",
       "      <td>0.282759</td>\n",
       "      <td>0.086498</td>\n",
       "      <td>0.566038</td>\n",
       "      <td>0.315457</td>\n",
       "      <td>0.513652</td>\n",
       "      <td>0.178862</td>\n",
       "      <td>0.106227</td>\n",
       "      <td>0.336662</td>\n",
       "      <td>9</td>\n",
       "    </tr>\n",
       "    <tr>\n",
       "      <th>175</th>\n",
       "      <td>0.589474</td>\n",
       "      <td>0.699605</td>\n",
       "      <td>0.481283</td>\n",
       "      <td>0.484536</td>\n",
       "      <td>0.543478</td>\n",
       "      <td>0.210345</td>\n",
       "      <td>0.073840</td>\n",
       "      <td>0.566038</td>\n",
       "      <td>0.296530</td>\n",
       "      <td>0.761092</td>\n",
       "      <td>0.089431</td>\n",
       "      <td>0.106227</td>\n",
       "      <td>0.397290</td>\n",
       "      <td>9</td>\n",
       "    </tr>\n",
       "    <tr>\n",
       "      <th>176</th>\n",
       "      <td>0.563158</td>\n",
       "      <td>0.365613</td>\n",
       "      <td>0.540107</td>\n",
       "      <td>0.484536</td>\n",
       "      <td>0.543478</td>\n",
       "      <td>0.231034</td>\n",
       "      <td>0.071730</td>\n",
       "      <td>0.754717</td>\n",
       "      <td>0.331230</td>\n",
       "      <td>0.684300</td>\n",
       "      <td>0.097561</td>\n",
       "      <td>0.128205</td>\n",
       "      <td>0.400856</td>\n",
       "      <td>9</td>\n",
       "    </tr>\n",
       "    <tr>\n",
       "      <th>177</th>\n",
       "      <td>0.815789</td>\n",
       "      <td>0.664032</td>\n",
       "      <td>0.737968</td>\n",
       "      <td>0.716495</td>\n",
       "      <td>0.282609</td>\n",
       "      <td>0.368966</td>\n",
       "      <td>0.088608</td>\n",
       "      <td>0.811321</td>\n",
       "      <td>0.296530</td>\n",
       "      <td>0.675768</td>\n",
       "      <td>0.105691</td>\n",
       "      <td>0.120879</td>\n",
       "      <td>0.201141</td>\n",
       "      <td>9</td>\n",
       "    </tr>\n",
       "  </tbody>\n",
       "</table>\n",
       "<p>178 rows × 14 columns</p>\n",
       "</div>"
      ],
      "text/plain": [
       "      Alcohol     Malic       Ash  Alcalinity  Magnesium   Phenols  \\\n",
       "0    0.842105  0.191700  0.572193    0.257732   0.619565  0.627586   \n",
       "1    0.571053  0.205534  0.417112    0.030928   0.326087  0.575862   \n",
       "2    0.560526  0.320158  0.700535    0.412371   0.336957  0.627586   \n",
       "3    0.878947  0.239130  0.609626    0.319588   0.467391  0.989655   \n",
       "4    0.581579  0.365613  0.807487    0.536082   0.521739  0.627586   \n",
       "..        ...       ...       ...         ...        ...       ...   \n",
       "173  0.705263  0.970356  0.582888    0.510309   0.271739  0.241379   \n",
       "174  0.623684  0.626482  0.598930    0.639175   0.347826  0.282759   \n",
       "175  0.589474  0.699605  0.481283    0.484536   0.543478  0.210345   \n",
       "176  0.563158  0.365613  0.540107    0.484536   0.543478  0.231034   \n",
       "177  0.815789  0.664032  0.737968    0.716495   0.282609  0.368966   \n",
       "\n",
       "     Flavanoids  Nonflavanoids  Proanthocyanins     Color       Hue  Dilution  \\\n",
       "0      0.573840       0.283019         0.593060  0.372014  0.455285  0.970696   \n",
       "1      0.510549       0.245283         0.274448  0.264505  0.463415  0.780220   \n",
       "2      0.611814       0.320755         0.757098  0.375427  0.447154  0.695971   \n",
       "3      0.664557       0.207547         0.558360  0.556314  0.308943  0.798535   \n",
       "4      0.495781       0.490566         0.444795  0.259386  0.455285  0.608059   \n",
       "..          ...            ...              ...       ...       ...       ...   \n",
       "173    0.056962       0.735849         0.205047  0.547782  0.130081  0.172161   \n",
       "174    0.086498       0.566038         0.315457  0.513652  0.178862  0.106227   \n",
       "175    0.073840       0.566038         0.296530  0.761092  0.089431  0.106227   \n",
       "176    0.071730       0.754717         0.331230  0.684300  0.097561  0.128205   \n",
       "177    0.088608       0.811321         0.296530  0.675768  0.105691  0.120879   \n",
       "\n",
       "      Proline  Affinity  \n",
       "0    0.561341         2  \n",
       "1    0.550642         1  \n",
       "2    0.646933         2  \n",
       "3    0.857347         0  \n",
       "4    0.325963         2  \n",
       "..        ...       ...  \n",
       "173  0.329529         9  \n",
       "174  0.336662         9  \n",
       "175  0.397290         9  \n",
       "176  0.400856         9  \n",
       "177  0.201141         9  \n",
       "\n",
       "[178 rows x 14 columns]"
      ]
     },
     "execution_count": 93,
     "metadata": {},
     "output_type": "execute_result"
    }
   ],
   "source": [
    "X_Aff['Affinity'] = model.predict(X_Aff)\n",
    "X_Aff"
   ]
  },
  {
   "cell_type": "code",
   "execution_count": 94,
   "id": "legitimate-aside",
   "metadata": {
    "ExecuteTime": {
     "end_time": "2021-08-29T01:16:13.245689Z",
     "start_time": "2021-08-29T01:16:13.230681Z"
    }
   },
   "outputs": [
    {
     "data": {
      "text/html": [
       "<div>\n",
       "<style scoped>\n",
       "    .dataframe tbody tr th:only-of-type {\n",
       "        vertical-align: middle;\n",
       "    }\n",
       "\n",
       "    .dataframe tbody tr th {\n",
       "        vertical-align: top;\n",
       "    }\n",
       "\n",
       "    .dataframe thead th {\n",
       "        text-align: right;\n",
       "    }\n",
       "</style>\n",
       "<table border=\"1\" class=\"dataframe\">\n",
       "  <thead>\n",
       "    <tr style=\"text-align: right;\">\n",
       "      <th></th>\n",
       "      <th>Alcohol</th>\n",
       "      <th>Malic</th>\n",
       "      <th>Ash</th>\n",
       "      <th>Alcalinity</th>\n",
       "      <th>Magnesium</th>\n",
       "      <th>Phenols</th>\n",
       "      <th>Flavanoids</th>\n",
       "      <th>Nonflavanoids</th>\n",
       "      <th>Proanthocyanins</th>\n",
       "      <th>Color</th>\n",
       "      <th>Hue</th>\n",
       "      <th>Dilution</th>\n",
       "      <th>Proline</th>\n",
       "    </tr>\n",
       "  </thead>\n",
       "  <tbody>\n",
       "    <tr>\n",
       "      <th>0</th>\n",
       "      <td>0.842105</td>\n",
       "      <td>0.191700</td>\n",
       "      <td>0.572193</td>\n",
       "      <td>0.257732</td>\n",
       "      <td>0.619565</td>\n",
       "      <td>0.627586</td>\n",
       "      <td>0.573840</td>\n",
       "      <td>0.283019</td>\n",
       "      <td>0.593060</td>\n",
       "      <td>0.372014</td>\n",
       "      <td>0.455285</td>\n",
       "      <td>0.970696</td>\n",
       "      <td>0.561341</td>\n",
       "    </tr>\n",
       "    <tr>\n",
       "      <th>1</th>\n",
       "      <td>0.571053</td>\n",
       "      <td>0.205534</td>\n",
       "      <td>0.417112</td>\n",
       "      <td>0.030928</td>\n",
       "      <td>0.326087</td>\n",
       "      <td>0.575862</td>\n",
       "      <td>0.510549</td>\n",
       "      <td>0.245283</td>\n",
       "      <td>0.274448</td>\n",
       "      <td>0.264505</td>\n",
       "      <td>0.463415</td>\n",
       "      <td>0.780220</td>\n",
       "      <td>0.550642</td>\n",
       "    </tr>\n",
       "    <tr>\n",
       "      <th>2</th>\n",
       "      <td>0.560526</td>\n",
       "      <td>0.320158</td>\n",
       "      <td>0.700535</td>\n",
       "      <td>0.412371</td>\n",
       "      <td>0.336957</td>\n",
       "      <td>0.627586</td>\n",
       "      <td>0.611814</td>\n",
       "      <td>0.320755</td>\n",
       "      <td>0.757098</td>\n",
       "      <td>0.375427</td>\n",
       "      <td>0.447154</td>\n",
       "      <td>0.695971</td>\n",
       "      <td>0.646933</td>\n",
       "    </tr>\n",
       "    <tr>\n",
       "      <th>3</th>\n",
       "      <td>0.878947</td>\n",
       "      <td>0.239130</td>\n",
       "      <td>0.609626</td>\n",
       "      <td>0.319588</td>\n",
       "      <td>0.467391</td>\n",
       "      <td>0.989655</td>\n",
       "      <td>0.664557</td>\n",
       "      <td>0.207547</td>\n",
       "      <td>0.558360</td>\n",
       "      <td>0.556314</td>\n",
       "      <td>0.308943</td>\n",
       "      <td>0.798535</td>\n",
       "      <td>0.857347</td>\n",
       "    </tr>\n",
       "    <tr>\n",
       "      <th>4</th>\n",
       "      <td>0.581579</td>\n",
       "      <td>0.365613</td>\n",
       "      <td>0.807487</td>\n",
       "      <td>0.536082</td>\n",
       "      <td>0.521739</td>\n",
       "      <td>0.627586</td>\n",
       "      <td>0.495781</td>\n",
       "      <td>0.490566</td>\n",
       "      <td>0.444795</td>\n",
       "      <td>0.259386</td>\n",
       "      <td>0.455285</td>\n",
       "      <td>0.608059</td>\n",
       "      <td>0.325963</td>\n",
       "    </tr>\n",
       "    <tr>\n",
       "      <th>...</th>\n",
       "      <td>...</td>\n",
       "      <td>...</td>\n",
       "      <td>...</td>\n",
       "      <td>...</td>\n",
       "      <td>...</td>\n",
       "      <td>...</td>\n",
       "      <td>...</td>\n",
       "      <td>...</td>\n",
       "      <td>...</td>\n",
       "      <td>...</td>\n",
       "      <td>...</td>\n",
       "      <td>...</td>\n",
       "      <td>...</td>\n",
       "    </tr>\n",
       "    <tr>\n",
       "      <th>173</th>\n",
       "      <td>0.705263</td>\n",
       "      <td>0.970356</td>\n",
       "      <td>0.582888</td>\n",
       "      <td>0.510309</td>\n",
       "      <td>0.271739</td>\n",
       "      <td>0.241379</td>\n",
       "      <td>0.056962</td>\n",
       "      <td>0.735849</td>\n",
       "      <td>0.205047</td>\n",
       "      <td>0.547782</td>\n",
       "      <td>0.130081</td>\n",
       "      <td>0.172161</td>\n",
       "      <td>0.329529</td>\n",
       "    </tr>\n",
       "    <tr>\n",
       "      <th>174</th>\n",
       "      <td>0.623684</td>\n",
       "      <td>0.626482</td>\n",
       "      <td>0.598930</td>\n",
       "      <td>0.639175</td>\n",
       "      <td>0.347826</td>\n",
       "      <td>0.282759</td>\n",
       "      <td>0.086498</td>\n",
       "      <td>0.566038</td>\n",
       "      <td>0.315457</td>\n",
       "      <td>0.513652</td>\n",
       "      <td>0.178862</td>\n",
       "      <td>0.106227</td>\n",
       "      <td>0.336662</td>\n",
       "    </tr>\n",
       "    <tr>\n",
       "      <th>175</th>\n",
       "      <td>0.589474</td>\n",
       "      <td>0.699605</td>\n",
       "      <td>0.481283</td>\n",
       "      <td>0.484536</td>\n",
       "      <td>0.543478</td>\n",
       "      <td>0.210345</td>\n",
       "      <td>0.073840</td>\n",
       "      <td>0.566038</td>\n",
       "      <td>0.296530</td>\n",
       "      <td>0.761092</td>\n",
       "      <td>0.089431</td>\n",
       "      <td>0.106227</td>\n",
       "      <td>0.397290</td>\n",
       "    </tr>\n",
       "    <tr>\n",
       "      <th>176</th>\n",
       "      <td>0.563158</td>\n",
       "      <td>0.365613</td>\n",
       "      <td>0.540107</td>\n",
       "      <td>0.484536</td>\n",
       "      <td>0.543478</td>\n",
       "      <td>0.231034</td>\n",
       "      <td>0.071730</td>\n",
       "      <td>0.754717</td>\n",
       "      <td>0.331230</td>\n",
       "      <td>0.684300</td>\n",
       "      <td>0.097561</td>\n",
       "      <td>0.128205</td>\n",
       "      <td>0.400856</td>\n",
       "    </tr>\n",
       "    <tr>\n",
       "      <th>177</th>\n",
       "      <td>0.815789</td>\n",
       "      <td>0.664032</td>\n",
       "      <td>0.737968</td>\n",
       "      <td>0.716495</td>\n",
       "      <td>0.282609</td>\n",
       "      <td>0.368966</td>\n",
       "      <td>0.088608</td>\n",
       "      <td>0.811321</td>\n",
       "      <td>0.296530</td>\n",
       "      <td>0.675768</td>\n",
       "      <td>0.105691</td>\n",
       "      <td>0.120879</td>\n",
       "      <td>0.201141</td>\n",
       "    </tr>\n",
       "  </tbody>\n",
       "</table>\n",
       "<p>178 rows × 13 columns</p>\n",
       "</div>"
      ],
      "text/plain": [
       "      Alcohol     Malic       Ash  Alcalinity  Magnesium   Phenols  \\\n",
       "0    0.842105  0.191700  0.572193    0.257732   0.619565  0.627586   \n",
       "1    0.571053  0.205534  0.417112    0.030928   0.326087  0.575862   \n",
       "2    0.560526  0.320158  0.700535    0.412371   0.336957  0.627586   \n",
       "3    0.878947  0.239130  0.609626    0.319588   0.467391  0.989655   \n",
       "4    0.581579  0.365613  0.807487    0.536082   0.521739  0.627586   \n",
       "..        ...       ...       ...         ...        ...       ...   \n",
       "173  0.705263  0.970356  0.582888    0.510309   0.271739  0.241379   \n",
       "174  0.623684  0.626482  0.598930    0.639175   0.347826  0.282759   \n",
       "175  0.589474  0.699605  0.481283    0.484536   0.543478  0.210345   \n",
       "176  0.563158  0.365613  0.540107    0.484536   0.543478  0.231034   \n",
       "177  0.815789  0.664032  0.737968    0.716495   0.282609  0.368966   \n",
       "\n",
       "     Flavanoids  Nonflavanoids  Proanthocyanins     Color       Hue  Dilution  \\\n",
       "0      0.573840       0.283019         0.593060  0.372014  0.455285  0.970696   \n",
       "1      0.510549       0.245283         0.274448  0.264505  0.463415  0.780220   \n",
       "2      0.611814       0.320755         0.757098  0.375427  0.447154  0.695971   \n",
       "3      0.664557       0.207547         0.558360  0.556314  0.308943  0.798535   \n",
       "4      0.495781       0.490566         0.444795  0.259386  0.455285  0.608059   \n",
       "..          ...            ...              ...       ...       ...       ...   \n",
       "173    0.056962       0.735849         0.205047  0.547782  0.130081  0.172161   \n",
       "174    0.086498       0.566038         0.315457  0.513652  0.178862  0.106227   \n",
       "175    0.073840       0.566038         0.296530  0.761092  0.089431  0.106227   \n",
       "176    0.071730       0.754717         0.331230  0.684300  0.097561  0.128205   \n",
       "177    0.088608       0.811321         0.296530  0.675768  0.105691  0.120879   \n",
       "\n",
       "      Proline  \n",
       "0    0.561341  \n",
       "1    0.550642  \n",
       "2    0.646933  \n",
       "3    0.857347  \n",
       "4    0.325963  \n",
       "..        ...  \n",
       "173  0.329529  \n",
       "174  0.336662  \n",
       "175  0.397290  \n",
       "176  0.400856  \n",
       "177  0.201141  \n",
       "\n",
       "[178 rows x 13 columns]"
      ]
     },
     "execution_count": 94,
     "metadata": {},
     "output_type": "execute_result"
    }
   ],
   "source": [
    "X_Aff1 = X_Aff.loc[:, X_Aff.columns!= 'Affinity']\n",
    "X_Aff1"
   ]
  },
  {
   "cell_type": "code",
   "execution_count": 95,
   "id": "specified-research",
   "metadata": {
    "ExecuteTime": {
     "end_time": "2021-08-29T01:16:17.702509Z",
     "start_time": "2021-08-29T01:16:17.685497Z"
    }
   },
   "outputs": [
    {
     "data": {
      "text/html": [
       "<div>\n",
       "<style scoped>\n",
       "    .dataframe tbody tr th:only-of-type {\n",
       "        vertical-align: middle;\n",
       "    }\n",
       "\n",
       "    .dataframe tbody tr th {\n",
       "        vertical-align: top;\n",
       "    }\n",
       "\n",
       "    .dataframe thead th {\n",
       "        text-align: right;\n",
       "    }\n",
       "</style>\n",
       "<table border=\"1\" class=\"dataframe\">\n",
       "  <thead>\n",
       "    <tr style=\"text-align: right;\">\n",
       "      <th></th>\n",
       "      <th>Comp_1</th>\n",
       "      <th>Comp_2</th>\n",
       "      <th>Affinity</th>\n",
       "    </tr>\n",
       "  </thead>\n",
       "  <tbody>\n",
       "    <tr>\n",
       "      <th>0</th>\n",
       "      <td>-0.706336</td>\n",
       "      <td>-0.253193</td>\n",
       "      <td>2</td>\n",
       "    </tr>\n",
       "    <tr>\n",
       "      <th>1</th>\n",
       "      <td>-0.484977</td>\n",
       "      <td>-0.008823</td>\n",
       "      <td>1</td>\n",
       "    </tr>\n",
       "    <tr>\n",
       "      <th>2</th>\n",
       "      <td>-0.521172</td>\n",
       "      <td>-0.189187</td>\n",
       "      <td>2</td>\n",
       "    </tr>\n",
       "    <tr>\n",
       "      <th>3</th>\n",
       "      <td>-0.821644</td>\n",
       "      <td>-0.580906</td>\n",
       "      <td>0</td>\n",
       "    </tr>\n",
       "    <tr>\n",
       "      <th>4</th>\n",
       "      <td>-0.202546</td>\n",
       "      <td>-0.059467</td>\n",
       "      <td>2</td>\n",
       "    </tr>\n",
       "    <tr>\n",
       "      <th>...</th>\n",
       "      <td>...</td>\n",
       "      <td>...</td>\n",
       "      <td>...</td>\n",
       "    </tr>\n",
       "    <tr>\n",
       "      <th>173</th>\n",
       "      <td>0.739510</td>\n",
       "      <td>-0.471901</td>\n",
       "      <td>9</td>\n",
       "    </tr>\n",
       "    <tr>\n",
       "      <th>174</th>\n",
       "      <td>0.581781</td>\n",
       "      <td>-0.348366</td>\n",
       "      <td>9</td>\n",
       "    </tr>\n",
       "    <tr>\n",
       "      <th>175</th>\n",
       "      <td>0.626313</td>\n",
       "      <td>-0.546857</td>\n",
       "      <td>9</td>\n",
       "    </tr>\n",
       "    <tr>\n",
       "      <th>176</th>\n",
       "      <td>0.572991</td>\n",
       "      <td>-0.425516</td>\n",
       "      <td>9</td>\n",
       "    </tr>\n",
       "    <tr>\n",
       "      <th>177</th>\n",
       "      <td>0.701764</td>\n",
       "      <td>-0.513505</td>\n",
       "      <td>9</td>\n",
       "    </tr>\n",
       "  </tbody>\n",
       "</table>\n",
       "<p>178 rows × 3 columns</p>\n",
       "</div>"
      ],
      "text/plain": [
       "       Comp_1    Comp_2  Affinity\n",
       "0   -0.706336 -0.253193         2\n",
       "1   -0.484977 -0.008823         1\n",
       "2   -0.521172 -0.189187         2\n",
       "3   -0.821644 -0.580906         0\n",
       "4   -0.202546 -0.059467         2\n",
       "..        ...       ...       ...\n",
       "173  0.739510 -0.471901         9\n",
       "174  0.581781 -0.348366         9\n",
       "175  0.626313 -0.546857         9\n",
       "176  0.572991 -0.425516         9\n",
       "177  0.701764 -0.513505         9\n",
       "\n",
       "[178 rows x 3 columns]"
      ]
     },
     "execution_count": 95,
     "metadata": {},
     "output_type": "execute_result"
    }
   ],
   "source": [
    "# Generar un modelo con dos componentes\n",
    "pca1 = PCA(n_components=2)\n",
    "# Ajustar el modelo a los datos\n",
    "pca_df1 = pca1.fit_transform(X_Aff1)\n",
    "# Crear los dataframes respectivos\n",
    "pca_vinos1 = pd.DataFrame(data=pca_df1, columns=['Comp_1', 'Comp_2'])\n",
    "pca_graf1 = pd.concat([pca_vinos1, X_Aff[['Affinity']]], axis=1)\n",
    "\n",
    "pca_graf1"
   ]
  },
  {
   "cell_type": "code",
   "execution_count": 96,
   "id": "discrete-marketplace",
   "metadata": {
    "ExecuteTime": {
     "end_time": "2021-08-29T01:16:20.639483Z",
     "start_time": "2021-08-29T01:16:20.498426Z"
    }
   },
   "outputs": [
    {
     "data": {
      "text/plain": [
       "<matplotlib.collections.PathCollection at 0x28afec111f0>"
      ]
     },
     "execution_count": 96,
     "metadata": {},
     "output_type": "execute_result"
    },
    {
     "data": {
      "image/png": "[encoded data removed]",
      "text/plain": [
       "<Figure size 432x432 with 1 Axes>"
      ]
     },
     "metadata": {
      "needs_background": "light"
     },
     "output_type": "display_data"
    }
   ],
   "source": [
    "fig = plt.figure(figsize=(6, 6))\n",
    "\n",
    "ax = fig.add_subplot(1, 1, 1)\n",
    "ax.set_xlabel('Componente 1')\n",
    "ax.set_ylabel('Componente 2')\n",
    "ax.set_title('Componentes principales')\n",
    "\n",
    "#tema_color = np.array(['blue', 'green', 'red'])\n",
    "ax.scatter(pca_graf1.Comp_1,\n",
    "           pca_graf1.Comp_2,\n",
    "           c=pca_graf1.Affinity,\n",
    "           s=50)"
   ]
  },
  {
   "cell_type": "markdown",
   "id": "developing-entry",
   "metadata": {},
   "source": [
    "## BIRCH\n",
    "BIRCH implementa el agrupamiento basado en el árbol de características CF Tree. Para usar BIRCH para agrupar, la clave es tratar con los parámetros estructurales del árbol CF.\n",
    "\n",
    "En CF Tree, varios parámetros clave son el número máximo de CF B de nodos internos, el número máximo de CF L de nodos hoja y el umbral máximo de radio de muestra T de cada CF de nodos hoja. Estos tres parámetros están determinados, la estructura del árbol CF está determinada básicamente y el efecto de agrupamiento final está determinado básicamente. Se puede decir que el ajuste de BIRCH es depurar B, L y T.\n",
    "\n",
    "En cuanto al número de categorías K, es opcional en este momento. Si no ingresa K, BIRCH determinará el valor K de la categoría para la muestra de cada nodo de hoja CF en el árbol CF. Si ingresa el valor K, BIRCH ingresará el árbol CF. Los nodos hoja CF se fusionan hasta que el número de categorías es K."
   ]
  },
  {
   "cell_type": "code",
   "execution_count": 97,
   "id": "rational-reduction",
   "metadata": {
    "ExecuteTime": {
     "end_time": "2021-08-29T01:16:25.880321Z",
     "start_time": "2021-08-29T01:16:25.877323Z"
    }
   },
   "outputs": [],
   "source": [
    "from sklearn.cluster import Birch"
   ]
  },
  {
   "cell_type": "code",
   "execution_count": 98,
   "id": "mechanical-carroll",
   "metadata": {
    "ExecuteTime": {
     "end_time": "2021-08-29T01:16:29.100011Z",
     "start_time": "2021-08-29T01:16:29.084018Z"
    }
   },
   "outputs": [
    {
     "name": "stdout",
     "output_type": "stream",
     "text": [
      "Clases predichas:  \n",
      " [2 2 2 2 0 2 2 2 2 2 2 2 2 2 2 2 2 2 2 2 2 2 2 2 2 0 2 2 2 2 2 2 2 2 2 2 2\n",
      " 2 2 2 2 2 2 2 2 2 2 2 2 2 2 2 2 2 2 2 2 2 2 0 0 0 0 0 0 0 0 0 0 0 0 0 0 0\n",
      " 0 0 0 0 0 0 0 0 0 1 0 0 0 0 0 0 0 0 0 0 0 0 0 0 0 0 0 0 0 0 0 0 0 0 0 0 0\n",
      " 0 0 0 0 0 0 0 1 0 0 0 0 0 0 0 0 0 0 0 1 1 1 1 1 1 1 1 1 1 1 1 1 1 1 1 1 1\n",
      " 1 1 1 1 1 1 1 1 1 1 1 1 1 1 1 1 1 1 1 1 1 1 1 1 1 1 1 1 1 1] \n",
      "\n",
      " Valores únicos de clase predicha:  \n",
      " [0 1 2]\n"
     ]
    }
   ],
   "source": [
    "# Crear el objeto modelo\n",
    "X_Birch = df_norm.copy()\n",
    "model = Birch(threshold=0.01, n_clusters=3)\n",
    "# Entrenar el modelo\n",
    "model.fit(X_Birch)\n",
    "# Asignar las clases a cada instancia\n",
    "clases = model.predict(X_Birch)\n",
    "# Ver los valores únicos de los cluster\n",
    "clusters = unique(clases)\n",
    "print('Clases predichas: ', '\\n', clases, '\\n\\n',\n",
    "      'Valores únicos de clase predicha: ', '\\n', clusters)"
   ]
  },
  {
   "cell_type": "code",
   "execution_count": 99,
   "id": "horizontal-magic",
   "metadata": {
    "ExecuteTime": {
     "end_time": "2021-08-29T01:16:45.849268Z",
     "start_time": "2021-08-29T01:16:45.830267Z"
    },
    "scrolled": true
   },
   "outputs": [
    {
     "data": {
      "text/html": [
       "<div>\n",
       "<style scoped>\n",
       "    .dataframe tbody tr th:only-of-type {\n",
       "        vertical-align: middle;\n",
       "    }\n",
       "\n",
       "    .dataframe tbody tr th {\n",
       "        vertical-align: top;\n",
       "    }\n",
       "\n",
       "    .dataframe thead th {\n",
       "        text-align: right;\n",
       "    }\n",
       "</style>\n",
       "<table border=\"1\" class=\"dataframe\">\n",
       "  <thead>\n",
       "    <tr style=\"text-align: right;\">\n",
       "      <th></th>\n",
       "      <th>Alcohol</th>\n",
       "      <th>Malic</th>\n",
       "      <th>Ash</th>\n",
       "      <th>Alcalinity</th>\n",
       "      <th>Magnesium</th>\n",
       "      <th>Phenols</th>\n",
       "      <th>Flavanoids</th>\n",
       "      <th>Nonflavanoids</th>\n",
       "      <th>Proanthocyanins</th>\n",
       "      <th>Color</th>\n",
       "      <th>Hue</th>\n",
       "      <th>Dilution</th>\n",
       "      <th>Proline</th>\n",
       "    </tr>\n",
       "  </thead>\n",
       "  <tbody>\n",
       "    <tr>\n",
       "      <th>0</th>\n",
       "      <td>0.842105</td>\n",
       "      <td>0.191700</td>\n",
       "      <td>0.572193</td>\n",
       "      <td>0.257732</td>\n",
       "      <td>0.619565</td>\n",
       "      <td>0.627586</td>\n",
       "      <td>0.573840</td>\n",
       "      <td>0.283019</td>\n",
       "      <td>0.593060</td>\n",
       "      <td>0.372014</td>\n",
       "      <td>0.455285</td>\n",
       "      <td>0.970696</td>\n",
       "      <td>0.561341</td>\n",
       "    </tr>\n",
       "    <tr>\n",
       "      <th>1</th>\n",
       "      <td>0.571053</td>\n",
       "      <td>0.205534</td>\n",
       "      <td>0.417112</td>\n",
       "      <td>0.030928</td>\n",
       "      <td>0.326087</td>\n",
       "      <td>0.575862</td>\n",
       "      <td>0.510549</td>\n",
       "      <td>0.245283</td>\n",
       "      <td>0.274448</td>\n",
       "      <td>0.264505</td>\n",
       "      <td>0.463415</td>\n",
       "      <td>0.780220</td>\n",
       "      <td>0.550642</td>\n",
       "    </tr>\n",
       "    <tr>\n",
       "      <th>2</th>\n",
       "      <td>0.560526</td>\n",
       "      <td>0.320158</td>\n",
       "      <td>0.700535</td>\n",
       "      <td>0.412371</td>\n",
       "      <td>0.336957</td>\n",
       "      <td>0.627586</td>\n",
       "      <td>0.611814</td>\n",
       "      <td>0.320755</td>\n",
       "      <td>0.757098</td>\n",
       "      <td>0.375427</td>\n",
       "      <td>0.447154</td>\n",
       "      <td>0.695971</td>\n",
       "      <td>0.646933</td>\n",
       "    </tr>\n",
       "    <tr>\n",
       "      <th>3</th>\n",
       "      <td>0.878947</td>\n",
       "      <td>0.239130</td>\n",
       "      <td>0.609626</td>\n",
       "      <td>0.319588</td>\n",
       "      <td>0.467391</td>\n",
       "      <td>0.989655</td>\n",
       "      <td>0.664557</td>\n",
       "      <td>0.207547</td>\n",
       "      <td>0.558360</td>\n",
       "      <td>0.556314</td>\n",
       "      <td>0.308943</td>\n",
       "      <td>0.798535</td>\n",
       "      <td>0.857347</td>\n",
       "    </tr>\n",
       "    <tr>\n",
       "      <th>4</th>\n",
       "      <td>0.581579</td>\n",
       "      <td>0.365613</td>\n",
       "      <td>0.807487</td>\n",
       "      <td>0.536082</td>\n",
       "      <td>0.521739</td>\n",
       "      <td>0.627586</td>\n",
       "      <td>0.495781</td>\n",
       "      <td>0.490566</td>\n",
       "      <td>0.444795</td>\n",
       "      <td>0.259386</td>\n",
       "      <td>0.455285</td>\n",
       "      <td>0.608059</td>\n",
       "      <td>0.325963</td>\n",
       "    </tr>\n",
       "    <tr>\n",
       "      <th>...</th>\n",
       "      <td>...</td>\n",
       "      <td>...</td>\n",
       "      <td>...</td>\n",
       "      <td>...</td>\n",
       "      <td>...</td>\n",
       "      <td>...</td>\n",
       "      <td>...</td>\n",
       "      <td>...</td>\n",
       "      <td>...</td>\n",
       "      <td>...</td>\n",
       "      <td>...</td>\n",
       "      <td>...</td>\n",
       "      <td>...</td>\n",
       "    </tr>\n",
       "    <tr>\n",
       "      <th>173</th>\n",
       "      <td>0.705263</td>\n",
       "      <td>0.970356</td>\n",
       "      <td>0.582888</td>\n",
       "      <td>0.510309</td>\n",
       "      <td>0.271739</td>\n",
       "      <td>0.241379</td>\n",
       "      <td>0.056962</td>\n",
       "      <td>0.735849</td>\n",
       "      <td>0.205047</td>\n",
       "      <td>0.547782</td>\n",
       "      <td>0.130081</td>\n",
       "      <td>0.172161</td>\n",
       "      <td>0.329529</td>\n",
       "    </tr>\n",
       "    <tr>\n",
       "      <th>174</th>\n",
       "      <td>0.623684</td>\n",
       "      <td>0.626482</td>\n",
       "      <td>0.598930</td>\n",
       "      <td>0.639175</td>\n",
       "      <td>0.347826</td>\n",
       "      <td>0.282759</td>\n",
       "      <td>0.086498</td>\n",
       "      <td>0.566038</td>\n",
       "      <td>0.315457</td>\n",
       "      <td>0.513652</td>\n",
       "      <td>0.178862</td>\n",
       "      <td>0.106227</td>\n",
       "      <td>0.336662</td>\n",
       "    </tr>\n",
       "    <tr>\n",
       "      <th>175</th>\n",
       "      <td>0.589474</td>\n",
       "      <td>0.699605</td>\n",
       "      <td>0.481283</td>\n",
       "      <td>0.484536</td>\n",
       "      <td>0.543478</td>\n",
       "      <td>0.210345</td>\n",
       "      <td>0.073840</td>\n",
       "      <td>0.566038</td>\n",
       "      <td>0.296530</td>\n",
       "      <td>0.761092</td>\n",
       "      <td>0.089431</td>\n",
       "      <td>0.106227</td>\n",
       "      <td>0.397290</td>\n",
       "    </tr>\n",
       "    <tr>\n",
       "      <th>176</th>\n",
       "      <td>0.563158</td>\n",
       "      <td>0.365613</td>\n",
       "      <td>0.540107</td>\n",
       "      <td>0.484536</td>\n",
       "      <td>0.543478</td>\n",
       "      <td>0.231034</td>\n",
       "      <td>0.071730</td>\n",
       "      <td>0.754717</td>\n",
       "      <td>0.331230</td>\n",
       "      <td>0.684300</td>\n",
       "      <td>0.097561</td>\n",
       "      <td>0.128205</td>\n",
       "      <td>0.400856</td>\n",
       "    </tr>\n",
       "    <tr>\n",
       "      <th>177</th>\n",
       "      <td>0.815789</td>\n",
       "      <td>0.664032</td>\n",
       "      <td>0.737968</td>\n",
       "      <td>0.716495</td>\n",
       "      <td>0.282609</td>\n",
       "      <td>0.368966</td>\n",
       "      <td>0.088608</td>\n",
       "      <td>0.811321</td>\n",
       "      <td>0.296530</td>\n",
       "      <td>0.675768</td>\n",
       "      <td>0.105691</td>\n",
       "      <td>0.120879</td>\n",
       "      <td>0.201141</td>\n",
       "    </tr>\n",
       "  </tbody>\n",
       "</table>\n",
       "<p>178 rows × 13 columns</p>\n",
       "</div>"
      ],
      "text/plain": [
       "      Alcohol     Malic       Ash  Alcalinity  Magnesium   Phenols  \\\n",
       "0    0.842105  0.191700  0.572193    0.257732   0.619565  0.627586   \n",
       "1    0.571053  0.205534  0.417112    0.030928   0.326087  0.575862   \n",
       "2    0.560526  0.320158  0.700535    0.412371   0.336957  0.627586   \n",
       "3    0.878947  0.239130  0.609626    0.319588   0.467391  0.989655   \n",
       "4    0.581579  0.365613  0.807487    0.536082   0.521739  0.627586   \n",
       "..        ...       ...       ...         ...        ...       ...   \n",
       "173  0.705263  0.970356  0.582888    0.510309   0.271739  0.241379   \n",
       "174  0.623684  0.626482  0.598930    0.639175   0.347826  0.282759   \n",
       "175  0.589474  0.699605  0.481283    0.484536   0.543478  0.210345   \n",
       "176  0.563158  0.365613  0.540107    0.484536   0.543478  0.231034   \n",
       "177  0.815789  0.664032  0.737968    0.716495   0.282609  0.368966   \n",
       "\n",
       "     Flavanoids  Nonflavanoids  Proanthocyanins     Color       Hue  Dilution  \\\n",
       "0      0.573840       0.283019         0.593060  0.372014  0.455285  0.970696   \n",
       "1      0.510549       0.245283         0.274448  0.264505  0.463415  0.780220   \n",
       "2      0.611814       0.320755         0.757098  0.375427  0.447154  0.695971   \n",
       "3      0.664557       0.207547         0.558360  0.556314  0.308943  0.798535   \n",
       "4      0.495781       0.490566         0.444795  0.259386  0.455285  0.608059   \n",
       "..          ...            ...              ...       ...       ...       ...   \n",
       "173    0.056962       0.735849         0.205047  0.547782  0.130081  0.172161   \n",
       "174    0.086498       0.566038         0.315457  0.513652  0.178862  0.106227   \n",
       "175    0.073840       0.566038         0.296530  0.761092  0.089431  0.106227   \n",
       "176    0.071730       0.754717         0.331230  0.684300  0.097561  0.128205   \n",
       "177    0.088608       0.811321         0.296530  0.675768  0.105691  0.120879   \n",
       "\n",
       "      Proline  \n",
       "0    0.561341  \n",
       "1    0.550642  \n",
       "2    0.646933  \n",
       "3    0.857347  \n",
       "4    0.325963  \n",
       "..        ...  \n",
       "173  0.329529  \n",
       "174  0.336662  \n",
       "175  0.397290  \n",
       "176  0.400856  \n",
       "177  0.201141  \n",
       "\n",
       "[178 rows x 13 columns]"
      ]
     },
     "execution_count": 99,
     "metadata": {},
     "output_type": "execute_result"
    }
   ],
   "source": [
    "X_Birch['BIRCH'] = model.predict(X_Birch)\n",
    "X_Birch1 = X_Birch.loc[:, X_Birch.columns != 'BIRCH']\n",
    "X_Birch1"
   ]
  },
  {
   "cell_type": "code",
   "execution_count": 100,
   "id": "identified-temple",
   "metadata": {
    "ExecuteTime": {
     "end_time": "2021-08-29T01:16:50.610064Z",
     "start_time": "2021-08-29T01:16:50.599061Z"
    }
   },
   "outputs": [
    {
     "data": {
      "text/html": [
       "<div>\n",
       "<style scoped>\n",
       "    .dataframe tbody tr th:only-of-type {\n",
       "        vertical-align: middle;\n",
       "    }\n",
       "\n",
       "    .dataframe tbody tr th {\n",
       "        vertical-align: top;\n",
       "    }\n",
       "\n",
       "    .dataframe thead th {\n",
       "        text-align: right;\n",
       "    }\n",
       "</style>\n",
       "<table border=\"1\" class=\"dataframe\">\n",
       "  <thead>\n",
       "    <tr style=\"text-align: right;\">\n",
       "      <th></th>\n",
       "      <th>Comp_1</th>\n",
       "      <th>Comp_2</th>\n",
       "      <th>BIRCH</th>\n",
       "    </tr>\n",
       "  </thead>\n",
       "  <tbody>\n",
       "    <tr>\n",
       "      <th>0</th>\n",
       "      <td>-0.706336</td>\n",
       "      <td>-0.253193</td>\n",
       "      <td>2</td>\n",
       "    </tr>\n",
       "    <tr>\n",
       "      <th>1</th>\n",
       "      <td>-0.484977</td>\n",
       "      <td>-0.008823</td>\n",
       "      <td>2</td>\n",
       "    </tr>\n",
       "    <tr>\n",
       "      <th>2</th>\n",
       "      <td>-0.521172</td>\n",
       "      <td>-0.189187</td>\n",
       "      <td>2</td>\n",
       "    </tr>\n",
       "    <tr>\n",
       "      <th>3</th>\n",
       "      <td>-0.821644</td>\n",
       "      <td>-0.580906</td>\n",
       "      <td>2</td>\n",
       "    </tr>\n",
       "    <tr>\n",
       "      <th>4</th>\n",
       "      <td>-0.202546</td>\n",
       "      <td>-0.059467</td>\n",
       "      <td>0</td>\n",
       "    </tr>\n",
       "    <tr>\n",
       "      <th>...</th>\n",
       "      <td>...</td>\n",
       "      <td>...</td>\n",
       "      <td>...</td>\n",
       "    </tr>\n",
       "    <tr>\n",
       "      <th>173</th>\n",
       "      <td>0.739510</td>\n",
       "      <td>-0.471901</td>\n",
       "      <td>1</td>\n",
       "    </tr>\n",
       "    <tr>\n",
       "      <th>174</th>\n",
       "      <td>0.581781</td>\n",
       "      <td>-0.348366</td>\n",
       "      <td>1</td>\n",
       "    </tr>\n",
       "    <tr>\n",
       "      <th>175</th>\n",
       "      <td>0.626313</td>\n",
       "      <td>-0.546857</td>\n",
       "      <td>1</td>\n",
       "    </tr>\n",
       "    <tr>\n",
       "      <th>176</th>\n",
       "      <td>0.572991</td>\n",
       "      <td>-0.425516</td>\n",
       "      <td>1</td>\n",
       "    </tr>\n",
       "    <tr>\n",
       "      <th>177</th>\n",
       "      <td>0.701764</td>\n",
       "      <td>-0.513505</td>\n",
       "      <td>1</td>\n",
       "    </tr>\n",
       "  </tbody>\n",
       "</table>\n",
       "<p>178 rows × 3 columns</p>\n",
       "</div>"
      ],
      "text/plain": [
       "       Comp_1    Comp_2  BIRCH\n",
       "0   -0.706336 -0.253193      2\n",
       "1   -0.484977 -0.008823      2\n",
       "2   -0.521172 -0.189187      2\n",
       "3   -0.821644 -0.580906      2\n",
       "4   -0.202546 -0.059467      0\n",
       "..        ...       ...    ...\n",
       "173  0.739510 -0.471901      1\n",
       "174  0.581781 -0.348366      1\n",
       "175  0.626313 -0.546857      1\n",
       "176  0.572991 -0.425516      1\n",
       "177  0.701764 -0.513505      1\n",
       "\n",
       "[178 rows x 3 columns]"
      ]
     },
     "execution_count": 100,
     "metadata": {},
     "output_type": "execute_result"
    }
   ],
   "source": [
    "# Generar un modelo con dos componentes\n",
    "pca2 = PCA(n_components=2)\n",
    "# Ajustar el modelo a los datos\n",
    "pca_df2 = pca2.fit_transform(X_Birch1)\n",
    "# Crear los dataframes respectivos\n",
    "pca_vinos2 = pd.DataFrame(data=pca_df2, columns=['Comp_1', 'Comp_2'])\n",
    "pca_graf2 = pd.concat([pca_vinos2, X_Birch[['BIRCH']]], axis=1)\n",
    "\n",
    "pca_graf2"
   ]
  },
  {
   "cell_type": "code",
   "execution_count": 101,
   "id": "diverse-supplier",
   "metadata": {
    "ExecuteTime": {
     "end_time": "2021-08-29T01:16:54.439009Z",
     "start_time": "2021-08-29T01:16:54.306467Z"
    }
   },
   "outputs": [
    {
     "data": {
      "text/plain": [
       "<matplotlib.collections.PathCollection at 0x28afec821f0>"
      ]
     },
     "execution_count": 101,
     "metadata": {},
     "output_type": "execute_result"
    },
    {
     "data": {
      "image/png": "[encoded data removed]",
      "text/plain": [
       "<Figure size 432x432 with 1 Axes>"
      ]
     },
     "metadata": {
      "needs_background": "light"
     },
     "output_type": "display_data"
    }
   ],
   "source": [
    "fig = plt.figure(figsize=(6, 6))\n",
    "\n",
    "ax = fig.add_subplot(1, 1, 1)\n",
    "ax.set_xlabel('Componente 1')\n",
    "ax.set_ylabel('Componente 2')\n",
    "ax.set_title('Componentes principales')\n",
    "\n",
    "#tema_color = np.array(['blue', 'green', 'red'])\n",
    "ax.scatter(pca_graf2.Comp_1,\n",
    "           pca_graf2.Comp_2,\n",
    "           c=pca_graf2.BIRCH,\n",
    "           s=50)"
   ]
  },
  {
   "cell_type": "markdown",
   "id": "certified-conviction",
   "metadata": {},
   "source": [
    "## DBSCAN\n",
    "DBSCAN (Density-Based Spatial Clustering of Applications with Noise) es uno de los algoritmos de clustering más avanzados, esta basado en densidad, esto significa que no usan las distancias entre puntos a la hora de realizar los clusters como por ejemplo pasa con K-Means. Esto provocará que nuestros resultados puedan ser bastante distintos si aplicamos un algoritmo de clustering basado en distancia o en densidad.\n",
    "\n",
    "En DBSCAN no es correcto hablar de “centroides” como sucedía en el K-Means, el punto de referencia de cada cluster es llamado “Núcleo”, esto es así porque tecnicamente no tiene porque estar en el centro. Por lo tanto en DBSCAN podemos encontrar tres tipos de puntos:\n",
    "\n",
    "* **Núcleos:** son los que satisfacen el número de puntos alrededor que nosotros fijemos con min_samples y el radio que nosotros definamos que es el épsilon.\n",
    "* **Alcanzables:** son aquellos que no tienen un núcleo, pero que se encuentran dentro del “radio” del núcleo.\n",
    "* **Ruido:** aquellos que no pertenecen a ningún cluster"
   ]
  },
  {
   "cell_type": "code",
   "execution_count": 102,
   "id": "analyzed-aaron",
   "metadata": {
    "ExecuteTime": {
     "end_time": "2021-08-29T01:17:03.135598Z",
     "start_time": "2021-08-29T01:17:03.132598Z"
    }
   },
   "outputs": [],
   "source": [
    "from sklearn.cluster import DBSCAN"
   ]
  },
  {
   "cell_type": "code",
   "execution_count": 103,
   "id": "phantom-enhancement",
   "metadata": {
    "ExecuteTime": {
     "end_time": "2021-08-29T01:17:04.689348Z",
     "start_time": "2021-08-29T01:17:04.672335Z"
    }
   },
   "outputs": [
    {
     "name": "stdout",
     "output_type": "stream",
     "text": [
      "Clases predichas:  \n",
      " [ 0 -1  0  0 -1  0  0  0  0  0  0  0  0 -1 -1  0  0  0  0  0  0 -1  0  0\n",
      "  0 -1  0  0  0  0  0  0  0  0  0  0  0  0  0 -1  0 -1  0 -1  0 -1 -1  0\n",
      "  0  0 -1  0  0  0  0  0  0  0  0 -1 -1 -1 -1 -1 -1 -1 -1  1 -1 -1 -1 -1\n",
      " -1 -1 -1 -1 -1 -1 -1 -1 -1  1 -1 -1 -1  1 -1 -1 -1  2 -1 -1 -1 -1 -1 -1\n",
      " -1  1 -1 -1  1  2  2 -1  1 -1  1 -1  2 -1 -1  2 -1 -1  2 -1  2  2 -1 -1\n",
      "  2 -1 -1 -1 -1  2  2 -1  2 -1 -1 -1 -1 -1 -1 -1 -1 -1 -1 -1 -1 -1 -1 -1\n",
      " -1  3 -1  3  3 -1 -1 -1 -1 -1 -1 -1  3 -1 -1 -1  3 -1 -1  3  3  3  3  3\n",
      "  3 -1 -1 -1  3 -1  3  3 -1 -1] \n",
      "\n",
      " Valores únicos de clase predicha:  \n",
      " [-1  0  1  2  3]\n"
     ]
    }
   ],
   "source": [
    "X_DBS=df_norm.copy()\n",
    "model = DBSCAN(eps=0.41, min_samples=9)\n",
    "# Entrenar el modelo\n",
    "#model.fit_predict(X_DBS)\n",
    "# Asignar las clases a cada instancia\n",
    "clases = model.fit_predict(X_DBS)\n",
    "# Ver los valores únicos de los cluster\n",
    "clusters = unique(clases)\n",
    "print('Clases predichas: ', '\\n', clases, '\\n\\n', 'Valores únicos de clase predicha: ', '\\n', clusters)"
   ]
  },
  {
   "cell_type": "code",
   "execution_count": 104,
   "id": "round-relative",
   "metadata": {
    "ExecuteTime": {
     "end_time": "2021-08-29T01:17:19.737055Z",
     "start_time": "2021-08-29T01:17:19.712050Z"
    }
   },
   "outputs": [
    {
     "data": {
      "text/html": [
       "<div>\n",
       "<style scoped>\n",
       "    .dataframe tbody tr th:only-of-type {\n",
       "        vertical-align: middle;\n",
       "    }\n",
       "\n",
       "    .dataframe tbody tr th {\n",
       "        vertical-align: top;\n",
       "    }\n",
       "\n",
       "    .dataframe thead th {\n",
       "        text-align: right;\n",
       "    }\n",
       "</style>\n",
       "<table border=\"1\" class=\"dataframe\">\n",
       "  <thead>\n",
       "    <tr style=\"text-align: right;\">\n",
       "      <th></th>\n",
       "      <th>Alcohol</th>\n",
       "      <th>Malic</th>\n",
       "      <th>Ash</th>\n",
       "      <th>Alcalinity</th>\n",
       "      <th>Magnesium</th>\n",
       "      <th>Phenols</th>\n",
       "      <th>Flavanoids</th>\n",
       "      <th>Nonflavanoids</th>\n",
       "      <th>Proanthocyanins</th>\n",
       "      <th>Color</th>\n",
       "      <th>Hue</th>\n",
       "      <th>Dilution</th>\n",
       "      <th>Proline</th>\n",
       "    </tr>\n",
       "  </thead>\n",
       "  <tbody>\n",
       "    <tr>\n",
       "      <th>0</th>\n",
       "      <td>0.842105</td>\n",
       "      <td>0.191700</td>\n",
       "      <td>0.572193</td>\n",
       "      <td>0.257732</td>\n",
       "      <td>0.619565</td>\n",
       "      <td>0.627586</td>\n",
       "      <td>0.573840</td>\n",
       "      <td>0.283019</td>\n",
       "      <td>0.593060</td>\n",
       "      <td>0.372014</td>\n",
       "      <td>0.455285</td>\n",
       "      <td>0.970696</td>\n",
       "      <td>0.561341</td>\n",
       "    </tr>\n",
       "    <tr>\n",
       "      <th>1</th>\n",
       "      <td>0.571053</td>\n",
       "      <td>0.205534</td>\n",
       "      <td>0.417112</td>\n",
       "      <td>0.030928</td>\n",
       "      <td>0.326087</td>\n",
       "      <td>0.575862</td>\n",
       "      <td>0.510549</td>\n",
       "      <td>0.245283</td>\n",
       "      <td>0.274448</td>\n",
       "      <td>0.264505</td>\n",
       "      <td>0.463415</td>\n",
       "      <td>0.780220</td>\n",
       "      <td>0.550642</td>\n",
       "    </tr>\n",
       "    <tr>\n",
       "      <th>2</th>\n",
       "      <td>0.560526</td>\n",
       "      <td>0.320158</td>\n",
       "      <td>0.700535</td>\n",
       "      <td>0.412371</td>\n",
       "      <td>0.336957</td>\n",
       "      <td>0.627586</td>\n",
       "      <td>0.611814</td>\n",
       "      <td>0.320755</td>\n",
       "      <td>0.757098</td>\n",
       "      <td>0.375427</td>\n",
       "      <td>0.447154</td>\n",
       "      <td>0.695971</td>\n",
       "      <td>0.646933</td>\n",
       "    </tr>\n",
       "    <tr>\n",
       "      <th>3</th>\n",
       "      <td>0.878947</td>\n",
       "      <td>0.239130</td>\n",
       "      <td>0.609626</td>\n",
       "      <td>0.319588</td>\n",
       "      <td>0.467391</td>\n",
       "      <td>0.989655</td>\n",
       "      <td>0.664557</td>\n",
       "      <td>0.207547</td>\n",
       "      <td>0.558360</td>\n",
       "      <td>0.556314</td>\n",
       "      <td>0.308943</td>\n",
       "      <td>0.798535</td>\n",
       "      <td>0.857347</td>\n",
       "    </tr>\n",
       "    <tr>\n",
       "      <th>4</th>\n",
       "      <td>0.581579</td>\n",
       "      <td>0.365613</td>\n",
       "      <td>0.807487</td>\n",
       "      <td>0.536082</td>\n",
       "      <td>0.521739</td>\n",
       "      <td>0.627586</td>\n",
       "      <td>0.495781</td>\n",
       "      <td>0.490566</td>\n",
       "      <td>0.444795</td>\n",
       "      <td>0.259386</td>\n",
       "      <td>0.455285</td>\n",
       "      <td>0.608059</td>\n",
       "      <td>0.325963</td>\n",
       "    </tr>\n",
       "    <tr>\n",
       "      <th>...</th>\n",
       "      <td>...</td>\n",
       "      <td>...</td>\n",
       "      <td>...</td>\n",
       "      <td>...</td>\n",
       "      <td>...</td>\n",
       "      <td>...</td>\n",
       "      <td>...</td>\n",
       "      <td>...</td>\n",
       "      <td>...</td>\n",
       "      <td>...</td>\n",
       "      <td>...</td>\n",
       "      <td>...</td>\n",
       "      <td>...</td>\n",
       "    </tr>\n",
       "    <tr>\n",
       "      <th>173</th>\n",
       "      <td>0.705263</td>\n",
       "      <td>0.970356</td>\n",
       "      <td>0.582888</td>\n",
       "      <td>0.510309</td>\n",
       "      <td>0.271739</td>\n",
       "      <td>0.241379</td>\n",
       "      <td>0.056962</td>\n",
       "      <td>0.735849</td>\n",
       "      <td>0.205047</td>\n",
       "      <td>0.547782</td>\n",
       "      <td>0.130081</td>\n",
       "      <td>0.172161</td>\n",
       "      <td>0.329529</td>\n",
       "    </tr>\n",
       "    <tr>\n",
       "      <th>174</th>\n",
       "      <td>0.623684</td>\n",
       "      <td>0.626482</td>\n",
       "      <td>0.598930</td>\n",
       "      <td>0.639175</td>\n",
       "      <td>0.347826</td>\n",
       "      <td>0.282759</td>\n",
       "      <td>0.086498</td>\n",
       "      <td>0.566038</td>\n",
       "      <td>0.315457</td>\n",
       "      <td>0.513652</td>\n",
       "      <td>0.178862</td>\n",
       "      <td>0.106227</td>\n",
       "      <td>0.336662</td>\n",
       "    </tr>\n",
       "    <tr>\n",
       "      <th>175</th>\n",
       "      <td>0.589474</td>\n",
       "      <td>0.699605</td>\n",
       "      <td>0.481283</td>\n",
       "      <td>0.484536</td>\n",
       "      <td>0.543478</td>\n",
       "      <td>0.210345</td>\n",
       "      <td>0.073840</td>\n",
       "      <td>0.566038</td>\n",
       "      <td>0.296530</td>\n",
       "      <td>0.761092</td>\n",
       "      <td>0.089431</td>\n",
       "      <td>0.106227</td>\n",
       "      <td>0.397290</td>\n",
       "    </tr>\n",
       "    <tr>\n",
       "      <th>176</th>\n",
       "      <td>0.563158</td>\n",
       "      <td>0.365613</td>\n",
       "      <td>0.540107</td>\n",
       "      <td>0.484536</td>\n",
       "      <td>0.543478</td>\n",
       "      <td>0.231034</td>\n",
       "      <td>0.071730</td>\n",
       "      <td>0.754717</td>\n",
       "      <td>0.331230</td>\n",
       "      <td>0.684300</td>\n",
       "      <td>0.097561</td>\n",
       "      <td>0.128205</td>\n",
       "      <td>0.400856</td>\n",
       "    </tr>\n",
       "    <tr>\n",
       "      <th>177</th>\n",
       "      <td>0.815789</td>\n",
       "      <td>0.664032</td>\n",
       "      <td>0.737968</td>\n",
       "      <td>0.716495</td>\n",
       "      <td>0.282609</td>\n",
       "      <td>0.368966</td>\n",
       "      <td>0.088608</td>\n",
       "      <td>0.811321</td>\n",
       "      <td>0.296530</td>\n",
       "      <td>0.675768</td>\n",
       "      <td>0.105691</td>\n",
       "      <td>0.120879</td>\n",
       "      <td>0.201141</td>\n",
       "    </tr>\n",
       "  </tbody>\n",
       "</table>\n",
       "<p>178 rows × 13 columns</p>\n",
       "</div>"
      ],
      "text/plain": [
       "      Alcohol     Malic       Ash  Alcalinity  Magnesium   Phenols  \\\n",
       "0    0.842105  0.191700  0.572193    0.257732   0.619565  0.627586   \n",
       "1    0.571053  0.205534  0.417112    0.030928   0.326087  0.575862   \n",
       "2    0.560526  0.320158  0.700535    0.412371   0.336957  0.627586   \n",
       "3    0.878947  0.239130  0.609626    0.319588   0.467391  0.989655   \n",
       "4    0.581579  0.365613  0.807487    0.536082   0.521739  0.627586   \n",
       "..        ...       ...       ...         ...        ...       ...   \n",
       "173  0.705263  0.970356  0.582888    0.510309   0.271739  0.241379   \n",
       "174  0.623684  0.626482  0.598930    0.639175   0.347826  0.282759   \n",
       "175  0.589474  0.699605  0.481283    0.484536   0.543478  0.210345   \n",
       "176  0.563158  0.365613  0.540107    0.484536   0.543478  0.231034   \n",
       "177  0.815789  0.664032  0.737968    0.716495   0.282609  0.368966   \n",
       "\n",
       "     Flavanoids  Nonflavanoids  Proanthocyanins     Color       Hue  Dilution  \\\n",
       "0      0.573840       0.283019         0.593060  0.372014  0.455285  0.970696   \n",
       "1      0.510549       0.245283         0.274448  0.264505  0.463415  0.780220   \n",
       "2      0.611814       0.320755         0.757098  0.375427  0.447154  0.695971   \n",
       "3      0.664557       0.207547         0.558360  0.556314  0.308943  0.798535   \n",
       "4      0.495781       0.490566         0.444795  0.259386  0.455285  0.608059   \n",
       "..          ...            ...              ...       ...       ...       ...   \n",
       "173    0.056962       0.735849         0.205047  0.547782  0.130081  0.172161   \n",
       "174    0.086498       0.566038         0.315457  0.513652  0.178862  0.106227   \n",
       "175    0.073840       0.566038         0.296530  0.761092  0.089431  0.106227   \n",
       "176    0.071730       0.754717         0.331230  0.684300  0.097561  0.128205   \n",
       "177    0.088608       0.811321         0.296530  0.675768  0.105691  0.120879   \n",
       "\n",
       "      Proline  \n",
       "0    0.561341  \n",
       "1    0.550642  \n",
       "2    0.646933  \n",
       "3    0.857347  \n",
       "4    0.325963  \n",
       "..        ...  \n",
       "173  0.329529  \n",
       "174  0.336662  \n",
       "175  0.397290  \n",
       "176  0.400856  \n",
       "177  0.201141  \n",
       "\n",
       "[178 rows x 13 columns]"
      ]
     },
     "execution_count": 104,
     "metadata": {},
     "output_type": "execute_result"
    }
   ],
   "source": [
    "X_DBS['DBSCAN'] = model.fit_predict(X_DBS)\n",
    "X_DBS1 = X_DBS.loc[:, X_DBS.columns!= 'DBSCAN']\n",
    "X_DBS1"
   ]
  },
  {
   "cell_type": "code",
   "execution_count": 105,
   "id": "confident-curve",
   "metadata": {
    "ExecuteTime": {
     "end_time": "2021-08-29T01:17:28.280364Z",
     "start_time": "2021-08-29T01:17:28.257351Z"
    }
   },
   "outputs": [
    {
     "data": {
      "text/html": [
       "<div>\n",
       "<style scoped>\n",
       "    .dataframe tbody tr th:only-of-type {\n",
       "        vertical-align: middle;\n",
       "    }\n",
       "\n",
       "    .dataframe tbody tr th {\n",
       "        vertical-align: top;\n",
       "    }\n",
       "\n",
       "    .dataframe thead th {\n",
       "        text-align: right;\n",
       "    }\n",
       "</style>\n",
       "<table border=\"1\" class=\"dataframe\">\n",
       "  <thead>\n",
       "    <tr style=\"text-align: right;\">\n",
       "      <th></th>\n",
       "      <th>Comp_1</th>\n",
       "      <th>Comp_2</th>\n",
       "      <th>DBSCAN</th>\n",
       "    </tr>\n",
       "  </thead>\n",
       "  <tbody>\n",
       "    <tr>\n",
       "      <th>0</th>\n",
       "      <td>-0.706336</td>\n",
       "      <td>-0.253193</td>\n",
       "      <td>0</td>\n",
       "    </tr>\n",
       "    <tr>\n",
       "      <th>1</th>\n",
       "      <td>-0.484977</td>\n",
       "      <td>-0.008823</td>\n",
       "      <td>-1</td>\n",
       "    </tr>\n",
       "    <tr>\n",
       "      <th>2</th>\n",
       "      <td>-0.521172</td>\n",
       "      <td>-0.189187</td>\n",
       "      <td>0</td>\n",
       "    </tr>\n",
       "    <tr>\n",
       "      <th>3</th>\n",
       "      <td>-0.821644</td>\n",
       "      <td>-0.580906</td>\n",
       "      <td>0</td>\n",
       "    </tr>\n",
       "    <tr>\n",
       "      <th>4</th>\n",
       "      <td>-0.202546</td>\n",
       "      <td>-0.059467</td>\n",
       "      <td>-1</td>\n",
       "    </tr>\n",
       "    <tr>\n",
       "      <th>...</th>\n",
       "      <td>...</td>\n",
       "      <td>...</td>\n",
       "      <td>...</td>\n",
       "    </tr>\n",
       "    <tr>\n",
       "      <th>173</th>\n",
       "      <td>0.739510</td>\n",
       "      <td>-0.471901</td>\n",
       "      <td>-1</td>\n",
       "    </tr>\n",
       "    <tr>\n",
       "      <th>174</th>\n",
       "      <td>0.581781</td>\n",
       "      <td>-0.348366</td>\n",
       "      <td>3</td>\n",
       "    </tr>\n",
       "    <tr>\n",
       "      <th>175</th>\n",
       "      <td>0.626313</td>\n",
       "      <td>-0.546857</td>\n",
       "      <td>3</td>\n",
       "    </tr>\n",
       "    <tr>\n",
       "      <th>176</th>\n",
       "      <td>0.572991</td>\n",
       "      <td>-0.425516</td>\n",
       "      <td>-1</td>\n",
       "    </tr>\n",
       "    <tr>\n",
       "      <th>177</th>\n",
       "      <td>0.701764</td>\n",
       "      <td>-0.513505</td>\n",
       "      <td>-1</td>\n",
       "    </tr>\n",
       "  </tbody>\n",
       "</table>\n",
       "<p>178 rows × 3 columns</p>\n",
       "</div>"
      ],
      "text/plain": [
       "       Comp_1    Comp_2  DBSCAN\n",
       "0   -0.706336 -0.253193       0\n",
       "1   -0.484977 -0.008823      -1\n",
       "2   -0.521172 -0.189187       0\n",
       "3   -0.821644 -0.580906       0\n",
       "4   -0.202546 -0.059467      -1\n",
       "..        ...       ...     ...\n",
       "173  0.739510 -0.471901      -1\n",
       "174  0.581781 -0.348366       3\n",
       "175  0.626313 -0.546857       3\n",
       "176  0.572991 -0.425516      -1\n",
       "177  0.701764 -0.513505      -1\n",
       "\n",
       "[178 rows x 3 columns]"
      ]
     },
     "execution_count": 105,
     "metadata": {},
     "output_type": "execute_result"
    }
   ],
   "source": [
    "# Generar un modelo con dos componentes\n",
    "pca3 = PCA(n_components=2)\n",
    "# Ajustar el modelo a los datos\n",
    "pca_df3 = pca3.fit_transform(X_DBS1)\n",
    "# Crear los dataframes respectivos\n",
    "pca_vinos3 = pd.DataFrame(data=pca_df3, columns=['Comp_1', 'Comp_2'])\n",
    "pca_graf3 = pd.concat([pca_vinos3, X_DBS[['DBSCAN']]], axis=1)\n",
    "\n",
    "pca_graf3"
   ]
  },
  {
   "cell_type": "code",
   "execution_count": 106,
   "id": "fewer-kelly",
   "metadata": {
    "ExecuteTime": {
     "end_time": "2021-08-29T01:17:30.514537Z",
     "start_time": "2021-08-29T01:17:30.373515Z"
    }
   },
   "outputs": [
    {
     "data": {
      "text/plain": [
       "<matplotlib.collections.PathCollection at 0x28afed18550>"
      ]
     },
     "execution_count": 106,
     "metadata": {},
     "output_type": "execute_result"
    },
    {
     "data": {
      "image/png": "[encoded data removed]",
      "text/plain": [
       "<Figure size 432x432 with 1 Axes>"
      ]
     },
     "metadata": {
      "needs_background": "light"
     },
     "output_type": "display_data"
    }
   ],
   "source": [
    "fig = plt.figure(figsize=(6, 6))\n",
    "\n",
    "ax = fig.add_subplot(1, 1, 1)\n",
    "ax.set_xlabel('Componente 1')\n",
    "ax.set_ylabel('Componente 2')\n",
    "ax.set_title('Componentes principales')\n",
    "\n",
    "ax.scatter(pca_graf3.Comp_1,\n",
    "           pca_graf3.Comp_2,\n",
    "           c=pca_graf3.DBSCAN,\n",
    "           s=50)"
   ]
  },
  {
   "cell_type": "markdown",
   "id": "authentic-munich",
   "metadata": {},
   "source": [
    "## Minibatch K-Mean\n",
    "El algoritmo Mini Batch K-Means es una variante del algoritmo K-Means, que utiliza un pequeño lote de subconjuntos de datos para reducir el tiempo de cálculo. El llamado mini-lote aquí se refiere al subconjunto de datos seleccionados al azar cada vez que se entrena el algoritmo. El uso de estos subconjuntos generados aleatoriamente para entrenar el algoritmo reduce en gran medida el tiempo de cálculo, y el resultado generalmente es solo un poco peor que el algoritmo estándar.\n",
    "\n",
    "Los pasos iterativos de este algoritmo tienen dos pasos:\n",
    "\n",
    "1. Extraiga aleatoriamente algunos datos del conjunto de datos para formar un pequeño lote y asígnelos al centroide más cercano\n",
    "2. Actualizar centroide\n",
    "\n",
    "En comparación con el algoritmo K-means, los datos se actualizan en cada pequeño conjunto de muestras. Mini Batch K-Means tiene una velocidad de convergencia más rápida que K-Means, pero también reduce el efecto del agrupamiento, pero no es obvio en proyectos reales."
   ]
  },
  {
   "cell_type": "code",
   "execution_count": 107,
   "id": "other-colombia",
   "metadata": {
    "ExecuteTime": {
     "end_time": "2021-08-29T01:17:39.282879Z",
     "start_time": "2021-08-29T01:17:39.267863Z"
    }
   },
   "outputs": [],
   "source": [
    "from sklearn.cluster import MiniBatchKMeans"
   ]
  },
  {
   "cell_type": "code",
   "execution_count": 108,
   "id": "circular-enzyme",
   "metadata": {
    "ExecuteTime": {
     "end_time": "2021-08-29T01:17:40.172859Z",
     "start_time": "2021-08-29T01:17:40.143853Z"
    }
   },
   "outputs": [
    {
     "name": "stdout",
     "output_type": "stream",
     "text": [
      "Clases predichas:  \n",
      " [2 2 2 2 2 2 2 2 2 2 2 2 2 2 2 2 2 2 2 2 2 2 2 2 2 2 2 2 2 2 2 2 2 2 2 2 2\n",
      " 2 2 2 2 2 2 2 2 2 2 2 2 2 2 2 2 2 2 2 2 2 2 0 1 1 0 0 0 0 2 0 1 0 1 0 0 2\n",
      " 0 0 0 0 0 0 0 0 0 1 0 0 0 0 0 0 0 0 0 0 0 2 0 0 2 0 0 0 0 0 0 0 0 0 0 0 0\n",
      " 0 0 0 0 0 0 0 1 0 0 0 0 0 0 0 0 0 0 0 1 1 1 1 1 1 1 1 1 1 1 1 1 1 1 1 1 1\n",
      " 1 1 1 1 1 1 1 1 1 1 1 1 1 1 1 1 1 1 1 1 1 1 1 1 1 1 1 1 1 1] \n",
      "\n",
      " Valores únicos de clase predicha:  \n",
      " [0 1 2]\n"
     ]
    }
   ],
   "source": [
    "X_MKM=df_norm.copy()\n",
    "model = MiniBatchKMeans(n_clusters=3)\n",
    "# Entrenar el modelo\n",
    "model.fit(X_MKM)\n",
    "# Asignar las clases a cada instancia\n",
    "clases = model.predict(X_MKM)\n",
    "# Ver los valores únicos de los cluster\n",
    "clusters = unique(clases)\n",
    "print('Clases predichas: ', '\\n', clases, '\\n\\n', 'Valores únicos de clase predicha: ', '\\n', clusters)"
   ]
  },
  {
   "cell_type": "code",
   "execution_count": 112,
   "id": "maritime-ground",
   "metadata": {
    "ExecuteTime": {
     "end_time": "2021-08-29T01:19:12.015561Z",
     "start_time": "2021-08-29T01:19:11.976552Z"
    }
   },
   "outputs": [
    {
     "data": {
      "text/html": [
       "<div>\n",
       "<style scoped>\n",
       "    .dataframe tbody tr th:only-of-type {\n",
       "        vertical-align: middle;\n",
       "    }\n",
       "\n",
       "    .dataframe tbody tr th {\n",
       "        vertical-align: top;\n",
       "    }\n",
       "\n",
       "    .dataframe thead th {\n",
       "        text-align: right;\n",
       "    }\n",
       "</style>\n",
       "<table border=\"1\" class=\"dataframe\">\n",
       "  <thead>\n",
       "    <tr style=\"text-align: right;\">\n",
       "      <th></th>\n",
       "      <th>Alcohol</th>\n",
       "      <th>Malic</th>\n",
       "      <th>Ash</th>\n",
       "      <th>Alcalinity</th>\n",
       "      <th>Magnesium</th>\n",
       "      <th>Phenols</th>\n",
       "      <th>Flavanoids</th>\n",
       "      <th>Nonflavanoids</th>\n",
       "      <th>Proanthocyanins</th>\n",
       "      <th>Color</th>\n",
       "      <th>Hue</th>\n",
       "      <th>Dilution</th>\n",
       "      <th>Proline</th>\n",
       "    </tr>\n",
       "  </thead>\n",
       "  <tbody>\n",
       "    <tr>\n",
       "      <th>0</th>\n",
       "      <td>0.842105</td>\n",
       "      <td>0.191700</td>\n",
       "      <td>0.572193</td>\n",
       "      <td>0.257732</td>\n",
       "      <td>0.619565</td>\n",
       "      <td>0.627586</td>\n",
       "      <td>0.573840</td>\n",
       "      <td>0.283019</td>\n",
       "      <td>0.593060</td>\n",
       "      <td>0.372014</td>\n",
       "      <td>0.455285</td>\n",
       "      <td>0.970696</td>\n",
       "      <td>0.561341</td>\n",
       "    </tr>\n",
       "    <tr>\n",
       "      <th>1</th>\n",
       "      <td>0.571053</td>\n",
       "      <td>0.205534</td>\n",
       "      <td>0.417112</td>\n",
       "      <td>0.030928</td>\n",
       "      <td>0.326087</td>\n",
       "      <td>0.575862</td>\n",
       "      <td>0.510549</td>\n",
       "      <td>0.245283</td>\n",
       "      <td>0.274448</td>\n",
       "      <td>0.264505</td>\n",
       "      <td>0.463415</td>\n",
       "      <td>0.780220</td>\n",
       "      <td>0.550642</td>\n",
       "    </tr>\n",
       "    <tr>\n",
       "      <th>2</th>\n",
       "      <td>0.560526</td>\n",
       "      <td>0.320158</td>\n",
       "      <td>0.700535</td>\n",
       "      <td>0.412371</td>\n",
       "      <td>0.336957</td>\n",
       "      <td>0.627586</td>\n",
       "      <td>0.611814</td>\n",
       "      <td>0.320755</td>\n",
       "      <td>0.757098</td>\n",
       "      <td>0.375427</td>\n",
       "      <td>0.447154</td>\n",
       "      <td>0.695971</td>\n",
       "      <td>0.646933</td>\n",
       "    </tr>\n",
       "    <tr>\n",
       "      <th>3</th>\n",
       "      <td>0.878947</td>\n",
       "      <td>0.239130</td>\n",
       "      <td>0.609626</td>\n",
       "      <td>0.319588</td>\n",
       "      <td>0.467391</td>\n",
       "      <td>0.989655</td>\n",
       "      <td>0.664557</td>\n",
       "      <td>0.207547</td>\n",
       "      <td>0.558360</td>\n",
       "      <td>0.556314</td>\n",
       "      <td>0.308943</td>\n",
       "      <td>0.798535</td>\n",
       "      <td>0.857347</td>\n",
       "    </tr>\n",
       "    <tr>\n",
       "      <th>4</th>\n",
       "      <td>0.581579</td>\n",
       "      <td>0.365613</td>\n",
       "      <td>0.807487</td>\n",
       "      <td>0.536082</td>\n",
       "      <td>0.521739</td>\n",
       "      <td>0.627586</td>\n",
       "      <td>0.495781</td>\n",
       "      <td>0.490566</td>\n",
       "      <td>0.444795</td>\n",
       "      <td>0.259386</td>\n",
       "      <td>0.455285</td>\n",
       "      <td>0.608059</td>\n",
       "      <td>0.325963</td>\n",
       "    </tr>\n",
       "    <tr>\n",
       "      <th>...</th>\n",
       "      <td>...</td>\n",
       "      <td>...</td>\n",
       "      <td>...</td>\n",
       "      <td>...</td>\n",
       "      <td>...</td>\n",
       "      <td>...</td>\n",
       "      <td>...</td>\n",
       "      <td>...</td>\n",
       "      <td>...</td>\n",
       "      <td>...</td>\n",
       "      <td>...</td>\n",
       "      <td>...</td>\n",
       "      <td>...</td>\n",
       "    </tr>\n",
       "    <tr>\n",
       "      <th>173</th>\n",
       "      <td>0.705263</td>\n",
       "      <td>0.970356</td>\n",
       "      <td>0.582888</td>\n",
       "      <td>0.510309</td>\n",
       "      <td>0.271739</td>\n",
       "      <td>0.241379</td>\n",
       "      <td>0.056962</td>\n",
       "      <td>0.735849</td>\n",
       "      <td>0.205047</td>\n",
       "      <td>0.547782</td>\n",
       "      <td>0.130081</td>\n",
       "      <td>0.172161</td>\n",
       "      <td>0.329529</td>\n",
       "    </tr>\n",
       "    <tr>\n",
       "      <th>174</th>\n",
       "      <td>0.623684</td>\n",
       "      <td>0.626482</td>\n",
       "      <td>0.598930</td>\n",
       "      <td>0.639175</td>\n",
       "      <td>0.347826</td>\n",
       "      <td>0.282759</td>\n",
       "      <td>0.086498</td>\n",
       "      <td>0.566038</td>\n",
       "      <td>0.315457</td>\n",
       "      <td>0.513652</td>\n",
       "      <td>0.178862</td>\n",
       "      <td>0.106227</td>\n",
       "      <td>0.336662</td>\n",
       "    </tr>\n",
       "    <tr>\n",
       "      <th>175</th>\n",
       "      <td>0.589474</td>\n",
       "      <td>0.699605</td>\n",
       "      <td>0.481283</td>\n",
       "      <td>0.484536</td>\n",
       "      <td>0.543478</td>\n",
       "      <td>0.210345</td>\n",
       "      <td>0.073840</td>\n",
       "      <td>0.566038</td>\n",
       "      <td>0.296530</td>\n",
       "      <td>0.761092</td>\n",
       "      <td>0.089431</td>\n",
       "      <td>0.106227</td>\n",
       "      <td>0.397290</td>\n",
       "    </tr>\n",
       "    <tr>\n",
       "      <th>176</th>\n",
       "      <td>0.563158</td>\n",
       "      <td>0.365613</td>\n",
       "      <td>0.540107</td>\n",
       "      <td>0.484536</td>\n",
       "      <td>0.543478</td>\n",
       "      <td>0.231034</td>\n",
       "      <td>0.071730</td>\n",
       "      <td>0.754717</td>\n",
       "      <td>0.331230</td>\n",
       "      <td>0.684300</td>\n",
       "      <td>0.097561</td>\n",
       "      <td>0.128205</td>\n",
       "      <td>0.400856</td>\n",
       "    </tr>\n",
       "    <tr>\n",
       "      <th>177</th>\n",
       "      <td>0.815789</td>\n",
       "      <td>0.664032</td>\n",
       "      <td>0.737968</td>\n",
       "      <td>0.716495</td>\n",
       "      <td>0.282609</td>\n",
       "      <td>0.368966</td>\n",
       "      <td>0.088608</td>\n",
       "      <td>0.811321</td>\n",
       "      <td>0.296530</td>\n",
       "      <td>0.675768</td>\n",
       "      <td>0.105691</td>\n",
       "      <td>0.120879</td>\n",
       "      <td>0.201141</td>\n",
       "    </tr>\n",
       "  </tbody>\n",
       "</table>\n",
       "<p>178 rows × 13 columns</p>\n",
       "</div>"
      ],
      "text/plain": [
       "      Alcohol     Malic       Ash  Alcalinity  Magnesium   Phenols  \\\n",
       "0    0.842105  0.191700  0.572193    0.257732   0.619565  0.627586   \n",
       "1    0.571053  0.205534  0.417112    0.030928   0.326087  0.575862   \n",
       "2    0.560526  0.320158  0.700535    0.412371   0.336957  0.627586   \n",
       "3    0.878947  0.239130  0.609626    0.319588   0.467391  0.989655   \n",
       "4    0.581579  0.365613  0.807487    0.536082   0.521739  0.627586   \n",
       "..        ...       ...       ...         ...        ...       ...   \n",
       "173  0.705263  0.970356  0.582888    0.510309   0.271739  0.241379   \n",
       "174  0.623684  0.626482  0.598930    0.639175   0.347826  0.282759   \n",
       "175  0.589474  0.699605  0.481283    0.484536   0.543478  0.210345   \n",
       "176  0.563158  0.365613  0.540107    0.484536   0.543478  0.231034   \n",
       "177  0.815789  0.664032  0.737968    0.716495   0.282609  0.368966   \n",
       "\n",
       "     Flavanoids  Nonflavanoids  Proanthocyanins     Color       Hue  Dilution  \\\n",
       "0      0.573840       0.283019         0.593060  0.372014  0.455285  0.970696   \n",
       "1      0.510549       0.245283         0.274448  0.264505  0.463415  0.780220   \n",
       "2      0.611814       0.320755         0.757098  0.375427  0.447154  0.695971   \n",
       "3      0.664557       0.207547         0.558360  0.556314  0.308943  0.798535   \n",
       "4      0.495781       0.490566         0.444795  0.259386  0.455285  0.608059   \n",
       "..          ...            ...              ...       ...       ...       ...   \n",
       "173    0.056962       0.735849         0.205047  0.547782  0.130081  0.172161   \n",
       "174    0.086498       0.566038         0.315457  0.513652  0.178862  0.106227   \n",
       "175    0.073840       0.566038         0.296530  0.761092  0.089431  0.106227   \n",
       "176    0.071730       0.754717         0.331230  0.684300  0.097561  0.128205   \n",
       "177    0.088608       0.811321         0.296530  0.675768  0.105691  0.120879   \n",
       "\n",
       "      Proline  \n",
       "0    0.561341  \n",
       "1    0.550642  \n",
       "2    0.646933  \n",
       "3    0.857347  \n",
       "4    0.325963  \n",
       "..        ...  \n",
       "173  0.329529  \n",
       "174  0.336662  \n",
       "175  0.397290  \n",
       "176  0.400856  \n",
       "177  0.201141  \n",
       "\n",
       "[178 rows x 13 columns]"
      ]
     },
     "execution_count": 112,
     "metadata": {},
     "output_type": "execute_result"
    }
   ],
   "source": [
    "X_MKM['MKM'] = model.fit_predict(X_MKM)\n",
    "X_MKM1 = X_MKM.loc[:, X_MKM.columns!= 'MKM']\n",
    "X_MKM1"
   ]
  },
  {
   "cell_type": "code",
   "execution_count": 113,
   "id": "innocent-dayton",
   "metadata": {
    "ExecuteTime": {
     "end_time": "2021-08-29T01:19:17.889511Z",
     "start_time": "2021-08-29T01:19:17.874495Z"
    }
   },
   "outputs": [
    {
     "data": {
      "text/html": [
       "<div>\n",
       "<style scoped>\n",
       "    .dataframe tbody tr th:only-of-type {\n",
       "        vertical-align: middle;\n",
       "    }\n",
       "\n",
       "    .dataframe tbody tr th {\n",
       "        vertical-align: top;\n",
       "    }\n",
       "\n",
       "    .dataframe thead th {\n",
       "        text-align: right;\n",
       "    }\n",
       "</style>\n",
       "<table border=\"1\" class=\"dataframe\">\n",
       "  <thead>\n",
       "    <tr style=\"text-align: right;\">\n",
       "      <th></th>\n",
       "      <th>Comp_1</th>\n",
       "      <th>Comp_2</th>\n",
       "      <th>MKM</th>\n",
       "    </tr>\n",
       "  </thead>\n",
       "  <tbody>\n",
       "    <tr>\n",
       "      <th>0</th>\n",
       "      <td>-0.706336</td>\n",
       "      <td>-0.253193</td>\n",
       "      <td>0</td>\n",
       "    </tr>\n",
       "    <tr>\n",
       "      <th>1</th>\n",
       "      <td>-0.484977</td>\n",
       "      <td>-0.008823</td>\n",
       "      <td>0</td>\n",
       "    </tr>\n",
       "    <tr>\n",
       "      <th>2</th>\n",
       "      <td>-0.521172</td>\n",
       "      <td>-0.189187</td>\n",
       "      <td>0</td>\n",
       "    </tr>\n",
       "    <tr>\n",
       "      <th>3</th>\n",
       "      <td>-0.821644</td>\n",
       "      <td>-0.580906</td>\n",
       "      <td>0</td>\n",
       "    </tr>\n",
       "    <tr>\n",
       "      <th>4</th>\n",
       "      <td>-0.202546</td>\n",
       "      <td>-0.059467</td>\n",
       "      <td>0</td>\n",
       "    </tr>\n",
       "    <tr>\n",
       "      <th>...</th>\n",
       "      <td>...</td>\n",
       "      <td>...</td>\n",
       "      <td>...</td>\n",
       "    </tr>\n",
       "    <tr>\n",
       "      <th>173</th>\n",
       "      <td>0.739510</td>\n",
       "      <td>-0.471901</td>\n",
       "      <td>1</td>\n",
       "    </tr>\n",
       "    <tr>\n",
       "      <th>174</th>\n",
       "      <td>0.581781</td>\n",
       "      <td>-0.348366</td>\n",
       "      <td>1</td>\n",
       "    </tr>\n",
       "    <tr>\n",
       "      <th>175</th>\n",
       "      <td>0.626313</td>\n",
       "      <td>-0.546857</td>\n",
       "      <td>1</td>\n",
       "    </tr>\n",
       "    <tr>\n",
       "      <th>176</th>\n",
       "      <td>0.572991</td>\n",
       "      <td>-0.425516</td>\n",
       "      <td>1</td>\n",
       "    </tr>\n",
       "    <tr>\n",
       "      <th>177</th>\n",
       "      <td>0.701764</td>\n",
       "      <td>-0.513505</td>\n",
       "      <td>1</td>\n",
       "    </tr>\n",
       "  </tbody>\n",
       "</table>\n",
       "<p>178 rows × 3 columns</p>\n",
       "</div>"
      ],
      "text/plain": [
       "       Comp_1    Comp_2  MKM\n",
       "0   -0.706336 -0.253193    0\n",
       "1   -0.484977 -0.008823    0\n",
       "2   -0.521172 -0.189187    0\n",
       "3   -0.821644 -0.580906    0\n",
       "4   -0.202546 -0.059467    0\n",
       "..        ...       ...  ...\n",
       "173  0.739510 -0.471901    1\n",
       "174  0.581781 -0.348366    1\n",
       "175  0.626313 -0.546857    1\n",
       "176  0.572991 -0.425516    1\n",
       "177  0.701764 -0.513505    1\n",
       "\n",
       "[178 rows x 3 columns]"
      ]
     },
     "execution_count": 113,
     "metadata": {},
     "output_type": "execute_result"
    }
   ],
   "source": [
    "# Generar un modelo con dos componentes\n",
    "pca4 = PCA(n_components=2)\n",
    "# Ajustar el modelo a los datos\n",
    "pca_df4 = pca4.fit_transform(X_MKM1)\n",
    "# Crear los dataframes respectivos\n",
    "pca_vinos4 = pd.DataFrame(data=pca_df4, columns=['Comp_1', 'Comp_2'])\n",
    "pca_graf4 = pd.concat([pca_vinos4, X_MKM[['MKM']]], axis=1)\n",
    "\n",
    "pca_graf4"
   ]
  },
  {
   "cell_type": "code",
   "execution_count": 114,
   "id": "renewable-female",
   "metadata": {
    "ExecuteTime": {
     "end_time": "2021-08-29T01:19:20.808411Z",
     "start_time": "2021-08-29T01:19:20.680383Z"
    }
   },
   "outputs": [
    {
     "data": {
      "text/plain": [
       "<matplotlib.collections.PathCollection at 0x28afee16730>"
      ]
     },
     "execution_count": 114,
     "metadata": {},
     "output_type": "execute_result"
    },
    {
     "data": {
      "image/png": "[encoded data removed]",
      "text/plain": [
       "<Figure size 432x432 with 1 Axes>"
      ]
     },
     "metadata": {
      "needs_background": "light"
     },
     "output_type": "display_data"
    }
   ],
   "source": [
    "fig = plt.figure(figsize=(6, 6))\n",
    "\n",
    "ax = fig.add_subplot(1, 1, 1)\n",
    "ax.set_xlabel('Componente 1')\n",
    "ax.set_ylabel('Componente 2')\n",
    "ax.set_title('Componentes principales')\n",
    "\n",
    "ax.scatter(pca_graf4.Comp_1,\n",
    "           pca_graf4.Comp_2,\n",
    "           c=pca_graf4.MKM,\n",
    "           s=50)"
   ]
  },
  {
   "cell_type": "markdown",
   "id": "brutal-monte",
   "metadata": {},
   "source": [
    "## Gaussian Mixtures\n",
    "Gaussian Mixture Model (GMM) es un modelo probabilístico en el que se considera que las observaciones siguen una distribución probabilística formada por la combinación de múltiples distribuciones normales (componentes). Puede entenderse como una generalización de K-means con la que, en lugar de asignar cada observación a un único cluster, se obtiene una distribución probabilidad de pertenencia a cada uno.\n",
    "\n",
    "Ajustar un modelo GMM consiste en estimar los parámetros que definen la función de distribución de cada componente: la media y la matriz de covarianza. Por ejemplo, si el modelo tiene dos componentes, hay que encontrar la media y la matriz de covarianzas de cada una. Si es un problema multidimensional, por ejemplo de 3 variables, la media de cada componente es un vector de 3 valores y la matriz de covarianza una matriz de 3x3. El algoritmo más empleado para realizar el ajuste es Expectation-Maximization (EM).\n",
    "\n",
    "Una vez aprendidos los parámetros, se puede calcular la densidad de probabilidad que tiene cada observación de pertenecer a cada componente y al conjunto de la distribución. Observaciones con muy poca densidad de probabilidad pueden considerarse como anomalías."
   ]
  },
  {
   "cell_type": "code",
   "execution_count": 115,
   "id": "expressed-senegal",
   "metadata": {
    "ExecuteTime": {
     "end_time": "2021-08-29T01:19:53.197941Z",
     "start_time": "2021-08-29T01:19:53.183931Z"
    }
   },
   "outputs": [],
   "source": [
    "from sklearn.mixture import GaussianMixture"
   ]
  },
  {
   "cell_type": "code",
   "execution_count": 116,
   "id": "juvenile-serum",
   "metadata": {
    "ExecuteTime": {
     "end_time": "2021-08-29T01:19:55.492784Z",
     "start_time": "2021-08-29T01:19:55.472774Z"
    }
   },
   "outputs": [
    {
     "name": "stdout",
     "output_type": "stream",
     "text": [
      "Clases predichas:  \n",
      " [0 0 0 0 0 0 0 0 0 0 0 0 0 0 0 0 0 0 0 0 0 0 0 0 0 0 0 0 0 0 0 0 0 0 0 0 0\n",
      " 0 0 0 0 0 0 0 0 0 0 0 0 0 0 0 0 0 0 0 0 0 0 1 1 2 1 1 1 1 1 1 1 1 1 1 1 0\n",
      " 1 1 1 1 1 1 1 0 1 2 1 1 1 1 1 1 1 1 1 1 1 1 1 1 1 1 1 1 1 1 1 1 1 1 1 1 1\n",
      " 1 1 1 1 1 1 1 1 1 1 1 1 1 1 1 1 1 1 1 2 2 2 2 2 2 2 2 2 2 2 2 2 2 2 2 2 2\n",
      " 2 2 2 2 2 2 2 2 2 2 2 2 2 2 2 2 2 2 2 2 2 2 2 2 2 2 2 2 2 2] \n",
      "\n",
      " Valores únicos de clase predicha:  \n",
      " [0 1 2]\n"
     ]
    }
   ],
   "source": [
    "X_GM=df_norm.copy()\n",
    "model = GaussianMixture(n_components=3)\n",
    "# Entrenar el modelo\n",
    "model.fit(X_GM)\n",
    "# Asignar las clases a cada instancia\n",
    "clases = model.predict(X_GM)\n",
    "# Ver los valores únicos de los cluster\n",
    "clusters = unique(clases)\n",
    "print('Clases predichas: ', '\\n', clases, '\\n\\n', 'Valores únicos de clase predicha: ', '\\n', clusters)"
   ]
  },
  {
   "cell_type": "code",
   "execution_count": 117,
   "id": "juvenile-staff",
   "metadata": {
    "ExecuteTime": {
     "end_time": "2021-08-29T01:20:27.238316Z",
     "start_time": "2021-08-29T01:20:27.198300Z"
    }
   },
   "outputs": [
    {
     "data": {
      "text/html": [
       "<div>\n",
       "<style scoped>\n",
       "    .dataframe tbody tr th:only-of-type {\n",
       "        vertical-align: middle;\n",
       "    }\n",
       "\n",
       "    .dataframe tbody tr th {\n",
       "        vertical-align: top;\n",
       "    }\n",
       "\n",
       "    .dataframe thead th {\n",
       "        text-align: right;\n",
       "    }\n",
       "</style>\n",
       "<table border=\"1\" class=\"dataframe\">\n",
       "  <thead>\n",
       "    <tr style=\"text-align: right;\">\n",
       "      <th></th>\n",
       "      <th>Alcohol</th>\n",
       "      <th>Malic</th>\n",
       "      <th>Ash</th>\n",
       "      <th>Alcalinity</th>\n",
       "      <th>Magnesium</th>\n",
       "      <th>Phenols</th>\n",
       "      <th>Flavanoids</th>\n",
       "      <th>Nonflavanoids</th>\n",
       "      <th>Proanthocyanins</th>\n",
       "      <th>Color</th>\n",
       "      <th>Hue</th>\n",
       "      <th>Dilution</th>\n",
       "      <th>Proline</th>\n",
       "    </tr>\n",
       "  </thead>\n",
       "  <tbody>\n",
       "    <tr>\n",
       "      <th>0</th>\n",
       "      <td>0.842105</td>\n",
       "      <td>0.191700</td>\n",
       "      <td>0.572193</td>\n",
       "      <td>0.257732</td>\n",
       "      <td>0.619565</td>\n",
       "      <td>0.627586</td>\n",
       "      <td>0.573840</td>\n",
       "      <td>0.283019</td>\n",
       "      <td>0.593060</td>\n",
       "      <td>0.372014</td>\n",
       "      <td>0.455285</td>\n",
       "      <td>0.970696</td>\n",
       "      <td>0.561341</td>\n",
       "    </tr>\n",
       "    <tr>\n",
       "      <th>1</th>\n",
       "      <td>0.571053</td>\n",
       "      <td>0.205534</td>\n",
       "      <td>0.417112</td>\n",
       "      <td>0.030928</td>\n",
       "      <td>0.326087</td>\n",
       "      <td>0.575862</td>\n",
       "      <td>0.510549</td>\n",
       "      <td>0.245283</td>\n",
       "      <td>0.274448</td>\n",
       "      <td>0.264505</td>\n",
       "      <td>0.463415</td>\n",
       "      <td>0.780220</td>\n",
       "      <td>0.550642</td>\n",
       "    </tr>\n",
       "    <tr>\n",
       "      <th>2</th>\n",
       "      <td>0.560526</td>\n",
       "      <td>0.320158</td>\n",
       "      <td>0.700535</td>\n",
       "      <td>0.412371</td>\n",
       "      <td>0.336957</td>\n",
       "      <td>0.627586</td>\n",
       "      <td>0.611814</td>\n",
       "      <td>0.320755</td>\n",
       "      <td>0.757098</td>\n",
       "      <td>0.375427</td>\n",
       "      <td>0.447154</td>\n",
       "      <td>0.695971</td>\n",
       "      <td>0.646933</td>\n",
       "    </tr>\n",
       "    <tr>\n",
       "      <th>3</th>\n",
       "      <td>0.878947</td>\n",
       "      <td>0.239130</td>\n",
       "      <td>0.609626</td>\n",
       "      <td>0.319588</td>\n",
       "      <td>0.467391</td>\n",
       "      <td>0.989655</td>\n",
       "      <td>0.664557</td>\n",
       "      <td>0.207547</td>\n",
       "      <td>0.558360</td>\n",
       "      <td>0.556314</td>\n",
       "      <td>0.308943</td>\n",
       "      <td>0.798535</td>\n",
       "      <td>0.857347</td>\n",
       "    </tr>\n",
       "    <tr>\n",
       "      <th>4</th>\n",
       "      <td>0.581579</td>\n",
       "      <td>0.365613</td>\n",
       "      <td>0.807487</td>\n",
       "      <td>0.536082</td>\n",
       "      <td>0.521739</td>\n",
       "      <td>0.627586</td>\n",
       "      <td>0.495781</td>\n",
       "      <td>0.490566</td>\n",
       "      <td>0.444795</td>\n",
       "      <td>0.259386</td>\n",
       "      <td>0.455285</td>\n",
       "      <td>0.608059</td>\n",
       "      <td>0.325963</td>\n",
       "    </tr>\n",
       "    <tr>\n",
       "      <th>...</th>\n",
       "      <td>...</td>\n",
       "      <td>...</td>\n",
       "      <td>...</td>\n",
       "      <td>...</td>\n",
       "      <td>...</td>\n",
       "      <td>...</td>\n",
       "      <td>...</td>\n",
       "      <td>...</td>\n",
       "      <td>...</td>\n",
       "      <td>...</td>\n",
       "      <td>...</td>\n",
       "      <td>...</td>\n",
       "      <td>...</td>\n",
       "    </tr>\n",
       "    <tr>\n",
       "      <th>173</th>\n",
       "      <td>0.705263</td>\n",
       "      <td>0.970356</td>\n",
       "      <td>0.582888</td>\n",
       "      <td>0.510309</td>\n",
       "      <td>0.271739</td>\n",
       "      <td>0.241379</td>\n",
       "      <td>0.056962</td>\n",
       "      <td>0.735849</td>\n",
       "      <td>0.205047</td>\n",
       "      <td>0.547782</td>\n",
       "      <td>0.130081</td>\n",
       "      <td>0.172161</td>\n",
       "      <td>0.329529</td>\n",
       "    </tr>\n",
       "    <tr>\n",
       "      <th>174</th>\n",
       "      <td>0.623684</td>\n",
       "      <td>0.626482</td>\n",
       "      <td>0.598930</td>\n",
       "      <td>0.639175</td>\n",
       "      <td>0.347826</td>\n",
       "      <td>0.282759</td>\n",
       "      <td>0.086498</td>\n",
       "      <td>0.566038</td>\n",
       "      <td>0.315457</td>\n",
       "      <td>0.513652</td>\n",
       "      <td>0.178862</td>\n",
       "      <td>0.106227</td>\n",
       "      <td>0.336662</td>\n",
       "    </tr>\n",
       "    <tr>\n",
       "      <th>175</th>\n",
       "      <td>0.589474</td>\n",
       "      <td>0.699605</td>\n",
       "      <td>0.481283</td>\n",
       "      <td>0.484536</td>\n",
       "      <td>0.543478</td>\n",
       "      <td>0.210345</td>\n",
       "      <td>0.073840</td>\n",
       "      <td>0.566038</td>\n",
       "      <td>0.296530</td>\n",
       "      <td>0.761092</td>\n",
       "      <td>0.089431</td>\n",
       "      <td>0.106227</td>\n",
       "      <td>0.397290</td>\n",
       "    </tr>\n",
       "    <tr>\n",
       "      <th>176</th>\n",
       "      <td>0.563158</td>\n",
       "      <td>0.365613</td>\n",
       "      <td>0.540107</td>\n",
       "      <td>0.484536</td>\n",
       "      <td>0.543478</td>\n",
       "      <td>0.231034</td>\n",
       "      <td>0.071730</td>\n",
       "      <td>0.754717</td>\n",
       "      <td>0.331230</td>\n",
       "      <td>0.684300</td>\n",
       "      <td>0.097561</td>\n",
       "      <td>0.128205</td>\n",
       "      <td>0.400856</td>\n",
       "    </tr>\n",
       "    <tr>\n",
       "      <th>177</th>\n",
       "      <td>0.815789</td>\n",
       "      <td>0.664032</td>\n",
       "      <td>0.737968</td>\n",
       "      <td>0.716495</td>\n",
       "      <td>0.282609</td>\n",
       "      <td>0.368966</td>\n",
       "      <td>0.088608</td>\n",
       "      <td>0.811321</td>\n",
       "      <td>0.296530</td>\n",
       "      <td>0.675768</td>\n",
       "      <td>0.105691</td>\n",
       "      <td>0.120879</td>\n",
       "      <td>0.201141</td>\n",
       "    </tr>\n",
       "  </tbody>\n",
       "</table>\n",
       "<p>178 rows × 13 columns</p>\n",
       "</div>"
      ],
      "text/plain": [
       "      Alcohol     Malic       Ash  Alcalinity  Magnesium   Phenols  \\\n",
       "0    0.842105  0.191700  0.572193    0.257732   0.619565  0.627586   \n",
       "1    0.571053  0.205534  0.417112    0.030928   0.326087  0.575862   \n",
       "2    0.560526  0.320158  0.700535    0.412371   0.336957  0.627586   \n",
       "3    0.878947  0.239130  0.609626    0.319588   0.467391  0.989655   \n",
       "4    0.581579  0.365613  0.807487    0.536082   0.521739  0.627586   \n",
       "..        ...       ...       ...         ...        ...       ...   \n",
       "173  0.705263  0.970356  0.582888    0.510309   0.271739  0.241379   \n",
       "174  0.623684  0.626482  0.598930    0.639175   0.347826  0.282759   \n",
       "175  0.589474  0.699605  0.481283    0.484536   0.543478  0.210345   \n",
       "176  0.563158  0.365613  0.540107    0.484536   0.543478  0.231034   \n",
       "177  0.815789  0.664032  0.737968    0.716495   0.282609  0.368966   \n",
       "\n",
       "     Flavanoids  Nonflavanoids  Proanthocyanins     Color       Hue  Dilution  \\\n",
       "0      0.573840       0.283019         0.593060  0.372014  0.455285  0.970696   \n",
       "1      0.510549       0.245283         0.274448  0.264505  0.463415  0.780220   \n",
       "2      0.611814       0.320755         0.757098  0.375427  0.447154  0.695971   \n",
       "3      0.664557       0.207547         0.558360  0.556314  0.308943  0.798535   \n",
       "4      0.495781       0.490566         0.444795  0.259386  0.455285  0.608059   \n",
       "..          ...            ...              ...       ...       ...       ...   \n",
       "173    0.056962       0.735849         0.205047  0.547782  0.130081  0.172161   \n",
       "174    0.086498       0.566038         0.315457  0.513652  0.178862  0.106227   \n",
       "175    0.073840       0.566038         0.296530  0.761092  0.089431  0.106227   \n",
       "176    0.071730       0.754717         0.331230  0.684300  0.097561  0.128205   \n",
       "177    0.088608       0.811321         0.296530  0.675768  0.105691  0.120879   \n",
       "\n",
       "      Proline  \n",
       "0    0.561341  \n",
       "1    0.550642  \n",
       "2    0.646933  \n",
       "3    0.857347  \n",
       "4    0.325963  \n",
       "..        ...  \n",
       "173  0.329529  \n",
       "174  0.336662  \n",
       "175  0.397290  \n",
       "176  0.400856  \n",
       "177  0.201141  \n",
       "\n",
       "[178 rows x 13 columns]"
      ]
     },
     "execution_count": 117,
     "metadata": {},
     "output_type": "execute_result"
    }
   ],
   "source": [
    "X_GM['Gaussian'] = model.fit_predict(X_GM)\n",
    "X_GM1 = X_GM.loc[:, X_GM.columns!= 'Gaussian']\n",
    "X_GM1"
   ]
  },
  {
   "cell_type": "code",
   "execution_count": 118,
   "id": "recreational-guidance",
   "metadata": {
    "ExecuteTime": {
     "end_time": "2021-08-29T01:20:34.513230Z",
     "start_time": "2021-08-29T01:20:34.489210Z"
    }
   },
   "outputs": [
    {
     "data": {
      "text/html": [
       "<div>\n",
       "<style scoped>\n",
       "    .dataframe tbody tr th:only-of-type {\n",
       "        vertical-align: middle;\n",
       "    }\n",
       "\n",
       "    .dataframe tbody tr th {\n",
       "        vertical-align: top;\n",
       "    }\n",
       "\n",
       "    .dataframe thead th {\n",
       "        text-align: right;\n",
       "    }\n",
       "</style>\n",
       "<table border=\"1\" class=\"dataframe\">\n",
       "  <thead>\n",
       "    <tr style=\"text-align: right;\">\n",
       "      <th></th>\n",
       "      <th>Comp_1</th>\n",
       "      <th>Comp_2</th>\n",
       "      <th>Gaussian</th>\n",
       "    </tr>\n",
       "  </thead>\n",
       "  <tbody>\n",
       "    <tr>\n",
       "      <th>0</th>\n",
       "      <td>-0.706336</td>\n",
       "      <td>-0.253193</td>\n",
       "      <td>1</td>\n",
       "    </tr>\n",
       "    <tr>\n",
       "      <th>1</th>\n",
       "      <td>-0.484977</td>\n",
       "      <td>-0.008823</td>\n",
       "      <td>1</td>\n",
       "    </tr>\n",
       "    <tr>\n",
       "      <th>2</th>\n",
       "      <td>-0.521172</td>\n",
       "      <td>-0.189187</td>\n",
       "      <td>1</td>\n",
       "    </tr>\n",
       "    <tr>\n",
       "      <th>3</th>\n",
       "      <td>-0.821644</td>\n",
       "      <td>-0.580906</td>\n",
       "      <td>1</td>\n",
       "    </tr>\n",
       "    <tr>\n",
       "      <th>4</th>\n",
       "      <td>-0.202546</td>\n",
       "      <td>-0.059467</td>\n",
       "      <td>1</td>\n",
       "    </tr>\n",
       "    <tr>\n",
       "      <th>...</th>\n",
       "      <td>...</td>\n",
       "      <td>...</td>\n",
       "      <td>...</td>\n",
       "    </tr>\n",
       "    <tr>\n",
       "      <th>173</th>\n",
       "      <td>0.739510</td>\n",
       "      <td>-0.471901</td>\n",
       "      <td>2</td>\n",
       "    </tr>\n",
       "    <tr>\n",
       "      <th>174</th>\n",
       "      <td>0.581781</td>\n",
       "      <td>-0.348366</td>\n",
       "      <td>2</td>\n",
       "    </tr>\n",
       "    <tr>\n",
       "      <th>175</th>\n",
       "      <td>0.626313</td>\n",
       "      <td>-0.546857</td>\n",
       "      <td>2</td>\n",
       "    </tr>\n",
       "    <tr>\n",
       "      <th>176</th>\n",
       "      <td>0.572991</td>\n",
       "      <td>-0.425516</td>\n",
       "      <td>2</td>\n",
       "    </tr>\n",
       "    <tr>\n",
       "      <th>177</th>\n",
       "      <td>0.701764</td>\n",
       "      <td>-0.513505</td>\n",
       "      <td>2</td>\n",
       "    </tr>\n",
       "  </tbody>\n",
       "</table>\n",
       "<p>178 rows × 3 columns</p>\n",
       "</div>"
      ],
      "text/plain": [
       "       Comp_1    Comp_2  Gaussian\n",
       "0   -0.706336 -0.253193         1\n",
       "1   -0.484977 -0.008823         1\n",
       "2   -0.521172 -0.189187         1\n",
       "3   -0.821644 -0.580906         1\n",
       "4   -0.202546 -0.059467         1\n",
       "..        ...       ...       ...\n",
       "173  0.739510 -0.471901         2\n",
       "174  0.581781 -0.348366         2\n",
       "175  0.626313 -0.546857         2\n",
       "176  0.572991 -0.425516         2\n",
       "177  0.701764 -0.513505         2\n",
       "\n",
       "[178 rows x 3 columns]"
      ]
     },
     "execution_count": 118,
     "metadata": {},
     "output_type": "execute_result"
    }
   ],
   "source": [
    "# Generar un modelo con dos componentes\n",
    "pca5 = PCA(n_components=2)\n",
    "# Ajustar el modelo a los datos\n",
    "pca_df5 = pca5.fit_transform(X_GM1)\n",
    "# Crear los dataframes respectivos\n",
    "pca_vinos5 = pd.DataFrame(data=pca_df5, columns=['Comp_1', 'Comp_2'])\n",
    "pca_graf5 = pd.concat([pca_vinos5, X_GM[['Gaussian']]], axis=1)\n",
    "\n",
    "pca_graf5"
   ]
  },
  {
   "cell_type": "code",
   "execution_count": 119,
   "id": "hungarian-administrator",
   "metadata": {
    "ExecuteTime": {
     "end_time": "2021-08-29T01:20:40.420086Z",
     "start_time": "2021-08-29T01:20:40.278813Z"
    }
   },
   "outputs": [
    {
     "data": {
      "text/plain": [
       "<matplotlib.collections.PathCollection at 0x28b072abdc0>"
      ]
     },
     "execution_count": 119,
     "metadata": {},
     "output_type": "execute_result"
    },
    {
     "data": {
      "image/png": "[encoded data removed]",
      "text/plain": [
       "<Figure size 432x432 with 1 Axes>"
      ]
     },
     "metadata": {
      "needs_background": "light"
     },
     "output_type": "display_data"
    }
   ],
   "source": [
    "fig = plt.figure(figsize=(6, 6))\n",
    "\n",
    "ax = fig.add_subplot(1, 1, 1)\n",
    "ax.set_xlabel('Componente 1')\n",
    "ax.set_ylabel('Componente 2')\n",
    "ax.set_title('Componentes principales')\n",
    "\n",
    "ax.scatter(pca_graf5.Comp_1,\n",
    "           pca_graf5.Comp_2,\n",
    "           c=pca_graf5.Gaussian,\n",
    "           s=50)"
   ]
  },
  {
   "cell_type": "code",
   "execution_count": null,
   "id": "imported-spouse",
   "metadata": {},
   "outputs": [],
   "source": []
  }
 ],
 "metadata": {
  "kernelspec": {
   "display_name": "Python 3",
   "language": "python",
   "name": "python3"
  },
  "language_info": {
   "codemirror_mode": {
    "name": "ipython",
    "version": 3
   },
   "file_extension": ".py",
   "mimetype": "text/x-python",
   "name": "python",
   "nbconvert_exporter": "python",
   "pygments_lexer": "ipython3",
   "version": "3.9.5"
  },
  "nbTranslate": {
   "displayLangs": [
    "*"
   ],
   "hotkey": "alt-t",
   "langInMainMenu": true,
   "sourceLang": "en",
   "targetLang": "fr",
   "useGoogleTranslate": true
  },
  "toc": {
   "base_numbering": 1,
   "nav_menu": {},
   "number_sections": true,
   "sideBar": true,
   "skip_h1_title": false,
   "title_cell": "Table of Contents",
   "title_sidebar": "Contents",
   "toc_cell": false,
   "toc_position": {
    "height": "calc(100% - 180px)",
    "left": "10px",
    "top": "150px",
    "width": "307.2px"
   },
   "toc_section_display": true,
   "toc_window_display": true
  },
  "varInspector": {
   "cols": {
    "lenName": 16,
    "lenType": 16,
    "lenVar": 40
   },
   "kernels_config": {
    "python": {
     "delete_cmd_postfix": "",
     "delete_cmd_prefix": "del ",
     "library": "var_list.py",
     "varRefreshCmd": "print(var_dic_list())"
    },
    "r": {
     "delete_cmd_postfix": ") ",
     "delete_cmd_prefix": "rm(",
     "library": "var_list.r",
     "varRefreshCmd": "cat(var_dic_list()) "
    }
   },
   "types_to_exclude": [
    "module",
    "function",
    "builtin_function_or_method",
    "instance",
    "_Feature"
   ],
   "window_display": false
  }
 },
 "nbformat": 4,
 "nbformat_minor": 5
}
