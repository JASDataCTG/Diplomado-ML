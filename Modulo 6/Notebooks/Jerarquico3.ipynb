{
 "cells": [
  {
   "cell_type": "code",
   "execution_count": 1,
   "id": "aging-adult",
   "metadata": {
    "ExecuteTime": {
     "end_time": "2021-09-02T19:44:01.889480Z",
     "start_time": "2021-09-02T19:44:01.350257Z"
    }
   },
   "outputs": [],
   "source": [
    "import pandas as pd\n",
    "import numpy as np\n",
    "import matplotlib.pyplot as plt\n",
    "%matplotlib inline"
   ]
  },
  {
   "cell_type": "code",
   "execution_count": 2,
   "id": "metallic-matter",
   "metadata": {
    "ExecuteTime": {
     "end_time": "2021-09-02T19:47:33.966042Z",
     "start_time": "2021-09-02T19:47:33.082586Z"
    }
   },
   "outputs": [],
   "source": [
    "url = 'https://raw.githubusercontent.com/JASDataCTG/Diplomado-ML/main/Modulo%206/Datasets/estudiantes.csv'\n",
    "\n",
    "df = pd.read_csv(url,index_col=0)"
   ]
  },
  {
   "cell_type": "code",
   "execution_count": 3,
   "id": "cubic-state",
   "metadata": {
    "ExecuteTime": {
     "end_time": "2021-09-02T19:47:50.839491Z",
     "start_time": "2021-09-02T19:47:50.801485Z"
    }
   },
   "outputs": [
    {
     "data": {
      "text/html": [
       "<div>\n",
       "<style scoped>\n",
       "    .dataframe tbody tr th:only-of-type {\n",
       "        vertical-align: middle;\n",
       "    }\n",
       "\n",
       "    .dataframe tbody tr th {\n",
       "        vertical-align: top;\n",
       "    }\n",
       "\n",
       "    .dataframe thead th {\n",
       "        text-align: right;\n",
       "    }\n",
       "</style>\n",
       "<table border=\"1\" class=\"dataframe\">\n",
       "  <thead>\n",
       "    <tr style=\"text-align: right;\">\n",
       "      <th></th>\n",
       "      <th>Matematicas</th>\n",
       "      <th>Ciencias</th>\n",
       "      <th>Espanol</th>\n",
       "      <th>Historia</th>\n",
       "      <th>Deportes</th>\n",
       "    </tr>\n",
       "    <tr>\n",
       "      <th>Estudiante</th>\n",
       "      <th></th>\n",
       "      <th></th>\n",
       "      <th></th>\n",
       "      <th></th>\n",
       "      <th></th>\n",
       "    </tr>\n",
       "  </thead>\n",
       "  <tbody>\n",
       "    <tr>\n",
       "      <th>Lucia</th>\n",
       "      <td>7.0</td>\n",
       "      <td>6.5</td>\n",
       "      <td>9.2</td>\n",
       "      <td>8.6</td>\n",
       "      <td>8.0</td>\n",
       "    </tr>\n",
       "    <tr>\n",
       "      <th>Pedro</th>\n",
       "      <td>7.5</td>\n",
       "      <td>9.4</td>\n",
       "      <td>7.3</td>\n",
       "      <td>7.0</td>\n",
       "      <td>7.0</td>\n",
       "    </tr>\n",
       "    <tr>\n",
       "      <th>Ines</th>\n",
       "      <td>7.6</td>\n",
       "      <td>9.2</td>\n",
       "      <td>8.0</td>\n",
       "      <td>8.0</td>\n",
       "      <td>7.5</td>\n",
       "    </tr>\n",
       "    <tr>\n",
       "      <th>Luis</th>\n",
       "      <td>5.0</td>\n",
       "      <td>6.5</td>\n",
       "      <td>6.5</td>\n",
       "      <td>7.0</td>\n",
       "      <td>9.0</td>\n",
       "    </tr>\n",
       "    <tr>\n",
       "      <th>Andres</th>\n",
       "      <td>6.0</td>\n",
       "      <td>6.0</td>\n",
       "      <td>7.8</td>\n",
       "      <td>8.9</td>\n",
       "      <td>7.3</td>\n",
       "    </tr>\n",
       "  </tbody>\n",
       "</table>\n",
       "</div>"
      ],
      "text/plain": [
       "            Matematicas  Ciencias  Espanol  Historia  Deportes\n",
       "Estudiante                                                    \n",
       "Lucia               7.0       6.5      9.2       8.6       8.0\n",
       "Pedro               7.5       9.4      7.3       7.0       7.0\n",
       "Ines                7.6       9.2      8.0       8.0       7.5\n",
       "Luis                5.0       6.5      6.5       7.0       9.0\n",
       "Andres              6.0       6.0      7.8       8.9       7.3"
      ]
     },
     "execution_count": 3,
     "metadata": {},
     "output_type": "execute_result"
    }
   ],
   "source": [
    "df.head()"
   ]
  },
  {
   "cell_type": "code",
   "execution_count": 4,
   "id": "incomplete-majority",
   "metadata": {
    "ExecuteTime": {
     "end_time": "2021-09-02T19:49:43.652880Z",
     "start_time": "2021-09-02T19:49:43.524852Z"
    }
   },
   "outputs": [
    {
     "data": {
      "text/html": [
       "<div>\n",
       "<style scoped>\n",
       "    .dataframe tbody tr th:only-of-type {\n",
       "        vertical-align: middle;\n",
       "    }\n",
       "\n",
       "    .dataframe tbody tr th {\n",
       "        vertical-align: top;\n",
       "    }\n",
       "\n",
       "    .dataframe thead th {\n",
       "        text-align: right;\n",
       "    }\n",
       "</style>\n",
       "<table border=\"1\" class=\"dataframe\">\n",
       "  <thead>\n",
       "    <tr style=\"text-align: right;\">\n",
       "      <th></th>\n",
       "      <th>Matematicas</th>\n",
       "      <th>Ciencias</th>\n",
       "      <th>Espanol</th>\n",
       "      <th>Historia</th>\n",
       "      <th>Deportes</th>\n",
       "    </tr>\n",
       "  </thead>\n",
       "  <tbody>\n",
       "    <tr>\n",
       "      <th>count</th>\n",
       "      <td>10.000000</td>\n",
       "      <td>10.000000</td>\n",
       "      <td>10.000000</td>\n",
       "      <td>10.000000</td>\n",
       "      <td>10.00000</td>\n",
       "    </tr>\n",
       "    <tr>\n",
       "      <th>mean</th>\n",
       "      <td>6.790000</td>\n",
       "      <td>7.650000</td>\n",
       "      <td>7.740000</td>\n",
       "      <td>7.900000</td>\n",
       "      <td>7.42000</td>\n",
       "    </tr>\n",
       "    <tr>\n",
       "      <th>std</th>\n",
       "      <td>0.951548</td>\n",
       "      <td>1.609865</td>\n",
       "      <td>0.860491</td>\n",
       "      <td>1.121507</td>\n",
       "      <td>0.92832</td>\n",
       "    </tr>\n",
       "    <tr>\n",
       "      <th>min</th>\n",
       "      <td>5.000000</td>\n",
       "      <td>6.000000</td>\n",
       "      <td>6.500000</td>\n",
       "      <td>5.500000</td>\n",
       "      <td>6.00000</td>\n",
       "    </tr>\n",
       "    <tr>\n",
       "      <th>25%</th>\n",
       "      <td>6.075000</td>\n",
       "      <td>6.425000</td>\n",
       "      <td>7.350000</td>\n",
       "      <td>7.250000</td>\n",
       "      <td>7.00000</td>\n",
       "    </tr>\n",
       "    <tr>\n",
       "      <th>50%</th>\n",
       "      <td>6.900000</td>\n",
       "      <td>6.850000</td>\n",
       "      <td>7.750000</td>\n",
       "      <td>8.000000</td>\n",
       "      <td>7.25000</td>\n",
       "    </tr>\n",
       "    <tr>\n",
       "      <th>75%</th>\n",
       "      <td>7.575000</td>\n",
       "      <td>9.350000</td>\n",
       "      <td>8.150000</td>\n",
       "      <td>8.825000</td>\n",
       "      <td>7.87500</td>\n",
       "    </tr>\n",
       "    <tr>\n",
       "      <th>max</th>\n",
       "      <td>7.900000</td>\n",
       "      <td>9.700000</td>\n",
       "      <td>9.200000</td>\n",
       "      <td>9.000000</td>\n",
       "      <td>9.00000</td>\n",
       "    </tr>\n",
       "  </tbody>\n",
       "</table>\n",
       "</div>"
      ],
      "text/plain": [
       "       Matematicas   Ciencias    Espanol   Historia  Deportes\n",
       "count    10.000000  10.000000  10.000000  10.000000  10.00000\n",
       "mean      6.790000   7.650000   7.740000   7.900000   7.42000\n",
       "std       0.951548   1.609865   0.860491   1.121507   0.92832\n",
       "min       5.000000   6.000000   6.500000   5.500000   6.00000\n",
       "25%       6.075000   6.425000   7.350000   7.250000   7.00000\n",
       "50%       6.900000   6.850000   7.750000   8.000000   7.25000\n",
       "75%       7.575000   9.350000   8.150000   8.825000   7.87500\n",
       "max       7.900000   9.700000   9.200000   9.000000   9.00000"
      ]
     },
     "execution_count": 4,
     "metadata": {},
     "output_type": "execute_result"
    }
   ],
   "source": [
    "df.describe()"
   ]
  },
  {
   "cell_type": "code",
   "execution_count": 5,
   "id": "cutting-livestock",
   "metadata": {
    "ExecuteTime": {
     "end_time": "2021-09-02T19:52:48.662513Z",
     "start_time": "2021-09-02T19:52:48.644508Z"
    }
   },
   "outputs": [
    {
     "data": {
      "text/plain": [
       "array([[7. , 6.5, 9.2, 8.6, 8. ],\n",
       "       [7.5, 9.4, 7.3, 7. , 7. ],\n",
       "       [7.6, 9.2, 8. , 8. , 7.5],\n",
       "       [5. , 6.5, 6.5, 7. , 9. ],\n",
       "       [6. , 6. , 7.8, 8.9, 7.3],\n",
       "       [7.8, 9.6, 7.7, 8. , 6.5],\n",
       "       [6.3, 6.4, 8.2, 9. , 7.2],\n",
       "       [7.9, 9.7, 7.5, 8. , 6. ],\n",
       "       [6. , 6. , 6.5, 5.5, 8.7],\n",
       "       [6.8, 7.2, 8.7, 9. , 7. ]])"
      ]
     },
     "execution_count": 5,
     "metadata": {},
     "output_type": "execute_result"
    }
   ],
   "source": [
    "notas = df.iloc[:, [0, 1, 2, 3, 4]].values\n",
    "notas"
   ]
  },
  {
   "cell_type": "code",
   "execution_count": 6,
   "id": "rising-integer",
   "metadata": {
    "ExecuteTime": {
     "end_time": "2021-09-02T19:55:54.779191Z",
     "start_time": "2021-09-02T19:55:54.472973Z"
    }
   },
   "outputs": [],
   "source": [
    "import scipy.cluster.hierarchy as sch\n",
    "from scipy.cluster.hierarchy import dendrogram, linkage, fcluster"
   ]
  },
  {
   "cell_type": "code",
   "execution_count": 18,
   "id": "dependent-litigation",
   "metadata": {
    "ExecuteTime": {
     "end_time": "2021-09-02T20:31:33.294375Z",
     "start_time": "2021-09-02T20:31:33.286373Z"
    }
   },
   "outputs": [],
   "source": [
    "clus_je = linkage(df, 'ward')"
   ]
  },
  {
   "cell_type": "code",
   "execution_count": 19,
   "id": "touched-phoenix",
   "metadata": {
    "ExecuteTime": {
     "end_time": "2021-09-02T20:31:38.268063Z",
     "start_time": "2021-09-02T20:31:38.261055Z"
    }
   },
   "outputs": [
    {
     "data": {
      "text/plain": [
       "array([[ 5.        ,  7.        ,  0.55677644,  2.        ],\n",
       "       [ 4.        ,  6.        ,  0.65574385,  2.        ],\n",
       "       [ 1.        ,  2.        ,  1.33790882,  2.        ],\n",
       "       [ 0.        ,  9.        ,  1.39283883,  2.        ],\n",
       "       [10.        , 12.        ,  1.71172428,  4.        ],\n",
       "       [ 3.        ,  8.        ,  1.89472953,  2.        ],\n",
       "       [11.        , 13.        ,  1.98620241,  4.        ],\n",
       "       [15.        , 16.        ,  6.34415742,  6.        ],\n",
       "       [14.        , 17.        ,  8.67436837, 10.        ]])"
      ]
     },
     "execution_count": 19,
     "metadata": {},
     "output_type": "execute_result"
    }
   ],
   "source": [
    "clus_je"
   ]
  },
  {
   "cell_type": "code",
   "execution_count": 20,
   "id": "cognitive-involvement",
   "metadata": {
    "ExecuteTime": {
     "end_time": "2021-09-02T20:31:42.015839Z",
     "start_time": "2021-09-02T20:31:42.004837Z"
    }
   },
   "outputs": [
    {
     "data": {
      "text/plain": [
       "(9, 4)"
      ]
     },
     "execution_count": 20,
     "metadata": {},
     "output_type": "execute_result"
    }
   ],
   "source": [
    "clus_je.shape"
   ]
  },
  {
   "cell_type": "code",
   "execution_count": 21,
   "id": "motivated-republican",
   "metadata": {
    "ExecuteTime": {
     "end_time": "2021-09-02T20:31:44.610235Z",
     "start_time": "2021-09-02T20:31:44.488950Z"
    }
   },
   "outputs": [
    {
     "data": {
      "image/png": "[encoded data removed]",
      "text/plain": [
       "<Figure size 432x288 with 1 Axes>"
      ]
     },
     "metadata": {
      "needs_background": "light"
     },
     "output_type": "display_data"
    }
   ],
   "source": [
    "dendograma = sch.dendrogram(clus_je)"
   ]
  },
  {
   "cell_type": "code",
   "execution_count": 22,
   "id": "viral-special",
   "metadata": {
    "ExecuteTime": {
     "end_time": "2021-09-02T20:31:47.256509Z",
     "start_time": "2021-09-02T20:31:47.239485Z"
    }
   },
   "outputs": [],
   "source": [
    "cluster = fcluster(clus_je, t=2, criterion='distance')"
   ]
  },
  {
   "cell_type": "code",
   "execution_count": 23,
   "id": "electrical-cleaning",
   "metadata": {
    "ExecuteTime": {
     "end_time": "2021-09-02T20:31:48.065569Z",
     "start_time": "2021-09-02T20:31:48.060566Z"
    }
   },
   "outputs": [
    {
     "name": "stdout",
     "output_type": "stream",
     "text": [
      "[3 1 1 2 3 1 3 1 2 3]\n"
     ]
    }
   ],
   "source": [
    "print(cluster)"
   ]
  },
  {
   "cell_type": "code",
   "execution_count": 24,
   "id": "moral-egyptian",
   "metadata": {
    "ExecuteTime": {
     "end_time": "2021-09-02T20:31:49.613236Z",
     "start_time": "2021-09-02T20:31:49.604237Z"
    }
   },
   "outputs": [
    {
     "name": "stdout",
     "output_type": "stream",
     "text": [
      "[2 1 1 2 2 1 2 1 2 2]\n"
     ]
    }
   ],
   "source": [
    "cluster1 = fcluster(clus_je, t=7, criterion='distance')\n",
    "print(cluster1)"
   ]
  },
  {
   "cell_type": "code",
   "execution_count": 25,
   "id": "sacred-print",
   "metadata": {
    "ExecuteTime": {
     "end_time": "2021-09-02T20:31:53.066595Z",
     "start_time": "2021-09-02T20:31:53.063594Z"
    }
   },
   "outputs": [],
   "source": [
    "df['Cluster']=cluster"
   ]
  },
  {
   "cell_type": "code",
   "execution_count": 17,
   "id": "hollywood-controversy",
   "metadata": {
    "ExecuteTime": {
     "end_time": "2021-09-02T20:22:14.022789Z",
     "start_time": "2021-09-02T20:22:13.990782Z"
    }
   },
   "outputs": [
    {
     "data": {
      "text/html": [
       "<div>\n",
       "<style scoped>\n",
       "    .dataframe tbody tr th:only-of-type {\n",
       "        vertical-align: middle;\n",
       "    }\n",
       "\n",
       "    .dataframe tbody tr th {\n",
       "        vertical-align: top;\n",
       "    }\n",
       "\n",
       "    .dataframe thead th {\n",
       "        text-align: right;\n",
       "    }\n",
       "</style>\n",
       "<table border=\"1\" class=\"dataframe\">\n",
       "  <thead>\n",
       "    <tr style=\"text-align: right;\">\n",
       "      <th></th>\n",
       "      <th>Matematicas</th>\n",
       "      <th>Ciencias</th>\n",
       "      <th>Espanol</th>\n",
       "      <th>Historia</th>\n",
       "      <th>Deportes</th>\n",
       "      <th>Cluster</th>\n",
       "    </tr>\n",
       "    <tr>\n",
       "      <th>Estudiante</th>\n",
       "      <th></th>\n",
       "      <th></th>\n",
       "      <th></th>\n",
       "      <th></th>\n",
       "      <th></th>\n",
       "      <th></th>\n",
       "    </tr>\n",
       "  </thead>\n",
       "  <tbody>\n",
       "    <tr>\n",
       "      <th>Lucia</th>\n",
       "      <td>7.0</td>\n",
       "      <td>6.5</td>\n",
       "      <td>9.2</td>\n",
       "      <td>8.6</td>\n",
       "      <td>8.0</td>\n",
       "      <td>3</td>\n",
       "    </tr>\n",
       "    <tr>\n",
       "      <th>Pedro</th>\n",
       "      <td>7.5</td>\n",
       "      <td>9.4</td>\n",
       "      <td>7.3</td>\n",
       "      <td>7.0</td>\n",
       "      <td>7.0</td>\n",
       "      <td>1</td>\n",
       "    </tr>\n",
       "    <tr>\n",
       "      <th>Ines</th>\n",
       "      <td>7.6</td>\n",
       "      <td>9.2</td>\n",
       "      <td>8.0</td>\n",
       "      <td>8.0</td>\n",
       "      <td>7.5</td>\n",
       "      <td>1</td>\n",
       "    </tr>\n",
       "    <tr>\n",
       "      <th>Luis</th>\n",
       "      <td>5.0</td>\n",
       "      <td>6.5</td>\n",
       "      <td>6.5</td>\n",
       "      <td>7.0</td>\n",
       "      <td>9.0</td>\n",
       "      <td>2</td>\n",
       "    </tr>\n",
       "    <tr>\n",
       "      <th>Andres</th>\n",
       "      <td>6.0</td>\n",
       "      <td>6.0</td>\n",
       "      <td>7.8</td>\n",
       "      <td>8.9</td>\n",
       "      <td>7.3</td>\n",
       "      <td>3</td>\n",
       "    </tr>\n",
       "    <tr>\n",
       "      <th>Ana</th>\n",
       "      <td>7.8</td>\n",
       "      <td>9.6</td>\n",
       "      <td>7.7</td>\n",
       "      <td>8.0</td>\n",
       "      <td>6.5</td>\n",
       "      <td>1</td>\n",
       "    </tr>\n",
       "    <tr>\n",
       "      <th>Carlos</th>\n",
       "      <td>6.3</td>\n",
       "      <td>6.4</td>\n",
       "      <td>8.2</td>\n",
       "      <td>9.0</td>\n",
       "      <td>7.2</td>\n",
       "      <td>3</td>\n",
       "    </tr>\n",
       "    <tr>\n",
       "      <th>Jose</th>\n",
       "      <td>7.9</td>\n",
       "      <td>9.7</td>\n",
       "      <td>7.5</td>\n",
       "      <td>8.0</td>\n",
       "      <td>6.0</td>\n",
       "      <td>1</td>\n",
       "    </tr>\n",
       "    <tr>\n",
       "      <th>Sonia</th>\n",
       "      <td>6.0</td>\n",
       "      <td>6.0</td>\n",
       "      <td>6.5</td>\n",
       "      <td>5.5</td>\n",
       "      <td>8.7</td>\n",
       "      <td>2</td>\n",
       "    </tr>\n",
       "    <tr>\n",
       "      <th>Maria</th>\n",
       "      <td>6.8</td>\n",
       "      <td>7.2</td>\n",
       "      <td>8.7</td>\n",
       "      <td>9.0</td>\n",
       "      <td>7.0</td>\n",
       "      <td>3</td>\n",
       "    </tr>\n",
       "  </tbody>\n",
       "</table>\n",
       "</div>"
      ],
      "text/plain": [
       "            Matematicas  Ciencias  Espanol  Historia  Deportes  Cluster\n",
       "Estudiante                                                             \n",
       "Lucia               7.0       6.5      9.2       8.6       8.0        3\n",
       "Pedro               7.5       9.4      7.3       7.0       7.0        1\n",
       "Ines                7.6       9.2      8.0       8.0       7.5        1\n",
       "Luis                5.0       6.5      6.5       7.0       9.0        2\n",
       "Andres              6.0       6.0      7.8       8.9       7.3        3\n",
       "Ana                 7.8       9.6      7.7       8.0       6.5        1\n",
       "Carlos              6.3       6.4      8.2       9.0       7.2        3\n",
       "Jose                7.9       9.7      7.5       8.0       6.0        1\n",
       "Sonia               6.0       6.0      6.5       5.5       8.7        2\n",
       "Maria               6.8       7.2      8.7       9.0       7.0        3"
      ]
     },
     "execution_count": 17,
     "metadata": {},
     "output_type": "execute_result"
    }
   ],
   "source": [
    "df"
   ]
  },
  {
   "cell_type": "code",
   "execution_count": null,
   "id": "international-right",
   "metadata": {},
   "outputs": [],
   "source": []
  }
 ],
 "metadata": {
  "kernelspec": {
   "display_name": "Python 3",
   "language": "python",
   "name": "python3"
  },
  "language_info": {
   "codemirror_mode": {
    "name": "ipython",
    "version": 3
   },
   "file_extension": ".py",
   "mimetype": "text/x-python",
   "name": "python",
   "nbconvert_exporter": "python",
   "pygments_lexer": "ipython3",
   "version": "3.9.5"
  },
  "nbTranslate": {
   "displayLangs": [
    "*"
   ],
   "hotkey": "alt-t",
   "langInMainMenu": true,
   "sourceLang": "en",
   "targetLang": "fr",
   "useGoogleTranslate": true
  },
  "toc": {
   "base_numbering": 1,
   "nav_menu": {},
   "number_sections": true,
   "sideBar": true,
   "skip_h1_title": false,
   "title_cell": "Table of Contents",
   "title_sidebar": "Contents",
   "toc_cell": false,
   "toc_position": {},
   "toc_section_display": true,
   "toc_window_display": false
  },
  "varInspector": {
   "cols": {
    "lenName": 16,
    "lenType": 16,
    "lenVar": 40
   },
   "kernels_config": {
    "python": {
     "delete_cmd_postfix": "",
     "delete_cmd_prefix": "del ",
     "library": "var_list.py",
     "varRefreshCmd": "print(var_dic_list())"
    },
    "r": {
     "delete_cmd_postfix": ") ",
     "delete_cmd_prefix": "rm(",
     "library": "var_list.r",
     "varRefreshCmd": "cat(var_dic_list()) "
    }
   },
   "types_to_exclude": [
    "module",
    "function",
    "builtin_function_or_method",
    "instance",
    "_Feature"
   ],
   "window_display": false
  }
 },
 "nbformat": 4,
 "nbformat_minor": 5
}
