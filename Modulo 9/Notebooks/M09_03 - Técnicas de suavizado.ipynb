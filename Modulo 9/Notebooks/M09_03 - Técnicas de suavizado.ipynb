{
 "cells": [
  {
   "cell_type": "markdown",
   "metadata": {},
   "source": [
    "# Métodos de suavizado de series de tiempo\n",
    "## Promedio móvil\n",
    "El promedio móvil se construye sustituyendo cada valor de una serie por la media obtenida con esa observación, y valores anteriores y posteriores\n",
    "\n",
    "![Promedio móvil](promov.png)\n",
    "\n",
    "## Promedio móvil ponderado\n",
    "Para mostrar el uso de éste método, se utilizará la primera parte del ejemplo anterior de la venta de gasolina. El método consiste en asignar un factor de ponderación distinto para cada dato. Generalmente, a la observación o dato más reciente a partir del que se quiere hacer el pronóstico, se le asigna el mayor peso, y este peso disminuye en los valores de datos más antiguos.\n",
    "\n",
    "![Promedio móvil ponderado](promovpon.png)\n",
    "\n",
    "## Suavizamiento exponencial\n",
    "El suavizamiento exponencial emplea un promedio ponderado de la serie de tiempo pasada como pronóstico; es un caso especial del método de promedios móviles ponderados en el cual sólo se selecciona un peso o factor de ponderación: el de la observación más reciente. En la práctica comenzamos haciendo que F1, el primer valor de la serie de valores uniformados, sea igual a $Y_1$.\n",
    "\n",
    "$F_{t+1}=\\alpha Y_{t}(1-\\alpha)F_1$\n",
    "\n",
    "![Suavizado](suavizamiento.png)"
   ]
  },
  {
   "cell_type": "code",
   "execution_count": null,
   "metadata": {
    "ExecuteTime": {
     "end_time": "2021-09-30T15:52:58.749852Z",
     "start_time": "2021-09-30T15:52:48.405531Z"
    },
    "executionInfo": {
     "elapsed": 1554,
     "status": "ok",
     "timestamp": 1608965295295,
     "user": {
      "displayName": "freeai time",
      "photoUrl": "https://lh3.googleusercontent.com/a-/AOh14GgxvlF_Oni7ZMdvrndxf2178ORhoNGeclnb7GQ6=s64",
      "userId": "11272871337215191422"
     },
     "user_tz": -330
    },
    "id": "NXqL39DszVI5"
   },
   "outputs": [],
   "source": [
    "# Importar los modulos necesarios\n",
    "import pandas as pd\n",
    "import matplotlib.pyplot as plt\n",
    "import seaborn as sns\n",
    "import datetime"
   ]
  },
  {
   "cell_type": "code",
   "execution_count": null,
   "metadata": {
    "ExecuteTime": {
     "end_time": "2021-09-30T15:52:59.367994Z",
     "start_time": "2021-09-30T15:52:58.768859Z"
    },
    "colab": {
     "base_uri": "https://localhost:8080/",
     "height": 198
    },
    "executionInfo": {
     "elapsed": 980,
     "status": "ok",
     "timestamp": 1608965331326,
     "user": {
      "displayName": "freeai time",
      "photoUrl": "https://lh3.googleusercontent.com/a-/AOh14GgxvlF_Oni7ZMdvrndxf2178ORhoNGeclnb7GQ6=s64",
      "userId": "11272871337215191422"
     },
     "user_tz": -330
    },
    "id": "DGIihWyKzgZx",
    "outputId": "3e75e5f8-297f-4c25-8a73-302e37b8381c"
   },
   "outputs": [],
   "source": [
    "# Cargar los datos\n",
    "url='https://raw.githubusercontent.com/JASDataCTG/Diplomado-ML/main/Modulo%209/Datasets/pasajeros.csv'\n",
    "df = pd.read_csv(url)\n",
    "df.head()"
   ]
  },
  {
   "cell_type": "code",
   "execution_count": null,
   "metadata": {
    "ExecuteTime": {
     "end_time": "2021-09-30T15:52:59.429008Z",
     "start_time": "2021-09-30T15:52:59.385001Z"
    },
    "colab": {
     "base_uri": "https://localhost:8080/"
    },
    "executionInfo": {
     "elapsed": 983,
     "status": "ok",
     "timestamp": 1608965354607,
     "user": {
      "displayName": "freeai time",
      "photoUrl": "https://lh3.googleusercontent.com/a-/AOh14GgxvlF_Oni7ZMdvrndxf2178ORhoNGeclnb7GQ6=s64",
      "userId": "11272871337215191422"
     },
     "user_tz": -330
    },
    "id": "DrqXhKQTzpRX",
    "outputId": "f08df420-eefe-423c-e446-484f4fe8a57e"
   },
   "outputs": [],
   "source": [
    "df.info()"
   ]
  },
  {
   "cell_type": "code",
   "execution_count": null,
   "metadata": {
    "ExecuteTime": {
     "end_time": "2021-09-30T15:53:13.251120Z",
     "start_time": "2021-09-30T15:53:13.219114Z"
    },
    "colab": {
     "base_uri": "https://localhost:8080/"
    },
    "executionInfo": {
     "elapsed": 955,
     "status": "ok",
     "timestamp": 1608965385463,
     "user": {
      "displayName": "freeai time",
      "photoUrl": "https://lh3.googleusercontent.com/a-/AOh14GgxvlF_Oni7ZMdvrndxf2178ORhoNGeclnb7GQ6=s64",
      "userId": "11272871337215191422"
     },
     "user_tz": -330
    },
    "id": "bXyrQ5SYzvBf",
    "outputId": "b9006002-5c34-4737-c3f8-b907cb3f2a7e"
   },
   "outputs": [],
   "source": [
    "df['mes'] = pd.to_datetime(df['mes'])\n",
    "df.dtypes"
   ]
  },
  {
   "cell_type": "code",
   "execution_count": null,
   "metadata": {
    "ExecuteTime": {
     "end_time": "2021-09-30T15:53:15.143547Z",
     "start_time": "2021-09-30T15:53:14.559415Z"
    },
    "colab": {
     "base_uri": "https://localhost:8080/",
     "height": 483
    },
    "executionInfo": {
     "elapsed": 1324,
     "status": "ok",
     "timestamp": 1608965497325,
     "user": {
      "displayName": "freeai time",
      "photoUrl": "https://lh3.googleusercontent.com/a-/AOh14GgxvlF_Oni7ZMdvrndxf2178ORhoNGeclnb7GQ6=s64",
      "userId": "11272871337215191422"
     },
     "user_tz": -330
    },
    "id": "zlezRVV7z2i7",
    "outputId": "8a92c1b3-b772-40fa-ca41-20d89e272510"
   },
   "outputs": [],
   "source": [
    "# Visualización\n",
    "plt.figure(figsize=(15,8))\n",
    "plt.plot(df['mes'],df['pasajeros'],'go:',markerfacecolor='w')\n",
    "\n",
    "plt.legend(['Datos reales'])\n",
    "plt.show()"
   ]
  },
  {
   "cell_type": "code",
   "execution_count": null,
   "metadata": {
    "ExecuteTime": {
     "end_time": "2021-09-30T15:53:15.445615Z",
     "start_time": "2021-09-30T15:53:15.423609Z"
    },
    "executionInfo": {
     "elapsed": 924,
     "status": "ok",
     "timestamp": 1608965675116,
     "user": {
      "displayName": "freeai time",
      "photoUrl": "https://lh3.googleusercontent.com/a-/AOh14GgxvlF_Oni7ZMdvrndxf2178ORhoNGeclnb7GQ6=s64",
      "userId": "11272871337215191422"
     },
     "user_tz": -330
    },
    "id": "0AaGj2Uuz-Pf"
   },
   "outputs": [],
   "source": [
    "# Dividir los datos en conjuntos de entrenamiento y validación\n",
    "date = '2016-12-01'\n",
    "df_train = df[df['mes'] <= datetime.datetime.strptime(date,'%Y-%m-%d')]\n",
    "df_test = df[df['mes'] > datetime.datetime.strptime(date,'%Y-%m-%d')]"
   ]
  },
  {
   "cell_type": "code",
   "execution_count": null,
   "metadata": {
    "ExecuteTime": {
     "end_time": "2021-09-30T15:53:16.681893Z",
     "start_time": "2021-09-30T15:53:16.668889Z"
    },
    "colab": {
     "base_uri": "https://localhost:8080/",
     "height": 198
    },
    "executionInfo": {
     "elapsed": 933,
     "status": "ok",
     "timestamp": 1608965647877,
     "user": {
      "displayName": "freeai time",
      "photoUrl": "https://lh3.googleusercontent.com/a-/AOh14GgxvlF_Oni7ZMdvrndxf2178ORhoNGeclnb7GQ6=s64",
      "userId": "11272871337215191422"
     },
     "user_tz": -330
    },
    "id": "ScgTOb7v0uRA",
    "outputId": "ac0cbec8-2c16-4f67-997c-f66376b66db5"
   },
   "outputs": [],
   "source": [
    "df_train.tail()"
   ]
  },
  {
   "cell_type": "code",
   "execution_count": null,
   "metadata": {
    "ExecuteTime": {
     "end_time": "2021-09-30T15:53:17.600100Z",
     "start_time": "2021-09-30T15:53:17.591099Z"
    },
    "colab": {
     "base_uri": "https://localhost:8080/",
     "height": 198
    },
    "executionInfo": {
     "elapsed": 983,
     "status": "ok",
     "timestamp": 1608965683392,
     "user": {
      "displayName": "freeai time",
      "photoUrl": "https://lh3.googleusercontent.com/a-/AOh14GgxvlF_Oni7ZMdvrndxf2178ORhoNGeclnb7GQ6=s64",
      "userId": "11272871337215191422"
     },
     "user_tz": -330
    },
    "id": "S9a70Hf00vOT",
    "outputId": "2ad36df7-f821-4e54-cce5-ea202bff7b6f"
   },
   "outputs": [],
   "source": [
    "df_test.head()"
   ]
  },
  {
   "cell_type": "code",
   "execution_count": null,
   "metadata": {
    "ExecuteTime": {
     "end_time": "2021-09-30T15:53:19.706575Z",
     "start_time": "2021-09-30T15:53:19.485524Z"
    },
    "colab": {
     "base_uri": "https://localhost:8080/",
     "height": 483
    },
    "executionInfo": {
     "elapsed": 1340,
     "status": "ok",
     "timestamp": 1608965748829,
     "user": {
      "displayName": "freeai time",
      "photoUrl": "https://lh3.googleusercontent.com/a-/AOh14GgxvlF_Oni7ZMdvrndxf2178ORhoNGeclnb7GQ6=s64",
      "userId": "11272871337215191422"
     },
     "user_tz": -330
    },
    "id": "oBIpbPKe0_PQ",
    "outputId": "917cb05e-0d3f-418e-f137-4db1b595caf8"
   },
   "outputs": [],
   "source": [
    "# visualzation\n",
    "plt.figure(figsize=(15,8))\n",
    "plt.plot(df_train['mes'],df_train['pasajeros'],'go:',markerfacecolor='w')\n",
    "plt.plot(df_test['mes'],df_test['pasajeros'],'bo:',markerfacecolor='w')\n",
    "\n",
    "plt.legend(['Datos de entrenamiento','Datos de validación'])\n",
    "plt.show()"
   ]
  },
  {
   "cell_type": "markdown",
   "metadata": {
    "id": "HiP2Md1U1_OS"
   },
   "source": [
    "# Pronósticos utilizando métodos de suavizado\n",
    "## Naive forecasting\n",
    "$Y_{t+1} = Y_t$"
   ]
  },
  {
   "cell_type": "code",
   "execution_count": null,
   "metadata": {
    "ExecuteTime": {
     "end_time": "2021-09-30T15:54:22.794782Z",
     "start_time": "2021-09-30T15:54:22.788782Z"
    },
    "colab": {
     "base_uri": "https://localhost:8080/"
    },
    "executionInfo": {
     "elapsed": 921,
     "status": "ok",
     "timestamp": 1608966058628,
     "user": {
      "displayName": "freeai time",
      "photoUrl": "https://lh3.googleusercontent.com/a-/AOh14GgxvlF_Oni7ZMdvrndxf2178ORhoNGeclnb7GQ6=s64",
      "userId": "11272871337215191422"
     },
     "user_tz": -330
    },
    "id": "TRwkAVGz1IqI",
    "outputId": "79349871-4566-4619-9da4-2e38efaaf9d1",
    "scrolled": true
   },
   "outputs": [],
   "source": [
    "df_train['valor_ajustado'] = df_train['pasajeros'].shift()"
   ]
  },
  {
   "cell_type": "code",
   "execution_count": null,
   "metadata": {
    "ExecuteTime": {
     "end_time": "2021-09-30T15:54:29.128214Z",
     "start_time": "2021-09-30T15:54:29.111205Z"
    },
    "colab": {
     "base_uri": "https://localhost:8080/",
     "height": 198
    },
    "executionInfo": {
     "elapsed": 974,
     "status": "ok",
     "timestamp": 1608966065385,
     "user": {
      "displayName": "freeai time",
      "photoUrl": "https://lh3.googleusercontent.com/a-/AOh14GgxvlF_Oni7ZMdvrndxf2178ORhoNGeclnb7GQ6=s64",
      "userId": "11272871337215191422"
     },
     "user_tz": -330
    },
    "id": "G54iblGQ2KBw",
    "outputId": "72a68690-8f9c-4f56-a03e-1e7a7293909b"
   },
   "outputs": [],
   "source": [
    "df_train.head()"
   ]
  },
  {
   "cell_type": "code",
   "execution_count": null,
   "metadata": {
    "ExecuteTime": {
     "end_time": "2021-09-30T15:54:36.971973Z",
     "start_time": "2021-09-30T15:54:36.957971Z"
    },
    "colab": {
     "base_uri": "https://localhost:8080/",
     "height": 198
    },
    "executionInfo": {
     "elapsed": 966,
     "status": "ok",
     "timestamp": 1608966090963,
     "user": {
      "displayName": "freeai time",
      "photoUrl": "https://lh3.googleusercontent.com/a-/AOh14GgxvlF_Oni7ZMdvrndxf2178ORhoNGeclnb7GQ6=s64",
      "userId": "11272871337215191422"
     },
     "user_tz": -330
    },
    "id": "GNZFI_vc2cbB",
    "outputId": "11d6a21a-2e24-4231-f0b2-aa712522e24a"
   },
   "outputs": [],
   "source": [
    "df_train.tail()"
   ]
  },
  {
   "cell_type": "code",
   "execution_count": null,
   "metadata": {
    "ExecuteTime": {
     "end_time": "2021-09-30T15:57:44.187136Z",
     "start_time": "2021-09-30T15:57:44.168131Z"
    },
    "colab": {
     "base_uri": "https://localhost:8080/",
     "height": 302
    },
    "executionInfo": {
     "elapsed": 943,
     "status": "ok",
     "timestamp": 1608966190337,
     "user": {
      "displayName": "freeai time",
      "photoUrl": "https://lh3.googleusercontent.com/a-/AOh14GgxvlF_Oni7ZMdvrndxf2178ORhoNGeclnb7GQ6=s64",
      "userId": "11272871337215191422"
     },
     "user_tz": -330
    },
    "id": "SXZFZ0w62izh",
    "outputId": "ce5503ab-4dcc-4d28-b7fe-aa41a51d94a4"
   },
   "outputs": [],
   "source": [
    "df_test['prediccion'] = 67983\n",
    "df_test.head()"
   ]
  },
  {
   "cell_type": "code",
   "execution_count": null,
   "metadata": {
    "ExecuteTime": {
     "end_time": "2021-09-30T15:57:47.918990Z",
     "start_time": "2021-09-30T15:57:47.888968Z"
    },
    "executionInfo": {
     "elapsed": 915,
     "status": "ok",
     "timestamp": 1608966446295,
     "user": {
      "displayName": "freeai time",
      "photoUrl": "https://lh3.googleusercontent.com/a-/AOh14GgxvlF_Oni7ZMdvrndxf2178ORhoNGeclnb7GQ6=s64",
      "userId": "11272871337215191422"
     },
     "user_tz": -330
    },
    "id": "Xf0R6sDw2zmA"
   },
   "outputs": [],
   "source": [
    "# Calcular el margen de error\n",
    "error = df_train['pasajeros'] - df_train['valor_ajustado']\n",
    "me = 1.96*error.std()"
   ]
  },
  {
   "cell_type": "code",
   "execution_count": null,
   "metadata": {
    "ExecuteTime": {
     "end_time": "2021-09-30T15:57:51.688826Z",
     "start_time": "2021-09-30T15:57:51.291736Z"
    },
    "colab": {
     "base_uri": "https://localhost:8080/",
     "height": 483
    },
    "executionInfo": {
     "elapsed": 1220,
     "status": "ok",
     "timestamp": 1608966620613,
     "user": {
      "displayName": "freeai time",
      "photoUrl": "https://lh3.googleusercontent.com/a-/AOh14GgxvlF_Oni7ZMdvrndxf2178ORhoNGeclnb7GQ6=s64",
      "userId": "11272871337215191422"
     },
     "user_tz": -330
    },
    "id": "icnlgxKY2-Fw",
    "outputId": "a853ec75-ca00-4151-e304-cb071e1cdb19"
   },
   "outputs": [],
   "source": [
    "# Visualización del modelo\n",
    "plt.figure(figsize=(15,8))\n",
    "plt.plot(df_train['mes'],df_train['pasajeros'],'go:',markerfacecolor='w')\n",
    "# Valores ajustados\n",
    "plt.plot(df_train['mes'],df_train['valor_ajustado'],'s:',color='orange',markerfacecolor='w')\n",
    "\n",
    "\n",
    "plt.plot(df_test['mes'],df_test['pasajeros'],'bo:',markerfacecolor='w')\n",
    "# Predicción\n",
    "plt.plot(df_test['mes'],df_test['prediccion'],'s:',color='red',markerfacecolor='w')\n",
    "\n",
    "# Mostrar intervalo de confianza\n",
    "plt.fill_between(df_test['mes'],(df_test['prediccion']+me),(df_test['prediccion']-me),alpha=0.1)\n",
    "plt.legend(['Datos de entrenamiento','Datos ajustados','Datos de validación','Predicción','Intervalo de confianza'])\n",
    "\n",
    "# Escalar ejes\n",
    "start_date = datetime.datetime.strptime(\"2015-01-01\",\"%Y-%m-%d\")\n",
    "end_date = datetime.datetime.strptime(\"2018-01-01\",\"%Y-%m-%d\")\n",
    "plt.axis(xmin=start_date,\n",
    "         xmax=end_date)\n",
    "plt.show()\n"
   ]
  },
  {
   "cell_type": "markdown",
   "metadata": {
    "id": "x9ZRk9LOC2J-"
   },
   "source": [
    "## Media móvil (SMA) de 3 periodos"
   ]
  },
  {
   "cell_type": "code",
   "execution_count": null,
   "metadata": {
    "ExecuteTime": {
     "end_time": "2021-09-30T15:59:03.224934Z",
     "start_time": "2021-09-30T15:59:03.212932Z"
    },
    "executionInfo": {
     "elapsed": 949,
     "status": "ok",
     "timestamp": 1608969308322,
     "user": {
      "displayName": "freeai time",
      "photoUrl": "https://lh3.googleusercontent.com/a-/AOh14GgxvlF_Oni7ZMdvrndxf2178ORhoNGeclnb7GQ6=s64",
      "userId": "11272871337215191422"
     },
     "user_tz": -330
    },
    "id": "1gTorl9P9015"
   },
   "outputs": [],
   "source": [
    "df_train_sma = df_train[['mes','pasajeros']]\n",
    "df_test_sma = df_test[['mes','pasajeros']]"
   ]
  },
  {
   "cell_type": "code",
   "execution_count": null,
   "metadata": {
    "ExecuteTime": {
     "end_time": "2021-09-30T16:00:03.026402Z",
     "start_time": "2021-09-30T16:00:03.011399Z"
    },
    "colab": {
     "base_uri": "https://localhost:8080/",
     "height": 198
    },
    "executionInfo": {
     "elapsed": 666,
     "status": "ok",
     "timestamp": 1608969331402,
     "user": {
      "displayName": "freeai time",
      "photoUrl": "https://lh3.googleusercontent.com/a-/AOh14GgxvlF_Oni7ZMdvrndxf2178ORhoNGeclnb7GQ6=s64",
      "userId": "11272871337215191422"
     },
     "user_tz": -330
    },
    "id": "zEYiimmKCpO-",
    "outputId": "af9520f5-4c81-4d5d-eb3a-605a21f499e8"
   },
   "outputs": [],
   "source": [
    "df_train_sma.head()"
   ]
  },
  {
   "cell_type": "code",
   "execution_count": null,
   "metadata": {
    "ExecuteTime": {
     "end_time": "2021-09-30T16:00:09.136777Z",
     "start_time": "2021-09-30T16:00:09.083765Z"
    },
    "executionInfo": {
     "elapsed": 943,
     "status": "ok",
     "timestamp": 1608969490882,
     "user": {
      "displayName": "freeai time",
      "photoUrl": "https://lh3.googleusercontent.com/a-/AOh14GgxvlF_Oni7ZMdvrndxf2178ORhoNGeclnb7GQ6=s64",
      "userId": "11272871337215191422"
     },
     "user_tz": -330
    },
    "id": "uNw2u6VfC53T"
   },
   "outputs": [],
   "source": [
    "df_train_sma['ajust_3'] = df_train_sma.rolling(window=3).mean() # mean, median, std, var"
   ]
  },
  {
   "cell_type": "code",
   "execution_count": null,
   "metadata": {
    "ExecuteTime": {
     "end_time": "2021-09-30T16:00:19.534119Z",
     "start_time": "2021-09-30T16:00:19.523116Z"
    },
    "colab": {
     "base_uri": "https://localhost:8080/",
     "height": 198
    },
    "executionInfo": {
     "elapsed": 622,
     "status": "ok",
     "timestamp": 1608969507874,
     "user": {
      "displayName": "freeai time",
      "photoUrl": "https://lh3.googleusercontent.com/a-/AOh14GgxvlF_Oni7ZMdvrndxf2178ORhoNGeclnb7GQ6=s64",
      "userId": "11272871337215191422"
     },
     "user_tz": -330
    },
    "id": "-yJnXw1FDJHa",
    "outputId": "e96b1c9c-5492-4205-a87b-2bcfdef5f003"
   },
   "outputs": [],
   "source": [
    "df_train_sma.tail()"
   ]
  },
  {
   "cell_type": "code",
   "execution_count": null,
   "metadata": {
    "ExecuteTime": {
     "end_time": "2021-09-30T16:00:23.907104Z",
     "start_time": "2021-09-30T16:00:23.891100Z"
    },
    "executionInfo": {
     "elapsed": 1219,
     "status": "ok",
     "timestamp": 1608969544599,
     "user": {
      "displayName": "freeai time",
      "photoUrl": "https://lh3.googleusercontent.com/a-/AOh14GgxvlF_Oni7ZMdvrndxf2178ORhoNGeclnb7GQ6=s64",
      "userId": "11272871337215191422"
     },
     "user_tz": -330
    },
    "id": "ZZQb62F0Dii8"
   },
   "outputs": [],
   "source": [
    "df_test_sma['prediccion'] = 68037.666667"
   ]
  },
  {
   "cell_type": "code",
   "execution_count": null,
   "metadata": {
    "ExecuteTime": {
     "end_time": "2021-09-30T16:00:30.506589Z",
     "start_time": "2021-09-30T16:00:30.205523Z"
    },
    "colab": {
     "base_uri": "https://localhost:8080/",
     "height": 483
    },
    "executionInfo": {
     "elapsed": 1575,
     "status": "ok",
     "timestamp": 1608969701372,
     "user": {
      "displayName": "freeai time",
      "photoUrl": "https://lh3.googleusercontent.com/a-/AOh14GgxvlF_Oni7ZMdvrndxf2178ORhoNGeclnb7GQ6=s64",
      "userId": "11272871337215191422"
     },
     "user_tz": -330
    },
    "id": "ssetrHfTDytW",
    "outputId": "43d68fc1-5d30-4621-db70-09f625892ce8"
   },
   "outputs": [],
   "source": [
    "# Calcular el margen de error\n",
    "error_3 = df_train_sma['pasajeros'] - df_train_sma['ajust_3']\n",
    "me_3 = 1.96*error_3.std()\n",
    "# Visalización\n",
    "plt.figure(figsize=(15,8))\n",
    "plt.plot(df_train_sma['mes'],df_train_sma['pasajeros'],'bo:',markerfacecolor='w')\n",
    "# Datos de entrenamiento\n",
    "plt.plot(df_train_sma['mes'],df_train_sma['ajust_3'],'s:',color='orange',markerfacecolor='w')\n",
    "\n",
    "\n",
    "plt.plot(df_test_sma['mes'],df_test_sma['pasajeros'],'go:',markerfacecolor='w')\n",
    "# Predicciones\n",
    "plt.plot(df_test_sma['mes'],df_test_sma['prediccion'],'s:',color='red',markerfacecolor='w')\n",
    "\n",
    "# Intervalo de confianza\n",
    "plt.fill_between(df_test_sma['mes'],(df_test_sma['prediccion']+me_3),(df_test_sma['prediccion']-me_3),alpha=0.1)\n",
    "plt.legend(['Datos de entrenamiento','Datos ajustados','Datos de validación','Predicción','Intervalo de confianza'])\n",
    "\n",
    "# Escalado\n",
    "# start_date = datetime.datetime.strptime(\"2015-01-01\",\"%Y-%m-%d\")\n",
    "# end_date = datetime.datetime.strptime(\"2018-01-01\",\"%Y-%m-%d\")\n",
    "# plt.axis(xmin=start_date,\n",
    "#          xmax=end_date)\n",
    "plt.show()"
   ]
  },
  {
   "cell_type": "markdown",
   "metadata": {
    "id": "NqWpHK91E8NF"
   },
   "source": [
    "## Media móvil $q$ periodos\n",
    "El paramétro q se evidencia en el correlograma de la función de autocorrelación (ACF)."
   ]
  },
  {
   "cell_type": "code",
   "execution_count": null,
   "metadata": {
    "ExecuteTime": {
     "end_time": "2021-09-30T16:15:17.427605Z",
     "start_time": "2021-09-30T16:15:15.966276Z"
    },
    "executionInfo": {
     "elapsed": 886,
     "status": "ok",
     "timestamp": 1608969920395,
     "user": {
      "displayName": "freeai time",
      "photoUrl": "https://lh3.googleusercontent.com/a-/AOh14GgxvlF_Oni7ZMdvrndxf2178ORhoNGeclnb7GQ6=s64",
      "userId": "11272871337215191422"
     },
     "user_tz": -330
    },
    "id": "xLf8TdV7EHg4"
   },
   "outputs": [],
   "source": [
    "from statsmodels.graphics.tsaplots import plot_acf"
   ]
  },
  {
   "cell_type": "code",
   "execution_count": null,
   "metadata": {
    "ExecuteTime": {
     "end_time": "2021-09-30T16:16:02.529764Z",
     "start_time": "2021-09-30T16:16:02.513758Z"
    },
    "executionInfo": {
     "elapsed": 992,
     "status": "ok",
     "timestamp": 1608969992246,
     "user": {
      "displayName": "freeai time",
      "photoUrl": "https://lh3.googleusercontent.com/a-/AOh14GgxvlF_Oni7ZMdvrndxf2178ORhoNGeclnb7GQ6=s64",
      "userId": "11272871337215191422"
     },
     "user_tz": -330
    },
    "id": "ZIga_ysAFTiL"
   },
   "outputs": [],
   "source": [
    "diferencia = df_train_sma['pasajeros'].diff()"
   ]
  },
  {
   "cell_type": "code",
   "execution_count": null,
   "metadata": {
    "ExecuteTime": {
     "end_time": "2021-09-30T16:16:04.586226Z",
     "start_time": "2021-09-30T16:16:04.418188Z"
    },
    "colab": {
     "base_uri": "https://localhost:8080/",
     "height": 282
    },
    "executionInfo": {
     "elapsed": 1192,
     "status": "ok",
     "timestamp": 1608970016792,
     "user": {
      "displayName": "freeai time",
      "photoUrl": "https://lh3.googleusercontent.com/a-/AOh14GgxvlF_Oni7ZMdvrndxf2178ORhoNGeclnb7GQ6=s64",
      "userId": "11272871337215191422"
     },
     "user_tz": -330
    },
    "id": "jL0r-RMYFbtz",
    "outputId": "e6c70d9c-8e21-481b-e2f1-e92cd5489dff"
   },
   "outputs": [],
   "source": [
    "plt.plot(diferencia)"
   ]
  },
  {
   "cell_type": "code",
   "execution_count": null,
   "metadata": {
    "ExecuteTime": {
     "end_time": "2021-09-30T16:16:09.665369Z",
     "start_time": "2021-09-30T16:16:09.659368Z"
    },
    "executionInfo": {
     "elapsed": 897,
     "status": "ok",
     "timestamp": 1608970049952,
     "user": {
      "displayName": "freeai time",
      "photoUrl": "https://lh3.googleusercontent.com/a-/AOh14GgxvlF_Oni7ZMdvrndxf2178ORhoNGeclnb7GQ6=s64",
      "userId": "11272871337215191422"
     },
     "user_tz": -330
    },
    "id": "NsjtoxkoFjxn"
   },
   "outputs": [],
   "source": [
    "# remove the missing values\n",
    "diferencia.dropna(inplace=True)"
   ]
  },
  {
   "cell_type": "code",
   "execution_count": null,
   "metadata": {
    "ExecuteTime": {
     "end_time": "2021-09-30T16:16:17.505137Z",
     "start_time": "2021-09-30T16:16:17.178062Z"
    },
    "colab": {
     "base_uri": "https://localhost:8080/",
     "height": 390
    },
    "executionInfo": {
     "elapsed": 1065,
     "status": "ok",
     "timestamp": 1608970143960,
     "user": {
      "displayName": "freeai time",
      "photoUrl": "https://lh3.googleusercontent.com/a-/AOh14GgxvlF_Oni7ZMdvrndxf2178ORhoNGeclnb7GQ6=s64",
      "userId": "11272871337215191422"
     },
     "user_tz": -330
    },
    "id": "uZBnkCpbFJvc",
    "outputId": "e9f904b8-dcb0-46c8-81e4-17a504d9cc27"
   },
   "outputs": [],
   "source": [
    "fig,ax = plt.subplots(figsize=(15,6))\n",
    "fig = plot_acf(diferencia,lags=200,ax=ax)"
   ]
  },
  {
   "cell_type": "markdown",
   "metadata": {
    "id": "tsHpjmddGXNN"
   },
   "source": [
    "**De acuerdo al correlograma se necesita seleccionar al menos 62 lags para hacer predicciones**"
   ]
  },
  {
   "cell_type": "code",
   "execution_count": null,
   "metadata": {
    "ExecuteTime": {
     "end_time": "2021-09-30T16:19:59.099746Z",
     "start_time": "2021-09-30T16:19:59.079739Z"
    },
    "executionInfo": {
     "elapsed": 869,
     "status": "ok",
     "timestamp": 1608970325952,
     "user": {
      "displayName": "freeai time",
      "photoUrl": "https://lh3.googleusercontent.com/a-/AOh14GgxvlF_Oni7ZMdvrndxf2178ORhoNGeclnb7GQ6=s64",
      "userId": "11272871337215191422"
     },
     "user_tz": -330
    },
    "id": "SqZFE7gFFrNQ"
   },
   "outputs": [],
   "source": [
    "df_train_sma['ajust_62'] = df_train_sma['pasajeros'].rolling(window=62).mean()"
   ]
  },
  {
   "cell_type": "code",
   "execution_count": null,
   "metadata": {
    "ExecuteTime": {
     "end_time": "2021-09-30T16:20:01.288240Z",
     "start_time": "2021-09-30T16:20:01.270234Z"
    },
    "colab": {
     "base_uri": "https://localhost:8080/",
     "height": 198
    },
    "executionInfo": {
     "elapsed": 930,
     "status": "ok",
     "timestamp": 1608970363958,
     "user": {
      "displayName": "freeai time",
      "photoUrl": "https://lh3.googleusercontent.com/a-/AOh14GgxvlF_Oni7ZMdvrndxf2178ORhoNGeclnb7GQ6=s64",
      "userId": "11272871337215191422"
     },
     "user_tz": -330
    },
    "id": "tvIJ-MEOGMDc",
    "outputId": "f84cf3cc-73e9-4797-e56e-9e2c79b52248"
   },
   "outputs": [],
   "source": [
    "df_train_sma.tail()"
   ]
  },
  {
   "cell_type": "code",
   "execution_count": null,
   "metadata": {
    "ExecuteTime": {
     "end_time": "2021-09-30T16:20:07.369611Z",
     "start_time": "2021-09-30T16:20:07.358609Z"
    },
    "executionInfo": {
     "elapsed": 1034,
     "status": "ok",
     "timestamp": 1608970393650,
     "user": {
      "displayName": "freeai time",
      "photoUrl": "https://lh3.googleusercontent.com/a-/AOh14GgxvlF_Oni7ZMdvrndxf2178ORhoNGeclnb7GQ6=s64",
      "userId": "11272871337215191422"
     },
     "user_tz": -330
    },
    "id": "fNT6S4piG0Nc"
   },
   "outputs": [],
   "source": [
    "df_test_sma['prediccion_62'] = 64228.661290"
   ]
  },
  {
   "cell_type": "code",
   "execution_count": null,
   "metadata": {
    "ExecuteTime": {
     "end_time": "2021-09-30T16:24:43.205723Z",
     "start_time": "2021-09-30T16:24:42.843644Z"
    },
    "colab": {
     "base_uri": "https://localhost:8080/",
     "height": 483
    },
    "executionInfo": {
     "elapsed": 1187,
     "status": "ok",
     "timestamp": 1608970470574,
     "user": {
      "displayName": "freeai time",
      "photoUrl": "https://lh3.googleusercontent.com/a-/AOh14GgxvlF_Oni7ZMdvrndxf2178ORhoNGeclnb7GQ6=s64",
      "userId": "11272871337215191422"
     },
     "user_tz": -330
    },
    "id": "f1vr7t6YGrR7",
    "outputId": "9c1ca8b6-5b02-485f-81ad-70c4adf34fff"
   },
   "outputs": [],
   "source": [
    "error_62 = df_train_sma['pasajeros'] - df_train_sma['ajust_62']\n",
    "me_62 = 1.96*error_62.std()\n",
    "\n",
    "plt.figure(figsize=(15,8))\n",
    "plt.plot(df_train_sma['mes'],df_train_sma['pasajeros'],'bo:',markerfacecolor='w')\n",
    "\n",
    "plt.plot(df_train_sma['mes'],df_train_sma['ajust_62'],'s:',color='orange',markerfacecolor='w')\n",
    "\n",
    "\n",
    "plt.plot(df_test_sma['mes'],df_test_sma['pasajeros'],'go:',markerfacecolor='w')\n",
    "\n",
    "plt.plot(df_test_sma['mes'],df_test_sma['prediccion_62'],'s:',color='red',markerfacecolor='w')\n",
    "\n",
    "plt.fill_between(df_test_sma['mes'],(df_test_sma['prediccion_62']+me_62),(df_test_sma['prediccion_62']-me_62),alpha=0.1)\n",
    "plt.legend(['Datos de entrenamiento','Datos ajustados','Datos de validación','Predicción','Intervalo de confianza'])\n",
    "\n",
    "start_date = datetime.datetime.strptime(\"2015-01-01\",\"%Y-%m-%d\")\n",
    "end_date = datetime.datetime.strptime(\"2018-01-01\",\"%Y-%m-%d\")\n",
    "plt.axis(xmin=start_date,\n",
    "         xmax=end_date)\n",
    "\n",
    "plt.show()"
   ]
  },
  {
   "cell_type": "markdown",
   "metadata": {},
   "source": [
    "## Media móvil ponderada 3 periodos"
   ]
  },
  {
   "cell_type": "code",
   "execution_count": null,
   "metadata": {
    "ExecuteTime": {
     "end_time": "2021-09-30T16:26:21.686738Z",
     "start_time": "2021-09-30T16:26:21.677738Z"
    },
    "executionInfo": {
     "elapsed": 1024,
     "status": "ok",
     "timestamp": 1608971525616,
     "user": {
      "displayName": "freeai time",
      "photoUrl": "https://lh3.googleusercontent.com/a-/AOh14GgxvlF_Oni7ZMdvrndxf2178ORhoNGeclnb7GQ6=s64",
      "userId": "11272871337215191422"
     },
     "user_tz": -330
    },
    "id": "OmDMN-hYHP-8"
   },
   "outputs": [],
   "source": [
    "df_train_wma = df_train[['mes','pasajeros']]\n",
    "df_test_wma = df_test[['mes','pasajeros']]"
   ]
  },
  {
   "cell_type": "code",
   "execution_count": null,
   "metadata": {
    "ExecuteTime": {
     "end_time": "2021-09-30T16:26:26.345790Z",
     "start_time": "2021-09-30T16:26:26.331787Z"
    },
    "colab": {
     "base_uri": "https://localhost:8080/",
     "height": 198
    },
    "executionInfo": {
     "elapsed": 884,
     "status": "ok",
     "timestamp": 1608971545737,
     "user": {
      "displayName": "freeai time",
      "photoUrl": "https://lh3.googleusercontent.com/a-/AOh14GgxvlF_Oni7ZMdvrndxf2178ORhoNGeclnb7GQ6=s64",
      "userId": "11272871337215191422"
     },
     "user_tz": -330
    },
    "id": "RGDaV1sJLRjN",
    "outputId": "99635cd5-d0ab-4d4d-d70b-69ab713a1d9c"
   },
   "outputs": [],
   "source": [
    "df_train_wma.head()"
   ]
  },
  {
   "cell_type": "code",
   "execution_count": null,
   "metadata": {
    "ExecuteTime": {
     "end_time": "2021-09-30T16:33:03.394184Z",
     "start_time": "2021-09-30T16:33:03.387182Z"
    },
    "colab": {
     "base_uri": "https://localhost:8080/"
    },
    "executionInfo": {
     "elapsed": 947,
     "status": "ok",
     "timestamp": 1608971603217,
     "user": {
      "displayName": "freeai time",
      "photoUrl": "https://lh3.googleusercontent.com/a-/AOh14GgxvlF_Oni7ZMdvrndxf2178ORhoNGeclnb7GQ6=s64",
      "userId": "11272871337215191422"
     },
     "user_tz": -330
    },
    "id": "JUSDA0FQLTOe",
    "outputId": "7d3d5406-4261-4e00-90f3-ddb912b3d101"
   },
   "outputs": [],
   "source": [
    "# Ejemplo: Se deben asignar pesos a los valores de la serie de tiempo\n",
    "# los pesos mayores deben corresponder a las observaciones más recientes\n",
    "(3 * 58764 + 2 * 48526 + 1 * 46492)/(3+2+1) # -> wma"
   ]
  },
  {
   "cell_type": "code",
   "execution_count": null,
   "metadata": {
    "ExecuteTime": {
     "end_time": "2021-09-30T16:33:31.153434Z",
     "start_time": "2021-09-30T16:33:31.139432Z"
    },
    "executionInfo": {
     "elapsed": 914,
     "status": "ok",
     "timestamp": 1608972045494,
     "user": {
      "displayName": "freeai time",
      "photoUrl": "https://lh3.googleusercontent.com/a-/AOh14GgxvlF_Oni7ZMdvrndxf2178ORhoNGeclnb7GQ6=s64",
      "userId": "11272871337215191422"
     },
     "user_tz": -330
    },
    "id": "tIKPFiAxLiYs"
   },
   "outputs": [],
   "source": [
    "def weighted_moving_average(x):\n",
    "  weights = np.arange(1,len(x)+1,+1)\n",
    "  num = np.sum(x * weights)\n",
    "  den = np.sum(weights)\n",
    "  wma = num / den\n",
    "  return wma"
   ]
  },
  {
   "cell_type": "code",
   "execution_count": null,
   "metadata": {
    "ExecuteTime": {
     "end_time": "2021-09-30T16:33:47.636146Z",
     "start_time": "2021-09-30T16:33:47.626145Z"
    },
    "executionInfo": {
     "elapsed": 1768,
     "status": "ok",
     "timestamp": 1608971893920,
     "user": {
      "displayName": "freeai time",
      "photoUrl": "https://lh3.googleusercontent.com/a-/AOh14GgxvlF_Oni7ZMdvrndxf2178ORhoNGeclnb7GQ6=s64",
      "userId": "11272871337215191422"
     },
     "user_tz": -330
    },
    "id": "5fn7nIxUMFh_"
   },
   "outputs": [],
   "source": [
    "ejemplo = df_train_wma.head()"
   ]
  },
  {
   "cell_type": "code",
   "execution_count": null,
   "metadata": {
    "ExecuteTime": {
     "end_time": "2021-09-30T16:33:49.640595Z",
     "start_time": "2021-09-30T16:33:49.622594Z"
    },
    "colab": {
     "base_uri": "https://localhost:8080/",
     "height": 198
    },
    "executionInfo": {
     "elapsed": 930,
     "status": "ok",
     "timestamp": 1608971952899,
     "user": {
      "displayName": "freeai time",
      "photoUrl": "https://lh3.googleusercontent.com/a-/AOh14GgxvlF_Oni7ZMdvrndxf2178ORhoNGeclnb7GQ6=s64",
      "userId": "11272871337215191422"
     },
     "user_tz": -330
    },
    "id": "DaIpWiEyM5E1",
    "outputId": "461e0c91-2095-4a67-ad6b-a330079d1a25"
   },
   "outputs": [],
   "source": [
    "ejemplo"
   ]
  },
  {
   "cell_type": "code",
   "execution_count": null,
   "metadata": {
    "ExecuteTime": {
     "end_time": "2021-09-30T16:34:00.945142Z",
     "start_time": "2021-09-30T16:34:00.937145Z"
    },
    "colab": {
     "base_uri": "https://localhost:8080/"
    },
    "executionInfo": {
     "elapsed": 1081,
     "status": "ok",
     "timestamp": 1608972033135,
     "user": {
      "displayName": "freeai time",
      "photoUrl": "https://lh3.googleusercontent.com/a-/AOh14GgxvlF_Oni7ZMdvrndxf2178ORhoNGeclnb7GQ6=s64",
      "userId": "11272871337215191422"
     },
     "user_tz": -330
    },
    "id": "4UxTzVBLNI85",
    "outputId": "b6165f6f-66d1-432f-c19e-2f14da4b4ca3"
   },
   "outputs": [],
   "source": [
    "(3*58764 + 48526 * 2 +46492)/(6)"
   ]
  },
  {
   "cell_type": "code",
   "execution_count": null,
   "metadata": {
    "ExecuteTime": {
     "end_time": "2021-09-30T16:34:06.512400Z",
     "start_time": "2021-09-30T16:34:06.464389Z"
    },
    "colab": {
     "base_uri": "https://localhost:8080/"
    },
    "executionInfo": {
     "elapsed": 936,
     "status": "ok",
     "timestamp": 1608972006323,
     "user": {
      "displayName": "freeai time",
      "photoUrl": "https://lh3.googleusercontent.com/a-/AOh14GgxvlF_Oni7ZMdvrndxf2178ORhoNGeclnb7GQ6=s64",
      "userId": "11272871337215191422"
     },
     "user_tz": -330
    },
    "id": "hgCixTm-MLAW",
    "outputId": "7129e946-109e-4976-e656-349eecde7b7e"
   },
   "outputs": [],
   "source": [
    "ejemplo['pasajeros'].rolling(window=3).apply(weighted_moving_average)"
   ]
  },
  {
   "cell_type": "code",
   "execution_count": null,
   "metadata": {
    "ExecuteTime": {
     "end_time": "2021-09-30T16:34:26.734526Z",
     "start_time": "2021-09-30T16:34:26.615500Z"
    },
    "executionInfo": {
     "elapsed": 850,
     "status": "ok",
     "timestamp": 1608972130536,
     "user": {
      "displayName": "freeai time",
      "photoUrl": "https://lh3.googleusercontent.com/a-/AOh14GgxvlF_Oni7ZMdvrndxf2178ORhoNGeclnb7GQ6=s64",
      "userId": "11272871337215191422"
     },
     "user_tz": -330
    },
    "id": "vbMqv-0gMs_u"
   },
   "outputs": [],
   "source": [
    "# applying to entire data\n",
    "df_train_wma['ajust_wma_3'] = df_train_wma['pasajeros'].rolling(window=3).apply(weighted_moving_average)\n",
    "df_train_wma['ajust_wma_62'] = df_train_wma['pasajeros'].rolling(window=62).apply(weighted_moving_average)"
   ]
  },
  {
   "cell_type": "code",
   "execution_count": null,
   "metadata": {
    "ExecuteTime": {
     "end_time": "2021-09-30T16:34:38.677221Z",
     "start_time": "2021-09-30T16:34:38.656212Z"
    },
    "colab": {
     "base_uri": "https://localhost:8080/",
     "height": 198
    },
    "executionInfo": {
     "elapsed": 1180,
     "status": "ok",
     "timestamp": 1608972137337,
     "user": {
      "displayName": "freeai time",
      "photoUrl": "https://lh3.googleusercontent.com/a-/AOh14GgxvlF_Oni7ZMdvrndxf2178ORhoNGeclnb7GQ6=s64",
      "userId": "11272871337215191422"
     },
     "user_tz": -330
    },
    "id": "osXdf1gzNlVE",
    "outputId": "1faaa568-35b9-45da-f5f1-5b6b369446b3"
   },
   "outputs": [],
   "source": [
    "df_train_wma.head()"
   ]
  },
  {
   "cell_type": "code",
   "execution_count": null,
   "metadata": {
    "ExecuteTime": {
     "end_time": "2021-09-30T16:34:43.444287Z",
     "start_time": "2021-09-30T16:34:43.431288Z"
    },
    "colab": {
     "base_uri": "https://localhost:8080/",
     "height": 198
    },
    "executionInfo": {
     "elapsed": 990,
     "status": "ok",
     "timestamp": 1608972150087,
     "user": {
      "displayName": "freeai time",
      "photoUrl": "https://lh3.googleusercontent.com/a-/AOh14GgxvlF_Oni7ZMdvrndxf2178ORhoNGeclnb7GQ6=s64",
      "userId": "11272871337215191422"
     },
     "user_tz": -330
    },
    "id": "Jcx3nMntNm5F",
    "outputId": "d4c08248-ff8c-46d5-c01e-e058b5d8cc29"
   },
   "outputs": [],
   "source": [
    "df_train_wma.tail()"
   ]
  },
  {
   "cell_type": "code",
   "execution_count": null,
   "metadata": {
    "ExecuteTime": {
     "end_time": "2021-09-30T16:35:07.559722Z",
     "start_time": "2021-09-30T16:35:07.549718Z"
    },
    "executionInfo": {
     "elapsed": 693,
     "status": "ok",
     "timestamp": 1608972197345,
     "user": {
      "displayName": "freeai time",
      "photoUrl": "https://lh3.googleusercontent.com/a-/AOh14GgxvlF_Oni7ZMdvrndxf2178ORhoNGeclnb7GQ6=s64",
      "userId": "11272871337215191422"
     },
     "user_tz": -330
    },
    "id": "Y4sj2fcYNp8F"
   },
   "outputs": [],
   "source": [
    "df_test_wma['prediccion_3'] = 67778.333333\n",
    "df_test_wma['prediccion_62'] = 65983.619560"
   ]
  },
  {
   "cell_type": "markdown",
   "metadata": {
    "id": "k0juUcJ8N5xp"
   },
   "source": [
    "**Gráfica con 62 lags**"
   ]
  },
  {
   "cell_type": "code",
   "execution_count": null,
   "metadata": {
    "ExecuteTime": {
     "end_time": "2021-09-27T22:36:39.691699Z",
     "start_time": "2021-09-27T22:36:39.468649Z"
    },
    "colab": {
     "base_uri": "https://localhost:8080/",
     "height": 483
    },
    "executionInfo": {
     "elapsed": 1559,
     "status": "ok",
     "timestamp": 1608972284223,
     "user": {
      "displayName": "freeai time",
      "photoUrl": "https://lh3.googleusercontent.com/a-/AOh14GgxvlF_Oni7ZMdvrndxf2178ORhoNGeclnb7GQ6=s64",
      "userId": "11272871337215191422"
     },
     "user_tz": -330
    },
    "id": "DY2yhsk2N1ru",
    "outputId": "e2dfb22b-a464-48b3-c9b3-b9352e8f4c16"
   },
   "outputs": [],
   "source": [
    "error_62 = df_train_wma['pasajeros'] - df_train_wma['ajust_wma_62']\n",
    "me_62 = 1.96*error_62.std()\n",
    "\n",
    "plt.figure(figsize=(15,8))\n",
    "plt.plot(df_train_wma['mes'],df_train_wma['pasajeros'],'bo:',markerfacecolor='w')\n",
    "\n",
    "plt.plot(df_train_wma['mes'],df_train_wma['ajust_wma_62'],'s:',color='orange',markerfacecolor='w')\n",
    "\n",
    "\n",
    "plt.plot(df_test_wma['mes'],df_test_wma['pasajeros'],'go:',markerfacecolor='w')\n",
    "\n",
    "plt.plot(df_test_wma['mes'],df_test_wma['prediccion_62'],'s:',color='red',markerfacecolor='w')\n",
    "\n",
    "plt.fill_between(df_test_wma['mes'],(df_test_wma['prediccion_62']+me_62),(df_test_wma['prediccion_62']-me_62),alpha=0.1)\n",
    "plt.legend(['Datos de entrenamiento','Datos ajustados','Datos de validación','Predicción','Intervalo de confianza'])\n",
    "\n",
    "# scalling\n",
    "# start_date = datetime.datetime.strptime(\"2015-01-01\",\"%Y-%m-%d\")\n",
    "# end_date = datetime.datetime.strptime(\"2018-01-01\",\"%Y-%m-%d\")\n",
    "# plt.axis(xmin=start_date,\n",
    "#          xmax=end_date)\n",
    "\n",
    "plt.show()"
   ]
  },
  {
   "cell_type": "markdown",
   "metadata": {},
   "source": [
    "## Suavizamiento exponencial"
   ]
  },
  {
   "cell_type": "code",
   "execution_count": null,
   "metadata": {
    "ExecuteTime": {
     "end_time": "2021-09-30T16:36:55.567168Z",
     "start_time": "2021-09-30T16:36:55.553164Z"
    },
    "executionInfo": {
     "elapsed": 1157,
     "status": "ok",
     "timestamp": 1608975930870,
     "user": {
      "displayName": "freeai time",
      "photoUrl": "https://lh3.googleusercontent.com/a-/AOh14GgxvlF_Oni7ZMdvrndxf2178ORhoNGeclnb7GQ6=s64",
      "userId": "11272871337215191422"
     },
     "user_tz": -330
    },
    "id": "Jjxy5vrJODe3"
   },
   "outputs": [],
   "source": [
    "df_train_ema = df_train[['mes','pasajeros']]\n",
    "df_test_ema = df_test[['mes','pasajeros']]"
   ]
  },
  {
   "cell_type": "code",
   "execution_count": null,
   "metadata": {
    "ExecuteTime": {
     "end_time": "2021-09-30T16:38:53.629196Z",
     "start_time": "2021-09-30T16:38:53.619193Z"
    },
    "executionInfo": {
     "elapsed": 910,
     "status": "ok",
     "timestamp": 1608976113050,
     "user": {
      "displayName": "freeai time",
      "photoUrl": "https://lh3.googleusercontent.com/a-/AOh14GgxvlF_Oni7ZMdvrndxf2178ORhoNGeclnb7GQ6=s64",
      "userId": "11272871337215191422"
     },
     "user_tz": -330
    },
    "id": "GCQVzz9mcFCi"
   },
   "outputs": [],
   "source": [
    "df_train_ema['ajust_3'] = df_train_ema['pasajeros'].ewm(min_periods=3,alpha=0.5).mean()"
   ]
  },
  {
   "cell_type": "code",
   "execution_count": null,
   "metadata": {
    "ExecuteTime": {
     "end_time": "2021-09-30T16:38:56.582862Z",
     "start_time": "2021-09-30T16:38:56.560855Z"
    },
    "colab": {
     "base_uri": "https://localhost:8080/",
     "height": 203
    },
    "executionInfo": {
     "elapsed": 992,
     "status": "ok",
     "timestamp": 1608976117821,
     "user": {
      "displayName": "freeai time",
      "photoUrl": "https://lh3.googleusercontent.com/a-/AOh14GgxvlF_Oni7ZMdvrndxf2178ORhoNGeclnb7GQ6=s64",
      "userId": "11272871337215191422"
     },
     "user_tz": -330
    },
    "id": "D2jI7QClciFl",
    "outputId": "37a07412-7c1b-4cb7-9694-8d41698d9056"
   },
   "outputs": [],
   "source": [
    "df_train_ema.head()"
   ]
  },
  {
   "cell_type": "code",
   "execution_count": null,
   "metadata": {
    "ExecuteTime": {
     "end_time": "2021-09-30T16:39:01.753025Z",
     "start_time": "2021-09-30T16:39:01.740022Z"
    },
    "colab": {
     "base_uri": "https://localhost:8080/",
     "height": 203
    },
    "executionInfo": {
     "elapsed": 875,
     "status": "ok",
     "timestamp": 1608976131070,
     "user": {
      "displayName": "freeai time",
      "photoUrl": "https://lh3.googleusercontent.com/a-/AOh14GgxvlF_Oni7ZMdvrndxf2178ORhoNGeclnb7GQ6=s64",
      "userId": "11272871337215191422"
     },
     "user_tz": -330
    },
    "id": "cahtB0fXcwLB",
    "outputId": "fc359629-f2e1-49dc-a2ce-3ee64f2f195f"
   },
   "outputs": [],
   "source": [
    "df_train_ema.tail()"
   ]
  },
  {
   "cell_type": "code",
   "execution_count": null,
   "metadata": {
    "ExecuteTime": {
     "end_time": "2021-09-30T16:39:08.208477Z",
     "start_time": "2021-09-30T16:39:08.195475Z"
    },
    "executionInfo": {
     "elapsed": 951,
     "status": "ok",
     "timestamp": 1608976176150,
     "user": {
      "displayName": "freeai time",
      "photoUrl": "https://lh3.googleusercontent.com/a-/AOh14GgxvlF_Oni7ZMdvrndxf2178ORhoNGeclnb7GQ6=s64",
      "userId": "11272871337215191422"
     },
     "user_tz": -330
    },
    "id": "0qZpm3dac2BQ"
   },
   "outputs": [],
   "source": [
    "df_test_ema['prediccion_3'] = 68104.352005"
   ]
  },
  {
   "cell_type": "code",
   "execution_count": null,
   "metadata": {
    "ExecuteTime": {
     "end_time": "2021-09-30T16:40:33.514910Z",
     "start_time": "2021-09-30T16:40:33.207841Z"
    },
    "colab": {
     "base_uri": "https://localhost:8080/",
     "height": 483
    },
    "executionInfo": {
     "elapsed": 1584,
     "status": "ok",
     "timestamp": 1608976348405,
     "user": {
      "displayName": "freeai time",
      "photoUrl": "https://lh3.googleusercontent.com/a-/AOh14GgxvlF_Oni7ZMdvrndxf2178ORhoNGeclnb7GQ6=s64",
      "userId": "11272871337215191422"
     },
     "user_tz": -330
    },
    "id": "v47RaYsRdBAY",
    "outputId": "7e2e07b1-3d21-4adb-d6ec-2e816831ab59"
   },
   "outputs": [],
   "source": [
    "error_0_3 = df_train_ema['pasajeros'] - df_train_ema['ajust_3']\n",
    "me_0_3 = 1.96*error_0_3.std()\n",
    "\n",
    "plt.figure(figsize=(15,8))\n",
    "plt.plot(df_train_ema['mes'],df_train_ema['pasajeros'],'bo:',markerfacecolor='w')\n",
    "\n",
    "plt.plot(df_train_ema['mes'],df_train_ema['ajust_3'],'s:',color='orange',markerfacecolor='w')\n",
    "\n",
    "plt.plot(df_test_ema['mes'],df_test_ema['pasajeros'],'go:',markerfacecolor='w')\n",
    "\n",
    "plt.plot(df_test_ema['mes'],df_test_ema['prediccion_3'],'s:',color='red',markerfacecolor='w')\n",
    "\n",
    "plt.fill_between(df_test_ema['mes'],(df_test_ema['prediccion_3']+me_0_3),\n",
    "                 (df_test_ema['prediccion_3']-me_0_3),alpha=0.1)\n",
    "plt.legend(['Datos de entrenamiento','Datos ajustados','Datos de validación','Predicción','Intervalo de confianza'])\n",
    "\n",
    "# start_date = datetime.datetime.strptime(\"2015-01-01\",\"%Y-%m-%d\")\n",
    "# end_date = datetime.datetime.strptime(\"2018-01-01\",\"%Y-%m-%d\")\n",
    "# plt.axis(xmin=start_date,\n",
    "#          xmax=end_date)\n",
    "\n",
    "plt.show()"
   ]
  },
  {
   "cell_type": "code",
   "execution_count": null,
   "metadata": {
    "id": "qyy333XmdbS9"
   },
   "outputs": [],
   "source": []
  }
 ],
 "metadata": {
  "colab": {
   "authorship_tag": "ABX9TyO6fu2g4zvkLeLZzf+qQpMy",
   "name": "SmoothingTechniques.ipynb",
   "provenance": []
  },
  "kernelspec": {
   "display_name": "Python 3",
   "language": "python",
   "name": "python3"
  },
  "language_info": {
   "codemirror_mode": {
    "name": "ipython",
    "version": 3
   },
   "file_extension": ".py",
   "mimetype": "text/x-python",
   "name": "python",
   "nbconvert_exporter": "python",
   "pygments_lexer": "ipython3",
   "version": "3.9.5"
  },
  "nbTranslate": {
   "displayLangs": [
    "*"
   ],
   "hotkey": "alt-t",
   "langInMainMenu": true,
   "sourceLang": "en",
   "targetLang": "fr",
   "useGoogleTranslate": true
  },
  "toc": {
   "base_numbering": 1,
   "nav_menu": {},
   "number_sections": true,
   "sideBar": true,
   "skip_h1_title": false,
   "title_cell": "Table of Contents",
   "title_sidebar": "Contents",
   "toc_cell": false,
   "toc_position": {},
   "toc_section_display": true,
   "toc_window_display": true
  },
  "varInspector": {
   "cols": {
    "lenName": 16,
    "lenType": 16,
    "lenVar": 40
   },
   "kernels_config": {
    "python": {
     "delete_cmd_postfix": "",
     "delete_cmd_prefix": "del ",
     "library": "var_list.py",
     "varRefreshCmd": "print(var_dic_list())"
    },
    "r": {
     "delete_cmd_postfix": ") ",
     "delete_cmd_prefix": "rm(",
     "library": "var_list.r",
     "varRefreshCmd": "cat(var_dic_list()) "
    }
   },
   "types_to_exclude": [
    "module",
    "function",
    "builtin_function_or_method",
    "instance",
    "_Feature"
   ],
   "window_display": false
  }
 },
 "nbformat": 4,
 "nbformat_minor": 1
}
